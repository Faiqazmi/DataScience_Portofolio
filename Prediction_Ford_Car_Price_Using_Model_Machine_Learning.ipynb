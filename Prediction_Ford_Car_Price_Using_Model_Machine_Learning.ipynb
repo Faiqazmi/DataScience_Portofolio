{
  "nbformat": 4,
  "nbformat_minor": 0,
  "metadata": {
    "colab": {
      "name": "Prediction Ford Car Price Using Model Machine Learning.ipynb",
      "provenance": [],
      "collapsed_sections": [
        "EsEgrfZmWBAl",
        "DIXXwW2aWZS-",
        "5UgJqFvVBK0e",
        "04qUg-OE8pdG",
        "NT0s4N3O_heF",
        "XOAbUysCDtLm",
        "8zUSt8qA_5-f"
      ]
    },
    "kernelspec": {
      "display_name": "Python 3",
      "name": "python3"
    },
    "language_info": {
      "name": "python"
    }
  },
  "cells": [
    {
      "cell_type": "markdown",
      "metadata": {
        "id": "rDhwAqeSEtc5"
      },
      "source": [
        "<h1> Prediction Ford Car Price Using Model Machine Learning Linear Regression<h1>"
      ]
    },
    {
      "cell_type": "markdown",
      "metadata": {
        "id": "6DoDP4JWzrdP"
      },
      "source": [
        "![image.png](data:image/png;base64,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)"
      ]
    },
    {
      "cell_type": "markdown",
      "metadata": {
        "id": "EsEgrfZmWBAl"
      },
      "source": [
        "# import library and dataset"
      ]
    },
    {
      "cell_type": "code",
      "metadata": {
        "id": "Q6rGQCIP_tAl"
      },
      "source": [
        "import pandas as pd\n",
        "import matplotlib.pyplot as plt\n",
        "import numpy as np\n",
        "import seaborn as sns\n",
        "from sklearn.model_selection import train_test_split\n",
        "from sklearn.ensemble import RandomForestRegressor\n",
        "from sklearn.metrics import r2_score,mean_squared_error\n",
        "import plotly.express as px\n",
        "import plotly.graph_objs as go\n",
        "from plotly.offline import download_plotlyjs, init_notebook_mode, plot, iplot\n",
        "\n",
        "\n"
      ],
      "execution_count": 17,
      "outputs": []
    },
    {
      "cell_type": "code",
      "metadata": {
        "colab": {
          "base_uri": "https://localhost:8080/",
          "height": 206
        },
        "id": "HWQigt1_AIPj",
        "outputId": "df4943c8-ecee-454e-f817-80002cf236a4"
      },
      "source": [
        "data = pd.read_csv(\"https://raw.githubusercontent.com/Faiqazmi/Dataset_latihan/main/ford.csv\")\n",
        "data.head()"
      ],
      "execution_count": 18,
      "outputs": [
        {
          "output_type": "execute_result",
          "data": {
            "text/html": [
              "\n",
              "  <div id=\"df-2ac0e4de-0caa-4738-abb1-e4678a32a31e\">\n",
              "    <div class=\"colab-df-container\">\n",
              "      <div>\n",
              "<style scoped>\n",
              "    .dataframe tbody tr th:only-of-type {\n",
              "        vertical-align: middle;\n",
              "    }\n",
              "\n",
              "    .dataframe tbody tr th {\n",
              "        vertical-align: top;\n",
              "    }\n",
              "\n",
              "    .dataframe thead th {\n",
              "        text-align: right;\n",
              "    }\n",
              "</style>\n",
              "<table border=\"1\" class=\"dataframe\">\n",
              "  <thead>\n",
              "    <tr style=\"text-align: right;\">\n",
              "      <th></th>\n",
              "      <th>model</th>\n",
              "      <th>year</th>\n",
              "      <th>price</th>\n",
              "      <th>transmission</th>\n",
              "      <th>mileage</th>\n",
              "      <th>fuelType</th>\n",
              "      <th>tax</th>\n",
              "      <th>mpg</th>\n",
              "      <th>engineSize</th>\n",
              "    </tr>\n",
              "  </thead>\n",
              "  <tbody>\n",
              "    <tr>\n",
              "      <th>0</th>\n",
              "      <td>Fiesta</td>\n",
              "      <td>2017</td>\n",
              "      <td>12000</td>\n",
              "      <td>Automatic</td>\n",
              "      <td>15944</td>\n",
              "      <td>Petrol</td>\n",
              "      <td>150</td>\n",
              "      <td>57.7</td>\n",
              "      <td>1.0</td>\n",
              "    </tr>\n",
              "    <tr>\n",
              "      <th>1</th>\n",
              "      <td>Focus</td>\n",
              "      <td>2018</td>\n",
              "      <td>14000</td>\n",
              "      <td>Manual</td>\n",
              "      <td>9083</td>\n",
              "      <td>Petrol</td>\n",
              "      <td>150</td>\n",
              "      <td>57.7</td>\n",
              "      <td>1.0</td>\n",
              "    </tr>\n",
              "    <tr>\n",
              "      <th>2</th>\n",
              "      <td>Focus</td>\n",
              "      <td>2017</td>\n",
              "      <td>13000</td>\n",
              "      <td>Manual</td>\n",
              "      <td>12456</td>\n",
              "      <td>Petrol</td>\n",
              "      <td>150</td>\n",
              "      <td>57.7</td>\n",
              "      <td>1.0</td>\n",
              "    </tr>\n",
              "    <tr>\n",
              "      <th>3</th>\n",
              "      <td>Fiesta</td>\n",
              "      <td>2019</td>\n",
              "      <td>17500</td>\n",
              "      <td>Manual</td>\n",
              "      <td>10460</td>\n",
              "      <td>Petrol</td>\n",
              "      <td>145</td>\n",
              "      <td>40.3</td>\n",
              "      <td>1.5</td>\n",
              "    </tr>\n",
              "    <tr>\n",
              "      <th>4</th>\n",
              "      <td>Fiesta</td>\n",
              "      <td>2019</td>\n",
              "      <td>16500</td>\n",
              "      <td>Automatic</td>\n",
              "      <td>1482</td>\n",
              "      <td>Petrol</td>\n",
              "      <td>145</td>\n",
              "      <td>48.7</td>\n",
              "      <td>1.0</td>\n",
              "    </tr>\n",
              "  </tbody>\n",
              "</table>\n",
              "</div>\n",
              "      <button class=\"colab-df-convert\" onclick=\"convertToInteractive('df-2ac0e4de-0caa-4738-abb1-e4678a32a31e')\"\n",
              "              title=\"Convert this dataframe to an interactive table.\"\n",
              "              style=\"display:none;\">\n",
              "        \n",
              "  <svg xmlns=\"http://www.w3.org/2000/svg\" height=\"24px\"viewBox=\"0 0 24 24\"\n",
              "       width=\"24px\">\n",
              "    <path d=\"M0 0h24v24H0V0z\" fill=\"none\"/>\n",
              "    <path d=\"M18.56 5.44l.94 2.06.94-2.06 2.06-.94-2.06-.94-.94-2.06-.94 2.06-2.06.94zm-11 1L8.5 8.5l.94-2.06 2.06-.94-2.06-.94L8.5 2.5l-.94 2.06-2.06.94zm10 10l.94 2.06.94-2.06 2.06-.94-2.06-.94-.94-2.06-.94 2.06-2.06.94z\"/><path d=\"M17.41 7.96l-1.37-1.37c-.4-.4-.92-.59-1.43-.59-.52 0-1.04.2-1.43.59L10.3 9.45l-7.72 7.72c-.78.78-.78 2.05 0 2.83L4 21.41c.39.39.9.59 1.41.59.51 0 1.02-.2 1.41-.59l7.78-7.78 2.81-2.81c.8-.78.8-2.07 0-2.86zM5.41 20L4 18.59l7.72-7.72 1.47 1.35L5.41 20z\"/>\n",
              "  </svg>\n",
              "      </button>\n",
              "      \n",
              "  <style>\n",
              "    .colab-df-container {\n",
              "      display:flex;\n",
              "      flex-wrap:wrap;\n",
              "      gap: 12px;\n",
              "    }\n",
              "\n",
              "    .colab-df-convert {\n",
              "      background-color: #E8F0FE;\n",
              "      border: none;\n",
              "      border-radius: 50%;\n",
              "      cursor: pointer;\n",
              "      display: none;\n",
              "      fill: #1967D2;\n",
              "      height: 32px;\n",
              "      padding: 0 0 0 0;\n",
              "      width: 32px;\n",
              "    }\n",
              "\n",
              "    .colab-df-convert:hover {\n",
              "      background-color: #E2EBFA;\n",
              "      box-shadow: 0px 1px 2px rgba(60, 64, 67, 0.3), 0px 1px 3px 1px rgba(60, 64, 67, 0.15);\n",
              "      fill: #174EA6;\n",
              "    }\n",
              "\n",
              "    [theme=dark] .colab-df-convert {\n",
              "      background-color: #3B4455;\n",
              "      fill: #D2E3FC;\n",
              "    }\n",
              "\n",
              "    [theme=dark] .colab-df-convert:hover {\n",
              "      background-color: #434B5C;\n",
              "      box-shadow: 0px 1px 3px 1px rgba(0, 0, 0, 0.15);\n",
              "      filter: drop-shadow(0px 1px 2px rgba(0, 0, 0, 0.3));\n",
              "      fill: #FFFFFF;\n",
              "    }\n",
              "  </style>\n",
              "\n",
              "      <script>\n",
              "        const buttonEl =\n",
              "          document.querySelector('#df-2ac0e4de-0caa-4738-abb1-e4678a32a31e button.colab-df-convert');\n",
              "        buttonEl.style.display =\n",
              "          google.colab.kernel.accessAllowed ? 'block' : 'none';\n",
              "\n",
              "        async function convertToInteractive(key) {\n",
              "          const element = document.querySelector('#df-2ac0e4de-0caa-4738-abb1-e4678a32a31e');\n",
              "          const dataTable =\n",
              "            await google.colab.kernel.invokeFunction('convertToInteractive',\n",
              "                                                     [key], {});\n",
              "          if (!dataTable) return;\n",
              "\n",
              "          const docLinkHtml = 'Like what you see? Visit the ' +\n",
              "            '<a target=\"_blank\" href=https://colab.research.google.com/notebooks/data_table.ipynb>data table notebook</a>'\n",
              "            + ' to learn more about interactive tables.';\n",
              "          element.innerHTML = '';\n",
              "          dataTable['output_type'] = 'display_data';\n",
              "          await google.colab.output.renderOutput(dataTable, element);\n",
              "          const docLink = document.createElement('div');\n",
              "          docLink.innerHTML = docLinkHtml;\n",
              "          element.appendChild(docLink);\n",
              "        }\n",
              "      </script>\n",
              "    </div>\n",
              "  </div>\n",
              "  "
            ],
            "text/plain": [
              "     model  year  price transmission  mileage fuelType  tax   mpg  engineSize\n",
              "0   Fiesta  2017  12000    Automatic    15944   Petrol  150  57.7         1.0\n",
              "1    Focus  2018  14000       Manual     9083   Petrol  150  57.7         1.0\n",
              "2    Focus  2017  13000       Manual    12456   Petrol  150  57.7         1.0\n",
              "3   Fiesta  2019  17500       Manual    10460   Petrol  145  40.3         1.5\n",
              "4   Fiesta  2019  16500    Automatic     1482   Petrol  145  48.7         1.0"
            ]
          },
          "metadata": {},
          "execution_count": 18
        }
      ]
    },
    {
      "cell_type": "markdown",
      "metadata": {
        "id": "DIXXwW2aWZS-"
      },
      "source": [
        "#  Exploratory data analysis"
      ]
    },
    {
      "cell_type": "code",
      "metadata": {
        "colab": {
          "base_uri": "https://localhost:8080/"
        },
        "id": "NfxQv_a8Hd05",
        "outputId": "54c78964-28e7-4d67-d252-192a66c09ed7"
      },
      "source": [
        "#data summary for price atribut \n",
        "\n",
        "data.price.describe()"
      ],
      "execution_count": 19,
      "outputs": [
        {
          "output_type": "execute_result",
          "data": {
            "text/plain": [
              "count    17965.000000\n",
              "mean     12279.756415\n",
              "std       4741.382606\n",
              "min        495.000000\n",
              "25%       8999.000000\n",
              "50%      11291.000000\n",
              "75%      15299.000000\n",
              "max      54995.000000\n",
              "Name: price, dtype: float64"
            ]
          },
          "metadata": {},
          "execution_count": 19
        }
      ]
    },
    {
      "cell_type": "code",
      "metadata": {
        "colab": {
          "base_uri": "https://localhost:8080/"
        },
        "id": "pEcUV17LY62o",
        "outputId": "ee0d52fd-d754-40fa-b2eb-d373bba072fa"
      },
      "source": [
        "data.shape"
      ],
      "execution_count": 20,
      "outputs": [
        {
          "output_type": "execute_result",
          "data": {
            "text/plain": [
              "(17965, 9)"
            ]
          },
          "metadata": {},
          "execution_count": 20
        }
      ]
    },
    {
      "cell_type": "code",
      "metadata": {
        "colab": {
          "base_uri": "https://localhost:8080/",
          "height": 362
        },
        "id": "j0gtLpgsIp3u",
        "outputId": "610f99c8-1f70-4834-8b74-42eab9b6788d"
      },
      "source": [
        "# sort start from 10 high price\n",
        "dt = data.sort_values('year', ascending=True).head(10)\n",
        "dt"
      ],
      "execution_count": 21,
      "outputs": [
        {
          "output_type": "execute_result",
          "data": {
            "text/html": [
              "\n",
              "  <div id=\"df-c3b9ca7f-54d1-476e-888c-832c08ff9265\">\n",
              "    <div class=\"colab-df-container\">\n",
              "      <div>\n",
              "<style scoped>\n",
              "    .dataframe tbody tr th:only-of-type {\n",
              "        vertical-align: middle;\n",
              "    }\n",
              "\n",
              "    .dataframe tbody tr th {\n",
              "        vertical-align: top;\n",
              "    }\n",
              "\n",
              "    .dataframe thead th {\n",
              "        text-align: right;\n",
              "    }\n",
              "</style>\n",
              "<table border=\"1\" class=\"dataframe\">\n",
              "  <thead>\n",
              "    <tr style=\"text-align: right;\">\n",
              "      <th></th>\n",
              "      <th>model</th>\n",
              "      <th>year</th>\n",
              "      <th>price</th>\n",
              "      <th>transmission</th>\n",
              "      <th>mileage</th>\n",
              "      <th>fuelType</th>\n",
              "      <th>tax</th>\n",
              "      <th>mpg</th>\n",
              "      <th>engineSize</th>\n",
              "    </tr>\n",
              "  </thead>\n",
              "  <tbody>\n",
              "    <tr>\n",
              "      <th>16878</th>\n",
              "      <td>Escort</td>\n",
              "      <td>1996</td>\n",
              "      <td>3000</td>\n",
              "      <td>Manual</td>\n",
              "      <td>50000</td>\n",
              "      <td>Petrol</td>\n",
              "      <td>265</td>\n",
              "      <td>34.4</td>\n",
              "      <td>1.8</td>\n",
              "    </tr>\n",
              "    <tr>\n",
              "      <th>13544</th>\n",
              "      <td>Fiesta</td>\n",
              "      <td>1998</td>\n",
              "      <td>2699</td>\n",
              "      <td>Manual</td>\n",
              "      <td>37000</td>\n",
              "      <td>Petrol</td>\n",
              "      <td>160</td>\n",
              "      <td>41.5</td>\n",
              "      <td>1.2</td>\n",
              "    </tr>\n",
              "    <tr>\n",
              "      <th>17282</th>\n",
              "      <td>Fiesta</td>\n",
              "      <td>2000</td>\n",
              "      <td>1995</td>\n",
              "      <td>Manual</td>\n",
              "      <td>43000</td>\n",
              "      <td>Petrol</td>\n",
              "      <td>160</td>\n",
              "      <td>41.5</td>\n",
              "      <td>1.3</td>\n",
              "    </tr>\n",
              "    <tr>\n",
              "      <th>16899</th>\n",
              "      <td>Puma</td>\n",
              "      <td>2002</td>\n",
              "      <td>2195</td>\n",
              "      <td>Manual</td>\n",
              "      <td>108000</td>\n",
              "      <td>Petrol</td>\n",
              "      <td>230</td>\n",
              "      <td>38.2</td>\n",
              "      <td>1.7</td>\n",
              "    </tr>\n",
              "    <tr>\n",
              "      <th>16900</th>\n",
              "      <td>Puma</td>\n",
              "      <td>2002</td>\n",
              "      <td>2695</td>\n",
              "      <td>Manual</td>\n",
              "      <td>69000</td>\n",
              "      <td>Petrol</td>\n",
              "      <td>220</td>\n",
              "      <td>38.7</td>\n",
              "      <td>1.6</td>\n",
              "    </tr>\n",
              "    <tr>\n",
              "      <th>14367</th>\n",
              "      <td>Mondeo</td>\n",
              "      <td>2002</td>\n",
              "      <td>895</td>\n",
              "      <td>Manual</td>\n",
              "      <td>136784</td>\n",
              "      <td>Petrol</td>\n",
              "      <td>300</td>\n",
              "      <td>36.2</td>\n",
              "      <td>1.8</td>\n",
              "    </tr>\n",
              "    <tr>\n",
              "      <th>16819</th>\n",
              "      <td>Focus</td>\n",
              "      <td>2003</td>\n",
              "      <td>3999</td>\n",
              "      <td>Manual</td>\n",
              "      <td>56064</td>\n",
              "      <td>Petrol</td>\n",
              "      <td>325</td>\n",
              "      <td>31.0</td>\n",
              "      <td>2.0</td>\n",
              "    </tr>\n",
              "    <tr>\n",
              "      <th>16970</th>\n",
              "      <td>Focus</td>\n",
              "      <td>2003</td>\n",
              "      <td>1695</td>\n",
              "      <td>Manual</td>\n",
              "      <td>89630</td>\n",
              "      <td>Petrol</td>\n",
              "      <td>200</td>\n",
              "      <td>40.9</td>\n",
              "      <td>1.6</td>\n",
              "    </tr>\n",
              "    <tr>\n",
              "      <th>17103</th>\n",
              "      <td>Focus</td>\n",
              "      <td>2003</td>\n",
              "      <td>495</td>\n",
              "      <td>Manual</td>\n",
              "      <td>177644</td>\n",
              "      <td>Petrol</td>\n",
              "      <td>200</td>\n",
              "      <td>41.5</td>\n",
              "      <td>1.6</td>\n",
              "    </tr>\n",
              "    <tr>\n",
              "      <th>16976</th>\n",
              "      <td>Fiesta</td>\n",
              "      <td>2004</td>\n",
              "      <td>2295</td>\n",
              "      <td>Manual</td>\n",
              "      <td>88936</td>\n",
              "      <td>Petrol</td>\n",
              "      <td>200</td>\n",
              "      <td>44.1</td>\n",
              "      <td>1.4</td>\n",
              "    </tr>\n",
              "  </tbody>\n",
              "</table>\n",
              "</div>\n",
              "      <button class=\"colab-df-convert\" onclick=\"convertToInteractive('df-c3b9ca7f-54d1-476e-888c-832c08ff9265')\"\n",
              "              title=\"Convert this dataframe to an interactive table.\"\n",
              "              style=\"display:none;\">\n",
              "        \n",
              "  <svg xmlns=\"http://www.w3.org/2000/svg\" height=\"24px\"viewBox=\"0 0 24 24\"\n",
              "       width=\"24px\">\n",
              "    <path d=\"M0 0h24v24H0V0z\" fill=\"none\"/>\n",
              "    <path d=\"M18.56 5.44l.94 2.06.94-2.06 2.06-.94-2.06-.94-.94-2.06-.94 2.06-2.06.94zm-11 1L8.5 8.5l.94-2.06 2.06-.94-2.06-.94L8.5 2.5l-.94 2.06-2.06.94zm10 10l.94 2.06.94-2.06 2.06-.94-2.06-.94-.94-2.06-.94 2.06-2.06.94z\"/><path d=\"M17.41 7.96l-1.37-1.37c-.4-.4-.92-.59-1.43-.59-.52 0-1.04.2-1.43.59L10.3 9.45l-7.72 7.72c-.78.78-.78 2.05 0 2.83L4 21.41c.39.39.9.59 1.41.59.51 0 1.02-.2 1.41-.59l7.78-7.78 2.81-2.81c.8-.78.8-2.07 0-2.86zM5.41 20L4 18.59l7.72-7.72 1.47 1.35L5.41 20z\"/>\n",
              "  </svg>\n",
              "      </button>\n",
              "      \n",
              "  <style>\n",
              "    .colab-df-container {\n",
              "      display:flex;\n",
              "      flex-wrap:wrap;\n",
              "      gap: 12px;\n",
              "    }\n",
              "\n",
              "    .colab-df-convert {\n",
              "      background-color: #E8F0FE;\n",
              "      border: none;\n",
              "      border-radius: 50%;\n",
              "      cursor: pointer;\n",
              "      display: none;\n",
              "      fill: #1967D2;\n",
              "      height: 32px;\n",
              "      padding: 0 0 0 0;\n",
              "      width: 32px;\n",
              "    }\n",
              "\n",
              "    .colab-df-convert:hover {\n",
              "      background-color: #E2EBFA;\n",
              "      box-shadow: 0px 1px 2px rgba(60, 64, 67, 0.3), 0px 1px 3px 1px rgba(60, 64, 67, 0.15);\n",
              "      fill: #174EA6;\n",
              "    }\n",
              "\n",
              "    [theme=dark] .colab-df-convert {\n",
              "      background-color: #3B4455;\n",
              "      fill: #D2E3FC;\n",
              "    }\n",
              "\n",
              "    [theme=dark] .colab-df-convert:hover {\n",
              "      background-color: #434B5C;\n",
              "      box-shadow: 0px 1px 3px 1px rgba(0, 0, 0, 0.15);\n",
              "      filter: drop-shadow(0px 1px 2px rgba(0, 0, 0, 0.3));\n",
              "      fill: #FFFFFF;\n",
              "    }\n",
              "  </style>\n",
              "\n",
              "      <script>\n",
              "        const buttonEl =\n",
              "          document.querySelector('#df-c3b9ca7f-54d1-476e-888c-832c08ff9265 button.colab-df-convert');\n",
              "        buttonEl.style.display =\n",
              "          google.colab.kernel.accessAllowed ? 'block' : 'none';\n",
              "\n",
              "        async function convertToInteractive(key) {\n",
              "          const element = document.querySelector('#df-c3b9ca7f-54d1-476e-888c-832c08ff9265');\n",
              "          const dataTable =\n",
              "            await google.colab.kernel.invokeFunction('convertToInteractive',\n",
              "                                                     [key], {});\n",
              "          if (!dataTable) return;\n",
              "\n",
              "          const docLinkHtml = 'Like what you see? Visit the ' +\n",
              "            '<a target=\"_blank\" href=https://colab.research.google.com/notebooks/data_table.ipynb>data table notebook</a>'\n",
              "            + ' to learn more about interactive tables.';\n",
              "          element.innerHTML = '';\n",
              "          dataTable['output_type'] = 'display_data';\n",
              "          await google.colab.output.renderOutput(dataTable, element);\n",
              "          const docLink = document.createElement('div');\n",
              "          docLink.innerHTML = docLinkHtml;\n",
              "          element.appendChild(docLink);\n",
              "        }\n",
              "      </script>\n",
              "    </div>\n",
              "  </div>\n",
              "  "
            ],
            "text/plain": [
              "         model  year  price transmission  ...  fuelType  tax   mpg  engineSize\n",
              "16878   Escort  1996   3000       Manual  ...    Petrol  265  34.4         1.8\n",
              "13544   Fiesta  1998   2699       Manual  ...    Petrol  160  41.5         1.2\n",
              "17282   Fiesta  2000   1995       Manual  ...    Petrol  160  41.5         1.3\n",
              "16899     Puma  2002   2195       Manual  ...    Petrol  230  38.2         1.7\n",
              "16900     Puma  2002   2695       Manual  ...    Petrol  220  38.7         1.6\n",
              "14367   Mondeo  2002    895       Manual  ...    Petrol  300  36.2         1.8\n",
              "16819    Focus  2003   3999       Manual  ...    Petrol  325  31.0         2.0\n",
              "16970    Focus  2003   1695       Manual  ...    Petrol  200  40.9         1.6\n",
              "17103    Focus  2003    495       Manual  ...    Petrol  200  41.5         1.6\n",
              "16976   Fiesta  2004   2295       Manual  ...    Petrol  200  44.1         1.4\n",
              "\n",
              "[10 rows x 9 columns]"
            ]
          },
          "metadata": {},
          "execution_count": 21
        }
      ]
    },
    {
      "cell_type": "code",
      "metadata": {
        "id": "QQL9c_OjXFPI"
      },
      "source": [
        "data = data.drop(index=[17726,16878,13544])"
      ],
      "execution_count": 22,
      "outputs": []
    },
    {
      "cell_type": "code",
      "metadata": {
        "colab": {
          "base_uri": "https://localhost:8080/",
          "height": 362
        },
        "id": "0s5NjqQNbNys",
        "outputId": "78f6949d-2c65-4f61-bdfd-85d3d0b14741"
      },
      "source": [
        "data['total'] =\"\"\n",
        "tbl_seg_cat = data.groupby(['year',\"transmission\"]).agg({'price':'sum'})\n",
        "tbl_seg_cat = tbl_seg_cat.reset_index()\n",
        "tbl_seg_cat.head(10)"
      ],
      "execution_count": 23,
      "outputs": [
        {
          "output_type": "execute_result",
          "data": {
            "text/html": [
              "\n",
              "  <div id=\"df-88425181-e587-4afb-9a67-2abaa447d993\">\n",
              "    <div class=\"colab-df-container\">\n",
              "      <div>\n",
              "<style scoped>\n",
              "    .dataframe tbody tr th:only-of-type {\n",
              "        vertical-align: middle;\n",
              "    }\n",
              "\n",
              "    .dataframe tbody tr th {\n",
              "        vertical-align: top;\n",
              "    }\n",
              "\n",
              "    .dataframe thead th {\n",
              "        text-align: right;\n",
              "    }\n",
              "</style>\n",
              "<table border=\"1\" class=\"dataframe\">\n",
              "  <thead>\n",
              "    <tr style=\"text-align: right;\">\n",
              "      <th></th>\n",
              "      <th>year</th>\n",
              "      <th>transmission</th>\n",
              "      <th>price</th>\n",
              "    </tr>\n",
              "  </thead>\n",
              "  <tbody>\n",
              "    <tr>\n",
              "      <th>0</th>\n",
              "      <td>2000</td>\n",
              "      <td>Manual</td>\n",
              "      <td>1995</td>\n",
              "    </tr>\n",
              "    <tr>\n",
              "      <th>1</th>\n",
              "      <td>2002</td>\n",
              "      <td>Manual</td>\n",
              "      <td>5785</td>\n",
              "    </tr>\n",
              "    <tr>\n",
              "      <th>2</th>\n",
              "      <td>2003</td>\n",
              "      <td>Manual</td>\n",
              "      <td>6189</td>\n",
              "    </tr>\n",
              "    <tr>\n",
              "      <th>3</th>\n",
              "      <td>2004</td>\n",
              "      <td>Automatic</td>\n",
              "      <td>1500</td>\n",
              "    </tr>\n",
              "    <tr>\n",
              "      <th>4</th>\n",
              "      <td>2004</td>\n",
              "      <td>Manual</td>\n",
              "      <td>4244</td>\n",
              "    </tr>\n",
              "    <tr>\n",
              "      <th>5</th>\n",
              "      <td>2005</td>\n",
              "      <td>Automatic</td>\n",
              "      <td>3970</td>\n",
              "    </tr>\n",
              "    <tr>\n",
              "      <th>6</th>\n",
              "      <td>2005</td>\n",
              "      <td>Manual</td>\n",
              "      <td>21518</td>\n",
              "    </tr>\n",
              "    <tr>\n",
              "      <th>7</th>\n",
              "      <td>2006</td>\n",
              "      <td>Automatic</td>\n",
              "      <td>2495</td>\n",
              "    </tr>\n",
              "    <tr>\n",
              "      <th>8</th>\n",
              "      <td>2006</td>\n",
              "      <td>Manual</td>\n",
              "      <td>26139</td>\n",
              "    </tr>\n",
              "    <tr>\n",
              "      <th>9</th>\n",
              "      <td>2007</td>\n",
              "      <td>Automatic</td>\n",
              "      <td>5694</td>\n",
              "    </tr>\n",
              "  </tbody>\n",
              "</table>\n",
              "</div>\n",
              "      <button class=\"colab-df-convert\" onclick=\"convertToInteractive('df-88425181-e587-4afb-9a67-2abaa447d993')\"\n",
              "              title=\"Convert this dataframe to an interactive table.\"\n",
              "              style=\"display:none;\">\n",
              "        \n",
              "  <svg xmlns=\"http://www.w3.org/2000/svg\" height=\"24px\"viewBox=\"0 0 24 24\"\n",
              "       width=\"24px\">\n",
              "    <path d=\"M0 0h24v24H0V0z\" fill=\"none\"/>\n",
              "    <path d=\"M18.56 5.44l.94 2.06.94-2.06 2.06-.94-2.06-.94-.94-2.06-.94 2.06-2.06.94zm-11 1L8.5 8.5l.94-2.06 2.06-.94-2.06-.94L8.5 2.5l-.94 2.06-2.06.94zm10 10l.94 2.06.94-2.06 2.06-.94-2.06-.94-.94-2.06-.94 2.06-2.06.94z\"/><path d=\"M17.41 7.96l-1.37-1.37c-.4-.4-.92-.59-1.43-.59-.52 0-1.04.2-1.43.59L10.3 9.45l-7.72 7.72c-.78.78-.78 2.05 0 2.83L4 21.41c.39.39.9.59 1.41.59.51 0 1.02-.2 1.41-.59l7.78-7.78 2.81-2.81c.8-.78.8-2.07 0-2.86zM5.41 20L4 18.59l7.72-7.72 1.47 1.35L5.41 20z\"/>\n",
              "  </svg>\n",
              "      </button>\n",
              "      \n",
              "  <style>\n",
              "    .colab-df-container {\n",
              "      display:flex;\n",
              "      flex-wrap:wrap;\n",
              "      gap: 12px;\n",
              "    }\n",
              "\n",
              "    .colab-df-convert {\n",
              "      background-color: #E8F0FE;\n",
              "      border: none;\n",
              "      border-radius: 50%;\n",
              "      cursor: pointer;\n",
              "      display: none;\n",
              "      fill: #1967D2;\n",
              "      height: 32px;\n",
              "      padding: 0 0 0 0;\n",
              "      width: 32px;\n",
              "    }\n",
              "\n",
              "    .colab-df-convert:hover {\n",
              "      background-color: #E2EBFA;\n",
              "      box-shadow: 0px 1px 2px rgba(60, 64, 67, 0.3), 0px 1px 3px 1px rgba(60, 64, 67, 0.15);\n",
              "      fill: #174EA6;\n",
              "    }\n",
              "\n",
              "    [theme=dark] .colab-df-convert {\n",
              "      background-color: #3B4455;\n",
              "      fill: #D2E3FC;\n",
              "    }\n",
              "\n",
              "    [theme=dark] .colab-df-convert:hover {\n",
              "      background-color: #434B5C;\n",
              "      box-shadow: 0px 1px 3px 1px rgba(0, 0, 0, 0.15);\n",
              "      filter: drop-shadow(0px 1px 2px rgba(0, 0, 0, 0.3));\n",
              "      fill: #FFFFFF;\n",
              "    }\n",
              "  </style>\n",
              "\n",
              "      <script>\n",
              "        const buttonEl =\n",
              "          document.querySelector('#df-88425181-e587-4afb-9a67-2abaa447d993 button.colab-df-convert');\n",
              "        buttonEl.style.display =\n",
              "          google.colab.kernel.accessAllowed ? 'block' : 'none';\n",
              "\n",
              "        async function convertToInteractive(key) {\n",
              "          const element = document.querySelector('#df-88425181-e587-4afb-9a67-2abaa447d993');\n",
              "          const dataTable =\n",
              "            await google.colab.kernel.invokeFunction('convertToInteractive',\n",
              "                                                     [key], {});\n",
              "          if (!dataTable) return;\n",
              "\n",
              "          const docLinkHtml = 'Like what you see? Visit the ' +\n",
              "            '<a target=\"_blank\" href=https://colab.research.google.com/notebooks/data_table.ipynb>data table notebook</a>'\n",
              "            + ' to learn more about interactive tables.';\n",
              "          element.innerHTML = '';\n",
              "          dataTable['output_type'] = 'display_data';\n",
              "          await google.colab.output.renderOutput(dataTable, element);\n",
              "          const docLink = document.createElement('div');\n",
              "          docLink.innerHTML = docLinkHtml;\n",
              "          element.appendChild(docLink);\n",
              "        }\n",
              "      </script>\n",
              "    </div>\n",
              "  </div>\n",
              "  "
            ],
            "text/plain": [
              "   year transmission  price\n",
              "0  2000       Manual   1995\n",
              "1  2002       Manual   5785\n",
              "2  2003       Manual   6189\n",
              "3  2004    Automatic   1500\n",
              "4  2004       Manual   4244\n",
              "5  2005    Automatic   3970\n",
              "6  2005       Manual  21518\n",
              "7  2006    Automatic   2495\n",
              "8  2006       Manual  26139\n",
              "9  2007    Automatic   5694"
            ]
          },
          "metadata": {},
          "execution_count": 23
        }
      ]
    },
    {
      "cell_type": "code",
      "metadata": {
        "colab": {
          "base_uri": "https://localhost:8080/"
        },
        "id": "4eyoy1VTMxVj",
        "outputId": "73c6485b-8906-46f4-a791-c03aa2cfe89d"
      },
      "source": [
        "tbl_seg_cat['transmission'].unique()"
      ],
      "execution_count": 24,
      "outputs": [
        {
          "output_type": "execute_result",
          "data": {
            "text/plain": [
              "array(['Manual', 'Automatic', 'Semi-Auto'], dtype=object)"
            ]
          },
          "metadata": {},
          "execution_count": 24
        }
      ]
    },
    {
      "cell_type": "code",
      "metadata": {
        "id": "Txm27sIkbNv4"
      },
      "source": [
        "data_01= go.Scatter(\n",
        "          x= tbl_seg_cat[tbl_seg_cat.transmission== \"Manual\"].year,\n",
        "          y= tbl_seg_cat[tbl_seg_cat.transmission== \"Manual\"].price, name= \"Manual\",\n",
        "          mode=\"lines+markers\" \n",
        "       )\n",
        "   \n",
        "data_02= go.Scatter(\n",
        "          x= tbl_seg_cat[tbl_seg_cat.transmission== \"Automatic\"].year,\n",
        "          y= tbl_seg_cat[tbl_seg_cat.transmission== \"Automatic\"].price, name= \"Automotic\",\n",
        "          mode=\"lines+markers\" \n",
        "       )\n",
        "\n",
        "data_03= go.Scatter(\n",
        "          x= tbl_seg_cat[tbl_seg_cat.transmission== \"Semi-Auto\"].year,\n",
        "          y= tbl_seg_cat[tbl_seg_cat.transmission== \"Semi-Auto\"].price, name= \"Semi-Auto\",\n",
        "          mode=\"lines+markers\" \n",
        "       )"
      ],
      "execution_count": 25,
      "outputs": []
    },
    {
      "cell_type": "code",
      "metadata": {
        "id": "jBibPj6bPfp3"
      },
      "source": [
        "datas = [data_01,data_02,data_03]"
      ],
      "execution_count": 26,
      "outputs": []
    },
    {
      "cell_type": "code",
      "metadata": {
        "colab": {
          "base_uri": "https://localhost:8080/",
          "height": 542
        },
        "id": "l-QzvEA3Pgaj",
        "outputId": "350413ce-c965-4782-e451-0802f195a6c9"
      },
      "source": [
        "fig = go.Figure(data=datas, layout_title_text=\"Perbandingan jumlah angka bunuh diri pertahun bedasarkan Gender ( Informatif)\")\n",
        "iplot(fig)"
      ],
      "execution_count": 27,
      "outputs": [
        {
          "output_type": "display_data",
          "data": {
            "text/html": [
              "<html>\n",
              "<head><meta charset=\"utf-8\" /></head>\n",
              "<body>\n",
              "    <div>\n",
              "            <script src=\"https://cdnjs.cloudflare.com/ajax/libs/mathjax/2.7.5/MathJax.js?config=TeX-AMS-MML_SVG\"></script><script type=\"text/javascript\">if (window.MathJax) {MathJax.Hub.Config({SVG: {font: \"STIX-Web\"}});}</script>\n",
              "                <script type=\"text/javascript\">window.PlotlyConfig = {MathJaxConfig: 'local'};</script>\n",
              "        <script src=\"https://cdn.plot.ly/plotly-latest.min.js\"></script>    \n",
              "            <div id=\"8f6d0401-6ad4-4605-80b4-cf7f427949b1\" class=\"plotly-graph-div\" style=\"height:525px; width:100%;\"></div>\n",
              "            <script type=\"text/javascript\">\n",
              "                \n",
              "                    window.PLOTLYENV=window.PLOTLYENV || {};\n",
              "                    \n",
              "                if (document.getElementById(\"8f6d0401-6ad4-4605-80b4-cf7f427949b1\")) {\n",
              "                    Plotly.newPlot(\n",
              "                        '8f6d0401-6ad4-4605-80b4-cf7f427949b1',\n",
              "                        [{\"mode\": \"lines+markers\", \"name\": \"Manual\", \"type\": \"scatter\", \"x\": [2000, 2002, 2003, 2004, 2005, 2006, 2007, 2008, 2009, 2010, 2011, 2012, 2013, 2014, 2015, 2016, 2017, 2018, 2019, 2020], \"y\": [1995, 5785, 6189, 4244, 21518, 26139, 77620, 124918, 301886, 242496, 403220, 589391, 3479327, 5304313, 10532506, 19935248, 48694911, 46210512, 42800895, 4215256]}, {\"mode\": \"lines+markers\", \"name\": \"Automotic\", \"type\": \"scatter\", \"x\": [2004, 2005, 2006, 2007, 2008, 2009, 2010, 2011, 2012, 2013, 2014, 2015, 2016, 2017, 2018, 2019, 2020], \"y\": [1500, 3970, 2495, 5694, 23219, 36609, 29407, 68893, 47926, 275613, 359517, 820872, 2891029, 4390042, 3629016, 8033131, 779338]}, {\"mode\": \"lines+markers\", \"name\": \"Semi-Auto\", \"type\": \"scatter\", \"x\": [2012, 2013, 2014, 2015, 2016, 2017, 2018, 2019, 2020], \"y\": [15990, 327760, 407379, 646378, 2035397, 5403339, 2976261, 4027553, 376933]}],\n",
              "                        {\"template\": {\"data\": {\"bar\": [{\"error_x\": {\"color\": \"#2a3f5f\"}, \"error_y\": {\"color\": \"#2a3f5f\"}, \"marker\": {\"line\": {\"color\": \"#E5ECF6\", \"width\": 0.5}}, \"type\": \"bar\"}], \"barpolar\": [{\"marker\": {\"line\": {\"color\": \"#E5ECF6\", \"width\": 0.5}}, \"type\": \"barpolar\"}], \"carpet\": [{\"aaxis\": {\"endlinecolor\": \"#2a3f5f\", \"gridcolor\": \"white\", \"linecolor\": \"white\", \"minorgridcolor\": \"white\", \"startlinecolor\": \"#2a3f5f\"}, \"baxis\": {\"endlinecolor\": \"#2a3f5f\", \"gridcolor\": \"white\", \"linecolor\": \"white\", \"minorgridcolor\": \"white\", \"startlinecolor\": \"#2a3f5f\"}, \"type\": \"carpet\"}], \"choropleth\": [{\"colorbar\": {\"outlinewidth\": 0, \"ticks\": \"\"}, \"type\": \"choropleth\"}], \"contour\": [{\"colorbar\": {\"outlinewidth\": 0, \"ticks\": \"\"}, \"colorscale\": [[0.0, \"#0d0887\"], [0.1111111111111111, \"#46039f\"], [0.2222222222222222, \"#7201a8\"], [0.3333333333333333, \"#9c179e\"], [0.4444444444444444, \"#bd3786\"], [0.5555555555555556, \"#d8576b\"], [0.6666666666666666, \"#ed7953\"], [0.7777777777777778, \"#fb9f3a\"], [0.8888888888888888, \"#fdca26\"], [1.0, \"#f0f921\"]], \"type\": \"contour\"}], \"contourcarpet\": [{\"colorbar\": {\"outlinewidth\": 0, \"ticks\": \"\"}, \"type\": \"contourcarpet\"}], \"heatmap\": [{\"colorbar\": {\"outlinewidth\": 0, \"ticks\": \"\"}, \"colorscale\": [[0.0, \"#0d0887\"], [0.1111111111111111, \"#46039f\"], [0.2222222222222222, \"#7201a8\"], [0.3333333333333333, \"#9c179e\"], [0.4444444444444444, \"#bd3786\"], [0.5555555555555556, \"#d8576b\"], [0.6666666666666666, \"#ed7953\"], [0.7777777777777778, \"#fb9f3a\"], [0.8888888888888888, \"#fdca26\"], [1.0, \"#f0f921\"]], \"type\": \"heatmap\"}], \"heatmapgl\": [{\"colorbar\": {\"outlinewidth\": 0, \"ticks\": \"\"}, \"colorscale\": [[0.0, \"#0d0887\"], [0.1111111111111111, \"#46039f\"], [0.2222222222222222, \"#7201a8\"], [0.3333333333333333, \"#9c179e\"], [0.4444444444444444, \"#bd3786\"], [0.5555555555555556, \"#d8576b\"], [0.6666666666666666, \"#ed7953\"], [0.7777777777777778, \"#fb9f3a\"], [0.8888888888888888, \"#fdca26\"], [1.0, \"#f0f921\"]], \"type\": \"heatmapgl\"}], \"histogram\": [{\"marker\": {\"colorbar\": {\"outlinewidth\": 0, \"ticks\": \"\"}}, \"type\": \"histogram\"}], \"histogram2d\": [{\"colorbar\": {\"outlinewidth\": 0, \"ticks\": \"\"}, \"colorscale\": [[0.0, \"#0d0887\"], [0.1111111111111111, \"#46039f\"], [0.2222222222222222, \"#7201a8\"], [0.3333333333333333, \"#9c179e\"], [0.4444444444444444, \"#bd3786\"], [0.5555555555555556, \"#d8576b\"], [0.6666666666666666, \"#ed7953\"], [0.7777777777777778, \"#fb9f3a\"], [0.8888888888888888, \"#fdca26\"], [1.0, \"#f0f921\"]], \"type\": \"histogram2d\"}], \"histogram2dcontour\": [{\"colorbar\": {\"outlinewidth\": 0, \"ticks\": \"\"}, \"colorscale\": [[0.0, \"#0d0887\"], [0.1111111111111111, \"#46039f\"], [0.2222222222222222, \"#7201a8\"], [0.3333333333333333, \"#9c179e\"], [0.4444444444444444, \"#bd3786\"], [0.5555555555555556, \"#d8576b\"], [0.6666666666666666, \"#ed7953\"], [0.7777777777777778, \"#fb9f3a\"], [0.8888888888888888, \"#fdca26\"], [1.0, \"#f0f921\"]], \"type\": \"histogram2dcontour\"}], \"mesh3d\": [{\"colorbar\": {\"outlinewidth\": 0, \"ticks\": \"\"}, \"type\": \"mesh3d\"}], \"parcoords\": [{\"line\": {\"colorbar\": {\"outlinewidth\": 0, \"ticks\": \"\"}}, \"type\": \"parcoords\"}], \"pie\": [{\"automargin\": true, \"type\": \"pie\"}], \"scatter\": [{\"marker\": {\"colorbar\": {\"outlinewidth\": 0, \"ticks\": \"\"}}, \"type\": \"scatter\"}], \"scatter3d\": [{\"line\": {\"colorbar\": {\"outlinewidth\": 0, \"ticks\": \"\"}}, \"marker\": {\"colorbar\": {\"outlinewidth\": 0, \"ticks\": \"\"}}, \"type\": \"scatter3d\"}], \"scattercarpet\": [{\"marker\": {\"colorbar\": {\"outlinewidth\": 0, \"ticks\": \"\"}}, \"type\": \"scattercarpet\"}], \"scattergeo\": [{\"marker\": {\"colorbar\": {\"outlinewidth\": 0, \"ticks\": \"\"}}, \"type\": \"scattergeo\"}], \"scattergl\": [{\"marker\": {\"colorbar\": {\"outlinewidth\": 0, \"ticks\": \"\"}}, \"type\": \"scattergl\"}], \"scattermapbox\": [{\"marker\": {\"colorbar\": {\"outlinewidth\": 0, \"ticks\": \"\"}}, \"type\": \"scattermapbox\"}], \"scatterpolar\": [{\"marker\": {\"colorbar\": {\"outlinewidth\": 0, \"ticks\": \"\"}}, \"type\": \"scatterpolar\"}], \"scatterpolargl\": [{\"marker\": {\"colorbar\": {\"outlinewidth\": 0, \"ticks\": \"\"}}, \"type\": \"scatterpolargl\"}], \"scatterternary\": [{\"marker\": {\"colorbar\": {\"outlinewidth\": 0, \"ticks\": \"\"}}, \"type\": \"scatterternary\"}], \"surface\": [{\"colorbar\": {\"outlinewidth\": 0, \"ticks\": \"\"}, \"colorscale\": [[0.0, \"#0d0887\"], [0.1111111111111111, \"#46039f\"], [0.2222222222222222, \"#7201a8\"], [0.3333333333333333, \"#9c179e\"], [0.4444444444444444, \"#bd3786\"], [0.5555555555555556, \"#d8576b\"], [0.6666666666666666, \"#ed7953\"], [0.7777777777777778, \"#fb9f3a\"], [0.8888888888888888, \"#fdca26\"], [1.0, \"#f0f921\"]], \"type\": \"surface\"}], \"table\": [{\"cells\": {\"fill\": {\"color\": \"#EBF0F8\"}, \"line\": {\"color\": \"white\"}}, \"header\": {\"fill\": {\"color\": \"#C8D4E3\"}, \"line\": {\"color\": \"white\"}}, \"type\": \"table\"}]}, \"layout\": {\"annotationdefaults\": {\"arrowcolor\": \"#2a3f5f\", \"arrowhead\": 0, \"arrowwidth\": 1}, \"coloraxis\": {\"colorbar\": {\"outlinewidth\": 0, \"ticks\": \"\"}}, \"colorscale\": {\"diverging\": [[0, \"#8e0152\"], [0.1, \"#c51b7d\"], [0.2, \"#de77ae\"], [0.3, \"#f1b6da\"], [0.4, \"#fde0ef\"], [0.5, \"#f7f7f7\"], [0.6, \"#e6f5d0\"], [0.7, \"#b8e186\"], [0.8, \"#7fbc41\"], [0.9, \"#4d9221\"], [1, \"#276419\"]], \"sequential\": [[0.0, \"#0d0887\"], [0.1111111111111111, \"#46039f\"], [0.2222222222222222, \"#7201a8\"], [0.3333333333333333, \"#9c179e\"], [0.4444444444444444, \"#bd3786\"], [0.5555555555555556, \"#d8576b\"], [0.6666666666666666, \"#ed7953\"], [0.7777777777777778, \"#fb9f3a\"], [0.8888888888888888, \"#fdca26\"], [1.0, \"#f0f921\"]], \"sequentialminus\": [[0.0, \"#0d0887\"], [0.1111111111111111, \"#46039f\"], [0.2222222222222222, \"#7201a8\"], [0.3333333333333333, \"#9c179e\"], [0.4444444444444444, \"#bd3786\"], [0.5555555555555556, \"#d8576b\"], [0.6666666666666666, \"#ed7953\"], [0.7777777777777778, \"#fb9f3a\"], [0.8888888888888888, \"#fdca26\"], [1.0, \"#f0f921\"]]}, \"colorway\": [\"#636efa\", \"#EF553B\", \"#00cc96\", \"#ab63fa\", \"#FFA15A\", \"#19d3f3\", \"#FF6692\", \"#B6E880\", \"#FF97FF\", \"#FECB52\"], \"font\": {\"color\": \"#2a3f5f\"}, \"geo\": {\"bgcolor\": \"white\", \"lakecolor\": \"white\", \"landcolor\": \"#E5ECF6\", \"showlakes\": true, \"showland\": true, \"subunitcolor\": \"white\"}, \"hoverlabel\": {\"align\": \"left\"}, \"hovermode\": \"closest\", \"mapbox\": {\"style\": \"light\"}, \"paper_bgcolor\": \"white\", \"plot_bgcolor\": \"#E5ECF6\", \"polar\": {\"angularaxis\": {\"gridcolor\": \"white\", \"linecolor\": \"white\", \"ticks\": \"\"}, \"bgcolor\": \"#E5ECF6\", \"radialaxis\": {\"gridcolor\": \"white\", \"linecolor\": \"white\", \"ticks\": \"\"}}, \"scene\": {\"xaxis\": {\"backgroundcolor\": \"#E5ECF6\", \"gridcolor\": \"white\", \"gridwidth\": 2, \"linecolor\": \"white\", \"showbackground\": true, \"ticks\": \"\", \"zerolinecolor\": \"white\"}, \"yaxis\": {\"backgroundcolor\": \"#E5ECF6\", \"gridcolor\": \"white\", \"gridwidth\": 2, \"linecolor\": \"white\", \"showbackground\": true, \"ticks\": \"\", \"zerolinecolor\": \"white\"}, \"zaxis\": {\"backgroundcolor\": \"#E5ECF6\", \"gridcolor\": \"white\", \"gridwidth\": 2, \"linecolor\": \"white\", \"showbackground\": true, \"ticks\": \"\", \"zerolinecolor\": \"white\"}}, \"shapedefaults\": {\"line\": {\"color\": \"#2a3f5f\"}}, \"ternary\": {\"aaxis\": {\"gridcolor\": \"white\", \"linecolor\": \"white\", \"ticks\": \"\"}, \"baxis\": {\"gridcolor\": \"white\", \"linecolor\": \"white\", \"ticks\": \"\"}, \"bgcolor\": \"#E5ECF6\", \"caxis\": {\"gridcolor\": \"white\", \"linecolor\": \"white\", \"ticks\": \"\"}}, \"title\": {\"x\": 0.05}, \"xaxis\": {\"automargin\": true, \"gridcolor\": \"white\", \"linecolor\": \"white\", \"ticks\": \"\", \"title\": {\"standoff\": 15}, \"zerolinecolor\": \"white\", \"zerolinewidth\": 2}, \"yaxis\": {\"automargin\": true, \"gridcolor\": \"white\", \"linecolor\": \"white\", \"ticks\": \"\", \"title\": {\"standoff\": 15}, \"zerolinecolor\": \"white\", \"zerolinewidth\": 2}}}, \"title\": {\"text\": \"Perbandingan jumlah angka bunuh diri pertahun bedasarkan Gender ( Informatif)\"}},\n",
              "                        {\"responsive\": true}\n",
              "                    ).then(function(){\n",
              "                            \n",
              "var gd = document.getElementById('8f6d0401-6ad4-4605-80b4-cf7f427949b1');\n",
              "var x = new MutationObserver(function (mutations, observer) {{\n",
              "        var display = window.getComputedStyle(gd).display;\n",
              "        if (!display || display === 'none') {{\n",
              "            console.log([gd, 'removed!']);\n",
              "            Plotly.purge(gd);\n",
              "            observer.disconnect();\n",
              "        }}\n",
              "}});\n",
              "\n",
              "// Listen for the removal of the full notebook cells\n",
              "var notebookContainer = gd.closest('#notebook-container');\n",
              "if (notebookContainer) {{\n",
              "    x.observe(notebookContainer, {childList: true});\n",
              "}}\n",
              "\n",
              "// Listen for the clearing of the current output cell\n",
              "var outputEl = gd.closest('.output');\n",
              "if (outputEl) {{\n",
              "    x.observe(outputEl, {childList: true});\n",
              "}}\n",
              "\n",
              "                        })\n",
              "                };\n",
              "                \n",
              "            </script>\n",
              "        </div>\n",
              "</body>\n",
              "</html>"
            ]
          },
          "metadata": {}
        }
      ]
    },
    {
      "cell_type": "code",
      "metadata": {
        "colab": {
          "base_uri": "https://localhost:8080/"
        },
        "id": "rxggwgTVXdhs",
        "outputId": "2299e366-b6a1-47ca-96d1-80001b344f21"
      },
      "source": [
        "mk =data[data.model == 'Fiesta'].year\n",
        "mk.value_counts()"
      ],
      "execution_count": 28,
      "outputs": [
        {
          "output_type": "execute_result",
          "data": {
            "text/plain": [
              "Series([], Name: year, dtype: int64)"
            ]
          },
          "metadata": {},
          "execution_count": 28
        }
      ]
    },
    {
      "cell_type": "code",
      "metadata": {
        "colab": {
          "base_uri": "https://localhost:8080/",
          "height": 542
        },
        "id": "iLkDfGaCbNs_",
        "outputId": "9622fbbf-6efb-46a2-df3d-e9cdaefb9ef1"
      },
      "source": [
        "\n",
        "\n",
        "fig = go.Figure()\n",
        "fig = px.line(data, x='year', y=\"price\")\n",
        "fig.show()"
      ],
      "execution_count": 29,
      "outputs": [
        {
          "output_type": "display_data",
          "data": {
            "text/html": [
              "<html>\n",
              "<head><meta charset=\"utf-8\" /></head>\n",
              "<body>\n",
              "    <div>\n",
              "            <script src=\"https://cdnjs.cloudflare.com/ajax/libs/mathjax/2.7.5/MathJax.js?config=TeX-AMS-MML_SVG\"></script><script type=\"text/javascript\">if (window.MathJax) {MathJax.Hub.Config({SVG: {font: \"STIX-Web\"}});}</script>\n",
              "                <script type=\"text/javascript\">window.PlotlyConfig = {MathJaxConfig: 'local'};</script>\n",
              "        <script src=\"https://cdn.plot.ly/plotly-latest.min.js\"></script>    \n",
              "            <div id=\"a83e67ed-c79e-4877-85ac-b977ea9fe478\" class=\"plotly-graph-div\" style=\"height:525px; width:100%;\"></div>\n",
              "            <script type=\"text/javascript\">\n",
              "                \n",
              "                    window.PLOTLYENV=window.PLOTLYENV || {};\n",
              "                    \n",
              "                if (document.getElementById(\"a83e67ed-c79e-4877-85ac-b977ea9fe478\")) {\n",
              "                    Plotly.newPlot(\n",
              "                        'a83e67ed-c79e-4877-85ac-b977ea9fe478',\n",
              "                        [{\"hoverlabel\": {\"namelength\": 0}, \"hovertemplate\": \"year=%{x}<br>price=%{y}\", \"legendgroup\": \"\", \"line\": {\"color\": \"#636efa\", \"dash\": \"solid\"}, \"mode\": \"lines\", \"name\": \"\", \"showlegend\": false, \"type\": \"scattergl\", \"x\": [2017, 2018, 2017, 2019, 2019, 2015, 2019, 2017, 2019, 2018, 2018, 2018, 2017, 2018, 2018, 2018, 2019, 2018, 2017, 2019, 2018, 2017, 2017, 2014, 2014, 2017, 2018, 2015, 2018, 2017, 2016, 2017, 2019, 2013, 2018, 2019, 2020, 2019, 2018, 2018, 2017, 2018, 2017, 2019, 2018, 2016, 2017, 2019, 2019, 2017, 2016, 2019, 2019, 2016, 2019, 2018, 2017, 2019, 2013, 2018, 2018, 2018, 2014, 2019, 2017, 2013, 2019, 2016, 2017, 2017, 2013, 2017, 2019, 2014, 2014, 2017, 2013, 2015, 2015, 2016, 2015, 2018, 2018, 2018, 2015, 2017, 2019, 2019, 2019, 2019, 2016, 2016, 2017, 2018, 2015, 2016, 2019, 2018, 2015, 2016, 2016, 2018, 2017, 2017, 2017, 2016, 2017, 2017, 2017, 2017, 2015, 2019, 2018, 2016, 2017, 2017, 2016, 2018, 2016, 2015, 2018, 2017, 2020, 2018, 2018, 2019, 2017, 2017, 2018, 2016, 2018, 2016, 2016, 2016, 2017, 2013, 2015, 2019, 2015, 2018, 2017, 2018, 2018, 2015, 2017, 2018, 2016, 2018, 2014, 2019, 2017, 2016, 2016, 2018, 2018, 2015, 2019, 2018, 2019, 2016, 2019, 2017, 2017, 2016, 2019, 2019, 2019, 2016, 2015, 2016, 2017, 2018, 2017, 2017, 2019, 2015, 2013, 2014, 2017, 2017, 2017, 2017, 2016, 2017, 2019, 2013, 2015, 2017, 2016, 2019, 2017, 2018, 2019, 2019, 2017, 2018, 2017, 2017, 2016, 2018, 2019, 2017, 2018, 2016, 2016, 2018, 2017, 2016, 2013, 2017, 2014, 2016, 2016, 2017, 2018, 2017, 2018, 2017, 2016, 2015, 2018, 2017, 2014, 2016, 2017, 2018, 2017, 2015, 2017, 2018, 2020, 2017, 2017, 2017, 2018, 2016, 2017, 2017, 2016, 2015, 2019, 2019, 2017, 2017, 2019, 2019, 2020, 2013, 2017, 2020, 2019, 2019, 2013, 2017, 2013, 2017, 2017, 2017, 2018, 2018, 2016, 2016, 2015, 2015, 2018, 2019, 2016, 2017, 2017, 2016, 2019, 2017, 2017, 2017, 2016, 2016, 2013, 2017, 2018, 2017, 2019, 2019, 2019, 2019, 2019, 2017, 2016, 2018, 2014, 2017, 2017, 2017, 2018, 2019, 2017, 2019, 2019, 2019, 2017, 2013, 2019, 2019, 2020, 2017, 2019, 2018, 2016, 2016, 2019, 2019, 2019, 2019, 2019, 2019, 2017, 2016, 2018, 2017, 2017, 2015, 2017, 2017, 2019, 2015, 2017, 2019, 2019, 2019, 2016, 2018, 2015, 2017, 2019, 2019, 2016, 2017, 2018, 2018, 2016, 2020, 2018, 2019, 2018, 2017, 2015, 2018, 2018, 2020, 2020, 2019, 2016, 2017, 2018, 2018, 2018, 2018, 2018, 2019, 2019, 2019, 2019, 2015, 2017, 2014, 2016, 2017, 2018, 2019, 2017, 2017, 2017, 2017, 2018, 2015, 2017, 2018, 2017, 2013, 2019, 2015, 2019, 2017, 2019, 2016, 2018, 2013, 2016, 2019, 2017, 2016, 2019, 2017, 2019, 2016, 2013, 2017, 2016, 2017, 2017, 2019, 2016, 2019, 2013, 2015, 2017, 2017, 2018, 2017, 2017, 2016, 2019, 2018, 2018, 2017, 2017, 2018, 2018, 2017, 2017, 2017, 2019, 2019, 2014, 2018, 2017, 2017, 2018, 2017, 2016, 2018, 2014, 2018, 2017, 2014, 2017, 2016, 2017, 2019, 2014, 2019, 2015, 2017, 2017, 2019, 2013, 2016, 2016, 2016, 2013, 2015, 2018, 2018, 2017, 2019, 2015, 2017, 2017, 2018, 2016, 2013, 2017, 2017, 2017, 2019, 2019, 2017, 2013, 2017, 2016, 2013, 2019, 2016, 2016, 2017, 2017, 2017, 2018, 2015, 2017, 2017, 2017, 2017, 2017, 2018, 2014, 2014, 2017, 2017, 2017, 2018, 2019, 2016, 2015, 2019, 2016, 2017, 2019, 2019, 2019, 2016, 2018, 2019, 2016, 2016, 2013, 2014, 2018, 2016, 2019, 2019, 2019, 2019, 2019, 2016, 2018, 2017, 2017, 2016, 2017, 2018, 2015, 2017, 2015, 2016, 2019, 2019, 2018, 2019, 2019, 2019, 2015, 2014, 2017, 2016, 2019, 2017, 2014, 2019, 2016, 2016, 2019, 2014, 2019, 2016, 2017, 2018, 2019, 2016, 2014, 2019, 2017, 2016, 2018, 2016, 2018, 2019, 2018, 2018, 2019, 2017, 2017, 2017, 2019, 2018, 2018, 2019, 2015, 2017, 2016, 2019, 2016, 2013, 2017, 2014, 2017, 2017, 2017, 2019, 2017, 2017, 2019, 2020, 2017, 2017, 2019, 2019, 2018, 2019, 2015, 2017, 2017, 2017, 2014, 2014, 2017, 2019, 2019, 2014, 2016, 2015, 2015, 2016, 2017, 2019, 2017, 2017, 2017, 2016, 2015, 2017, 2017, 2017, 2019, 2015, 2016, 2017, 2018, 2016, 2017, 2017, 2015, 2015, 2017, 2019, 2018, 2014, 2018, 2014, 2017, 2017, 2015, 2015, 2013, 2019, 2019, 2017, 2016, 2019, 2019, 2015, 2017, 2017, 2018, 2017, 2014, 2013, 2017, 2014, 2015, 2013, 2016, 2017, 2015, 2015, 2017, 2018, 2015, 2018, 2019, 2019, 2017, 2015, 2017, 2019, 2019, 2019, 2019, 2017, 2018, 2015, 2017, 2015, 2015, 2014, 2019, 2013, 2016, 2017, 2016, 2013, 2016, 2015, 2014, 2017, 2017, 2015, 2017, 2019, 2019, 2017, 2015, 2017, 2017, 2014, 2019, 2019, 2017, 2019, 2014, 2019, 2018, 2017, 2017, 2019, 2018, 2016, 2019, 2016, 2018, 2016, 2017, 2016, 2018, 2019, 2015, 2016, 2017, 2013, 2019, 2017, 2018, 2017, 2015, 2019, 2017, 2019, 2016, 2014, 2014, 2016, 2015, 2015, 2017, 2016, 2017, 2016, 2016, 2016, 2017, 2017, 2013, 2018, 2014, 2019, 2016, 2017, 2018, 2017, 2017, 2016, 2018, 2018, 2017, 2018, 2017, 2019, 2019, 2018, 2016, 2019, 2015, 2013, 2016, 2019, 2017, 2019, 2016, 2014, 2018, 2015, 2016, 2016, 2016, 2018, 2019, 2019, 2019, 2017, 2017, 2019, 2019, 2016, 2013, 2016, 2017, 2018, 2018, 2017, 2018, 2018, 2019, 2019, 2017, 2013, 2019, 2019, 2017, 2019, 2019, 2015, 2017, 2017, 2017, 2019, 2015, 2015, 2019, 2013, 2017, 2018, 2016, 2019, 2014, 2016, 2018, 2016, 2017, 2017, 2019, 2019, 2019, 2017, 2015, 2019, 2019, 2018, 2013, 2015, 2016, 2017, 2018, 2017, 2017, 2015, 2018, 2015, 2017, 2018, 2019, 2014, 2016, 2017, 2013, 2017, 2014, 2019, 2015, 2013, 2017, 2019, 2014, 2017, 2016, 2016, 2017, 2018, 2014, 2014, 2016, 2017, 2017, 2017, 2015, 2015, 2015, 2016, 2017, 2013, 2015, 2017, 2013, 2017, 2018, 2018, 2018, 2018, 2015, 2014, 2017, 2016, 2018, 2017, 2013, 2019, 2016, 2017, 2015, 2019, 2019, 2017, 2018, 2018, 2017, 2017, 2017, 2017, 2017, 2016, 2017, 2016, 2016, 2019, 2019, 2020, 2018, 2018, 2018, 2018, 2019, 2017, 2017, 2017, 2018, 2013, 2018, 2018, 2017, 2017, 2016, 2018, 2017, 2019, 2016, 2018, 2016, 2015, 2017, 2016, 2017, 2018, 2019, 2018, 2017, 2018, 2018, 2018, 2017, 2017, 2017, 2020, 2017, 2018, 2015, 2019, 2017, 2018, 2018, 2017, 2016, 2019, 2019, 2018, 2017, 2017, 2014, 2016, 2016, 2018, 2018, 2017, 2017, 2017, 2014, 2014, 2013, 2017, 2018, 2019, 2018, 2015, 2019, 2018, 2017, 2016, 2017, 2019, 2019, 2017, 2017, 2017, 2018, 2018, 2019, 2019, 2016, 2015, 2016, 2017, 2017, 2017, 2015, 2014, 2017, 2016, 2013, 2017, 2018, 2018, 2018, 2018, 2018, 2013, 2016, 2017, 2017, 2014, 2016, 2018, 2018, 2017, 2015, 2018, 2018, 2018, 2018, 2018, 2017, 2018, 2016, 2017, 2017, 2016, 2019, 2016, 2014, 2016, 2017, 2014, 2017, 2019, 2019, 2018, 2017, 2017, 2017, 2019, 2019, 2016, 2017, 2017, 2017, 2018, 2013, 2018, 2016, 2015, 2017, 2017, 2017, 2017, 2017, 2017, 2017, 2017, 2017, 2016, 2017, 2015, 2013, 2015, 2017, 2016, 2017, 2018, 2019, 2019, 2019, 2017, 2017, 2018, 2018, 2017, 2017, 2017, 2016, 2017, 2014, 2016, 2017, 2017, 2019, 2018, 2016, 2017, 2013, 2017, 2019, 2018, 2017, 2018, 2018, 2015, 2016, 2014, 2014, 2016, 2018, 2017, 2017, 2018, 2019, 2020, 2017, 2017, 2017, 2014, 2015, 2017, 2018, 2018, 2018, 2016, 2015, 2016, 2017, 2015, 2014, 2017, 2016, 2017, 2016, 2016, 2016, 2014, 2017, 2017, 2018, 2018, 2013, 2018, 2016, 2014, 2013, 2017, 2015, 2014, 2015, 2018, 2015, 2014, 2017, 2020, 2019, 2017, 2018, 2018, 2016, 2018, 2017, 2015, 2017, 2018, 2018, 2018, 2018, 2017, 2017, 2016, 2017, 2017, 2018, 2018, 2020, 2016, 2018, 2018, 2018, 2019, 2017, 2017, 2017, 2017, 2018, 2017, 2018, 2017, 2017, 2018, 2019, 2019, 2019, 2019, 2019, 2019, 2019, 2017, 2017, 2019, 2019, 2013, 2016, 2017, 2017, 2018, 2016, 2017, 2018, 2015, 2018, 2016, 2019, 2019, 2018, 2017, 2018, 2013, 2019, 2016, 2016, 2019, 2016, 2015, 2017, 2017, 2016, 2017, 2019, 2017, 2017, 2016, 2016, 2016, 2014, 2019, 2019, 2018, 2017, 2018, 2017, 2017, 2016, 2018, 2018, 2018, 2018, 2017, 2017, 2017, 2016, 2016, 2017, 2019, 2017, 2017, 2016, 2019, 2016, 2017, 2013, 2017, 2017, 2015, 2017, 2017, 2016, 2016, 2017, 2015, 2016, 2017, 2018, 2018, 2018, 2013, 2016, 2017, 2019, 2019, 2019, 2019, 2017, 2018, 2017, 2017, 2019, 2019, 2015, 2017, 2017, 2019, 2017, 2018, 2019, 2016, 2018, 2015, 2014, 2016, 2013, 2017, 2017, 2017, 2019, 2017, 2017, 2017, 2018, 2018, 2018, 2018, 2017, 2014, 2017, 2017, 2019, 2019, 2018, 2019, 2019, 2019, 2013, 2015, 2017, 2017, 2017, 2016, 2016, 2018, 2019, 2019, 2019, 2019, 2019, 2015, 2014, 2017, 2019, 2019, 2017, 2017, 2018, 2019, 2019, 2017, 2018, 2018, 2018, 2017, 2018, 2019, 2017, 2018, 2018, 2015, 2018, 2019, 2017, 2018, 2020, 2020, 2017, 2018, 2018, 2016, 2017, 2018, 2015, 2018, 2018, 2019, 2019, 2019, 2019, 2019, 2018, 2015, 2016, 2017, 2015, 2013, 2016, 2015, 2014, 2017, 2016, 2017, 2018, 2017, 2017, 2019, 2019, 2019, 2019, 2019, 2015, 2015, 2014, 2017, 2017, 2019, 2020, 2016, 2019, 2019, 2019, 2018, 2017, 2017, 2019, 2018, 2016, 2019, 2016, 2019, 2018, 2019, 2019, 2019, 2017, 2019, 2013, 2016, 2018, 2018, 2013, 2014, 2014, 2017, 2019, 2015, 2014, 2017, 2017, 2018, 2018, 2017, 2017, 2013, 2017, 2017, 2017, 2018, 2018, 2019, 2017, 2018, 2019, 2019, 2016, 2017, 2016, 2013, 2016, 2016, 2015, 2014, 2015, 2016, 2016, 2017, 2018, 2018, 2013, 2017, 2019, 2019, 2016, 2018, 2019, 2016, 2017, 2019, 2015, 2018, 2017, 2014, 2018, 2015, 2016, 2015, 2015, 2016, 2016, 2016, 2017, 2013, 2015, 2016, 2019, 2016, 2017, 2018, 2018, 2015, 2015, 2016, 2015, 2013, 2015, 2019, 2017, 2017, 2018, 2014, 2017, 2018, 2013, 2017, 2018, 2014, 2019, 2016, 2018, 2013, 2017, 2015, 2017, 2017, 2018, 2018, 2015, 2018, 2017, 2018, 2018, 2017, 2019, 2018, 2019, 2018, 2019, 2013, 2015, 2018, 2018, 2019, 2019, 2016, 2016, 2017, 2017, 2017, 2015, 2018, 2016, 2019, 2017, 2015, 2017, 2018, 2017, 2017, 2017, 2014, 2016, 2018, 2018, 2018, 2016, 2017, 2017, 2019, 2015, 2017, 2017, 2016, 2016, 2017, 2017, 2019, 2019, 2017, 2016, 2017, 2015, 2013, 2018, 2018, 2018, 2019, 2019, 2015, 2015, 2018, 2017, 2018, 2014, 2013, 2016, 2017, 2016, 2019, 2019, 2017, 2019, 2017, 2014, 2015, 2019, 2017, 2017, 2017, 2017, 2017, 2019, 2017, 2018, 2018, 2017, 2017, 2017, 2013, 2015, 2016, 2017, 2018, 2017, 2017, 2018, 2017, 2014, 2013, 2019, 2015, 2016, 2018, 2018, 2018, 2019, 2018, 2017, 2014, 2017, 2017, 2017, 2017, 2015, 2019, 2015, 2017, 2019, 2019, 2015, 2019, 2016, 2016, 2019, 2019, 2017, 2017, 2018, 2018, 2018, 2015, 2017, 2019, 2018, 2014, 2018, 2017, 2018, 2013, 2019, 2018, 2018, 2016, 2017, 2019, 2019, 2019, 2019, 2019, 2018, 2017, 2016, 2015, 2017, 2015, 2017, 2015, 2017, 2018, 2018, 2017, 2016, 2018, 2017, 2017, 2013, 2017, 2019, 2016, 2015, 2018, 2014, 2018, 2017, 2018, 2016, 2018, 2016, 2016, 2014, 2015, 2017, 2017, 2016, 2014, 2017, 2017, 2017, 2017, 2017, 2018, 2018, 2018, 2018, 2017, 2017, 2018, 2018, 2017, 2017, 2015, 2015, 2015, 2017, 2015, 2015, 2014, 2017, 2018, 2018, 2016, 2018, 2017, 2016, 2019, 2016, 2017, 2017, 2019, 2017, 2019, 2017, 2019, 2015, 2015, 2018, 2019, 2015, 2016, 2019, 2017, 2019, 2019, 2019, 2017, 2016, 2017, 2019, 2019, 2019, 2019, 2019, 2019, 2017, 2016, 2016, 2017, 2019, 2017, 2017, 2017, 2017, 2017, 2016, 2018, 2017, 2013, 2013, 2019, 2017, 2019, 2017, 2019, 2016, 2015, 2018, 2013, 2019, 2017, 2017, 2017, 2017, 2018, 2016, 2018, 2018, 2014, 2017, 2016, 2017, 2018, 2017, 2017, 2015, 2017, 2019, 2018, 2016, 2016, 2018, 2018, 2018, 2019, 2017, 2017, 2017, 2019, 2019, 2018, 2018, 2018, 2018, 2018, 2017, 2017, 2017, 2017, 2017, 2018, 2016, 2019, 2019, 2018, 2019, 2016, 2018, 2018, 2013, 2019, 2015, 2017, 2017, 2018, 2017, 2017, 2017, 2018, 2018, 2019, 2018, 2018, 2019, 2019, 2018, 2019, 2015, 2015, 2016, 2015, 2018, 2018, 2016, 2016, 2017, 2015, 2013, 2016, 2015, 2016, 2016, 2016, 2018, 2018, 2016, 2019, 2018, 2016, 2019, 2017, 2019, 2016, 2019, 2017, 2017, 2013, 2017, 2017, 2019, 2019, 2019, 2017, 2017, 2013, 2018, 2016, 2016, 2016, 2016, 2019, 2019, 2018, 2017, 2017, 2017, 2017, 2017, 2017, 2018, 2017, 2016, 2019, 2017, 2017, 2016, 2016, 2013, 2016, 2015, 2015, 2018, 2014, 2017, 2016, 2016, 2015, 2018, 2017, 2019, 2019, 2019, 2018, 2017, 2014, 2017, 2016, 2015, 2017, 2017, 2018, 2018, 2016, 2016, 2016, 2019, 2014, 2017, 2017, 2019, 2013, 2019, 2018, 2014, 2016, 2019, 2017, 2016, 2017, 2017, 2019, 2017, 2017, 2017, 2015, 2018, 2017, 2013, 2017, 2017, 2015, 2019, 2019, 2016, 2019, 2018, 2014, 2019, 2019, 2019, 2019, 2017, 2018, 2017, 2016, 2017, 2017, 2014, 2015, 2016, 2016, 2019, 2019, 2019, 2019, 2016, 2018, 2018, 2019, 2019, 2019, 2015, 2017, 2014, 2017, 2018, 2017, 2017, 2019, 2019, 2019, 2019, 2015, 2018, 2018, 2019, 2019, 2019, 2017, 2019, 2018, 2017, 2014, 2017, 2016, 2019, 2017, 2017, 2018, 2017, 2015, 2014, 2017, 2019, 2015, 2017, 2017, 2016, 2018, 2018, 2017, 2017, 2017, 2019, 2019, 2019, 2020, 2019, 2018, 2018, 2015, 2018, 2019, 2019, 2013, 2015, 2015, 2016, 2016, 2017, 2016, 2016, 2013, 2016, 2019, 2019, 2019, 2019, 2019, 2019, 2016, 2018, 2015, 2018, 2017, 2014, 2015, 2019, 2019, 2019, 2015, 2014, 2015, 2018, 2017, 2019, 2018, 2019, 2020, 2019, 2017, 2017, 2015, 2014, 2018, 2019, 2019, 2013, 2019, 2019, 2014, 2019, 2018, 2018, 2013, 2014, 2018, 2019, 2018, 2017, 2017, 2018, 2019, 2018, 2016, 2016, 2019, 2017, 2018, 2017, 2016, 2016, 2017, 2017, 2016, 2017, 2019, 2018, 2017, 2017, 2019, 2018, 2019, 2017, 2016, 2014, 2015, 2019, 2019, 2015, 2014, 2019, 2017, 2019, 2017, 2019, 2019, 2015, 2018, 2018, 2019, 2017, 2014, 2016, 2015, 2018, 2018, 2016, 2017, 2017, 2017, 2018, 2018, 2017, 2019, 2019, 2018, 2016, 2018, 2014, 2017, 2017, 2017, 2014, 2015, 2017, 2018, 2016, 2017, 2018, 2019, 2015, 2017, 2019, 2017, 2017, 2018, 2018, 2014, 2017, 2018, 2018, 2015, 2017, 2017, 2017, 2016, 2016, 2016, 2016, 2017, 2015, 2016, 2016, 2016, 2017, 2019, 2017, 2015, 2016, 2017, 2013, 2019, 2020, 2018, 2019, 2017, 2017, 2018, 2018, 2018, 2019, 2016, 2016, 2018, 2013, 2018, 2019, 2013, 2018, 2018, 2019, 2018, 2019, 2018, 2019, 2017, 2018, 2017, 2019, 2017, 2020, 2020, 2014, 2019, 2018, 2017, 2013, 2016, 2017, 2015, 2016, 2016, 2017, 2019, 2018, 2017, 2019, 2018, 2018, 2016, 2017, 2017, 2019, 2017, 2019, 2015, 2019, 2017, 2018, 2016, 2017, 2015, 2020, 2017, 2018, 2017, 2018, 2017, 2016, 2019, 2014, 2015, 2013, 2015, 2017, 2016, 2013, 2015, 2017, 2018, 2017, 2018, 2016, 2015, 2019, 2018, 2018, 2019, 2017, 2018, 2018, 2017, 2015, 2016, 2014, 2013, 2018, 2016, 2015, 2013, 2017, 2018, 2014, 2018, 2017, 2018, 2018, 2018, 2018, 2015, 2014, 2016, 2019, 2015, 2016, 2016, 2019, 2015, 2014, 2019, 2017, 2016, 2016, 2014, 2019, 2014, 2017, 2017, 2018, 2019, 2015, 2018, 2018, 2017, 2018, 2016, 2015, 2016, 2017, 2019, 2019, 2017, 2015, 2018, 2019, 2019, 2019, 2017, 2017, 2018, 2018, 2017, 2017, 2015, 2017, 2018, 2019, 2015, 2017, 2017, 2018, 2017, 2018, 2016, 2018, 2018, 2018, 2018, 2020, 2018, 2019, 2015, 2017, 2017, 2017, 2017, 2018, 2017, 2013, 2018, 2015, 2015, 2017, 2017, 2018, 2018, 2017, 2018, 2019, 2017, 2017, 2019, 2013, 2019, 2017, 2016, 2017, 2018, 2017, 2017, 2015, 2014, 2017, 2017, 2017, 2015, 2017, 2018, 2015, 2016, 2018, 2018, 2016, 2015, 2017, 2017, 2017, 2017, 2016, 2017, 2017, 2016, 2016, 2017, 2014, 2013, 2018, 2016, 2019, 2019, 2018, 2019, 2018, 2018, 2018, 2017, 2017, 2017, 2018, 2018, 2017, 2016, 2016, 2016, 2017, 2016, 2016, 2014, 2019, 2019, 2018, 2017, 2014, 2015, 2017, 2016, 2016, 2018, 2018, 2017, 2019, 2019, 2017, 2015, 2018, 2018, 2019, 2019, 2019, 2019, 2018, 2017, 2017, 2019, 2019, 2018, 2015, 2016, 2015, 2013, 2019, 2019, 2019, 2018, 2018, 2017, 2017, 2014, 2016, 2019, 2018, 2017, 2017, 2015, 2017, 2016, 2014, 2016, 2017, 2016, 2014, 2018, 2019, 2014, 2017, 2016, 2016, 2015, 2013, 2017, 2018, 2017, 2017, 2019, 2018, 2016, 2019, 2014, 2016, 2017, 2019, 2017, 2018, 2017, 2015, 2017, 2019, 2017, 2018, 2017, 2016, 2017, 2017, 2017, 2019, 2019, 2018, 2017, 2018, 2017, 2017, 2017, 2016, 2015, 2016, 2019, 2019, 2017, 2015, 2014, 2017, 2015, 2018, 2018, 2017, 2018, 2018, 2014, 2017, 2015, 2016, 2019, 2017, 2017, 2019, 2018, 2014, 2015, 2016, 2017, 2020, 2020, 2019, 2016, 2016, 2019, 2019, 2018, 2016, 2014, 2013, 2017, 2017, 2017, 2016, 2017, 2018, 2015, 2014, 2018, 2018, 2013, 2019, 2019, 2014, 2016, 2018, 2018, 2019, 2015, 2019, 2019, 2019, 2019, 2019, 2019, 2016, 2015, 2017, 2016, 2019, 2017, 2018, 2014, 2016, 2018, 2013, 2016, 2015, 2017, 2013, 2017, 2014, 2017, 2017, 2018, 2015, 2015, 2015, 2017, 2015, 2018, 2015, 2017, 2017, 2019, 2018, 2017, 2019, 2017, 2013, 2016, 2017, 2014, 2018, 2017, 2017, 2013, 2017, 2018, 2018, 2014, 2017, 2017, 2017, 2019, 2018, 2015, 2017, 2017, 2018, 2016, 2017, 2019, 2015, 2018, 2017, 2014, 2016, 2017, 2017, 2016, 2017, 2017, 2019, 2019, 2016, 2014, 2017, 2015, 2016, 2017, 2018, 2018, 2017, 2017, 2016, 2019, 2016, 2017, 2018, 2016, 2019, 2019, 2019, 2015, 2016, 2016, 2017, 2015, 2014, 2017, 2017, 2017, 2016, 2018, 2017, 2017, 2014, 2017, 2017, 2014, 2017, 2017, 2014, 2013, 2017, 2014, 2017, 2017, 2014, 2017, 2017, 2019, 2019, 2018, 2018, 2018, 2018, 2019, 2014, 2016, 2018, 2016, 2013, 2016, 2018, 2015, 2017, 2015, 2020, 2018, 2016, 2016, 2017, 2017, 2015, 2017, 2014, 2017, 2016, 2017, 2016, 2018, 2015, 2017, 2015, 2017, 2018, 2017, 2018, 2018, 2015, 2018, 2016, 2017, 2013, 2016, 2017, 2018, 2016, 2015, 2016, 2017, 2016, 2019, 2018, 2014, 2014, 2013, 2017, 2014, 2017, 2017, 2017, 2016, 2015, 2017, 2014, 2016, 2014, 2017, 2015, 2014, 2017, 2013, 2017, 2017, 2016, 2017, 2016, 2016, 2016, 2017, 2017, 2015, 2017, 2013, 2017, 2018, 2018, 2018, 2017, 2016, 2017, 2017, 2017, 2014, 2016, 2016, 2017, 2018, 2015, 2018, 2017, 2018, 2015, 2018, 2016, 2014, 2017, 2015, 2017, 2014, 2017, 2017, 2015, 2018, 2016, 2015, 2019, 2018, 2018, 2018, 2017, 2019, 2019, 2013, 2016, 2019, 2013, 2017, 2016, 2014, 2017, 2017, 2018, 2018, 2015, 2014, 2013, 2017, 2016, 2019, 2018, 2016, 2013, 2016, 2017, 2018, 2019, 2019, 2017, 2017, 2019, 2017, 2018, 2017, 2017, 2014, 2015, 2015, 2014, 2017, 2017, 2016, 2016, 2020, 2017, 2017, 2019, 2019, 2015, 2013, 2013, 2017, 2013, 2019, 2019, 2015, 2017, 2017, 2019, 2017, 2018, 2016, 2013, 2019, 2019, 2019, 2016, 2019, 2019, 2017, 2019, 2019, 2019, 2019, 2019, 2018, 2014, 2014, 2018, 2017, 2016, 2019, 2018, 2018, 2017, 2014, 2017, 2018, 2018, 2018, 2020, 2017, 2017, 2018, 2018, 2018, 2017, 2017, 2017, 2017, 2018, 2017, 2016, 2016, 2018, 2017, 2017, 2017, 2017, 2016, 2017, 2018, 2018, 2019, 2015, 2015, 2013, 2016, 2015, 2017, 2013, 2016, 2013, 2015, 2017, 2013, 2017, 2017, 2013, 2018, 2017, 2017, 2017, 2017, 2018, 2017, 2019, 2019, 2015, 2017, 2014, 2017, 2014, 2016, 2015, 2018, 2017, 2016, 2017, 2017, 2018, 2018, 2017, 2018, 2017, 2019, 2019, 2017, 2018, 2016, 2017, 2018, 2019, 2018, 2019, 2019, 2019, 2018, 2015, 2019, 2014, 2018, 2017, 2017, 2018, 2018, 2018, 2019, 2016, 2017, 2017, 2018, 2017, 2018, 2018, 2018, 2017, 2015, 2018, 2018, 2019, 2014, 2019, 2019, 2014, 2018, 2017, 2017, 2018, 2013, 2018, 2016, 2019, 2016, 2020, 2017, 2015, 2018, 2014, 2016, 2017, 2018, 2017, 2017, 2018, 2017, 2017, 2017, 2018, 2018, 2018, 2013, 2018, 2016, 2016, 2019, 2019, 2019, 2019, 2019, 2017, 2013, 2016, 2017, 2013, 2019, 2019, 2020, 2016, 2016, 2013, 2018, 2016, 2018, 2020, 2020, 2019, 2018, 2017, 2015, 2017, 2017, 2017, 2013, 2017, 2019, 2016, 2018, 2018, 2019, 2015, 2014, 2017, 2019, 2018, 2015, 2018, 2015, 2019, 2016, 2016, 2019, 2019, 2016, 2019, 2016, 2014, 2016, 2013, 2014, 2019, 2015, 2017, 2017, 2016, 2016, 2017, 2016, 2018, 2016, 2017, 2018, 2017, 2016, 2017, 2015, 2016, 2017, 2018, 2013, 2019, 2017, 2017, 2019, 2017, 2017, 2017, 2018, 2018, 2016, 2016, 2017, 2019, 2019, 2017, 2019, 2014, 2017, 2015, 2017, 2014, 2018, 2016, 2017, 2017, 2013, 2017, 2014, 2014, 2017, 2018, 2017, 2017, 2019, 2019, 2016, 2019, 2019, 2018, 2017, 2013, 2019, 2019, 2019, 2018, 2019, 2014, 2017, 2017, 2018, 2018, 2019, 2019, 2018, 2018, 2019, 2019, 2016, 2013, 2018, 2019, 2019, 2019, 2019, 2019, 2018, 2019, 2019, 2019, 2019, 2018, 2018, 2018, 2018, 2018, 2018, 2017, 2018, 2019, 2019, 2018, 2019, 2016, 2016, 2018, 2018, 2019, 2019, 2019, 2019, 2019, 2019, 2019, 2017, 2017, 2017, 2017, 2018, 2018, 2017, 2017, 2018, 2017, 2019, 2017, 2019, 2019, 2018, 2015, 2017, 2016, 2018, 2019, 2019, 2019, 2019, 2019, 2019, 2019, 2017, 2014, 2019, 2018, 2017, 2017, 2018, 2019, 2019, 2019, 2019, 2014, 2018, 2017, 2017, 2017, 2017, 2016, 2017, 2014, 2015, 2016, 2017, 2015, 2017, 2019, 2017, 2017, 2017, 2017, 2018, 2017, 2017, 2019, 2018, 2017, 2017, 2015, 2017, 2019, 2016, 2014, 2019, 2013, 2015, 2019, 2017, 2017, 2017, 2017, 2017, 2017, 2018, 2020, 2017, 2017, 2019, 2017, 2020, 2018, 2016, 2018, 2017, 2019, 2019, 2019, 2017, 2017, 2019, 2016, 2019, 2018, 2017, 2018, 2017, 2017, 2018, 2018, 2019, 2019, 2019, 2013, 2017, 2016, 2018, 2014, 2016, 2015, 2013, 2017, 2014, 2017, 2017, 2017, 2017, 2016, 2016, 2018, 2018, 2016, 2018, 2019, 2014, 2018, 2017, 2018, 2017, 2017, 2016, 2019, 2015, 2017, 2013, 2014, 2018, 2017, 2016, 2016, 2016, 2017, 2017, 2016, 2016, 2018, 2013, 2018, 2018, 2017, 2017, 2018, 2017, 2013, 2017, 2017, 2018, 2017, 2018, 2019, 2018, 2016, 2018, 2017, 2017, 2017, 2017, 2018, 2018, 2018, 2017, 2015, 2017, 2018, 2014, 2019, 2019, 2013, 2018, 2019, 2019, 2014, 2018, 2017, 2014, 2017, 2015, 2017, 2013, 2017, 2017, 2016, 2017, 2015, 2018, 2016, 2018, 2019, 2015, 2017, 2018, 2017, 2019, 2019, 2019, 2016, 2013, 2015, 2014, 2016, 2017, 2018, 2018, 2017, 2016, 2018, 2014, 2017, 2018, 2016, 2016, 2014, 2017, 2016, 2019, 2019, 2017, 2015, 2013, 2015, 2019, 2019, 2019, 2016, 2017, 2014, 2013, 2017, 2018, 2018, 2019, 2015, 2014, 2018, 2018, 2018, 2018, 2018, 2018, 2019, 2017, 2019, 2013, 2018, 2016, 2018, 2016, 2013, 2015, 2018, 2017, 2017, 2019, 2018, 2016, 2015, 2014, 2017, 2017, 2017, 2015, 2014, 2016, 2017, 2019, 2016, 2014, 2017, 2018, 2016, 2015, 2018, 2017, 2017, 2019, 2016, 2017, 2017, 2019, 2017, 2014, 2018, 2017, 2017, 2019, 2018, 2018, 2019, 2015, 2017, 2017, 2015, 2016, 2018, 2019, 2018, 2018, 2019, 2017, 2015, 2019, 2018, 2018, 2014, 2016, 2017, 2019, 2016, 2017, 2016, 2017, 2017, 2015, 2018, 2013, 2019, 2016, 2017, 2015, 2017, 2018, 2018, 2019, 2018, 2015, 2018, 2018, 2016, 2019, 2019, 2017, 2018, 2019, 2016, 2017, 2019, 2017, 2020, 2016, 2016, 2019, 2019, 2019, 2019, 2019, 2019, 2015, 2017, 2018, 2017, 2017, 2017, 2019, 2018, 2015, 2017, 2013, 2016, 2015, 2017, 2015, 2018, 2016, 2013, 2017, 2016, 2018, 2015, 2018, 2016, 2018, 2019, 2016, 2017, 2017, 2017, 2017, 2018, 2019, 2018, 2016, 2016, 2016, 2016, 2019, 2019, 2019, 2019, 2017, 2018, 2017, 2016, 2015, 2015, 2019, 2016, 2018, 2018, 2017, 2014, 2017, 2019, 2017, 2016, 2017, 2018, 2018, 2017, 2017, 2016, 2019, 2014, 2018, 2017, 2017, 2018, 2018, 2017, 2017, 2017, 2017, 2017, 2018, 2018, 2014, 2017, 2017, 2018, 2019, 2019, 2019, 2017, 2018, 2018, 2016, 2018, 2017, 2018, 2019, 2019, 2019, 2017, 2019, 2018, 2015, 2019, 2016, 2015, 2019, 2019, 2018, 2019, 2017, 2015, 2017, 2017, 2019, 2017, 2018, 2017, 2016, 2013, 2018, 2016, 2017, 2018, 2016, 2018, 2018, 2016, 2019, 2018, 2019, 2017, 2014, 2019, 2019, 2018, 2017, 2019, 2015, 2017, 2017, 2017, 2017, 2017, 2017, 2018, 2017, 2017, 2018, 2016, 2017, 2018, 2018, 2018, 2018, 2017, 2019, 2016, 2016, 2019, 2018, 2016, 2016, 2015, 2018, 2015, 2017, 2014, 2017, 2018, 2018, 2019, 2017, 2016, 2017, 2017, 2018, 2018, 2018, 2017, 2019, 2019, 2017, 2019, 2019, 2018, 2017, 2013, 2019, 2017, 2019, 2018, 2018, 2018, 2018, 2018, 2017, 2018, 2018, 2017, 2017, 2018, 2017, 2017, 2018, 2018, 2018, 2017, 2018, 2015, 2019, 2017, 2018, 2018, 2016, 2017, 2018, 2019, 2017, 2018, 2018, 2013, 2018, 2019, 2017, 2017, 2017, 2017, 2018, 2018, 2017, 2017, 2017, 2017, 2017, 2018, 2017, 2017, 2017, 2017, 2018, 2018, 2019, 2018, 2018, 2018, 2018, 2018, 2018, 2014, 2015, 2018, 2018, 2018, 2019, 2014, 2017, 2018, 2014, 2017, 2017, 2017, 2017, 2018, 2018, 2017, 2018, 2018, 2018, 2018, 2018, 2018, 2018, 2018, 2018, 2018, 2017, 2017, 2018, 2018, 2018, 2018, 2018, 2018, 2016, 2017, 2017, 2017, 2017, 2016, 2018, 2018, 2018, 2015, 2018, 2018, 2018, 2018, 2017, 2018, 2017, 2017, 2017, 2017, 2018, 2018, 2015, 2018, 2018, 2018, 2018, 2018, 2017, 2017, 2017, 2017, 2017, 2017, 2018, 2018, 2018, 2018, 2018, 2018, 2017, 2017, 2017, 2017, 2017, 2017, 2017, 2016, 2017, 2017, 2013, 2019, 2018, 2018, 2017, 2017, 2018, 2017, 2017, 2018, 2018, 2018, 2018, 2018, 2018, 2018, 2017, 2014, 2017, 2017, 2018, 2018, 2015, 2017, 2017, 2017, 2017, 2018, 2019, 2015, 2018, 2013, 2014, 2017, 2015, 2016, 2018, 2017, 2014, 2018, 2017, 2017, 2019, 2018, 2019, 2019, 2017, 2018, 2018, 2017, 2017, 2017, 2017, 2017, 2017, 2018, 2018, 2017, 2018, 2017, 2018, 2017, 2019, 2018, 2016, 2016, 2018, 2014, 2018, 2018, 2016, 2019, 2019, 2017, 2016, 2019, 2018, 2017, 2014, 2017, 2013, 2013, 2016, 2015, 2014, 2018, 2014, 2017, 2018, 2016, 2018, 2018, 2018, 2018, 2018, 2013, 2018, 2018, 2013, 2017, 2017, 2013, 2016, 2020, 2018, 2017, 2018, 2017, 2019, 2019, 2019, 2019, 2016, 2017, 2018, 2017, 2015, 2015, 2016, 2015, 2016, 2013, 2014, 2018, 2015, 2016, 2016, 2017, 2018, 2018, 2018, 2014, 2017, 2015, 2018, 2017, 2017, 2017, 2017, 2017, 2013, 2016, 2017, 2017, 2017, 2017, 2016, 2017, 2017, 2017, 2017, 2017, 2019, 2018, 2015, 2018, 2018, 2017, 2018, 2018, 2013, 2017, 2019, 2018, 2019, 2017, 2018, 2019, 2017, 2013, 2017, 2019, 2017, 2013, 2016, 2018, 2017, 2019, 2018, 2015, 2018, 2017, 2017, 2018, 2019, 2017, 2016, 2014, 2016, 2017, 2017, 2016, 2018, 2018, 2017, 2016, 2014, 2017, 2017, 2018, 2016, 2016, 2016, 2017, 2013, 2015, 2017, 2015, 2015, 2018, 2016, 2015, 2018, 2017, 2018, 2017, 2015, 2016, 2016, 2018, 2018, 2018, 2018, 2018, 2017, 2017, 2017, 2017, 2017, 2015, 2019, 2015, 2016, 2017, 2014, 2017, 2018, 2017, 2019, 2018, 2018, 2017, 2017, 2019, 2015, 2019, 2019, 2018, 2018, 2020, 2017, 2017, 2018, 2018, 2018, 2015, 2019, 2018, 2018, 2017, 2017, 2017, 2016, 2017, 2018, 2017, 2018, 2014, 2016, 2017, 2017, 2016, 2017, 2017, 2013, 2017, 2017, 2013, 2017, 2016, 2017, 2017, 2017, 2018, 2013, 2014, 2018, 2015, 2013, 2015, 2015, 2018, 2017, 2014, 2017, 2018, 2017, 2018, 2017, 2014, 2019, 2017, 2017, 2016, 2015, 2017, 2017, 2019, 2017, 2017, 2017, 2017, 2018, 2018, 2018, 2015, 2015, 2017, 2018, 2018, 2018, 2016, 2017, 2016, 2018, 2017, 2018, 2016, 2019, 2014, 2014, 2016, 2018, 2016, 2017, 2014, 2013, 2016, 2017, 2018, 2017, 2017, 2016, 2016, 2017, 2017, 2018, 2015, 2017, 2017, 2017, 2015, 2019, 2018, 2017, 2017, 2019, 2017, 2013, 2017, 2017, 2016, 2016, 2017, 2016, 2016, 2016, 2017, 2019, 2018, 2015, 2015, 2016, 2014, 2016, 2016, 2016, 2017, 2018, 2017, 2017, 2017, 2017, 2017, 2017, 2015, 2014, 2013, 2015, 2013, 2019, 2017, 2019, 2020, 2016, 2020, 2017, 2015, 2019, 2019, 2018, 2014, 2017, 2013, 2016, 2015, 2016, 2017, 2014, 2015, 2017, 2017, 2014, 2017, 2017, 2015, 2016, 2017, 2019, 2018, 2017, 2019, 2018, 2019, 2016, 2017, 2014, 2016, 2017, 2017, 2017, 2017, 2016, 2015, 2017, 2016, 2017, 2019, 2019, 2019, 2018, 2019, 2019, 2019, 2019, 2019, 2019, 2019, 2019, 2018, 2016, 2019, 2019, 2019, 2016, 2016, 2016, 2017, 2018, 2019, 2017, 2015, 2017, 2016, 2017, 2017, 2017, 2013, 2016, 2016, 2015, 2018, 2017, 2015, 2015, 2016, 2017, 2015, 2019, 2019, 2017, 2017, 2015, 2017, 2016, 2016, 2017, 2017, 2020, 2017, 2017, 2017, 2019, 2017, 2018, 2014, 2017, 2018, 2019, 2015, 2016, 2014, 2017, 2018, 2018, 2017, 2017, 2017, 2018, 2017, 2017, 2017, 2018, 2014, 2016, 2019, 2019, 2018, 2018, 2018, 2017, 2014, 2017, 2016, 2018, 2018, 2018, 2018, 2019, 2017, 2017, 2018, 2017, 2018, 2018, 2017, 2017, 2016, 2016, 2017, 2018, 2017, 2018, 2018, 2016, 2017, 2018, 2017, 2017, 2018, 2018, 2018, 2018, 2018, 2019, 2018, 2018, 2019, 2017, 2018, 2017, 2017, 2018, 2018, 2018, 2019, 2014, 2018, 2015, 2017, 2018, 2015, 2018, 2014, 2014, 2017, 2019, 2019, 2019, 2019, 2019, 2017, 2015, 2018, 2016, 2018, 2018, 2018, 2018, 2019, 2016, 2017, 2019, 2017, 2018, 2018, 2017, 2017, 2018, 2018, 2014, 2016, 2018, 2017, 2017, 2018, 2019, 2018, 2018, 2017, 2019, 2018, 2018, 2017, 2018, 2017, 2018, 2018, 2017, 2017, 2018, 2018, 2018, 2019, 2019, 2018, 2019, 2019, 2015, 2019, 2016, 2019, 2016, 2018, 2019, 2013, 2018, 2018, 2018, 2018, 2016, 2018, 2016, 2018, 2016, 2017, 2017, 2017, 2017, 2018, 2018, 2018, 2015, 2015, 2014, 2017, 2019, 2016, 2017, 2017, 2016, 2019, 2019, 2015, 2013, 2019, 2018, 2017, 2018, 2017, 2017, 2018, 2018, 2018, 2016, 2017, 2019, 2020, 2018, 2013, 2018, 2017, 2018, 2018, 2018, 2018, 2018, 2018, 2018, 2013, 2017, 2018, 2018, 2018, 2019, 2019, 2018, 2017, 2019, 2019, 2017, 2018, 2016, 2018, 2017, 2018, 2018, 2018, 2018, 2018, 2018, 2018, 2018, 2016, 2017, 2017, 2018, 2018, 2018, 2018, 2017, 2017, 2017, 2018, 2018, 2019, 2017, 2018, 2017, 2019, 2016, 2017, 2016, 2018, 2014, 2018, 2018, 2018, 2015, 2017, 2017, 2019, 2016, 2019, 2018, 2018, 2018, 2018, 2018, 2018, 2017, 2016, 2019, 2018, 2019, 2018, 2017, 2018, 2018, 2013, 2017, 2013, 2018, 2014, 2018, 2016, 2018, 2018, 2018, 2017, 2017, 2017, 2017, 2018, 2018, 2018, 2018, 2018, 2017, 2014, 2018, 2018, 2017, 2014, 2018, 2018, 2019, 2017, 2017, 2017, 2017, 2019, 2015, 2016, 2016, 2018, 2017, 2016, 2018, 2018, 2019, 2019, 2019, 2017, 2016, 2020, 2015, 2014, 2019, 2016, 2016, 2017, 2019, 2016, 2017, 2017, 2017, 2019, 2016, 2016, 2019, 2019, 2016, 2019, 2015, 2018, 2019, 2016, 2019, 2019, 2019, 2017, 2017, 2017, 2018, 2019, 2018, 2018, 2016, 2018, 2019, 2017, 2017, 2015, 2017, 2015, 2017, 2017, 2015, 2017, 2015, 2016, 2017, 2017, 2019, 2015, 2016, 2019, 2018, 2019, 2014, 2017, 2017, 2018, 2018, 2014, 2015, 2019, 2018, 2019, 2016, 2014, 2013, 2018, 2017, 2016, 2017, 2019, 2016, 2019, 2018, 2017, 2017, 2018, 2015, 2018, 2017, 2019, 2017, 2019, 2017, 2014, 2015, 2019, 2015, 2017, 2018, 2016, 2015, 2015, 2017, 2017, 2018, 2019, 2017, 2016, 2016, 2016, 2016, 2018, 2016, 2017, 2015, 2017, 2017, 2018, 2018, 2019, 2019, 2017, 2017, 2013, 2019, 2019, 2019, 2016, 2018, 2018, 2016, 2018, 2019, 2018, 2016, 2017, 2015, 2017, 2014, 2019, 2019, 2014, 2017, 2017, 2017, 2018, 2017, 2019, 2017, 2017, 2018, 2017, 2019, 2017, 2017, 2016, 2017, 2016, 2017, 2019, 2018, 2016, 2017, 2019, 2017, 2018, 2017, 2015, 2018, 2017, 2015, 2019, 2017, 2017, 2017, 2019, 2013, 2016, 2016, 2016, 2017, 2015, 2014, 2019, 2019, 2019, 2016, 2016, 2017, 2016, 2018, 2015, 2017, 2018, 2013, 2019, 2017, 2014, 2019, 2017, 2017, 2018, 2017, 2014, 2015, 2018, 2018, 2016, 2014, 2016, 2013, 2016, 2018, 2018, 2018, 2017, 2016, 2019, 2014, 2017, 2018, 2019, 2019, 2013, 2018, 2019, 2019, 2019, 2018, 2018, 2018, 2016, 2018, 2019, 2017, 2018, 2017, 2017, 2016, 2017, 2016, 2017, 2018, 2019, 2019, 2018, 2018, 2016, 2018, 2017, 2017, 2016, 2014, 2018, 2017, 2018, 2017, 2020, 2020, 2020, 2017, 2018, 2018, 2014, 2017, 2016, 2019, 2018, 2019, 2015, 2018, 2018, 2019, 2018, 2015, 2019, 2018, 2017, 2020, 2018, 2017, 2019, 2016, 2016, 2018, 2016, 2016, 2013, 2020, 2018, 2016, 2017, 2017, 2016, 2018, 2017, 2018, 2017, 2017, 2017, 2015, 2016, 2018, 2018, 2018, 2018, 2017, 2017, 2018, 2018, 2017, 2019, 2019, 2018, 2019, 2017, 2017, 2018, 2018, 2018, 2019, 2017, 2018, 2017, 2019, 2019, 2019, 2019, 2019, 2019, 2019, 2017, 2017, 2015, 2019, 2019, 2017, 2019, 2017, 2018, 2014, 2017, 2018, 2017, 2017, 2017, 2017, 2016, 2018, 2017, 2015, 2016, 2017, 2018, 2018, 2017, 2017, 2017, 2019, 2018, 2020, 2017, 2017, 2017, 2017, 2017, 2018, 2016, 2016, 2019, 2017, 2017, 2015, 2019, 2015, 2017, 2017, 2017, 2018, 2016, 2016, 2019, 2019, 2014, 2018, 2015, 2018, 2017, 2017, 2015, 2015, 2018, 2017, 2017, 2017, 2015, 2016, 2018, 2018, 2017, 2016, 2017, 2017, 2018, 2016, 2018, 2013, 2017, 2017, 2014, 2016, 2017, 2017, 2018, 2016, 2017, 2016, 2017, 2019, 2017, 2017, 2017, 2017, 2017, 2015, 2017, 2015, 2017, 2018, 2017, 2017, 2018, 2016, 2018, 2017, 2015, 2013, 2017, 2018, 2017, 2017, 2018, 2017, 2018, 2018, 2018, 2018, 2017, 2016, 2017, 2017, 2017, 2017, 2017, 2018, 2017, 2018, 2017, 2019, 2019, 2019, 2019, 2019, 2019, 2017, 2018, 2017, 2015, 2017, 2018, 2017, 2017, 2017, 2016, 2019, 2015, 2019, 2017, 2017, 2017, 2016, 2017, 2017, 2018, 2019, 2013, 2018, 2018, 2019, 2017, 2017, 2017, 2018, 2016, 2017, 2019, 2018, 2018, 2017, 2017, 2017, 2017, 2014, 2020, 2020, 2017, 2017, 2018, 2019, 2019, 2019, 2014, 2019, 2018, 2018, 2018, 2017, 2017, 2017, 2017, 2018, 2015, 2017, 2018, 2017, 2017, 2017, 2017, 2019, 2019, 2015, 2016, 2017, 2014, 2017, 2019, 2014, 2018, 2016, 2016, 2019, 2018, 2016, 2017, 2017, 2017, 2016, 2017, 2015, 2016, 2017, 2018, 2013, 2017, 2017, 2017, 2017, 2015, 2017, 2017, 2014, 2017, 2017, 2018, 2019, 2019, 2019, 2019, 2017, 2017, 2018, 2018, 2018, 2017, 2017, 2015, 2016, 2015, 2015, 2017, 2013, 2018, 2019, 2017, 2019, 2015, 2019, 2016, 2015, 2018, 2019, 2019, 2019, 2019, 2019, 2016, 2017, 2018, 2016, 2019, 2018, 2018, 2017, 2016, 2017, 2016, 2016, 2015, 2017, 2017, 2018, 2015, 2016, 2016, 2020, 2019, 2017, 2017, 2017, 2016, 2018, 2017, 2014, 2016, 2018, 2018, 2018, 2017, 2017, 2017, 2019, 2016, 2018, 2017, 2018, 2017, 2017, 2017, 2017, 2018, 2016, 2016, 2017, 2017, 2016, 2017, 2016, 2014, 2014, 2016, 2014, 2017, 2017, 2018, 2019, 2019, 2019, 2019, 2019, 2019, 2019, 2019, 2015, 2018, 2018, 2017, 2017, 2019, 2017, 2013, 2015, 2017, 2017, 2017, 2014, 2018, 2019, 2017, 2017, 2016, 2018, 2019, 2019, 2014, 2013, 2018, 2017, 2018, 2018, 2017, 2018, 2015, 2015, 2019, 2019, 2017, 2018, 2016, 2017, 2017, 2018, 2017, 2016, 2016, 2016, 2016, 2016, 2017, 2017, 2017, 2015, 2019, 2019, 2019, 2017, 2017, 2014, 2017, 2017, 2019, 2016, 2017, 2017, 2018, 2016, 2017, 2017, 2018, 2018, 2018, 2014, 2018, 2014, 2013, 2016, 2016, 2019, 2019, 2017, 2019, 2019, 2013, 2015, 2015, 2018, 2015, 2018, 2017, 2016, 2018, 2018, 2018, 2013, 2015, 2013, 2015, 2017, 2017, 2016, 2014, 2015, 2018, 2017, 2019, 2019, 2018, 2017, 2018, 2018, 2019, 2020, 2018, 2018, 2018, 2018, 2019, 2014, 2017, 2018, 2016, 2014, 2015, 2018, 2017, 2017, 2013, 2018, 2017, 2018, 2018, 2019, 2019, 2019, 2019, 2019, 2019, 2020, 2015, 2016, 2016, 2018, 2018, 2018, 2019, 2015, 2015, 2015, 2016, 2016, 2018, 2018, 2018, 2018, 2018, 2016, 2018, 2017, 2017, 2018, 2018, 2018, 2018, 2019, 2014, 2015, 2017, 2017, 2017, 2018, 2018, 2015, 2017, 2016, 2019, 2019, 2019, 2019, 2019, 2017, 2017, 2016, 2015, 2018, 2017, 2018, 2018, 2016, 2015, 2019, 2017, 2013, 2015, 2017, 2019, 2017, 2018, 2018, 2018, 2015, 2016, 2016, 2016, 2016, 2017, 2018, 2013, 2018, 2013, 2017, 2017, 2017, 2015, 2016, 2014, 2017, 2019, 2019, 2019, 2017, 2016, 2016, 2015, 2017, 2017, 2017, 2013, 2017, 2013, 2016, 2017, 2017, 2014, 2018, 2015, 2019, 2013, 2014, 2017, 2018, 2013, 2016, 2017, 2018, 2019, 2019, 2016, 2017, 2017, 2019, 2014, 2013, 2017, 2018, 2015, 2017, 2017, 2018, 2015, 2018, 2017, 2017, 2017, 2017, 2019, 2019, 2019, 2019, 2019, 2019, 2019, 2017, 2018, 2014, 2018, 2016, 2017, 2017, 2016, 2018, 2016, 2017, 2017, 2018, 2019, 2018, 2017, 2018, 2018, 2019, 2019, 2017, 2018, 2017, 2019, 2019, 2018, 2017, 2018, 2018, 2019, 2019, 2019, 2019, 2013, 2017, 2013, 2017, 2017, 2013, 2013, 2013, 2016, 2015, 2019, 2018, 2017, 2015, 2019, 2019, 2019, 2017, 2019, 2017, 2018, 2016, 2013, 2016, 2015, 2019, 2015, 2017, 2014, 2016, 2016, 2018, 2019, 2018, 2019, 2016, 2015, 2017, 2015, 2018, 2016, 2019, 2020, 2017, 2017, 2016, 2016, 2017, 2018, 2017, 2015, 2014, 2019, 2017, 2019, 2017, 2017, 2019, 2018, 2018, 2019, 2018, 2015, 2014, 2018, 2017, 2014, 2017, 2018, 2015, 2017, 2018, 2019, 2018, 2018, 2016, 2014, 2016, 2017, 2019, 2019, 2019, 2018, 2018, 2014, 2019, 2018, 2018, 2016, 2015, 2019, 2013, 2019, 2014, 2017, 2016, 2015, 2015, 2018, 2014, 2019, 2013, 2017, 2018, 2016, 2017, 2018, 2018, 2019, 2019, 2019, 2017, 2018, 2017, 2017, 2017, 2017, 2014, 2019, 2015, 2019, 2017, 2018, 2016, 2017, 2017, 2017, 2017, 2017, 2018, 2017, 2018, 2018, 2014, 2018, 2017, 2017, 2014, 2019, 2017, 2016, 2017, 2019, 2019, 2017, 2017, 2017, 2019, 2019, 2015, 2019, 2019, 2019, 2018, 2016, 2016, 2017, 2018, 2018, 2018, 2013, 2016, 2016, 2018, 2018, 2018, 2018, 2019, 2019, 2018, 2017, 2019, 2017, 2017, 2015, 2017, 2017, 2015, 2015, 2019, 2019, 2017, 2018, 2015, 2019, 2017, 2017, 2018, 2014, 2015, 2020, 2020, 2015, 2015, 2019, 2017, 2017, 2019, 2015, 2014, 2018, 2018, 2018, 2019, 2015, 2019, 2014, 2019, 2017, 2017, 2017, 2018, 2017, 2017, 2014, 2017, 2018, 2016, 2018, 2018, 2016, 2016, 2016, 2018, 2019, 2019, 2019, 2019, 2016, 2019, 2019, 2013, 2016, 2016, 2017, 2014, 2019, 2018, 2016, 2019, 2017, 2018, 2019, 2015, 2019, 2016, 2019, 2019, 2018, 2019, 2018, 2017, 2018, 2019, 2019, 2013, 2019, 2019, 2019, 2019, 2019, 2018, 2019, 2019, 2019, 2019, 2019, 2019, 2017, 2017, 2017, 2018, 2017, 2019, 2017, 2015, 2019, 2017, 2018, 2018, 2019, 2019, 2018, 2019, 2019, 2019, 2019, 2019, 2018, 2019, 2017, 2019, 2019, 2018, 2018, 2016, 2020, 2017, 2018, 2017, 2015, 2017, 2018, 2018, 2017, 2018, 2016, 2019, 2016, 2018, 2018, 2016, 2018, 2018, 2018, 2019, 2017, 2014, 2017, 2016, 2016, 2014, 2017, 2018, 2019, 2019, 2019, 2019, 2019, 2019, 2019, 2017, 2018, 2018, 2017, 2017, 2017, 2018, 2015, 2016, 2017, 2016, 2015, 2013, 2014, 2013, 2017, 2016, 2017, 2018, 2015, 2013, 2015, 2016, 2019, 2019, 2020, 2016, 2019, 2018, 2014, 2018, 2017, 2017, 2014, 2015, 2019, 2017, 2018, 2019, 2019, 2018, 2015, 2019, 2016, 2015, 2017, 2018, 2015, 2018, 2015, 2018, 2018, 2017, 2017, 2019, 2019, 2017, 2017, 2016, 2014, 2017, 2016, 2016, 2018, 2018, 2018, 2016, 2017, 2019, 2018, 2018, 2017, 2016, 2018, 2019, 2017, 2017, 2018, 2018, 2018, 2019, 2019, 2018, 2018, 2017, 2017, 2017, 2016, 2017, 2016, 2014, 2018, 2017, 2015, 2019, 2017, 2018, 2013, 2014, 2017, 2017, 2018, 2018, 2017, 2016, 2016, 2014, 2015, 2018, 2017, 2019, 2018, 2016, 2017, 2017, 2016, 2018, 2017, 2014, 2018, 2015, 2015, 2017, 2020, 2018, 2018, 2018, 2018, 2017, 2018, 2018, 2014, 2020, 2016, 2017, 2017, 2017, 2018, 2017, 2015, 2015, 2017, 2015, 2016, 2018, 2017, 2015, 2017, 2018, 2018, 2017, 2017, 2017, 2017, 2019, 2019, 2019, 2019, 2018, 2018, 2018, 2013, 2017, 2018, 2018, 2018, 2017, 2017, 2017, 2016, 2018, 2015, 2017, 2013, 2015, 2015, 2018, 2016, 2018, 2016, 2017, 2014, 2016, 2016, 2019, 2019, 2017, 2017, 2018, 2018, 2019, 2019, 2019, 2020, 2017, 2017, 2018, 2018, 2018, 2018, 2018, 2016, 2018, 2019, 2016, 2016, 2013, 2019, 2018, 2015, 2013, 2014, 2014, 2019, 2019, 2019, 2013, 2019, 2016, 2019, 2019, 2015, 2017, 2018, 2017, 2016, 2016, 2019, 2017, 2016, 2014, 2018, 2016, 2017, 2018, 2015, 2013, 2018, 2013, 2014, 2016, 2017, 2019, 2017, 2019, 2017, 2016, 2013, 2017, 2016, 2018, 2016, 2017, 2019, 2019, 2017, 2019, 2019, 2018, 2018, 2020, 2019, 2018, 2018, 2017, 2019, 2017, 2018, 2016, 2016, 2015, 2016, 2016, 2016, 2017, 2016, 2018, 2018, 2018, 2018, 2017, 2016, 2017, 2018, 2016, 2018, 2017, 2017, 2017, 2017, 2017, 2018, 2015, 2014, 2017, 2017, 2019, 2018, 2015, 2018, 2018, 2018, 2018, 2016, 2019, 2019, 2018, 2018, 2017, 2018, 2016, 2018, 2017, 2014, 2019, 2014, 2015, 2017, 2019, 2018, 2015, 2017, 2015, 2017, 2019, 2017, 2017, 2019, 2014, 2016, 2017, 2019, 2017, 2016, 2018, 2017, 2014, 2017, 2019, 2017, 2019, 2017, 2018, 2017, 2020, 2020, 2020, 2014, 2017, 2016, 2018, 2018, 2017, 2018, 2018, 2017, 2018, 2018, 2017, 2018, 2014, 2017, 2014, 2016, 2016, 2017, 2019, 2018, 2018, 2017, 2017, 2017, 2018, 2018, 2015, 2018, 2017, 2017, 2018, 2016, 2018, 2013, 2017, 2018, 2019, 2018, 2015, 2016, 2019, 2019, 2019, 2017, 2019, 2018, 2015, 2017, 2016, 2017, 2013, 2018, 2018, 2017, 2018, 2017, 2018, 2017, 2017, 2019, 2018, 2019, 2019, 2016, 2019, 2016, 2017, 2016, 2018, 2017, 2017, 2017, 2016, 2017, 2014, 2017, 2018, 2016, 2015, 2015, 2020, 2018, 2015, 2017, 2016, 2014, 2015, 2013, 2015, 2018, 2017, 2018, 2015, 2017, 2019, 2017, 2018, 2019, 2017, 2018, 2018, 2017, 2017, 2018, 2013, 2018, 2019, 2016, 2018, 2017, 2018, 2018, 2015, 2016, 2016, 2017, 2018, 2017, 2018, 2015, 2014, 2018, 2016, 2019, 2015, 2017, 2018, 2016, 2016, 2015, 2019, 2018, 2017, 2019, 2018, 2016, 2017, 2017, 2015, 2017, 2017, 2018, 2017, 2017, 2016, 2016, 2017, 2017, 2017, 2017, 2015, 2017, 2017, 2017, 2017, 2018, 2018, 2018, 2017, 2017, 2017, 2017, 2017, 2017, 2018, 2014, 2018, 2020, 2015, 2016, 2017, 2019, 2016, 2019, 2015, 2019, 2018, 2018, 2017, 2017, 2019, 2016, 2017, 2018, 2017, 2016, 2017, 2018, 2018, 2017, 2017, 2018, 2019, 2018, 2015, 2014, 2013, 2017, 2016, 2018, 2017, 2017, 2016, 2017, 2013, 2016, 2015, 2015, 2015, 2018, 2017, 2016, 2014, 2018, 2015, 2016, 2019, 2018, 2017, 2017, 2016, 2017, 2016, 2018, 2014, 2016, 2017, 2016, 2015, 2018, 2014, 2013, 2016, 2018, 2018, 2018, 2018, 2018, 2018, 2018, 2017, 2017, 2015, 2015, 2014, 2016, 2015, 2018, 2018, 2016, 2013, 2019, 2016, 2017, 2017, 2017, 2018, 2018, 2019, 2019, 2019, 2016, 2017, 2013, 2016, 2018, 2018, 2014, 2016, 2015, 2017, 2016, 2018, 2018, 2018, 2018, 2018, 2016, 2019, 2019, 2019, 2019, 2019, 2017, 2018, 2017, 2018, 2018, 2018, 2018, 2017, 2017, 2017, 2018, 2020, 2018, 2019, 2019, 2018, 2017, 2018, 2017, 2019, 2014, 2017, 2017, 2017, 2018, 2017, 2017, 2019, 2019, 2019, 2017, 2017, 2019, 2017, 2017, 2019, 2018, 2017, 2019, 2019, 2017, 2018, 2016, 2015, 2016, 2018, 2017, 2018, 2017, 2019, 2017, 2014, 2016, 2014, 2016, 2013, 2019, 2018, 2018, 2016, 2017, 2017, 2014, 2014, 2017, 2017, 2016, 2018, 2017, 2016, 2016, 2016, 2016, 2017, 2017, 2013, 2013, 2017, 2018, 2014, 2017, 2015, 2017, 2014, 2017, 2017, 2018, 2015, 2013, 2017, 2013, 2018, 2014, 2014, 2018, 2018, 2014, 2016, 2019, 2017, 2017, 2017, 2016, 2017, 2017, 2017, 2017, 2017, 2019, 2017, 2017, 2018, 2018, 2019, 2017, 2015, 2019, 2019, 2018, 2013, 2015, 2017, 2016, 2016, 2016, 2015, 2013, 2017, 2018, 2017, 2017, 2015, 2013, 2017, 2014, 2015, 2013, 2018, 2017, 2018, 2017, 2017, 2016, 2015, 2018, 2018, 2016, 2017, 2017, 2019, 2019, 2017, 2017, 2017, 2017, 2017, 2018, 2018, 2015, 2018, 2016, 2017, 2017, 2017, 2019, 2015, 2014, 2018, 2018, 2016, 2017, 2017, 2018, 2018, 2018, 2018, 2014, 2013, 2016, 2017, 2017, 2019, 2018, 2016, 2018, 2015, 2017, 2017, 2018, 2017, 2017, 2017, 2018, 2018, 2018, 2018, 2018, 2017, 2016, 2016, 2019, 2017, 2017, 2017, 2018, 2015, 2014, 2017, 2017, 2013, 2017, 2017, 2017, 2016, 2016, 2017, 2018, 2019, 2016, 2016, 2018, 2017, 2018, 2019, 2018, 2014, 2017, 2015, 2018, 2016, 2018, 2018, 2018, 2018, 2018, 2018, 2018, 2019, 2018, 2018, 2019, 2019, 2018, 2017, 2017, 2017, 2020, 2020, 2019, 2019, 2019, 2019, 2017, 2017, 2015, 2018, 2017, 2020, 2016, 2017, 2016, 2018, 2017, 2018, 2019, 2014, 2016, 2019, 2019, 2017, 2018, 2019, 2018, 2017, 2017, 2017, 2017, 2017, 2017, 2017, 2016, 2018, 2014, 2019, 2017, 2017, 2014, 2018, 2018, 2015, 2018, 2019, 2017, 2017, 2018, 2017, 2017, 2018, 2018, 2018, 2015, 2016, 2017, 2017, 2018, 2018, 2019, 2017, 2018, 2019, 2018, 2019, 2018, 2018, 2015, 2018, 2017, 2017, 2017, 2016, 2016, 2015, 2018, 2015, 2018, 2018, 2018, 2019, 2017, 2018, 2019, 2017, 2018, 2018, 2019, 2019, 2018, 2018, 2018, 2018, 2016, 2016, 2016, 2017, 2017, 2019, 2018, 2018, 2018, 2019, 2018, 2018, 2017, 2018, 2015, 2018, 2019, 2019, 2019, 2019, 2017, 2017, 2017, 2017, 2019, 2016, 2019, 2016, 2017, 2017, 2019, 2017, 2018, 2019, 2017, 2018, 2019, 2017, 2017, 2017, 2018, 2016, 2017, 2018, 2019, 2017, 2016, 2017, 2019, 2016, 2017, 2017, 2016, 2016, 2018, 2018, 2018, 2015, 2018, 2018, 2018, 2018, 2016, 2017, 2018, 2014, 2016, 2016, 2018, 2017, 2016, 2018, 2016, 2015, 2018, 2015, 2019, 2016, 2017, 2017, 2018, 2019, 2014, 2018, 2017, 2014, 2017, 2015, 2014, 2015, 2015, 2014, 2015, 2017, 2018, 2019, 2018, 2018, 2015, 2013, 2017, 2016, 2016, 2017, 2015, 2014, 2016, 2017, 2016, 2016, 2016, 2017, 2017, 2017, 2013, 2017, 2017, 2017, 2019, 2013, 2016, 2016, 2016, 2016, 2018, 2020, 2017, 2019, 2019, 2019, 2017, 2018, 2018, 2016, 2018, 2014, 2017, 2014, 2018, 2016, 2018, 2017, 2019, 2018, 2017, 2017, 2017, 2017, 2017, 2017, 2018, 2017, 2017, 2018, 2017, 2018, 2018, 2019, 2017, 2015, 2014, 2017, 2017, 2017, 2018, 2017, 2017, 2016, 2017, 2017, 2018, 2014, 2020, 2018, 2017, 2017, 2019, 2018, 2018, 2018, 2017, 2014, 2018, 2016, 2019, 2017, 2016, 2017, 2017, 2018, 2017, 2018, 2019, 2017, 2017, 2014, 2016, 2015, 2017, 2018, 2018, 2017, 2018, 2018, 2013, 2018, 2019, 2018, 2018, 2018, 2019, 2015, 2015, 2018, 2016, 2019, 2017, 2017, 2014, 2017, 2017, 2017, 2017, 2019, 2018, 2017, 2016, 2014, 2013, 2015, 2016, 2019, 2019, 2013, 2018, 2016, 2019, 2020, 2018, 2017, 2015, 2019, 2018, 2014, 2018, 2019, 2015, 2015, 2018, 2017, 2019, 2019, 2017, 2018, 2017, 2016, 2017, 2018, 2017, 2016, 2017, 2015, 2017, 2019, 2017, 2017, 2016, 2018, 2018, 2018, 2017, 2017, 2018, 2018, 2018, 2018, 2015, 2017, 2017, 2016, 2016, 2018, 2016, 2016, 2018, 2018, 2016, 2018, 2014, 2015, 2017, 2018, 2017, 2017, 2019, 2016, 2019, 2018, 2018, 2016, 2014, 2017, 2017, 2017, 2016, 2016, 2019, 2017, 2016, 2016, 2018, 2018, 2016, 2017, 2017, 2015, 2017, 2016, 2016, 2017, 2019, 2018, 2018, 2020, 2017, 2018, 2017, 2017, 2018, 2018, 2018, 2017, 2016, 2015, 2013, 2015, 2016, 2018, 2015, 2016, 2017, 2015, 2013, 2016, 2013, 2018, 2014, 2017, 2017, 2017, 2018, 2018, 2014, 2017, 2018, 2017, 2018, 2015, 2017, 2017, 2014, 2016, 2017, 2017, 2016, 2016, 2013, 2018, 2015, 2018, 2018, 2018, 2018, 2018, 2018, 2018, 2018, 2017, 2020, 2020, 2017, 2018, 2018, 2015, 2017, 2017, 2017, 2017, 2019, 2017, 2017, 2018, 2019, 2018, 2019, 2015, 2017, 2018, 2019, 2017, 2017, 2017, 2018, 2016, 2018, 2017, 2018, 2017, 2019, 2019, 2016, 2018, 2017, 2019, 2017, 2018, 2017, 2017, 2017, 2018, 2017, 2017, 2015, 2018, 2015, 2014, 2017, 2017, 2017, 2018, 2018, 2017, 2018, 2018, 2017, 2019, 2017, 2017, 2018, 2016, 2016, 2017, 2017, 2017, 2016, 2018, 2017, 2018, 2018, 2018, 2018, 2018, 2019, 2016, 2016, 2018, 2015, 2014, 2017, 2015, 2017, 2015, 2017, 2015, 2013, 2015, 2015, 2018, 2018, 2016, 2017, 2019, 2016, 2017, 2018, 2018, 2017, 2017, 2018, 2019, 2019, 2017, 2019, 2019, 2018, 2018, 2017, 2019, 2019, 2019, 2019, 2013, 2017, 2013, 2014, 2019, 2015, 2013, 2019, 2018, 2013, 2016, 2017, 2013, 2013, 2013, 2014, 2017, 2016, 2017, 2018, 2017, 2016, 2015, 2017, 2016, 2014, 2015, 2017, 2019, 2019, 2018, 2014, 2016, 2018, 2018, 2017, 2013, 2017, 2017, 2014, 2015, 2016, 2017, 2016, 2017, 2015, 2017, 2018, 2017, 2019, 2019, 2019, 2017, 2018, 2018, 2019, 2019, 2017, 2019, 2017, 2017, 2019, 2019, 2017, 2017, 2017, 2018, 2018, 2017, 2017, 2019, 2018, 2019, 2016, 2019, 2019, 2015, 2019, 2019, 2019, 2019, 2019, 2019, 2018, 2019, 2019, 2018, 2018, 2017, 2017, 2017, 2017, 2017, 2017, 2013, 2016, 2019, 2017, 2017, 2016, 2016, 2017, 2019, 2016, 2017, 2018, 2018, 2018, 2018, 2017, 2014, 2016, 2018, 2018, 2018, 2016, 2018, 2015, 2013, 2015, 2016, 2013, 2014, 2015, 2013, 2013, 2015, 2018, 2015, 2018, 2016, 2016, 2016, 2017, 2018, 2016, 2015, 2017, 2016, 2016, 2018, 2019, 2017, 2017, 2018, 2018, 2018, 2019, 2017, 2014, 2017, 2016, 2017, 2016, 2016, 2018, 2016, 2018, 2016, 2015, 2017, 2018, 2018, 2017, 2017, 2018, 2018, 2018, 2017, 2017, 2014, 2016, 2016, 2015, 2018, 2018, 2015, 2019, 2016, 2017, 2017, 2018, 2017, 2018, 2018, 2018, 2018, 2018, 2018, 2018, 2018, 2019, 2018, 2019, 2019, 2016, 2017, 2017, 2017, 2019, 2019, 2017, 2019, 2017, 2019, 2016, 2017, 2019, 2019, 2018, 2017, 2019, 2019, 2019, 2017, 2019, 2018, 2019, 2018, 2018, 2018, 2018, 2019, 2017, 2017, 2019, 2018, 2017, 2019, 2019, 2019, 2018, 2017, 2018, 2018, 2019, 2019, 2017, 2016, 2017, 2016, 2017, 2017, 2016, 2018, 2018, 2018, 2015, 2019, 2017, 2018, 2015, 2015, 2017, 2015, 2017, 2016, 2019, 2019, 2019, 2017, 2017, 2017, 2017, 2019, 2017, 2017, 2016, 2018, 2016, 2015, 2017, 2014, 2018, 2018, 2017, 2015, 2013, 2018, 2017, 2016, 2018, 2017, 2018, 2017, 2017, 2017, 2017, 2014, 2017, 2017, 2017, 2017, 2019, 2019, 2019, 2019, 2016, 2015, 2018, 2017, 2019, 2016, 2019, 2019, 2015, 2016, 2019, 2019, 2017, 2018, 2018, 2019, 2019, 2019, 2019, 2019, 2019, 2019, 2019, 2019, 2017, 2018, 2018, 2018, 2018, 2018, 2017, 2019, 2019, 2019, 2017, 2016, 2019, 2017, 2015, 2016, 2018, 2017, 2016, 2017, 2019, 2019, 2019, 2019, 2019, 2019, 2019, 2019, 2019, 2019, 2015, 2017, 2017, 2018, 2017, 2015, 2017, 2018, 2018, 2017, 2019, 2015, 2018, 2016, 2016, 2018, 2019, 2018, 2017, 2018, 2018, 2018, 2017, 2018, 2017, 2017, 2018, 2017, 2018, 2017, 2013, 2013, 2019, 2018, 2014, 2016, 2015, 2018, 2017, 2017, 2016, 2015, 2016, 2014, 2016, 2017, 2013, 2016, 2016, 2016, 2017, 2016, 2019, 2017, 2017, 2019, 2019, 2017, 2017, 2018, 2019, 2017, 2015, 2017, 2019, 2016, 2017, 2019, 2019, 2020, 2019, 2019, 2019, 2019, 2019, 2019, 2018, 2019, 2019, 2019, 2015, 2016, 2019, 2018, 2015, 2018, 2013, 2016, 2017, 2018, 2017, 2017, 2018, 2017, 2016, 2019, 2017, 2017, 2017, 2017, 2018, 2017, 2017, 2017, 2017, 2017, 2017, 2017, 2018, 2016, 2018, 2013, 2019, 2019, 2017, 2017, 2017, 2019, 2015, 2016, 2018, 2017, 2019, 2019, 2019, 2019, 2019, 2017, 2019, 2015, 2015, 2017, 2013, 2017, 2018, 2017, 2017, 2016, 2017, 2016, 2019, 2018, 2019, 2017, 2015, 2017, 2018, 2019, 2019, 2018, 2019, 2017, 2016, 2015, 2018, 2018, 2015, 2013, 2013, 2013, 2015, 2017, 2017, 2017, 2017, 2019, 2019, 2019, 2019, 2017, 2018, 2018, 2013, 2013, 2017, 2013, 2016, 2019, 2013, 2018, 2018, 2018, 2016, 2019, 2018, 2018, 2017, 2017, 2019, 2018, 2018, 2018, 2019, 2017, 2014, 2017, 2017, 2017, 2017, 2019, 2018, 2018, 2017, 2018, 2019, 2019, 2019, 2018, 2018, 2018, 2015, 2017, 2018, 2018, 2018, 2018, 2018, 2017, 2018, 2018, 2018, 2018, 2018, 2018, 2019, 2018, 2018, 2019, 2018, 2017, 2017, 2017, 2017, 2016, 2017, 2018, 2018, 2018, 2019, 2018, 2019, 2018, 2018, 2016, 2018, 2018, 2018, 2017, 2017, 2018, 2018, 2019, 2019, 2018, 2017, 2015, 2017, 2017, 2018, 2018, 2018, 2018, 2018, 2018, 2018, 2018, 2016, 2019, 2019, 2019, 2019, 2018, 2013, 2017, 2015, 2018, 2018, 2016, 2019, 2019, 2017, 2016, 2017, 2014, 2016, 2018, 2018, 2017, 2017, 2016, 2018, 2018, 2018, 2017, 2018, 2019, 2019, 2019, 2019, 2019, 2019, 2017, 2018, 2016, 2018, 2015, 2018, 2015, 2017, 2015, 2013, 2019, 2018, 2019, 2016, 2017, 2013, 2019, 2019, 2019, 2017, 2018, 2015, 2014, 2017, 2017, 2019, 2017, 2017, 2020, 2016, 2019, 2016, 2016, 2018, 2015, 2015, 2018, 2017, 2018, 2018, 2014, 2016, 2015, 2017, 2019, 2015, 2017, 2017, 2017, 2018, 2017, 2015, 2015, 2017, 2015, 2016, 2017, 2016, 2017, 2016, 2015, 2017, 2017, 2017, 2016, 2019, 2017, 2018, 2019, 2019, 2017, 2017, 2017, 2017, 2017, 2018, 2018, 2018, 2018, 2018, 2017, 2017, 2019, 2018, 2017, 2014, 2015, 2018, 2018, 2016, 2017, 2018, 2017, 2018, 2018, 2014, 2015, 2015, 2017, 2015, 2014, 2013, 2017, 2014, 2017, 2013, 2016, 2017, 2018, 2018, 2018, 2018, 2018, 2019, 2018, 2018, 2018, 2018, 2019, 2015, 2018, 2018, 2017, 2017, 2017, 2019, 2019, 2019, 2017, 2017, 2018, 2015, 2017, 2013, 2018, 2018, 2018, 2017, 2019, 2019, 2019, 2019, 2017, 2018, 2014, 2014, 2018, 2016, 2017, 2017, 2014, 2016, 2019, 2019, 2018, 2014, 2020, 2020, 2015, 2013, 2017, 2019, 2017, 2016, 2018, 2019, 2018, 2017, 2016, 2017, 2018, 2018, 2017, 2017, 2017, 2015, 2018, 2018, 2017, 2018, 2018, 2017, 2018, 2018, 2018, 2019, 2019, 2015, 2017, 2018, 2017, 2017, 2015, 2018, 2016, 2018, 2017, 2016, 2017, 2017, 2017, 2017, 2018, 2017, 2015, 2018, 2018, 2013, 2018, 2016, 2017, 2017, 2017, 2017, 2018, 2016, 2019, 2018, 2016, 2018, 2017, 2017, 2018, 2017, 2017, 2017, 2016, 2017, 2017, 2018, 2018, 2017, 2018, 2017, 2018, 2018, 2017, 2017, 2016, 2017, 2017, 2018, 2017, 2016, 2016, 2016, 2018, 2017, 2015, 2018, 2018, 2018, 2019, 2017, 2017, 2018, 2018, 2018, 2017, 2017, 2018, 2017, 2016, 2017, 2015, 2018, 2018, 2017, 2016, 2019, 2017, 2019, 2014, 2018, 2018, 2015, 2018, 2017, 2018, 2015, 2016, 2014, 2017, 2017, 2013, 2017, 2017, 2018, 2016, 2018, 2018, 2016, 2018, 2017, 2017, 2015, 2017, 2016, 2017, 2017, 2018, 2015, 2018, 2017, 2018, 2017, 2014, 2018, 2018, 2018, 2017, 2015, 2017, 2019, 2018, 2013, 2017, 2015, 2017, 2015, 2017, 2015, 2018, 2018, 2018, 2018, 2016, 2018, 2016, 2018, 2018, 2017, 2018, 2018, 2019, 2019, 2017, 2018, 2018, 2019, 2019, 2016, 2019, 2018, 2017, 2013, 2017, 2017, 2015, 2018, 2016, 2017, 2017, 2016, 2019, 2018, 2017, 2018, 2018, 2018, 2018, 2019, 2017, 2018, 2018, 2017, 2018, 2018, 2017, 2018, 2019, 2019, 2019, 2018, 2018, 2014, 2017, 2019, 2019, 2019, 2019, 2019, 2019, 2019, 2019, 2019, 2019, 2018, 2018, 2019, 2015, 2017, 2017, 2019, 2018, 2016, 2017, 2014, 2017, 2017, 2017, 2017, 2019, 2019, 2018, 2019, 2019, 2019, 2019, 2019, 2016, 2017, 2019, 2017, 2019, 2019, 2019, 2017, 2017, 2019, 2018, 2019, 2016, 2014, 2014, 2016, 2016, 2015, 2016, 2014, 2014, 2015, 2017, 2014, 2017, 2017, 2017, 2016, 2014, 2015, 2016, 2015, 2018, 2015, 2013, 2017, 2018, 2018, 2018, 2015, 2018, 2017, 2016, 2014, 2013, 2015, 2014, 2016, 2017, 2017, 2016, 2016, 2017, 2017, 2017, 2018, 2016, 2016, 2016, 2019, 2016, 2017, 2017, 2017, 2017, 2018, 2017, 2017, 2017, 2016, 2017, 2014, 2018, 2018, 2018, 2018, 2018, 2017, 2017, 2018, 2018, 2019, 2018, 2019, 2018, 2018, 2018, 2018, 2018, 2018, 2018, 2015, 2017, 2015, 2015, 2019, 2018, 2018, 2018, 2018, 2016, 2018, 2017, 2018, 2014, 2018, 2019, 2016, 2016, 2018, 2014, 2018, 2018, 2017, 2018, 2018, 2017, 2018, 2018, 2018, 2016, 2016, 2019, 2018, 2017, 2018, 2018, 2018, 2018, 2019, 2015, 2018, 2018, 2018, 2018, 2018, 2019, 2014, 2018, 2018, 2018, 2018, 2019, 2019, 2019, 2019, 2018, 2019, 2017, 2019, 2018, 2018, 2018, 2018, 2016, 2018, 2018, 2018, 2018, 2014, 2016, 2018, 2016, 2018, 2018, 2017, 2013, 2015, 2018, 2018, 2013, 2017, 2015, 2018, 2017, 2017, 2017, 2018, 2017, 2018, 2018, 2019, 2017, 2018, 2018, 2017, 2018, 2018, 2016, 2017, 2015, 2017, 2014, 2018, 2017, 2014, 2016, 2016, 2017, 2015, 2017, 2017, 2017, 2018, 2018, 2018, 2018, 2017, 2017, 2018, 2018, 2017, 2018, 2019, 2018, 2019, 2019, 2019, 2019, 2019, 2018, 2017, 2018, 2019, 2018, 2019, 2019, 2018, 2015, 2018, 2018, 2017, 2018, 2018, 2019, 2018, 2018, 2016, 2016, 2018, 2018, 2019, 2019, 2019, 2019, 2019, 2019, 2017, 2019, 2017, 2017, 2017, 2019, 2019, 2019, 2018, 2018, 2018, 2018, 2018, 2020, 2017, 2018, 2019, 2019, 2019, 2017, 2017, 2014, 2018, 2017, 2019, 2018, 2019, 2018, 2019, 2015, 2016, 2013, 2015, 2018, 2015, 2015, 2016, 2016, 2019, 2018, 2018, 2018, 2018, 2019, 2019, 2015, 2016, 2016, 2019, 2019, 2019, 2019, 2015, 2016, 2019, 2018, 2017, 2017, 2017, 2017, 2018, 2018, 2016, 2018, 2018, 2018, 2017, 2018, 2018, 2019, 2019, 2016, 2018, 2019, 2019, 2019, 2019, 2017, 2018, 2019, 2019, 2018, 2017, 2018, 2017, 2018, 2018, 2016, 2017, 2017, 2016, 2018, 2017, 2015, 2017, 2017, 2014, 2017, 2019, 2019, 2019, 2018, 2018, 2019, 2018, 2019, 2017, 2019, 2018, 2018, 2017, 2018, 2018, 2013, 2018, 2016, 2014, 2017, 2018, 2019, 2017, 2013, 2017, 2018, 2017, 2017, 2016, 2019, 2019, 2017, 2018, 2015, 2018, 2018, 2019, 2017, 2018, 2018, 2018, 2018, 2017, 2017, 2018, 2016, 2018, 2018, 2019, 2014, 2018, 2017, 2018, 2019, 2018, 2017, 2018, 2018, 2018, 2013, 2017, 2018, 2018, 2018, 2020, 2016, 2020, 2017, 2018, 2017, 2013, 2017, 2013, 2017, 2018, 2018, 2017, 2018, 2020, 2020, 2017, 2019, 2019, 2019, 2019, 2018, 2019, 2018, 2018, 2018, 2017, 2016, 2017, 2017, 2015, 2015, 2014, 2020, 2020, 2019, 2018, 2020, 2020, 2018, 2016, 2017, 2018, 2016, 2017, 2018, 2018, 2019, 2019, 2018, 2016, 2019, 2019, 2019, 2017, 2018, 2016, 2016, 2018, 2019, 2019, 2017, 2015, 2016, 2019, 2019, 2018, 2018, 2017, 2018, 2019, 2019, 2014, 2017, 2017, 2014, 2019, 2019, 2016, 2015, 2015, 2017, 2017, 2017, 2018, 2018, 2014, 2014, 2017, 2018, 2013, 2017, 2019, 2015, 2016, 2018, 2017, 2015, 2020, 2020, 2018, 2020, 2020, 2020, 2014, 2019, 2019, 2017, 2015, 2019, 2018, 2018, 2019, 2016, 2019, 2018, 2017, 2018, 2018, 2016, 2017, 2017, 2016, 2017, 2015, 2018, 2017, 2017, 2017, 2018, 2020, 2018, 2018, 2016, 2018, 2018, 2016, 2016, 2019, 2018, 2019, 2018, 2018, 2019, 2019, 2018, 2018, 2018, 2018, 2017, 2018, 2017, 2018, 2018, 2018, 2017, 2017, 2019, 2019, 2017, 2018, 2018, 2017, 2017, 2018, 2017, 2018, 2018, 2018, 2017, 2018, 2019, 2018, 2013, 2017, 2014, 2013, 2016, 2019, 2019, 2019, 2017, 2016, 2019, 2018, 2018, 2018, 2019, 2019, 2019, 2019, 2013, 2018, 2019, 2019, 2015, 2017, 2018, 2017, 2016, 2017, 2017, 2020, 2017, 2017, 2015, 2015, 2013, 2014, 2017, 2017, 2014, 2017, 2017, 2017, 2016, 2017, 2016, 2015, 2016, 2017, 2019, 2018, 2019, 2017, 2016, 2018, 2019, 2017, 2019, 2019, 2017, 2016, 2018, 2017, 2018, 2018, 2017, 2015, 2018, 2017, 2017, 2017, 2019, 2016, 2018, 2014, 2015, 2018, 2018, 2016, 2017, 2015, 2016, 2015, 2013, 2019, 2018, 2017, 2018, 2019, 2018, 2018, 2019, 2015, 2017, 2020, 2019, 2017, 2018, 2016, 2016, 2019, 2018, 2016, 2018, 2015, 2017, 2013, 2016, 2016, 2018, 2019, 2019, 2019, 2018, 2020, 2020, 2018, 2018, 2018, 2017, 2016, 2018, 2019, 2018, 2016, 2017, 2018, 2014, 2014, 2017, 2014, 2019, 2018, 2019, 2019, 2014, 2019, 2019, 2015, 2014, 2016, 2017, 2015, 2018, 2016, 2015, 2017, 2014, 2019, 2017, 2018, 2018, 2018, 2017, 2016, 2014, 2017, 2017, 2018, 2016, 2014, 2016, 2017, 2016, 2017, 2017, 2015, 2015, 2019, 2015, 2017, 2016, 2018, 2018, 2018, 2018, 2018, 2013, 2017, 2017, 2019, 2017, 2018, 2019, 2018, 2017, 2017, 2016, 2016, 2019, 2016, 2018, 2017, 2019, 2018, 2016, 2017, 2017, 2017, 2016, 2018, 2018, 2018, 2018, 2018, 2018, 2018, 2018, 2018, 2017, 2016, 2018, 2017, 2015, 2015, 2016, 2019, 2017, 2018, 2016, 2017, 2015, 2017, 2013, 2016, 2018, 2019, 2019, 2018, 2018, 2014, 2018, 2016, 2018, 2019, 2019, 2019, 2019, 2019, 2017, 2017, 2016, 2017, 2017, 2013, 2015, 2018, 2014, 2017, 2019, 2017, 2013, 2019, 2017, 2018, 2015, 2017, 2019, 2019, 2019, 2018, 2018, 2018, 2018, 2016, 2019, 2017, 2019, 2018, 2018, 2018, 2018, 2019, 2015, 2017, 2018, 2018, 2018, 2016, 2019, 2013, 2013, 2016, 2016, 2016, 2018, 2018, 2018, 2015, 2017, 2016, 2018, 2018, 2018, 2015, 2018, 2017, 2018, 2017, 2016, 2017, 2018, 2017, 2018, 2018, 2017, 2017, 2017, 2019, 2017, 2019, 2017, 2016, 2017, 2016, 2013, 2015, 2019, 2019, 2019, 2017, 2017, 2017, 2019, 2019, 2018, 2017, 2017, 2019, 2017, 2017, 2017, 2018, 2019, 2017, 2016, 2019, 2018, 2019, 2019, 2017, 2016, 2020, 2017, 2017, 2017, 2017, 2019, 2019, 2019, 2018, 2019, 2019, 2019, 2019, 2016, 2019, 2018, 2018, 2017, 2016, 2018, 2019, 2018, 2018, 2018, 2016, 2015, 2017, 2019, 2017, 2019, 2016, 2019, 2016, 2018, 2017, 2016, 2017, 2017, 2017, 2019, 2018, 2017, 2017, 2018, 2018, 2017, 2018, 2019, 2015, 2017, 2019, 2019, 2018, 2017, 2017, 2018, 2018, 2018, 2018, 2017, 2018, 2018, 2019, 2019, 2019, 2019, 2019, 2018, 2018, 2017, 2019, 2018, 2017, 2016, 2019, 2017, 2018, 2019, 2018, 2017, 2018, 2018, 2018, 2018, 2018, 2017, 2018, 2019, 2013, 2018, 2019, 2016, 2016, 2013, 2016, 2018, 2017, 2016, 2017, 2016, 2018, 2017, 2019, 2018, 2018, 2018, 2019, 2019, 2017, 2018, 2020, 2020, 2016, 2016, 2016, 2018, 2018, 2018, 2019, 2019, 2019, 2017, 2018, 2017, 2017, 2018, 2017, 2018, 2018, 2017, 2018, 2018, 2019, 2018, 2020, 2020, 2019, 2018, 2020, 2019, 2014, 2016, 2019, 2017, 2017, 2017, 2017, 2017, 2017, 2018, 2017, 2018, 2017, 2019, 2019, 2017, 2017, 2018, 2018, 2016, 2019, 2013, 2016, 2016, 2017, 2013, 2017, 2016, 2018, 2017, 2020, 2020, 2020, 2018, 2018, 2017, 2017, 2017, 2018, 2018, 2018, 2015, 2015, 2017, 2018, 2017, 2018, 2018, 2014, 2015, 2016, 2018, 2015, 2018, 2018, 2017, 2018, 2016, 2014, 2018, 2016, 2019, 2019, 2016, 2017, 2018, 2017, 2019, 2018, 2017, 2017, 2016, 2013, 2019, 2016, 2017, 2017, 2016, 2018, 2016, 2017, 2016, 2017, 2014, 2018, 2015, 2019, 2019, 2018, 2013, 2014, 2017, 2017, 2017, 2016, 2019, 2019, 2013, 2019, 2013, 2013, 2017, 2017, 2017, 2019, 2014, 2017, 2017, 2018, 2017, 2019, 2017, 2018, 2017, 2018, 2019, 2019, 2017, 2019, 2019, 2017, 2015, 2017, 2019, 2016, 2016, 2018, 2018, 2017, 2018, 2019, 2016, 2017, 2018, 2018, 2017, 2017, 2017, 2017, 2013, 2017, 2020, 2015, 2016, 2020, 2017, 2014, 2017, 2018, 2016, 2017, 2019, 2016, 2018, 2015, 2018, 2018, 2018, 2018, 2017, 2017, 2018, 2019, 2017, 2018, 2018, 2019, 2019, 2019, 2019, 2017, 2017, 2016, 2018, 2016, 2019, 2019, 2019, 2019, 2020, 2017, 2019, 2016, 2013, 2015, 2016, 2018, 2018, 2016, 2016, 2016, 2017, 2015, 2017, 2017, 2015, 2018, 2017, 2019, 2017, 2019, 2017, 2019, 2017, 2018, 2019, 2018, 2016, 2017, 2016, 2019, 2013, 2018, 2018, 2018, 2017, 2018, 2018, 2018, 2017, 2018, 2017, 2017, 2017, 2019, 2017, 2019, 2017, 2017, 2017, 2019, 2013, 2017, 2017, 2018, 2018, 2020, 2015, 2019, 2018, 2018, 2016, 2016, 2019, 2019, 2019, 2013, 2017, 2019, 2019, 2018, 2017, 2017, 2018, 2018, 2017, 2019, 2018, 2020, 2020, 2020, 2017, 2018, 2015, 2017, 2018, 2016, 2013, 2016, 2017, 2016, 2018, 2017, 2017, 2017, 2017, 2015, 2015, 2017, 2017, 2017, 2017, 2018, 2020, 2019, 2017, 2017, 2017, 2019, 2016, 2016, 2017, 2018, 2017, 2018, 2017, 2017, 2017, 2013, 2018, 2018, 2018, 2018, 2016, 2017, 2018, 2017, 2018, 2015, 2018, 2018, 2019, 2019, 2018, 2017, 2017, 2017, 2019, 2018, 2017, 2018, 2018, 2019, 2018, 2018, 2017, 2018, 2017, 2019, 2019, 2018, 2018, 2019, 2014, 2017, 2017, 2017, 2019, 2016, 2018, 2015, 2017, 2019, 2019, 2018, 2016, 2018, 2020, 2018, 2013, 2016, 2013, 2019, 2016, 2015, 2018, 2017, 2017, 2019, 2017, 2016, 2018, 2018, 2016, 2019, 2018, 2017, 2017, 2018, 2016, 2016, 2019, 2018, 2018, 2019, 2018, 2014, 2017, 2017, 2017, 2017, 2018, 2017, 2020, 2017, 2017, 2018, 2017, 2019, 2016, 2018, 2017, 2018, 2018, 2018, 2014, 2018, 2018, 2017, 2015, 2013, 2019, 2019, 2019, 2019, 2019, 2019, 2019, 2018, 2018, 2018, 2017, 2017, 2017, 2018, 2017, 2017, 2016, 2014, 2018, 2017, 2019, 2019, 2019, 2019, 2019, 2019, 2019, 2016, 2015, 2018, 2017, 2018, 2017, 2013, 2018, 2018, 2018, 2017, 2015, 2017, 2018, 2019, 2017, 2017, 2018, 2018, 2019, 2019, 2019, 2019, 2017, 2019, 2019, 2017, 2019, 2015, 2018, 2018, 2019, 2018, 2017, 2017, 2018, 2018, 2018, 2017, 2015, 2018, 2017, 2018, 2018, 2018, 2018, 2013, 2018, 2016, 2018, 2018, 2017, 2018, 2018, 2018, 2017, 2018, 2018, 2018, 2019, 2019, 2017, 2019, 2019, 2019, 2019, 2017, 2019, 2017, 2019, 2018, 2018, 2018, 2013, 2019, 2017, 2016, 2018, 2017, 2019, 2018, 2017, 2018, 2018, 2018, 2017, 2017, 2017, 2017, 2017, 2017, 2018, 2017, 2018, 2019, 2019, 2018, 2017, 2014, 2019, 2015, 2018, 2018, 2015, 2017, 2017, 2017, 2018, 2017, 2013, 2018, 2018, 2018, 2017, 2018, 2018, 2018, 2018, 2018, 2017, 2017, 2016, 2017, 2018, 2017, 2015, 2018, 2018, 2018, 2018, 2018, 2016, 2019, 2016, 2017, 2018, 2014, 2019, 2018, 2018, 2018, 2018, 2018, 2016, 2018, 2017, 2017, 2016, 2016, 2017, 2017, 2016, 2016, 2017, 2017, 2017, 2014, 2018, 2018, 2018, 2017, 2017, 2018, 2018, 2016, 2019, 2015, 2017, 2017, 2017, 2017, 2014, 2018, 2018, 2017, 2017, 2018, 2017, 2015, 2018, 2017, 2017, 2017, 2017, 2018, 2019, 2017, 2018, 2014, 2018, 2019, 2019, 2019, 2017, 2018, 2018, 2018, 2018, 2019, 2018, 2018, 2017, 2019, 2019, 2017, 2016, 2018, 2019, 2018, 2019, 2019, 2019, 2017, 2018, 2018, 2017, 2018, 2016, 2016, 2018, 2018, 2017, 2019, 2018, 2018, 2019, 2019, 2019, 2019, 2018, 2018, 2018, 2017, 2018, 2018, 2018, 2014, 2017, 2017, 2017, 2018, 2018, 2018, 2017, 2014, 2016, 2016, 2013, 2013, 2016, 2016, 2018, 2015, 2015, 2015, 2016, 2017, 2017, 2017, 2017, 2017, 2016, 2018, 2014, 2017, 2016, 2019, 2018, 2017, 2017, 2017, 2017, 2017, 2019, 2019, 2019, 2019, 2019, 2019, 2019, 2019, 2019, 2019, 2019, 2013, 2017, 2019, 2017, 2017, 2017, 2018, 2018, 2018, 2017, 2019, 2019, 2016, 2017, 2015, 2017, 2019, 2018, 2017, 2017, 2019, 2017, 2019, 2018, 2019, 2019, 2019, 2017, 2019, 2019, 2017, 2017, 2019, 2019, 2019, 2016, 2020, 2020, 2017, 2016, 2018, 2018, 2015, 2018, 2017, 2016, 2016, 2018, 2019, 2018, 2017, 2018, 2019, 2018, 2016, 2017, 2016, 2016, 2016, 2013, 2018, 2017, 2018, 2020, 2018, 2018, 2019, 2017, 2017, 2019, 2017, 2016, 2019, 2015, 2018, 2016, 2019, 2019, 2019, 2018, 2017, 2017, 2017, 2015, 2017, 2017, 2018, 2017, 2015, 2018, 2019, 2019, 2018, 2019, 2018, 2018, 2019, 2018, 2017, 2019, 2017, 2017, 2016, 2018, 2017, 2016, 2016, 2016, 2016, 2017, 2018, 2016, 2018, 2018, 2018, 2019, 2019, 2018, 2019, 2018, 2019, 2018, 2019, 2019, 2015, 2017, 2018, 2017, 2018, 2018, 2016, 2019, 2017, 2017, 2017, 2018, 2017, 2017, 2018, 2018, 2017, 2019, 2018, 2017, 2016, 2017, 2019, 2018, 2016, 2019, 2017, 2017, 2015, 2014, 2015, 2017, 2015, 2016, 2017, 2018, 2017, 2019, 2018, 2019, 2015, 2015, 2014, 2015, 2017, 2017, 2015, 2013, 2014, 2017, 2017, 2018, 2018, 2016, 2017, 2018, 2015, 2017, 2016, 2016, 2017, 2017, 2018, 2016, 2019, 2013, 2019, 2019, 2019, 2019, 2019, 2019, 2019, 2017, 2017, 2018, 2018, 2018, 2017, 2018, 2018, 2017, 2016, 2017, 2016, 2019, 2018, 2017, 2018, 2017, 2018, 2014, 2020, 2018, 2016, 2013, 2016, 2019, 2016, 2018, 2016, 2017, 2017, 2016, 2018, 2017, 2018, 2017, 2019, 2019, 2020, 2018, 2018, 2018, 2018, 2017, 2017, 2017, 2019, 2020, 2014, 2017, 2013, 2016, 2015, 2015, 2016, 2017, 2014, 2016, 2016, 2019, 2016, 2018, 2017, 2017, 2017, 2019, 2018, 2016, 2017, 2019, 2019, 2019, 2017, 2018, 2018, 2017, 2019, 2019, 2016, 2017, 2018, 2019, 2017, 2017, 2017, 2017, 2017, 2017, 2018, 2018, 2016, 2019, 2017, 2018, 2019, 2019, 2018, 2018, 2020, 2018, 2018, 2019, 2018, 2018, 2018, 2019, 2019, 2019, 2018, 2018, 2019, 2017, 2017, 2018, 2017, 2017, 2018, 2017, 2018, 2018, 2016, 2019, 2018, 2018, 2017, 2019, 2019, 2018, 2016, 2017, 2016, 2019, 2017, 2013, 2018, 2017, 2017, 2017, 2017, 2016, 2016, 2019, 2019, 2019, 2019, 2017, 2018, 2018, 2019, 2017, 2018, 2018, 2017, 2018, 2019, 2020, 2018, 2016, 2018, 2019, 2018, 2018, 2019, 2017, 2017, 2017, 2013, 2016, 2017, 2018, 2018, 2017, 2017, 2016, 2019, 2017, 2017, 2018, 2017, 2017, 2017, 2017, 2019, 2018, 2018, 2019, 2019, 2019, 2013, 2018, 2017, 2017, 2016, 2016, 2015, 2017, 2019, 2018, 2019, 2018, 2019, 2016, 2016, 2017, 2017, 2017, 2018, 2016, 2018, 2018, 2019, 2018, 2017, 2018, 2017, 2019, 2017, 2018, 2018, 2019, 2019, 2019, 2018, 2018, 2018, 2018, 2019, 2018, 2016, 2018, 2017, 2019, 2015, 2015, 2017, 2018, 2013, 2016, 2016, 2018, 2017, 2016, 2018, 2019, 2019, 2019, 2018, 2017, 2017, 2017, 2019, 2019, 2017, 2017, 2018, 2017, 2018, 2019, 2018, 2019, 2018, 2017, 2018, 2017, 2017, 2019, 2018, 2018, 2019, 2019, 2019, 2018, 2019, 2019, 2019, 2018, 2017, 2017, 2015, 2018, 2016, 2017, 2015, 2018, 2017, 2018, 2017, 2015, 2019, 2015, 2016, 2015, 2017, 2017, 2019, 2015, 2018, 2018, 2018, 2017, 2018, 2019, 2019, 2018, 2017, 2018, 2018, 2018, 2018, 2018, 2020, 2019, 2019, 2019, 2019, 2019, 2020, 2020, 2019, 2018, 2017, 2017, 2018, 2018, 2019, 2018, 2019, 2018, 2018, 2019, 2018, 2017, 2016, 2018, 2019, 2019, 2018, 2018, 2017, 2017, 2018, 2018, 2018, 2018, 2019, 2019, 2019, 2018, 2019, 2017, 2017, 2019, 2018, 2018, 2018, 2018, 2018, 2018, 2018, 2017, 2015, 2016, 2017, 2018, 2019, 2018, 2016, 2018, 2018, 2018, 2018, 2018, 2018, 2014, 2016, 2018, 2017, 2018, 2019, 2018, 2018, 2017, 2014, 2017, 2019, 2020, 2019, 2017, 2016, 2016, 2019, 2016, 2019, 2017, 2019, 2017, 2017, 2019, 2019, 2019, 2019, 2019, 2019, 2019, 2019, 2017, 2020, 2016, 2019, 2019, 2019, 2017, 2017, 2017, 2017, 2018, 2018, 2017, 2017, 2017, 2016, 2020, 2018, 2018, 2015, 2019, 2020, 2019, 2019, 2019, 2019, 2019, 2019, 2019, 2017, 2019, 2020, 2017, 2018, 2020, 2019, 2017, 2020, 2019, 2018, 2019, 2017, 2018, 2017, 2018, 2017, 2018, 2018, 2018, 2019, 2018, 2020, 2016, 2017, 2018, 2019, 2016, 2018, 2017, 2015, 2016, 2017, 2018, 2017, 2017, 2016, 2018, 2017, 2017, 2019, 2019, 2018, 2017, 2019, 2015, 2018, 2014, 2018, 2016, 2016, 2020, 2016, 2017, 2018, 2018, 2018, 2014, 2019, 2013, 2018, 2019, 2018, 2018, 2016, 2016, 2018, 2016, 2017, 2018, 2019, 2016, 2017, 2013, 2016, 2018, 2018, 2015, 2017, 2018, 2017, 2017, 2013, 2017, 2014, 2018, 2017, 2018, 2016, 2016, 2018, 2017, 2016, 2018, 2018, 2014, 2019, 2016, 2016, 2015, 2017, 2015, 2017, 2018, 2017, 2017, 2019, 2016, 2015, 2018, 2018, 2019, 2019, 2017, 2019, 2019, 2018, 2016, 2017, 2016, 2017, 2017, 2019, 2019, 2019, 2017, 2019, 2019, 2019, 2019, 2019, 2019, 2019, 2019, 2019, 2019, 2019, 2019, 2017, 2018, 2019, 2016, 2017, 2017, 2015, 2017, 2018, 2016, 2019, 2017, 2018, 2019, 2019, 2017, 2019, 2019, 2018, 2017, 2013, 2013, 2018, 2016, 2018, 2019, 2017, 2019, 2018, 2018, 2019, 2019, 2019, 2017, 2017, 2019, 2017, 2015, 2019, 2016, 2014, 2019, 2016, 2016, 2017, 2019, 2019, 2019, 2017, 2017, 2017, 2018, 2018, 2019, 2019, 2019, 2018, 2015, 2018, 2017, 2018, 2017, 2015, 2017, 2018, 2018, 2018, 2019, 2018, 2017, 2017, 2019, 2017, 2017, 2018, 2017, 2017, 2016, 2019, 2013, 2018, 2018, 2017, 2020, 2018, 2019, 2019, 2019, 2019, 2017, 2017, 2018, 2018, 2018, 2018, 2019, 2019, 2019, 2019, 2017, 2018, 2018, 2018, 2019, 2017, 2019, 2018, 2019, 2019, 2019, 2020, 2020, 2020, 2020, 2017, 2018, 2019, 2019, 2019, 2019, 2019, 2019, 2019, 2019, 2019, 2019, 2019, 2019, 2019, 2019, 2019, 2019, 2017, 2018, 2019, 2015, 2019, 2019, 2018, 2014, 2017, 2019, 2018, 2018, 2016, 2016, 2020, 2017, 2017, 2017, 2017, 2019, 2019, 2018, 2017, 2017, 2017, 2017, 2019, 2017, 2018, 2019, 2018, 2019, 2018, 2018, 2018, 2018, 2019, 2017, 2017, 2017, 2019, 2019, 2017, 2017, 2017, 2017, 2018, 2018, 2017, 2017, 2017, 2018, 2017, 2018, 2018, 2016, 2019, 2017, 2020, 2019, 2018, 2016, 2019, 2017, 2018, 2018, 2019, 2017, 2017, 2018, 2018, 2019, 2018, 2018, 2018, 2019, 2019, 2016, 2016, 2017, 2019, 2017, 2019, 2017, 2017, 2019, 2018, 2017, 2017, 2016, 2018, 2019, 2017, 2019, 2019, 2019, 2019, 2019, 2019, 2019, 2017, 2017, 2018, 2018, 2017, 2017, 2019, 2017, 2017, 2014, 2019, 2017, 2017, 2017, 2019, 2017, 2018, 2015, 2018, 2016, 2017, 2016, 2017, 2018, 2018, 2017, 2017, 2016, 2017, 2017, 2015, 2018, 2018, 2018, 2018, 2017, 2015, 2017, 2017, 2017, 2018, 2019, 2017, 2017, 2015, 2018, 2014, 2016, 2017, 2017, 2017, 2017, 2018, 2019, 2017, 2017, 2017, 2015, 2018, 2018, 2018, 2018, 2017, 2018, 2018, 2019, 2019, 2019, 2018, 2019, 2017, 2018, 2015, 2018, 2019, 2018, 2017, 2017, 2019, 2016, 2015, 2016, 2018, 2017, 2017, 2018, 2018, 2019, 2018, 2017, 2017, 2015, 2015, 2016, 2016, 2017, 2015, 2014, 2017, 2017, 2015, 2016, 2017, 2014, 2017, 2018, 2018, 2013, 2019, 2019, 2019, 2018, 2019, 2019, 2017, 2018, 2019, 2017, 2018, 2018, 2018, 2018, 2019, 2019, 2019, 2019, 2019, 2020, 2020, 2018, 2018, 2017, 2019, 2019, 2018, 2018, 2018, 2015, 2018, 2019, 2017, 2018, 2019, 2019, 2019, 2018, 2016, 2017, 2017, 2017, 2019, 2017, 2016, 2014, 2017, 2019, 2018, 2017, 2015, 2016, 2019, 2020, 2020, 2019, 2019, 2017, 2018, 2018, 2016, 2018, 2017, 2019, 2019, 2018, 2017, 2019, 2019, 2019, 2019, 2018, 2018, 2019, 2018, 2017, 2018, 2017, 2020, 2017, 2017, 2017, 2019, 2017, 2017, 2016, 2019, 2018, 2019, 2017, 2018, 2017, 2015, 2013, 2017, 2019, 2018, 2018, 2018, 2018, 2019, 2019, 2018, 2019, 2018, 2018, 2018, 2019, 2017, 2017, 2019, 2017, 2018, 2018, 2017, 2019, 2018, 2017, 2019, 2019, 2018, 2017, 2017, 2019, 2016, 2017, 2018, 2017, 2019, 2018, 2017, 2014, 2017, 2017, 2018, 2019, 2019, 2017, 2019, 2019, 2017, 2017, 2016, 2020, 2019, 2018, 2020, 2020, 2020, 2020, 2019, 2019, 2017, 2017, 2018, 2016, 2018, 2018, 2019, 2014, 2014, 2013, 2013, 2013, 2019, 2017, 2017, 2016, 2019, 2018, 2014, 2019, 2017, 2017, 2017, 2018, 2017, 2016, 2015, 2019, 2018, 2014, 2019, 2017, 2013, 2013, 2019, 2019, 2019, 2016, 2018, 2019, 2019, 2019, 2018, 2019, 2018, 2017, 2017, 2016, 2019, 2017, 2018, 2017, 2018, 2019, 2016, 2017, 2017, 2019, 2018, 2017, 2017, 2019, 2016, 2017, 2016, 2018, 2017, 2017, 2019, 2018, 2019, 2019, 2015, 2018, 2018, 2018, 2019, 2019, 2018, 2018, 2019, 2019, 2019, 2019, 2017, 2019, 2016, 2017, 2017, 2017, 2019, 2018, 2019, 2017, 2015, 2018, 2018, 2018, 2019, 2019, 2016, 2018, 2019, 2019, 2019, 2019, 2017, 2018, 2018, 2018, 2016, 2018, 2015, 2018, 2017, 2017, 2017, 2017, 2016, 2017, 2018, 2016, 2017, 2019, 2020, 2020, 2019, 2018, 2018, 2018, 2019, 2019, 2019, 2019, 2017, 2017, 2016, 2017, 2019, 2019, 2018, 2019, 2017, 2019, 2019, 2017, 2017, 2017, 2019, 2019, 2016, 2015, 2019, 2017, 2017, 2018, 2013, 2014, 2017, 2018, 2018, 2018, 2019, 2019, 2019, 2018, 2018, 2019, 2017, 2019, 2018, 2018, 2017, 2017, 2018, 2018, 2015, 2017, 2016, 2018, 2017, 2014, 2015, 2016, 2018, 2016, 2016, 2018, 2015, 2018, 2015, 2018, 2017, 2019, 2019, 2018, 2017, 2017, 2017, 2018, 2017, 2017, 2019, 2017, 2018, 2018, 2017, 2019, 2020, 2018, 2019, 2014, 2017, 2016, 2019, 2018, 2018, 2018, 2018, 2019, 2017, 2017, 2019, 2018, 2019, 2017, 2018, 2018, 2019, 2015, 2017, 2018, 2019, 2019, 2019, 2017, 2018, 2017, 2017, 2019, 2019, 2019, 2019, 2017, 2019, 2018, 2016, 2018, 2018, 2018, 2017, 2018, 2018, 2019, 2019, 2019, 2019, 2018, 2018, 2019, 2018, 2018, 2019, 2018, 2017, 2017, 2017, 2017, 2017, 2019, 2018, 2019, 2017, 2018, 2017, 2016, 2018, 2015, 2018, 2018, 2019, 2019, 2019, 2015, 2019, 2019, 2013, 2018, 2017, 2018, 2017, 2016, 2019, 2019, 2019, 2018, 2019, 2019, 2020, 2018, 2017, 2018, 2017, 2016, 2017, 2017, 2018, 2017, 2017, 2019, 2018, 2019, 2017, 2017, 2018, 2019, 2019, 2017, 2018, 2018, 2017, 2017, 2018, 2019, 2018, 2018, 2015, 2014, 2016, 2016, 2017, 2019, 2018, 2017, 2015, 2016, 2017, 2018, 2016, 2019, 2017, 2017, 2019, 2018, 2019, 2018, 2017, 2016, 2015, 2014, 2014, 2017, 2015, 2016, 2017, 2019, 2017, 2014, 2019, 2019, 2019, 2017, 2013, 2016, 2018, 2018, 2018, 2018, 2019, 2019, 2018, 2019, 2018, 2016, 2017, 2017, 2018, 2018, 2019, 2016, 2018, 2018, 2019, 2017, 2018, 2017, 2019, 2018, 2018, 2017, 2018, 2018, 2018, 2017, 2017, 2018, 2017, 2019, 2018, 2016, 2017, 2019, 2018, 2018, 2016, 2017, 2018, 2016, 2015, 2015, 2015, 2016, 2016, 2019, 2018, 2016, 2017, 2019, 2019, 2019, 2019, 2019, 2019, 2019, 2016, 2017, 2016, 2017, 2018, 2017, 2017, 2017, 2019, 2019, 2019, 2019, 2017, 2017, 2018, 2018, 2019, 2017, 2018, 2018, 2019, 2018, 2018, 2019, 2019, 2016, 2017, 2016, 2018, 2014, 2016, 2019, 2019, 2019, 2018, 2019, 2020, 2019, 2017, 2018, 2017, 2018, 2017, 2018, 2015, 2019, 2019, 2018, 2017, 2016, 2016, 2019, 2017, 2019, 2016, 2013, 2017, 2017, 2018, 2017, 2018, 2018, 2019, 2019, 2017, 2017, 2017, 2016, 2017, 2016, 2019, 2017, 2017, 2019, 2019, 2020, 2019, 2017, 2019, 2018, 2016, 2017, 2018, 2018, 2018, 2018, 2018, 2015, 2017, 2019, 2019, 2020, 2015, 2017, 2019, 2018, 2017, 2017, 2018, 2016, 2018, 2017, 2016, 2017, 2017, 2017, 2018, 2018, 2018, 2017, 2017, 2019, 2018, 2016, 2019, 2017, 2017, 2015, 2017, 2017, 2020, 2017, 2017, 2014, 2018, 2017, 2013, 2019, 2018, 2017, 2018, 2017, 2014, 2016, 2017, 2017, 2016, 2015, 2017, 2017, 2017, 2017, 2017, 2017, 2017, 2019, 2019, 2019, 2015, 2018, 2017, 2019, 2019, 2017, 2018, 2017, 2017, 2017, 2017, 2018, 2018, 2018, 2017, 2018, 2018, 2018, 2018, 2018, 2019, 2017, 2018, 2019, 2019, 2018, 2018, 2017, 2018, 2016, 2015, 2017, 2017, 2016, 2015, 2017, 2019, 2019, 2018, 2017, 2017, 2019, 2018, 2018, 2019, 2018, 2017, 2019, 2017, 2019, 2019, 2018, 2013, 2019, 2018, 2017, 2017, 2017, 2018, 2018, 2019, 2018, 2019, 2018, 2018, 2018, 2017, 2016, 2017, 2016, 2017, 2018, 2018, 2018, 2019, 2015, 2019, 2018, 2018, 2019, 2018, 2018, 2018, 2019, 2019, 2018, 2019, 2016, 2018, 2017, 2017, 2015, 2015, 2018, 2019, 2017, 2017, 2019, 2019, 2019, 2017, 2019, 2019, 2013, 2018, 2017, 2018, 2017, 2020, 2019, 2019, 2017, 2018, 2018, 2019, 2018, 2017, 2017, 2017, 2018, 2016, 2017, 2016, 2019, 2019, 2017, 2018, 2019, 2018, 2015, 2019, 2017, 2018, 2017, 2019, 2018, 2018, 2017, 2017, 2019, 2017, 2016, 2018, 2017, 2017, 2018, 2020, 2019, 2018, 2018, 2019, 2019, 2019, 2018, 2019, 2017, 2018, 2019, 2019, 2016, 2018, 2019, 2017, 2016, 2018, 2019, 2019, 2018, 2018, 2017, 2019, 2019, 2019, 2019, 2013, 2015, 2019, 2019, 2019, 2019, 2019, 2017, 2014, 2018, 2018, 2019, 2019, 2017, 2017, 2014, 2019, 2015, 2018, 2017, 2018, 2016, 2017, 2017, 2018, 2019, 2019, 2019, 2019, 2017, 2019, 2018, 2019, 2019, 2019, 2018, 2017, 2019, 2017, 2018, 2016, 2017, 2019, 2019, 2018, 2019, 2020, 2016, 2016, 2020, 2018, 2017, 2017, 2017, 2019, 2019, 2019, 2019, 2019, 2019, 2019, 2016, 2019, 2019, 2017, 2018, 2019, 2016, 2019, 2017, 2017, 2019, 2018, 2018, 2017, 2018, 2017, 2018, 2018, 2017, 2019, 2019, 2018, 2019, 2016, 2014, 2018, 2018, 2019, 2018, 2018, 2018, 2019, 2019, 2018, 2017, 2017, 2017, 2017, 2017, 2017, 2019, 2019, 2019, 2016, 2015, 2019, 2019, 2020, 2020, 2019, 2018, 2017, 2019, 2015, 2018, 2019, 2018, 2018, 2016, 2019, 2019, 2019, 2019, 2019, 2019, 2019, 2019, 2019, 2018, 2016, 2017, 2016, 2017, 2017, 2017, 2017, 2017, 2016, 2019, 2019, 2019, 2019, 2019, 2019, 2019, 2016, 2018, 2017, 2018, 2019, 2018, 2019, 2018, 2018, 2015, 2019, 2017, 2019, 2019, 2017, 2016, 2018, 2018, 2019, 2013, 2014, 2019, 2019, 2019, 2019, 2019, 2019, 2019, 2019, 2019, 2017, 2017, 2017, 2017, 2018, 2019, 2016, 2018, 2018, 2019, 2016, 2017, 2017, 2017, 2019, 2018, 2018, 2018, 2017, 2019, 2019, 2019, 2016, 2017, 2018, 2017, 2019, 2019, 2017, 2018, 2017, 2019, 2017, 2017, 2014, 2017, 2017, 2019, 2019, 2018, 2017, 2018, 2018, 2019, 2019, 2020, 2020, 2020, 2018, 2019, 2019, 2019, 2019, 2019, 2019, 2019, 2019, 2019, 2019, 2019, 2019, 2019, 2019, 2017, 2018, 2019, 2018, 2014, 2017, 2016, 2017, 2018, 2016, 2017, 2015, 2017, 2016, 2019, 2017, 2018, 2014, 2016, 2019, 2018, 2017, 2018, 2018, 2017, 2018, 2019, 2016, 2016, 2015, 2013, 2018, 2019, 2020, 2020, 2020, 2018, 2017, 2019, 2017, 2019, 2019, 2016, 2014, 2017, 2018, 2013, 2019, 2019, 2019, 2017, 2016, 2016, 2017, 2019, 2019, 2017, 2018, 2016, 2019, 2017, 2019, 2017, 2017, 2017, 2017, 2018, 2019, 2018, 2019, 2017, 2017, 2018, 2019, 2016, 2017, 2019, 2019, 2016, 2018, 2018, 2017, 2020, 2017, 2019, 2018, 2017, 2019, 2018, 2018, 2016, 2016, 2017, 2018, 2017, 2016, 2018, 2020, 2018, 2019, 2016, 2017, 2018, 2017, 2019, 2018, 2017, 2019, 2019, 2019, 2019, 2019, 2019, 2019, 2019, 2019, 2019, 2016, 2017, 2019, 2019, 2017, 2015, 2019, 2019, 2019, 2019, 2018, 2018, 2018, 2018, 2019, 2018, 2018, 2017, 2019, 2020, 2016, 2017, 2018, 2017, 2017, 2018, 2017, 2017, 2019, 2019, 2017, 2018, 2018, 2019, 2019, 2019, 2019, 2019, 2017, 2013, 2018, 2017, 2017, 2016, 2018, 2019, 2018, 2017, 2018, 2019, 2019, 2017, 2018, 2017, 2019, 2019, 2015, 2018, 2018, 2018, 2016, 2019, 2019, 2019, 2019, 2015, 2017, 2018, 2017, 2018, 2017, 2017, 2018, 2016, 2019, 2018, 2016, 2018, 2017, 2017, 2018, 2017, 2019, 2018, 2017, 2019, 2015, 2018, 2018, 2019, 2017, 2019, 2017, 2019, 2019, 2020, 2019, 2019, 2019, 2015, 2017, 2019, 2019, 2019, 2019, 2015, 2017, 2016, 2015, 2017, 2017, 2018, 2016, 2018, 2014, 2017, 2018, 2019, 2019, 2019, 2019, 2016, 2017, 2018, 2018, 2018, 2019, 2018, 2013, 2017, 2016, 2017, 2014, 2017, 2016, 2016, 2017, 2018, 2019, 2017, 2019, 2015, 2017, 2017, 2016, 2017, 2018, 2018, 2017, 2014, 2014, 2018, 2018, 2017, 2016, 2018, 2018, 2016, 2019, 2019, 2020, 2019, 2018, 2019, 2018, 2018, 2019, 2019, 2017, 2019, 2019, 2019, 2018, 2019, 2017, 2016, 2016, 2019, 2020, 2015, 2020, 2019, 2018, 2018, 2018, 2018, 2013, 2017, 2015, 2014, 2013, 2017, 2016, 2017, 2018, 2015, 2018, 2018, 2018, 2018, 2019, 2019, 2018, 2017, 2019, 2017, 2018, 2017, 2019, 2019, 2017, 2015, 2019, 2019, 2019, 2019, 2019, 2016, 2017, 2016, 2018, 2017, 2014, 2017, 2018, 2017, 2014, 2014, 2017, 2016, 2015, 2018, 2019, 2018, 2019, 2018, 2019, 2019, 2017, 2018, 2017, 2018, 2018, 2018, 2014, 2018, 2018, 2018, 2018, 2018, 2018, 2018, 2019, 2019, 2019, 2017, 2017, 2019, 2017, 2019, 2017, 2020, 2018, 2017, 2017, 2019, 2019, 2019, 2018, 2019, 2018, 2017, 2017, 2019, 2018, 2017, 2017, 2017, 2019, 2018, 2019, 2020, 2018, 2013, 2017, 2016, 2018, 2019, 2016, 2014, 2018, 2017, 2016, 2018, 2018, 2019, 2019, 2019, 2019, 2019, 2018, 2019, 2019, 2017, 2017, 2016, 2019, 2019, 2019, 2017, 2018, 2017, 2019, 2019, 2019, 2016, 2018, 2017, 2019, 2018, 2015, 2014, 2017, 2017, 2019, 2019, 2017, 2017, 2019, 2017, 2019, 2019, 2017, 2019, 2019, 2016, 2016, 2018, 2018, 2016, 2016, 2018, 2018, 2014, 2017, 2014, 2018, 2019, 2019, 2016, 2018, 2017, 2016, 2018, 2019, 2019, 2014, 2016, 2014, 2017, 2019, 2017, 2019, 2018, 2019, 2017, 2016, 2017, 2017, 2016, 2017, 2017, 2015, 2019, 2019, 2018, 2017, 2019, 2017, 2016, 2018, 2017, 2018, 2020, 2020, 2020, 2017, 2017, 2018, 2018, 2019, 2019, 2017, 2016, 2017, 2017, 2016, 2016, 2018, 2017, 2018, 2018, 2018, 2017, 2016, 2015, 2016, 2018, 2019, 2015, 2019, 2017, 2019, 2019, 2019, 2018, 2019, 2019, 2017, 2015, 2019, 2018, 2018, 2018, 2019, 2019, 2017, 2019, 2018, 2017, 2016, 2016, 2016, 2014, 2018, 2013, 2016, 2015, 2016, 2017, 2016, 2017, 2017, 2016, 2018, 2018, 2018, 2016, 2016, 2019, 2019, 2019, 2019, 2019, 2017, 2019, 2017, 2018, 2018, 2019, 2019, 2018, 2018, 2019, 2015, 2019, 2019, 2018, 2019, 2015, 2018, 2016, 2018, 2017, 2018, 2017, 2017, 2018, 2017, 2018, 2019, 2018, 2018, 2018, 2016, 2017, 2018, 2017, 2014, 2016, 2018, 2017, 2018, 2020, 2018, 2019, 2019, 2019, 2019, 2019, 2018, 2019, 2019, 2020, 2020, 2018, 2019, 2019, 2019, 2018, 2017, 2018, 2019, 2019, 2018, 2019, 2018, 2019, 2019, 2018, 2019, 2017, 2019, 2017, 2018, 2020, 2020, 2019, 2018, 2017, 2016, 2014, 2019, 2017, 2018, 2019, 2018, 2017, 2018, 2017, 2019, 2019, 2015, 2013, 2017, 2015, 2018, 2018, 2017, 2017, 2015, 2020, 2017, 2020, 2020, 2017, 2018, 2018, 2016, 2017, 2019, 2019, 2016, 2017, 2018, 2017, 2016, 2019, 2019, 2017, 2018, 2015, 2017, 2018, 2017, 2019, 2019, 2017, 2018, 2017, 2014, 2018, 2018, 2019, 2018, 2013, 2018, 2016, 2018, 2019, 2020, 2019, 2018, 2020, 2018, 2017, 2019, 2017, 2018, 2018, 2016, 2019, 2016, 2017, 2016, 2016, 2015, 2017, 2018, 2019, 2017, 2017, 2019, 2020, 2019, 2019, 2018, 2019, 2019, 2019, 2018, 2018, 2018, 2018, 2017, 2017, 2015, 2018, 2017, 2018, 2020, 2019, 2019, 2020, 2018, 2018, 2019, 2017, 2017, 2017, 2018, 2019, 2019, 2019, 2019, 2019, 2019, 2019, 2019, 2019, 2019, 2019, 2017, 2019, 2018, 2018, 2018, 2018, 2017, 2017, 2016, 2018, 2017, 2018, 2017, 2018, 2019, 2020, 2017, 2017, 2015, 2018, 2019, 2019, 2018, 2018, 2017, 2017, 2019, 2017, 2019, 2016, 2016, 2016, 2018, 2018, 2016, 2017, 2019, 2017, 2018, 2017, 2019, 2019, 2017, 2018, 2019, 2017, 2018, 2017, 2019, 2017, 2018, 2017, 2017, 2018, 2018, 2016, 2017, 2019, 2016, 2018, 2018, 2018, 2017, 2017, 2018, 2019, 2017, 2017, 2018, 2018, 2018, 2018, 2018, 2019, 2019, 2016, 2017, 2019, 2018, 2017, 2019, 2017, 2018, 2019, 2017, 2017, 2018, 2019, 2016, 2018, 2019, 2018, 2019, 2019, 2019, 2018, 2014, 2019, 2019, 2019, 2018, 2019, 2018, 2019, 2018, 2019, 2018, 2018, 2017, 2018, 2018, 2017, 2017, 2018, 2018, 2019, 2019, 2019, 2019, 2019, 2017, 2018, 2018, 2017, 2017, 2017, 2017, 2014, 2013, 2012, 2008, 2014, 2010, 2012, 2009, 2012, 2015, 2013, 2014, 2015, 2013, 2011, 2018, 2013, 2015, 2011, 2008, 2012, 2012, 2016, 2016, 2009, 2013, 2012, 2013, 2017, 2011, 2014, 2016, 2013, 2018, 2020, 2020, 2015, 2019, 2017, 2016, 2018, 2009, 2014, 2013, 2014, 2017, 2015, 2018, 2018, 2017, 2018, 2017, 2016, 2017, 2017, 2017, 2019, 2018, 2013, 2015, 2016, 2016, 2017, 2017, 2019, 2019, 2019, 2015, 2015, 2019, 2020, 2017, 2013, 2012, 2014, 2017, 2009, 2013, 2013, 2013, 2010, 2012, 2009, 2009, 2008, 2011, 2008, 2012, 2017, 2018, 2014, 2014, 2016, 2017, 2013, 2017, 2017, 2014, 2012, 2016, 2013, 2013, 2017, 2017, 2008, 2017, 2018, 2020, 2018, 2018, 2014, 2018, 2019, 2017, 2019, 2011, 2012, 2013, 2011, 2010, 2012, 2014, 2013, 2013, 2012, 2013, 2010, 2013, 2013, 2013, 2008, 2009, 2007, 2018, 2017, 2017, 2019, 2017, 2016, 2005, 2007, 2006, 2016, 2009, 2008, 2013, 2016, 2015, 2019, 2019, 2019, 2019, 2019, 2017, 2017, 2017, 2017, 2018, 2016, 2016, 2015, 2020, 2017, 2019, 2017, 2019, 2016, 2013, 2017, 2007, 2016, 2016, 2014, 2014, 2015, 2015, 2019, 2015, 2019, 2017, 2017, 2015, 2018, 2017, 2019, 2018, 2016, 2010, 2017, 2014, 2019, 2018, 2019, 2020, 2018, 2019, 2017, 2018, 2016, 2019, 2018, 2016, 2018, 2019, 2017, 2019, 2017, 2014, 2018, 2017, 2014, 2017, 2016, 2017, 2015, 2017, 2013, 2013, 2018, 2014, 2015, 2012, 2016, 2017, 2014, 2016, 2016, 2017, 2017, 2018, 2017, 2019, 2016, 2015, 2015, 2017, 2017, 2017, 2016, 2016, 2016, 2018, 2017, 2016, 2020, 2017, 2018, 2015, 2019, 2014, 2016, 2016, 2018, 2018, 2015, 2016, 2016, 2015, 2015, 2017, 2015, 2017, 2017, 2017, 2016, 2014, 2015, 2019, 2020, 2015, 2019, 2017, 2018, 2018, 2019, 2015, 2019, 2018, 2018, 2012, 2019, 2017, 2016, 2017, 2019, 2016, 2018, 2017, 2014, 2019, 2017, 2017, 2018, 2019, 2018, 2018, 2017, 2017, 2019, 2016, 2014, 2019, 2015, 2016, 2016, 2019, 2017, 2018, 2016, 2015, 2018, 2016, 2016, 2017, 2017, 2017, 2017, 2017, 2017, 2017, 2018, 2015, 2018, 2017, 2017, 2015, 2015, 2013, 2016, 2015, 2012, 2016, 2016, 2018, 2019, 2018, 2017, 2018, 2019, 2017, 2017, 2013, 2019, 2019, 2017, 2019, 2017, 2018, 2011, 2015, 2013, 2016, 2016, 2012, 2014, 2015, 2013, 2009, 2017, 2019, 2018, 2017, 2020, 2017, 2016, 2016, 2019, 2016, 2017, 2013, 2014, 2009, 2010, 2012, 2013, 2016, 2017, 2013, 2011, 2017, 2014, 2017, 2009, 2018, 2017, 2014, 2019, 2014, 2019, 2019, 2017, 2019, 2017, 2019, 2014, 2017, 2019, 2010, 2017, 2017, 2019, 2018, 2017, 2016, 2018, 2014, 2010, 2015, 2017, 2014, 2016, 2015, 2016, 2017, 2014, 2017, 2016, 2017, 2017, 2018, 2017, 2015, 2016, 2015, 2012, 2017, 2013, 2017, 2016, 2015, 2015, 2018, 2017, 2013, 2018, 2014, 2017, 2009, 2016, 2017, 2019, 2016, 2016, 2017, 2015, 2016, 2019, 2018, 2016, 2014, 2015, 2019, 2019, 2019, 2017, 2015, 2014, 2018, 2017, 2018, 2015, 2017, 2015, 2018, 2017, 2018, 2017, 2016, 2017, 2015, 2017, 2016, 2019, 2019, 2017, 2017, 2015, 2018, 2018, 2016, 2015, 2019, 2017, 2017, 2015, 2017, 2017, 2017, 2017, 2017, 2017, 2018, 2015, 2015, 2016, 2017, 2019, 2018, 2018, 2018, 2017, 2017, 2016, 2017, 2016, 2017, 2016, 2016, 2016, 2017, 2018, 2017, 2016, 2014, 2016, 2016, 2017, 2016, 2019, 2010, 2015, 2013, 2015, 2016, 2017, 2016, 2017, 2015, 2015, 2018, 2017, 2016, 2017, 2011, 2013, 2013, 2019, 2017, 2013, 2016, 2017, 2009, 2016, 2016, 2017, 2011, 2016, 2017, 2017, 2015, 2015, 2016, 2018, 2013, 2016, 2016, 2016, 2015, 2017, 2015, 2017, 2015, 2016, 2016, 2016, 2016, 2016, 2017, 2016, 2014, 2016, 2015, 2016, 2016, 2016, 2016, 2018, 2015, 2015, 2014, 2014, 2013, 2016, 2014, 2016, 2010, 2016, 2017, 2016, 2014, 2017, 2015, 2014, 2015, 2013, 2017, 2017, 2016, 2016, 2018, 2018, 2016, 2016, 2017, 2014, 2013, 2016, 2015, 2017, 2018, 2013, 2019, 2016, 2015, 2018, 2014, 2016, 2015, 2015, 2016, 2015, 2019, 2019, 2014, 2019, 2018, 2017, 2015, 2015, 2016, 2016, 2016, 2015, 2016, 2017, 2015, 2016, 2017, 2016, 2016, 2015, 2015, 2017, 2014, 2018, 2018, 2013, 2014, 2015, 2016, 2016, 2016, 2018, 2017, 2017, 2014, 2015, 2015, 2015, 2014, 2018, 2017, 2016, 2014, 2018, 2014, 2017, 2014, 2015, 2016, 2016, 2013, 2016, 2016, 2017, 2015, 2015, 2015, 2016, 2013, 2014, 2018, 2011, 2013, 2017, 2015, 2017, 2013, 2014, 2012, 2016, 2012, 2015, 2013, 2017, 2016, 2019, 2019, 2018, 2018, 2018, 2016, 2016, 2017, 2016, 2018, 2019, 2019, 2019, 2019, 2016, 2017, 2018, 2015, 2016, 2019, 2016, 2016, 2016, 2016, 2015, 2017, 2015, 2013, 2018, 2018, 2016, 2016, 2017, 2016, 2017, 2016, 2019, 2012, 2016, 2017, 2014, 2013, 2016, 2016, 2016, 2015, 2016, 2016, 2015, 2011, 2019, 2018, 2016, 2015, 2017, 2009, 2014, 2015, 2012, 2015, 2013, 2016, 2012, 2016, 2005, 2012, 2017, 2017, 2014, 2015, 2015, 2019, 2015, 2016, 2016, 2017, 2015, 2016, 2017, 2015, 2013, 2014, 2012, 2016, 2015, 2016, 2016, 2015, 2019, 2019, 2012, 2016, 2013, 2012, 2016, 2016, 2017, 2017, 2016, 2017, 2017, 2017, 2015, 2017, 2011, 2011, 2017, 2014, 2016, 2019, 2016, 2018, 2019, 2016, 2016, 2016, 2015, 2014, 2016, 2017, 2018, 2016, 2017, 2017, 2017, 2017, 2013, 2015, 2015, 2013, 2019, 2019, 2019, 2017, 2016, 2016, 2017, 2017, 2016, 2015, 2017, 2015, 2016, 2015, 2014, 2017, 2017, 2017, 2016, 2017, 2015, 2018, 2014, 2015, 2014, 2018, 2016, 2016, 2014, 2012, 2017, 2015, 2015, 2016, 2014, 2018, 2014, 2016, 2015, 2017, 2017, 2016, 2018, 2015, 2016, 2018, 2017, 2018, 2016, 2015, 2016, 2018, 2017, 2017, 2015, 2016, 2015, 2017, 2019, 2013, 2018, 2017, 2017, 2017, 2013, 2016, 2016, 2015, 2016, 2018, 2016, 2014, 2016, 2018, 2018, 2017, 2018, 2016, 2013, 2002, 2015, 2019, 2017, 2017, 2018, 2011, 2017, 2013, 2015, 2015, 2018, 2016, 2013, 2017, 2013, 2019, 2019, 2016, 2015, 2015, 2018, 2018, 2017, 2016, 2017, 2019, 2012, 2015, 2014, 2019, 2019, 2019, 2015, 2017, 2013, 2016, 2018, 2017, 2014, 2016, 2015, 2018, 2019, 2017, 2012, 2009, 2011, 2014, 2016, 2013, 2017, 2015, 2012, 2011, 2009, 2012, 2016, 2015, 2013, 2016, 2015, 2016, 2015, 2013, 2017, 2017, 2018, 2018, 2014, 2016, 2016, 2013, 2016, 2017, 2016, 2018, 2018, 2018, 2016, 2018, 2014, 2017, 2018, 2014, 2014, 2015, 2015, 2014, 2013, 2016, 2016, 2012, 2017, 2014, 2014, 2013, 2017, 2016, 2008, 2016, 2016, 2015, 2015, 2016, 2018, 2017, 2018, 2017, 2016, 2014, 2012, 2015, 2015, 2014, 2016, 2017, 2014, 2017, 2013, 2018, 2019, 2016, 2013, 2012, 2017, 2017, 2010, 2017, 2016, 2015, 2010, 2015, 2010, 2015, 2016, 2015, 2015, 2017, 2015, 2014, 2015, 2015, 2015, 2015, 2016, 2017, 2015, 2007, 2015, 2018, 2013, 2011, 2014, 2017, 2016, 2016, 2016, 2015, 2015, 2016, 2007, 2008, 2016, 2015, 2016, 2018, 2014, 2019, 2011, 2011, 2019, 2016, 2018, 2017, 2017, 2018, 2016, 2016, 2017, 2016, 2016, 2016, 2015, 2015, 2017, 2015, 2010, 2016, 2015, 2015, 2013, 2016, 2014, 2015, 2014, 2017, 2017, 2018, 2018, 2016, 2014, 2017, 2015, 2016, 2019, 2016, 2015, 2015, 2016, 2016, 2012, 2019, 2016, 2016, 2018, 2013, 2016, 2017, 2010, 2017, 2015, 2017, 2016, 2016, 2014, 2016, 2013, 2016, 2016, 2016, 2013, 2016, 2017, 2016, 2018, 2013, 2016, 2016, 2016, 2014, 2014, 2017, 2015, 2017, 2016, 2016, 2017, 2017, 2014, 2014, 2019, 2016, 2014, 2014, 2012, 2016, 2018, 2018, 2017, 2017, 2017, 2019, 2016, 2019, 2017, 2017, 2019, 2015, 2019, 2016, 2016, 2014, 2016, 2015, 2016, 2014, 2015, 2017, 2018, 2018, 2016, 2017, 2017, 2017, 2018, 2015, 2017, 2016, 2019, 2019, 2017, 2017, 2018, 2018, 2017, 2016, 2016, 2019, 2017, 2018, 2013, 2019, 2017, 2017, 2014, 2016, 2018, 2016, 2016, 2017, 2016, 2017, 2016, 2016, 2018, 2016, 2017, 2016, 2019, 2015, 2012, 2012, 2012, 2005, 2012, 2012, 2015, 2015, 2015, 2017, 2018, 2017, 2015, 2016, 2016, 2016, 2019, 2015, 2019, 2017, 2017, 2018, 2018, 2017, 2020, 2017, 2019, 2019, 2019, 2015, 2017, 2019, 2019, 2019, 2019, 2019, 2017, 2020, 2019, 2016, 2017, 2017, 2016, 2014, 2019, 2016, 2019, 2019, 2017, 2018, 2016, 2017, 2017, 2018, 2017, 2010, 2018, 2017, 2018, 2013, 2014, 2017, 2017, 2017, 2017, 2015, 2011, 2017, 2017, 2017, 2009, 2017, 2017, 2011, 2019, 2019, 2015, 2019, 2011, 2017, 2015, 2016, 2018, 2017, 2017, 2013, 2019, 2019, 2016, 2017, 2012, 2019, 2016, 2020, 2019, 2019, 2015, 2020, 2019, 2019, 2019, 2019, 2019, 2017, 2014, 2017, 2019, 2020, 2020, 2019, 2017, 2015, 2018, 2016, 2019, 2017, 2014, 2010, 2011, 2015, 2015, 2017, 2017, 2019, 2016, 2019, 2018, 2017, 2017, 2017, 2019, 2018, 2017, 2018, 2019, 2016, 2019, 2017, 2016, 2019, 2019, 2019, 2017, 2016, 2012, 2013, 2019, 2017, 2009, 2018, 2017, 2015, 2017, 2019, 2019, 2016, 2019, 2019, 2019, 2017, 2019, 2015, 2013, 2016, 2013, 2015, 2016, 2013, 2015, 2015, 2014, 2014, 2015, 2015, 2018, 2015, 2017, 2015, 2016, 2015, 2017, 2017, 2014, 2012, 2019, 2019, 2019, 2015, 2015, 2014, 2017, 2018, 2014, 2015, 2018, 2014, 2017, 2012, 2011, 2016, 2017, 2017, 2018, 2019, 2019, 2019, 2019, 2019, 2017, 2017, 2016, 2015, 2016, 2016, 2015, 2015, 2013, 2016, 2014, 2018, 2017, 2017, 2012, 2016, 2016, 2019, 2016, 2015, 2014, 2017, 2016, 2015, 2013, 2016, 2018, 2017, 2017, 2017, 2017, 2017, 2016, 2015, 2018, 2017, 2014, 2013, 2017, 2016, 2015, 2017, 2019, 2019, 2019, 2018, 2017, 2015, 2020, 2019, 2017, 2014, 2018, 2019, 2013, 2016, 2019, 2019, 2013, 2016, 2017, 2018, 2016, 2013, 2017, 2017, 2017, 2019, 2018, 2018, 2017, 2015, 2015, 2016, 2017, 2016, 2013, 2017, 2019, 2018, 2012, 2019, 2019, 2019, 2019, 2019, 2014, 2016, 2018, 2018, 2017, 2017, 2020, 2017, 2019, 2019, 2019, 2016, 2015, 2013, 2015, 2019, 2019, 2018, 2019, 2018, 2019, 2017, 2017, 2018, 2019, 2018, 2019, 2019, 2019, 2016, 2019, 2019, 2017, 2019, 2018, 2019, 2017, 2017, 2017, 2017, 2017, 2016, 2018, 2016, 2017, 2017, 2014, 2017, 2017, 2017, 2017, 2016, 2017, 2015, 2016, 2017, 2015, 2017, 2013, 2018, 2017, 2016, 2017, 2017, 2015, 2019, 2015, 2017, 2015, 2017, 2015, 2017, 2016, 2018, 2017, 2015, 2017, 2017, 2017, 2017, 2018, 2016, 2017, 2019, 2017, 2016, 2014, 2016, 2016, 2019, 2016, 2017, 2017, 2019, 2017, 2019, 2017, 2015, 2017, 2017, 2017, 2017, 2017, 2017, 2017, 2017, 2016, 2016, 2016, 2014, 2019, 2019, 2019, 2019, 2017, 2016, 2019, 2016, 2018, 2016, 2017, 2017, 2017, 2016, 2017, 2017, 2016, 2016, 2017, 2017, 2015, 2016, 2017, 2017, 2017, 2015, 2016, 2017, 2017, 2017, 2016, 2019, 2017, 2020, 2015, 2019, 2018, 2017, 2016, 2016, 2017, 2016, 2016, 2016, 2016, 2016, 2017, 2016, 2016, 2017, 2017, 2018, 2016, 2016, 2015, 2017, 2016, 2016, 2015, 2016, 2016, 2017, 2018, 2017, 2019, 2017, 2017, 2017, 2016, 2014, 2018, 2017, 2017, 2017, 2017, 2017, 2015, 2015, 2016, 2017, 2017, 2017, 2018, 2016, 2018, 2017, 2019, 2011, 2011, 2015, 2016, 2016, 2017, 2015, 2017, 2014, 2016, 2017, 2018, 2018, 2018, 2019, 2015, 2019, 2016, 2017, 2017, 2017, 2017, 2017, 2018, 2018, 2019, 2018, 2018, 2017, 2014, 2018, 2018, 2018, 2019, 2016, 2017, 2016, 2016, 2019, 2017, 2019, 2015, 2018, 2017, 2019, 2016, 2016, 2017, 2017, 2015, 2016, 2016, 2018, 2016, 2017, 2017, 2017, 2017, 2019, 2017, 2019, 2019, 2018, 2018, 2015, 2017, 2018, 2018, 2016, 2016, 2018, 2018, 2019, 2017, 2017, 2017, 2016, 2019, 2019, 2019, 2019, 2017, 2017, 2017, 2018, 2016, 2015, 2017, 2017, 2017, 2018, 2017, 2017, 2017, 2019, 2019, 2015, 2016, 2020, 2017, 2019, 2018, 2017, 2017, 2015, 2017, 2019, 2019, 2018, 2016, 2017, 2015, 2017, 2019, 2017, 2017, 2018, 2017, 2016, 2012, 2009, 2014, 2017, 2017, 2017, 2017, 2016, 2017, 2017, 2017, 2016, 2017, 2014, 2017, 2014, 2016, 2018, 2015, 2018, 2017, 2017, 2014, 2017, 2017, 2018, 2015, 2019, 2017, 2018, 2017, 2014, 2017, 2016, 2016, 2019, 2017, 2017, 2018, 2017, 2017, 2018, 2017, 2017, 2018, 2018, 2017, 2017, 2017, 2017, 2017, 2015, 2018, 2018, 2018, 2014, 2019, 2017, 2019, 2018, 2016, 2017, 2015, 2014, 2019, 2018, 2019, 2015, 2016, 2018, 2017, 2018, 2018, 2018, 2019, 2017, 2018, 2019, 2019, 2018, 2017, 2015, 2016, 2016, 2017, 2014, 2015, 2016, 2017, 2017, 2018, 2018, 2019, 2017, 2019, 2018, 2017, 2015, 2019, 2020, 2015, 2017, 2016, 2015, 2015, 2016, 2018, 2017, 2017, 2017, 2016, 2015, 2017, 2018, 2014, 2014, 2017, 2013, 2017, 2018, 2016, 2016, 2016, 2017, 2018, 2014, 2018, 2017, 2018, 2018, 2018, 2017, 2016, 2019, 2017, 2017, 2016, 2017, 2017, 2016, 2016, 2016, 2019, 2015, 2017, 2016, 2016, 2017, 2016, 2015, 2017, 2016, 2017, 2016, 2013, 2014, 2015, 2018, 2016, 2016, 2018, 2018, 2018, 2019, 2014, 2017, 2017, 2018, 2016, 2012, 2019, 2018, 2017, 2014, 2018, 2019, 2015, 2015, 2019, 2013, 2013, 2016, 2014, 2016, 2017, 2016, 2017, 2017, 2016, 2015, 2019, 2019, 2017, 2017, 2016, 2017, 2017, 2018, 2017, 2016, 2016, 2017, 2015, 2017, 2017, 2016, 2018, 2015, 2016, 2016, 2017, 2019, 2017, 2015, 2019, 2019, 2013, 2017, 2016, 2016, 2017, 2016, 2016, 2017, 2019, 2017, 2017, 2019, 2019, 2018, 2019, 2014, 2017, 2015, 2017, 2017, 2019, 2017, 2017, 2017, 2016, 2019, 2017, 2015, 2017, 2017, 2015, 2017, 2015, 2017, 2017, 2017, 2015, 2017, 2018, 2014, 2019, 2018, 2016, 2014, 2015, 2015, 2016, 2017, 2019, 2013, 2016, 2015, 2014, 2016, 2018, 2016, 2019, 2016, 2016, 2018, 2016, 2017, 2018, 2018, 2016, 2019, 2017, 2017, 2016, 2017, 2017, 2015, 2018, 2018, 2017, 2017, 2018, 2017, 2018, 2017, 2017, 2018, 2016, 2016, 2018, 2017, 2018, 2015, 2016, 2017, 2015, 2016, 2019, 2018, 2018, 2017, 2015, 2017, 2015, 2017, 2014, 2015, 2017, 2015, 2014, 2017, 2013, 2017, 2017, 2015, 2016, 2017, 2016, 2015, 2011, 2016, 2017, 2016, 2013, 2018, 2015, 2017, 2017, 2016, 2015, 2016, 2017, 2019, 2017, 2017, 2018, 2019, 2016, 2017, 2017, 2015, 2014, 2018, 2019, 2016, 2014, 2017, 2016, 2017, 2019, 2017, 2009, 2016, 2017, 2019, 2017, 2019, 2017, 2018, 2018, 2019, 2018, 2017, 2010, 2016, 2017, 2016, 2018, 2017, 2009, 2006, 2010, 2018, 2009, 2009, 2008, 2008, 2011, 2016, 2014, 2017, 2016, 2016, 2014, 2017, 2016, 2015, 2014, 2014, 2013, 2014, 2017, 2013, 2018, 2015, 2017, 2018, 2016, 2016, 2012, 2011, 2010, 2017, 2009, 2019, 2019, 2018, 2011, 2012, 2016, 2018, 2016, 2013, 2015, 2019, 2015, 2020, 2017, 2018, 2017, 2018, 2018, 2017, 2018, 2010, 2016, 2019, 2016, 2018, 2012, 2017, 2016, 2017, 2017, 2019, 2017, 2019, 2019, 2015, 2017, 2019, 2018, 2019, 2017, 2018, 2017, 2015, 2017, 2013, 2017, 2018, 2017, 2017, 2018, 2017, 2017, 2017, 2011, 2019, 2016, 2018, 2018, 2018, 2017, 2018, 2017, 2017, 2017, 2017, 2016, 2014, 2018, 2018, 2017, 2017, 2018, 2017, 2016, 2018, 2013, 2017, 2017, 2015, 2016, 2018, 2019, 2017, 2017, 2019, 2017, 2017, 2015, 2016, 2018, 2017, 2014, 2018, 2018, 2017, 2017, 2018, 2018, 2020, 2014, 2014, 2018, 2016, 2018, 2019, 2019, 2016, 2017, 2015, 2017, 2018, 2016, 2016, 2017, 2019, 2017, 2017, 2019, 2012, 2013, 2015, 2015, 2014, 2009, 2017, 2016, 2017, 2019, 2019, 2018, 2017, 2018, 2017, 2018, 2012, 2017, 2016, 2013, 2012, 2013, 2014, 2018, 2017, 2016, 2014, 2016, 2018, 2017, 2008, 2013, 2017, 2016, 2016, 2017, 2015, 2014, 2014, 2017, 2018, 2018, 2014, 2015, 2015, 2016, 2016, 2019, 2017, 2017, 2017, 2017, 2017, 2015, 2015, 2018, 2017, 2017, 2018, 2016, 2016, 2017, 2018, 2018, 2013, 2019, 2017, 2016, 2014, 2018, 2018, 2017, 2018, 2016, 2015, 2016, 2016, 2008, 2015, 2013, 2017, 2017, 2017, 2017, 2013, 2017, 2017, 2016, 2015, 2017, 2018, 2017, 2018, 2018, 2014, 2014, 2017, 2015, 2015, 2014, 2015, 2015, 2016, 2015, 2016, 2016, 2014, 2013, 2015, 2016, 2017, 2016, 2016, 2016, 2016, 2016, 2015, 2018, 2015, 2015, 2011, 2016, 2019, 2019, 2016, 2016, 2016, 2014, 2017, 2014, 2015, 2015, 2016, 2018, 2016, 2016, 2014, 2017, 2012, 2014, 2017, 2013, 2015, 2017, 2018, 2017, 2017, 2018, 2018, 2015, 2013, 2014, 2014, 2015, 2017, 2014, 2013, 2016, 2016, 2018, 2018, 2014, 2016, 2016, 2014, 2018, 2016, 2019, 2016, 2019, 2017, 2017, 2017, 2016, 2018, 2018, 2017, 2016, 2016, 2015, 2017, 2017, 2016, 2016, 2016, 2016, 2016, 2015, 2018, 2018, 2015, 2017, 2017, 2015, 2017, 2016, 2018, 2018, 2017, 2016, 2017, 2012, 2016, 2017, 2018, 2018, 2018, 2017, 2017, 2016, 2018, 2017, 2018, 2018, 2017, 2017, 2018, 2017, 2017, 2017, 2017, 2018, 2018, 2015, 2017, 2017, 2013, 2015, 2017, 2017, 2016, 2015, 2018, 2017, 2015, 2013, 2011, 2013, 2017, 2010, 2008, 2015, 2016, 2018, 2018, 2018, 2017, 2018, 2015, 2015, 2018, 2017, 2015, 2018, 2018, 2018, 2017, 2014, 2014, 2016, 2019, 2014, 2017, 2017, 2018, 2013, 2019, 2017, 2019, 2011, 2013, 2016, 2012, 2016, 2018, 2019, 2011, 2019, 2017, 2007, 2017, 2017, 2019, 2017, 2017, 2019, 2017, 2015, 2018, 2017, 2016, 2013, 2015, 2017, 2017, 2015, 2016, 2017, 2016, 2017, 2017, 2017, 2018, 2014, 2016, 2016, 2017, 2018, 2005, 2017, 2014, 2017, 2014, 2017, 2019, 2015, 2017, 2017, 2015, 2015, 2019, 2018, 2015, 2018, 2017, 2018, 2018, 2018, 2017, 2016, 2019, 2017, 2016, 2019, 2017, 2015, 2017, 2018, 2019, 2019, 2019, 2018, 2018, 2018, 2019, 2018, 2017, 2018, 2019, 2019, 2019, 2018, 2015, 2018, 2017, 2014, 2006, 2009, 2019, 2018, 2017, 2019, 2015, 2016, 2016, 2019, 2019, 2016, 2019, 2019, 2018, 2019, 2017, 2017, 2017, 2019, 2019, 2018, 2019, 2018, 2019, 2017, 2018, 2018, 2018, 2018, 2017, 2017, 2017, 2008, 2009, 2013, 2014, 2012, 2017, 2019, 2018, 2016, 2019, 2018, 2017, 2016, 2017, 2009, 2016, 2012, 2010, 2007, 2009, 2011, 2009, 2012, 2009, 2018, 2019, 2018, 2020, 2017, 2015, 2015, 2015, 2015, 2017, 2013, 2019, 2018, 2017, 2018, 2018, 2017, 2018, 2018, 2017, 2018, 2019, 2016, 2017, 2017, 2014, 2013, 2016, 2017, 2017, 2015, 2016, 2016, 2015, 2009, 2010, 2008, 2008, 2011, 2013, 2015, 2015, 2016, 2018, 2015, 2016, 2013, 2016, 2018, 2019, 2017, 2019, 2017, 2019, 2019, 2018, 2017, 2016, 2013, 2016, 2015, 2015, 2017, 2016, 2015, 2016, 2016, 2015, 2015, 2019, 2009, 2011, 2018, 2013, 2016, 2017, 2014, 2017, 2018, 2018, 2019, 2017, 2020, 2018, 2017, 2017, 2017, 2017, 2018, 2019, 2019, 2019, 2018, 2017, 2015, 2018, 2013, 2009, 2008, 2013, 2011, 2015, 2008, 2015, 2010, 2018, 2019, 2013, 2010, 2010, 2010, 2010, 2008, 2017, 2018, 2018, 2014, 2018, 2017, 2013, 2017, 2018, 2018, 2019, 2009, 2016, 2016, 2019, 2017, 2011, 2007, 2009, 2013, 2009, 2014, 2009, 2015, 2012, 2013, 2012, 2011, 2012, 2013, 2016, 2013, 2011, 2015, 2008, 2013, 2011, 2011, 2014, 2010, 2013, 2014, 2015, 2015, 2010, 2015, 2016, 2013, 2010, 2006, 2015, 2009, 2016, 2016, 2013, 2015, 2017, 2016, 2014, 2015, 2017, 2018, 2016, 2009, 2016, 2014, 2016, 2011, 2012, 2008, 2015, 2011, 2014, 2016, 2016, 2017, 2015, 2017, 2019, 2014, 2010, 2014, 2012, 2013, 2015, 2013, 2009, 2014, 2015, 2019, 2017, 2015, 2019, 2019, 2019, 2015, 2018, 2013, 2017, 2014, 2011, 2011, 2014, 2015, 2018, 2016, 2017, 2016, 2016, 2017, 2018, 2016, 2015, 2016, 2017, 2018, 2018, 2018, 2017, 2018, 2018, 2019, 2018, 2018, 2016, 2018, 2014, 2017, 2017, 2016, 2016, 2015, 2015, 2013, 2012, 2013, 2017, 2016, 2015, 2017, 2017, 2014, 2010, 2013, 2018, 2017, 2016, 2015, 2013, 2009, 2014, 2013, 2016, 2014, 2010, 2015, 2016, 2009, 2008, 2009, 2016, 2009, 2009, 2018, 2018, 2016, 2012, 2015, 2017, 2018, 2016, 2017, 2017, 2017, 2016, 2014, 2016, 2015, 2013, 2019, 2016, 2018, 2018, 2015, 2016, 2018, 2013, 2015, 2015, 2015, 2017, 2019, 2017, 2015, 2017, 2014, 2016, 2014, 2016, 2016, 2016, 2018, 2013, 2017, 2017, 2016, 2016, 2015, 2017, 2016, 2017, 2018, 2015, 2012, 2016, 2017, 2014, 2017, 2011, 2016, 2014, 2017, 2019, 2014, 2016, 2017, 2016, 2013, 2015, 2017, 2014, 2016, 2017, 2014, 2015, 2016, 2015, 2015, 2016, 2016, 2018, 2018, 2017, 2015, 2017, 2018, 2016, 2014, 2013, 2017, 2014, 2016, 2016, 2013, 2017, 2017, 2017, 2015, 2017, 2015, 2018, 2014, 2016, 2018, 2016, 2013, 2016, 2016, 2018, 2019, 2017, 2017, 2015, 2017, 2017, 2019, 2012, 2013, 2018, 2017, 2014, 2014, 2016, 2015, 2014, 2018, 2016, 2016, 2016, 2018, 2018, 2013, 2018, 2013, 2007, 2005, 2008, 2011, 2017, 2006, 2007, 2007, 2019, 2018, 2017, 2014, 2017, 2018, 2016, 2017, 2018, 2016, 2005, 2014, 2014, 2011, 2011, 2014, 2017, 2016, 2017, 2017, 2015, 2018, 2017, 2017, 2016, 2017, 2017, 2017, 2018, 2018, 2019, 2013, 2018, 2015, 2014, 2008, 2007, 2012, 2016, 2017, 2019, 2018, 2015, 2017, 2014, 2008, 2014, 2016, 2014, 2017, 2017, 2016, 2011, 2013, 2007, 2016, 2016, 2017, 2017, 2016, 2016, 2017, 2017, 2014, 2015, 2011, 2016, 2012, 2014, 2009, 2015, 2013, 2005, 2010, 2014, 2016, 2012, 2015, 2016, 2018, 2018, 2016, 2017, 2016, 2017, 2018, 2018, 2016, 2017, 2013, 2018, 2018, 2016, 2016, 2016, 2017, 2015, 2013, 2013, 2014, 2013, 2015, 2018, 2018, 2018, 2015, 2016, 2018, 2015, 2018, 2016, 2016, 2014, 2016, 2017, 2017, 2018, 2015, 2015, 2016, 2017, 2018, 2017, 2018, 2016, 2016, 2016, 2016, 2018, 2007, 2010, 2015, 2019, 2016, 2014, 2011, 2013, 2012, 2015, 2015, 2012, 2017, 2013, 2015, 2016, 2018, 2016, 2018, 2017, 2016, 2017, 2015, 2005, 2019, 2016, 2016, 2007, 2009, 2009, 2011, 2003, 2011, 2012, 2009, 2016, 2014, 2018, 2011, 2013, 2008, 2014, 2009, 2014, 2012, 2012, 2015, 2016, 2014, 2010, 2010, 2007, 2008, 2008, 2007, 2016, 2016, 2008, 2018, 2018, 2017, 2016, 2013, 2014, 2013, 2014, 2014, 2015, 2016, 2009, 2011, 2018, 2018, 2009, 2007, 2010, 2012, 2010, 2008, 2009, 2010, 2014, 2013, 2016, 2016, 2017, 2015, 2012, 2012, 2013, 2017, 2017, 2016, 2016, 2016, 2019, 2016, 2018, 2014, 2014, 2012, 2013, 2015, 2018, 2014, 2018, 2016, 2015, 2013, 2018, 2002, 2002, 2012, 2005, 2012, 2005, 2007, 2008, 2004, 2015, 2014, 2014, 2016, 2016, 2015, 2015, 2015, 2016, 2013, 2015, 2016, 2019, 2019, 2016, 2020, 2007, 2010, 2016, 2014, 2016, 2020, 2020, 2016, 2016, 2016, 2014, 2019, 2018, 2018, 2016, 2012, 2009, 2011, 2018, 2013, 2017, 2008, 2008, 2009, 2016, 2011, 2007, 2015, 2017, 2016, 2009, 2017, 2017, 2017, 2019, 2019, 2012, 2018, 2014, 2013, 2013, 2009, 2008, 2009, 2015, 2006, 2003, 2011, 2007, 2006, 2012, 2008, 2004, 2012, 2005, 2010, 2008, 2008, 2006, 2011, 2007, 2009, 2009, 2008, 2019, 2017, 2016, 2016, 2017, 2017, 2017, 2009, 2011, 2017, 2019, 2018, 2017, 2019, 2017, 2018, 2011, 2017, 2016, 2017, 2016, 2017, 2016, 2017, 2014, 2015, 2019, 2019, 2019, 2019, 2017, 2019, 2019, 2019, 2019, 2019, 2019, 2016, 2015, 2017, 2013, 2019, 2017, 2015, 2017, 2017, 2013, 2012, 2012, 2012, 2014, 2017, 2017, 2016, 2014, 2017, 2018, 2014, 2016, 2016, 2011, 2015, 2015, 2013, 2014, 2009, 2007, 2009, 2010, 2013, 2013, 2018, 2014, 2017, 2015, 2017, 2018, 2009, 2013, 2018, 2017, 2019, 2010, 2005, 2019, 2016, 2017, 2009, 2009, 2015, 2019, 2008, 2006, 2010, 2012, 2017, 2017, 2016, 2018, 2015, 2016, 2016, 2013, 2019, 2017, 2017, 2018, 2017, 2016, 2018, 2017, 2016, 2009, 2016, 2014, 2003, 2018, 2018, 2015, 2017, 2017, 2018, 2017, 2017, 2015, 2016, 2018, 2016, 2019, 2017, 2017, 2017, 2017, 2015, 2017, 2018, 2019, 2014, 2016, 2016, 2014, 2019, 2018, 2015, 2017, 2017, 2014, 2016, 2016, 2009, 2011, 2011, 2013, 2016, 2017, 2015, 2013, 2018, 2017, 2017, 2017, 2017, 2019, 2016, 2018, 2019, 2019, 2013, 2016, 2012, 2018, 2011, 2016, 2012, 2016, 2017, 2018, 2010, 2016, 2016, 2019, 2008, 2013, 2012, 2012, 2017, 2018, 2018, 2016, 2016, 2016, 2014, 2018, 2019, 2017, 2018, 2019, 2016, 2015, 2017, 2011, 2016, 2015, 2019, 2012, 2019, 2017, 2017, 2018, 2019, 2019, 2019, 2018, 2018, 2013, 2017, 2015, 2015, 2016, 2018, 2018, 2019, 2019, 2018, 2019, 2017, 2017, 2017, 2019, 2017, 2017, 2009, 2016, 2015, 2012, 2016, 2016, 2015, 2017, 2018, 2012, 2017, 2018, 2013, 2012, 2014, 2018, 2017, 2018, 2018, 2018, 2013, 2016, 2016, 2010, 2011, 2015, 2016, 2012, 2017, 2008, 2010, 2008, 2014, 2014, 2014, 2014, 2014, 2017, 2018, 2016, 2018, 2018, 2013, 2011, 2018, 2017, 2009, 2011, 2005, 2010, 2009, 2010, 2012, 2018, 2019, 2013, 2009, 2012, 2017, 2013, 2013, 2010, 2016, 2000, 2016, 2011, 2007, 2009, 2011, 2014, 2010, 2013, 2018, 2018, 2018, 2018, 2017, 2017, 2017, 2010, 2017, 2020, 2017, 2018, 2018, 2019, 2010, 2011, 2017, 2018, 2017, 2018, 2017, 2012, 2016, 2017, 2014, 2011, 2016, 2018, 2017, 2011, 2017, 2014, 2013, 2011, 2010, 2013, 2016, 2016, 2017, 2015, 2015, 2017, 2017, 2017, 2014, 2017, 2014, 2014, 2015, 2009, 2017, 2008, 2008, 2008, 2006, 2008, 2008, 2008, 2015, 2017, 2017, 2019, 2018, 2016, 2016, 2016, 2011, 2017, 2012, 2014, 2013, 2014, 2013, 2014, 2017, 2015, 2016, 2011, 2015, 2008, 2008, 2010, 2010, 2006, 2009, 2004, 2009, 2008, 2014, 2017, 2017, 2019, 2019, 2017, 2018, 2018, 2005, 2019, 2019, 2019, 2019, 2015, 2018, 2017, 2018, 2017, 2018, 2017, 2016, 2019, 2016, 2019, 2016, 2017, 2018, 2017, 2017, 2016, 2018, 2017, 2007, 2018, 2015, 2010, 2012, 2015, 2012, 2020, 2020, 2020, 2009, 2014, 2019, 2017, 2016, 2016, 2018, 2017, 2015, 2008, 2011, 2011, 2015, 2015, 2017, 2005, 2009, 2013, 2017, 2009, 2008, 2010, 2012, 2011, 2015, 2009, 2010, 2013, 2018, 2007, 2012, 2009, 2008, 2010, 2004, 2009, 2017, 2017, 2018, 2017, 2016, 2018, 2018, 2017, 2018, 2016, 2012, 2009, 2018, 2018, 2013, 2017, 2019, 2018, 2015, 2017, 2018, 2015, 2017, 2016, 2015, 2016, 2015, 2010, 2010, 2015, 2016, 2018, 2018, 2017, 2016, 2015, 2015, 2009, 2018, 2017, 2018, 2018, 2017, 2017, 2017, 2017, 2015, 2017, 2015, 2017, 2017, 2014, 2017, 2018, 2015, 2015, 2018, 2017, 2017, 2017, 2011, 2017, 2017, 2018, 2017, 2017, 2017, 2016, 2008, 2011, 2016, 2018, 2015, 2013, 2014, 2014, 2015, 2017, 2017, 2016, 2017, 2016, 2017, 2017, 2018, 2015, 2018, 2015, 2017, 2015, 2016, 2015, 2017, 2017, 2016, 2017, 2018, 2019, 2019, 2019, 2019, 2019, 2019, 2019, 2018, 2014, 2017, 2017, 2018, 2018, 2017, 2017, 2017, 2016, 2014, 2016, 2017, 2015, 2017, 2014, 2017, 2017, 2017, 2017, 2018, 2016, 2016, 2018, 2014, 2017, 2017, 2017, 2017, 2017, 2017, 2017, 2017, 2017, 2017, 2017, 2017, 2016, 2014, 2018, 2014, 2015, 2017, 2017, 2018, 2017, 2017, 2017, 2017, 2014, 2015, 2020, 2017, 2018, 2017, 2018, 2018, 2017, 2017, 2015, 2016, 2013, 2016, 2017, 2017, 2016, 2019, 2017, 2017, 2016, 2018, 2018, 2017, 2015, 2017, 2017, 2015, 2017, 2016, 2018, 2018, 2018, 2016, 2017, 2016, 2020, 2017, 2015, 2018, 2011, 2019, 2015, 2016, 2016, 2015, 2017, 2018, 2017, 2018, 2018, 2016, 2018, 2017, 2017, 2014, 2016, 2016, 2013, 2013, 2016, 2009, 2015, 2015, 2016, 2016, 2018, 2015, 2011, 2015, 2009, 2009, 2009, 2015, 2017, 2017, 2016, 2018, 2017, 2018, 2017, 2017, 2017, 2017, 2019, 2017, 2017, 2014, 2009, 2011, 2019, 2019, 2016, 2018, 2016, 2017, 2017, 2016, 2015, 2016, 2017, 2018, 2017, 2017, 2017, 2019, 2019, 2014, 2015, 2017, 2016, 2017, 2014, 2015, 2017, 2017, 2017, 2017, 2016, 2017, 2010, 2011, 2015, 2015, 2011, 2008, 2007, 2018, 2015, 2013, 2014, 2007, 2018, 2017, 2015, 2015, 2019, 2015, 2018, 2014, 2011, 2017, 2007, 2006, 2007, 2014, 2010, 2006, 2012, 2007, 2005, 2018, 2019, 2019, 2019, 2019, 2018, 2017, 2014, 2017, 2015, 2020, 2017, 2019, 2017, 2016, 2016, 2016, 2017, 2012, 2016, 2015, 2019, 2013, 2012, 2018, 2017, 2019, 2017, 2017, 2017, 2016, 2017, 2019, 2016, 2019, 2019, 2016, 2017, 2016, 2017, 2016, 2017, 2019, 2017, 2017, 2019, 2017, 2017, 2017, 2017, 2016, 2019, 2019, 2019, 2009, 2017, 2016, 2017, 2019, 2018, 2017, 2017, 2019, 2019, 2019, 2019, 2018, 2017, 2019, 2017, 2019, 2018, 2018, 2015, 2015, 2018, 2020, 2020, 2020, 2020, 2020, 2020, 2020, 2011, 2017, 2019, 2019, 2018, 2016, 2020, 2017, 2015, 2017, 2016, 2017, 2018, 2018, 2020, 2020, 2018, 2018, 2015, 2017, 2018, 2020, 2017, 2020, 2018, 2018, 2017, 2018, 2017, 2019, 2019, 2019, 2015, 2018, 2020, 2018, 2018, 2018, 2018, 2016, 2018, 2020, 2018, 2017, 2018, 2018, 2018, 2017, 2018, 2016, 2018, 2019, 2017, 2017, 2019, 2017, 2020, 2020, 2020, 2016, 2018, 2017, 2016, 2016, 2017, 2019, 2017, 2016, 2018, 2019, 2018, 2019, 2018, 2019, 2018, 2019, 2018, 2017, 2016, 2018, 2016, 2016, 2018, 2017, 2017, 2019, 2019, 2018, 2017, 2019, 2019, 2016, 2018, 2015, 2020, 2020, 2020, 2015, 2015, 2018, 2019, 2015, 2018, 2017, 2018, 2018, 2019, 2017, 2017, 2016, 2018, 2018, 2015, 2019, 2016, 2016, 2017, 2014, 2015, 2018], \"xaxis\": \"x\", \"y\": [12000, 14000, 13000, 17500, 16500, 10500, 22500, 9000, 25500, 10000, 11561, 13500, 11000, 17999, 18999, 14399, 17999, 16899, 10999, 12500, 9499, 10500, 8995, 8995, 6795, 18499, 11799, 8299, 12499, 8699, 7999, 8991, 18990, 7236, 15287, 20000, 20000, 21378, 9814, 8261, 8788, 12251, 16320, 13140, 10491, 13870, 14960, 13540, 17970, 9330, 6000, 8995, 8495, 6395, 14495, 19995, 18495, 17995, 5495, 16995, 16495, 17998, 7498, 17498, 17498, 5998, 17698, 11000, 8700, 15300, 7490, 10760, 18760, 6360, 6270, 17920, 4790, 7830, 6990, 18640, 6700, 9498, 13698, 13298, 14398, 8998, 12698, 11998, 13498, 13498, 9698, 24995, 9895, 12995, 9295, 8495, 13895, 18298, 9198, 10798, 8998, 18498, 13498, 14998, 13998, 9998, 10998, 17698, 11498, 12798, 8698, 19495, 9995, 10995, 13998, 11998, 8998, 16698, 8998, 7998, 12495, 7995, 21995, 16995, 11995, 19995, 8995, 8295, 14698, 10498, 14495, 8995, 15995, 10995, 19995, 8295, 7995, 19995, 9995, 13495, 12995, 12995, 12998, 10298, 10498, 11298, 10698, 15995, 6995, 13950, 10650, 7995, 11495, 16995, 11995, 10995, 20495, 19995, 19995, 10995, 18995, 11995, 16998, 7398, 11498, 13998, 16698, 9998, 12998, 9998, 12498, 14998, 10498, 16995, 15495, 9495, 5995, 7498, 11798, 10998, 14998, 8998, 13998, 17998, 18998, 9198, 14498, 14998, 8498, 13995, 18498, 13998, 12798, 14698, 7698, 12498, 9998, 13998, 9500, 8195, 21498, 17998, 14498, 9998, 7998, 10998, 10998, 9998, 5498, 9298, 7298, 8498, 17698, 14498, 12898, 7998, 12198, 9698, 8798, 14298, 15798, 10298, 4898, 10298, 9998, 16698, 8998, 8998, 12498, 12498, 34498, 9298, 10900, 9998, 12998, 10998, 15500, 16200, 10500, 13200, 18698, 16998, 9998, 9498, 17498, 15998, 17998, 5698, 9998, 17298, 16998, 23998, 6498, 12498, 4998, 11498, 11298, 9298, 12998, 14498, 18498, 8498, 8298, 8498, 12998, 16998, 9998, 13698, 13998, 9498, 15984, 8489, 9995, 8498, 13498, 8998, 9998, 17498, 9998, 11990, 16899, 15984, 15984, 15984, 13998, 17994, 17489, 19899, 4699, 9949, 11498, 10898, 12998, 13498, 9998, 18998, 11798, 11798, 8498, 8998, 14799, 14799, 42489, 17498, 16498, 19698, 8498, 16998, 14998, 19999, 20999, 14998, 14998, 13998, 13898, 11498, 19698, 10498, 17498, 12498, 11498, 10998, 22998, 8498, 11998, 11898, 11498, 13298, 9698, 10498, 10998, 9598, 16998, 13498, 6998, 15498, 9949, 12998, 20799, 38489, 9489, 13949, 10990, 13489, 7994, 11489, 15699, 19998, 19489, 14998, 9199, 10489, 11489, 29998, 31498, 11999, 15990, 16998, 15489, 22489, 22489, 5998, 10998, 11498, 24999, 15298, 19498, 16998, 13998, 11298, 13398, 17798, 14998, 13998, 9189, 10399, 23899, 5330, 15985, 7485, 21999, 10850, 23250, 7999, 7999, 7999, 9699, 39998, 8500, 9998, 15995, 11495, 14698, 9998, 9498, 10698, 13499, 15999, 17299, 14198, 10898, 17298, 5998, 9998, 6998, 16698, 17298, 15498, 14298, 9998, 22998, 11598, 10498, 8698, 17498, 12499, 9250, 16250, 9999, 10999, 18494, 13489, 6995, 11995, 10498, 11300, 11800, 10800, 8300, 18499, 6800, 17000, 8998, 5698, 8998, 14998, 18500, 19298, 10798, 15998, 7298, 10298, 10698, 13998, 8298, 8998, 11298, 10498, 8995, 7895, 18390, 7795, 10795, 18298, 7698, 17698, 16998, 12698, 10698, 9998, 14498, 8998, 11998, 14000, 16250, 9700, 9998, 10998, 15498, 5489, 18999, 8449, 8699, 10489, 12489, 13698, 18498, 7298, 9998, 17498, 18999, 9489, 20994, 11998, 6250, 5950, 10900, 11200, 9250, 10300, 13000, 7000, 9200, 24995, 8298, 9298, 16698, 23698, 20398, 9698, 17998, 13698, 9998, 7298, 5698, 8998, 12998, 12498, 20990, 29999, 15489, 15998, 19999, 8489, 9490, 12490, 6490, 14790, 12498, 18998, 9598, 10498, 7998, 9998, 16250, 18450, 9950, 9950, 9950, 9950, 8498, 5998, 9998, 9998, 16998, 16998, 11198, 14498, 7998, 9998, 17998, 6498, 19998, 8698, 10698, 13698, 13498, 8498, 6298, 11698, 13998, 8498, 13998, 14498, 11950, 11395, 15990, 10990, 18489, 9489, 9795, 15995, 18495, 11995, 9998, 14998, 8000, 18498, 7998, 12498, 8498, 5298, 9998, 7498, 15998, 16998, 8698, 15998, 8998, 9998, 10698, 20450, 11495, 9750, 18495, 14950, 17295, 16250, 4998, 8698, 11298, 10898, 11698, 5998, 9998, 19998, 14998, 6998, 10498, 12298, 9498, 11990, 7490, 13698, 10498, 10798, 15998, 8998, 9298, 10698, 17498, 13998, 14998, 8298, 9698, 7798, 13498, 9690, 16498, 11495, 8000, 11400, 8250, 10998, 12998, 6698, 15998, 6498, 12998, 18998, 8498, 6998, 9498, 11698, 19300, 16890, 9420, 15390, 15370, 9230, 6990, 15591, 12891, 10447, 8998, 5998, 11998, 4298, 7498, 7998, 9498, 19498, 13698, 11498, 20498, 16998, 8998, 18998, 13898, 13498, 11998, 8298, 11698, 14998, 17498, 17498, 16998, 10498, 15698, 6998, 15498, 8498, 7998, 4698, 11998, 10998, 8998, 9298, 10998, 5298, 14498, 6798, 6998, 9798, 9798, 9698, 9498, 11798, 11698, 9998, 9698, 12698, 10498, 7798, 19798, 19998, 16498, 19998, 9298, 18298, 10998, 13498, 12698, 14998, 20998, 8998, 14998, 9998, 15998, 11298, 15998, 14498, 10998, 18998, 7498, 12998, 10798, 4198, 16998, 18998, 19498, 11698, 9498, 11498, 10998, 16998, 16998, 9298, 6998, 12698, 9498, 9798, 11298, 8998, 12998, 16798, 9998, 8198, 10698, 10698, 4998, 29998, 5998, 16498, 7498, 10498, 16298, 13298, 10498, 7298, 11998, 15498, 7798, 10698, 11498, 14698, 14698, 11498, 8998, 13998, 7498, 5998, 11998, 19498, 9591, 15450, 7991, 6150, 7542, 7324, 11498, 8998, 8998, 11498, 16498, 14798, 13798, 10998, 11298, 15998, 14998, 7498, 6498, 6998, 11798, 12998, 10998, 10498, 13498, 12998, 10298, 12698, 16498, 6998, 11698, 13998, 16798, 11998, 13498, 8498, 10998, 11998, 12698, 18998, 6798, 9698, 17498, 5998, 8498, 20498, 9598, 13898, 8298, 10298, 13998, 11798, 10598, 11998, 25498, 11998, 13998, 17298, 7498, 11798, 11798, 10698, 6298, 6998, 7698, 10698, 9998, 16498, 15500, 7900, 10998, 7498, 10498, 10998, 14998, 5998, 10420, 17630, 6698, 16998, 6495, 18995, 9498, 6498, 11998, 11498, 9498, 6999, 6950, 7995, 7695, 11795, 5698, 6698, 7998, 7998, 15998, 9498, 6498, 8998, 7798, 10698, 8498, 9798, 6498, 7998, 8798, 15798, 9698, 14000, 13998, 11250, 8326, 6672, 7800, 9000, 12993, 8742, 6477, 20998, 10298, 8498, 9000, 18300, 18700, 7800, 8150, 12700, 9300, 7100, 9798, 9498, 8998, 10798, 10498, 8998, 9998, 17870, 16640, 20991, 9491, 10700, 10550, 11000, 18391, 9157, 10930, 8000, 10950, 5200, 13400, 8000, 9350, 8500, 11500, 9650, 16750, 16998, 7498, 10498, 9698, 13998, 10498, 8798, 11698, 12998, 13998, 12500, 11700, 12500, 9500, 10000, 11450, 7500, 11450, 18000, 7700, 11800, 7850, 18750, 9750, 12500, 11500, 10800, 11998, 17750, 17500, 13750, 10400, 15995, 9650, 8600, 13500, 11500, 11650, 7750, 9000, 11298, 5698, 5298, 6498, 13500, 11500, 10000, 12598, 9498, 16498, 10998, 9498, 10498, 12998, 16498, 18498, 10498, 8500, 11500, 11450, 12850, 25500, 25500, 9000, 12000, 10250, 9000, 9998, 12198, 12298, 6498, 14000, 7000, 4950, 10500, 13650, 10850, 9650, 9950, 10000, 6776, 7480, 8310, 7625, 4430, 8498, 12698, 13998, 11498, 7698, 9000, 9000, 10450, 10450, 10000, 10000, 10650, 15000, 10000, 8850, 10998, 17998, 8698, 7698, 9998, 13998, 7998, 11298, 15298, 19298, 13495, 13995, 14995, 14995, 16995, 18495, 15495, 10495, 38015, 13995, 16998, 8698, 10498, 7298, 9498, 14498, 10998, 10798, 16498, 16998, 14998, 12498, 15995, 7995, 16700, 7430, 6999, 5999, 9999, 7713, 9247, 13190, 11810, 10600, 10440, 10460, 10260, 9650, 15891, 13691, 9870, 9020, 12320, 8990, 11991, 5491, 9210, 10491, 20627, 10850, 7500, 9790, 7450, 3691, 10980, 14021, 16700, 12790, 8095, 18797, 8000, 8640, 8830, 6250, 7495, 13498, 17998, 10991, 12991, 12991, 15980, 13991, 9791, 11291, 7830, 7180, 18491, 10760, 11030, 10870, 11290, 9221, 9791, 10291, 8991, 6691, 17491, 15298, 10998, 7998, 12498, 8498, 9498, 16998, 16495, 14160, 14300, 6700, 10120, 8800, 7580, 7860, 11880, 7191, 6250, 7720, 19700, 7691, 7820, 10491, 20991, 18691, 7350, 14030, 9981, 9998, 9291, 8770, 6991, 9290, 12990, 10490, 11176, 11150, 11150, 11190, 11410, 18930, 9607, 14790, 9691, 19970, 7180, 10060, 9880, 10290, 12880, 10000, 8000, 10650, 11650, 13500, 9550, 14700, 6800, 11000, 11000, 13860, 15050, 15470, 15590, 15020, 16370, 17250, 15480, 7960, 15860, 13000, 7020, 16700, 8791, 12480, 13491, 12991, 9210, 10498, 6998, 14498, 9998, 16998, 13998, 10500, 16500, 14280, 8698, 15998, 7498, 11298, 16998, 14998, 7698, 9698, 8998, 8698, 11298, 19698, 9998, 10200, 16998, 14998, 8640, 8367, 17530, 16920, 13691, 11750, 12250, 8200, 10500, 8500, 11000, 10400, 14250, 13000, 8700, 17498, 17998, 9998, 9698, 14498, 11498, 9698, 10498, 7498, 16798, 7998, 11698, 5498, 8998, 14998, 5998, 10498, 15498, 9698, 8298, 16298, 7998, 7998, 8498, 10298, 15998, 13498, 5998, 7298, 14998, 16937, 16491, 19000, 19050, 12998, 10998, 8498, 10998, 13298, 14798, 12998, 8798, 11698, 16040, 7591, 11691, 17050, 9998, 18998, 7998, 5298, 8698, 8798, 15298, 11998, 20698, 17998, 10698, 10710, 11591, 7570, 11460, 8940, 12460, 10620, 6680, 11140, 12720, 16298, 19680, 8591, 14490, 14530, 14590, 6570, 8990, 12240, 22250, 8791, 8080, 8240, 14891, 13120, 17390, 19070, 17380, 17490, 8559, 6391, 10917, 16800, 19491, 19557, 8291, 14691, 9790, 16090, 10210, 8770, 12460, 13210, 11591, 8690, 15990, 7491, 10291, 10700, 9998, 10100, 23965, 9891, 8191, 20991, 18991, 13991, 7891, 11200, 9491, 20156, 12000, 13838, 21948, 21228, 16591, 16491, 18420, 17900, 17350, 17401, 9991, 15870, 16900, 6590, 8298, 8798, 7298, 8498, 14070, 10300, 10191, 18520, 8330, 8891, 16150, 17520, 17000, 17520, 17520, 6791, 9827, 7698, 14998, 11998, 19750, 15750, 9400, 16400, 23200, 17700, 10250, 10800, 20498, 16998, 9298, 18798, 16298, 9298, 16000, 9900, 10600, 20590, 19741, 9470, 19498, 6698, 7780, 9720, 8691, 6150, 7381, 6880, 9347, 14990, 5560, 8390, 9691, 10200, 10000, 14500, 9700, 14750, 6750, 10000, 10800, 13666, 11746, 12991, 15500, 9240, 13567, 15351, 15151, 7498, 11998, 14795, 5995, 8995, 10890, 7120, 6891, 9200, 11070, 11057, 12591, 9491, 9791, 5625, 12591, 12610, 10500, 9691, 8491, 19990, 6710, 16230, 17620, 6475, 10660, 11991, 6600, 18498, 6998, 9498, 9495, 4745, 6495, 8298, 8698, 6450, 5720, 14740, 12161, 21350, 12500, 9300, 15200, 14500, 12151, 13351, 11588, 7960, 5570, 8763, 19000, 11700, 9350, 8521, 6041, 12430, 10291, 5820, 9280, 11750, 6180, 15500, 7787, 17998, 6998, 14698, 6798, 14698, 8900, 9200, 11900, 7750, 13830, 15400, 10750, 13750, 9850, 21700, 10700, 16100, 10200, 15150, 6000, 8170, 15991, 8190, 15300, 15590, 8250, 8600, 11200, 9200, 15000, 9975, 15998, 11998, 16998, 11498, 8498, 11298, 17989, 7495, 9495, 8690, 7591, 13490, 8311, 18760, 7830, 8071, 9480, 8090, 17520, 7450, 12195, 8295, 8990, 7495, 7495, 10298, 19998, 14998, 18798, 7298, 8998, 7698, 5698, 17998, 9395, 10695, 16975, 24995, 6895, 8295, 10490, 9995, 17989, 8940, 6485, 7698, 10698, 7995, 14990, 17691, 10291, 16630, 8110, 6600, 7150, 15440, 8980, 9991, 7691, 7491, 8991, 8491, 9491, 12570, 10991, 6800, 7490, 7990, 6380, 8150, 7660, 9067, 10200, 7991, 10660, 10991, 7990, 7160, 5491, 15400, 7700, 13991, 10540, 11245, 10695, 33500, 17995, 8750, 5350, 14900, 8995, 15995, 13295, 7790, 15030, 8080, 15610, 16420, 18300, 7840, 19980, 7991, 7650, 19117, 20100, 14480, 7300, 9290, 13140, 11240, 9140, 9750, 20510, 8280, 5300, 12910, 7300, 16991, 10140, 17991, 8491, 12710, 9940, 9990, 14450, 13190, 14240, 15580, 13490, 11991, 11300, 8600, 12821, 18134, 9950, 9295, 12995, 9795, 10500, 13470, 7570, 11557, 13080, 8491, 9991, 5570, 10180, 15500, 13498, 5298, 8991, 4991, 11491, 9300, 12991, 6681, 7991, 8491, 7991, 5991, 6991, 18716, 9798, 11998, 7698, 10498, 14998, 19998, 7480, 7714, 15163, 9129, 7506, 12500, 16355, 9815, 11618, 10656, 7998, 15998, 7998, 8998, 8570, 7540, 6700, 5991, 6160, 17000, 12589, 18838, 21750, 22995, 17500, 10857, 18300, 11736, 10468, 10260, 13998, 10498, 13998, 10998, 17998, 7498, 7698, 13498, 11498, 8498, 10998, 13998, 9998, 15298, 17498, 15298, 13698, 8498, 11498, 19498, 16998, 18998, 18998, 13998, 16998, 15998, 10498, 9998, 13498, 9498, 17298, 18598, 10398, 16798, 11998, 15750, 8998, 8698, 6798, 9498, 18498, 12998, 19998, 10998, 13998, 7998, 8998, 16998, 4998, 16498, 17495, 10250, 16250, 13850, 19995, 17500, 15250, 11750, 8498, 10998, 7798, 17500, 29000, 9998, 12498, 7498, 13498, 11998, 17498, 16998, 17998, 12995, 7300, 17250, 18900, 10250, 7300, 10250, 18500, 10940, 21250, 16695, 8800, 18500, 10500, 15750, 11450, 10400, 8000, 11300, 11300, 14500, 17500, 18750, 28750, 27995, 7500, 14000, 15500, 6800, 13000, 10500, 10400, 15450, 11200, 14250, 10495, 15500, 13600, 15000, 16500, 24250, 17750, 16000, 19350, 19750, 17400, 8500, 8000, 9698, 7498, 12998, 13998, 15298, 16498, 9998, 8998, 7698, 13295, 8298, 9798, 8298, 8698, 19998, 12898, 17800, 17150, 11200, 8000, 11798, 12798, 11998, 15998, 15498, 10698, 12998, 5998, 7298, 16798, 13998, 14498, 16598, 7820, 16730, 7830, 19776, 13480, 8600, 9700, 8691, 19298, 16998, 19500, 9300, 18750, 9600, 7800, 7750, 16750, 12000, 11500, 10498, 16998, 10498, 12998, 8798, 10998, 5298, 18995, 9495, 9895, 20795, 8795, 12495, 14995, 8998, 8600, 9780, 8995, 12995, 12995, 12995, 7995, 16698, 6498, 7298, 10498, 8395, 10000, 7311, 12000, 15395, 25000, 13000, 13000, 16998, 7298, 10998, 7998, 12498, 5198, 16998, 10888, 6990, 9690, 15495, 19995, 11999, 14000, 12398, 10950, 7365, 8374, 9815, 7678, 9090, 9498, 5390, 10870, 19990, 8160, 14998, 14995, 12750, 17995, 7999, 5622, 21673, 17800, 17865, 12900, 10882, 13000, 12500, 10175, 14687, 8400, 6940, 4810, 7580, 9157, 10995, 12995, 12995, 29495, 12495, 8975, 16495, 11298, 10398, 11298, 6998, 11498, 10698, 11498, 12298, 16698, 16698, 18998, 13598, 22498, 14995, 13995, 9750, 13750, 18495, 14995, 13498, 9698, 19698, 25998, 7995, 5998, 18498, 15698, 15990, 17495, 10250, 14495, 9295, 11495, 3495, 9295, 13995, 5995, 16998, 12498, 11698, 16998, 11298, 11798, 10298, 14998, 11498, 16998, 15995, 14995, 25995, 11698, 10498, 9498, 18498, 16498, 18998, 4698, 7998, 6698, 7698, 13990, 9298, 9498, 9498, 5498, 9298, 18795, 15495, 14995, 14995, 14795, 12595, 7195, 17295, 11295, 14995, 15995, 9498, 7498, 14698, 16998, 19498, 8998, 5495, 7795, 9995, 7500, 17990, 11000, 15000, 16795, 10995, 19995, 7295, 10495, 4295, 11350, 18300, 15500, 6500, 14000, 17990, 8500, 21000, 10700, 13000, 6490, 12000, 7800, 33500, 18500, 7450, 10800, 7550, 15995, 13995, 9990, 7995, 15750, 6995, 7300, 10500, 9000, 9500, 12000, 9000, 9290, 9995, 16950, 12995, 9500, 11250, 14200, 11500, 11400, 6799, 8990, 9495, 6750, 16995, 16995, 6750, 9495, 16495, 14985, 21845, 15000, 16000, 20000, 8000, 8500, 12000, 12990, 13650, 10000, 19544, 8200, 11300, 14200, 12500, 13900, 11500, 10250, 19500, 17400, 10000, 16500, 14490, 10000, 8500, 9790, 5490, 18990, 10490, 6495, 4499, 7995, 9995, 10995, 7495, 15450, 20359, 24990, 8795, 16995, 18395, 18490, 9690, 12995, 17995, 6495, 9695, 14500, 10490, 8250, 12200, 12390, 14990, 11790, 7995, 7890, 7290, 16490, 9490, 7995, 9795, 9995, 19194, 14995, 11695, 9995, 20645, 17345, 5790, 17990, 36500, 12490, 13690, 7390, 18490, 9990, 10490, 13290, 33500, 7490, 10490, 9990, 6490, 9590, 24990, 8790, 15990, 12495, 15790, 9495, 15590, 13250, 17990, 10990, 15790, 16990, 14190, 9750, 20775, 21490, 6995, 19990, 14950, 15495, 6595, 7995, 9990, 4950, 8450, 15450, 11950, 15795, 12495, 19995, 13395, 14495, 14995, 7995, 15250, 8650, 14995, 10950, 15888, 8950, 16495, 12950, 13950, 8990, 14950, 11995, 39990, 9450, 9200, 10200, 10250, 7250, 17750, 17698, 4698, 5498, 6298, 6298, 14998, 8998, 6598, 11998, 13495, 15450, 6950, 9995, 14998, 8495, 16500, 14250, 9490, 13250, 9400, 7950, 21390, 13390, 9690, 9790, 11990, 9990, 13790, 8990, 5490, 4990, 6699, 12799, 10699, 7699, 10300, 16300, 12500, 8300, 10350, 7250, 7250, 16500, 20500, 12695, 7495, 8995, 17495, 7695, 6495, 26698, 10298, 9798, 14998, 6998, 18498, 7498, 15998, 9995, 14998, 13798, 7498, 14500, 15300, 12400, 12377, 9500, 7400, 9300, 7950, 15950, 25250, 7990, 7495, 9599, 12995, 17690, 10250, 9800, 8100, 11300, 19000, 13998, 11998, 7998, 11998, 13700, 16450, 7995, 11450, 11450, 16950, 11950, 14250, 7250, 10050, 9000, 12400, 11200, 21000, 9741, 17498, 9998, 12698, 9998, 15998, 10298, 11980, 9698, 4998, 15998, 4698, 6998, 17298, 11998, 17498, 16998, 13995, 11995, 15995, 9290, 13990, 25990, 6290, 15490, 10690, 8498, 11498, 11998, 10598, 10998, 7498, 7998, 11998, 12698, 9998, 7998, 9598, 14598, 15998, 9998, 16998, 14498, 13798, 6998, 14998, 9998, 12498, 13298, 7998, 9998, 8998, 9998, 10998, 12298, 9298, 5798, 10498, 7998, 12498, 16498, 10798, 11298, 11698, 10298, 18998, 11998, 9998, 8498, 12998, 9998, 9698, 10498, 7998, 6998, 17698, 7298, 8498, 7298, 16798, 13598, 15998, 10830, 4290, 7790, 11490, 6340, 11298, 14998, 16298, 17298, 15798, 16998, 11495, 11698, 13498, 9998, 23695, 20498, 16998, 11198, 11998, 12698, 12998, 11798, 13798, 14660, 7050, 8370, 8990, 4990, 12998, 16998, 17298, 10495, 11250, 8550, 15086, 6420, 9699, 13200, 10500, 10998, 14298, 9998, 9698, 8998, 7698, 12990, 9770, 9280, 12046, 18991, 19991, 7491, 9849, 10799, 10699, 7499, 5698, 10298, 10298, 9998, 15798, 13998, 15498, 16498, 16498, 6998, 8998, 18698, 13998, 9698, 14390, 17799, 6999, 9380, 11999, 10500, 15270, 8617, 11499, 10478, 14998, 9698, 16498, 16598, 15498, 9298, 17498, 16998, 16298, 10498, 8980, 12150, 13200, 15900, 17860, 12980, 6810, 4490, 10050, 12500, 20850, 20700, 11500, 19380, 19980, 5480, 9980, 5980, 8980, 18300, 18990, 9490, 10990, 10490, 10500, 9000, 7250, 12495, 18290, 23155, 19725, 8430, 10170, 24995, 24995, 19690, 11750, 7471, 5971, 9471, 9690, 7710, 8667, 9000, 11991, 7495, 5995, 13990, 12670, 6890, 19490, 21390, 8280, 7990, 8890, 8989, 15495, 12940, 28450, 22980, 22620, 23190, 23880, 23780, 7220, 10191, 10491, 8650, 19298, 10607, 13091, 6990, 10495, 13180, 6800, 10277, 13338, 12890, 4780, 19320, 6590, 19990, 12240, 17060, 10547, 9578, 8082, 11731, 10441, 15250, 6999, 13480, 7950, 22998, 9298, 17298, 16998, 12298, 6100, 7197, 10490, 7470, 12698, 12498, 10798, 5840, 9420, 10870, 8791, 10699, 6699, 10298, 18498, 18798, 10298, 6298, 9798, 13298, 13998, 10250, 11750, 21000, 8000, 13500, 16000, 6650, 15500, 12000, 11750, 11498, 11498, 19298, 11498, 19498, 7698, 6698, 10298, 7410, 10000, 15877, 11000, 8471, 9312, 9500, 15000, 17000, 8498, 11698, 25498, 10298, 17998, 17498, 14998, 14498, 13998, 7899, 11000, 6999, 7500, 7999, 8999, 10950, 10500, 14750, 8000, 19000, 6750, 11500, 8799, 5995, 7500, 9999, 8222, 6899, 16688, 8000, 7495, 9823, 9877, 10000, 9998, 18875, 18000, 17550, 13766, 10642, 10463, 34000, 9356, 22000, 10000, 10450, 6900, 13240, 13195, 7700, 9600, 14460, 16975, 11699, 9399, 13250, 10980, 7999, 7250, 8500, 7250, 10500, 15500, 10998, 9998, 22998, 7690, 10990, 8490, 9990, 13990, 7495, 8930, 11491, 6777, 14591, 9999, 10999, 5000, 14133, 9417, 14581, 9840, 14620, 10141, 16190, 7760, 16280, 12600, 6991, 6991, 5397, 15999, 8999, 12490, 12599, 12480, 8230, 8250, 11990, 7200, 9850, 4290, 8000, 9797, 6890, 8890, 7690, 18497, 12890, 11591, 9990, 8990, 9463, 10873, 10987, 6968, 7995, 6995, 7495, 8999, 8997, 11250, 10770, 7890, 8950, 9500, 15187, 8450, 6700, 15200, 15512, 15822, 10360, 14950, 14750, 8500, 12090, 7250, 14480, 10660, 9500, 11000, 8682, 14932, 10582, 15612, 17252, 9362, 17122, 12852, 7900, 15950, 12590, 13220, 10180, 7990, 16090, 15410, 6500, 8500, 16350, 5898, 9499, 10260, 6590, 12360, 12750, 11000, 11000, 12638, 5290, 6790, 10410, 14950, 15450, 19790, 9495, 4995, 8995, 10990, 17891, 16970, 16780, 16820, 10850, 16590, 8930, 9420, 7110, 6900, 7491, 14450, 5980, 7360, 6790, 8240, 11330, 7160, 20990, 9270, 9320, 14730, 17520, 9540, 5850, 5991, 16720, 5491, 13140, 17350, 6140, 9160, 16370, 20391, 17547, 10750, 15220, 5130, 13140, 16600, 12990, 9295, 19090, 13140, 6930, 15780, 14890, 18600, 15660, 15530, 12980, 5995, 6295, 13600, 8250, 16810, 18000, 13300, 11250, 16430, 5860, 6990, 7300, 6870, 7950, 17481, 9420, 7260, 16311, 13698, 11998, 16698, 9498, 14498, 14798, 14490, 16990, 6298, 13995, 16700, 12250, 12850, 18350, 8250, 9000, 9450, 8550, 8650, 11170, 14750, 6995, 8995, 8899, 7430, 6650, 5750, 15995, 6995, 7995, 7995, 6890, 7690, 13000, 7400, 14120, 10187, 9000, 15045, 13750, 7600, 8180, 17190, 16770, 9000, 10500, 6999, 7999, 6650, 9000, 8000, 13500, 16000, 16250, 12000, 11750, 17365, 12465, 10465, 13298, 8998, 15200, 19700, 16350, 10300, 15000, 12000, 10900, 19800, 14000, 13130, 17520, 17520, 16137, 6840, 16750, 10191, 20491, 10691, 10490, 10291, 12191, 8500, 17290, 13480, 8891, 7190, 8391, 9600, 12190, 11991, 12991, 9530, 7590, 7991, 10191, 18280, 6991, 13830, 17520, 6991, 16460, 7440, 18991, 12491, 6520, 11341, 7800, 16770, 8680, 19995, 12491, 8291, 11991, 5700, 8291, 10891, 15771, 7643, 10503, 8343, 7491, 16598, 10995, 8995, 11995, 12495, 7995, 13990, 8691, 8997, 13130, 15910, 19780, 13130, 17200, 11091, 6100, 9770, 12091, 7750, 19160, 18791, 20890, 15371, 8290, 6990, 17890, 11390, 10890, 17990, 21990, 17998, 10798, 17450, 9750, 9695, 15495, 16998, 4998, 8498, 16798, 6298, 12298, 9998, 9998, 6298, 6995, 12100, 21995, 8995, 7995, 8995, 5995, 15995, 8995, 10790, 18990, 17990, 7490, 16990, 13490, 6995, 10995, 7495, 8495, 18990, 8390, 8700, 10200, 10000, 9300, 7698, 9998, 17500, 13488, 7695, 14490, 7995, 12495, 8998, 12995, 14995, 8495, 12995, 5995, 19995, 10178, 11298, 10498, 17498, 9698, 10498, 11498, 19998, 8998, 6998, 20250, 17480, 17480, 12950, 14642, 6990, 27890, 8662, 9851, 9690, 12495, 15995, 15000, 8998, 6465, 17695, 7495, 6498, 14698, 12000, 7591, 10691, 16991, 18291, 9650, 15791, 16481, 10491, 14810, 4990, 13130, 12490, 13130, 18991, 16930, 6191, 12491, 9880, 11291, 9491, 16400, 15410, 13561, 13191, 9990, 9990, 9891, 5470, 10700, 17280, 18490, 18391, 15340, 15320, 10191, 18390, 19800, 15510, 23590, 11860, 19427, 11200, 7600, 11260, 17200, 17337, 13191, 16750, 15240, 12927, 12490, 6991, 10391, 10991, 18050, 15860, 21770, 15460, 15300, 12790, 13200, 14140, 12520, 10410, 13490, 9390, 11680, 12000, 16590, 14090, 12847, 12191, 13060, 10200, 15370, 9990, 19900, 7691, 19100, 7691, 13091, 17480, 12490, 17330, 17480, 12490, 17280, 17480, 7500, 6590, 15740, 10990, 16570, 9590, 10731, 14177, 14467, 14791, 13130, 5298, 15498, 11498, 10498, 9998, 9698, 8998, 10698, 6998, 4498, 8498, 10798, 7798, 9998, 19498, 9998, 9998, 14698, 10998, 16498, 9620, 8291, 15530, 6991, 11291, 9850, 6970, 13350, 15690, 16442, 5295, 18500, 5995, 8499, 10298, 12898, 7798, 10498, 8298, 11298, 9490, 9730, 20491, 9491, 13280, 15290, 10020, 19991, 8691, 13930, 19490, 15991, 26360, 14400, 18991, 11617, 22030, 13140, 7430, 17210, 17391, 15660, 9990, 8690, 8755, 8995, 11389, 17140, 17000, 17290, 6780, 10491, 10877, 18891, 6625, 9600, 8699, 8080, 11498, 6298, 11998, 9998, 12498, 8955, 10955, 9495, 10750, 10000, 10250, 16491, 19787, 6940, 9591, 6521, 10291, 11531, 14790, 9301, 15700, 9491, 11491, 3991, 8191, 8991, 11491, 9681, 9295, 12157, 9491, 9950, 8030, 6451, 11540, 6740, 11180, 16010, 8570, 8311, 10040, 28000, 4960, 9400, 12041, 11640, 11880, 13990, 17480, 10300, 12830, 15890, 7850, 9991, 6990, 7911, 10771, 8220, 23740, 17977, 9791, 11990, 10491, 7131, 21490, 12990, 6260, 10991, 22620, 17490, 7250, 9980, 12880, 7965, 8495, 7695, 9150, 7500, 11750, 14855, 7850, 12695, 8295, 15795, 8995, 17520, 13140, 7520, 15110, 15991, 10491, 17520, 16950, 16950, 17990, 5981, 8491, 6090, 8230, 8850, 7951, 8321, 12931, 6800, 6690, 7760, 9790, 8710, 8340, 7791, 6340, 9267, 9350, 17520, 17520, 31317, 7780, 5250, 8650, 13140, 13220, 14070, 7991, 9200, 6275, 6350, 14291, 12795, 7991, 8991, 7670, 7849, 8037, 11091, 16987, 11460, 8030, 13340, 19800, 6990, 15310, 5910, 33000, 7400, 12241, 7887, 6721, 7791, 11967, 8610, 7531, 11940, 18497, 9800, 10720, 7521, 14900, 7591, 10591, 7561, 6391, 9851, 11998, 16998, 8998, 5698, 17998, 9998, 18498, 12998, 9998, 10498, 10998, 14898, 16798, 11998, 17500, 16990, 19650, 6500, 18999, 12999, 8980, 11698, 15998, 16498, 18398, 13998, 10498, 9250, 10990, 10990, 18999, 18990, 13999, 14490, 16999, 10990, 7999, 18450, 11490, 10999, 6999, 8450, 9980, 31499, 5990, 15999, 15998, 14490, 12490, 14950, 10990, 7990, 16999, 10990, 15980, 9499, 15999, 10990, 10990, 18999, 13790, 11990, 15490, 12990, 9490, 27499, 17499, 11999, 13990, 18490, 9990, 10270, 17410, 12490, 16891, 9992, 22992, 17270, 17390, 13140, 17470, 17470, 17320, 9614, 8591, 11491, 8791, 11291, 15591, 14440, 12428, 8991, 7992, 6992, 9292, 12812, 16492, 6597, 9390, 9490, 5550, 14980, 8880, 10991, 8470, 9150, 10190, 9741, 13140, 8120, 16950, 14591, 10591, 16990, 10020, 13940, 18430, 14270, 9400, 11291, 9191, 15300, 13790, 17410, 17500, 12050, 19747, 16250, 8687, 7610, 6250, 15590, 10967, 11851, 9991, 16991, 6750, 11990, 17550, 10000, 7990, 7000, 10850, 11450, 7150, 9850, 6991, 16191, 5340, 12000, 8980, 11491, 10980, 17970, 9990, 12030, 11516, 10891, 15087, 14750, 11750, 6990, 9990, 9500, 10000, 20000, 19500, 18000, 7850, 8295, 13390, 26475, 9700, 7450, 8750, 19500, 20000, 18300, 10750, 17550, 10990, 7590, 19790, 10991, 12960, 20491, 20090, 17991, 26250, 17999, 8499, 9399, 10999, 21995, 10246, 9987, 10350, 8495, 6695, 13750, 10695, 8750, 12595, 7595, 10250, 23495, 9450, 11999, 14999, 18999, 10999, 9499, 15500, 13450, 17290, 14700, 13000, 8750, 9150, 12750, 9000, 10500, 9550, 21000, 11000, 12750, 10900, 11997, 24497, 16997, 10897, 13999, 13599, 11699, 14899, 14999, 9999, 16499, 14999, 10999, 8999, 8399, 9450, 10150, 9495, 9795, 9195, 16995, 10500, 8450, 12500, 7850, 8750, 10350, 11499, 18999, 11999, 10999, 8999, 19000, 32500, 9150, 18800, 18400, 10350, 8900, 7250, 13000, 12250, 15497, 13739, 10190, 10497, 10690, 13790, 15790, 11890, 9690, 12990, 9690, 9997, 12497, 16497, 15997, 13690, 11690, 7250, 9897, 7490, 14997, 7997, 9997, 9697, 6990, 7997, 11497, 17497, 10997, 13497, 13997, 5997, 11690, 17497, 7697, 10997, 8997, 14997, 12997, 10997, 11350, 10490, 9997, 8900, 8990, 16950, 10997, 16500, 10490, 8790, 10997, 13497, 16797, 9997, 11990, 9750, 9690, 13497, 11490, 6497, 7497, 13997, 11497, 9997, 14997, 5997, 10497, 9997, 9697, 10497, 9774, 8997, 10990, 9690, 9997, 17950, 18250, 10490, 9690, 10190, 10290, 10997, 10950, 9890, 13497, 15737, 8890, 9697, 10990, 14650, 11997, 9890, 13490, 14497, 8750, 11390, 10390, 10697, 10997, 9997, 10497, 11990, 14690, 6997, 11997, 12390, 10997, 12497, 8490, 14497, 16497, 10981, 10690, 8690, 9697, 13797, 8997, 12850, 14541, 9790, 17997, 15990, 8750, 10997, 15490, 11390, 9997, 8497, 10697, 9890, 11490, 16997, 11820, 10497, 9350, 16690, 9661, 11841, 10497, 8750, 18290, 23997, 27497, 14490, 6890, 17981, 11350, 18741, 13900, 10997, 16990, 8697, 10997, 12497, 11997, 13841, 10497, 20990, 16750, 14497, 6789, 7700, 8997, 15997, 13497, 11997, 6997, 8997, 17497, 7997, 8497, 12997, 12950, 8700, 17800, 5700, 6200, 16750, 8973, 12995, 17750, 10250, 8000, 11500, 9500, 14500, 16000, 10000, 12500, 11000, 8690, 9997, 9997, 9997, 7997, 10997, 10797, 7997, 13997, 12000, 11500, 7500, 14000, 10000, 7500, 16000, 21000, 13500, 16000, 14000, 8000, 7000, 10500, 10000, 8500, 14500, 14500, 16000, 9500, 14500, 16500, 10200, 8500, 9400, 8800, 6250, 15500, 8465, 5465, 11300, 7600, 9200, 13620, 9000, 16800, 14750, 10400, 14500, 8750, 6500, 13500, 13750, 7000, 10650, 15500, 5600, 11500, 19718, 15500, 9310, 9000, 10000, 26000, 16100, 18000, 18000, 8800, 11700, 11200, 7860, 7160, 14465, 10497, 5999, 8999, 7710, 7695, 11000, 8495, 9190, 8830, 8500, 11300, 12000, 13500, 9000, 20000, 9000, 9000, 11298, 10998, 9798, 11498, 8998, 6298, 8398, 17995, 17495, 9795, 8797, 8690, 9990, 12997, 10971, 9350, 18690, 16690, 16750, 12941, 9490, 11890, 10497, 12995, 11980, 7980, 19998, 16998, 13998, 19898, 15498, 21798, 13998, 10998, 7298, 11998, 14798, 10890, 6790, 9890, 7797, 15990, 16997, 16997, 6995, 6995, 14998, 17298, 16998, 17498, 10998, 9470, 10298, 9998, 8998, 10498, 10995, 7995, 10000, 10500, 14500, 7795, 9998, 11498, 14990, 7995, 11280, 9495, 8995, 6495, 8845, 10995, 8495, 8995, 16998, 9998, 9998, 10498, 11498, 13498, 10498, 6998, 9798, 10498, 9990, 10750, 10497, 13341, 12997, 10650, 13990, 9997, 10490, 14490, 8998, 17998, 10298, 9599, 10898, 6797, 10797, 13997, 10397, 14390, 9997, 13497, 18997, 9997, 17890, 11995, 20695, 21500, 14700, 10000, 17500, 8000, 8600, 10700, 12400, 10498, 7298, 18498, 15998, 10998, 10698, 11698, 10998, 7498, 10998, 12000, 12000, 13250, 8750, 11400, 11000, 10500, 9200, 11750, 14000, 6270, 13970, 16770, 5290, 8940, 8249, 9900, 9790, 8790, 16698, 4998, 7995, 12995, 7995, 5495, 6990, 10329, 13495, 10345, 7700, 10250, 12000, 10750, 14000, 9400, 7000, 16000, 10380, 8700, 14250, 6998, 9898, 11298, 14698, 16998, 9998, 11998, 10698, 13500, 8800, 8750, 7895, 10795, 17995, 11200, 16601, 8990, 8990, 10990, 9990, 14490, 19490, 10990, 14990, 18990, 7676, 4560, 14237, 14280, 8180, 16990, 7090, 5902, 9698, 11998, 14000, 11500, 16500, 10250, 10000, 11000, 12000, 10298, 8698, 15998, 8798, 14498, 15698, 17849, 12390, 10280, 17420, 13990, 8991, 5572, 9498, 8998, 10798, 9298, 11698, 10498, 19498, 16998, 18298, 19498, 10298, 6210, 8290, 8100, 6780, 7480, 9499, 8750, 11998, 10298, 9998, 10998, 9998, 9998, 9998, 9500, 8360, 4650, 6100, 6490, 5960, 17490, 12990, 15690, 25490, 10490, 22990, 15495, 7999, 18999, 21595, 12350, 6701, 8400, 6100, 10200, 8000, 8930, 10170, 4801, 7981, 9690, 12498, 8698, 9498, 13298, 9498, 10998, 10498, 14598, 18498, 11998, 12220, 11000, 14491, 5991, 8291, 6891, 15991, 10490, 8991, 9210, 12991, 7991, 10159, 9840, 8137, 17750, 17520, 19230, 17390, 10991, 14287, 26030, 19300, 20390, 26430, 17200, 17800, 27480, 10530, 7790, 17410, 17520, 17390, 8760, 9230, 16387, 15160, 15500, 17530, 11200, 7871, 15791, 9950, 13999, 10450, 7991, 6080, 9970, 15291, 7620, 9291, 8791, 8222, 6590, 9470, 19840, 7600, 17300, 16730, 12410, 17080, 7870, 17990, 8880, 7500, 9130, 6710, 19991, 6800, 10361, 7750, 17450, 9450, 12950, 6450, 8950, 12450, 14450, 8151, 5991, 4890, 13491, 7991, 10491, 9491, 9991, 10991, 10991, 8450, 13750, 14750, 9450, 7950, 8950, 14750, 15529, 9450, 11250, 9450, 8450, 7950, 10450, 6950, 10250, 9750, 10999, 14450, 16950, 10850, 12950, 14450, 10250, 10950, 12999, 11253, 14590, 8650, 7950, 8950, 12650, 11999, 10250, 10250, 8450, 7950, 11456, 9659, 14450, 19450, 9850, 13650, 13250, 13450, 16950, 10638, 9407, 16450, 7999, 10750, 10950, 10950, 10708, 10450, 12950, 16950, 6950, 10750, 12950, 12950, 10950, 5750, 10750, 5890, 7170, 14550, 13140, 13030, 17790, 18000, 15910, 9620, 7791, 11750, 11750, 11950, 13950, 10950, 11250, 15950, 13250, 12247, 18450, 9999, 13617, 15450, 13461, 10750, 17450, 13450, 6999, 11450, 8450, 9491, 7999, 9950, 15750, 9999, 9950, 9660, 15920, 14090, 19766, 14266, 16950, 13950, 13157, 17750, 8368, 10750, 10950, 11450, 14450, 22750, 13491, 10070, 15490, 19590, 7390, 15763, 8221, 15740, 8430, 13500, 18995, 7353, 11999, 15498, 11698, 17498, 7495, 10690, 8650, 16950, 8990, 9998, 10298, 8498, 10298, 16998, 10495, 10495, 6197, 8990, 6995, 14147, 13995, 9995, 9995, 11495, 17995, 21995, 16495, 8795, 5795, 16995, 11995, 9995, 16950, 7672, 7950, 9671, 12250, 15250, 7999, 11450, 20395, 21495, 16297, 5297, 9350, 8650, 14250, 12950, 11950, 9850, 9950, 9850, 9997, 6597, 9497, 11997, 10597, 11997, 10495, 17495, 12795, 13495, 17495, 17495, 8498, 13698, 9498, 10397, 9597, 10897, 10597, 9897, 10897, 11197, 9997, 13697, 17997, 7897, 9697, 13697, 9297, 13897, 10950, 9950, 10625, 10450, 9650, 13997, 8950, 13497, 11997, 14497, 7697, 15597, 16597, 10497, 7397, 13997, 6897, 14497, 18998, 14997, 7250, 18425, 9550, 17325, 9797, 11950, 9250, 16850, 10597, 18950, 13150, 17850, 9750, 11625, 21925, 11250, 17725, 9150, 7550, 15997, 9995, 7295, 8495, 7092, 18731, 6702, 14536, 10142, 7950, 10450, 10650, 15950, 10450, 11450, 17950, 8950, 15750, 10950, 10999, 11950, 10950, 7450, 10450, 16625, 17925, 6250, 10697, 13250, 9697, 9551, 9120, 9591, 11951, 15591, 9495, 15795, 6697, 11397, 11697, 10110, 7600, 7800, 20080, 19950, 15391, 17310, 11220, 20890, 6541, 6997, 15497, 8997, 9897, 10497, 13997, 5497, 9997, 17397, 10497, 16698, 15998, 9998, 19998, 21290, 9059, 17520, 13660, 11000, 13140, 12091, 21972, 19000, 19000, 9780, 7500, 10481, 8421, 15780, 11660, 10597, 9850, 7850, 25925, 9450, 16350, 9950, 15550, 10250, 9750, 10498, 8298, 11498, 7598, 6998, 9598, 8998, 13998, 6698, 10798, 16995, 9995, 14390, 8990, 13890, 11498, 15498, 10498, 9498, 8798, 14498, 18998, 19498, 13998, 7298, 6998, 13995, 19995, 6995, 10495, 12495, 12995, 20395, 20995, 8995, 7897, 13597, 8497, 15397, 10697, 18997, 9297, 17997, 9050, 7998, 7498, 12498, 8798, 9798, 9000, 17490, 7990, 8290, 9498, 10998, 14495, 25925, 17998, 8998, 11998, 14998, 13498, 18298, 7698, 13890, 7600, 10390, 10990, 16995, 9495, 23850, 17890, 9660, 17720, 6921, 17520, 17520, 17520, 9160, 15290, 9995, 8290, 10995, 17500, 16500, 9700, 9300, 8700, 14500, 7800, 15600, 17600, 12500, 14000, 16290, 10800, 13995, 10995, 18990, 9495, 11600, 16300, 9400, 19690, 15000, 15200, 8500, 14000, 8900, 9990, 30990, 18000, 15290, 18490, 19990, 15290, 10995, 11999, 6990, 13800, 15200, 4500, 17200, 10700, 8500, 26900, 14200, 8500, 7200, 9500, 15700, 17500, 10000, 8300, 20900, 6900, 24900, 10500, 15500, 15800, 14500, 9990, 7495, 11590, 18990, 5000, 16800, 11200, 9500, 15000, 15000, 8700, 11600, 8998, 7998, 7998, 13498, 9498, 14995, 13302, 9397, 5591, 8895, 12595, 13690, 15490, 13990, 9495, 15995, 7800, 8900, 10700, 15800, 13900, 5990, 18990, 17290, 17295, 23995, 12995, 18295, 11995, 8795, 12395, 14995, 15995, 18998, 9171, 8995, 9991, 14292, 12492, 11500, 15500, 15000, 19800, 11600, 12400, 8400, 12500, 9500, 11200, 10000, 4500, 9300, 7500, 13000, 16000, 21000, 17000, 21000, 14500, 10500, 13000, 7500, 10998, 8498, 16195, 7700, 16795, 6700, 14500, 11500, 17400, 8200, 6000, 16395, 12495, 11495, 21795, 12495, 10295, 17995, 9895, 9695, 12795, 16500, 11998, 6260, 37990, 16991, 13500, 9900, 16500, 14000, 14500, 11900, 14800, 16500, 19900, 11998, 8998, 19998, 17498, 9998, 12998, 14998, 8698, 15191, 14991, 12498, 11998, 13998, 16998, 16798, 17590, 7495, 10690, 16990, 11490, 9790, 15990, 9995, 10495, 15750, 15400, 15360, 15760, 15270, 16030, 15750, 15510, 11498, 9680, 7991, 15960, 15950, 13430, 15490, 8491, 17400, 7291, 6800, 12891, 9998, 11998, 10998, 10298, 8498, 10298, 13298, 4998, 9998, 10998, 10520, 11250, 10230, 18610, 8540, 15580, 8491, 20491, 7640, 8091, 8491, 8330, 11591, 8391, 10000, 9450, 14740, 9520, 9260, 8991, 14998, 6998, 12990, 13070, 10000, 12050, 7991, 7220, 30990, 18550, 5207, 16310, 6730, 11000, 10490, 10990, 6860, 5971, 11650, 7491, 9491, 7491, 9791, 15991, 18491, 11779, 8000, 6691, 8691, 8491, 8995, 9495, 16990, 6700, 7991, 12791, 9495, 17790, 10595, 10057, 10300, 8590, 7891, 8998, 14998, 14040, 12720, 7627, 8191, 8721, 7491, 10770, 12591, 5991, 8081, 11991, 7911, 12151, 8421, 9321, 9911, 12097, 4989, 5995, 18495, 17290, 8299, 9899, 10099, 11491, 8330, 9991, 9991, 12000, 10820, 7998, 8998, 10498, 10498, 14998, 18998, 17498, 9498, 10498, 10498, 15470, 15470, 15390, 15590, 15590, 14620, 10731, 11250, 9991, 9490, 14291, 13491, 17750, 9440, 11691, 12080, 10780, 7291, 14291, 11891, 12391, 8870, 18290, 16290, 12330, 13380, 14991, 6250, 13060, 10691, 16990, 8950, 9810, 11291, 10600, 10180, 9290, 9291, 16291, 14370, 11080, 9291, 15850, 12430, 8391, 20980, 20991, 13991, 8991, 15781, 13760, 14340, 15460, 6791, 14491, 12390, 10491, 10491, 10991, 11970, 10170, 15770, 10491, 7380, 9691, 15298, 9498, 11998, 8691, 14540, 19240, 26230, 9380, 7491, 10391, 9681, 12870, 10490, 6999, 19395, 8250, 9995, 16809, 11187, 10295, 18499, 16498, 10998, 10498, 10998, 8798, 9298, 12991, 13350, 6991, 11370, 16640, 7710, 18047, 7130, 9791, 7557, 6491, 10991, 19061, 8490, 10991, 12090, 15940, 14410, 10900, 11491, 18250, 9891, 8791, 10270, 13499, 8000, 9281, 6959, 11295, 10495, 5780, 10890, 14320, 10630, 13580, 8270, 16860, 14120, 7030, 10491, 15000, 20491, 17040, 17440, 24290, 17590, 10980, 10780, 10650, 20941, 13580, 18497, 11740, 8600, 9891, 10350, 10240, 7791, 8970, 11620, 13567, 7467, 17920, 9930, 20390, 37991, 11410, 17750, 12220, 10730, 14540, 10290, 10302, 9910, 30927, 10870, 9640, 14190, 8790, 9560, 15530, 8780, 11370, 7420, 18600, 18367, 17267, 8991, 9291, 9991, 10700, 9000, 11020, 14450, 10590, 15670, 19500, 8110, 7710, 8480, 7211, 6720, 7460, 18367, 21700, 15170, 14390, 17420, 17520, 17520, 17520, 16530, 7950, 11950, 10200, 8500, 8400, 15995, 10995, 6995, 9295, 12995, 9295, 8995, 5995, 10995, 19795, 10291, 7790, 14620, 14990, 18890, 18995, 5995, 6995, 13250, 8740, 12591, 14350, 12380, 13791, 7691, 6491, 16971, 13560, 8191, 12840, 14232, 12271, 14995, 8991, 8891, 9200, 10491, 8491, 10491, 9491, 10391, 8291, 10991, 9991, 19500, 25520, 16890, 9370, 9740, 8991, 17750, 9960, 18020, 11497, 17997, 7190, 11969, 8791, 9991, 6717, 9640, 18030, 11430, 6360, 18797, 6527, 5991, 9397, 9110, 18520, 19950, 10465, 16300, 16410, 6140, 10995, 7995, 20995, 8995, 12495, 11495, 21995, 17995, 10490, 15290, 5391, 6791, 6380, 8540, 12530, 16757, 9660, 6610, 7500, 8470, 10680, 21290, 19210, 10991, 9020, 11000, 9791, 15200, 16690, 10391, 13890, 14791, 12950, 13890, 4591, 10291, 9491, 10291, 7060, 12470, 12810, 11491, 8750, 9891, 19491, 9540, 9520, 13980, 17250, 13140, 13140, 12990, 12990, 16490, 37990, 7570, 9990, 11290, 7800, 12170, 11830, 17740, 9880, 6160, 7771, 9947, 17960, 9430, 10491, 11771, 16990, 8271, 7991, 21810, 17197, 7991, 14791, 9271, 11450, 15800, 17520, 6120, 7991, 9171, 10620, 10260, 12491, 13271, 7660, 12110, 9910, 12100, 15590, 14990, 19000, 17217, 10000, 7791, 12495, 9995, 14495, 19995, 12495, 17495, 8495, 5991, 9291, 9691, 5610, 7430, 10250, 17990, 9050, 13700, 13220, 9340, 7940, 10790, 8820, 9510, 8890, 7110, 7300, 6820, 13371, 6940, 11020, 10050, 19710, 8791, 9720, 6991, 10447, 16410, 15590, 13000, 12491, 7230, 15066, 8500, 9600, 10291, 8291, 6741, 12090, 6891, 10540, 12891, 9920, 7530, 12020, 7250, 14771, 5791, 6860, 11510, 8991, 7330, 14430, 10500, 11800, 15290, 15295, 10680, 7480, 10810, 13740, 8291, 4391, 9391, 13690, 6690, 10391, 16900, 10160, 13291, 11000, 11800, 10200, 13800, 15800, 19730, 15390, 15590, 15390, 15310, 22491, 16990, 10491, 11350, 6700, 19894, 15890, 9814, 8194, 11490, 16500, 9900, 14500, 8995, 18500, 25400, 18900, 16700, 8995, 17797, 12500, 18700, 10100, 10900, 16995, 9900, 19000, 11995, 14000, 11995, 13900, 14580, 16160, 15360, 15270, 7440, 10291, 6271, 11500, 8291, 9980, 4695, 10995, 8495, 8498, 16798, 15498, 9990, 13352, 17520, 17520, 13140, 10451, 17520, 8351, 18987, 7250, 7375, 8500, 7480, 11495, 6395, 9395, 7222, 9082, 9995, 12000, 14500, 17000, 14200, 7991, 8591, 16070, 5930, 12830, 12620, 18420, 19990, 14270, 11240, 17990, 10290, 10530, 11951, 10330, 8499, 8794, 11495, 9900, 14200, 9500, 9400, 11800, 11800, 17900, 14800, 10500, 13500, 5791, 13791, 8491, 7491, 16407, 13291, 8291, 8691, 9391, 16891, 12291, 12999, 10699, 7799, 8499, 7499, 21400, 21400, 19997, 12500, 10300, 8800, 30500, 12200, 10300, 19000, 8010, 13930, 6840, 15330, 6091, 9500, 8750, 7650, 8595, 9800, 7800, 22500, 5800, 16000, 10491, 7591, 8151, 17000, 17000, 13900, 11700, 17900, 18000, 13750, 11920, 12046, 6990, 10190, 6761, 15411, 4960, 15650, 17500, 11490, 10890, 11991, 9691, 10691, 12690, 7291, 12791, 7891, 11491, 16390, 10571, 18800, 10000, 11000, 5800, 13800, 9500, 8500, 9300, 11900, 15300, 8700, 9457, 8591, 15470, 13670, 13241, 13020, 13020, 20800, 8900, 9677, 10417, 20440, 9561, 14780, 9070, 7550, 13277, 11550, 10120, 11000, 11000, 10891, 21000, 33000, 18500, 10000, 15700, 10500, 9200, 9900, 9998, 14998, 7998, 10498, 18998, 16998, 11498, 9498, 7798, 19110, 6491, 10197, 11200, 7730, 6531, 21500, 19990, 9291, 6470, 10630, 14380, 9031, 15340, 11711, 6221, 13280, 11200, 15441, 10630, 9991, 17520, 7690, 30000, 19050, 9421, 13991, 11611, 9991, 17131, 6997, 9460, 18090, 8510, 10121, 14491, 8830, 13297, 10077, 8580, 15330, 15450, 18491, 14540, 7500, 14110, 16690, 5391, 7351, 9161, 9241, 6591, 21590, 10570, 9287, 19360, 9410, 13291, 16950, 7960, 17991, 10000, 18500, 18795, 11295, 17991, 12000, 7795, 10000, 17500, 17500, 6100, 17520, 17520, 17020, 13130, 12980, 12630, 18000, 16295, 18500, 17295, 17500, 16500, 10700, 14000, 14795, 7795, 13100, 15295, 10200, 8300, 13500, 20000, 11400, 15000, 16000, 15295, 15295, 15295, 15295, 15295, 14000, 16295, 22000, 22000, 11000, 26500, 11490, 11990, 11490, 9490, 16990, 17990, 12490, 10990, 7995, 12995, 10990, 10790, 10790, 18995, 9995, 11998, 11998, 16790, 10990, 9990, 17990, 10490, 18990, 15790, 10998, 11395, 12295, 18395, 9795, 7595, 12795, 11795, 19500, 19000, 19500, 20000, 19500, 16000, 27853, 11490, 10490, 11490, 16490, 11990, 17990, 17990, 8990, 13990, 7890, 8950, 7440, 11090, 9139, 7590, 16980, 10900, 9940, 9990, 6980, 4985, 7490, 10291, 10995, 14795, 18495, 15895, 11495, 8799, 10950, 10360, 8740, 17980, 7495, 7999, 19999, 12790, 11990, 13990, 16490, 13790, 8490, 19999, 6790, 7260, 21060, 9991, 7490, 11250, 15440, 18499, 12500, 14500, 9850, 22000, 15999, 13500, 8750, 8999, 7999, 9499, 9250, 9850, 13499, 15999, 10250, 10299, 6999, 18000, 11500, 12999, 18999, 10350, 14999, 18499, 15999, 17999, 13499, 14299, 18499, 11285, 11785, 14285, 13985, 15985, 7295, 19695, 19698, 11798, 17998, 6998, 18998, 14298, 9498, 19498, 13298, 18998, 5498, 6998, 16271, 16997, 12800, 14157, 9160, 7986, 8139, 7695, 9000, 17998, 7798, 17499, 12999, 9899, 10999, 14999, 27999, 11799, 13999, 7895, 20000, 7995, 9400, 10400, 12995, 10500, 10295, 16695, 14000, 10295, 20000, 11992, 7885, 31000, 7999, 9499, 6999, 7499, 13999, 17999, 10499, 10499, 10499, 7240, 9499, 13299, 16499, 7499, 10999, 16499, 12999, 10399, 11499, 7295, 13785, 13985, 13785, 14685, 11185, 11999, 15999, 18999, 10999, 17999, 14999, 17999, 11699, 9999, 11499, 20999, 13490, 16790, 8500, 12250, 6291, 12300, 8220, 11000, 7490, 11999, 10499, 10499, 8299, 13999, 8999, 29999, 29999, 8499, 7720, 7940, 9920, 17160, 17750, 16680, 20391, 8470, 9430, 18647, 12391, 8999, 29390, 11400, 10210, 17400, 17580, 18091, 8330, 7991, 19110, 11060, 8991, 5820, 7491, 7830, 14800, 15390, 18250, 5991, 19400, 14500, 14000, 16295, 7295, 9000, 19000, 16000, 10000, 11795, 16995, 10495, 9995, 9495, 7370, 9617, 9530, 13270, 7990, 6920, 12680, 5880, 6995, 16296, 10993, 13995, 10795, 14495, 7990, 13995, 7372, 9991, 15791, 9990, 15990, 14990, 17990, 18990, 10490, 15990, 26490, 11390, 12990, 19990, 16990, 15210, 11491, 8570, 19075, 8392, 19500, 6390, 10390, 7990, 10250, 8600, 8250, 11700, 10750, 8800, 8500, 11500, 11250, 10750, 9380, 9490, 11250, 9840, 9990, 11080, 8400, 9190, 10490, 10590, 12000, 15150, 9000, 15750, 10500, 17500, 12750, 4800, 22991, 15750, 13500, 10795, 20500, 16295, 16000, 15000, 11895, 13000, 8000, 9190, 11680, 15890, 6680, 14548, 5752, 4942, 10395, 26495, 11595, 5995, 9995, 10620, 14180, 15785, 17990, 9670, 15785, 11995, 15000, 11499, 18500, 10999, 11000, 6724, 7500, 6000, 11990, 16325, 14990, 12500, 10150, 15450, 10485, 17250, 22450, 21865, 5500, 18500, 7995, 15495, 15800, 14500, 7900, 10500, 10300, 11800, 11500, 9770, 9950, 5391, 10290, 11950, 9970, 15975, 9500, 21200, 10250, 12000, 20000, 18250, 14440, 10190, 23038, 8810, 12448, 19490, 14450, 9985, 14450, 12250, 5450, 22450, 10950, 17500, 12000, 7395, 11495, 21295, 23690, 18985, 9950, 19750, 11790, 10700, 8600, 8000, 9700, 6900, 12500, 14000, 9750, 10500, 9000, 15375, 9280, 11450, 20450, 19000, 16875, 22450, 8450, 18000, 5995, 10990, 11000, 13000, 11000, 11000, 10000, 9295, 14995, 6950, 8460, 9300, 11810, 6730, 7691, 18511, 11721, 7591, 11191, 7391, 8291, 7350, 6051, 8040, 15340, 11220, 12495, 6995, 11000, 18000, 17495, 12000, 15495, 11000, 9495, 11490, 10490, 10000, 12770, 6495, 11000, 13440, 9000, 18000, 15000, 15490, 11000, 8999, 10000, 8000, 8495, 18000, 9000, 15000, 7800, 7500, 12490, 7991, 17520, 6600, 8240, 13960, 8520, 17650, 7350, 15710, 8000, 22000, 20000, 10095, 10850, 11200, 11000, 12500, 10000, 10700, 16000, 18950, 10000, 7375, 8870, 10950, 21975, 20450, 20450, 12950, 6760, 11500, 7775, 7499, 13999, 10299, 10499, 11250, 11999, 11499, 9499, 11995, 11999, 11991, 6720, 13491, 31991, 8467, 8491, 10380, 17300, 7150, 15040, 8495, 10150, 12599, 11999, 14699, 9290, 11499, 7499, 10695, 10499, 10840, 10030, 9540, 11997, 11997, 11799, 10993, 16789, 21664, 14999, 9995, 7389, 4495, 10499, 9995, 17995, 9995, 8795, 12995, 10982, 8782, 13482, 9625, 8982, 9022, 10145, 14971, 9282, 9400, 12999, 6950, 11450, 24250, 10150, 16950, 9991, 9837, 7460, 10490, 9990, 11607, 10080, 9630, 7300, 7630, 9900, 6700, 5750, 9557, 11600, 9890, 10500, 10600, 11200, 10600, 9700, 10190, 9590, 9300, 9098, 5890, 7582, 7739, 11982, 11982, 8882, 6982, 13982, 10482, 9699, 11299, 7899, 9499, 10390, 18999, 16499, 29999, 9499, 12499, 6450, 9380, 13990, 13990, 6580, 8000, 7380, 8350, 9000, 10600, 10895, 10995, 10890, 12100, 15600, 15700, 13000, 14100, 18100, 13600, 13800, 16900, 11600, 10995, 9999, 12995, 16299, 15999, 8150, 10999, 14491, 20991, 13181, 15590, 15340, 10000, 9537, 11791, 9780, 17991, 6800, 15900, 12200, 14900, 12500, 10600, 9800, 13500, 12600, 16900, 9300, 16250, 19400, 10100, 12800, 15500, 12900, 10900, 17500, 15750, 13900, 12900, 9494, 6191, 9400, 12200, 11300, 17900, 9400, 13300, 13600, 6191, 7441, 6220, 9210, 6970, 17370, 14721, 8511, 9298, 8498, 10298, 8498, 9998, 10498, 10298, 12298, 13298, 8498, 10498, 8498, 8498, 8498, 10298, 12498, 6298, 6298, 10998, 8998, 9995, 16995, 4995, 14495, 7995, 11395, 9995, 12495, 8200, 4500, 13200, 3500, 21995, 10990, 4750, 10495, 12495, 7995, 9495, 17995, 8490, 11998, 11498, 8998, 16998, 10998, 11998, 14998, 11998, 13500, 17200, 10700, 12600, 11900, 24000, 8600, 7900, 13500, 13500, 12450, 9999, 9299, 14999, 8999, 9199, 8999, 7799, 5399, 11999, 12999, 14241, 11499, 7995, 7700, 10600, 7100, 8899, 6799, 12449, 15500, 16998, 14998, 12500, 9500, 7495, 9998, 9998, 16698, 12298, 15999, 13199, 16499, 10699, 10999, 11999, 11499, 23499, 15599, 15999, 9999, 18999, 8999, 16491, 10999, 10999, 13999, 10499, 9999, 10000, 9700, 8600, 7600, 7299, 10600, 10600, 13930, 9990, 5777, 5495, 8999, 12499, 17999, 18499, 10698, 10998, 14298, 18498, 9498, 18998, 10198, 10298, 14998, 9498, 11500, 12100, 10600, 14870, 11500, 10190, 8800, 11430, 16107, 9250, 9030, 9100, 12560, 8140, 7140, 8400, 9898, 6298, 11998, 16998, 11298, 16798, 9898, 12698, 14798, 12000, 7500, 10000, 10000, 9200, 12000, 17000, 12000, 8000, 8750, 9000, 13990, 9400, 10390, 11200, 10600, 11200, 10780, 11600, 11560, 31600, 18600, 15800, 16500, 17400, 20000, 13000, 8100, 10000, 23500, 18000, 20000, 20000, 20000, 13998, 8298, 13698, 10998, 12998, 13498, 16698, 10498, 10498, 9040, 10100, 16900, 11800, 17000, 7500, 7798, 15200, 16000, 12500, 9000, 20000, 13295, 19995, 11495, 10495, 7995, 5995, 10995, 8995, 8495, 11000, 7000, 17500, 15990, 6440, 6330, 13490, 13490, 8200, 13700, 17900, 15700, 17900, 14700, 10299, 12999, 12232, 13995, 11995, 10495, 11495, 8495, 10495, 8295, 15695, 33995, 7495, 10295, 16995, 13495, 19495, 10995, 13995, 6995, 17700, 8792, 17495, 11202, 8291, 7242, 7995, 14295, 9495, 27995, 20995, 12000, 20000, 13600, 13200, 15100, 15800, 11750, 10700, 20300, 16200, 11300, 14900, 13200, 9900, 16900, 10900, 10300, 8300, 10900, 18599, 17250, 16500, 18000, 17500, 11999, 12499, 10999, 15995, 14000, 12500, 20000, 16000, 16000, 16000, 10499, 9399, 10999, 10999, 11999, 15671, 12999, 9299, 15750, 7495, 15000, 18500, 9900, 12600, 18000, 27400, 16999, 20999, 9999, 11599, 11299, 9499, 9999, 14499, 10799, 11399, 8599, 8499, 19999, 10350, 7999, 8999, 9499, 7499, 10999, 10999, 13999, 9999, 15999, 15599, 15999, 10999, 8399, 8999, 14999, 6791, 7691, 8350, 15550, 8995, 15895, 15495, 9495, 6750, 13890, 12890, 14290, 10083, 10701, 11001, 19000, 20000, 6401, 15999, 8999, 7040, 10991, 7991, 6490, 13991, 6450, 5991, 7991, 11608, 11800, 11450, 14380, 11250, 8791, 8781, 15997, 8690, 13090, 7830, 8450, 6271, 4941, 10671, 9675, 9607, 9997, 10990, 10091, 10400, 7291, 9495, 17695, 10995, 17271, 6191, 9780, 7770, 9650, 6491, 11491, 20590, 16230, 20140, 18030, 12790, 10820, 13540, 9560, 7830, 12420, 5995, 17495, 6695, 13995, 8695, 9995, 10995, 8995, 14995, 11495, 10495, 13995, 12495, 12495, 9995, 13695, 10695, 11495, 10995, 11695, 12495, 13695, 11495, 10795, 6995, 8995, 11995, 8495, 6795, 7995, 8995, 9495, 8795, 11995, 9495, 11295, 9495, 40495, 9495, 9995, 19220, 23570, 10440, 11000, 14140, 10950, 7950, 8920, 12360, 17990, 17798, 7998, 15498, 14498, 12990, 32990, 11490, 18995, 10495, 11795, 6690, 7890, 8140, 11990, 11490, 10390, 9250, 11250, 11290, 8490, 15750, 17000, 13500, 15500, 10000, 17000, 13000, 11990, 9648, 7999, 20998, 10998, 9998, 7298, 13498, 8498, 11998, 11998, 10298, 10040, 8510, 10590, 7490, 6190, 10590, 15387, 18990, 15950, 6080, 13998, 9500, 17000, 30000, 14500, 10500, 11400, 18000, 11500, 8000, 8500, 16000, 8800, 11000, 13200, 11000, 20000, 20000, 11000, 14000, 11500, 15990, 12245, 13442, 12949, 9991, 8998, 7698, 11298, 13998, 10698, 17798, 8498, 10000, 9000, 8500, 11200, 8500, 11746, 9500, 12700, 16000, 8462, 10062, 7995, 8800, 10695, 16000, 12250, 11600, 13495, 15695, 10495, 9695, 7298, 12998, 17298, 10498, 9795, 9995, 16995, 10495, 12995, 19995, 23995, 19995, 6991, 8492, 11291, 12991, 9291, 6490, 14995, 11995, 8695, 14995, 10498, 17298, 6298, 16498, 19998, 5495, 14000, 8000, 8895, 14495, 15850, 27845, 12000, 18200, 7500, 18500, 13200, 11000, 12500, 11500, 10799, 7999, 8699, 8299, 4499, 7399, 11299, 14299, 12999, 10999, 13999, 9499, 9999, 16499, 5999, 12599, 7999, 12299, 11999, 11490, 9760, 11600, 6490, 9890, 10290, 13850, 7410, 6990, 8990, 10999, 6799, 13699, 10999, 10999, 7999, 9499, 6299, 19999, 6699, 12999, 10995, 11995, 17795, 12695, 10999, 9499, 14999, 14499, 19495, 18495, 18999, 16999, 10499, 7299, 10999, 9499, 9999, 8599, 16995, 16295, 22995, 14495, 24995, 11995, 17495, 8995, 8795, 11995, 16495, 9795, 12595, 10495, 8895, 8995, 8999, 10997, 10799, 8499, 9999, 9999, 10695, 10495, 12295, 16295, 8995, 11395, 8995, 8995, 12495, 15995, 10495, 17995, 14995, 13495, 13499, 4200, 9500, 21999, 9999, 11999, 12999, 12999, 10995, 17495, 9995, 16495, 9495, 16995, 15995, 8495, 8995, 9995, 8995, 9495, 19995, 28495, 8995, 18295, 18995, 18495, 13495, 12895, 17495, 7295, 8995, 14995, 7991, 6491, 18995, 7761, 8242, 9291, 11124, 12489, 8000, 8000, 7489, 11529, 11529, 11995, 8695, 13495, 8995, 8995, 13995, 9995, 11995, 10395, 13995, 15480, 15810, 10250, 16360, 17170, 10990, 12491, 16998, 13140, 13140, 13050, 19970, 8260, 11890, 5991, 7542, 17991, 7641, 5850, 16230, 10499, 5489, 10491, 9502, 8362, 5611, 9000, 11500, 11100, 8190, 9998, 9598, 14498, 9698, 9490, 10290, 9790, 7295, 8498, 9498, 17410, 16298, 19298, 6298, 6698, 12698, 17998, 16798, 4998, 9998, 18030, 12200, 9241, 9780, 10390, 8060, 8600, 10390, 10998, 10498, 9750, 17350, 13241, 32490, 8991, 11491, 9991, 22470, 16590, 16798, 16998, 17998, 10498, 16498, 14498, 8995, 10995, 8995, 14595, 18995, 10995, 10698, 19298, 12298, 14998, 8470, 12920, 17320, 7991, 19180, 13020, 13030, 15650, 20100, 13020, 18060, 14690, 15380, 10298, 12798, 8571, 11051, 9171, 8550, 9991, 9270, 5970, 8998, 16998, 12798, 8998, 14298, 10298, 9498, 14330, 7757, 11498, 11200, 10600, 10160, 11270, 7350, 7330, 6800, 10600, 11500, 10100, 9291, 12995, 7630, 5640, 7300, 6140, 7361, 6936, 6920, 6365, 5281, 14991, 12691, 7561, 13321, 8591, 17991, 8991, 17295, 10691, 7841, 6598, 18990, 10484, 12792, 14296, 20999, 14999, 9897, 11399, 9499, 11999, 16999, 10499, 5788, 17825, 7990, 15591, 8491, 9793, 17782, 10292, 10390, 9795, 13650, 11200, 7750, 11250, 12600, 10000, 13900, 10400, 17991, 9691, 17991, 12661, 14291, 7341, 10991, 15000, 9500, 8500, 15500, 12500, 17000, 14000, 11500, 17500, 12500, 19999, 15495, 12899, 14999, 12977, 12999, 19999, 9999, 11677, 16499, 18500, 16000, 15500, 24000, 11000, 22500, 18000, 8500, 20000, 7500, 26500, 10500, 11500, 18500, 16000, 12500, 10200, 26000, 20000, 15150, 12250, 13500, 10999, 16999, 12499, 10299, 10999, 23499, 18500, 10650, 32000, 10999, 19499, 11999, 16295, 19499, 20999, 10797, 12999, 17998, 15998, 18998, 19498, 13998, 14498, 9698, 8498, 11498, 18998, 7900, 10220, 13490, 14195, 7700, 22000, 17500, 10750, 9500, 11495, 10450, 6950, 9250, 7200, 10495, 22499, 15499, 17499, 21999, 21999, 16497, 16499, 16999, 10500, 7560, 14820, 14050, 10880, 8500, 6700, 9900, 10600, 10100, 6800, 8323, 9540, 10510, 8100, 10600, 14990, 13698, 8998, 9998, 12998, 13498, 8498, 9998, 11698, 11698, 10698, 17350, 17350, 16880, 13500, 10277, 9330, 14891, 18491, 14630, 8698, 11930, 11930, 6800, 18020, 11140, 11140, 11750, 24850, 22027, 18597, 15630, 14430, 15420, 16040, 14550, 14380, 14540, 14540, 21197, 17000, 26000, 29000, 17750, 12000, 12750, 32000, 16500, 16000, 10498, 10400, 15995, 7700, 6800, 7960, 13490, 8900, 6600, 9760, 15440, 14490, 13070, 15460, 15440, 15470, 15510, 15420, 15080, 14594, 8498, 12498, 9298, 15998, 11698, 10498, 9998, 20998, 10298, 11498, 12491, 7481, 10591, 12691, 12697, 10291, 11591, 13791, 13491, 14481, 14000, 11000, 10000, 14500, 12000, 11000, 12500, 12500, 19991, 13491, 5700, 6787, 12347, 11000, 6791, 19991, 6991, 11387, 19000, 10500, 9495, 8400, 8495, 5988, 14747, 10120, 6190, 8430, 10137, 5991, 10500, 17500, 16000, 15000, 11000, 19500, 14000, 10500, 12250, 15500, 10550, 7770, 7150, 10167, 17520, 9990, 9130, 11640, 15991, 20891, 14791, 15291, 13991, 16110, 20170, 13970, 7600, 19291, 17410, 11250, 8540, 9491, 13230, 16690, 7995, 11750, 6995, 8295, 10280, 11450, 8491, 8891, 9791, 17291, 17590, 20847, 16998, 14498, 8998, 10998, 14998, 10298, 11998, 16498, 16498, 10498, 12997, 9077, 12890, 9380, 9617, 7547, 15580, 19897, 12444, 9697, 8491, 18991, 6891, 8491, 10291, 9691, 14250, 14590, 14310, 14300, 11140, 9487, 16477, 7591, 4670, 16190, 5260, 8991, 11491, 16291, 11000, 9455, 10908, 12591, 28995, 12500, 19000, 11000, 9000, 8800, 10000, 16498, 11498, 19498, 19998, 12298, 14498, 7998, 11995, 16698, 12300, 7140, 6150, 4640, 7600, 6990, 19431, 9297, 12387, 20847, 20447, 20847, 20847, 13000, 16500, 12500, 7500, 9998, 18998, 6998, 15698, 13998, 9498, 17500, 10700, 10700, 10400, 19800, 11000, 11000, 17500, 9800, 14800, 17400, 10995, 10995, 17995, 13155, 5999, 15500, 10000, 10000, 8400, 15000, 11500, 14900, 14600, 17700, 21000, 19500, 16300, 19000, 12200, 11200, 9900, 15900, 9400, 11900, 9400, 11800, 12400, 14900, 9400, 9400, 9400, 9400, 10200, 17900, 18900, 18600, 17900, 16900, 15500, 10500, 9000, 11500, 11000, 10500, 9800, 10000, 14000, 9700, 15300, 18900, 28900, 10700, 12500, 9500, 15900, 10200, 12500, 11300, 14900, 19900, 11900, 13300, 20400, 11800, 7300, 13800, 16900, 16500, 17900, 9900, 9900, 19400, 17300, 9900, 19400, 9800, 8700, 12600, 15900, 16200, 18900, 18500, 6698, 11990, 6990, 10200, 14500, 7200, 15400, 16900, 10500, 9900, 12800, 4591, 12491, 11291, 10991, 10491, 9495, 9495, 14795, 16495, 13995, 10795, 13995, 21995, 19995, 19995, 17900, 11300, 11300, 12900, 26900, 9800, 10800, 8400, 15900, 7438, 10228, 9000, 6491, 12900, 10600, 14600, 9800, 7900, 6200, 16600, 10600, 17900, 8500, 11500, 7600, 7500, 16500, 18500, 20000, 17300, 17000, 25500, 11000, 12291, 11111, 10300, 9270, 9250, 8470, 13495, 14995, 8995, 18495, 11995, 12995, 6795, 13995, 13995, 8495, 12998, 7998, 10998, 18998, 9860, 6350, 8330, 8498, 7998, 9999, 7999, 8495, 7872, 8890, 9250, 9920, 12780, 11220, 9995, 15995, 10498, 19498, 13998, 15298, 11498, 10698, 10998, 9998, 17000, 14450, 7800, 16999, 11000, 14750, 13100, 14200, 13000, 14000, 11698, 9999, 9799, 11000, 11999, 12500, 10500, 17000, 9000, 16200, 9500, 6670, 6990, 7950, 16050, 6950, 6000, 5650, 8600, 6500, 11330, 6495, 12795, 10695, 10495, 17495, 14295, 10295, 10695, 10495, 11999, 12499, 12699, 15499, 19999, 7499, 14749, 14990, 25990, 8290, 11495, 29500, 23649, 29499, 12699, 16999, 20499, 8299, 9499, 8699, 12499, 13499, 14799, 10999, 17499, 14499, 18999, 18999, 13650, 10999, 6999, 7499, 14499, 15499, 13499, 10999, 7499, 7699, 23499, 18999, 13499, 7869, 23499, 26723, 11350, 7699, 14999, 15799, 10499, 15717, 10285, 16938, 11110, 9967, 9946, 17503, 18947, 11704, 12999, 17999, 9999, 7320, 13499, 10499, 9499, 14999, 11499, 15999, 11499, 17999, 10892, 13999, 16499, 7999, 18499, 19995, 17995, 8999, 7999, 16499, 18999, 10773, 18999, 8966, 8954, 12999, 9615, 9499, 8407, 9460, 8240, 10390, 17500, 6260, 17050, 9567, 12399, 7999, 10999, 7299, 12499, 9599, 14999, 9999, 9999, 31991, 8499, 29495, 13170, 15549, 8999, 14999, 8919, 9599, 8999, 12539, 11139, 10319, 12139, 10695, 11169, 12429, 9899, 10499, 9432, 10499, 9429, 13599, 6999, 7147, 9520, 8100, 9700, 19150, 7210, 11690, 13650, 11360, 16399, 10445, 9545, 10799, 11091, 10899, 8999, 10739, 9190, 8591, 9910, 10590, 13549, 19494, 11399, 10719, 9539, 16569, 9659, 16629, 6819, 10500, 13000, 8100, 14739, 14299, 12532, 7200, 15877, 5750, 16201, 10250, 6990, 12499, 8499, 9523, 9590, 15995, 15995, 9590, 9523, 8500, 9300, 8700, 10500, 9000, 19600, 8700, 12700, 11500, 9700, 15500, 14000, 11000, 7200, 11000, 12199, 12679, 14719, 8629, 11299, 16499, 11899, 6120, 9830, 7770, 7600, 7000, 11370, 7930, 15000, 9995, 12995, 10995, 8495, 13710, 8500, 11699, 11989, 17994, 10999, 13084, 25799, 14999, 8864, 13299, 13499, 16995, 11995, 10295, 16795, 11795, 14995, 6995, 14995, 9495, 9200, 10620, 9480, 23380, 10420, 10550, 18750, 19400, 11360, 11000, 11160, 10595, 13495, 15995, 11795, 9295, 21495, 14450, 18787, 13000, 12250, 14260, 14480, 14310, 15880, 11660, 11250, 5810, 8680, 21790, 16610, 19890, 19460, 19450, 17500, 19560, 11840, 18680, 16500, 12400, 15800, 17620, 7700, 8800, 7510, 12390, 11450, 14310, 11990, 8810, 10200, 11250, 12590, 10230, 14995, 14995, 13995, 14995, 15995, 14995, 25950, 15995, 8695, 15995, 20700, 14020, 15950, 15320, 16990, 9191, 16767, 17690, 7520, 18800, 17995, 7997, 7771, 7997, 8397, 10494, 10500, 7697, 8997, 18992, 10020, 10497, 9230, 8691, 16065, 10270, 7080, 8725, 6592, 6982, 8800, 10490, 6990, 16980, 14920, 10370, 10240, 8130, 10460, 11890, 9997, 7669, 7767, 7777, 9881, 10333, 7969, 11494, 9839, 9292, 8990, 15300, 14990, 10390, 6190, 8995, 17995, 14995, 9950, 8495, 15575, 10480, 14545, 13500, 14990, 15300, 6830, 13320, 10510, 7020, 16991, 10790, 17500, 14690, 6990, 11790, 14290, 8500, 11790, 15290, 14290, 33591, 11200, 9790, 15000, 12990, 15990, 10790, 14990, 5790, 10690, 6690, 7990, 25990, 8990, 9700, 18765, 18500, 8200, 10990, 11490, 12290, 6790, 12990, 18500, 9790, 7790, 9790, 6490, 11800, 9690, 16500, 11500, 18500, 10901, 8490, 17990, 20990, 15290, 9990, 17990, 11990, 9500, 15790, 11990, 9990, 13190, 11690, 7790, 9700, 12000, 11290, 13790, 11690, 18591, 8500, 12990, 15500, 11690, 17500, 30000, 28000, 17200, 15500, 11500, 17500, 12000, 19500, 10500, 12000, 10000, 11500, 8400, 10800, 10500, 10000, 13700, 7000, 10500, 11500, 17000, 10500, 17900, 15500, 7200, 7500, 10499, 11695, 6500, 10500, 6700, 24000, 16500, 18200, 10200, 10800, 10200, 15500, 8990, 18500, 9500, 15000, 18200, 10000, 19000, 12000, 11500, 9200, 6800, 11175, 6990, 19272, 11795, 12750, 20490, 9795, 10795, 10795, 10295, 10699, 9377, 13100, 10800, 12700, 11600, 16300, 10975, 18000, 10600, 12000, 16000, 18000, 15299, 16000, 16499, 19000, 15299, 16000, 16000, 11995, 17000, 25000, 24499, 14000, 15000, 19000, 11499, 16000, 23499, 19000, 24999, 19499, 17000, 17000, 13495, 18700, 8750, 18400, 10308, 16470, 18299, 10499, 11000, 11000, 11299, 8000, 19000, 11000, 12499, 12499, 14000, 14000, 14000, 20000, 15000, 8000, 7799, 8000, 23000, 9799, 16999, 14000, 17000, 15000, 17000, 10000, 7499, 10699, 9200, 15000, 10700, 16000, 10000, 14000, 8070, 9710, 4995, 5420, 12030, 11414, 5800, 7795, 15995, 14995, 12600, 12750, 12600, 10500, 19500, 19500, 7495, 9950, 8250, 14995, 13495, 23995, 16995, 7245, 18995, 9695, 13495, 8995, 8795, 11000, 8799, 15699, 11000, 10000, 8995, 9495, 13995, 7495, 16495, 13995, 23995, 13495, 5495, 11500, 16200, 16073, 15800, 14995, 11995, 15995, 25950, 16995, 11018, 11900, 12000, 9000, 10300, 10600, 9980, 10380, 9980, 9533, 8290, 10699, 6999, 9499, 10290, 7495, 17995, 14995, 16495, 18995, 14995, 12995, 14995, 11900, 18100, 9500, 14600, 10500, 10700, 12700, 16200, 13100, 6700, 16200, 10100, 6795, 10699, 7995, 18995, 6695, 7402, 6999, 11995, 6991, 7695, 7980, 9995, 25995, 9277, 18481, 7890, 13820, 16277, 16100, 11600, 9600, 12800, 14900, 14500, 9700, 11500, 10500, 9300, 11400, 10900, 16900, 8900, 15300, 9200, 14600, 17300, 9700, 14900, 17100, 10700, 16500, 7000, 10500, 11000, 11300, 10000, 22000, 17500, 22500, 11200, 15500, 12500, 7000, 11750, 6000, 9500, 12500, 10500, 10250, 11500, 21000, 17800, 9800, 20500, 20500, 20500, 20800, 9600, 16200, 12500, 11200, 11800, 10500, 9200, 9999, 6977, 11978, 7250, 7000, 22000, 22000, 16200, 9700, 22000, 22000, 14250, 7300, 11000, 10000, 10000, 11250, 14250, 14500, 18500, 17500, 14600, 9500, 20400, 16500, 17500, 19200, 10600, 9500, 9400, 11186, 19500, 19500, 9750, 9000, 9500, 11250, 14750, 14500, 11600, 17700, 13000, 17000, 21000, 9600, 15750, 19750, 7290, 17500, 17000, 9750, 8800, 9000, 11000, 10000, 10500, 8500, 10500, 7200, 6800, 9500, 16000, 6400, 18499, 29499, 7299, 5999, 11299, 8999, 7499, 16299, 18999, 12250, 20000, 20000, 20000, 8750, 19500, 19500, 9250, 9000, 20000, 21000, 16995, 15295, 9995, 23495, 13695, 11295, 14695, 14295, 10295, 9695, 10995, 9895, 10995, 10495, 8995, 9000, 8500, 11250, 12500, 21000, 12895, 18495, 7695, 14995, 15795, 10495, 14995, 15795, 14295, 19499, 10799, 14499, 15499, 15699, 13999, 15250, 15499, 12499, 10995, 15695, 12995, 12495, 14795, 11295, 9995, 10495, 23995, 17995, 10295, 26995, 11495, 7995, 11495, 14495, 8995, 10795, 11295, 14495, 15995, 10295, 21600, 19500, 5991, 8292, 6990, 6295, 7995, 15625, 17500, 16500, 10000, 7000, 13900, 9600, 20000, 11500, 12000, 31995, 10295, 25995, 7795, 14495, 13495, 14995, 9495, 12495, 16495, 12995, 9495, 7995, 15800, 15500, 15750, 15800, 10000, 6498, 5998, 9000, 12000, 20000, 6799, 8995, 10565, 10300, 8900, 12250, 12800, 7200, 6500, 10995, 23995, 11495, 16995, 8595, 8900, 11750, 14900, 18250, 14500, 17600, 9000, 9995, 10795, 11995, 11495, 14500, 10995, 8295, 11495, 11495, 16795, 13900, 26000, 10900, 11995, 8495, 7995, 13295, 17995, 10295, 11750, 7984, 9994, 8997, 6495, 22000, 13900, 10500, 12500, 19000, 15500, 12200, 15000, 8000, 9500, 32000, 12700, 7100, 11000, 9300, 8440, 16107, 11200, 9640, 10390, 8295, 10995, 11990, 11995, 11995, 10900, 16800, 14500, 16700, 11500, 22000, 17500, 10700, 18700, 11900, 11000, 8262, 10600, 15240, 13610, 12260, 9550, 10600, 6500, 7038, 11000, 9200, 20000, 12000, 15000, 15250, 6500, 20000, 20000, 7250, 6926, 10657, 14980, 8109, 9990, 10600, 7100, 10990, 6722, 19500, 10680, 11500, 13595, 10600, 9700, 9600, 4340, 9660, 8800, 10160, 6590, 6200, 8620, 10400, 8700, 11110, 9390, 8130, 6970, 16497, 6950, 11440, 8125, 9700, 9700, 10360, 9990, 10100, 6191, 8290, 11495, 20995, 7595, 9695, 20995, 6950, 11000, 9750, 7300, 6630, 19500, 22000, 12000, 12750, 11500, 17500, 10000, 19250, 10500, 13500, 7550, 11500, 10600, 10600, 11200, 12550, 10600, 11500, 11500, 8995, 8730, 7490, 13300, 20495, 10495, 9995, 8995, 15995, 13995, 11100, 22495, 19995, 7500, 15999, 5995, 9280, 13500, 14995, 14995, 10600, 10695, 7495, 10995, 8995, 11295, 18995, 21495, 19495, 16495, 18995, 8995, 8995, 9690, 8990, 8990, 5975, 7150, 11500, 7930, 19395, 18695, 9995, 5195, 14595, 9495, 14495, 5495, 7750, 12995, 19500, 19500, 12900, 19900, 14500, 20500, 17900, 20700, 12500, 19500, 10995, 10895, 14485, 10795, 17995, 6895, 10295, 11495, 13265, 8695, 9750, 19595, 6995, 7200, 9790, 10790, 8568, 11500, 11420, 9627, 10270, 7400, 8250, 11995, 22795, 12295, 7495, 11795, 8295, 13995, 8895, 10795, 9500, 17000, 17950, 14500, 16900, 12000, 13500, 19500, 16107, 9263, 15140, 8700, 9060, 18990, 8225, 6600, 7995, 14995, 21000, 17900, 10000, 10650, 9500, 15995, 16495, 15500, 14500, 7500, 17990, 12500, 7200, 11817, 13589, 21500, 11728, 10328, 38000, 16000, 17200, 23551, 9500, 10500, 24500, 14700, 7500, 17000, 8600, 15750, 18500, 12500, 18800, 10766, 12550, 15000, 21200, 10900, 17900, 12500, 13500, 11900, 9000, 12900, 19900, 11250, 12450, 7995, 7511, 9495, 16958, 16230, 9916, 14300, 19900, 18600, 8000, 15991, 10291, 8000, 9491, 13500, 9900, 18990, 12900, 8900, 11000, 9900, 13900, 9500, 20900, 17448, 8600, 10300, 15500, 18992, 9775, 10848, 16250, 10900, 13700, 10800, 13500, 12200, 13500, 13000, 23700, 20500, 17900, 17300, 18800, 18000, 14700, 11250, 15200, 12900, 9000, 17315, 19000, 10500, 17000, 23500, 12800, 10700, 11500, 10000, 12000, 12000, 12000, 15500, 14900, 18400, 6127, 16000, 17515, 10500, 12317, 6774, 15225, 14000, 20500, 20500, 14500, 14500, 12000, 10500, 15999, 15000, 15000, 11900, 18200, 20900, 10200, 17000, 29000, 19900, 10650, 6991, 8350, 12400, 14795, 8495, 10500, 18100, 16700, 10200, 9000, 10500, 10800, 11200, 9500, 12500, 14000, 11700, 16500, 14195, 19995, 10295, 22995, 18995, 21995, 11995, 18900, 21500, 6500, 14000, 16500, 10200, 17400, 11000, 11000, 8000, 9500, 19900, 11800, 13000, 14800, 19500, 19500, 11500, 11500, 10500, 11500, 8500, 15000, 5990, 8600, 6970, 9700, 6650, 8200, 18107, 16000, 9500, 21000, 21500, 21000, 14000, 9500, 11800, 12000, 10800, 11200, 10700, 9700, 7100, 8619, 7200, 13990, 9890, 11200, 10990, 6324, 7360, 9995, 13000, 6700, 15000, 15000, 9670, 16557, 7900, 7350, 10860, 9500, 20000, 25000, 8000, 11400, 15000, 16000, 13500, 14200, 10400, 11000, 7000, 6995, 26922, 10250, 13300, 10990, 9490, 9990, 10990, 8880, 12600, 18777, 6100, 10150, 8000, 17000, 41000, 14990, 6361, 7500, 10500, 10500, 19500, 9500, 19500, 14700, 5850, 14800, 7000, 5700, 11800, 10000, 9850, 20500, 9000, 9500, 11000, 11500, 11250, 13500, 9000, 11000, 10750, 14000, 16000, 15750, 12000, 20500, 19750, 9850, 7600, 15500, 13250, 10150, 9650, 15000, 15200, 10250, 11850, 11150, 13500, 16250, 11000, 14600, 11295, 9295, 9295, 11000, 7500, 12500, 17000, 8500, 10000, 20000, 18200, 6770, 12790, 12350, 9180, 16540, 9490, 9990, 12890, 13890, 9750, 9500, 9600, 11500, 9250, 9700, 10000, 17600, 9000, 12129, 18400, 13900, 25000, 23400, 16500, 20700, 10000, 9000, 11000, 13490, 14890, 17490, 20490, 14490, 17390, 7190, 19490, 28490, 6000, 7250, 9189, 15789, 15789, 11989, 7689, 9489, 19989, 6989, 15265, 15265, 13695, 10700, 9900, 13450, 16200, 17000, 9300, 18990, 8495, 13995, 17995, 11995, 8495, 9495, 9995, 27995, 7495, 12495, 10995, 17995, 10495, 19795, 9995, 11995, 15995, 11295, 11495, 19650, 8300, 17500, 9350, 16500, 9950, 9950, 11700, 19500, 6500, 11995, 11495, 16495, 18795, 20000, 9800, 20000, 12000, 10500, 9500, 7000, 20000, 20000, 20000, 6272, 10450, 13000, 15000, 10995, 10995, 8295, 10295, 9495, 9995, 17995, 12995, 21495, 19995, 19995, 11995, 12020, 11495, 12795, 12395, 9495, 10495, 9350, 19695, 15975, 15475, 18490, 9300, 11400, 10000, 7900, 10700, 16400, 9500, 10340, 10975, 10475, 22975, 11975, 17475, 17475, 11475, 18975, 9475, 7700, 15590, 7695, 10995, 12695, 10750, 16050, 7290, 5490, 10100, 9860, 11580, 9440, 8600, 10460, 13195, 10195, 12995, 7295, 16495, 13695, 18995, 19995, 11995, 14795, 10795, 8295, 12625, 12995, 11795, 9495, 9995, 13995, 12995, 13195, 13995, 18495, 11195, 24195, 15595, 14695, 14995, 27975, 5960, 9990, 11975, 17475, 18975, 9475, 9627, 7810, 10000, 12475, 10975, 13475, 15975, 15475, 22975, 11450, 5990, 9077, 7568, 16295, 10995, 8695, 16795, 8995, 15495, 15695, 9795, 7995, 16995, 13225, 7000, 12000, 10900, 14725, 12735, 12375, 15800, 9700, 14500, 17995, 13495, 15295, 12795, 7995, 17995, 17295, 14995, 10895, 16895, 17495, 23995, 10995, 9495, 12995, 10795, 15695, 8495, 11995, 9495, 9995, 14495, 11995, 7695, 11695, 12795, 14495, 6295, 5295, 17495, 16995, 16495, 12495, 15995, 16995, 17495, 10195, 13195, 11295, 11995, 16295, 16995, 10595, 13595, 14795, 7995, 7995, 19795, 15795, 28995, 14995, 27995, 9995, 14100, 17500, 16500, 12800, 8000, 16900, 7500, 15400, 13200, 6150, 9495, 13795, 11995, 11795, 8495, 9995, 13295, 15995, 11495, 10595, 18695, 14195, 17495, 17495, 14495, 14925, 13500, 17125, 15625, 14785, 23000, 11850, 9150, 20000, 21600, 18995, 7595, 16995, 9295, 17295, 15495, 10795, 7995, 11695, 9995, 15495, 13495, 8995, 12195, 4795, 10995, 10495, 20495, 11495, 9995, 11495, 11795, 8495, 8295, 8995, 9495, 9495, 18995, 25995, 8595, 17995, 17995, 11995, 13495, 15295, 18695, 19495, 19995, 10995, 10495, 12995, 5995, 12495, 12995, 6499, 12699, 15499, 16299, 11899, 9699, 12199, 14799, 14499, 15999, 16295, 7995, 15495, 16395, 10695, 10995, 7895, 11795, 23995, 15495, 13799, 14999, 7299, 19795, 8495, 17399, 11399, 13699, 14299, 14999, 16399, 11999, 14999, 6999, 11795, 12295, 8995, 16495, 12295, 9795, 12495, 13695, 11695, 17995, 11499, 12599, 11999, 12499, 10999, 9499, 11699, 13870, 11640, 9445, 14199, 15699, 23199, 9199, 8991, 13491, 8295, 15995, 19333, 13991, 13289, 11689, 13491, 10495, 11180, 9690, 11695, 10795, 12795, 14000, 10000, 16699, 19499, 7299, 10499, 10699, 6995, 12995, 10795, 18491, 11991, 10495, 15491, 10999, 10491, 13889, 9390, 8902, 16490, 15500, 9491, 6491, 11795, 11995, 9795, 10689, 11885, 21333, 13250, 20991, 18491, 19999, 11500, 17595, 10150, 16491, 8495, 16222, 6995, 14250, 17389, 16666, 9991, 10333, 10795, 13289, 12995, 13491, 15995, 18689, 12791, 9495, 16666, 9991, 19491, 5666, 13150, 21222, 8888, 14888, 16491, 13333, 8495, 16333, 19333, 10995, 19000, 9995, 16479, 18689, 12791, 9495, 17991, 16000, 19444, 25991, 10795, 20795, 9795, 10491, 10795, 10795, 14295, 16789, 10679, 16222, 6995, 18491, 11500, 17595, 13491, 13991, 8888, 14295, 8295, 11491, 9270, 6820, 6370, 16170, 10130, 13441, 7141, 7660, 7641, 12490, 10750, 10240, 8150, 10160, 18900, 15780, 13090, 6350, 9350, 10940, 17590, 17997, 7490, 9200, 16507, 11350, 16991, 18140, 21300, 21970, 14491, 15260, 15440, 14730, 18910, 13491, 15420, 15860, 5840, 10100, 17991, 10060, 9360, 10750, 10700, 7680, 14320, 11740, 12430, 15320, 8760, 8020, 8560, 18520, 29350, 20370, 19910, 10920, 11000, 8400, 10550, 7295, 17480, 13140, 20380, 8310, 17990, 17491, 11560, 9300, 16230, 13120, 10550, 16660, 15491, 15600, 7170, 12383, 10699, 10699, 11999, 10699, 19695, 10300, 10300, 10495, 15700, 13500, 11470, 11931, 12790, 28615, 6495, 6990, 5790, 7730, 7691, 6340, 9600, 9300, 10300, 17300, 10300, 13800, 16800, 9900, 9700, 21200, 10960, 9160, 13140, 7000, 13790, 10690, 14550, 14080, 14930, 13160, 8250, 17995, 13595, 11221, 13711, 10995, 20295, 8895, 10790, 13550, 22490, 17990, 11290, 15490, 10000, 10990, 12975, 9290, 8690, 16200, 10110, 11830, 10000, 16198, 18160, 10560, 10670, 9710, 9427, 10060, 16817, 7690, 20000, 10450, 12590, 19236, 16990, 21750, 19490, 16990, 17990, 14390, 12890, 22990, 7650, 10490, 25990, 9280, 17950, 11490, 16630, 27580, 7991, 11290, 11211, 13510, 16110, 11990, 9891, 10290, 10770, 13210, 14560, 14130, 11160, 14440, 23760, 13647, 12740, 17990, 10887, 12192, 8995, 7599, 6499, 8199, 6399, 10499, 7479, 19979, 10979, 20479, 11479, 18479, 13979, 9979, 6812, 6125, 10199, 14730, 8795, 6350, 9750, 12295, 13995, 9995, 10999, 10491, 10689, 20991, 8920, 8830, 7010, 10495, 12995, 12995, 12495, 12295, 18995, 6495, 15370, 16190, 13890, 14390, 17030, 14410, 19610, 10991, 13210, 16479, 14979, 10979, 9479, 16479, 28975, 10979, 12840, 15479, 19979, 16970, 16479, 16779, 9679, 9479, 9979, 5979, 24979, 12479, 10940, 6480, 9820, 14441, 19170, 10510, 9320, 17387, 10490, 11690, 12970, 16979, 10179, 9179, 16479, 33979, 19979, 10979, 11000, 11000, 10590, 17368, 20479, 11479, 22979, 28939, 6679, 19303, 5989, 9989, 9795, 6645, 8795, 7499, 7499, 12799, 8499, 18479, 9679, 13979, 10050, 9930, 9150, 16030, 17160, 8211, 18300, 23179, 16479, 24979, 11679, 17979, 14179, 7489, 16995, 19995, 9995, 10495, 11495, 11295, 10491, 16000, 15700, 11180, 7500, 10500, 13300, 12500, 8000, 14000, 9279, 11679, 9675, 9279, 17479, 9750, 33979, 10679, 9679, 15479, 13970, 18277, 10490, 19470, 15520, 15540, 11500, 13000, 18000, 9800, 17800, 12000, 18000, 10000, 13000, 10800, 16500, 10980, 17495, 16500, 9500, 9000, 18800, 14995, 16495, 11495, 11995, 12979, 16479, 24479, 18979, 7495, 10495, 10595, 11995, 11495, 14795, 10795, 11595, 14995, 19995, 19000, 27000, 12000, 9500, 12000, 17500, 9300, 12000, 10500, 11900, 12000, 40000, 25000, 13100, 8000, 16595, 14000, 10500, 7600, 30000, 17979, 14679, 11179, 9479, 19279, 10479, 13990, 13000, 8990, 12990, 14795, 17495, 10495, 9495, 10495, 14495, 10495, 14750, 10795, 15990, 13250, 14750, 22000, 21750, 24990, 5999, 16999, 18999, 10499, 9699, 8490, 10990, 11990, 24999, 13995, 15995, 15690, 17990, 8495, 9500, 9950, 16950, 12000, 18995, 8495, 12500, 9990, 15990, 20000, 10990, 11000, 10990, 19320, 8200, 11990, 14495, 29890, 40495, 26490, 16495, 19490, 18995, 16195, 15995, 14699, 14499, 9999, 11699, 19999, 5699, 7499, 9999, 12199, 6999, 17750, 9775, 30699, 10999, 7999, 17499, 15750, 18620, 19420, 17775, 12620, 7750, 9995, 20299, 19999, 9799, 9999, 15499, 14999, 10699, 28495, 14995, 29495, 13995, 20490, 11995, 14990, 20490, 16495, 13995, 14995, 14995, 15995, 14995, 15995, 15495, 14995, 18490, 17495, 9499, 15999, 18499, 15999, 8999, 10499, 9999, 16999, 18749, 15999, 8494, 7980, 18499, 8499, 14699, 8499, 11999, 7999, 18499, 9499, 10999, 19999, 15999, 7999, 11899, 19499, 16199, 14199, 11499, 12299, 8799, 9599, 13999, 16199, 23999, 22999, 11699, 18299, 18699, 15299, 24799, 21499, 13399, 10999, 9699, 10999, 13599, 16999, 20499, 15999, 14999, 10499, 11499, 15499, 13999, 23299, 8500, 10799, 14199, 14899, 11999, 19499, 19499, 16499, 12699, 15699, 21999, 11299, 17999, 17699, 16999, 16995, 18199, 12699, 16199, 24999, 11499, 13999, 14899, 11399, 13499, 10999, 19999, 17299, 13399, 10199, 16999, 14799, 25399, 14999, 8999, 15999, 11499, 11699, 20999, 13999, 10799, 6999, 9499, 15999, 11699, 8500, 18299, 20299, 19299, 17000, 7199, 10500, 9500, 42999, 16299, 10799, 9000, 12099, 14399, 17199, 15599, 19299, 15499, 11000, 18699, 22000, 10799, 18999, 15299, 20499, 20999, 11799, 12799, 15000, 16199, 9399, 15399, 16199, 14799, 18399, 11499, 11499, 11599, 15800, 18500, 11000, 16700, 14500, 9800, 16299, 21200, 11200, 13800, 14960, 17499, 15799, 15799, 12799, 16299, 23999, 29499, 12299, 13099, 17000, 19499, 10399, 19199, 21499, 32599, 10699, 30999, 14999, 15399, 16399, 10199, 13299, 11499, 13499, 11499, 9799, 17199, 10899, 21499, 11500, 20999, 11199, 13099, 16899, 17000, 13499, 15199, 12199, 7999, 10500, 11500, 11199, 9799, 20499, 15000, 17799, 14499, 19000, 17000, 22899, 12499, 12499, 14300, 9699, 15499, 6499, 15000, 15000, 8499, 25999, 10499, 8699, 18999, 11699, 12799, 7199, 18898, 9486, 8430, 12000, 13994, 10456, 11784, 10696, 21199, 9950, 20000, 14499, 20499, 11899, 11000, 5999, 7499, 16999, 14999, 6999, 8499, 12499, 9999, 10499, 5499, 9990, 6500, 17990, 17990, 15000, 7991, 9991, 9995, 9995, 9995, 14792, 11979, 7498, 16294, 8974, 15498, 8263, 11287, 8474, 9445, 16794, 17474, 15762, 16982, 8992, 8942, 10499, 10000, 16299, 16500, 11399, 16800, 22000, 10800, 9200, 16200, 15496, 13985, 12429, 14890, 13880, 14850, 10890, 11590, 12840, 11950, 12800, 12890, 12000, 11990, 12000, 12430, 11950, 11790, 12780, 13890, 15900, 16500, 9481, 11257, 10997, 8484, 7278, 12877, 27925, 19990, 18500, 18680, 24680, 26780, 10680, 25890, 24500, 17500, 16000, 7999, 5999, 12499, 9999, 17999, 17999, 20999, 18999, 11499, 18890, 19990, 23780, 23890, 14990, 11550, 12980, 11890, 11500, 15890, 8990, 8995, 17900, 14000, 14400, 10500, 15890, 17280, 13950, 13500, 19399, 16899, 9799, 10499, 15899, 16399, 15599, 16599, 13199, 13499, 13500, 12500, 10990, 9295, 8400, 11000, 11500, 12000, 16890, 18980, 8899, 16899, 18799, 11599, 17299, 13799, 11499, 12599, 10000, 15699, 5495, 9995, 9995, 11500, 18995, 7500, 17880, 23880, 12000, 18690, 18599, 9899, 19399, 13499, 12000, 11199, 15299, 16599, 15399, 15299, 17399, 15199, 10699, 10599, 26299, 18000, 26499, 18499, 12999, 11880, 18850, 17799, 17999, 22499, 15299, 17199, 11000, 15799, 36799, 12940, 11880, 12350, 11880, 11500, 12680, 11890, 12780, 9980, 18499, 20799, 18499, 11299, 11199, 15299, 14500, 15899, 9899, 13899, 20599, 20199, 7399, 9399, 15799, 12399, 11499, 12699, 15799, 18499, 13500, 8899, 17299, 19500, 20000, 18999, 20499, 18799, 12000, 13000, 11799, 11299, 14000, 14199, 15500, 12499, 12899, 9799, 12199, 12299, 12299, 16699, 9000, 10399, 10399, 19499, 15000, 8799, 11599, 14899, 11399, 11899, 12299, 11299, 18000, 13899, 15599, 8000, 8500, 12599, 8499, 12399, 16399, 15499, 13299, 14499, 21499, 11099, 18299, 14899, 19899, 18699, 10899, 12499, 14499, 16899, 17499, 10599, 12000, 12299, 12299, 15899, 16499, 15899, 16899, 16299, 11499, 17899, 11299, 9799, 16199, 12499, 16599, 19799, 10799, 9699, 17799, 18000, 16699, 14699, 14899, 15399, 14899, 15000, 12899, 11199, 19199, 11999, 11899, 11599, 10799, 15499, 11599, 10899, 8500, 16499, 15000, 15499, 10899, 18299, 9699, 15399, 10199, 16699, 19499, 9999, 10199, 13299, 16399, 10500, 10299, 10699, 14499, 10399, 9699, 9500, 14499, 13500, 12500, 12500, 5750, 8000, 10995, 14995, 8495, 16499, 15999, 9499, 8699, 10499, 11899, 8999, 14499, 12399, 11899, 10500, 14199, 14799, 14499, 10299, 9799, 9299, 15399, 9500, 17000, 12299, 11500, 10999, 12899, 8599, 18199, 15799, 18999, 8199, 18399, 10499, 15999, 8199, 16199, 20999, 16499, 8099, 8499, 21999, 8699, 10699, 8995, 17495, 20495, 10995, 11995, 12495, 11495, 15495, 7495, 10995, 11108, 11108, 7250, 8820, 8400, 8000, 6500, 10490, 10890, 7610, 10505, 11500, 5295, 17495, 12495, 16500, 7300, 20700, 13000, 13350, 14999, 12999, 15499, 12699, 18999, 19799, 11799, 11999, 13699, 9499, 12899, 19699, 23699, 18299, 11599, 11299, 16999, 20999, 13999, 14500, 7999, 16399, 12499, 9999, 16199, 18999, 13299, 9699, 14399, 9999, 18999, 17999, 15499, 11799, 16499, 10299, 21999, 18799, 9799, 15499, 11500, 10199, 5995, 10799, 20999, 19999, 9999, 6999, 9499, 32499, 16999, 16999, 18399, 16499, 8799, 10999, 18999, 10399, 13799, 12299, 15500, 14500, 19199, 18399, 18999, 16299, 17499, 17999, 7799, 10199, 13499, 10899, 11599, 14999, 18999, 22999, 18399, 10199, 17799, 19599, 14999, 10699, 8999, 12899, 11999, 16399, 11199, 13500, 9920, 8250, 3999, 11180, 15199, 9899, 10499, 10799, 10599, 19499, 23999, 12399, 17499, 12899, 11799, 13899, 12999, 16999, 16799, 19990, 10900, 11200, 13200, 10600, 16600, 13790, 16699, 16299, 20000, 15799, 14499, 12799, 18899, 16499, 10299, 9499, 9399, 13399, 12699, 10999, 12399, 11499, 9299, 13299, 12699, 17499, 18499, 18900, 14300, 11499, 17890, 9490, 20490, 12990, 12340, 17990, 19990, 20990, 22490, 13800, 15290, 8700, 8990, 15390, 9990, 13490, 13290, 15190, 9990, 7721, 5830, 7820, 5990, 16990, 10790, 9290, 10700, 24190, 11994, 7490, 12290, 10490, 8700, 8950, 11810, 10095, 19290, 9495, 14695, 11990, 7190, 21495, 8495, 9495, 6000, 18599, 20199, 13199, 9699, 16499, 14000, 17699, 15499, 10699, 16299, 18890, 15440, 19290, 16690, 13500, 19990, 14500, 19995, 11490, 15990, 8990, 15390, 10990, 13800, 13499, 12999, 10399, 11999, 16299, 12500, 19000, 17895, 14990, 15490, 24399, 10590, 19000, 15299, 8595, 11499, 16499, 13699, 18499, 17299, 12500, 13000, 25799, 14999, 15199, 16299, 11500, 16599, 9899, 16899, 17899, 10000, 15399, 12399, 32397, 8989, 8499, 15999, 11499, 14999, 14599, 13799, 8299, 9699, 18000, 26000, 14000, 11250, 12000, 18250, 16000, 12498, 11555, 9999, 11599, 8999, 9499, 9938, 16007, 17958, 11999, 13799, 11699, 8614, 14699, 18499, 15699, 15199, 14499, 12399, 13770, 9999, 12999, 18999, 21999, 16999, 8594, 10499, 16620, 15699, 16099, 13199, 10999, 14199, 18799, 16599, 15000, 15499, 9599, 11200, 9750, 12500, 7490, 6600, 20750, 17000, 10250, 11550, 5495, 6970, 9990, 11100, 11495, 13295, 17195, 17150, 17195, 13195, 11090, 15400, 9750, 18250, 15250, 12700, 10250, 10000, 10500, 14500, 12327, 7695, 7990, 11990, 10990, 5750, 7250, 8995, 12295, 8995, 12195, 12195, 7199, 12299, 8899, 14400, 15495, 18400, 18495, 10990, 8990, 9995, 8595, 9995, 8650, 9495, 19100, 17795, 8300, 18250, 10900, 16499, 16999, 10099, 16599, 6699, 11199, 7599, 15850, 18000, 9900, 10350, 9600, 19795, 15195, 15200, 18495, 11100, 19995, 15495, 18795, 8995, 18250, 10150, 8500, 13950, 17250, 16750, 15000, 12500, 16699, 15799, 10599, 15200, 15299, 12899, 16099, 9899, 16499, 14400, 13799, 17899, 13899, 14199, 10299, 15799, 12000, 16399, 18700, 17395, 18800, 18400, 9290, 16200, 13095, 11795, 15795, 14995, 9000, 10500, 16980, 10991, 9495, 23795, 9900, 19895, 8295, 9699, 10000, 16299, 11500, 10000, 10699, 11000, 15799, 20000, 23999, 10000, 15500, 13500, 7099, 11299, 13299, 18000, 12699, 8599, 19500, 12699, 21999, 19000, 32000, 16500, 14500, 11900, 14250, 13800, 10750, 9000, 9750, 10500, 12500, 22099, 12399, 15500, 14199, 19799, 18299, 10099, 12000, 16800, 12000, 18500, 14000, 20500, 11900, 10500, 12750, 16000, 11350, 13791, 8495, 8195, 10995, 9995, 48999, 22495, 54995, 49999, 13995, 9000, 15250, 13000, 8900, 29000, 9200, 15000, 17750, 12000, 17750, 15333, 14777, 8551, 6987, 7771, 6662, 13331, 11111, 9311, 22511, 20000, 9300, 7300, 16300, 13000, 11500, 12000, 7500, 10500, 11000, 11000, 13200, 11000, 17000, 16200, 17000, 13400, 13300, 11500, 15999, 9950, 11000, 20250, 17500, 15500, 11250, 19500, 33000, 18500, 18495, 17995, 24000, 15300, 22500, 7500, 11700, 11500, 11100, 9200, 9500, 14600, 10000, 9800, 9500, 16000, 11250, 12300, 11000, 16990, 12490, 10995, 15295, 6995, 6495, 7441, 5572, 8232, 11501, 17500, 15000, 8700, 12000, 16800, 17000, 15800, 15300, 15700, 19500, 13500, 11495, 12995, 10195, 8995, 11490, 13200, 10990, 7490, 27490, 12995, 17700, 13690, 9690, 12490, 10690, 10068, 18890, 8990, 11800, 14500, 16200, 10000, 9600, 33000, 33000, 8800, 11200, 18495, 10900, 12390, 9990, 17940, 17200, 27200, 12800, 19194, 17760, 17000, 20200, 12290, 10290, 9990, 7990, 11490, 8200, 15995, 18495, 15890, 12990, 9990, 9990, 19990, 7990, 14990, 15990, 6500, 11990, 10790, 15990, 12690, 12690, 13490, 18390, 18100, 17790, 19800, 12495, 10295, 15700, 7990, 14500, 11100, 14495, 14600, 14990, 20790, 11990, 10990, 15490, 15490, 8990, 9490, 14790, 16890, 13490, 14790, 14990, 7490, 9490, 17799, 21250, 18999, 6500, 19500, 14699, 11899, 19299, 15299, 22299, 10995, 17995, 7995, 14690, 19490, 19990, 16490, 14490, 13790, 13490, 8250, 8500, 9400, 11700, 10770, 15990, 19990, 10970, 11970, 11370, 15970, 23970, 13270, 9570, 9990, 18970, 12470, 8300, 13750, 9500, 8250, 20250, 10250, 10999, 17499, 15495, 19995, 13795, 8995, 17495, 15770, 12170, 15170, 15270, 14770, 18470, 14970, 18970, 15470, 8000, 14770, 11170, 22470, 16570, 7790, 10370, 10270, 13270, 16990, 12570, 10990, 18490, 15990, 8990, 13990, 13990, 12490, 15490, 14990, 15990, 11670, 18000, 16570, 32470, 19990, 11490, 11990, 10990, 8295, 7995, 19790, 10290, 20995, 12995, 13970, 21970, 18770, 21570, 10970, 11970, 25470, 12870, 9590, 9400, 19270, 18170, 14970, 10470, 17970, 15950, 16100, 6150, 28000, 16000, 8250, 11299, 8699, 11599, 18399, 14100, 12799, 15599, 22000, 12900, 18000, 18800, 13100, 9500, 9300, 9000, 13000, 13500, 16500, 11500, 9500, 11000, 17500, 10500, 15300, 14000, 14199, 16399, 19000, 14400, 10700, 14200, 6200, 19300, 9700, 14000, 7695, 13500, 10400, 9400, 9970, 10490, 9490, 23570, 15970, 10170, 17250, 30970, 9270, 11150, 10850, 15970, 19570, 18470, 14970, 15000, 17470, 17970, 14000, 27000, 10850, 16400, 17500, 16000, 15950, 17000, 15800, 9500, 17500, 11000, 16500, 14000, 15000, 14600, 7900, 17400, 18500, 14500, 12000, 20500, 10500, 14700, 10799, 10000, 17800, 13800, 6500, 14000, 8695, 8490, 11200, 19000, 20700, 10500, 11500, 20000, 17000, 17500, 17950, 18000, 13500, 14800, 19500, 15500, 12200, 12000, 17000, 17500, 11000, 10500, 17000, 14500, 11200, 10500, 16500, 19500, 15500, 20700, 20000, 10000, 11200, 14800, 9991, 16991, 16991, 18991, 20495, 8295, 13820, 13100, 16700, 16500, 10000, 9000, 7000, 15000, 9000, 12000, 10000, 9990, 9490, 16991, 15991, 11000, 30359, 16991, 16991, 17991, 9991, 26000, 8000, 20000, 16000, 17700, 14000, 8500, 13000, 18500, 10800, 21500, 10200, 15500, 27700, 7623, 16491, 22991, 6991, 16991, 21990, 8491, 9991, 12000, 10800, 17800, 18200, 16800, 13500, 12500, 19500, 17000, 10800, 27500, 20000, 11000, 15100, 17000, 18500, 13000, 10800, 19100, 12500, 17500, 11300, 28000, 12700, 10500, 13100, 10100, 16500, 15500, 15100, 14800, 12500, 9190, 6890, 9290, 14790, 18490, 13690, 10990, 10490, 14690, 18690, 9890, 7990, 8190, 8490, 10991, 8841, 8991, 16990, 16500, 15200, 9790, 8990, 13990, 22495, 21991, 18995, 18990, 17490, 7990, 14590, 14990, 10990, 9490, 10790, 10990, 10290, 15000, 17000, 16000, 16700, 13000, 15900, 16500, 15200, 16700, 11490, 8990, 11995, 20595, 12495, 7995, 17995, 9595, 13995, 7995, 16800, 18000, 13000, 15800, 24000, 15000, 28300, 16790, 11990, 9991, 8290, 15200, 10000, 22000, 14000, 16500, 14250, 12500, 10809, 10699, 17000, 9250, 17000, 13000, 18000, 20000, 9270, 8000, 14700, 16000, 13800, 14500, 14000, 17500, 17000, 16900, 19600, 9000, 16000, 9000, 9395, 10500, 16300, 18750, 9500, 12150, 17500, 10650, 8500, 13500, 9500, 19500, 17500, 10750, 9750, 10250, 15500, 15450, 17990, 17499, 8499, 20750, 13950, 14450, 15950, 10000, 16950, 10450, 26500, 8250, 8500, 7600, 20750, 14450, 24950, 16450, 10950, 16950, 12900, 17250, 12850, 17500, 15000, 14995, 15000, 11950, 18450, 17500, 12450, 13950, 13100, 17500, 25500, 13100, 13100, 14300, 16000, 15700, 13400, 16400, 11200, 12500, 18500, 10500, 7000, 27000, 9000, 12519, 16998, 12990, 10000, 7791, 10491, 15891, 14850, 10500, 14350, 8000, 17000, 27300, 13800, 10500, 11750, 15000, 20800, 19500, 17900, 5000, 15000, 9500, 5000, 10500, 21000, 15000, 20000, 41000, 11000, 11491, 14491, 17991, 13000, 14250, 10800, 10500, 9000, 12500, 10000, 20750, 45250, 15995, 14500, 11250, 16000, 10750, 14000, 15800, 10800, 15800, 8700, 16800, 18750, 18250, 14350, 11100, 18800, 15000, 10700, 16000, 13350, 21000, 10000, 9250, 11850, 20500, 9799, 25499, 16499, 18999, 10499, 12299, 10499, 10299, 15999, 9200, 16300, 11000, 10000, 16000, 16000, 13000, 11100, 7750, 7800, 11250, 14750, 11250, 7950, 14500, 16000, 16500, 13000, 7600, 14000, 17800, 17500, 14000, 10500, 18250, 13999, 14499, 14499, 14499, 14499, 14499, 14299, 13999, 15499, 13699, 10000, 24500, 24400, 16000, 10500, 15400, 17900, 15700, 13750, 12000, 17250, 13000, 14950, 26950, 17500, 15000, 9750, 21700, 16300, 9750, 10950, 21950, 14250, 17750, 14500, 10450, 18950, 13299, 13399, 12149, 12299, 12999, 14499, 14499, 14499, 14499, 14499, 8499, 5499, 9299, 10499, 9999, 16299, 13499, 19199, 12499, 8999, 19499, 13999, 18299, 12799, 12999, 9999, 17299, 15499, 6999, 13799, 13499, 8799, 10799, 10299, 15299, 14499, 13399, 9700, 10000, 11600, 11000, 10500, 11000, 17500, 11700, 11000, 14200, 11500, 11300, 11000, 12500, 12000, 13000, 12500, 15400, 11200, 17800, 15299, 11499, 18499, 10999, 14999, 11299, 15999, 14999, 15299, 15299, 18499, 15299, 14499, 15999, 12499, 12999, 16499, 16499, 14449, 14699, 12999, 19299, 6999, 7299, 15999, 10499, 19499, 12299, 17299, 7999, 9299, 14299, 24500, 17200, 19700, 17500, 15200, 11000, 12250, 13800, 13500, 23996, 11320, 6000, 10910, 8500, 17700, 5710, 10540, 9220, 17750, 10770, 11000, 12600, 18200, 19300, 7000, 18000, 9500, 15300, 15600, 10000, 13995, 8400, 7100, 9800, 10700, 12200, 8170, 15520, 9790, 10590, 11650, 16600, 12600, 18200, 15895, 11490, 15900, 10500, 12400, 19500, 15750, 10200, 17300, 16500, 18500, 19500, 18200, 18200, 9000, 11800, 15950, 27500, 10500, 33500, 15500, 12700, 11000, 12750, 10820, 6580, 10970, 8380, 6830, 7000, 9420, 10210, 17650, 11500, 9450, 23000, 10500, 14550, 13800, 20250, 19800, 12500, 9900, 22000, 18000, 12000, 12000, 20000, 18500, 12000, 9000, 16000, 21450, 17000, 18000, 28000, 16000, 10750, 16200, 8000, 10950, 5770, 10800, 14800, 17000, 6499, 10799, 13210, 16920, 9499, 11999, 14999, 8899, 14999, 10499, 14999, 14999, 8500, 11170, 13110, 10850, 11450, 12180, 7360, 10190, 11600, 12395, 10200, 12250, 11000, 10200, 27000, 18195, 19495, 10000, 7500, 15800, 14000, 19500, 14500, 25500, 7995, 11495, 11495, 25495, 16650, 17350, 12250, 17250, 13400, 16700, 8888, 26500, 8800, 9300, 8450, 20600, 25495, 24495, 25500, 20850, 12950, 11750, 10650, 24850, 13800, 25495, 8732, 7495, 8695, 14695, 9250, 13495, 9795, 20400, 16500, 26950, 18500, 21950, 13800, 17450, 16275, 17250, 9400, 9950, 23400, 19950, 20000, 16495, 9295, 16795, 15900, 12400, 42500, 13000, 18400, 13950, 21750, 11850, 8790, 10999, 10899, 9495, 18000, 14000, 9795, 10000, 19000, 14712, 16375, 17350, 21500, 17900, 16600, 18650, 13395, 13195, 9995, 7990, 8590, 13490, 13990, 7290, 10990, 7990, 14300, 15595, 14990, 10999, 12499, 9695, 11800, 18600, 13995, 13775, 7490, 7495, 6990, 27990, 20100, 13300, 18799, 10400, 19700, 10195, 11400, 14999, 11695, 12689, 12289, 9689, 10995, 20990, 15790, 12290, 13490, 15490, 10499, 6990, 20000, 11900, 15200, 18490, 19490, 16490, 10790, 14990, 12200, 13300, 17000, 15550, 12500, 11100, 11499, 11499, 17495, 10795, 13295, 9985, 11500, 14200, 10500, 10450, 13500, 13200, 8800, 13900, 20300, 6600, 16350, 10299, 23750, 26995, 17900, 16199, 15900, 18800, 9995, 8879, 19900, 22500, 8900, 11200, 12900, 23000, 9500, 24000, 22000, 10000, 8124, 9995, 10495, 8495, 13995, 7499, 9250, 6724, 10500, 10500, 9000, 9000, 18500, 18000, 18000, 13000, 9750, 12500, 11500, 24500, 14500, 36000, 14000, 23500, 16000, 19995, 23500, 14000, 11500, 17500, 17500, 13000, 14900, 15500, 9500, 16000, 14500, 15000, 16495, 6291, 14691, 12995, 14995, 11495, 15995, 18000, 15500, 15000, 16250, 13250, 15510, 20000, 10000, 13000, 11500, 12000, 13500, 17000, 10712, 10142, 19093, 10990, 11490, 17490, 11499, 25400, 20000, 22300, 20400, 23000, 13000, 26200, 19800, 14500, 14500, 18000, 19500, 21500, 21450, 17450, 16250, 14950, 14750, 15950, 11450, 16500, 12000, 16000, 17500, 10500, 21000, 16500, 18500, 11000, 11900, 15000, 15000, 19995, 11900, 13000, 8900, 6499, 16195, 14350, 13000, 12400, 21450, 18450, 10500, 10500, 14750, 17000, 12900, 5989, 16995, 8489, 16689, 11489, 8995, 9750, 10950, 20500, 10500, 14500, 14950, 13900, 13000, 9400, 8650, 13250, 23700, 14450, 8500, 11950, 10500, 10000, 9750, 24450, 12950, 11950, 12500, 7000, 14500, 9000, 13000, 19000, 20000, 10000, 20000, 16489, 6495, 10500, 11250, 14995, 14495, 6595, 11995, 7995, 11300, 19250, 23890, 11500, 12500, 14995, 10470, 17700, 16995, 9695, 11550, 10250, 11750, 23990, 12250, 9750, 12650, 9850, 8495, 10000, 17500, 26000, 17700, 13000, 28500, 22500, 15750, 16000, 14000, 25000, 14500, 25700, 12950, 12600, 12750, 10500, 7200, 17900, 8700, 7400, 9900, 13250, 14500, 16000, 14750, 22750, 13000, 12000, 15200, 17500, 11400, 10000, 11600, 18400, 23000, 25500, 16000, 32900, 24000, 20000, 32000, 28000, 16500, 15000, 10000, 16000, 8000, 10790, 9790, 13389, 9129, 9152, 11595, 10890, 8500, 13000, 12390, 10290, 19000, 14995, 21500, 9995, 9690, 11500, 20000, 17500, 37500, 32000, 11500, 17750, 22950, 11900, 15800, 9600, 10690, 10000, 15500, 12500, 7290, 7790, 22000, 11000, 19000, 11150, 14950, 17995, 11490, 14500, 23995, 10250, 18490, 10750, 25820, 7290, 12000, 10000, 14790, 11590, 12000, 9290, 13500, 10500, 10390, 11500, 20000, 27500, 14500, 16690, 13000, 14500, 9000, 10500, 17500, 12800, 11150, 9900, 14600, 19750, 16950, 14650, 18450, 13650, 8000, 22500, 20000, 7500, 20000, 10500, 27500, 10500, 11290, 9500, 23000, 9690, 18000, 32000, 14500, 22000, 18500, 17500, 8500, 42000, 25000, 13000, 8500, 24690, 13290, 13290, 10000, 17500, 10500, 8290, 21000, 12500, 14290, 9390, 22500, 12690, 13290, 24690, 20690, 25000, 13290, 13000, 10690, 20000, 12000, 11290, 21000, 13500, 9000, 6495, 5250, 5250, 3495, 12850, 4750, 5495, 3695, 5295, 6695, 6995, 6500, 9500, 7995, 4500, 13500, 5995, 11495, 2995, 2595, 4499, 9995, 7495, 6995, 2750, 5500, 5500, 9995, 8500, 3995, 8250, 9295, 5889, 12500, 18000, 33000, 8490, 19500, 9299, 14299, 9299, 4995, 11995, 6995, 4895, 7995, 7299, 12999, 11980, 7980, 9980, 8380, 13280, 8380, 21180, 11280, 15980, 15495, 5995, 7995, 14995, 7995, 9695, 8495, 21780, 15980, 16980, 6980, 7240, 16479, 19480, 29980, 5500, 5500, 6500, 9995, 3195, 3995, 5995, 5500, 2799, 5000, 3000, 1950, 2250, 6400, 2595, 6500, 11500, 11995, 6500, 8795, 7250, 9995, 6995, 9995, 11000, 9500, 4500, 9500, 7000, 6500, 10000, 14000, 2500, 16995, 13795, 21769, 17750, 9788, 6900, 13950, 23950, 15493, 22750, 3995, 2995, 2995, 2695, 2495, 4000, 3295, 8395, 4995, 7495, 5495, 2995, 4500, 4500, 4800, 3695, 4995, 3395, 16450, 9980, 19945, 17980, 11980, 14980, 2395, 3495, 2195, 10195, 3395, 2895, 14495, 12500, 7750, 16980, 15980, 17980, 23980, 15480, 8980, 8980, 9980, 19980, 11980, 9980, 15945, 7980, 23780, 18980, 14980, 20980, 21980, 10480, 6480, 9980, 2895, 8999, 15000, 13000, 5999, 3999, 9999, 13000, 8499, 19500, 8600, 10000, 8900, 11900, 10200, 15900, 13700, 17900, 6495, 12495, 5995, 18750, 19950, 22950, 20950, 11950, 17950, 19980, 21980, 7980, 16980, 21980, 9980, 15980, 20980, 8980, 17000, 9000, 6000, 18000, 10500, 5000, 10000, 9250, 7500, 9298, 9989, 6579, 6998, 12995, 8800, 8400, 7891, 12290, 9500, 7990, 9400, 9500, 11500, 10700, 11900, 9700, 23000, 10980, 12480, 9480, 10000, 9600, 10200, 10700, 8000, 8800, 17400, 11800, 15000, 17200, 9490, 10490, 7490, 16495, 10490, 11490, 4990, 13990, 18990, 11990, 9790, 9990, 8790, 7490, 11290, 8491, 9345, 12170, 12597, 10991, 7256, 7830, 18795, 32995, 13689, 16383, 8849, 10234, 9544, 17817, 6634, 18093, 8429, 9461, 9490, 17990, 9595, 18990, 9990, 20990, 14990, 11990, 9490, 7495, 22995, 9495, 10495, 12490, 18495, 11968, 19315, 7429, 9193, 21997, 7851, 6289, 12096, 10261, 12276, 19419, 8856, 10998, 9758, 15393, 14171, 10995, 10995, 14995, 12595, 11295, 9695, 10995, 15295, 11795, 9995, 18990, 10490, 10297, 9000, 10750, 8490, 5495, 5245, 5400, 7295, 5048, 8999, 15295, 12995, 13995, 11995, 18995, 10995, 15995, 20995, 10495, 9495, 21995, 15995, 12495, 11495, 7995, 16995, 5499, 6999, 6199, 9999, 9999, 5999, 5699, 7699, 6999, 2499, 9491, 17990, 8980, 15940, 26290, 9690, 24990, 9990, 11800, 11290, 8990, 4975, 10911, 1954, 2876, 4963, 7651, 9690, 14999, 6450, 3995, 8995, 10000, 7499, 3699, 14500, 9750, 5888, 10730, 8000, 17580, 18490, 10400, 18200, 8790, 16790, 7500, 8980, 17780, 5490, 9990, 7390, 18990, 9690, 11290, 8790, 7397, 9977, 4977, 6977, 8977, 5995, 8977, 5995, 9477, 9977, 6499, 10690, 8990, 13490, 15997, 9590, 10490, 7990, 10690, 7652, 5995, 15500, 7000, 13000, 10000, 7700, 9700, 8700, 8400, 6800, 13000, 9245, 12895, 3995, 10995, 10695, 17995, 9695, 7495, 15775, 13675, 15475, 16600, 8700, 11500, 7700, 14000, 18800, 18200, 17700, 12775, 9175, 6995, 17995, 10000, 12300, 7800, 8600, 9300, 11000, 9400, 21600, 12000, 8300, 12000, 7300, 8300, 9500, 12000, 12600, 10800, 12000, 8500, 10500, 9500, 10000, 5000, 19800, 15000, 10700, 7700, 10000, 10000, 10495, 9795, 12395, 10000, 15000, 10500, 9000, 8800, 13500, 13700, 9700, 17600, 18700, 16500, 10000, 9100, 8100, 9000, 9000, 10100, 15500, 10300, 8300, 13300, 10300, 15700, 6800, 9100, 9900, 8900, 7200, 18600, 4750, 8500, 4750, 6250, 9400, 11800, 11900, 19750, 6500, 7990, 8500, 9990, 9990, 11990, 4800, 6850, 6500, 17999, 10250, 8999, 15500, 16500, 4990, 7550, 10990, 7650, 6950, 10400, 11490, 24990, 9490, 8990, 15990, 15500, 5900, 9500, 11990, 7990, 6990, 10990, 10490, 10990, 7490, 6490, 5990, 6990, 8490, 7990, 8990, 12490, 5990, 12490, 6490, 6990, 7990, 11500, 9500, 10490, 8490, 7990, 8990, 7990, 5990, 8990, 9490, 7990, 7490, 11490, 9990, 8490, 4490, 10990, 5490, 8990, 8990, 9490, 12400, 13500, 9600, 9300, 10800, 17800, 9500, 15500, 11500, 9000, 7990, 5490, 6990, 10490, 11900, 7300, 14300, 10990, 7990, 12990, 6990, 5990, 6490, 12490, 9490, 14300, 12300, 18800, 6000, 17700, 10700, 17000, 4990, 9490, 6990, 7990, 6490, 10490, 6490, 10490, 9490, 6990, 5990, 10490, 7490, 6490, 10990, 7990, 3334, 14399, 14399, 8795, 7747, 9657, 10199, 11999, 15499, 8490, 15490, 12227, 7999, 7999, 11490, 9490, 8990, 8490, 6990, 5490, 7672, 19999, 8449, 9999, 5750, 4990, 11499, 7636, 5939, 9799, 8599, 11748, 12999, 12999, 9546, 9799, 6799, 7096, 12999, 5176, 6412, 17299, 12500, 7800, 3900, 4395, 4795, 7500, 6000, 9800, 9661, 7699, 9999, 18250, 16525, 14525, 14575, 16000, 8899, 9632, 8503, 7842, 18890, 17199, 17999, 17999, 17499, 8439, 8600, 9399, 8495, 10400, 17300, 9500, 11200, 10900, 11400, 9000, 11800, 8100, 9700, 11300, 16800, 9126, 9511, 10780, 10499, 11512, 9189, 16199, 8773, 16999, 13395, 7552, 6190, 9033, 16399, 11499, 8099, 10290, 9999, 13731, 2650, 18917, 8899, 8250, 7250, 10750, 5450, 7999, 7990, 5650, 8450, 6950, 12500, 4500, 7999, 675, 6500, 12128, 12270, 10899, 9495, 10299, 16399, 9299, 12454, 8500, 9399, 4749, 9999, 17999, 11495, 6545, 7499, 5366, 10499, 7812, 17988, 10249, 5192, 18200, 16125, 4699, 8999, 7426, 4195, 19400, 9265, 10399, 10099, 10099, 12299, 9271, 16499, 8225, 17999, 5999, 6499, 9999, 8699, 8099, 17999, 9268, 14650, 13475, 9999, 6789, 10999, 8390, 8466, 15199, 11999, 14399, 9399, 19223, 8699, 18899, 10671, 6799, 8299, 6980, 3820, 18125, 17999, 17850, 15165, 10999, 7599, 15400, 11489, 9643, 10781, 17451, 8524, 9399, 5791, 7432, 11695, 11649, 10752, 10199, 10499, 7499, 9699, 7679, 9799, 7673, 14399, 9999, 9999, 7446, 7499, 9899, 8669, 6799, 7744, 10399, 10798, 9870, 9999, 8284, 7849, 11799, 8284, 12764, 7999, 8574, 9698, 9191, 17923, 7058, 8382, 11499, 12995, 11295, 14250, 6799, 13699, 9880, 9694, 18499, 7182, 14299, 8999, 18499, 8999, 5399, 8490, 13890, 13590, 14690, 12999, 12999, 6499, 7541, 11980, 10999, 24500, 9990, 8690, 5995, 895, 7390, 12790, 9490, 7990, 12699, 3999, 13968, 6143, 12942, 6999, 18328, 11499, 5356, 11899, 6826, 17999, 17999, 14999, 8899, 11589, 14399, 22999, 16499, 10499, 12999, 15541, 5379, 7626, 8483, 18699, 18599, 16999, 6733, 12599, 6526, 14999, 13999, 9999, 8000, 13499, 8350, 16999, 17699, 9899, 7490, 3990, 5490, 7676, 15369, 9218, 12500, 7960, 6490, 5450, 4150, 7990, 8999, 10190, 4940, 6870, 9640, 8940, 7996, 5473, 9699, 12495, 11999, 9999, 7000, 12940, 7989, 5949, 8640, 10440, 6940, 9999, 9299, 15999, 8499, 15999, 8999, 10999, 10999, 8940, 6840, 5750, 8845, 6995, 5495, 8497, 8470, 5270, 9640, 7340, 6940, 5749, 11333, 8795, 3995, 8695, 8995, 8288, 8794, 6993, 11997, 8697, 10497, 19997, 9797, 4490, 4190, 7890, 10488, 6988, 8688, 10990, 9970, 17970, 8470, 11970, 15970, 19970, 6470, 10997, 9797, 11797, 3692, 7391, 6991, 6893, 2694, 7991, 3692, 7991, 7992, 7991, 7792, 7793, 6793, 5393, 6391, 7992, 6793, 6391, 7793, 12491, 6793, 1795, 9495, 18490, 10899, 3249, 6949, 7393, 7793, 10792, 7492, 6793, 7792, 7792, 1295, 1495, 8795, 7991, 8793, 15900, 6450, 15500, 4899, 2890, 11990, 9999, 12539, 10069, 9739, 12089, 10399, 12999, 17999, 8240, 10795, 7492, 5492, 6391, 12491, 8391, 3493, 6992, 6793, 5991, 9921, 7548, 7299, 7499, 7470, 18849, 11799, 13999, 15999, 8999, 8649, 11599, 9361, 9362, 18999, 9499, 9999, 13084, 9999, 10999, 4852, 17623, 9907, 7935, 11913, 6913, 13815, 10999, 3995, 15995, 12787, 17999, 8699, 7147, 6934, 9999, 6540, 8244, 9545, 22499, 6992, 9834, 17098, 8599, 13999, 7349, 14331, 9491, 8199, 5899, 7132, 10449, 11275, 12499, 9299, 8105, 16399, 7763, 11318, 6790, 19000, 9995, 3918, 9293, 4431, 13919, 10999, 13449, 8399, 18199, 11999, 18700, 7825, 15510, 12012, 9893, 14652, 7511, 17999, 19900, 7891, 7376, 8344, 9610, 9709, 7731, 10295, 17999, 10999, 25000, 9186, 12295, 10999, 12120, 12499, 7899, 11999, 15749, 17699, 16399, 9360, 11500, 13999, 12204, 11389, 10799, 9499, 19500, 9995, 14399, 5448, 16399, 9499, 16999, 8299, 8899, 12899, 14999, 9770, 10249, 11127, 16999, 10799, 10699, 13799, 10185, 16051, 10210, 10998, 10599, 5299, 3499, 5499, 1999, 3499, 3899, 10495, 7699, 11999, 11128, 10799, 14799, 10999, 8825, 7175, 6800, 18498, 6499, 17999, 8499, 7999, 9599, 13999, 10499, 22998, 12999, 10998, 15999, 16799, 6999, 10999, 15999, 14999, 16998, 14499, 14998, 11999, 28998, 19998, 8499, 9999, 10499, 7999, 10999, 13399, 9699, 17499, 18200, 16499, 15999, 10414, 12999, 16749, 18681, 13249, 15999, 12999, 8999, 9999, 6999, 5999, 8499, 9999, 8999, 10999, 9933, 3999, 8444, 11211, 10483, 4352, 10999, 12222, 3888, 19710, 17999, 7299, 17999, 5999, 7999, 13583, 12918, 11499, 17986, 17998, 3999, 20499, 15999, 10299, 14999, 4699, 16999, 9399, 32999, 14299, 16499, 9299, 17499, 14299, 14499, 20499, 25499, 19499, 12999, 5299, 9499, 16498, 20999, 22999, 17499, 10999, 10999, 11999, 7999, 15999, 13499, 3999, 3699, 3299, 7599, 6395, 9495, 11299, 14999, 10499, 14499, 11999, 9999, 8999, 9999, 15499, 14999, 11499, 14299, 21499, 11699, 24999, 11499, 9299, 25999, 14499, 19999, 10499, 10000, 4699, 9500, 15124, 13999, 3250, 12495, 8995, 6995, 9895, 21699, 23999, 10999, 17998, 18699, 16499, 9999, 14999, 10299, 6500, 8500, 5799, 8299, 14499, 5699, 10000, 8199, 8000, 8000, 6495, 10995, 17995, 7995, 8211, 8999, 13487, 12434, 10587, 14555, 5999, 4499, 14598, 14299, 15999, 7799, 13499, 9599, 13299, 9999, 8399, 8749, 14199, 6561, 9078, 4490, 5990, 6490, 12495, 10600, 15299, 15699, 15999, 9699, 20499, 17999, 9599, 8000, 9195, 9795, 9000, 12295, 6000, 7000, 4500, 9600, 14800, 12999, 10999, 16199, 8150, 8999, 11000, 16300, 7695, 10499, 6000, 10299, 6299, 5500, 5299, 8700, 15500, 15400, 10500, 11768, 11799, 16499, 14199, 7999, 13000, 12000, 5500, 7500, 16000, 8200, 7500, 11300, 12798, 16998, 18999, 15299, 8999, 5999, 20999, 13998, 16999, 6299, 10200, 13200, 7200, 8800, 16600, 21000, 6999, 9499, 15299, 9700, 12500, 5300, 11300, 12000, 16500, 12000, 10100, 10800, 10500, 9400, 9500, 9999, 7699, 8299, 6499, 9299, 16998, 12799, 6499, 16998, 14998, 13998, 19698, 12498, 7299, 7499, 10999, 14999, 9699, 13499, 21999, 9299, 17299, 20799, 14999, 11299, 8999, 6799, 8499, 12999, 14799, 20999, 13799, 12399, 10999, 18999, 7999, 11699, 21999, 13799, 15999, 11999, 15699, 11899, 10499, 16399, 8199, 17799, 19999, 21799, 11000, 8400, 22000, 8300, 11250, 7999, 13100, 12000, 10650, 9700, 7400, 10400, 13300, 9400, 10800, 8200, 11000, 6995, 10495, 15995, 9495, 14995, 6495, 11495, 12000, 8300, 19000, 8500, 10300, 10700, 8500, 11000, 8350, 16500, 7700, 13500, 15500, 12500, 10500, 8300, 9650, 11500, 12950, 13000, 12300, 13250, 11100, 10900, 12700, 13100, 9000, 7600, 10200, 12600, 9799, 12199, 14599, 16799, 14999, 17399, 14999, 6999, 10999, 11999, 9000, 12200, 12000, 11700, 13700, 15000, 9500, 8500, 8700, 10200, 15999, 12999, 12999, 14199, 17499, 8299, 14399, 8799, 17999, 8200, 10800, 11200, 15500, 10000, 13000, 10700, 15400, 9800, 16500, 9400, 10500, 14800, 6900, 14800, 14000, 8700, 14500, 14500, 10750, 14999, 19199, 22599, 13699, 15999, 10499, 16799, 11999, 8999, 9999, 10200, 15900, 9800, 10100, 10500, 10800, 9850, 10000, 8400, 19500, 10700, 10500, 25500, 7800, 7900, 9100, 17700, 7500, 8200, 11600, 8700, 8900, 7995, 8495, 9995, 15295, 10295, 10995, 15600, 10200, 7900, 20200, 12000, 14250, 9450, 9450, 9650, 10800, 9300, 8650, 12489, 14989, 9989, 14295, 9295, 10795, 16495, 14695, 4495, 4695, 12200, 9800, 7500, 12000, 7100, 11800, 8100, 11000, 10150, 11250, 13495, 13995, 13489, 9489, 11489, 7489, 10789, 9789, 10989, 12299, 10989, 10489, 10489, 22500, 13489, 13799, 15999, 6789, 10489, 10489, 8489, 17289, 14689, 15489, 8489, 10489, 14489, 14489, 15489, 7189, 14289, 19289, 17289, 7999, 9800, 16500, 8600, 8000, 12400, 7250, 23000, 13700, 11500, 12200, 11999, 10999, 16999, 6699, 24999, 11999, 9989, 13989, 12000, 12289, 11489, 11889, 11489, 8289, 9989, 9989, 32489, 9989, 7389, 8289, 7389, 22389, 16989, 13989, 19989, 14200, 10200, 10900, 18200, 12500, 11000, 10200, 10300, 10700, 17489, 15289, 9589, 8789, 17989, 19989, 5489, 13289, 15250, 10489, 15789, 9989, 7989, 7989, 7349, 18500, 35488, 35989, 13449, 9489, 7489, 11400, 10800, 18000, 8489, 14489, 12489, 8489, 16949, 3989, 3789, 7989, 10589, 8289, 7589, 9489, 8389, 8949, 8489, 9989, 9689, 14000, 8000, 21700, 7700, 9000, 15000, 10500, 13000, 15500, 15700, 8000, 19700, 13000, 18000, 7500, 14800, 11200, 12500, 10300, 9700, 10700, 14000, 14800, 18800, 9200, 14300, 10300, 9800, 11000, 10500, 20800, 10000, 24800, 10000, 11200, 9500, 8600, 11000, 11800, 10500, 14000, 13500, 9300, 7800, 18500, 20500, 13300, 17000, 9700, 15000, 9000, 8700, 12500, 13500, 12800, 5000, 12000, 9689, 11989, 17000, 12989, 16289, 18139, 10789, 13000, 17249, 18489, 9999, 10989, 6889, 8189, 10489, 10289, 4200, 8300, 14800, 9400, 12300, 13400, 18000, 17800, 18500, 16000, 11000, 13000, 11000, 16000, 17000, 8700, 10700, 8700, 9800, 10000, 9000, 9400, 10200, 17000, 12000, 8000, 10300, 11700, 13000, 6500, 7000, 10800, 6800, 9800, 17600, 15800, 12000, 8600, 9000, 25500, 7000, 11000, 17500, 11200, 11500, 13800, 10300, 10400, 16400, 11300, 9000, 8400, 15500, 10500, 8100, 10300, 17000, 18000, 9300, 10300, 8200, 8100, 8700, 8000, 7500, 19000, 10700, 9900, 8300, 6000, 5995, 8995, 15800, 15100, 9600, 11900, 10000, 11300, 16000, 14400, 10600, 12700, 11000, 10800, 6500, 12500, 11300, 12500, 10700, 12500, 13200, 7700, 9500, 15500, 7900, 6300, 8600, 7500, 8700, 16100, 11500, 12600, 11700, 9600, 9000, 12500, 13000, 16500, 10300, 8200, 8800, 9500, 21500, 9200, 9000, 9900, 12500, 8500, 10700, 13700, 9000, 15800, 11500, 10000, 10500, 14000, 21000, 14300, 7200, 17200, 11600, 11000, 10000, 10000, 14000, 11000, 10800, 12500, 10500, 18000, 12000, 15800, 19000, 18200, 10300, 17400, 14000, 8800, 10700, 12000, 22000, 14000, 11700, 11000, 12000, 15000, 17700, 10900, 8400, 18300, 12300, 7700, 11000, 8000, 11800, 9400, 11300, 8900, 12300, 12700, 7400, 12400, 18000, 9800, 7500, 6600, 12000, 12000, 11000, 15000, 7000, 17500, 8400, 9300, 10600, 12000, 10800, 18500, 6500, 9300, 14300, 9400, 17600, 11500, 13500, 9300, 13800, 10800, 10000, 8900, 14000, 13500, 6200, 12500, 16500, 16000, 8500, 12500, 11000, 9000, 10300, 10300, 9500, 6600, 8600, 11400, 12700, 12300, 14000, 20000, 10800, 6200, 9100, 14200, 14400, 11700, 10200, 6800, 18400, 9000, 7800, 9000, 9600, 8500, 8000, 7699, 10799, 7000, 10499, 8295, 8000, 8500, 8000, 7000, 7499, 5000, 10500, 9299, 12000, 9000, 10000, 6500, 8295, 10295, 8195, 7695, 11695, 11490, 15990, 8100, 9000, 10000, 16800, 9300, 17000, 10500, 6200, 6300, 14500, 22800, 9000, 7650, 9375, 9275, 11495, 17650, 8250, 3895, 7895, 7995, 15750, 14000, 18500, 11375, 18250, 11750, 12350, 17325, 9725, 6295, 8795, 7425, 8500, 14985, 9985, 1999, 1299, 2499, 17369, 2495, 2995, 1795, 1795, 3495, 9750, 6925, 9250, 9689, 10998, 4499, 9850, 14695, 8985, 8695, 6495, 7995, 10495, 16325, 7250, 13750, 8750, 18900, 13000, 16250, 13750, 4499, 3399, 2799, 11500, 3989, 29989, 19000, 16000, 7500, 5250, 7750, 13000, 8000, 6250, 11000, 15500, 13500, 20000, 16489, 11989, 8289, 28489, 16489, 12489, 14789, 3689, 9388, 12389, 8000, 14500, 4650, 8800, 8000, 8750, 9989, 13989, 13489, 14989, 12489, 7489, 11689, 24989, 13289, 15489, 10689, 12989, 9489, 9000, 8900, 6489, 9989, 11589, 13989, 9489, 12189, 16989, 13189, 16989, 4489, 16489, 17489, 9789, 9289, 9688, 8889, 9889, 16000, 13000, 12000, 13300, 8800, 8000, 17500, 11989, 9489, 8989, 7989, 9989, 8489, 13989, 5989, 10489, 10289, 10700, 16000, 9500, 12700, 9700, 15000, 18400, 10000, 10000, 5200, 8389, 11188, 9489, 8689, 10189, 10989, 14989, 9989, 14989, 8788, 18994, 7890, 9990, 18290, 15799, 9998, 18499, 17299, 13890, 14480, 7299, 13499, 13445, 12899, 17899, 18299, 15899, 16699, 9199, 16499, 3499, 5499, 10199, 6499, 4799, 3495, 7995, 8995, 8495, 13980, 17990, 14990, 10899, 13699, 10280, 12290, 3690, 7994, 8689, 6729, 6650, 4999, 6295, 15000, 9999, 10499, 6499, 7499, 10995, 13995, 1294, 6995, 10290, 8780, 14999, 12199, 6199, 9299, 7599, 13799, 9499, 12610, 8879, 10899, 9000, 10000, 7900, 18800, 16800, 9000, 15700, 10800, 8675, 9200, 7489, 15489, 9989, 8289, 10498, 5990, 14498, 8990, 9990, 16475, 3990, 19300, 11000, 12000, 7599, 10999, 12699, 17000, 18869, 7999, 11399, 9611, 8899, 4695, 7695, 7995, 11995, 15800, 8900, 11000, 10200, 11000, 12000, 8999, 9799, 8499, 12999, 7499, 7899, 9899, 4199, 4399, 9199, 10999, 12399, 11899, 14699, 8599, 9299, 9199, 13595, 14499, 9999, 5750, 6995, 8450, 12452, 7999, 11739, 10587, 7499, 11999, 9999, 12399, 7099, 7599, 9199, 8299, 16499, 16499, 7250, 8999, 9850, 10499, 11850, 5699, 7468, 6750, 7560, 14105, 9699, 7299, 8175, 10499, 9799, 7299, 10999, 6699, 9599, 10499, 13946, 15395, 17334, 14399, 13231, 7899, 4599, 7495, 9195, 8494, 11595, 7983, 10499, 9920, 8277, 17182, 13999, 6614, 15857, 9099, 4995, 10999, 8530, 16499, 16450, 16499, 8999, 12295, 17999, 10750, 13699, 13999, 11850, 10750, 15799, 8750, 12612, 7699, 14299, 8399, 10199, 7499, 11599, 8999, 13999, 9999, 8099, 11599, 8388, 7342, 8899, 8912, 10999, 10151, 11886, 6891, 12099, 7750, 14312, 16795, 12495, 13995, 13495, 9795, 10995, 8995, 11995, 12495, 16495, 11995, 10495, 16495, 12995, 10495, 8995, 11995, 10495, 18995, 17995, 9499, 16299, 18490, 7999, 7499, 8699, 10999, 7499, 13000, 10799, 9450, 13495, 7750, 4495, 6480, 10999, 2999, 1290, 14499, 15900, 10770, 9680, 9900, 16000, 19999, 7350, 8650, 9099, 7599, 9899, 10495, 13995, 9995, 13995, 6995, 5995, 9750, 9995, 5295, 12495, 10995, 13995, 6250, 15995, 10750, 19495, 4750, 6250, 9495, 5995, 9495, 11750, 10995, 4495, 17995, 11995, 1400, 16795, 17495, 24995, 12995, 15995, 17495, 8895, 8499, 15490, 9980, 7880, 9990, 9995, 8995, 10495, 12995, 16995, 11995, 7495, 15495, 6995, 9995, 9995, 7495, 5850, 9950, 11750, 11750, 1475, 16950, 4990, 8450, 11350, 12500, 11250, 7295, 9395, 9800, 8200, 8795, 15995, 9495, 6995, 25995, 9995, 10495, 12495, 11995, 10495, 13995, 14995, 14495, 9495, 10999, 10500, 8250, 15500, 7995, 18499, 18795, 14999, 11395, 11695, 15250, 16495, 7600, 10495, 10995, 14795, 17250, 12999, 9995, 5295, 14495, 7995, 6999, 1095, 3575, 23295, 9995, 11995, 15995, 12991, 9491, 8100, 18999, 18999, 9495, 35950, 37300, 12470, 19495, 7650, 17495, 15750, 10995, 15600, 13999, 18750, 12895, 18500, 10095, 20750, 16995, 10250, 20795, 9795, 9750, 9195, 4550, 3450, 6899, 7750, 4899, 10350, 18295, 15995, 8995, 9850, 12795, 9500, 11495, 10000, 2500, 11795, 3491, 2991, 2491, 2991, 4491, 3491, 3491, 2491, 13795, 16498, 12350, 20499, 10995, 7295, 5795, 5795, 8295, 7195, 11000, 18250, 14995, 15495, 15850, 16995, 11895, 23795, 13950, 13745, 9790, 17490, 22390, 19995, 10195, 6000, 9795, 7500, 14000, 11495, 6195, 8000, 7795, 5795, 3295, 2995, 1695, 2495, 3995, 5995, 7799, 7299, 7690, 13950, 9950, 9450, 4000, 7695, 10095, 15995, 8995, 17895, 10395, 17495, 15495, 15795, 9595, 10495, 6295, 14500, 8000, 8500, 9000, 7195, 7695, 8295, 8000, 11500, 9170, 18699, 3995, 4995, 15990, 8995, 17995, 10697, 5895, 9899, 9999, 12973, 15904, 9204, 11999, 11999, 9080, 9046, 11783, 9275, 18389, 21999, 9999, 9999, 10903, 12975, 9072, 11325, 8999, 2991, 1999, 5500, 3499, 10699, 3499, 6999, 2799, 11995, 14295, 5999, 2495, 2495, 2495, 3000, 2495, 9999, 12124, 14175, 5769, 12999, 9951, 5328, 8702, 12395, 13895, 17250, 2995, 11995, 9799, 23999, 11799, 4795, 2495, 2395, 5975, 5275, 6275, 5975, 7990, 5990, 9990, 5995, 4995, 5495, 3990, 9990, 6995, 6990, 7475, 1895, 7875, 4490, 7475, 5995, 3495, 5490, 7495, 6990, 8990, 6490, 7499, 17499, 3995, 3195, 3875, 8275, 5475, 8475, 9299, 5899, 8999, 11699, 8499, 7749, 8899, 9999, 15599, 10499, 1995, 9295, 8995, 7759, 5495, 3295, 3695, 10995, 3495, 8995, 8975, 8990, 9999, 6999, 7999, 15999, 8999, 3695, 5995, 6195, 4495, 9495, 4995, 3495, 5495, 6475, 17199, 14699, 11599, 17999, 16999, 17999, 7699, 13999, 5347, 7667, 7875, 4975, 4495, 8975, 7975, 11495, 9799, 12369, 11399, 8999, 12799, 19759, 8399, 7999, 14999, 11999, 16499, 12867, 11463, 11289, 9899, 8135, 9999, 8444, 12999, 10499, 14599, 11899, 16699, 10689, 11699, 7999, 7249, 8299, 6699, 6000, 5000, 9995, 17995, 6995, 13495, 17295, 8395, 3195, 7999, 10999, 11999, 8999, 6999, 7999, 5295, 9500, 9500, 15598, 8999, 4699, 7499, 8999, 2995, 2295, 2495, 6495, 3495, 3895, 7899, 13999, 8799, 6599, 6499, 15795, 20995, 8000, 10000, 12299, 11999, 8516, 7159, 8999, 13999, 6399, 14899, 9049, 13199, 13999, 13749, 14999, 13699, 5699, 8799, 7299, 7599, 7299, 16499, 12395, 9599, 12599, 7749, 14499, 6599, 13299, 9105, 14545, 12299, 6299, 13499, 10299, 10999, 9795, 8999, 17999, 9351, 12299, 18256, 7995, 5295, 10995, 13195, 10499, 22000, 3000, 8000, 3595, 9899, 19799, 7599, 7999, 15999, 8299, 7299, 8299, 8599, 9149, 11995, 8995, 6599, 7499, 8599, 7099, 9299, 7099, 11599, 12999, 16799, 9299, 7549, 10799, 8999, 19999, 7499, 6299, 9999, 7299, 8299, 8699, 7899, 11399, 12499, 10899, 8499, 8799, 7499, 13999, 14299, 12699, 12899, 7999, 7499, 13999, 8599, 9899, 17499, 14099, 11399, 11499, 15499, 18262, 17495, 5499, 6399, 12699, 19999, 7795, 5599, 9799, 7799, 5399, 14399, 10499, 9995, 9399, 14399, 12499, 10000, 12195, 6995, 1295, 1295, 1995, 3295, 8995, 2995, 1595, 1995, 16499, 9399, 12619, 4999, 12339, 14249, 8999, 12949, 13399, 8599, 1295, 6999, 7999, 4999, 4999, 7999, 11995, 16995, 11995, 12995, 15995, 11195, 11495, 11995, 12195, 8495, 15599, 15549, 10299, 10999, 13149, 5699, 15999, 6999, 6500, 1995, 2495, 6995, 9495, 19495, 25795, 7995, 7199, 10399, 7500, 694, 10495, 9295, 7495, 5994, 9975, 10475, 4250, 2975, 5995, 13995, 12995, 12995, 10295, 10995, 11499, 15450, 14499, 7995, 8995, 5150, 6250, 6250, 6850, 2995, 8450, 8495, 1995, 2995, 7295, 7299, 6399, 7449, 6999, 13559, 10399, 19999, 8799, 6084, 8959, 12299, 14999, 10499, 11499, 5999, 13699, 11999, 10299, 10489, 8549, 16599, 11999, 5599, 5699, 5799, 7599, 7399, 11999, 10999, 11199, 13499, 10061, 13299, 7499, 10999, 9199, 9749, 6899, 13999, 9699, 15499, 17499, 8549, 9369, 8749, 8449, 13699, 11999, 12999, 7999, 10499, 9389, 8299, 18699, 2495, 2995, 7500, 14699, 8999, 7199, 5495, 5995, 6995, 7450, 4450, 6650, 12450, 7499, 10999, 7299, 18949, 11999, 10199, 10895, 9999, 11999, 10699, 675, 16399, 8759, 8599, 2799, 2799, 3299, 5799, 3999, 5499, 4999, 4299, 8375, 6995, 11995, 6295, 3695, 4490, 5290, 3790, 7990, 4350, 7000, 9300, 6995, 7495, 6995, 4799, 2299, 4299, 3199, 6995, 7950, 8250, 3000, 14750, 14650, 12000, 4500, 6495, 6195, 6695, 6000, 7295, 6495, 8295, 3695, 5195, 15721, 11500, 4995, 1495, 4295, 5495, 3995, 3495, 3995, 3495, 5795, 5000, 7500, 7695, 11295, 9295, 5995, 4995, 5895, 12295, 12259, 9899, 13379, 8299, 16199, 9999, 13439, 8279, 7199, 3995, 6199, 7759, 15649, 4689, 11799, 5599, 7899, 5879, 14599, 2195, 2695, 6495, 1995, 3999, 675, 1200, 1299, 950, 6990, 7290, 8679, 7769, 9299, 13499, 7999, 10995, 12250, 6699, 7799, 8799, 10000, 22500, 9000, 18500, 2995, 3995, 10250, 7500, 12000, 16000, 17500, 17500, 8500, 13000, 7000, 35000, 10250, 10250, 8250, 3495, 2995, 4995, 8990, 9290, 11000, 1550, 3995, 1695, 11000, 5995, 2995, 5995, 7495, 9595, 3495, 19000, 24000, 11250, 17650, 18000, 6495, 10600, 11000, 3895, 9795, 2995, 2695, 3995, 6395, 2395, 1695, 4295, 2795, 2495, 8995, 3295, 2295, 5795, 2295, 3795, 2695, 2895, 2395, 4295, 2695, 6295, 4995, 1895, 18949, 9450, 13651, 9552, 20450, 10283, 10811, 2350, 5750, 10837, 19337, 12282, 12450, 14450, 9950, 8217, 8950, 8950, 10000, 11500, 10295, 8137, 8295, 7695, 5500, 8000, 18495, 12099, 12096, 12096, 10103, 18495, 18495, 20495, 22367, 17994, 20993, 15880, 16990, 8990, 4490, 14175, 10892, 6995, 9675, 9275, 7495, 7995, 6995, 5995, 10995, 15990, 10290, 7290, 7490, 6795, 12990, 6698, 7298, 7698, 3698, 5998, 6999, 5999, 5499, 3895, 2895, 2695, 2995, 6995, 5498, 20000, 4250, 17490, 14990, 8990, 11250, 3695, 12495, 16000, 7780, 18000, 5295, 2095, 24500, 8790, 9290, 5290, 2250, 8990, 13421, 2350, 1850, 5995, 4995, 8995, 11500, 10000, 14350, 11500, 8450, 8750, 9650, 18900, 13650, 12250, 17250, 8500, 7500, 9250, 19000, 12990, 21500, 7900, 11400, 495, 17000, 9000, 8000, 8950, 12950, 9450, 8900, 17250, 9600, 14400, 13450, 10000, 10000, 11700, 9500, 12999, 10300, 9250, 9000, 11200, 18990, 8150, 10000, 8000, 7000, 19000, 14750, 12995, 18000, 16500, 6400, 11900, 12200, 1450, 4990, 4990, 5990, 11290, 9700, 9500, 6500, 21000, 19500, 11500, 10750, 13500, 17500, 15250, 15750, 11500, 13000, 4250, 9995, 5495, 13995, 4995, 10495, 4290, 9990, 11995, 13495, 7495, 8750, 7995, 12750, 2650, 5725, 5175, 4250, 11495, 15495, 15495, 15750, 8495, 8495, 8750, 12249, 33994, 10295, 9250, 12249, 12295, 10995, 15995, 5995, 10250, 9250, 11495, 5500, 33495, 15895, 11295, 16495, 18994, 16899, 24995, 11295, 11494, 7785, 8795, 7785, 7195, 9395, 30500, 18160, 17494, 22492, 15395, 15695, 9000, 22295, 14000, 17795, 9295, 8895, 3295, 9295, 6999, 6499, 8999, 8999, 8999, 9999, 18999, 5999, 10999, 12995, 5295, 7795, 8495, 12295, 10495, 24995, 12295, 12295, 5795, 10995, 9995, 4795, 4495, 11495, 10995, 5995, 15495, 795, 2998, 2479, 11995, 8995, 10895, 11995, 10995, 8795, 11295, 9695, 12145, 15295, 7000, 4895, 17295, 14295, 5685, 5485, 1885, 3485, 3485, 4985, 7985, 15495, 14450, 6790, 3690, 6490, 8975, 6995, 6995, 5495, 7995, 1995, 7500, 4150, 1990, 4490, 4490, 7490, 4690, 6750, 11750, 10895, 18195, 10495, 9100, 8580, 14280, 1795, 12695, 19000, 12695, 11495, 14950, 39995, 2950, 3495, 12250, 9695, 11000, 13500, 9495, 5495, 9999, 8499, 6999, 7499, 7499, 19000, 8990, 5395, 9295, 7390, 6490, 5490, 3690, 12495, 6995, 6995, 15695, 7495, 13495, 9995, 21995, 8995, 10495, 10490, 8490, 6495, 8995, 2750, 14400, 2175, 2250, 1999, 2275, 1799, 2499, 2375, 7695, 15995, 11900, 13695, 14995, 5995, 9975, 7438, 5990, 11890, 5490, 6990, 7995, 4995, 8295, 5995, 6995, 7995, 9995, 5495, 9995, 2750, 850, 2725, 2645, 1775, 3350, 999, 1999, 1999, 7495, 16500, 7000, 12000, 12000, 10500, 14500, 11000, 1449, 22000, 16000, 17000, 9000, 7000, 9000, 8000, 9500, 8500, 11000, 9500, 10000, 16000, 11000, 19500, 10000, 8000, 9600, 10000, 9500, 8000, 9000, 10300, 1695, 14500, 3990, 2500, 3500, 5500, 5000, 14000, 14000, 14000, 2595, 7000, 10000, 8995, 7495, 8495, 10995, 6995, 7495, 4890, 4195, 4195, 6494, 6495, 9750, 795, 3895, 5995, 17450, 2890, 3890, 3650, 6490, 4490, 13990, 2280, 4490, 5880, 10640, 1450, 5400, 4250, 2900, 3200, 1500, 3800, 10000, 10600, 12400, 9700, 8200, 12300, 11400, 20000, 10500, 10000, 4170, 2790, 10800, 11070, 6250, 8200, 10700, 13000, 6700, 9000, 10500, 9999, 9900, 11300, 10200, 10500, 6295, 2690, 2890, 4690, 19400, 10500, 10500, 9000, 7300, 13800, 7000, 2400, 11400, 13000, 8700, 8900, 13950, 12500, 9500, 12900, 7700, 9800, 6800, 11500, 8700, 9500, 8500, 9100, 8500, 9500, 10500, 15000, 9800, 17200, 2995, 11250, 9600, 10500, 18300, 10500, 11500, 15000, 2499, 6288, 8499, 11599, 7688, 5988, 9488, 4999, 7999, 6200, 10800, 9200, 12400, 14250, 9100, 8800, 8000, 5500, 16000, 7499, 9750, 9100, 14300, 6300, 9800, 9800, 10900, 13600, 13200, 11000, 13500, 13000, 10750, 10750, 9850, 11000, 11000, 6000, 19000, 8300, 9300, 12300, 8000, 8200, 16000, 7900, 11900, 8700, 17000, 7500, 9600, 5700, 9800, 16000, 13700, 8500, 8400, 14900, 7200, 17495, 7000, 8200, 8400, 8400, 11700, 9000, 8200, 8300, 8500, 9950, 9900, 15200, 11500, 9800, 9250, 14500, 10200, 9450, 9700, 8100, 8700, 16500, 11495, 11495, 12495, 6995, 9995, 15495, 10995, 11995, 13495, 8800, 9600, 8800, 8600, 13600, 11900, 7000, 7900, 9300, 8300, 11995, 16495, 9900, 9500, 13750, 7400, 12300, 11800, 9800, 13700, 9600, 7999, 9999, 9400, 8700, 8700, 15600, 7500, 9800, 10995, 19995, 11495, 13495, 14995, 7995, 18995, 9995, 9000, 8000, 7300, 13500, 9300, 8800, 10600, 12700, 14500, 10300, 10000, 10000, 10650, 7375, 6950, 8495, 6495, 10500, 2950, 11950, 10450, 8500, 8500, 11600, 6975, 5925, 8100, 3800, 3784, 4045, 4775, 8950, 9200, 9313, 10000, 17545, 17945, 15980, 9690, 14145, 14985, 17195, 16495, 10845, 6695, 3295, 5995, 16995, 17995, 12995, 13995, 14995, 12995, 12295, 10995, 8800, 8800, 19999, 17999, 9471, 8988, 10499, 14999, 17999, 7755, 9000, 9800, 9500, 9500, 8400, 9000, 11000, 11000, 12500, 19000, 18000, 12000, 5995, 7995, 7695, 7695, 4495, 2500, 2495, 12995, 7495, 7695, 12450, 2400, 8616, 7590, 8495, 11495, 16995, 5995, 12495, 5995, 5495, 9429, 4195, 1495, 2100, 4895, 2395, 2495, 4195, 2695, 2495, 13500, 16000, 19500, 16950, 17499, 12999, 11499, 11995, 10995, 8499, 16499, 10499, 19999, 12000, 10500, 19500, 12000, 11000, 5500, 9500, 7500, 16250, 6000, 5500, 12000, 9000, 16500, 10500, 11500, 10500, 17000, 10500, 22000, 13500, 14500, 25000, 9000, 11750, 13500, 17500, 18250, 18000, 25695, 11000, 11500, 16500, 14000, 11500, 12000, 11000, 15000, 17500, 17999, 19999, 4000, 17000, 10000, 9500, 22500, 11500, 12000, 15499, 24799, 19499, 16499, 14899, 11999, 20999, 17799, 17991, 20999, 8750, 10250, 7500, 7250, 12500, 30000, 13750, 14500, 16500, 15000, 14000, 15000, 6750, 8999, 16500, 16000, 11250, 9999, 17500, 10700, 8299, 9500, 15500, 8500, 9500, 14500, 16000, 21000, 15500, 16000, 4995, 15999, 10999, 48000, 9995, 25050, 10250, 10000, 11000, 7900, 10900, 12500, 19000, 15000, 6900, 20950, 14999, 13999, 14299, 12299, 13849, 17999, 13499, 15999, 10850, 9999, 17495, 25999, 14799, 7699, 9999, 10999, 11999, 15999, 10499, 19499, 16499, 7500, 15299, 16999, 24999, 10699, 12849, 15499, 9599, 15499, 16249, 9999, 11499, 21499, 10899, 18999, 10499, 16660, 13499, 18122, 13499, 16999, 7499, 18200, 10600, 11850, 17000, 13800, 14000, 7500, 18500, 18250, 12000, 18000, 11000, 18999, 13999, 9699, 17999, 8499, 15799, 21999, 17499, 8000, 8999, 18499, 15999, 8999, 17199, 16500, 16500, 17999, 15999, 9899, 7199, 16000, 12500, 14750, 7650, 13250, 9299, 7999, 8999, 7499, 9999, 8299], \"yaxis\": \"y\"}],\n",
              "                        {\"legend\": {\"tracegroupgap\": 0}, \"margin\": {\"t\": 60}, \"template\": {\"data\": {\"bar\": [{\"error_x\": {\"color\": \"#2a3f5f\"}, \"error_y\": {\"color\": \"#2a3f5f\"}, \"marker\": {\"line\": {\"color\": \"#E5ECF6\", \"width\": 0.5}}, \"type\": \"bar\"}], \"barpolar\": [{\"marker\": {\"line\": {\"color\": \"#E5ECF6\", \"width\": 0.5}}, \"type\": \"barpolar\"}], \"carpet\": [{\"aaxis\": {\"endlinecolor\": \"#2a3f5f\", \"gridcolor\": \"white\", \"linecolor\": \"white\", \"minorgridcolor\": \"white\", \"startlinecolor\": \"#2a3f5f\"}, \"baxis\": {\"endlinecolor\": \"#2a3f5f\", \"gridcolor\": \"white\", \"linecolor\": \"white\", \"minorgridcolor\": \"white\", \"startlinecolor\": \"#2a3f5f\"}, \"type\": \"carpet\"}], \"choropleth\": [{\"colorbar\": {\"outlinewidth\": 0, \"ticks\": \"\"}, \"type\": \"choropleth\"}], \"contour\": [{\"colorbar\": {\"outlinewidth\": 0, \"ticks\": \"\"}, \"colorscale\": [[0.0, \"#0d0887\"], [0.1111111111111111, \"#46039f\"], [0.2222222222222222, \"#7201a8\"], [0.3333333333333333, \"#9c179e\"], [0.4444444444444444, \"#bd3786\"], [0.5555555555555556, \"#d8576b\"], [0.6666666666666666, \"#ed7953\"], [0.7777777777777778, \"#fb9f3a\"], [0.8888888888888888, \"#fdca26\"], [1.0, \"#f0f921\"]], \"type\": \"contour\"}], \"contourcarpet\": [{\"colorbar\": {\"outlinewidth\": 0, \"ticks\": \"\"}, \"type\": \"contourcarpet\"}], \"heatmap\": [{\"colorbar\": {\"outlinewidth\": 0, \"ticks\": \"\"}, \"colorscale\": [[0.0, \"#0d0887\"], [0.1111111111111111, \"#46039f\"], [0.2222222222222222, \"#7201a8\"], [0.3333333333333333, \"#9c179e\"], [0.4444444444444444, \"#bd3786\"], [0.5555555555555556, \"#d8576b\"], [0.6666666666666666, \"#ed7953\"], [0.7777777777777778, \"#fb9f3a\"], [0.8888888888888888, \"#fdca26\"], [1.0, \"#f0f921\"]], \"type\": \"heatmap\"}], \"heatmapgl\": [{\"colorbar\": {\"outlinewidth\": 0, \"ticks\": \"\"}, \"colorscale\": [[0.0, \"#0d0887\"], [0.1111111111111111, \"#46039f\"], [0.2222222222222222, \"#7201a8\"], [0.3333333333333333, \"#9c179e\"], [0.4444444444444444, \"#bd3786\"], [0.5555555555555556, \"#d8576b\"], [0.6666666666666666, \"#ed7953\"], [0.7777777777777778, \"#fb9f3a\"], [0.8888888888888888, \"#fdca26\"], [1.0, \"#f0f921\"]], \"type\": \"heatmapgl\"}], \"histogram\": [{\"marker\": {\"colorbar\": {\"outlinewidth\": 0, \"ticks\": \"\"}}, \"type\": \"histogram\"}], \"histogram2d\": [{\"colorbar\": {\"outlinewidth\": 0, \"ticks\": \"\"}, \"colorscale\": [[0.0, \"#0d0887\"], [0.1111111111111111, \"#46039f\"], [0.2222222222222222, \"#7201a8\"], [0.3333333333333333, \"#9c179e\"], [0.4444444444444444, \"#bd3786\"], [0.5555555555555556, \"#d8576b\"], [0.6666666666666666, \"#ed7953\"], [0.7777777777777778, \"#fb9f3a\"], [0.8888888888888888, \"#fdca26\"], [1.0, \"#f0f921\"]], \"type\": \"histogram2d\"}], \"histogram2dcontour\": [{\"colorbar\": {\"outlinewidth\": 0, \"ticks\": \"\"}, \"colorscale\": [[0.0, \"#0d0887\"], [0.1111111111111111, \"#46039f\"], [0.2222222222222222, \"#7201a8\"], [0.3333333333333333, \"#9c179e\"], [0.4444444444444444, \"#bd3786\"], [0.5555555555555556, \"#d8576b\"], [0.6666666666666666, \"#ed7953\"], [0.7777777777777778, \"#fb9f3a\"], [0.8888888888888888, \"#fdca26\"], [1.0, \"#f0f921\"]], \"type\": \"histogram2dcontour\"}], \"mesh3d\": [{\"colorbar\": {\"outlinewidth\": 0, \"ticks\": \"\"}, \"type\": \"mesh3d\"}], \"parcoords\": [{\"line\": {\"colorbar\": {\"outlinewidth\": 0, \"ticks\": \"\"}}, \"type\": \"parcoords\"}], \"pie\": [{\"automargin\": true, \"type\": \"pie\"}], \"scatter\": [{\"marker\": {\"colorbar\": {\"outlinewidth\": 0, \"ticks\": \"\"}}, \"type\": \"scatter\"}], \"scatter3d\": [{\"line\": {\"colorbar\": {\"outlinewidth\": 0, \"ticks\": \"\"}}, \"marker\": {\"colorbar\": {\"outlinewidth\": 0, \"ticks\": \"\"}}, \"type\": \"scatter3d\"}], \"scattercarpet\": [{\"marker\": {\"colorbar\": {\"outlinewidth\": 0, \"ticks\": \"\"}}, \"type\": \"scattercarpet\"}], \"scattergeo\": [{\"marker\": {\"colorbar\": {\"outlinewidth\": 0, \"ticks\": \"\"}}, \"type\": \"scattergeo\"}], \"scattergl\": [{\"marker\": {\"colorbar\": {\"outlinewidth\": 0, \"ticks\": \"\"}}, \"type\": \"scattergl\"}], \"scattermapbox\": [{\"marker\": {\"colorbar\": {\"outlinewidth\": 0, \"ticks\": \"\"}}, \"type\": \"scattermapbox\"}], \"scatterpolar\": [{\"marker\": {\"colorbar\": {\"outlinewidth\": 0, \"ticks\": \"\"}}, \"type\": \"scatterpolar\"}], \"scatterpolargl\": [{\"marker\": {\"colorbar\": {\"outlinewidth\": 0, \"ticks\": \"\"}}, \"type\": \"scatterpolargl\"}], \"scatterternary\": [{\"marker\": {\"colorbar\": {\"outlinewidth\": 0, \"ticks\": \"\"}}, \"type\": \"scatterternary\"}], \"surface\": [{\"colorbar\": {\"outlinewidth\": 0, \"ticks\": \"\"}, \"colorscale\": [[0.0, \"#0d0887\"], [0.1111111111111111, \"#46039f\"], [0.2222222222222222, \"#7201a8\"], [0.3333333333333333, \"#9c179e\"], [0.4444444444444444, \"#bd3786\"], [0.5555555555555556, \"#d8576b\"], [0.6666666666666666, \"#ed7953\"], [0.7777777777777778, \"#fb9f3a\"], [0.8888888888888888, \"#fdca26\"], [1.0, \"#f0f921\"]], \"type\": \"surface\"}], \"table\": [{\"cells\": {\"fill\": {\"color\": \"#EBF0F8\"}, \"line\": {\"color\": \"white\"}}, \"header\": {\"fill\": {\"color\": \"#C8D4E3\"}, \"line\": {\"color\": \"white\"}}, \"type\": \"table\"}]}, \"layout\": {\"annotationdefaults\": {\"arrowcolor\": \"#2a3f5f\", \"arrowhead\": 0, \"arrowwidth\": 1}, \"coloraxis\": {\"colorbar\": {\"outlinewidth\": 0, \"ticks\": \"\"}}, \"colorscale\": {\"diverging\": [[0, \"#8e0152\"], [0.1, \"#c51b7d\"], [0.2, \"#de77ae\"], [0.3, \"#f1b6da\"], [0.4, \"#fde0ef\"], [0.5, \"#f7f7f7\"], [0.6, \"#e6f5d0\"], [0.7, \"#b8e186\"], [0.8, \"#7fbc41\"], [0.9, \"#4d9221\"], [1, \"#276419\"]], \"sequential\": [[0.0, \"#0d0887\"], [0.1111111111111111, \"#46039f\"], [0.2222222222222222, \"#7201a8\"], [0.3333333333333333, \"#9c179e\"], [0.4444444444444444, \"#bd3786\"], [0.5555555555555556, \"#d8576b\"], [0.6666666666666666, \"#ed7953\"], [0.7777777777777778, \"#fb9f3a\"], [0.8888888888888888, \"#fdca26\"], [1.0, \"#f0f921\"]], \"sequentialminus\": [[0.0, \"#0d0887\"], [0.1111111111111111, \"#46039f\"], [0.2222222222222222, \"#7201a8\"], [0.3333333333333333, \"#9c179e\"], [0.4444444444444444, \"#bd3786\"], [0.5555555555555556, \"#d8576b\"], [0.6666666666666666, \"#ed7953\"], [0.7777777777777778, \"#fb9f3a\"], [0.8888888888888888, \"#fdca26\"], [1.0, \"#f0f921\"]]}, \"colorway\": [\"#636efa\", \"#EF553B\", \"#00cc96\", \"#ab63fa\", \"#FFA15A\", \"#19d3f3\", \"#FF6692\", \"#B6E880\", \"#FF97FF\", \"#FECB52\"], \"font\": {\"color\": \"#2a3f5f\"}, \"geo\": {\"bgcolor\": \"white\", \"lakecolor\": \"white\", \"landcolor\": \"#E5ECF6\", \"showlakes\": true, \"showland\": true, \"subunitcolor\": \"white\"}, \"hoverlabel\": {\"align\": \"left\"}, \"hovermode\": \"closest\", \"mapbox\": {\"style\": \"light\"}, \"paper_bgcolor\": \"white\", \"plot_bgcolor\": \"#E5ECF6\", \"polar\": {\"angularaxis\": {\"gridcolor\": \"white\", \"linecolor\": \"white\", \"ticks\": \"\"}, \"bgcolor\": \"#E5ECF6\", \"radialaxis\": {\"gridcolor\": \"white\", \"linecolor\": \"white\", \"ticks\": \"\"}}, \"scene\": {\"xaxis\": {\"backgroundcolor\": \"#E5ECF6\", \"gridcolor\": \"white\", \"gridwidth\": 2, \"linecolor\": \"white\", \"showbackground\": true, \"ticks\": \"\", \"zerolinecolor\": \"white\"}, \"yaxis\": {\"backgroundcolor\": \"#E5ECF6\", \"gridcolor\": \"white\", \"gridwidth\": 2, \"linecolor\": \"white\", \"showbackground\": true, \"ticks\": \"\", \"zerolinecolor\": \"white\"}, \"zaxis\": {\"backgroundcolor\": \"#E5ECF6\", \"gridcolor\": \"white\", \"gridwidth\": 2, \"linecolor\": \"white\", \"showbackground\": true, \"ticks\": \"\", \"zerolinecolor\": \"white\"}}, \"shapedefaults\": {\"line\": {\"color\": \"#2a3f5f\"}}, \"ternary\": {\"aaxis\": {\"gridcolor\": \"white\", \"linecolor\": \"white\", \"ticks\": \"\"}, \"baxis\": {\"gridcolor\": \"white\", \"linecolor\": \"white\", \"ticks\": \"\"}, \"bgcolor\": \"#E5ECF6\", \"caxis\": {\"gridcolor\": \"white\", \"linecolor\": \"white\", \"ticks\": \"\"}}, \"title\": {\"x\": 0.05}, \"xaxis\": {\"automargin\": true, \"gridcolor\": \"white\", \"linecolor\": \"white\", \"ticks\": \"\", \"title\": {\"standoff\": 15}, \"zerolinecolor\": \"white\", \"zerolinewidth\": 2}, \"yaxis\": {\"automargin\": true, \"gridcolor\": \"white\", \"linecolor\": \"white\", \"ticks\": \"\", \"title\": {\"standoff\": 15}, \"zerolinecolor\": \"white\", \"zerolinewidth\": 2}}}, \"xaxis\": {\"anchor\": \"y\", \"domain\": [0.0, 1.0], \"title\": {\"text\": \"year\"}}, \"yaxis\": {\"anchor\": \"x\", \"domain\": [0.0, 1.0], \"title\": {\"text\": \"price\"}}},\n",
              "                        {\"responsive\": true}\n",
              "                    ).then(function(){\n",
              "                            \n",
              "var gd = document.getElementById('a83e67ed-c79e-4877-85ac-b977ea9fe478');\n",
              "var x = new MutationObserver(function (mutations, observer) {{\n",
              "        var display = window.getComputedStyle(gd).display;\n",
              "        if (!display || display === 'none') {{\n",
              "            console.log([gd, 'removed!']);\n",
              "            Plotly.purge(gd);\n",
              "            observer.disconnect();\n",
              "        }}\n",
              "}});\n",
              "\n",
              "// Listen for the removal of the full notebook cells\n",
              "var notebookContainer = gd.closest('#notebook-container');\n",
              "if (notebookContainer) {{\n",
              "    x.observe(notebookContainer, {childList: true});\n",
              "}}\n",
              "\n",
              "// Listen for the clearing of the current output cell\n",
              "var outputEl = gd.closest('.output');\n",
              "if (outputEl) {{\n",
              "    x.observe(outputEl, {childList: true});\n",
              "}}\n",
              "\n",
              "                        })\n",
              "                };\n",
              "                \n",
              "            </script>\n",
              "        </div>\n",
              "</body>\n",
              "</html>"
            ]
          },
          "metadata": {}
        }
      ]
    },
    {
      "cell_type": "code",
      "metadata": {
        "colab": {
          "base_uri": "https://localhost:8080/",
          "height": 362
        },
        "id": "P0OGZg01I07m",
        "outputId": "335732eb-f620-46df-c5ba-5f87caf4eeb7"
      },
      "source": [
        "# sort start from 10 low price\n",
        "data.sort_values('price', ascending=False).head(10)"
      ],
      "execution_count": 30,
      "outputs": [
        {
          "output_type": "execute_result",
          "data": {
            "text/html": [
              "\n",
              "  <div id=\"df-6f2f690e-ce83-4504-a73f-d6e501e06bb8\">\n",
              "    <div class=\"colab-df-container\">\n",
              "      <div>\n",
              "<style scoped>\n",
              "    .dataframe tbody tr th:only-of-type {\n",
              "        vertical-align: middle;\n",
              "    }\n",
              "\n",
              "    .dataframe tbody tr th {\n",
              "        vertical-align: top;\n",
              "    }\n",
              "\n",
              "    .dataframe thead th {\n",
              "        text-align: right;\n",
              "    }\n",
              "</style>\n",
              "<table border=\"1\" class=\"dataframe\">\n",
              "  <thead>\n",
              "    <tr style=\"text-align: right;\">\n",
              "      <th></th>\n",
              "      <th>model</th>\n",
              "      <th>year</th>\n",
              "      <th>price</th>\n",
              "      <th>transmission</th>\n",
              "      <th>mileage</th>\n",
              "      <th>fuelType</th>\n",
              "      <th>tax</th>\n",
              "      <th>mpg</th>\n",
              "      <th>engineSize</th>\n",
              "      <th>total</th>\n",
              "    </tr>\n",
              "  </thead>\n",
              "  <tbody>\n",
              "    <tr>\n",
              "      <th>11912</th>\n",
              "      <td>Focus</td>\n",
              "      <td>2018</td>\n",
              "      <td>54995</td>\n",
              "      <td>Manual</td>\n",
              "      <td>11000</td>\n",
              "      <td>Petrol</td>\n",
              "      <td>145</td>\n",
              "      <td>36.7</td>\n",
              "      <td>2.3</td>\n",
              "      <td></td>\n",
              "    </tr>\n",
              "    <tr>\n",
              "      <th>11913</th>\n",
              "      <td>Mustang</td>\n",
              "      <td>2017</td>\n",
              "      <td>49999</td>\n",
              "      <td>Manual</td>\n",
              "      <td>21575</td>\n",
              "      <td>Petrol</td>\n",
              "      <td>145</td>\n",
              "      <td>20.9</td>\n",
              "      <td>5.0</td>\n",
              "      <td></td>\n",
              "    </tr>\n",
              "    <tr>\n",
              "      <th>11910</th>\n",
              "      <td>Mustang</td>\n",
              "      <td>2017</td>\n",
              "      <td>48999</td>\n",
              "      <td>Automatic</td>\n",
              "      <td>7546</td>\n",
              "      <td>Petrol</td>\n",
              "      <td>145</td>\n",
              "      <td>23.5</td>\n",
              "      <td>5.0</td>\n",
              "      <td></td>\n",
              "    </tr>\n",
              "    <tr>\n",
              "      <th>17866</th>\n",
              "      <td>Mustang</td>\n",
              "      <td>2020</td>\n",
              "      <td>48000</td>\n",
              "      <td>Manual</td>\n",
              "      <td>50</td>\n",
              "      <td>Petrol</td>\n",
              "      <td>145</td>\n",
              "      <td>23.9</td>\n",
              "      <td>5.0</td>\n",
              "      <td></td>\n",
              "    </tr>\n",
              "    <tr>\n",
              "      <th>12613</th>\n",
              "      <td>Mustang</td>\n",
              "      <td>2019</td>\n",
              "      <td>45250</td>\n",
              "      <td>Automatic</td>\n",
              "      <td>2500</td>\n",
              "      <td>Petrol</td>\n",
              "      <td>145</td>\n",
              "      <td>22.1</td>\n",
              "      <td>5.0</td>\n",
              "      <td></td>\n",
              "    </tr>\n",
              "    <tr>\n",
              "      <th>10901</th>\n",
              "      <td>Mustang</td>\n",
              "      <td>2020</td>\n",
              "      <td>42999</td>\n",
              "      <td>Manual</td>\n",
              "      <td>10</td>\n",
              "      <td>Petrol</td>\n",
              "      <td>145</td>\n",
              "      <td>23.7</td>\n",
              "      <td>5.0</td>\n",
              "      <td></td>\n",
              "    </tr>\n",
              "    <tr>\n",
              "      <th>12996</th>\n",
              "      <td>Mustang</td>\n",
              "      <td>2019</td>\n",
              "      <td>42500</td>\n",
              "      <td>Automatic</td>\n",
              "      <td>226</td>\n",
              "      <td>Petrol</td>\n",
              "      <td>145</td>\n",
              "      <td>22.1</td>\n",
              "      <td>5.0</td>\n",
              "      <td></td>\n",
              "    </tr>\n",
              "    <tr>\n",
              "      <th>302</th>\n",
              "      <td>Mustang</td>\n",
              "      <td>2020</td>\n",
              "      <td>42489</td>\n",
              "      <td>Automatic</td>\n",
              "      <td>3500</td>\n",
              "      <td>Petrol</td>\n",
              "      <td>145</td>\n",
              "      <td>22.1</td>\n",
              "      <td>5.0</td>\n",
              "      <td></td>\n",
              "    </tr>\n",
              "    <tr>\n",
              "      <th>13431</th>\n",
              "      <td>Mustang</td>\n",
              "      <td>2019</td>\n",
              "      <td>42000</td>\n",
              "      <td>Semi-Auto</td>\n",
              "      <td>756</td>\n",
              "      <td>Petrol</td>\n",
              "      <td>150</td>\n",
              "      <td>22.6</td>\n",
              "      <td>5.0</td>\n",
              "      <td></td>\n",
              "    </tr>\n",
              "    <tr>\n",
              "      <th>12600</th>\n",
              "      <td>Mustang</td>\n",
              "      <td>2020</td>\n",
              "      <td>41000</td>\n",
              "      <td>Manual</td>\n",
              "      <td>100</td>\n",
              "      <td>Petrol</td>\n",
              "      <td>145</td>\n",
              "      <td>22.8</td>\n",
              "      <td>5.0</td>\n",
              "      <td></td>\n",
              "    </tr>\n",
              "  </tbody>\n",
              "</table>\n",
              "</div>\n",
              "      <button class=\"colab-df-convert\" onclick=\"convertToInteractive('df-6f2f690e-ce83-4504-a73f-d6e501e06bb8')\"\n",
              "              title=\"Convert this dataframe to an interactive table.\"\n",
              "              style=\"display:none;\">\n",
              "        \n",
              "  <svg xmlns=\"http://www.w3.org/2000/svg\" height=\"24px\"viewBox=\"0 0 24 24\"\n",
              "       width=\"24px\">\n",
              "    <path d=\"M0 0h24v24H0V0z\" fill=\"none\"/>\n",
              "    <path d=\"M18.56 5.44l.94 2.06.94-2.06 2.06-.94-2.06-.94-.94-2.06-.94 2.06-2.06.94zm-11 1L8.5 8.5l.94-2.06 2.06-.94-2.06-.94L8.5 2.5l-.94 2.06-2.06.94zm10 10l.94 2.06.94-2.06 2.06-.94-2.06-.94-.94-2.06-.94 2.06-2.06.94z\"/><path d=\"M17.41 7.96l-1.37-1.37c-.4-.4-.92-.59-1.43-.59-.52 0-1.04.2-1.43.59L10.3 9.45l-7.72 7.72c-.78.78-.78 2.05 0 2.83L4 21.41c.39.39.9.59 1.41.59.51 0 1.02-.2 1.41-.59l7.78-7.78 2.81-2.81c.8-.78.8-2.07 0-2.86zM5.41 20L4 18.59l7.72-7.72 1.47 1.35L5.41 20z\"/>\n",
              "  </svg>\n",
              "      </button>\n",
              "      \n",
              "  <style>\n",
              "    .colab-df-container {\n",
              "      display:flex;\n",
              "      flex-wrap:wrap;\n",
              "      gap: 12px;\n",
              "    }\n",
              "\n",
              "    .colab-df-convert {\n",
              "      background-color: #E8F0FE;\n",
              "      border: none;\n",
              "      border-radius: 50%;\n",
              "      cursor: pointer;\n",
              "      display: none;\n",
              "      fill: #1967D2;\n",
              "      height: 32px;\n",
              "      padding: 0 0 0 0;\n",
              "      width: 32px;\n",
              "    }\n",
              "\n",
              "    .colab-df-convert:hover {\n",
              "      background-color: #E2EBFA;\n",
              "      box-shadow: 0px 1px 2px rgba(60, 64, 67, 0.3), 0px 1px 3px 1px rgba(60, 64, 67, 0.15);\n",
              "      fill: #174EA6;\n",
              "    }\n",
              "\n",
              "    [theme=dark] .colab-df-convert {\n",
              "      background-color: #3B4455;\n",
              "      fill: #D2E3FC;\n",
              "    }\n",
              "\n",
              "    [theme=dark] .colab-df-convert:hover {\n",
              "      background-color: #434B5C;\n",
              "      box-shadow: 0px 1px 3px 1px rgba(0, 0, 0, 0.15);\n",
              "      filter: drop-shadow(0px 1px 2px rgba(0, 0, 0, 0.3));\n",
              "      fill: #FFFFFF;\n",
              "    }\n",
              "  </style>\n",
              "\n",
              "      <script>\n",
              "        const buttonEl =\n",
              "          document.querySelector('#df-6f2f690e-ce83-4504-a73f-d6e501e06bb8 button.colab-df-convert');\n",
              "        buttonEl.style.display =\n",
              "          google.colab.kernel.accessAllowed ? 'block' : 'none';\n",
              "\n",
              "        async function convertToInteractive(key) {\n",
              "          const element = document.querySelector('#df-6f2f690e-ce83-4504-a73f-d6e501e06bb8');\n",
              "          const dataTable =\n",
              "            await google.colab.kernel.invokeFunction('convertToInteractive',\n",
              "                                                     [key], {});\n",
              "          if (!dataTable) return;\n",
              "\n",
              "          const docLinkHtml = 'Like what you see? Visit the ' +\n",
              "            '<a target=\"_blank\" href=https://colab.research.google.com/notebooks/data_table.ipynb>data table notebook</a>'\n",
              "            + ' to learn more about interactive tables.';\n",
              "          element.innerHTML = '';\n",
              "          dataTable['output_type'] = 'display_data';\n",
              "          await google.colab.output.renderOutput(dataTable, element);\n",
              "          const docLink = document.createElement('div');\n",
              "          docLink.innerHTML = docLinkHtml;\n",
              "          element.appendChild(docLink);\n",
              "        }\n",
              "      </script>\n",
              "    </div>\n",
              "  </div>\n",
              "  "
            ],
            "text/plain": [
              "          model  year  price transmission  ...  tax   mpg  engineSize  total\n",
              "11912     Focus  2018  54995       Manual  ...  145  36.7         2.3       \n",
              "11913   Mustang  2017  49999       Manual  ...  145  20.9         5.0       \n",
              "11910   Mustang  2017  48999    Automatic  ...  145  23.5         5.0       \n",
              "17866   Mustang  2020  48000       Manual  ...  145  23.9         5.0       \n",
              "12613   Mustang  2019  45250    Automatic  ...  145  22.1         5.0       \n",
              "10901   Mustang  2020  42999       Manual  ...  145  23.7         5.0       \n",
              "12996   Mustang  2019  42500    Automatic  ...  145  22.1         5.0       \n",
              "302     Mustang  2020  42489    Automatic  ...  145  22.1         5.0       \n",
              "13431   Mustang  2019  42000    Semi-Auto  ...  150  22.6         5.0       \n",
              "12600   Mustang  2020  41000       Manual  ...  145  22.8         5.0       \n",
              "\n",
              "[10 rows x 10 columns]"
            ]
          },
          "metadata": {},
          "execution_count": 30
        }
      ]
    },
    {
      "cell_type": "code",
      "metadata": {
        "colab": {
          "base_uri": "https://localhost:8080/"
        },
        "id": "OMBNnZ-2alAx",
        "outputId": "c210094e-2efa-4323-c3f6-62c5604c26bf"
      },
      "source": [
        "# other model\n",
        "data['model'].value_counts()"
      ],
      "execution_count": 31,
      "outputs": [
        {
          "output_type": "execute_result",
          "data": {
            "text/plain": [
              " Fiesta                   6555\n",
              " Focus                    4588\n",
              " Kuga                     2225\n",
              " EcoSport                 1143\n",
              " C-MAX                     543\n",
              " Ka+                       531\n",
              " Mondeo                    526\n",
              " B-MAX                     355\n",
              " S-MAX                     296\n",
              " Grand C-MAX               247\n",
              " Galaxy                    228\n",
              " Edge                      208\n",
              " KA                        199\n",
              " Puma                       80\n",
              " Tourneo Custom             69\n",
              " Grand Tourneo Connect      59\n",
              " Mustang                    57\n",
              " Tourneo Connect            33\n",
              " Fusion                     16\n",
              " Streetka                    2\n",
              " Transit Tourneo             1\n",
              " Ranger                      1\n",
              "Name: model, dtype: int64"
            ]
          },
          "metadata": {},
          "execution_count": 31
        }
      ]
    },
    {
      "cell_type": "markdown",
      "metadata": {
        "id": "4esqfmoYWvTL"
      },
      "source": [
        "cek dimensi dataset ? terdapat 10668 baris dan 9 kolom"
      ]
    },
    {
      "cell_type": "code",
      "metadata": {
        "colab": {
          "base_uri": "https://localhost:8080/"
        },
        "id": "M8MInfNeBl2C",
        "outputId": "276469b5-52dd-4b93-a4f4-941725881082"
      },
      "source": [
        "data.shape"
      ],
      "execution_count": 32,
      "outputs": [
        {
          "output_type": "execute_result",
          "data": {
            "text/plain": [
              "(17962, 10)"
            ]
          },
          "metadata": {},
          "execution_count": 32
        }
      ]
    },
    {
      "cell_type": "markdown",
      "metadata": {
        "id": "zKxD1mgJW0zU"
      },
      "source": [
        "cek missing value, cek tipe data, dan cek atribut-atribut"
      ]
    },
    {
      "cell_type": "code",
      "metadata": {
        "colab": {
          "base_uri": "https://localhost:8080/"
        },
        "id": "GwHpoTOXAH6y",
        "outputId": "ea194f24-8755-418f-9915-058ded5ef29d"
      },
      "source": [
        "data.info()"
      ],
      "execution_count": 33,
      "outputs": [
        {
          "output_type": "stream",
          "name": "stdout",
          "text": [
            "<class 'pandas.core.frame.DataFrame'>\n",
            "Int64Index: 17962 entries, 0 to 17964\n",
            "Data columns (total 10 columns):\n",
            " #   Column        Non-Null Count  Dtype  \n",
            "---  ------        --------------  -----  \n",
            " 0   model         17962 non-null  object \n",
            " 1   year          17962 non-null  int64  \n",
            " 2   price         17962 non-null  int64  \n",
            " 3   transmission  17962 non-null  object \n",
            " 4   mileage       17962 non-null  int64  \n",
            " 5   fuelType      17962 non-null  object \n",
            " 6   tax           17962 non-null  int64  \n",
            " 7   mpg           17962 non-null  float64\n",
            " 8   engineSize    17962 non-null  float64\n",
            " 9   total         17962 non-null  object \n",
            "dtypes: float64(2), int64(4), object(4)\n",
            "memory usage: 1.5+ MB\n"
          ]
        }
      ]
    },
    {
      "cell_type": "code",
      "metadata": {
        "colab": {
          "base_uri": "https://localhost:8080/"
        },
        "id": "SuuOMQxgBIUv",
        "outputId": "60c26296-a4e7-40e2-fe12-d47b5f17ced3"
      },
      "source": [
        "data.isnull().sum()"
      ],
      "execution_count": 34,
      "outputs": [
        {
          "output_type": "execute_result",
          "data": {
            "text/plain": [
              "model           0\n",
              "year            0\n",
              "price           0\n",
              "transmission    0\n",
              "mileage         0\n",
              "fuelType        0\n",
              "tax             0\n",
              "mpg             0\n",
              "engineSize      0\n",
              "total           0\n",
              "dtype: int64"
            ]
          },
          "metadata": {},
          "execution_count": 34
        }
      ]
    },
    {
      "cell_type": "markdown",
      "metadata": {
        "id": "5cbFewsGXeG1"
      },
      "source": [
        "melihat ada berapa versi mobil audi "
      ]
    },
    {
      "cell_type": "code",
      "metadata": {
        "colab": {
          "base_uri": "https://localhost:8080/",
          "height": 777
        },
        "id": "eFRD4AmbXXzo",
        "outputId": "57a1805b-0290-457a-c3e6-e2310b35f3bd"
      },
      "source": [
        "data.groupby('year')['price','mileage','tax'].sum()"
      ],
      "execution_count": 35,
      "outputs": [
        {
          "output_type": "stream",
          "name": "stderr",
          "text": [
            "/usr/local/lib/python3.7/dist-packages/ipykernel_launcher.py:1: FutureWarning:\n",
            "\n",
            "Indexing with multiple keys (implicitly converted to a tuple of keys) will be deprecated, use a list instead.\n",
            "\n"
          ]
        },
        {
          "output_type": "execute_result",
          "data": {
            "text/html": [
              "\n",
              "  <div id=\"df-aaec1fed-cec5-49e6-b62b-1a914571cb39\">\n",
              "    <div class=\"colab-df-container\">\n",
              "      <div>\n",
              "<style scoped>\n",
              "    .dataframe tbody tr th:only-of-type {\n",
              "        vertical-align: middle;\n",
              "    }\n",
              "\n",
              "    .dataframe tbody tr th {\n",
              "        vertical-align: top;\n",
              "    }\n",
              "\n",
              "    .dataframe thead th {\n",
              "        text-align: right;\n",
              "    }\n",
              "</style>\n",
              "<table border=\"1\" class=\"dataframe\">\n",
              "  <thead>\n",
              "    <tr style=\"text-align: right;\">\n",
              "      <th></th>\n",
              "      <th>price</th>\n",
              "      <th>mileage</th>\n",
              "      <th>tax</th>\n",
              "    </tr>\n",
              "    <tr>\n",
              "      <th>year</th>\n",
              "      <th></th>\n",
              "      <th></th>\n",
              "      <th></th>\n",
              "    </tr>\n",
              "  </thead>\n",
              "  <tbody>\n",
              "    <tr>\n",
              "      <th>2000</th>\n",
              "      <td>1995</td>\n",
              "      <td>43000</td>\n",
              "      <td>160</td>\n",
              "    </tr>\n",
              "    <tr>\n",
              "      <th>2002</th>\n",
              "      <td>5785</td>\n",
              "      <td>313784</td>\n",
              "      <td>750</td>\n",
              "    </tr>\n",
              "    <tr>\n",
              "      <th>2003</th>\n",
              "      <td>6189</td>\n",
              "      <td>323338</td>\n",
              "      <td>725</td>\n",
              "    </tr>\n",
              "    <tr>\n",
              "      <th>2004</th>\n",
              "      <td>5744</td>\n",
              "      <td>333236</td>\n",
              "      <td>720</td>\n",
              "    </tr>\n",
              "    <tr>\n",
              "      <th>2005</th>\n",
              "      <td>25488</td>\n",
              "      <td>1394611</td>\n",
              "      <td>3425</td>\n",
              "    </tr>\n",
              "    <tr>\n",
              "      <th>2006</th>\n",
              "      <td>28634</td>\n",
              "      <td>1103466</td>\n",
              "      <td>2355</td>\n",
              "    </tr>\n",
              "    <tr>\n",
              "      <th>2007</th>\n",
              "      <td>83314</td>\n",
              "      <td>2690467</td>\n",
              "      <td>6680</td>\n",
              "    </tr>\n",
              "    <tr>\n",
              "      <th>2008</th>\n",
              "      <td>148137</td>\n",
              "      <td>4719652</td>\n",
              "      <td>10965</td>\n",
              "    </tr>\n",
              "    <tr>\n",
              "      <th>2009</th>\n",
              "      <td>338495</td>\n",
              "      <td>6820286</td>\n",
              "      <td>14840</td>\n",
              "    </tr>\n",
              "    <tr>\n",
              "      <th>2010</th>\n",
              "      <td>271903</td>\n",
              "      <td>5258175</td>\n",
              "      <td>8890</td>\n",
              "    </tr>\n",
              "    <tr>\n",
              "      <th>2011</th>\n",
              "      <td>472113</td>\n",
              "      <td>6600941</td>\n",
              "      <td>13445</td>\n",
              "    </tr>\n",
              "    <tr>\n",
              "      <th>2012</th>\n",
              "      <td>653307</td>\n",
              "      <td>7142504</td>\n",
              "      <td>12275</td>\n",
              "    </tr>\n",
              "    <tr>\n",
              "      <th>2013</th>\n",
              "      <td>4082700</td>\n",
              "      <td>29254983</td>\n",
              "      <td>38735</td>\n",
              "    </tr>\n",
              "    <tr>\n",
              "      <th>2014</th>\n",
              "      <td>6071209</td>\n",
              "      <td>33456262</td>\n",
              "      <td>51400</td>\n",
              "    </tr>\n",
              "    <tr>\n",
              "      <th>2015</th>\n",
              "      <td>11999756</td>\n",
              "      <td>53952960</td>\n",
              "      <td>84070</td>\n",
              "    </tr>\n",
              "    <tr>\n",
              "      <th>2016</th>\n",
              "      <td>24861674</td>\n",
              "      <td>69662231</td>\n",
              "      <td>152185</td>\n",
              "    </tr>\n",
              "    <tr>\n",
              "      <th>2017</th>\n",
              "      <td>58488292</td>\n",
              "      <td>110223529</td>\n",
              "      <td>545890</td>\n",
              "    </tr>\n",
              "    <tr>\n",
              "      <th>2018</th>\n",
              "      <td>52815789</td>\n",
              "      <td>63051085</td>\n",
              "      <td>585175</td>\n",
              "    </tr>\n",
              "    <tr>\n",
              "      <th>2019</th>\n",
              "      <td>54861579</td>\n",
              "      <td>22894061</td>\n",
              "      <td>465165</td>\n",
              "    </tr>\n",
              "    <tr>\n",
              "      <th>2020</th>\n",
              "      <td>5371527</td>\n",
              "      <td>347244</td>\n",
              "      <td>37575</td>\n",
              "    </tr>\n",
              "  </tbody>\n",
              "</table>\n",
              "</div>\n",
              "      <button class=\"colab-df-convert\" onclick=\"convertToInteractive('df-aaec1fed-cec5-49e6-b62b-1a914571cb39')\"\n",
              "              title=\"Convert this dataframe to an interactive table.\"\n",
              "              style=\"display:none;\">\n",
              "        \n",
              "  <svg xmlns=\"http://www.w3.org/2000/svg\" height=\"24px\"viewBox=\"0 0 24 24\"\n",
              "       width=\"24px\">\n",
              "    <path d=\"M0 0h24v24H0V0z\" fill=\"none\"/>\n",
              "    <path d=\"M18.56 5.44l.94 2.06.94-2.06 2.06-.94-2.06-.94-.94-2.06-.94 2.06-2.06.94zm-11 1L8.5 8.5l.94-2.06 2.06-.94-2.06-.94L8.5 2.5l-.94 2.06-2.06.94zm10 10l.94 2.06.94-2.06 2.06-.94-2.06-.94-.94-2.06-.94 2.06-2.06.94z\"/><path d=\"M17.41 7.96l-1.37-1.37c-.4-.4-.92-.59-1.43-.59-.52 0-1.04.2-1.43.59L10.3 9.45l-7.72 7.72c-.78.78-.78 2.05 0 2.83L4 21.41c.39.39.9.59 1.41.59.51 0 1.02-.2 1.41-.59l7.78-7.78 2.81-2.81c.8-.78.8-2.07 0-2.86zM5.41 20L4 18.59l7.72-7.72 1.47 1.35L5.41 20z\"/>\n",
              "  </svg>\n",
              "      </button>\n",
              "      \n",
              "  <style>\n",
              "    .colab-df-container {\n",
              "      display:flex;\n",
              "      flex-wrap:wrap;\n",
              "      gap: 12px;\n",
              "    }\n",
              "\n",
              "    .colab-df-convert {\n",
              "      background-color: #E8F0FE;\n",
              "      border: none;\n",
              "      border-radius: 50%;\n",
              "      cursor: pointer;\n",
              "      display: none;\n",
              "      fill: #1967D2;\n",
              "      height: 32px;\n",
              "      padding: 0 0 0 0;\n",
              "      width: 32px;\n",
              "    }\n",
              "\n",
              "    .colab-df-convert:hover {\n",
              "      background-color: #E2EBFA;\n",
              "      box-shadow: 0px 1px 2px rgba(60, 64, 67, 0.3), 0px 1px 3px 1px rgba(60, 64, 67, 0.15);\n",
              "      fill: #174EA6;\n",
              "    }\n",
              "\n",
              "    [theme=dark] .colab-df-convert {\n",
              "      background-color: #3B4455;\n",
              "      fill: #D2E3FC;\n",
              "    }\n",
              "\n",
              "    [theme=dark] .colab-df-convert:hover {\n",
              "      background-color: #434B5C;\n",
              "      box-shadow: 0px 1px 3px 1px rgba(0, 0, 0, 0.15);\n",
              "      filter: drop-shadow(0px 1px 2px rgba(0, 0, 0, 0.3));\n",
              "      fill: #FFFFFF;\n",
              "    }\n",
              "  </style>\n",
              "\n",
              "      <script>\n",
              "        const buttonEl =\n",
              "          document.querySelector('#df-aaec1fed-cec5-49e6-b62b-1a914571cb39 button.colab-df-convert');\n",
              "        buttonEl.style.display =\n",
              "          google.colab.kernel.accessAllowed ? 'block' : 'none';\n",
              "\n",
              "        async function convertToInteractive(key) {\n",
              "          const element = document.querySelector('#df-aaec1fed-cec5-49e6-b62b-1a914571cb39');\n",
              "          const dataTable =\n",
              "            await google.colab.kernel.invokeFunction('convertToInteractive',\n",
              "                                                     [key], {});\n",
              "          if (!dataTable) return;\n",
              "\n",
              "          const docLinkHtml = 'Like what you see? Visit the ' +\n",
              "            '<a target=\"_blank\" href=https://colab.research.google.com/notebooks/data_table.ipynb>data table notebook</a>'\n",
              "            + ' to learn more about interactive tables.';\n",
              "          element.innerHTML = '';\n",
              "          dataTable['output_type'] = 'display_data';\n",
              "          await google.colab.output.renderOutput(dataTable, element);\n",
              "          const docLink = document.createElement('div');\n",
              "          docLink.innerHTML = docLinkHtml;\n",
              "          element.appendChild(docLink);\n",
              "        }\n",
              "      </script>\n",
              "    </div>\n",
              "  </div>\n",
              "  "
            ],
            "text/plain": [
              "         price    mileage     tax\n",
              "year                             \n",
              "2000      1995      43000     160\n",
              "2002      5785     313784     750\n",
              "2003      6189     323338     725\n",
              "2004      5744     333236     720\n",
              "2005     25488    1394611    3425\n",
              "2006     28634    1103466    2355\n",
              "2007     83314    2690467    6680\n",
              "2008    148137    4719652   10965\n",
              "2009    338495    6820286   14840\n",
              "2010    271903    5258175    8890\n",
              "2011    472113    6600941   13445\n",
              "2012    653307    7142504   12275\n",
              "2013   4082700   29254983   38735\n",
              "2014   6071209   33456262   51400\n",
              "2015  11999756   53952960   84070\n",
              "2016  24861674   69662231  152185\n",
              "2017  58488292  110223529  545890\n",
              "2018  52815789   63051085  585175\n",
              "2019  54861579   22894061  465165\n",
              "2020   5371527     347244   37575"
            ]
          },
          "metadata": {},
          "execution_count": 35
        }
      ]
    },
    {
      "cell_type": "code",
      "metadata": {
        "colab": {
          "base_uri": "https://localhost:8080/"
        },
        "id": "FwU5zr7_BOA9",
        "outputId": "c77c2cbd-9528-490a-b507-828b6a2a1253"
      },
      "source": [
        "data['model'].value_counts().count()"
      ],
      "execution_count": 36,
      "outputs": [
        {
          "output_type": "execute_result",
          "data": {
            "text/plain": [
              "22"
            ]
          },
          "metadata": {},
          "execution_count": 36
        }
      ]
    },
    {
      "cell_type": "code",
      "metadata": {
        "colab": {
          "base_uri": "https://localhost:8080/"
        },
        "id": "NCa9hPbZTXqc",
        "outputId": "1d130074-7682-4c54-c841-36f4a35ada1b"
      },
      "source": [
        "data['mpg'].value_counts()"
      ],
      "execution_count": 37,
      "outputs": [
        {
          "output_type": "execute_result",
          "data": {
            "text/plain": [
              "65.7    2528\n",
              "54.3    1774\n",
              "60.1    1674\n",
              "64.2     995\n",
              "57.7     961\n",
              "        ... \n",
              "37.1       1\n",
              "28.0       1\n",
              "32.1       1\n",
              "69.0       1\n",
              "23.7       1\n",
              "Name: mpg, Length: 90, dtype: int64"
            ]
          },
          "metadata": {},
          "execution_count": 37
        }
      ]
    },
    {
      "cell_type": "code",
      "metadata": {
        "colab": {
          "base_uri": "https://localhost:8080/",
          "height": 300
        },
        "id": "ER0MA642ZE7e",
        "outputId": "846c49cf-cd3e-44c0-e855-32bfa9e7c479"
      },
      "source": [
        "data.describe()"
      ],
      "execution_count": 38,
      "outputs": [
        {
          "output_type": "execute_result",
          "data": {
            "text/html": [
              "\n",
              "  <div id=\"df-29dab5a0-fcee-4de4-a778-1f491dd48eb3\">\n",
              "    <div class=\"colab-df-container\">\n",
              "      <div>\n",
              "<style scoped>\n",
              "    .dataframe tbody tr th:only-of-type {\n",
              "        vertical-align: middle;\n",
              "    }\n",
              "\n",
              "    .dataframe tbody tr th {\n",
              "        vertical-align: top;\n",
              "    }\n",
              "\n",
              "    .dataframe thead th {\n",
              "        text-align: right;\n",
              "    }\n",
              "</style>\n",
              "<table border=\"1\" class=\"dataframe\">\n",
              "  <thead>\n",
              "    <tr style=\"text-align: right;\">\n",
              "      <th></th>\n",
              "      <th>year</th>\n",
              "      <th>price</th>\n",
              "      <th>mileage</th>\n",
              "      <th>tax</th>\n",
              "      <th>mpg</th>\n",
              "      <th>engineSize</th>\n",
              "    </tr>\n",
              "  </thead>\n",
              "  <tbody>\n",
              "    <tr>\n",
              "      <th>count</th>\n",
              "      <td>17962.000000</td>\n",
              "      <td>17962.000000</td>\n",
              "      <td>17962.000000</td>\n",
              "      <td>17962.000000</td>\n",
              "      <td>17962.000000</td>\n",
              "      <td>17962.000000</td>\n",
              "    </tr>\n",
              "    <tr>\n",
              "      <th>mean</th>\n",
              "      <td>2016.866385</td>\n",
              "      <td>12281.128493</td>\n",
              "      <td>23359.637847</td>\n",
              "      <td>113.318394</td>\n",
              "      <td>57.910055</td>\n",
              "      <td>1.350807</td>\n",
              "    </tr>\n",
              "    <tr>\n",
              "      <th>std</th>\n",
              "      <td>2.014193</td>\n",
              "      <td>4740.537299</td>\n",
              "      <td>19471.046822</td>\n",
              "      <td>62.000538</td>\n",
              "      <td>10.123936</td>\n",
              "      <td>0.432393</td>\n",
              "    </tr>\n",
              "    <tr>\n",
              "      <th>min</th>\n",
              "      <td>2000.000000</td>\n",
              "      <td>495.000000</td>\n",
              "      <td>1.000000</td>\n",
              "      <td>0.000000</td>\n",
              "      <td>20.800000</td>\n",
              "      <td>0.000000</td>\n",
              "    </tr>\n",
              "    <tr>\n",
              "      <th>25%</th>\n",
              "      <td>2016.000000</td>\n",
              "      <td>8999.000000</td>\n",
              "      <td>9987.000000</td>\n",
              "      <td>30.000000</td>\n",
              "      <td>52.300000</td>\n",
              "      <td>1.000000</td>\n",
              "    </tr>\n",
              "    <tr>\n",
              "      <th>50%</th>\n",
              "      <td>2017.000000</td>\n",
              "      <td>11291.000000</td>\n",
              "      <td>18241.000000</td>\n",
              "      <td>145.000000</td>\n",
              "      <td>58.900000</td>\n",
              "      <td>1.200000</td>\n",
              "    </tr>\n",
              "    <tr>\n",
              "      <th>75%</th>\n",
              "      <td>2018.000000</td>\n",
              "      <td>15299.000000</td>\n",
              "      <td>31042.000000</td>\n",
              "      <td>145.000000</td>\n",
              "      <td>65.700000</td>\n",
              "      <td>1.500000</td>\n",
              "    </tr>\n",
              "    <tr>\n",
              "      <th>max</th>\n",
              "      <td>2020.000000</td>\n",
              "      <td>54995.000000</td>\n",
              "      <td>177644.000000</td>\n",
              "      <td>580.000000</td>\n",
              "      <td>201.800000</td>\n",
              "      <td>5.000000</td>\n",
              "    </tr>\n",
              "  </tbody>\n",
              "</table>\n",
              "</div>\n",
              "      <button class=\"colab-df-convert\" onclick=\"convertToInteractive('df-29dab5a0-fcee-4de4-a778-1f491dd48eb3')\"\n",
              "              title=\"Convert this dataframe to an interactive table.\"\n",
              "              style=\"display:none;\">\n",
              "        \n",
              "  <svg xmlns=\"http://www.w3.org/2000/svg\" height=\"24px\"viewBox=\"0 0 24 24\"\n",
              "       width=\"24px\">\n",
              "    <path d=\"M0 0h24v24H0V0z\" fill=\"none\"/>\n",
              "    <path d=\"M18.56 5.44l.94 2.06.94-2.06 2.06-.94-2.06-.94-.94-2.06-.94 2.06-2.06.94zm-11 1L8.5 8.5l.94-2.06 2.06-.94-2.06-.94L8.5 2.5l-.94 2.06-2.06.94zm10 10l.94 2.06.94-2.06 2.06-.94-2.06-.94-.94-2.06-.94 2.06-2.06.94z\"/><path d=\"M17.41 7.96l-1.37-1.37c-.4-.4-.92-.59-1.43-.59-.52 0-1.04.2-1.43.59L10.3 9.45l-7.72 7.72c-.78.78-.78 2.05 0 2.83L4 21.41c.39.39.9.59 1.41.59.51 0 1.02-.2 1.41-.59l7.78-7.78 2.81-2.81c.8-.78.8-2.07 0-2.86zM5.41 20L4 18.59l7.72-7.72 1.47 1.35L5.41 20z\"/>\n",
              "  </svg>\n",
              "      </button>\n",
              "      \n",
              "  <style>\n",
              "    .colab-df-container {\n",
              "      display:flex;\n",
              "      flex-wrap:wrap;\n",
              "      gap: 12px;\n",
              "    }\n",
              "\n",
              "    .colab-df-convert {\n",
              "      background-color: #E8F0FE;\n",
              "      border: none;\n",
              "      border-radius: 50%;\n",
              "      cursor: pointer;\n",
              "      display: none;\n",
              "      fill: #1967D2;\n",
              "      height: 32px;\n",
              "      padding: 0 0 0 0;\n",
              "      width: 32px;\n",
              "    }\n",
              "\n",
              "    .colab-df-convert:hover {\n",
              "      background-color: #E2EBFA;\n",
              "      box-shadow: 0px 1px 2px rgba(60, 64, 67, 0.3), 0px 1px 3px 1px rgba(60, 64, 67, 0.15);\n",
              "      fill: #174EA6;\n",
              "    }\n",
              "\n",
              "    [theme=dark] .colab-df-convert {\n",
              "      background-color: #3B4455;\n",
              "      fill: #D2E3FC;\n",
              "    }\n",
              "\n",
              "    [theme=dark] .colab-df-convert:hover {\n",
              "      background-color: #434B5C;\n",
              "      box-shadow: 0px 1px 3px 1px rgba(0, 0, 0, 0.15);\n",
              "      filter: drop-shadow(0px 1px 2px rgba(0, 0, 0, 0.3));\n",
              "      fill: #FFFFFF;\n",
              "    }\n",
              "  </style>\n",
              "\n",
              "      <script>\n",
              "        const buttonEl =\n",
              "          document.querySelector('#df-29dab5a0-fcee-4de4-a778-1f491dd48eb3 button.colab-df-convert');\n",
              "        buttonEl.style.display =\n",
              "          google.colab.kernel.accessAllowed ? 'block' : 'none';\n",
              "\n",
              "        async function convertToInteractive(key) {\n",
              "          const element = document.querySelector('#df-29dab5a0-fcee-4de4-a778-1f491dd48eb3');\n",
              "          const dataTable =\n",
              "            await google.colab.kernel.invokeFunction('convertToInteractive',\n",
              "                                                     [key], {});\n",
              "          if (!dataTable) return;\n",
              "\n",
              "          const docLinkHtml = 'Like what you see? Visit the ' +\n",
              "            '<a target=\"_blank\" href=https://colab.research.google.com/notebooks/data_table.ipynb>data table notebook</a>'\n",
              "            + ' to learn more about interactive tables.';\n",
              "          element.innerHTML = '';\n",
              "          dataTable['output_type'] = 'display_data';\n",
              "          await google.colab.output.renderOutput(dataTable, element);\n",
              "          const docLink = document.createElement('div');\n",
              "          docLink.innerHTML = docLinkHtml;\n",
              "          element.appendChild(docLink);\n",
              "        }\n",
              "      </script>\n",
              "    </div>\n",
              "  </div>\n",
              "  "
            ],
            "text/plain": [
              "               year         price  ...           mpg    engineSize\n",
              "count  17962.000000  17962.000000  ...  17962.000000  17962.000000\n",
              "mean    2016.866385  12281.128493  ...     57.910055      1.350807\n",
              "std        2.014193   4740.537299  ...     10.123936      0.432393\n",
              "min     2000.000000    495.000000  ...     20.800000      0.000000\n",
              "25%     2016.000000   8999.000000  ...     52.300000      1.000000\n",
              "50%     2017.000000  11291.000000  ...     58.900000      1.200000\n",
              "75%     2018.000000  15299.000000  ...     65.700000      1.500000\n",
              "max     2020.000000  54995.000000  ...    201.800000      5.000000\n",
              "\n",
              "[8 rows x 6 columns]"
            ]
          },
          "metadata": {},
          "execution_count": 38
        }
      ]
    },
    {
      "cell_type": "code",
      "metadata": {
        "colab": {
          "base_uri": "https://localhost:8080/",
          "height": 296
        },
        "id": "DvEYAg8cHLLm",
        "outputId": "de00ef36-d07d-469d-ebec-b69f5fd48ea8"
      },
      "source": [
        "sns.histplot(data['price'], bins=30)"
      ],
      "execution_count": 39,
      "outputs": [
        {
          "output_type": "execute_result",
          "data": {
            "text/plain": [
              "<matplotlib.axes._subplots.AxesSubplot at 0x7f56ae5c3850>"
            ]
          },
          "metadata": {},
          "execution_count": 39
        },
        {
          "output_type": "display_data",
          "data": {
            "image/png": "[encoded data removed]",
            "text/plain": [
              "<Figure size 432x288 with 1 Axes>"
            ]
          },
          "metadata": {
            "needs_background": "light"
          }
        }
      ]
    },
    {
      "cell_type": "markdown",
      "metadata": {
        "id": "rp4kyiYgS2R7"
      },
      "source": [
        "- price/harga dengan rata - rata paling banyak di jual di pasaran US yaitu terdapat pada mobil dengan harga 10000 "
      ]
    },
    {
      "cell_type": "code",
      "metadata": {
        "id": "noVeLPLAJuc5"
      },
      "source": [
        "def plot_numerical(feature):\n",
        "    ax = sns.lmplot(x=feature, y='price', data=data)\n",
        "    ax.set_xticklabels(rotation=85)\n",
        "    plt.show()\n",
        "    \n",
        "def plot_categorical(feature, figsize=None):\n",
        "    df = data.groupby([feature])['price'].describe()[['mean', '50%', 'min', 'count']]\n",
        "\n",
        "    labels = df.index.values\n",
        "    x = np.arange(len(labels))\n",
        "    width = 0.9\n",
        "    fig, ax1 = plt.subplots(figsize=(12, 5))\n",
        "\n",
        "    # plot bars for min, median and mean cars price\n",
        "    rects1 = ax1.bar(x-width/2, df['50%'], width/3, label='median')\n",
        "    rects2 = ax1.bar(x-width/6, df['mean'], width/3, label='mean')\n",
        "    rects3 = ax1.bar(x+width/6, df['min'], width/3, label='min')\n",
        "\n",
        "    ax1.set_ylabel('price', fontsize=15)\n",
        "    ax1.set_title(feature, fontsize=18)\n",
        "    ax1.set_xticks(x)\n",
        "    ax1.set_xticklabels(labels, rotation=85)\n",
        "    ax1.legend()\n",
        "\n",
        "    # plot counts of data points\n",
        "    ax2 = ax1.twinx()\n",
        "    ax2.set_ylabel('Counts', fontsize=15)\n",
        "    ax2.plot(x-width/2, df['count'], color='red', linestyle='dashed')\n",
        "\n",
        "    # annotate counts of data points\n",
        "    for i, rect in enumerate(rects2):\n",
        "        height = int(round(rect.get_height()))\n",
        "        ax1.annotate('{}'.format(int(df['count'].iloc[i])),\n",
        "                     xy=(rect.get_x() + rect.get_width()/2, height),\n",
        "                     xytext=(0, 3), textcoords=\"offset points\",\n",
        "                     ha='center', va='bottom', color='red')\n",
        "    plt.show()"
      ],
      "execution_count": 40,
      "outputs": []
    },
    {
      "cell_type": "code",
      "metadata": {
        "colab": {
          "base_uri": "https://localhost:8080/",
          "height": 1000
        },
        "id": "23udJtM2Jv6S",
        "outputId": "cc4f9d09-a9d8-4477-e859-7e53ac75ef49"
      },
      "source": [
        "for feature in ['model','transmission', 'fuelType']:\n",
        "    plot_categorical(feature)"
      ],
      "execution_count": 41,
      "outputs": [
        {
          "output_type": "display_data",
          "data": {
            "image/png": "[encoded data removed]",
            "text/plain": [
              "<Figure size 864x360 with 2 Axes>"
            ]
          },
          "metadata": {
            "needs_background": "light"
          }
        },
        {
          "output_type": "display_data",
          "data": {
            "image/png": "[encoded data removed]",
            "text/plain": [
              "<Figure size 864x360 with 2 Axes>"
            ]
          },
          "metadata": {
            "needs_background": "light"
          }
        },
        {
          "output_type": "display_data",
          "data": {
            "image/png": "[encoded data removed]",
            "text/plain": [
              "<Figure size 864x360 with 2 Axes>"
            ]
          },
          "metadata": {
            "needs_background": "light"
          }
        }
      ]
    },
    {
      "cell_type": "markdown",
      "metadata": {
        "id": "5UgJqFvVBK0e"
      },
      "source": [
        "# Analysis and Data Prerocessing"
      ]
    },
    {
      "cell_type": "code",
      "metadata": {
        "id": "5cJ0eVnd_i_2"
      },
      "source": [
        "from sklearn import preprocessing\n",
        "\n",
        "encode = preprocessing.LabelEncoder()\n",
        "\n",
        "encode.fit(data.transmission.drop_duplicates())\n",
        "data.transmission = encode.transform(data.transmission)\n",
        "\n",
        "encode.fit(data.fuelType.drop_duplicates())\n",
        "data.fuelType = encode.transform(data.fuelType)\n",
        "\n",
        "encode.fit(data.model.drop_duplicates())\n",
        "data.model = encode.transform(data.model)"
      ],
      "execution_count": 42,
      "outputs": []
    },
    {
      "cell_type": "code",
      "metadata": {
        "colab": {
          "base_uri": "https://localhost:8080/"
        },
        "id": "YcTCSuZMAelP",
        "outputId": "403be712-bd40-40da-e4f5-fae61b643de9"
      },
      "source": [
        "data.info()"
      ],
      "execution_count": 43,
      "outputs": [
        {
          "output_type": "stream",
          "name": "stdout",
          "text": [
            "<class 'pandas.core.frame.DataFrame'>\n",
            "Int64Index: 17962 entries, 0 to 17964\n",
            "Data columns (total 10 columns):\n",
            " #   Column        Non-Null Count  Dtype  \n",
            "---  ------        --------------  -----  \n",
            " 0   model         17962 non-null  int64  \n",
            " 1   year          17962 non-null  int64  \n",
            " 2   price         17962 non-null  int64  \n",
            " 3   transmission  17962 non-null  int64  \n",
            " 4   mileage       17962 non-null  int64  \n",
            " 5   fuelType      17962 non-null  int64  \n",
            " 6   tax           17962 non-null  int64  \n",
            " 7   mpg           17962 non-null  float64\n",
            " 8   engineSize    17962 non-null  float64\n",
            " 9   total         17962 non-null  object \n",
            "dtypes: float64(2), int64(7), object(1)\n",
            "memory usage: 1.5+ MB\n"
          ]
        }
      ]
    },
    {
      "cell_type": "code",
      "metadata": {
        "colab": {
          "base_uri": "https://localhost:8080/",
          "height": 424
        },
        "id": "MsqLC3CftKrt",
        "outputId": "7ceab4a7-9335-4231-dfab-6143e002a899"
      },
      "source": [
        "data"
      ],
      "execution_count": 44,
      "outputs": [
        {
          "output_type": "execute_result",
          "data": {
            "text/html": [
              "\n",
              "  <div id=\"df-9ffd7078-46e0-4637-9758-50f1a96c036b\">\n",
              "    <div class=\"colab-df-container\">\n",
              "      <div>\n",
              "<style scoped>\n",
              "    .dataframe tbody tr th:only-of-type {\n",
              "        vertical-align: middle;\n",
              "    }\n",
              "\n",
              "    .dataframe tbody tr th {\n",
              "        vertical-align: top;\n",
              "    }\n",
              "\n",
              "    .dataframe thead th {\n",
              "        text-align: right;\n",
              "    }\n",
              "</style>\n",
              "<table border=\"1\" class=\"dataframe\">\n",
              "  <thead>\n",
              "    <tr style=\"text-align: right;\">\n",
              "      <th></th>\n",
              "      <th>model</th>\n",
              "      <th>year</th>\n",
              "      <th>price</th>\n",
              "      <th>transmission</th>\n",
              "      <th>mileage</th>\n",
              "      <th>fuelType</th>\n",
              "      <th>tax</th>\n",
              "      <th>mpg</th>\n",
              "      <th>engineSize</th>\n",
              "      <th>total</th>\n",
              "    </tr>\n",
              "  </thead>\n",
              "  <tbody>\n",
              "    <tr>\n",
              "      <th>0</th>\n",
              "      <td>4</td>\n",
              "      <td>2017</td>\n",
              "      <td>12000</td>\n",
              "      <td>0</td>\n",
              "      <td>15944</td>\n",
              "      <td>4</td>\n",
              "      <td>150</td>\n",
              "      <td>57.7</td>\n",
              "      <td>1.0</td>\n",
              "      <td></td>\n",
              "    </tr>\n",
              "    <tr>\n",
              "      <th>1</th>\n",
              "      <td>5</td>\n",
              "      <td>2018</td>\n",
              "      <td>14000</td>\n",
              "      <td>1</td>\n",
              "      <td>9083</td>\n",
              "      <td>4</td>\n",
              "      <td>150</td>\n",
              "      <td>57.7</td>\n",
              "      <td>1.0</td>\n",
              "      <td></td>\n",
              "    </tr>\n",
              "    <tr>\n",
              "      <th>2</th>\n",
              "      <td>5</td>\n",
              "      <td>2017</td>\n",
              "      <td>13000</td>\n",
              "      <td>1</td>\n",
              "      <td>12456</td>\n",
              "      <td>4</td>\n",
              "      <td>150</td>\n",
              "      <td>57.7</td>\n",
              "      <td>1.0</td>\n",
              "      <td></td>\n",
              "    </tr>\n",
              "    <tr>\n",
              "      <th>3</th>\n",
              "      <td>4</td>\n",
              "      <td>2019</td>\n",
              "      <td>17500</td>\n",
              "      <td>1</td>\n",
              "      <td>10460</td>\n",
              "      <td>4</td>\n",
              "      <td>145</td>\n",
              "      <td>40.3</td>\n",
              "      <td>1.5</td>\n",
              "      <td></td>\n",
              "    </tr>\n",
              "    <tr>\n",
              "      <th>4</th>\n",
              "      <td>4</td>\n",
              "      <td>2019</td>\n",
              "      <td>16500</td>\n",
              "      <td>0</td>\n",
              "      <td>1482</td>\n",
              "      <td>4</td>\n",
              "      <td>145</td>\n",
              "      <td>48.7</td>\n",
              "      <td>1.0</td>\n",
              "      <td></td>\n",
              "    </tr>\n",
              "    <tr>\n",
              "      <th>...</th>\n",
              "      <td>...</td>\n",
              "      <td>...</td>\n",
              "      <td>...</td>\n",
              "      <td>...</td>\n",
              "      <td>...</td>\n",
              "      <td>...</td>\n",
              "      <td>...</td>\n",
              "      <td>...</td>\n",
              "      <td>...</td>\n",
              "      <td>...</td>\n",
              "    </tr>\n",
              "    <tr>\n",
              "      <th>17960</th>\n",
              "      <td>4</td>\n",
              "      <td>2016</td>\n",
              "      <td>7999</td>\n",
              "      <td>1</td>\n",
              "      <td>31348</td>\n",
              "      <td>4</td>\n",
              "      <td>125</td>\n",
              "      <td>54.3</td>\n",
              "      <td>1.2</td>\n",
              "      <td></td>\n",
              "    </tr>\n",
              "    <tr>\n",
              "      <th>17961</th>\n",
              "      <td>0</td>\n",
              "      <td>2017</td>\n",
              "      <td>8999</td>\n",
              "      <td>1</td>\n",
              "      <td>16700</td>\n",
              "      <td>4</td>\n",
              "      <td>150</td>\n",
              "      <td>47.1</td>\n",
              "      <td>1.4</td>\n",
              "      <td></td>\n",
              "    </tr>\n",
              "    <tr>\n",
              "      <th>17962</th>\n",
              "      <td>0</td>\n",
              "      <td>2014</td>\n",
              "      <td>7499</td>\n",
              "      <td>1</td>\n",
              "      <td>40700</td>\n",
              "      <td>4</td>\n",
              "      <td>30</td>\n",
              "      <td>57.7</td>\n",
              "      <td>1.0</td>\n",
              "      <td></td>\n",
              "    </tr>\n",
              "    <tr>\n",
              "      <th>17963</th>\n",
              "      <td>5</td>\n",
              "      <td>2015</td>\n",
              "      <td>9999</td>\n",
              "      <td>1</td>\n",
              "      <td>7010</td>\n",
              "      <td>0</td>\n",
              "      <td>20</td>\n",
              "      <td>67.3</td>\n",
              "      <td>1.6</td>\n",
              "      <td></td>\n",
              "    </tr>\n",
              "    <tr>\n",
              "      <th>17964</th>\n",
              "      <td>10</td>\n",
              "      <td>2018</td>\n",
              "      <td>8299</td>\n",
              "      <td>1</td>\n",
              "      <td>5007</td>\n",
              "      <td>4</td>\n",
              "      <td>145</td>\n",
              "      <td>57.7</td>\n",
              "      <td>1.2</td>\n",
              "      <td></td>\n",
              "    </tr>\n",
              "  </tbody>\n",
              "</table>\n",
              "<p>17962 rows × 10 columns</p>\n",
              "</div>\n",
              "      <button class=\"colab-df-convert\" onclick=\"convertToInteractive('df-9ffd7078-46e0-4637-9758-50f1a96c036b')\"\n",
              "              title=\"Convert this dataframe to an interactive table.\"\n",
              "              style=\"display:none;\">\n",
              "        \n",
              "  <svg xmlns=\"http://www.w3.org/2000/svg\" height=\"24px\"viewBox=\"0 0 24 24\"\n",
              "       width=\"24px\">\n",
              "    <path d=\"M0 0h24v24H0V0z\" fill=\"none\"/>\n",
              "    <path d=\"M18.56 5.44l.94 2.06.94-2.06 2.06-.94-2.06-.94-.94-2.06-.94 2.06-2.06.94zm-11 1L8.5 8.5l.94-2.06 2.06-.94-2.06-.94L8.5 2.5l-.94 2.06-2.06.94zm10 10l.94 2.06.94-2.06 2.06-.94-2.06-.94-.94-2.06-.94 2.06-2.06.94z\"/><path d=\"M17.41 7.96l-1.37-1.37c-.4-.4-.92-.59-1.43-.59-.52 0-1.04.2-1.43.59L10.3 9.45l-7.72 7.72c-.78.78-.78 2.05 0 2.83L4 21.41c.39.39.9.59 1.41.59.51 0 1.02-.2 1.41-.59l7.78-7.78 2.81-2.81c.8-.78.8-2.07 0-2.86zM5.41 20L4 18.59l7.72-7.72 1.47 1.35L5.41 20z\"/>\n",
              "  </svg>\n",
              "      </button>\n",
              "      \n",
              "  <style>\n",
              "    .colab-df-container {\n",
              "      display:flex;\n",
              "      flex-wrap:wrap;\n",
              "      gap: 12px;\n",
              "    }\n",
              "\n",
              "    .colab-df-convert {\n",
              "      background-color: #E8F0FE;\n",
              "      border: none;\n",
              "      border-radius: 50%;\n",
              "      cursor: pointer;\n",
              "      display: none;\n",
              "      fill: #1967D2;\n",
              "      height: 32px;\n",
              "      padding: 0 0 0 0;\n",
              "      width: 32px;\n",
              "    }\n",
              "\n",
              "    .colab-df-convert:hover {\n",
              "      background-color: #E2EBFA;\n",
              "      box-shadow: 0px 1px 2px rgba(60, 64, 67, 0.3), 0px 1px 3px 1px rgba(60, 64, 67, 0.15);\n",
              "      fill: #174EA6;\n",
              "    }\n",
              "\n",
              "    [theme=dark] .colab-df-convert {\n",
              "      background-color: #3B4455;\n",
              "      fill: #D2E3FC;\n",
              "    }\n",
              "\n",
              "    [theme=dark] .colab-df-convert:hover {\n",
              "      background-color: #434B5C;\n",
              "      box-shadow: 0px 1px 3px 1px rgba(0, 0, 0, 0.15);\n",
              "      filter: drop-shadow(0px 1px 2px rgba(0, 0, 0, 0.3));\n",
              "      fill: #FFFFFF;\n",
              "    }\n",
              "  </style>\n",
              "\n",
              "      <script>\n",
              "        const buttonEl =\n",
              "          document.querySelector('#df-9ffd7078-46e0-4637-9758-50f1a96c036b button.colab-df-convert');\n",
              "        buttonEl.style.display =\n",
              "          google.colab.kernel.accessAllowed ? 'block' : 'none';\n",
              "\n",
              "        async function convertToInteractive(key) {\n",
              "          const element = document.querySelector('#df-9ffd7078-46e0-4637-9758-50f1a96c036b');\n",
              "          const dataTable =\n",
              "            await google.colab.kernel.invokeFunction('convertToInteractive',\n",
              "                                                     [key], {});\n",
              "          if (!dataTable) return;\n",
              "\n",
              "          const docLinkHtml = 'Like what you see? Visit the ' +\n",
              "            '<a target=\"_blank\" href=https://colab.research.google.com/notebooks/data_table.ipynb>data table notebook</a>'\n",
              "            + ' to learn more about interactive tables.';\n",
              "          element.innerHTML = '';\n",
              "          dataTable['output_type'] = 'display_data';\n",
              "          await google.colab.output.renderOutput(dataTable, element);\n",
              "          const docLink = document.createElement('div');\n",
              "          docLink.innerHTML = docLinkHtml;\n",
              "          element.appendChild(docLink);\n",
              "        }\n",
              "      </script>\n",
              "    </div>\n",
              "  </div>\n",
              "  "
            ],
            "text/plain": [
              "       model  year  price  transmission  ...  tax   mpg  engineSize  total\n",
              "0          4  2017  12000             0  ...  150  57.7         1.0       \n",
              "1          5  2018  14000             1  ...  150  57.7         1.0       \n",
              "2          5  2017  13000             1  ...  150  57.7         1.0       \n",
              "3          4  2019  17500             1  ...  145  40.3         1.5       \n",
              "4          4  2019  16500             0  ...  145  48.7         1.0       \n",
              "...      ...   ...    ...           ...  ...  ...   ...         ...    ...\n",
              "17960      4  2016   7999             1  ...  125  54.3         1.2       \n",
              "17961      0  2017   8999             1  ...  150  47.1         1.4       \n",
              "17962      0  2014   7499             1  ...   30  57.7         1.0       \n",
              "17963      5  2015   9999             1  ...   20  67.3         1.6       \n",
              "17964     10  2018   8299             1  ...  145  57.7         1.2       \n",
              "\n",
              "[17962 rows x 10 columns]"
            ]
          },
          "metadata": {},
          "execution_count": 44
        }
      ]
    },
    {
      "cell_type": "code",
      "metadata": {
        "colab": {
          "base_uri": "https://localhost:8080/",
          "height": 332
        },
        "id": "XasM2Nf7AWDO",
        "outputId": "43af30d1-f96b-45e7-f939-d05f521ba3e8"
      },
      "source": [
        "data.corr()"
      ],
      "execution_count": 45,
      "outputs": [
        {
          "output_type": "execute_result",
          "data": {
            "text/html": [
              "\n",
              "  <div id=\"df-4973d398-e0cb-40b3-943a-7c395fbb1f5e\">\n",
              "    <div class=\"colab-df-container\">\n",
              "      <div>\n",
              "<style scoped>\n",
              "    .dataframe tbody tr th:only-of-type {\n",
              "        vertical-align: middle;\n",
              "    }\n",
              "\n",
              "    .dataframe tbody tr th {\n",
              "        vertical-align: top;\n",
              "    }\n",
              "\n",
              "    .dataframe thead th {\n",
              "        text-align: right;\n",
              "    }\n",
              "</style>\n",
              "<table border=\"1\" class=\"dataframe\">\n",
              "  <thead>\n",
              "    <tr style=\"text-align: right;\">\n",
              "      <th></th>\n",
              "      <th>model</th>\n",
              "      <th>year</th>\n",
              "      <th>price</th>\n",
              "      <th>transmission</th>\n",
              "      <th>mileage</th>\n",
              "      <th>fuelType</th>\n",
              "      <th>tax</th>\n",
              "      <th>mpg</th>\n",
              "      <th>engineSize</th>\n",
              "    </tr>\n",
              "  </thead>\n",
              "  <tbody>\n",
              "    <tr>\n",
              "      <th>model</th>\n",
              "      <td>1.000000</td>\n",
              "      <td>0.031311</td>\n",
              "      <td>0.326878</td>\n",
              "      <td>-0.061990</td>\n",
              "      <td>0.079549</td>\n",
              "      <td>-0.405771</td>\n",
              "      <td>0.192658</td>\n",
              "      <td>-0.242474</td>\n",
              "      <td>0.516905</td>\n",
              "    </tr>\n",
              "    <tr>\n",
              "      <th>year</th>\n",
              "      <td>0.031311</td>\n",
              "      <td>1.000000</td>\n",
              "      <td>0.646905</td>\n",
              "      <td>-0.014202</td>\n",
              "      <td>-0.721536</td>\n",
              "      <td>0.089518</td>\n",
              "      <td>0.303953</td>\n",
              "      <td>-0.023795</td>\n",
              "      <td>-0.139558</td>\n",
              "    </tr>\n",
              "    <tr>\n",
              "      <th>price</th>\n",
              "      <td>0.326878</td>\n",
              "      <td>0.646905</td>\n",
              "      <td>1.000000</td>\n",
              "      <td>-0.058232</td>\n",
              "      <td>-0.530601</td>\n",
              "      <td>-0.202691</td>\n",
              "      <td>0.407478</td>\n",
              "      <td>-0.347154</td>\n",
              "      <td>0.411359</td>\n",
              "    </tr>\n",
              "    <tr>\n",
              "      <th>transmission</th>\n",
              "      <td>-0.061990</td>\n",
              "      <td>-0.014202</td>\n",
              "      <td>-0.058232</td>\n",
              "      <td>1.000000</td>\n",
              "      <td>0.016892</td>\n",
              "      <td>-0.005020</td>\n",
              "      <td>-0.053116</td>\n",
              "      <td>0.055898</td>\n",
              "      <td>-0.026476</td>\n",
              "    </tr>\n",
              "    <tr>\n",
              "      <th>mileage</th>\n",
              "      <td>0.079549</td>\n",
              "      <td>-0.721536</td>\n",
              "      <td>-0.530601</td>\n",
              "      <td>0.016892</td>\n",
              "      <td>1.000000</td>\n",
              "      <td>-0.257718</td>\n",
              "      <td>-0.260999</td>\n",
              "      <td>0.120502</td>\n",
              "      <td>0.214963</td>\n",
              "    </tr>\n",
              "    <tr>\n",
              "      <th>fuelType</th>\n",
              "      <td>-0.405771</td>\n",
              "      <td>0.089518</td>\n",
              "      <td>-0.202691</td>\n",
              "      <td>-0.005020</td>\n",
              "      <td>-0.257718</td>\n",
              "      <td>1.000000</td>\n",
              "      <td>0.129509</td>\n",
              "      <td>-0.297688</td>\n",
              "      <td>-0.644687</td>\n",
              "    </tr>\n",
              "    <tr>\n",
              "      <th>tax</th>\n",
              "      <td>0.192658</td>\n",
              "      <td>0.303953</td>\n",
              "      <td>0.407478</td>\n",
              "      <td>-0.053116</td>\n",
              "      <td>-0.260999</td>\n",
              "      <td>0.129509</td>\n",
              "      <td>1.000000</td>\n",
              "      <td>-0.502771</td>\n",
              "      <td>0.184226</td>\n",
              "    </tr>\n",
              "    <tr>\n",
              "      <th>mpg</th>\n",
              "      <td>-0.242474</td>\n",
              "      <td>-0.023795</td>\n",
              "      <td>-0.347154</td>\n",
              "      <td>0.055898</td>\n",
              "      <td>0.120502</td>\n",
              "      <td>-0.297688</td>\n",
              "      <td>-0.502771</td>\n",
              "      <td>1.000000</td>\n",
              "      <td>-0.260498</td>\n",
              "    </tr>\n",
              "    <tr>\n",
              "      <th>engineSize</th>\n",
              "      <td>0.516905</td>\n",
              "      <td>-0.139558</td>\n",
              "      <td>0.411359</td>\n",
              "      <td>-0.026476</td>\n",
              "      <td>0.214963</td>\n",
              "      <td>-0.644687</td>\n",
              "      <td>0.184226</td>\n",
              "      <td>-0.260498</td>\n",
              "      <td>1.000000</td>\n",
              "    </tr>\n",
              "  </tbody>\n",
              "</table>\n",
              "</div>\n",
              "      <button class=\"colab-df-convert\" onclick=\"convertToInteractive('df-4973d398-e0cb-40b3-943a-7c395fbb1f5e')\"\n",
              "              title=\"Convert this dataframe to an interactive table.\"\n",
              "              style=\"display:none;\">\n",
              "        \n",
              "  <svg xmlns=\"http://www.w3.org/2000/svg\" height=\"24px\"viewBox=\"0 0 24 24\"\n",
              "       width=\"24px\">\n",
              "    <path d=\"M0 0h24v24H0V0z\" fill=\"none\"/>\n",
              "    <path d=\"M18.56 5.44l.94 2.06.94-2.06 2.06-.94-2.06-.94-.94-2.06-.94 2.06-2.06.94zm-11 1L8.5 8.5l.94-2.06 2.06-.94-2.06-.94L8.5 2.5l-.94 2.06-2.06.94zm10 10l.94 2.06.94-2.06 2.06-.94-2.06-.94-.94-2.06-.94 2.06-2.06.94z\"/><path d=\"M17.41 7.96l-1.37-1.37c-.4-.4-.92-.59-1.43-.59-.52 0-1.04.2-1.43.59L10.3 9.45l-7.72 7.72c-.78.78-.78 2.05 0 2.83L4 21.41c.39.39.9.59 1.41.59.51 0 1.02-.2 1.41-.59l7.78-7.78 2.81-2.81c.8-.78.8-2.07 0-2.86zM5.41 20L4 18.59l7.72-7.72 1.47 1.35L5.41 20z\"/>\n",
              "  </svg>\n",
              "      </button>\n",
              "      \n",
              "  <style>\n",
              "    .colab-df-container {\n",
              "      display:flex;\n",
              "      flex-wrap:wrap;\n",
              "      gap: 12px;\n",
              "    }\n",
              "\n",
              "    .colab-df-convert {\n",
              "      background-color: #E8F0FE;\n",
              "      border: none;\n",
              "      border-radius: 50%;\n",
              "      cursor: pointer;\n",
              "      display: none;\n",
              "      fill: #1967D2;\n",
              "      height: 32px;\n",
              "      padding: 0 0 0 0;\n",
              "      width: 32px;\n",
              "    }\n",
              "\n",
              "    .colab-df-convert:hover {\n",
              "      background-color: #E2EBFA;\n",
              "      box-shadow: 0px 1px 2px rgba(60, 64, 67, 0.3), 0px 1px 3px 1px rgba(60, 64, 67, 0.15);\n",
              "      fill: #174EA6;\n",
              "    }\n",
              "\n",
              "    [theme=dark] .colab-df-convert {\n",
              "      background-color: #3B4455;\n",
              "      fill: #D2E3FC;\n",
              "    }\n",
              "\n",
              "    [theme=dark] .colab-df-convert:hover {\n",
              "      background-color: #434B5C;\n",
              "      box-shadow: 0px 1px 3px 1px rgba(0, 0, 0, 0.15);\n",
              "      filter: drop-shadow(0px 1px 2px rgba(0, 0, 0, 0.3));\n",
              "      fill: #FFFFFF;\n",
              "    }\n",
              "  </style>\n",
              "\n",
              "      <script>\n",
              "        const buttonEl =\n",
              "          document.querySelector('#df-4973d398-e0cb-40b3-943a-7c395fbb1f5e button.colab-df-convert');\n",
              "        buttonEl.style.display =\n",
              "          google.colab.kernel.accessAllowed ? 'block' : 'none';\n",
              "\n",
              "        async function convertToInteractive(key) {\n",
              "          const element = document.querySelector('#df-4973d398-e0cb-40b3-943a-7c395fbb1f5e');\n",
              "          const dataTable =\n",
              "            await google.colab.kernel.invokeFunction('convertToInteractive',\n",
              "                                                     [key], {});\n",
              "          if (!dataTable) return;\n",
              "\n",
              "          const docLinkHtml = 'Like what you see? Visit the ' +\n",
              "            '<a target=\"_blank\" href=https://colab.research.google.com/notebooks/data_table.ipynb>data table notebook</a>'\n",
              "            + ' to learn more about interactive tables.';\n",
              "          element.innerHTML = '';\n",
              "          dataTable['output_type'] = 'display_data';\n",
              "          await google.colab.output.renderOutput(dataTable, element);\n",
              "          const docLink = document.createElement('div');\n",
              "          docLink.innerHTML = docLinkHtml;\n",
              "          element.appendChild(docLink);\n",
              "        }\n",
              "      </script>\n",
              "    </div>\n",
              "  </div>\n",
              "  "
            ],
            "text/plain": [
              "                 model      year     price  ...       tax       mpg  engineSize\n",
              "model         1.000000  0.031311  0.326878  ...  0.192658 -0.242474    0.516905\n",
              "year          0.031311  1.000000  0.646905  ...  0.303953 -0.023795   -0.139558\n",
              "price         0.326878  0.646905  1.000000  ...  0.407478 -0.347154    0.411359\n",
              "transmission -0.061990 -0.014202 -0.058232  ... -0.053116  0.055898   -0.026476\n",
              "mileage       0.079549 -0.721536 -0.530601  ... -0.260999  0.120502    0.214963\n",
              "fuelType     -0.405771  0.089518 -0.202691  ...  0.129509 -0.297688   -0.644687\n",
              "tax           0.192658  0.303953  0.407478  ...  1.000000 -0.502771    0.184226\n",
              "mpg          -0.242474 -0.023795 -0.347154  ... -0.502771  1.000000   -0.260498\n",
              "engineSize    0.516905 -0.139558  0.411359  ...  0.184226 -0.260498    1.000000\n",
              "\n",
              "[9 rows x 9 columns]"
            ]
          },
          "metadata": {},
          "execution_count": 45
        }
      ]
    },
    {
      "cell_type": "code",
      "metadata": {
        "colab": {
          "base_uri": "https://localhost:8080/",
          "height": 449
        },
        "id": "cg8dnBR_AiWW",
        "outputId": "0919cd82-0a71-4393-b4ce-9a49a044ab49"
      },
      "source": [
        "plt.figure(figsize = (8,6))\n",
        "corr = data.corr()\n",
        "sns.heatmap(corr, mask=np.zeros_like(corr, dtype=np.bool), cmap = 'vlag', square = True, annot = True)"
      ],
      "execution_count": 46,
      "outputs": [
        {
          "output_type": "execute_result",
          "data": {
            "text/plain": [
              "<matplotlib.axes._subplots.AxesSubplot at 0x7f56ae34ce10>"
            ]
          },
          "metadata": {},
          "execution_count": 46
        },
        {
          "output_type": "display_data",
          "data": {
            "image/png": "[encoded data removed]",
            "text/plain": [
              "<Figure size 576x432 with 2 Axes>"
            ]
          },
          "metadata": {
            "needs_background": "light"
          }
        }
      ]
    },
    {
      "cell_type": "markdown",
      "metadata": {
        "id": "uSqTUjvOVbBi"
      },
      "source": [
        "Corelasi :\n",
        "- (+) = (year,price),(price,tax),(price,engine), (modelxprice)\n",
        "- (-) = milage, mpg\n",
        "- tidak ada korelasi = transsmision,fulltype\n"
      ]
    },
    {
      "cell_type": "code",
      "metadata": {
        "colab": {
          "base_uri": "https://localhost:8080/",
          "height": 281
        },
        "id": "0HIVKTsFu9tQ",
        "outputId": "004171da-8965-4090-ba64-6f15b92b0809"
      },
      "source": [
        "plt.scatter(x= \"price\", y=\"model\", data=data)\n",
        "plt.title(\"Price vs model\")\n",
        "plt.show()"
      ],
      "execution_count": 47,
      "outputs": [
        {
          "output_type": "display_data",
          "data": {
            "image/png": "[encoded data removed]",
            "text/plain": [
              "<Figure size 432x288 with 1 Axes>"
            ]
          },
          "metadata": {
            "needs_background": "light"
          }
        }
      ]
    },
    {
      "cell_type": "code",
      "metadata": {
        "colab": {
          "base_uri": "https://localhost:8080/",
          "height": 281
        },
        "id": "WDFu8Hxwg-_C",
        "outputId": "7838d84b-bef0-4b39-a80d-f4004460452c"
      },
      "source": [
        "plt.scatter(x= \"price\", y=\"year\", data=data)\n",
        "plt.title(\"Price vs Year\")\n",
        "plt.show()"
      ],
      "execution_count": 48,
      "outputs": [
        {
          "output_type": "display_data",
          "data": {
            "image/png": "[encoded data removed]",
            "text/plain": [
              "<Figure size 432x288 with 1 Axes>"
            ]
          },
          "metadata": {
            "needs_background": "light"
          }
        }
      ]
    },
    {
      "cell_type": "code",
      "metadata": {
        "colab": {
          "base_uri": "https://localhost:8080/",
          "height": 281
        },
        "id": "J3HL1a46iHv-",
        "outputId": "a2311a73-0345-4c5b-8145-fe4fc7d95587"
      },
      "source": [
        "plt.scatter(x= \"price\", y=\"tax\", data=data)\n",
        "plt.title(\"Price vs tax\")\n",
        "plt.show()"
      ],
      "execution_count": 49,
      "outputs": [
        {
          "output_type": "display_data",
          "data": {
            "image/png": "[encoded data removed]",
            "text/plain": [
              "<Figure size 432x288 with 1 Axes>"
            ]
          },
          "metadata": {
            "needs_background": "light"
          }
        }
      ]
    },
    {
      "cell_type": "code",
      "metadata": {
        "colab": {
          "base_uri": "https://localhost:8080/",
          "height": 281
        },
        "id": "3wCNlIqJiUNn",
        "outputId": "a2f8fedc-d416-47a3-cb6c-22be8423e218"
      },
      "source": [
        "plt.scatter(x= \"price\", y=\"engineSize\", data=data)\n",
        "plt.title(\"Price vs engine size\")\n",
        "plt.show()"
      ],
      "execution_count": 50,
      "outputs": [
        {
          "output_type": "display_data",
          "data": {
            "image/png": "[encoded data removed]",
            "text/plain": [
              "<Figure size 432x288 with 1 Axes>"
            ]
          },
          "metadata": {
            "needs_background": "light"
          }
        }
      ]
    },
    {
      "cell_type": "code",
      "metadata": {
        "colab": {
          "base_uri": "https://localhost:8080/",
          "height": 281
        },
        "id": "gP2NTA2zinLK",
        "outputId": "74ee7989-5dc6-425f-bfa5-7dbb9f6348b5"
      },
      "source": [
        "plt.scatter(x= \"price\", y=\"mpg\", data=data)\n",
        "plt.title(\"Price vs mpg\")\n",
        "plt.show()"
      ],
      "execution_count": 51,
      "outputs": [
        {
          "output_type": "display_data",
          "data": {
            "image/png": "[encoded data removed]",
            "text/plain": [
              "<Figure size 432x288 with 1 Axes>"
            ]
          },
          "metadata": {
            "needs_background": "light"
          }
        }
      ]
    },
    {
      "cell_type": "code",
      "metadata": {
        "colab": {
          "base_uri": "https://localhost:8080/",
          "height": 281
        },
        "id": "QTK-jT-GitRG",
        "outputId": "6142e46a-41cd-455e-f0ca-aa3639e5d4da"
      },
      "source": [
        "plt.scatter(x= \"price\", y=\"mileage\", data=data)\n",
        "plt.title(\"Price vs mileage\")\n",
        "plt.show()"
      ],
      "execution_count": 52,
      "outputs": [
        {
          "output_type": "display_data",
          "data": {
            "image/png": "[encoded data removed]",
            "text/plain": [
              "<Figure size 432x288 with 1 Axes>"
            ]
          },
          "metadata": {
            "needs_background": "light"
          }
        }
      ]
    },
    {
      "cell_type": "code",
      "metadata": {
        "id": "NTRoNuE-WpOW"
      },
      "source": [
        "data1 = data.drop(columns=['fuelType','transmission'], inplace=True)\n",
        "data1"
      ],
      "execution_count": 53,
      "outputs": []
    },
    {
      "cell_type": "code",
      "metadata": {
        "colab": {
          "base_uri": "https://localhost:8080/",
          "height": 424
        },
        "id": "Sld--RpTjSkX",
        "outputId": "b567ae9f-45c0-4a32-df9d-8f8729389c24"
      },
      "source": [
        "data1 = data\n",
        "data1"
      ],
      "execution_count": 54,
      "outputs": [
        {
          "output_type": "execute_result",
          "data": {
            "text/html": [
              "\n",
              "  <div id=\"df-0552409c-6152-4fa9-a09c-1d7a90d1c7f4\">\n",
              "    <div class=\"colab-df-container\">\n",
              "      <div>\n",
              "<style scoped>\n",
              "    .dataframe tbody tr th:only-of-type {\n",
              "        vertical-align: middle;\n",
              "    }\n",
              "\n",
              "    .dataframe tbody tr th {\n",
              "        vertical-align: top;\n",
              "    }\n",
              "\n",
              "    .dataframe thead th {\n",
              "        text-align: right;\n",
              "    }\n",
              "</style>\n",
              "<table border=\"1\" class=\"dataframe\">\n",
              "  <thead>\n",
              "    <tr style=\"text-align: right;\">\n",
              "      <th></th>\n",
              "      <th>model</th>\n",
              "      <th>year</th>\n",
              "      <th>price</th>\n",
              "      <th>mileage</th>\n",
              "      <th>tax</th>\n",
              "      <th>mpg</th>\n",
              "      <th>engineSize</th>\n",
              "      <th>total</th>\n",
              "    </tr>\n",
              "  </thead>\n",
              "  <tbody>\n",
              "    <tr>\n",
              "      <th>0</th>\n",
              "      <td>4</td>\n",
              "      <td>2017</td>\n",
              "      <td>12000</td>\n",
              "      <td>15944</td>\n",
              "      <td>150</td>\n",
              "      <td>57.7</td>\n",
              "      <td>1.0</td>\n",
              "      <td></td>\n",
              "    </tr>\n",
              "    <tr>\n",
              "      <th>1</th>\n",
              "      <td>5</td>\n",
              "      <td>2018</td>\n",
              "      <td>14000</td>\n",
              "      <td>9083</td>\n",
              "      <td>150</td>\n",
              "      <td>57.7</td>\n",
              "      <td>1.0</td>\n",
              "      <td></td>\n",
              "    </tr>\n",
              "    <tr>\n",
              "      <th>2</th>\n",
              "      <td>5</td>\n",
              "      <td>2017</td>\n",
              "      <td>13000</td>\n",
              "      <td>12456</td>\n",
              "      <td>150</td>\n",
              "      <td>57.7</td>\n",
              "      <td>1.0</td>\n",
              "      <td></td>\n",
              "    </tr>\n",
              "    <tr>\n",
              "      <th>3</th>\n",
              "      <td>4</td>\n",
              "      <td>2019</td>\n",
              "      <td>17500</td>\n",
              "      <td>10460</td>\n",
              "      <td>145</td>\n",
              "      <td>40.3</td>\n",
              "      <td>1.5</td>\n",
              "      <td></td>\n",
              "    </tr>\n",
              "    <tr>\n",
              "      <th>4</th>\n",
              "      <td>4</td>\n",
              "      <td>2019</td>\n",
              "      <td>16500</td>\n",
              "      <td>1482</td>\n",
              "      <td>145</td>\n",
              "      <td>48.7</td>\n",
              "      <td>1.0</td>\n",
              "      <td></td>\n",
              "    </tr>\n",
              "    <tr>\n",
              "      <th>...</th>\n",
              "      <td>...</td>\n",
              "      <td>...</td>\n",
              "      <td>...</td>\n",
              "      <td>...</td>\n",
              "      <td>...</td>\n",
              "      <td>...</td>\n",
              "      <td>...</td>\n",
              "      <td>...</td>\n",
              "    </tr>\n",
              "    <tr>\n",
              "      <th>17960</th>\n",
              "      <td>4</td>\n",
              "      <td>2016</td>\n",
              "      <td>7999</td>\n",
              "      <td>31348</td>\n",
              "      <td>125</td>\n",
              "      <td>54.3</td>\n",
              "      <td>1.2</td>\n",
              "      <td></td>\n",
              "    </tr>\n",
              "    <tr>\n",
              "      <th>17961</th>\n",
              "      <td>0</td>\n",
              "      <td>2017</td>\n",
              "      <td>8999</td>\n",
              "      <td>16700</td>\n",
              "      <td>150</td>\n",
              "      <td>47.1</td>\n",
              "      <td>1.4</td>\n",
              "      <td></td>\n",
              "    </tr>\n",
              "    <tr>\n",
              "      <th>17962</th>\n",
              "      <td>0</td>\n",
              "      <td>2014</td>\n",
              "      <td>7499</td>\n",
              "      <td>40700</td>\n",
              "      <td>30</td>\n",
              "      <td>57.7</td>\n",
              "      <td>1.0</td>\n",
              "      <td></td>\n",
              "    </tr>\n",
              "    <tr>\n",
              "      <th>17963</th>\n",
              "      <td>5</td>\n",
              "      <td>2015</td>\n",
              "      <td>9999</td>\n",
              "      <td>7010</td>\n",
              "      <td>20</td>\n",
              "      <td>67.3</td>\n",
              "      <td>1.6</td>\n",
              "      <td></td>\n",
              "    </tr>\n",
              "    <tr>\n",
              "      <th>17964</th>\n",
              "      <td>10</td>\n",
              "      <td>2018</td>\n",
              "      <td>8299</td>\n",
              "      <td>5007</td>\n",
              "      <td>145</td>\n",
              "      <td>57.7</td>\n",
              "      <td>1.2</td>\n",
              "      <td></td>\n",
              "    </tr>\n",
              "  </tbody>\n",
              "</table>\n",
              "<p>17962 rows × 8 columns</p>\n",
              "</div>\n",
              "      <button class=\"colab-df-convert\" onclick=\"convertToInteractive('df-0552409c-6152-4fa9-a09c-1d7a90d1c7f4')\"\n",
              "              title=\"Convert this dataframe to an interactive table.\"\n",
              "              style=\"display:none;\">\n",
              "        \n",
              "  <svg xmlns=\"http://www.w3.org/2000/svg\" height=\"24px\"viewBox=\"0 0 24 24\"\n",
              "       width=\"24px\">\n",
              "    <path d=\"M0 0h24v24H0V0z\" fill=\"none\"/>\n",
              "    <path d=\"M18.56 5.44l.94 2.06.94-2.06 2.06-.94-2.06-.94-.94-2.06-.94 2.06-2.06.94zm-11 1L8.5 8.5l.94-2.06 2.06-.94-2.06-.94L8.5 2.5l-.94 2.06-2.06.94zm10 10l.94 2.06.94-2.06 2.06-.94-2.06-.94-.94-2.06-.94 2.06-2.06.94z\"/><path d=\"M17.41 7.96l-1.37-1.37c-.4-.4-.92-.59-1.43-.59-.52 0-1.04.2-1.43.59L10.3 9.45l-7.72 7.72c-.78.78-.78 2.05 0 2.83L4 21.41c.39.39.9.59 1.41.59.51 0 1.02-.2 1.41-.59l7.78-7.78 2.81-2.81c.8-.78.8-2.07 0-2.86zM5.41 20L4 18.59l7.72-7.72 1.47 1.35L5.41 20z\"/>\n",
              "  </svg>\n",
              "      </button>\n",
              "      \n",
              "  <style>\n",
              "    .colab-df-container {\n",
              "      display:flex;\n",
              "      flex-wrap:wrap;\n",
              "      gap: 12px;\n",
              "    }\n",
              "\n",
              "    .colab-df-convert {\n",
              "      background-color: #E8F0FE;\n",
              "      border: none;\n",
              "      border-radius: 50%;\n",
              "      cursor: pointer;\n",
              "      display: none;\n",
              "      fill: #1967D2;\n",
              "      height: 32px;\n",
              "      padding: 0 0 0 0;\n",
              "      width: 32px;\n",
              "    }\n",
              "\n",
              "    .colab-df-convert:hover {\n",
              "      background-color: #E2EBFA;\n",
              "      box-shadow: 0px 1px 2px rgba(60, 64, 67, 0.3), 0px 1px 3px 1px rgba(60, 64, 67, 0.15);\n",
              "      fill: #174EA6;\n",
              "    }\n",
              "\n",
              "    [theme=dark] .colab-df-convert {\n",
              "      background-color: #3B4455;\n",
              "      fill: #D2E3FC;\n",
              "    }\n",
              "\n",
              "    [theme=dark] .colab-df-convert:hover {\n",
              "      background-color: #434B5C;\n",
              "      box-shadow: 0px 1px 3px 1px rgba(0, 0, 0, 0.15);\n",
              "      filter: drop-shadow(0px 1px 2px rgba(0, 0, 0, 0.3));\n",
              "      fill: #FFFFFF;\n",
              "    }\n",
              "  </style>\n",
              "\n",
              "      <script>\n",
              "        const buttonEl =\n",
              "          document.querySelector('#df-0552409c-6152-4fa9-a09c-1d7a90d1c7f4 button.colab-df-convert');\n",
              "        buttonEl.style.display =\n",
              "          google.colab.kernel.accessAllowed ? 'block' : 'none';\n",
              "\n",
              "        async function convertToInteractive(key) {\n",
              "          const element = document.querySelector('#df-0552409c-6152-4fa9-a09c-1d7a90d1c7f4');\n",
              "          const dataTable =\n",
              "            await google.colab.kernel.invokeFunction('convertToInteractive',\n",
              "                                                     [key], {});\n",
              "          if (!dataTable) return;\n",
              "\n",
              "          const docLinkHtml = 'Like what you see? Visit the ' +\n",
              "            '<a target=\"_blank\" href=https://colab.research.google.com/notebooks/data_table.ipynb>data table notebook</a>'\n",
              "            + ' to learn more about interactive tables.';\n",
              "          element.innerHTML = '';\n",
              "          dataTable['output_type'] = 'display_data';\n",
              "          await google.colab.output.renderOutput(dataTable, element);\n",
              "          const docLink = document.createElement('div');\n",
              "          docLink.innerHTML = docLinkHtml;\n",
              "          element.appendChild(docLink);\n",
              "        }\n",
              "      </script>\n",
              "    </div>\n",
              "  </div>\n",
              "  "
            ],
            "text/plain": [
              "       model  year  price  mileage  tax   mpg  engineSize total\n",
              "0          4  2017  12000    15944  150  57.7         1.0      \n",
              "1          5  2018  14000     9083  150  57.7         1.0      \n",
              "2          5  2017  13000    12456  150  57.7         1.0      \n",
              "3          4  2019  17500    10460  145  40.3         1.5      \n",
              "4          4  2019  16500     1482  145  48.7         1.0      \n",
              "...      ...   ...    ...      ...  ...   ...         ...   ...\n",
              "17960      4  2016   7999    31348  125  54.3         1.2      \n",
              "17961      0  2017   8999    16700  150  47.1         1.4      \n",
              "17962      0  2014   7499    40700   30  57.7         1.0      \n",
              "17963      5  2015   9999     7010   20  67.3         1.6      \n",
              "17964     10  2018   8299     5007  145  57.7         1.2      \n",
              "\n",
              "[17962 rows x 8 columns]"
            ]
          },
          "metadata": {},
          "execution_count": 54
        }
      ]
    },
    {
      "cell_type": "markdown",
      "metadata": {
        "id": "04qUg-OE8pdG"
      },
      "source": [
        "# Data Preprocessing"
      ]
    },
    {
      "cell_type": "code",
      "metadata": {
        "colab": {
          "base_uri": "https://localhost:8080/",
          "height": 424
        },
        "id": "CXfMS93kYEZZ",
        "outputId": "7dcd8fa8-ad0b-41d5-e8d1-6b0efcff585f"
      },
      "source": [
        "nw_data = data1[['model','year','mileage','tax','mpg','engineSize','price']]\n",
        "nw_data"
      ],
      "execution_count": 55,
      "outputs": [
        {
          "output_type": "execute_result",
          "data": {
            "text/html": [
              "\n",
              "  <div id=\"df-e84d3e85-34c8-4c87-a5e9-8c348d582f02\">\n",
              "    <div class=\"colab-df-container\">\n",
              "      <div>\n",
              "<style scoped>\n",
              "    .dataframe tbody tr th:only-of-type {\n",
              "        vertical-align: middle;\n",
              "    }\n",
              "\n",
              "    .dataframe tbody tr th {\n",
              "        vertical-align: top;\n",
              "    }\n",
              "\n",
              "    .dataframe thead th {\n",
              "        text-align: right;\n",
              "    }\n",
              "</style>\n",
              "<table border=\"1\" class=\"dataframe\">\n",
              "  <thead>\n",
              "    <tr style=\"text-align: right;\">\n",
              "      <th></th>\n",
              "      <th>model</th>\n",
              "      <th>year</th>\n",
              "      <th>mileage</th>\n",
              "      <th>tax</th>\n",
              "      <th>mpg</th>\n",
              "      <th>engineSize</th>\n",
              "      <th>price</th>\n",
              "    </tr>\n",
              "  </thead>\n",
              "  <tbody>\n",
              "    <tr>\n",
              "      <th>0</th>\n",
              "      <td>4</td>\n",
              "      <td>2017</td>\n",
              "      <td>15944</td>\n",
              "      <td>150</td>\n",
              "      <td>57.7</td>\n",
              "      <td>1.0</td>\n",
              "      <td>12000</td>\n",
              "    </tr>\n",
              "    <tr>\n",
              "      <th>1</th>\n",
              "      <td>5</td>\n",
              "      <td>2018</td>\n",
              "      <td>9083</td>\n",
              "      <td>150</td>\n",
              "      <td>57.7</td>\n",
              "      <td>1.0</td>\n",
              "      <td>14000</td>\n",
              "    </tr>\n",
              "    <tr>\n",
              "      <th>2</th>\n",
              "      <td>5</td>\n",
              "      <td>2017</td>\n",
              "      <td>12456</td>\n",
              "      <td>150</td>\n",
              "      <td>57.7</td>\n",
              "      <td>1.0</td>\n",
              "      <td>13000</td>\n",
              "    </tr>\n",
              "    <tr>\n",
              "      <th>3</th>\n",
              "      <td>4</td>\n",
              "      <td>2019</td>\n",
              "      <td>10460</td>\n",
              "      <td>145</td>\n",
              "      <td>40.3</td>\n",
              "      <td>1.5</td>\n",
              "      <td>17500</td>\n",
              "    </tr>\n",
              "    <tr>\n",
              "      <th>4</th>\n",
              "      <td>4</td>\n",
              "      <td>2019</td>\n",
              "      <td>1482</td>\n",
              "      <td>145</td>\n",
              "      <td>48.7</td>\n",
              "      <td>1.0</td>\n",
              "      <td>16500</td>\n",
              "    </tr>\n",
              "    <tr>\n",
              "      <th>...</th>\n",
              "      <td>...</td>\n",
              "      <td>...</td>\n",
              "      <td>...</td>\n",
              "      <td>...</td>\n",
              "      <td>...</td>\n",
              "      <td>...</td>\n",
              "      <td>...</td>\n",
              "    </tr>\n",
              "    <tr>\n",
              "      <th>17960</th>\n",
              "      <td>4</td>\n",
              "      <td>2016</td>\n",
              "      <td>31348</td>\n",
              "      <td>125</td>\n",
              "      <td>54.3</td>\n",
              "      <td>1.2</td>\n",
              "      <td>7999</td>\n",
              "    </tr>\n",
              "    <tr>\n",
              "      <th>17961</th>\n",
              "      <td>0</td>\n",
              "      <td>2017</td>\n",
              "      <td>16700</td>\n",
              "      <td>150</td>\n",
              "      <td>47.1</td>\n",
              "      <td>1.4</td>\n",
              "      <td>8999</td>\n",
              "    </tr>\n",
              "    <tr>\n",
              "      <th>17962</th>\n",
              "      <td>0</td>\n",
              "      <td>2014</td>\n",
              "      <td>40700</td>\n",
              "      <td>30</td>\n",
              "      <td>57.7</td>\n",
              "      <td>1.0</td>\n",
              "      <td>7499</td>\n",
              "    </tr>\n",
              "    <tr>\n",
              "      <th>17963</th>\n",
              "      <td>5</td>\n",
              "      <td>2015</td>\n",
              "      <td>7010</td>\n",
              "      <td>20</td>\n",
              "      <td>67.3</td>\n",
              "      <td>1.6</td>\n",
              "      <td>9999</td>\n",
              "    </tr>\n",
              "    <tr>\n",
              "      <th>17964</th>\n",
              "      <td>10</td>\n",
              "      <td>2018</td>\n",
              "      <td>5007</td>\n",
              "      <td>145</td>\n",
              "      <td>57.7</td>\n",
              "      <td>1.2</td>\n",
              "      <td>8299</td>\n",
              "    </tr>\n",
              "  </tbody>\n",
              "</table>\n",
              "<p>17962 rows × 7 columns</p>\n",
              "</div>\n",
              "      <button class=\"colab-df-convert\" onclick=\"convertToInteractive('df-e84d3e85-34c8-4c87-a5e9-8c348d582f02')\"\n",
              "              title=\"Convert this dataframe to an interactive table.\"\n",
              "              style=\"display:none;\">\n",
              "        \n",
              "  <svg xmlns=\"http://www.w3.org/2000/svg\" height=\"24px\"viewBox=\"0 0 24 24\"\n",
              "       width=\"24px\">\n",
              "    <path d=\"M0 0h24v24H0V0z\" fill=\"none\"/>\n",
              "    <path d=\"M18.56 5.44l.94 2.06.94-2.06 2.06-.94-2.06-.94-.94-2.06-.94 2.06-2.06.94zm-11 1L8.5 8.5l.94-2.06 2.06-.94-2.06-.94L8.5 2.5l-.94 2.06-2.06.94zm10 10l.94 2.06.94-2.06 2.06-.94-2.06-.94-.94-2.06-.94 2.06-2.06.94z\"/><path d=\"M17.41 7.96l-1.37-1.37c-.4-.4-.92-.59-1.43-.59-.52 0-1.04.2-1.43.59L10.3 9.45l-7.72 7.72c-.78.78-.78 2.05 0 2.83L4 21.41c.39.39.9.59 1.41.59.51 0 1.02-.2 1.41-.59l7.78-7.78 2.81-2.81c.8-.78.8-2.07 0-2.86zM5.41 20L4 18.59l7.72-7.72 1.47 1.35L5.41 20z\"/>\n",
              "  </svg>\n",
              "      </button>\n",
              "      \n",
              "  <style>\n",
              "    .colab-df-container {\n",
              "      display:flex;\n",
              "      flex-wrap:wrap;\n",
              "      gap: 12px;\n",
              "    }\n",
              "\n",
              "    .colab-df-convert {\n",
              "      background-color: #E8F0FE;\n",
              "      border: none;\n",
              "      border-radius: 50%;\n",
              "      cursor: pointer;\n",
              "      display: none;\n",
              "      fill: #1967D2;\n",
              "      height: 32px;\n",
              "      padding: 0 0 0 0;\n",
              "      width: 32px;\n",
              "    }\n",
              "\n",
              "    .colab-df-convert:hover {\n",
              "      background-color: #E2EBFA;\n",
              "      box-shadow: 0px 1px 2px rgba(60, 64, 67, 0.3), 0px 1px 3px 1px rgba(60, 64, 67, 0.15);\n",
              "      fill: #174EA6;\n",
              "    }\n",
              "\n",
              "    [theme=dark] .colab-df-convert {\n",
              "      background-color: #3B4455;\n",
              "      fill: #D2E3FC;\n",
              "    }\n",
              "\n",
              "    [theme=dark] .colab-df-convert:hover {\n",
              "      background-color: #434B5C;\n",
              "      box-shadow: 0px 1px 3px 1px rgba(0, 0, 0, 0.15);\n",
              "      filter: drop-shadow(0px 1px 2px rgba(0, 0, 0, 0.3));\n",
              "      fill: #FFFFFF;\n",
              "    }\n",
              "  </style>\n",
              "\n",
              "      <script>\n",
              "        const buttonEl =\n",
              "          document.querySelector('#df-e84d3e85-34c8-4c87-a5e9-8c348d582f02 button.colab-df-convert');\n",
              "        buttonEl.style.display =\n",
              "          google.colab.kernel.accessAllowed ? 'block' : 'none';\n",
              "\n",
              "        async function convertToInteractive(key) {\n",
              "          const element = document.querySelector('#df-e84d3e85-34c8-4c87-a5e9-8c348d582f02');\n",
              "          const dataTable =\n",
              "            await google.colab.kernel.invokeFunction('convertToInteractive',\n",
              "                                                     [key], {});\n",
              "          if (!dataTable) return;\n",
              "\n",
              "          const docLinkHtml = 'Like what you see? Visit the ' +\n",
              "            '<a target=\"_blank\" href=https://colab.research.google.com/notebooks/data_table.ipynb>data table notebook</a>'\n",
              "            + ' to learn more about interactive tables.';\n",
              "          element.innerHTML = '';\n",
              "          dataTable['output_type'] = 'display_data';\n",
              "          await google.colab.output.renderOutput(dataTable, element);\n",
              "          const docLink = document.createElement('div');\n",
              "          docLink.innerHTML = docLinkHtml;\n",
              "          element.appendChild(docLink);\n",
              "        }\n",
              "      </script>\n",
              "    </div>\n",
              "  </div>\n",
              "  "
            ],
            "text/plain": [
              "       model  year  mileage  tax   mpg  engineSize  price\n",
              "0          4  2017    15944  150  57.7         1.0  12000\n",
              "1          5  2018     9083  150  57.7         1.0  14000\n",
              "2          5  2017    12456  150  57.7         1.0  13000\n",
              "3          4  2019    10460  145  40.3         1.5  17500\n",
              "4          4  2019     1482  145  48.7         1.0  16500\n",
              "...      ...   ...      ...  ...   ...         ...    ...\n",
              "17960      4  2016    31348  125  54.3         1.2   7999\n",
              "17961      0  2017    16700  150  47.1         1.4   8999\n",
              "17962      0  2014    40700   30  57.7         1.0   7499\n",
              "17963      5  2015     7010   20  67.3         1.6   9999\n",
              "17964     10  2018     5007  145  57.7         1.2   8299\n",
              "\n",
              "[17962 rows x 7 columns]"
            ]
          },
          "metadata": {},
          "execution_count": 55
        }
      ]
    },
    {
      "cell_type": "code",
      "metadata": {
        "id": "YqxSB36J7OqJ"
      },
      "source": [
        "x = nw_data.iloc[:, 0:6]\n",
        "y = nw_data.iloc[:, -1]"
      ],
      "execution_count": 56,
      "outputs": []
    },
    {
      "cell_type": "code",
      "metadata": {
        "colab": {
          "base_uri": "https://localhost:8080/",
          "height": 424
        },
        "id": "B-pGMX8ZHZKo",
        "outputId": "e4f36f55-0497-4289-ef45-6f449d9d2cc3"
      },
      "source": [
        "x"
      ],
      "execution_count": 57,
      "outputs": [
        {
          "output_type": "execute_result",
          "data": {
            "text/html": [
              "\n",
              "  <div id=\"df-a639c116-0cd4-4bf1-a609-0224140b7cb7\">\n",
              "    <div class=\"colab-df-container\">\n",
              "      <div>\n",
              "<style scoped>\n",
              "    .dataframe tbody tr th:only-of-type {\n",
              "        vertical-align: middle;\n",
              "    }\n",
              "\n",
              "    .dataframe tbody tr th {\n",
              "        vertical-align: top;\n",
              "    }\n",
              "\n",
              "    .dataframe thead th {\n",
              "        text-align: right;\n",
              "    }\n",
              "</style>\n",
              "<table border=\"1\" class=\"dataframe\">\n",
              "  <thead>\n",
              "    <tr style=\"text-align: right;\">\n",
              "      <th></th>\n",
              "      <th>model</th>\n",
              "      <th>year</th>\n",
              "      <th>mileage</th>\n",
              "      <th>tax</th>\n",
              "      <th>mpg</th>\n",
              "      <th>engineSize</th>\n",
              "    </tr>\n",
              "  </thead>\n",
              "  <tbody>\n",
              "    <tr>\n",
              "      <th>0</th>\n",
              "      <td>4</td>\n",
              "      <td>2017</td>\n",
              "      <td>15944</td>\n",
              "      <td>150</td>\n",
              "      <td>57.7</td>\n",
              "      <td>1.0</td>\n",
              "    </tr>\n",
              "    <tr>\n",
              "      <th>1</th>\n",
              "      <td>5</td>\n",
              "      <td>2018</td>\n",
              "      <td>9083</td>\n",
              "      <td>150</td>\n",
              "      <td>57.7</td>\n",
              "      <td>1.0</td>\n",
              "    </tr>\n",
              "    <tr>\n",
              "      <th>2</th>\n",
              "      <td>5</td>\n",
              "      <td>2017</td>\n",
              "      <td>12456</td>\n",
              "      <td>150</td>\n",
              "      <td>57.7</td>\n",
              "      <td>1.0</td>\n",
              "    </tr>\n",
              "    <tr>\n",
              "      <th>3</th>\n",
              "      <td>4</td>\n",
              "      <td>2019</td>\n",
              "      <td>10460</td>\n",
              "      <td>145</td>\n",
              "      <td>40.3</td>\n",
              "      <td>1.5</td>\n",
              "    </tr>\n",
              "    <tr>\n",
              "      <th>4</th>\n",
              "      <td>4</td>\n",
              "      <td>2019</td>\n",
              "      <td>1482</td>\n",
              "      <td>145</td>\n",
              "      <td>48.7</td>\n",
              "      <td>1.0</td>\n",
              "    </tr>\n",
              "    <tr>\n",
              "      <th>...</th>\n",
              "      <td>...</td>\n",
              "      <td>...</td>\n",
              "      <td>...</td>\n",
              "      <td>...</td>\n",
              "      <td>...</td>\n",
              "      <td>...</td>\n",
              "    </tr>\n",
              "    <tr>\n",
              "      <th>17960</th>\n",
              "      <td>4</td>\n",
              "      <td>2016</td>\n",
              "      <td>31348</td>\n",
              "      <td>125</td>\n",
              "      <td>54.3</td>\n",
              "      <td>1.2</td>\n",
              "    </tr>\n",
              "    <tr>\n",
              "      <th>17961</th>\n",
              "      <td>0</td>\n",
              "      <td>2017</td>\n",
              "      <td>16700</td>\n",
              "      <td>150</td>\n",
              "      <td>47.1</td>\n",
              "      <td>1.4</td>\n",
              "    </tr>\n",
              "    <tr>\n",
              "      <th>17962</th>\n",
              "      <td>0</td>\n",
              "      <td>2014</td>\n",
              "      <td>40700</td>\n",
              "      <td>30</td>\n",
              "      <td>57.7</td>\n",
              "      <td>1.0</td>\n",
              "    </tr>\n",
              "    <tr>\n",
              "      <th>17963</th>\n",
              "      <td>5</td>\n",
              "      <td>2015</td>\n",
              "      <td>7010</td>\n",
              "      <td>20</td>\n",
              "      <td>67.3</td>\n",
              "      <td>1.6</td>\n",
              "    </tr>\n",
              "    <tr>\n",
              "      <th>17964</th>\n",
              "      <td>10</td>\n",
              "      <td>2018</td>\n",
              "      <td>5007</td>\n",
              "      <td>145</td>\n",
              "      <td>57.7</td>\n",
              "      <td>1.2</td>\n",
              "    </tr>\n",
              "  </tbody>\n",
              "</table>\n",
              "<p>17962 rows × 6 columns</p>\n",
              "</div>\n",
              "      <button class=\"colab-df-convert\" onclick=\"convertToInteractive('df-a639c116-0cd4-4bf1-a609-0224140b7cb7')\"\n",
              "              title=\"Convert this dataframe to an interactive table.\"\n",
              "              style=\"display:none;\">\n",
              "        \n",
              "  <svg xmlns=\"http://www.w3.org/2000/svg\" height=\"24px\"viewBox=\"0 0 24 24\"\n",
              "       width=\"24px\">\n",
              "    <path d=\"M0 0h24v24H0V0z\" fill=\"none\"/>\n",
              "    <path d=\"M18.56 5.44l.94 2.06.94-2.06 2.06-.94-2.06-.94-.94-2.06-.94 2.06-2.06.94zm-11 1L8.5 8.5l.94-2.06 2.06-.94-2.06-.94L8.5 2.5l-.94 2.06-2.06.94zm10 10l.94 2.06.94-2.06 2.06-.94-2.06-.94-.94-2.06-.94 2.06-2.06.94z\"/><path d=\"M17.41 7.96l-1.37-1.37c-.4-.4-.92-.59-1.43-.59-.52 0-1.04.2-1.43.59L10.3 9.45l-7.72 7.72c-.78.78-.78 2.05 0 2.83L4 21.41c.39.39.9.59 1.41.59.51 0 1.02-.2 1.41-.59l7.78-7.78 2.81-2.81c.8-.78.8-2.07 0-2.86zM5.41 20L4 18.59l7.72-7.72 1.47 1.35L5.41 20z\"/>\n",
              "  </svg>\n",
              "      </button>\n",
              "      \n",
              "  <style>\n",
              "    .colab-df-container {\n",
              "      display:flex;\n",
              "      flex-wrap:wrap;\n",
              "      gap: 12px;\n",
              "    }\n",
              "\n",
              "    .colab-df-convert {\n",
              "      background-color: #E8F0FE;\n",
              "      border: none;\n",
              "      border-radius: 50%;\n",
              "      cursor: pointer;\n",
              "      display: none;\n",
              "      fill: #1967D2;\n",
              "      height: 32px;\n",
              "      padding: 0 0 0 0;\n",
              "      width: 32px;\n",
              "    }\n",
              "\n",
              "    .colab-df-convert:hover {\n",
              "      background-color: #E2EBFA;\n",
              "      box-shadow: 0px 1px 2px rgba(60, 64, 67, 0.3), 0px 1px 3px 1px rgba(60, 64, 67, 0.15);\n",
              "      fill: #174EA6;\n",
              "    }\n",
              "\n",
              "    [theme=dark] .colab-df-convert {\n",
              "      background-color: #3B4455;\n",
              "      fill: #D2E3FC;\n",
              "    }\n",
              "\n",
              "    [theme=dark] .colab-df-convert:hover {\n",
              "      background-color: #434B5C;\n",
              "      box-shadow: 0px 1px 3px 1px rgba(0, 0, 0, 0.15);\n",
              "      filter: drop-shadow(0px 1px 2px rgba(0, 0, 0, 0.3));\n",
              "      fill: #FFFFFF;\n",
              "    }\n",
              "  </style>\n",
              "\n",
              "      <script>\n",
              "        const buttonEl =\n",
              "          document.querySelector('#df-a639c116-0cd4-4bf1-a609-0224140b7cb7 button.colab-df-convert');\n",
              "        buttonEl.style.display =\n",
              "          google.colab.kernel.accessAllowed ? 'block' : 'none';\n",
              "\n",
              "        async function convertToInteractive(key) {\n",
              "          const element = document.querySelector('#df-a639c116-0cd4-4bf1-a609-0224140b7cb7');\n",
              "          const dataTable =\n",
              "            await google.colab.kernel.invokeFunction('convertToInteractive',\n",
              "                                                     [key], {});\n",
              "          if (!dataTable) return;\n",
              "\n",
              "          const docLinkHtml = 'Like what you see? Visit the ' +\n",
              "            '<a target=\"_blank\" href=https://colab.research.google.com/notebooks/data_table.ipynb>data table notebook</a>'\n",
              "            + ' to learn more about interactive tables.';\n",
              "          element.innerHTML = '';\n",
              "          dataTable['output_type'] = 'display_data';\n",
              "          await google.colab.output.renderOutput(dataTable, element);\n",
              "          const docLink = document.createElement('div');\n",
              "          docLink.innerHTML = docLinkHtml;\n",
              "          element.appendChild(docLink);\n",
              "        }\n",
              "      </script>\n",
              "    </div>\n",
              "  </div>\n",
              "  "
            ],
            "text/plain": [
              "       model  year  mileage  tax   mpg  engineSize\n",
              "0          4  2017    15944  150  57.7         1.0\n",
              "1          5  2018     9083  150  57.7         1.0\n",
              "2          5  2017    12456  150  57.7         1.0\n",
              "3          4  2019    10460  145  40.3         1.5\n",
              "4          4  2019     1482  145  48.7         1.0\n",
              "...      ...   ...      ...  ...   ...         ...\n",
              "17960      4  2016    31348  125  54.3         1.2\n",
              "17961      0  2017    16700  150  47.1         1.4\n",
              "17962      0  2014    40700   30  57.7         1.0\n",
              "17963      5  2015     7010   20  67.3         1.6\n",
              "17964     10  2018     5007  145  57.7         1.2\n",
              "\n",
              "[17962 rows x 6 columns]"
            ]
          },
          "metadata": {},
          "execution_count": 57
        }
      ]
    },
    {
      "cell_type": "code",
      "metadata": {
        "colab": {
          "base_uri": "https://localhost:8080/",
          "height": 424
        },
        "id": "PmX85EcnK-Eq",
        "outputId": "d29b8af7-de49-49b5-83a2-beda8c7dfd50"
      },
      "source": [
        "y=pd.DataFrame(y)\n",
        "y"
      ],
      "execution_count": 58,
      "outputs": [
        {
          "output_type": "execute_result",
          "data": {
            "text/html": [
              "\n",
              "  <div id=\"df-db367ac7-ceed-4274-845c-58c8a3b86d1f\">\n",
              "    <div class=\"colab-df-container\">\n",
              "      <div>\n",
              "<style scoped>\n",
              "    .dataframe tbody tr th:only-of-type {\n",
              "        vertical-align: middle;\n",
              "    }\n",
              "\n",
              "    .dataframe tbody tr th {\n",
              "        vertical-align: top;\n",
              "    }\n",
              "\n",
              "    .dataframe thead th {\n",
              "        text-align: right;\n",
              "    }\n",
              "</style>\n",
              "<table border=\"1\" class=\"dataframe\">\n",
              "  <thead>\n",
              "    <tr style=\"text-align: right;\">\n",
              "      <th></th>\n",
              "      <th>price</th>\n",
              "    </tr>\n",
              "  </thead>\n",
              "  <tbody>\n",
              "    <tr>\n",
              "      <th>0</th>\n",
              "      <td>12000</td>\n",
              "    </tr>\n",
              "    <tr>\n",
              "      <th>1</th>\n",
              "      <td>14000</td>\n",
              "    </tr>\n",
              "    <tr>\n",
              "      <th>2</th>\n",
              "      <td>13000</td>\n",
              "    </tr>\n",
              "    <tr>\n",
              "      <th>3</th>\n",
              "      <td>17500</td>\n",
              "    </tr>\n",
              "    <tr>\n",
              "      <th>4</th>\n",
              "      <td>16500</td>\n",
              "    </tr>\n",
              "    <tr>\n",
              "      <th>...</th>\n",
              "      <td>...</td>\n",
              "    </tr>\n",
              "    <tr>\n",
              "      <th>17960</th>\n",
              "      <td>7999</td>\n",
              "    </tr>\n",
              "    <tr>\n",
              "      <th>17961</th>\n",
              "      <td>8999</td>\n",
              "    </tr>\n",
              "    <tr>\n",
              "      <th>17962</th>\n",
              "      <td>7499</td>\n",
              "    </tr>\n",
              "    <tr>\n",
              "      <th>17963</th>\n",
              "      <td>9999</td>\n",
              "    </tr>\n",
              "    <tr>\n",
              "      <th>17964</th>\n",
              "      <td>8299</td>\n",
              "    </tr>\n",
              "  </tbody>\n",
              "</table>\n",
              "<p>17962 rows × 1 columns</p>\n",
              "</div>\n",
              "      <button class=\"colab-df-convert\" onclick=\"convertToInteractive('df-db367ac7-ceed-4274-845c-58c8a3b86d1f')\"\n",
              "              title=\"Convert this dataframe to an interactive table.\"\n",
              "              style=\"display:none;\">\n",
              "        \n",
              "  <svg xmlns=\"http://www.w3.org/2000/svg\" height=\"24px\"viewBox=\"0 0 24 24\"\n",
              "       width=\"24px\">\n",
              "    <path d=\"M0 0h24v24H0V0z\" fill=\"none\"/>\n",
              "    <path d=\"M18.56 5.44l.94 2.06.94-2.06 2.06-.94-2.06-.94-.94-2.06-.94 2.06-2.06.94zm-11 1L8.5 8.5l.94-2.06 2.06-.94-2.06-.94L8.5 2.5l-.94 2.06-2.06.94zm10 10l.94 2.06.94-2.06 2.06-.94-2.06-.94-.94-2.06-.94 2.06-2.06.94z\"/><path d=\"M17.41 7.96l-1.37-1.37c-.4-.4-.92-.59-1.43-.59-.52 0-1.04.2-1.43.59L10.3 9.45l-7.72 7.72c-.78.78-.78 2.05 0 2.83L4 21.41c.39.39.9.59 1.41.59.51 0 1.02-.2 1.41-.59l7.78-7.78 2.81-2.81c.8-.78.8-2.07 0-2.86zM5.41 20L4 18.59l7.72-7.72 1.47 1.35L5.41 20z\"/>\n",
              "  </svg>\n",
              "      </button>\n",
              "      \n",
              "  <style>\n",
              "    .colab-df-container {\n",
              "      display:flex;\n",
              "      flex-wrap:wrap;\n",
              "      gap: 12px;\n",
              "    }\n",
              "\n",
              "    .colab-df-convert {\n",
              "      background-color: #E8F0FE;\n",
              "      border: none;\n",
              "      border-radius: 50%;\n",
              "      cursor: pointer;\n",
              "      display: none;\n",
              "      fill: #1967D2;\n",
              "      height: 32px;\n",
              "      padding: 0 0 0 0;\n",
              "      width: 32px;\n",
              "    }\n",
              "\n",
              "    .colab-df-convert:hover {\n",
              "      background-color: #E2EBFA;\n",
              "      box-shadow: 0px 1px 2px rgba(60, 64, 67, 0.3), 0px 1px 3px 1px rgba(60, 64, 67, 0.15);\n",
              "      fill: #174EA6;\n",
              "    }\n",
              "\n",
              "    [theme=dark] .colab-df-convert {\n",
              "      background-color: #3B4455;\n",
              "      fill: #D2E3FC;\n",
              "    }\n",
              "\n",
              "    [theme=dark] .colab-df-convert:hover {\n",
              "      background-color: #434B5C;\n",
              "      box-shadow: 0px 1px 3px 1px rgba(0, 0, 0, 0.15);\n",
              "      filter: drop-shadow(0px 1px 2px rgba(0, 0, 0, 0.3));\n",
              "      fill: #FFFFFF;\n",
              "    }\n",
              "  </style>\n",
              "\n",
              "      <script>\n",
              "        const buttonEl =\n",
              "          document.querySelector('#df-db367ac7-ceed-4274-845c-58c8a3b86d1f button.colab-df-convert');\n",
              "        buttonEl.style.display =\n",
              "          google.colab.kernel.accessAllowed ? 'block' : 'none';\n",
              "\n",
              "        async function convertToInteractive(key) {\n",
              "          const element = document.querySelector('#df-db367ac7-ceed-4274-845c-58c8a3b86d1f');\n",
              "          const dataTable =\n",
              "            await google.colab.kernel.invokeFunction('convertToInteractive',\n",
              "                                                     [key], {});\n",
              "          if (!dataTable) return;\n",
              "\n",
              "          const docLinkHtml = 'Like what you see? Visit the ' +\n",
              "            '<a target=\"_blank\" href=https://colab.research.google.com/notebooks/data_table.ipynb>data table notebook</a>'\n",
              "            + ' to learn more about interactive tables.';\n",
              "          element.innerHTML = '';\n",
              "          dataTable['output_type'] = 'display_data';\n",
              "          await google.colab.output.renderOutput(dataTable, element);\n",
              "          const docLink = document.createElement('div');\n",
              "          docLink.innerHTML = docLinkHtml;\n",
              "          element.appendChild(docLink);\n",
              "        }\n",
              "      </script>\n",
              "    </div>\n",
              "  </div>\n",
              "  "
            ],
            "text/plain": [
              "       price\n",
              "0      12000\n",
              "1      14000\n",
              "2      13000\n",
              "3      17500\n",
              "4      16500\n",
              "...      ...\n",
              "17960   7999\n",
              "17961   8999\n",
              "17962   7499\n",
              "17963   9999\n",
              "17964   8299\n",
              "\n",
              "[17962 rows x 1 columns]"
            ]
          },
          "metadata": {},
          "execution_count": 58
        }
      ]
    },
    {
      "cell_type": "markdown",
      "metadata": {
        "id": "NT0s4N3O_heF"
      },
      "source": [
        "# Building Model and Result Model"
      ]
    },
    {
      "cell_type": "code",
      "metadata": {
        "colab": {
          "base_uri": "https://localhost:8080/"
        },
        "id": "h77zVOId8UBE",
        "outputId": "bcd3cebf-5193-45dc-9a37-97a2b5debd20"
      },
      "source": [
        "# percobaan 1\n",
        "from sklearn.model_selection import train_test_split\n",
        "\n",
        "xTrain, xTest, yTrain, yTest = train_test_split(x,y, test_size = 0.2, random_state = 0)\n",
        "\n",
        "print(\"=======================percobaan 1=======================\")\n",
        "print(\"Data train x :\",xTrain.shape,\" Data Test x: \", xTest.shape)\n",
        "print(\"Data Train y: \",yTrain.shape,\" Data Test y: \", yTest.shape)\n",
        "print(\" \")\n"
      ],
      "execution_count": 59,
      "outputs": [
        {
          "output_type": "stream",
          "name": "stdout",
          "text": [
            "=======================percobaan 1=======================\n",
            "Data train x : (14369, 6)  Data Test x:  (3593, 6)\n",
            "Data Train y:  (14369, 1)  Data Test y:  (3593, 1)\n",
            " \n"
          ]
        }
      ]
    },
    {
      "cell_type": "code",
      "metadata": {
        "colab": {
          "base_uri": "https://localhost:8080/",
          "height": 282
        },
        "id": "el7vM0IfJ78P",
        "outputId": "1cb2b0c0-7971-4f28-97be-549c4a0a3f2c"
      },
      "source": [
        "# data was will train\n",
        "plt.scatter(xTrain.iloc[:,5], xTrain.iloc[:, 1], cmap='winter')"
      ],
      "execution_count": 60,
      "outputs": [
        {
          "output_type": "execute_result",
          "data": {
            "text/plain": [
              "<matplotlib.collections.PathCollection at 0x7f56add94dd0>"
            ]
          },
          "metadata": {},
          "execution_count": 60
        },
        {
          "output_type": "display_data",
          "data": {
            "image/png": "[encoded data removed]",
            "text/plain": [
              "<Figure size 432x288 with 1 Axes>"
            ]
          },
          "metadata": {
            "needs_background": "light"
          }
        }
      ]
    },
    {
      "cell_type": "code",
      "metadata": {
        "colab": {
          "base_uri": "https://localhost:8080/"
        },
        "id": "u01vZ1KuD-uf",
        "outputId": "22e5bf17-5037-4ce9-ef53-7668d51e187d"
      },
      "source": [
        "# model linear regression\n",
        "\n",
        "from sklearn import linear_model\n",
        "from sklearn.linear_model import LinearRegression\n",
        "\n",
        "\n",
        "lr = LinearRegression()\n",
        "lr.fit(xTrain, yTrain)\n"
      ],
      "execution_count": 61,
      "outputs": [
        {
          "output_type": "execute_result",
          "data": {
            "text/plain": [
              "LinearRegression()"
            ]
          },
          "metadata": {},
          "execution_count": 61
        }
      ]
    },
    {
      "cell_type": "code",
      "metadata": {
        "colab": {
          "base_uri": "https://localhost:8080/"
        },
        "id": "EPND30f-NH0P",
        "outputId": "525da31a-0969-4406-82d0-777a7e0df0bb"
      },
      "source": [
        "# score model linear regression\n",
        "pred = lr.predict(xTest)\n",
        "print('Linear Regression Score: ', lr.score(xTest,yTest))"
      ],
      "execution_count": 62,
      "outputs": [
        {
          "output_type": "stream",
          "name": "stdout",
          "text": [
            "Linear Regression Score:  0.7465572014459334\n"
          ]
        }
      ]
    },
    {
      "cell_type": "code",
      "metadata": {
        "colab": {
          "base_uri": "https://localhost:8080/"
        },
        "id": "jocjG5ZLKs3z",
        "outputId": "8133837c-1b80-47b2-9ba2-fa94370aaa3c"
      },
      "source": [
        "print(\"intercept : \", lr.intercept_)\n",
        "print(\"Slop/Koefesien : \",lr.coef_)"
      ],
      "execution_count": 63,
      "outputs": [
        {
          "output_type": "stream",
          "name": "stdout",
          "text": [
            "intercept :  [-2557511.6470411]\n",
            "Slop/Koefesien :  [[ 5.03560906e+01  1.27341182e+03 -5.41325567e-02  6.50508673e-01\n",
            "  -7.74852211e+01  5.08816310e+03]]\n"
          ]
        }
      ]
    },
    {
      "cell_type": "code",
      "metadata": {
        "id": "4BnClgMu-G8o",
        "colab": {
          "base_uri": "https://localhost:8080/"
        },
        "outputId": "cdb3899d-a421-4c82-ad01-5cf321b532f5"
      },
      "source": [
        "print(pred)"
      ],
      "execution_count": 64,
      "outputs": [
        {
          "output_type": "stream",
          "name": "stdout",
          "text": [
            "[[ 9818.33991152]\n",
            " [ 9131.98327954]\n",
            " [12770.70300305]\n",
            " ...\n",
            " [11955.60466586]\n",
            " [15395.47070266]\n",
            " [12903.26479499]]\n"
          ]
        }
      ]
    },
    {
      "cell_type": "code",
      "metadata": {
        "colab": {
          "base_uri": "https://localhost:8080/"
        },
        "id": "5_dElkHzLdLy",
        "outputId": "0c8b9126-9249-4b43-c43b-6394677e6854"
      },
      "source": [
        "print(pred.round(decimals=-1))"
      ],
      "execution_count": 65,
      "outputs": [
        {
          "output_type": "stream",
          "name": "stdout",
          "text": [
            "[[ 9820.]\n",
            " [ 9130.]\n",
            " [12770.]\n",
            " ...\n",
            " [11960.]\n",
            " [15400.]\n",
            " [12900.]]\n"
          ]
        }
      ]
    },
    {
      "cell_type": "code",
      "metadata": {
        "colab": {
          "base_uri": "https://localhost:8080/"
        },
        "id": "nNAGMygCkyzS",
        "outputId": "1ee9b26e-302d-4ac9-9300-5e2002f4b497"
      },
      "source": [
        "dat= pd.DataFrame(pred)\n",
        "dat.replace"
      ],
      "execution_count": 66,
      "outputs": [
        {
          "output_type": "execute_result",
          "data": {
            "text/plain": [
              "<bound method DataFrame.replace of                  0\n",
              "0      9818.339912\n",
              "1      9131.983280\n",
              "2     12770.703003\n",
              "3     10460.602265\n",
              "4      9109.670983\n",
              "...            ...\n",
              "3588  16632.134047\n",
              "3589  10621.229466\n",
              "3590  11955.604666\n",
              "3591  15395.470703\n",
              "3592  12903.264795\n",
              "\n",
              "[3593 rows x 1 columns]>"
            ]
          },
          "metadata": {},
          "execution_count": 66
        }
      ]
    },
    {
      "cell_type": "markdown",
      "metadata": {
        "id": "XOAbUysCDtLm"
      },
      "source": [
        "# Validasi Model"
      ]
    },
    {
      "cell_type": "code",
      "metadata": {
        "id": "HYMTQ1JHDKqW",
        "colab": {
          "base_uri": "https://localhost:8080/"
        },
        "outputId": "24aac0e5-7f69-4503-b74f-c46b94e6d379"
      },
      "source": [
        "import statsmodels\n",
        "import statsmodels.api as sm\n",
        "import statsmodels.formula.api as smf\n",
        "import statsmodels.stats.api as sms\n",
        "from statsmodels.compat import lzip"
      ],
      "execution_count": 67,
      "outputs": [
        {
          "output_type": "stream",
          "name": "stderr",
          "text": [
            "/usr/local/lib/python3.7/dist-packages/statsmodels/tools/_testing.py:19: FutureWarning:\n",
            "\n",
            "pandas.util.testing is deprecated. Use the functions in the public API at pandas.testing instead.\n",
            "\n"
          ]
        }
      ]
    },
    {
      "cell_type": "code",
      "metadata": {
        "colab": {
          "base_uri": "https://localhost:8080/"
        },
        "id": "PcjJexTGC9tX",
        "outputId": "3004d0d1-4238-450c-a9e9-6a34b288df5f"
      },
      "source": [
        "X = nw_data[['model','year','mileage','tax','mpg','engineSize']]\n",
        "X = sm.add_constant(X) # adding a constant\n",
        "\n",
        "olsmod = sm.OLS(nw_data['price'], X).fit()\n",
        "print(olsmod.summary())"
      ],
      "execution_count": 68,
      "outputs": [
        {
          "output_type": "stream",
          "name": "stdout",
          "text": [
            "                            OLS Regression Results                            \n",
            "==============================================================================\n",
            "Dep. Variable:                  price   R-squared:                       0.738\n",
            "Model:                            OLS   Adj. R-squared:                  0.738\n",
            "Method:                 Least Squares   F-statistic:                     8423.\n",
            "Date:                Sun, 26 Dec 2021   Prob (F-statistic):               0.00\n",
            "Time:                        15:40:10   Log-Likelihood:            -1.6549e+05\n",
            "No. Observations:               17962   AIC:                         3.310e+05\n",
            "Df Residuals:                   17955   BIC:                         3.310e+05\n",
            "Df Model:                           6                                         \n",
            "Covariance Type:            nonrobust                                         \n",
            "==============================================================================\n",
            "                 coef    std err          t      P>|t|      [0.025      0.975]\n",
            "------------------------------------------------------------------------------\n",
            "const      -2.602e+06   2.74e+04    -94.810      0.000   -2.66e+06   -2.55e+06\n",
            "model         52.7264      5.601      9.414      0.000      41.748      63.705\n",
            "year        1295.6600     13.616     95.158      0.000    1268.971    1322.349\n",
            "mileage       -0.0525      0.001    -37.508      0.000      -0.055      -0.050\n",
            "tax            0.1159      0.362      0.320      0.749      -0.594       0.825\n",
            "mpg          -82.1476      2.174    -37.785      0.000     -86.409     -77.886\n",
            "engineSize  5113.0069     51.258     99.751      0.000    5012.536    5213.477\n",
            "==============================================================================\n",
            "Omnibus:                     4042.664   Durbin-Watson:                   1.765\n",
            "Prob(Omnibus):                  0.000   Jarque-Bera (JB):            36991.544\n",
            "Skew:                           0.822   Prob(JB):                         0.00\n",
            "Kurtosis:                       9.835   Cond. No.                     4.61e+07\n",
            "==============================================================================\n",
            "\n",
            "Warnings:\n",
            "[1] Standard Errors assume that the covariance matrix of the errors is correctly specified.\n",
            "[2] The condition number is large, 4.61e+07. This might indicate that there are\n",
            "strong multicollinearity or other numerical problems.\n"
          ]
        }
      ]
    },
    {
      "cell_type": "code",
      "metadata": {
        "colab": {
          "base_uri": "https://localhost:8080/",
          "height": 206
        },
        "id": "g4Eer8wZcaMd",
        "outputId": "fb273634-d8a7-40c4-ef9f-c9c80dd54884"
      },
      "source": [
        "nw_data['car_price_pred'] = olsmod.predict(X)\n",
        "nw_data['residual'] = olsmod.resid\n",
        "nw_data.head()"
      ],
      "execution_count": 69,
      "outputs": [
        {
          "output_type": "execute_result",
          "data": {
            "text/html": [
              "\n",
              "  <div id=\"df-8e6dc153-c247-41e8-8281-2761cac2abda\">\n",
              "    <div class=\"colab-df-container\">\n",
              "      <div>\n",
              "<style scoped>\n",
              "    .dataframe tbody tr th:only-of-type {\n",
              "        vertical-align: middle;\n",
              "    }\n",
              "\n",
              "    .dataframe tbody tr th {\n",
              "        vertical-align: top;\n",
              "    }\n",
              "\n",
              "    .dataframe thead th {\n",
              "        text-align: right;\n",
              "    }\n",
              "</style>\n",
              "<table border=\"1\" class=\"dataframe\">\n",
              "  <thead>\n",
              "    <tr style=\"text-align: right;\">\n",
              "      <th></th>\n",
              "      <th>model</th>\n",
              "      <th>year</th>\n",
              "      <th>mileage</th>\n",
              "      <th>tax</th>\n",
              "      <th>mpg</th>\n",
              "      <th>engineSize</th>\n",
              "      <th>price</th>\n",
              "      <th>car_price_pred</th>\n",
              "      <th>residual</th>\n",
              "    </tr>\n",
              "  </thead>\n",
              "  <tbody>\n",
              "    <tr>\n",
              "      <th>0</th>\n",
              "      <td>4</td>\n",
              "      <td>2017</td>\n",
              "      <td>15944</td>\n",
              "      <td>150</td>\n",
              "      <td>57.7</td>\n",
              "      <td>1.0</td>\n",
              "      <td>12000</td>\n",
              "      <td>10967.141025</td>\n",
              "      <td>1032.858975</td>\n",
              "    </tr>\n",
              "    <tr>\n",
              "      <th>1</th>\n",
              "      <td>5</td>\n",
              "      <td>2018</td>\n",
              "      <td>9083</td>\n",
              "      <td>150</td>\n",
              "      <td>57.7</td>\n",
              "      <td>1.0</td>\n",
              "      <td>14000</td>\n",
              "      <td>12675.529703</td>\n",
              "      <td>1324.470297</td>\n",
              "    </tr>\n",
              "    <tr>\n",
              "      <th>2</th>\n",
              "      <td>5</td>\n",
              "      <td>2017</td>\n",
              "      <td>12456</td>\n",
              "      <td>150</td>\n",
              "      <td>57.7</td>\n",
              "      <td>1.0</td>\n",
              "      <td>13000</td>\n",
              "      <td>11202.885638</td>\n",
              "      <td>1797.114362</td>\n",
              "    </tr>\n",
              "    <tr>\n",
              "      <th>3</th>\n",
              "      <td>4</td>\n",
              "      <td>2019</td>\n",
              "      <td>10460</td>\n",
              "      <td>145</td>\n",
              "      <td>40.3</td>\n",
              "      <td>1.5</td>\n",
              "      <td>17500</td>\n",
              "      <td>17831.502590</td>\n",
              "      <td>-331.502590</td>\n",
              "    </tr>\n",
              "    <tr>\n",
              "      <th>4</th>\n",
              "      <td>4</td>\n",
              "      <td>2019</td>\n",
              "      <td>1482</td>\n",
              "      <td>145</td>\n",
              "      <td>48.7</td>\n",
              "      <td>1.0</td>\n",
              "      <td>16500</td>\n",
              "      <td>15056.042432</td>\n",
              "      <td>1443.957568</td>\n",
              "    </tr>\n",
              "  </tbody>\n",
              "</table>\n",
              "</div>\n",
              "      <button class=\"colab-df-convert\" onclick=\"convertToInteractive('df-8e6dc153-c247-41e8-8281-2761cac2abda')\"\n",
              "              title=\"Convert this dataframe to an interactive table.\"\n",
              "              style=\"display:none;\">\n",
              "        \n",
              "  <svg xmlns=\"http://www.w3.org/2000/svg\" height=\"24px\"viewBox=\"0 0 24 24\"\n",
              "       width=\"24px\">\n",
              "    <path d=\"M0 0h24v24H0V0z\" fill=\"none\"/>\n",
              "    <path d=\"M18.56 5.44l.94 2.06.94-2.06 2.06-.94-2.06-.94-.94-2.06-.94 2.06-2.06.94zm-11 1L8.5 8.5l.94-2.06 2.06-.94-2.06-.94L8.5 2.5l-.94 2.06-2.06.94zm10 10l.94 2.06.94-2.06 2.06-.94-2.06-.94-.94-2.06-.94 2.06-2.06.94z\"/><path d=\"M17.41 7.96l-1.37-1.37c-.4-.4-.92-.59-1.43-.59-.52 0-1.04.2-1.43.59L10.3 9.45l-7.72 7.72c-.78.78-.78 2.05 0 2.83L4 21.41c.39.39.9.59 1.41.59.51 0 1.02-.2 1.41-.59l7.78-7.78 2.81-2.81c.8-.78.8-2.07 0-2.86zM5.41 20L4 18.59l7.72-7.72 1.47 1.35L5.41 20z\"/>\n",
              "  </svg>\n",
              "      </button>\n",
              "      \n",
              "  <style>\n",
              "    .colab-df-container {\n",
              "      display:flex;\n",
              "      flex-wrap:wrap;\n",
              "      gap: 12px;\n",
              "    }\n",
              "\n",
              "    .colab-df-convert {\n",
              "      background-color: #E8F0FE;\n",
              "      border: none;\n",
              "      border-radius: 50%;\n",
              "      cursor: pointer;\n",
              "      display: none;\n",
              "      fill: #1967D2;\n",
              "      height: 32px;\n",
              "      padding: 0 0 0 0;\n",
              "      width: 32px;\n",
              "    }\n",
              "\n",
              "    .colab-df-convert:hover {\n",
              "      background-color: #E2EBFA;\n",
              "      box-shadow: 0px 1px 2px rgba(60, 64, 67, 0.3), 0px 1px 3px 1px rgba(60, 64, 67, 0.15);\n",
              "      fill: #174EA6;\n",
              "    }\n",
              "\n",
              "    [theme=dark] .colab-df-convert {\n",
              "      background-color: #3B4455;\n",
              "      fill: #D2E3FC;\n",
              "    }\n",
              "\n",
              "    [theme=dark] .colab-df-convert:hover {\n",
              "      background-color: #434B5C;\n",
              "      box-shadow: 0px 1px 3px 1px rgba(0, 0, 0, 0.15);\n",
              "      filter: drop-shadow(0px 1px 2px rgba(0, 0, 0, 0.3));\n",
              "      fill: #FFFFFF;\n",
              "    }\n",
              "  </style>\n",
              "\n",
              "      <script>\n",
              "        const buttonEl =\n",
              "          document.querySelector('#df-8e6dc153-c247-41e8-8281-2761cac2abda button.colab-df-convert');\n",
              "        buttonEl.style.display =\n",
              "          google.colab.kernel.accessAllowed ? 'block' : 'none';\n",
              "\n",
              "        async function convertToInteractive(key) {\n",
              "          const element = document.querySelector('#df-8e6dc153-c247-41e8-8281-2761cac2abda');\n",
              "          const dataTable =\n",
              "            await google.colab.kernel.invokeFunction('convertToInteractive',\n",
              "                                                     [key], {});\n",
              "          if (!dataTable) return;\n",
              "\n",
              "          const docLinkHtml = 'Like what you see? Visit the ' +\n",
              "            '<a target=\"_blank\" href=https://colab.research.google.com/notebooks/data_table.ipynb>data table notebook</a>'\n",
              "            + ' to learn more about interactive tables.';\n",
              "          element.innerHTML = '';\n",
              "          dataTable['output_type'] = 'display_data';\n",
              "          await google.colab.output.renderOutput(dataTable, element);\n",
              "          const docLink = document.createElement('div');\n",
              "          docLink.innerHTML = docLinkHtml;\n",
              "          element.appendChild(docLink);\n",
              "        }\n",
              "      </script>\n",
              "    </div>\n",
              "  </div>\n",
              "  "
            ],
            "text/plain": [
              "   model  year  mileage  tax  ...  engineSize  price  car_price_pred     residual\n",
              "0      4  2017    15944  150  ...         1.0  12000    10967.141025  1032.858975\n",
              "1      5  2018     9083  150  ...         1.0  14000    12675.529703  1324.470297\n",
              "2      5  2017    12456  150  ...         1.0  13000    11202.885638  1797.114362\n",
              "3      4  2019    10460  145  ...         1.5  17500    17831.502590  -331.502590\n",
              "4      4  2019     1482  145  ...         1.0  16500    15056.042432  1443.957568\n",
              "\n",
              "[5 rows x 9 columns]"
            ]
          },
          "metadata": {},
          "execution_count": 69
        }
      ]
    },
    {
      "cell_type": "markdown",
      "metadata": {
        "id": "8zUSt8qA_5-f"
      },
      "source": [
        "# Assumption Test"
      ]
    },
    {
      "cell_type": "code",
      "metadata": {
        "colab": {
          "base_uri": "https://localhost:8080/",
          "height": 460
        },
        "id": "3MuhtAgpE-4u",
        "outputId": "15183da2-955f-4397-f419-6258bc9ac0e6"
      },
      "source": [
        "# Uji Linearitas\n",
        "\n",
        "# Plotting the observed vs predicted values\n",
        "sns.lmplot(x='price', y='car_price_pred', data=nw_data, fit_reg=False, size=5)\n",
        "    \n",
        "# Plotting the diagonal line\n",
        "line_coords = np.arange(nw_data[['price', 'car_price_pred']].min().min()-10, \n",
        "                        nw_data[['price', 'car_price_pred']].max().max()+10)\n",
        "plt.plot(line_coords, line_coords,  # X and y points\n",
        "         color='darkorange', linestyle='--')\n",
        "\n",
        "plt.ylabel('Predicted price car', fontsize=14)\n",
        "plt.xlabel('Actual price car', fontsize=14)\n",
        "plt.title('Linearity Assumption', fontsize=16)\n",
        "plt.show()"
      ],
      "execution_count": 70,
      "outputs": [
        {
          "output_type": "stream",
          "name": "stderr",
          "text": [
            "/usr/local/lib/python3.7/dist-packages/seaborn/regression.py:581: UserWarning:\n",
            "\n",
            "The `size` parameter has been renamed to `height`; please update your code.\n",
            "\n"
          ]
        },
        {
          "output_type": "display_data",
          "data": {
            "image/png": "[encoded data removed]",
            "text/plain": [
              "<Figure size 360x360 with 1 Axes>"
            ]
          },
          "metadata": {
            "needs_background": "light"
          }
        }
      ]
    },
    {
      "cell_type": "code",
      "metadata": {
        "colab": {
          "base_uri": "https://localhost:8080/",
          "height": 492
        },
        "id": "1btSLP4dHDUY",
        "outputId": "dedd1b2a-de3c-4bc7-b8e0-61eeb2c701f2"
      },
      "source": [
        "# Uji Normalisasi\n",
        "\n",
        "from statsmodels.stats.diagnostic import normal_ad\n",
        "\n",
        "# Performing the test on the residuals\n",
        "p_value = normal_ad(nw_data['residual'])[1]\n",
        "print('p-value from the test Anderson-Darling test below 0.05 generally means non-normal:', p_value)\n",
        "\n",
        "# Plotting the residuals distribution\n",
        "plt.subplots(figsize=(8, 4))\n",
        "plt.title('Distribution of Residuals', fontsize=18)\n",
        "sns.distplot(nw_data['residual'])\n",
        "plt.show()\n",
        "\n",
        "# Reporting the normality of the residuals\n",
        "if p_value < 0.05:\n",
        "    print('Residuals are not normally distributed')\n",
        "else:\n",
        "    print('Residuals are normally distributed')"
      ],
      "execution_count": 71,
      "outputs": [
        {
          "output_type": "stream",
          "name": "stderr",
          "text": [
            "/usr/local/lib/python3.7/dist-packages/statsmodels/stats/_adnorm.py:67: RuntimeWarning:\n",
            "\n",
            "divide by zero encountered in log\n",
            "\n",
            "/usr/local/lib/python3.7/dist-packages/seaborn/distributions.py:2619: FutureWarning:\n",
            "\n",
            "`distplot` is a deprecated function and will be removed in a future version. Please adapt your code to use either `displot` (a figure-level function with similar flexibility) or `histplot` (an axes-level function for histograms).\n",
            "\n"
          ]
        },
        {
          "output_type": "stream",
          "name": "stdout",
          "text": [
            "p-value from the test Anderson-Darling test below 0.05 generally means non-normal: 0.0\n"
          ]
        },
        {
          "output_type": "display_data",
          "data": {
            "image/png": "[encoded data removed]",
            "text/plain": [
              "<Figure size 576x288 with 1 Axes>"
            ]
          },
          "metadata": {
            "needs_background": "light"
          }
        },
        {
          "output_type": "stream",
          "name": "stdout",
          "text": [
            "Residuals are not normally distributed\n"
          ]
        }
      ]
    },
    {
      "cell_type": "code",
      "metadata": {
        "colab": {
          "base_uri": "https://localhost:8080/",
          "height": 301
        },
        "id": "kIAern-ILM6f",
        "outputId": "19cac6b6-8721-4bdf-9579-0f9e7033ee16"
      },
      "source": [
        "# HOMOSKEDASTISITAS\n",
        "\n",
        "# Plotting the residuals\n",
        "plt.subplots(figsize=(8, 4))\n",
        "plt.scatter(x=nw_data.index, y=nw_data.residual, alpha=0.8)\n",
        "plt.plot(np.repeat(0, len(nw_data.index)+2), color='darkorange', linestyle='--')\n",
        "\n",
        "plt.ylabel('Residual', fontsize=14)\n",
        "plt.xlabel('price', fontsize=14)\n",
        "plt.title('Homescedasticity Assumption', fontsize=16)\n",
        "plt.show()  "
      ],
      "execution_count": 72,
      "outputs": [
        {
          "output_type": "display_data",
          "data": {
            "image/png": "[encoded data removed]",
            "text/plain": [
              "<Figure size 576x288 with 1 Axes>"
            ]
          },
          "metadata": {
            "needs_background": "light"
          }
        }
      ]
    },
    {
      "cell_type": "code",
      "metadata": {
        "id": "-FL-ksEuOxSb"
      },
      "source": [
        "plt.style.use(\"ggplot\")"
      ],
      "execution_count": 73,
      "outputs": []
    },
    {
      "cell_type": "code",
      "metadata": {
        "colab": {
          "base_uri": "https://localhost:8080/"
        },
        "id": "YQJLuP8QO5nb",
        "outputId": "73c2b105-d175-4c28-d5f0-0b01d2a969b5"
      },
      "source": [
        "from statsmodels.stats.outliers_influence import variance_inflation_factor\n",
        "\n",
        "X = nw_data[['model','year','mileage','tax','mpg','engineSize']]\n",
        "  \n",
        "# VIF dataframe\n",
        "vif_data = pd.DataFrame()\n",
        "vif_data[\"feature\"] = X.columns\n",
        "  \n",
        "# calculating VIF for each feature\n",
        "vif_data[\"VIF\"] = [variance_inflation_factor(X.values, i)for i in range(len(X.columns))]\n",
        "  \n",
        "print(vif_data)"
      ],
      "execution_count": 74,
      "outputs": [
        {
          "output_type": "stream",
          "name": "stdout",
          "text": [
            "      feature        VIF\n",
            "0       model   4.738019\n",
            "1        year  83.776454\n",
            "2     mileage   2.839159\n",
            "3         tax   6.285650\n",
            "4         mpg  47.522857\n",
            "5  engineSize  16.069283\n"
          ]
        }
      ]
    },
    {
      "cell_type": "code",
      "metadata": {
        "id": "pgMORKllgAsg"
      },
      "source": [
        "from patsy import dmatrices\n",
        "from statsmodels.stats.outliers_influence import variance_inflation_factor\n",
        "vf = ['model','year','mileage','tax','mpg','engineSize']\n",
        "\n",
        "lm = smf.ols(formula = \"price~ model+year+mileage+tax+mpg+engineSize\", data = nw_data).fit()\n",
        "y,X = dmatrices (\"price~ model+year+mileage+tax+mpg+engineSize\", data = nw_data, return_type =\"dataframe\")\n",
        "vif = [variance_inflation_factor(X.values, i) for i in range(X.shape[1])]\n",
        "vf = pd.DataFrame(vif)"
      ],
      "execution_count": 76,
      "outputs": []
    },
    {
      "cell_type": "markdown",
      "metadata": {
        "id": "tEYnDOshH2sz"
      },
      "source": [
        "# Tambahan"
      ]
    },
    {
      "cell_type": "code",
      "metadata": {
        "colab": {
          "base_uri": "https://localhost:8080/"
        },
        "id": "7Oba0IxUH0vk",
        "outputId": "54318313-625b-4953-ab5a-33389602b5a5"
      },
      "source": [
        "import pandas as pd\n",
        "import matplotlib.pyplot as plt\n",
        "import numpy as np\n",
        "from sklearn import preprocessing\n",
        "from sklearn.model_selection import train_test_split\n",
        "from sklearn import linear_model\n",
        "from sklearn.linear_model import LinearRegression\n",
        "\n",
        "def mark_predict(th,mil,tx,pg,engine):\n",
        "    # import data\n",
        "    data = pd.read_csv(\"https://raw.githubusercontent.com/Faiqazmi/Dataset_latihan/main/ford.csv\")\n",
        "\n",
        "\n",
        "    # encoder data\n",
        "    encode = preprocessing.LabelEncoder()\n",
        "\n",
        "    encode.fit(data.transmission.drop_duplicates())\n",
        "    data.transmission = encode.transform(data.transmission)\n",
        "\n",
        "    encode.fit(data.fuelType.drop_duplicates())\n",
        "    data.fuelType = encode.transform(data.fuelType)\n",
        "\n",
        "    encode.fit(data.model.drop_duplicates())\n",
        "    data.model = encode.transform(data.model)\n",
        "\n",
        "    #Dropping data\n",
        "    data.drop(columns=['fuelType','transmission'], inplace=True)\n",
        "\n",
        "    #Pengurutan data\n",
        "    nw_data = data[['model','year','mileage','tax','mpg','engineSize','price']]\n",
        "\n",
        "\n",
        "    #feature and label selection\n",
        "    x = nw_data.iloc[:, 1:6].values\n",
        "    y = nw_data.iloc[:, -1].values\n",
        "\n",
        "    #Split data --> Train and split\n",
        "\n",
        "  \n",
        "    #Building model Linear regression\n",
        "    lr = LinearRegression()\n",
        "    lr.fit(x, y)\n",
        "\n",
        "    #Predict\n",
        "    X_test = np.array([th,mil,tx,pg,engine])\n",
        "    X_test = X_test.reshape((1,-1))\n",
        "    hasil = lr.predict(X_test)[0]\n",
        "\n",
        "\n",
        "    return round(hasil)\n",
        "\n",
        "mark_predict(2012,1546,140,40,2)\n"
      ],
      "execution_count": 78,
      "outputs": [
        {
          "output_type": "execute_result",
          "data": {
            "text/plain": [
              "12575"
            ]
          },
          "metadata": {},
          "execution_count": 78
        }
      ]
    }
  ]
}