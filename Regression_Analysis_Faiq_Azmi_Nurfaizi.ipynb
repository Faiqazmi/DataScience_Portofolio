{
  "nbformat": 4,
  "nbformat_minor": 0,
  "metadata": {
    "colab": {
      "provenance": [],
      "authorship_tag": "ABX9TyOUQcjgByWZktrtNPdhXMMd",
      "include_colab_link": true
    },
    "kernelspec": {
      "name": "python3",
      "display_name": "Python 3"
    },
    "language_info": {
      "name": "python"
    }
  },
  "cells": [
    {
      "cell_type": "markdown",
      "metadata": {
        "id": "view-in-github",
        "colab_type": "text"
      },
      "source": [
        "<a href=\"https://colab.research.google.com/github/Faiqazmi/Data_Portofolio/blob/main/Regression_Analysis_Faiq_Azmi_Nurfaizi.ipynb\" target=\"_parent\"><img src=\"https://colab.research.google.com/assets/colab-badge.svg\" alt=\"Open In Colab\"/></a>"
      ]
    },
    {
      "cell_type": "markdown",
      "source": [
        "Uji diagnostik untuk model ini akan mencakup:\n",
        "\n",
        "- Uji Signifikansi Koefisien (uji t)\n",
        "- Uji F untuk signifikansi keseluruhan model\n",
        "- Analisis Residual\n",
        "- Multikolinearitas dengan VIF (Variance Inflation Factor)"
      ],
      "metadata": {
        "id": "I8LksL2WNpqv"
      }
    },
    {
      "cell_type": "markdown",
      "source": [
        "# 1. Import Library\n",
        "Importing libraries needed for the purposes of creating machine learning models"
      ],
      "metadata": {
        "id": "pBYgMLWAzewW"
      }
    },
    {
      "cell_type": "code",
      "execution_count": 1,
      "metadata": {
        "id": "PhQx68EzzEzE"
      },
      "outputs": [],
      "source": [
        "import pandas as pd\n",
        "import numpy as np\n",
        "\n",
        "import statsmodels.api as sm\n",
        "from statsmodels.stats.outliers_influence import variance_inflation_factor\n",
        "import seaborn as sns\n",
        "import matplotlib.pyplot as plt"
      ]
    },
    {
      "cell_type": "markdown",
      "source": [
        "# 2. Importing Dataset"
      ],
      "metadata": {
        "id": "JkAFKgtWzx4x"
      }
    },
    {
      "cell_type": "code",
      "source": [
        "df = pd.read_csv('https://gist.githubusercontent.com/seankross/a412dfbd88b3db70b74b/raw/5f23f993cd87c283ce766e7ac6b329ee7cc2e1d1/mtcars.csv')\n",
        "df.to_csv('mtcars.csv')"
      ],
      "metadata": {
        "id": "zAhpKjxlzKkD"
      },
      "execution_count": 2,
      "outputs": []
    },
    {
      "cell_type": "markdown",
      "source": [
        "# 3. Feature Selection"
      ],
      "metadata": {
        "id": "0SjEgn_cQBvc"
      }
    },
    {
      "cell_type": "markdown",
      "source": [
        "# 3.a Sebelum Feature Selection"
      ],
      "metadata": {
        "id": "qWR833MjUd8X"
      }
    },
    {
      "cell_type": "code",
      "source": [
        "X = df[['cyl', 'disp', 'hp', 'drat', 'wt', 'qsec', 'vs', 'am', 'gear', 'carb']]\n",
        "y = df['mpg']\n",
        "X = sm.add_constant(X)\n",
        "\n",
        "model = sm.OLS(y, X).fit()\n",
        "\n",
        "summary = model.summary()\n",
        "summary"
      ],
      "metadata": {
        "colab": {
          "base_uri": "https://localhost:8080/",
          "height": 660
        },
        "id": "zX2nyEfdUdTo",
        "outputId": "9fbc6580-93b6-4625-982e-a1047920f3de"
      },
      "execution_count": 20,
      "outputs": [
        {
          "output_type": "execute_result",
          "data": {
            "text/plain": [
              "<class 'statsmodels.iolib.summary.Summary'>\n",
              "\"\"\"\n",
              "                            OLS Regression Results                            \n",
              "==============================================================================\n",
              "Dep. Variable:                    mpg   R-squared:                       0.869\n",
              "Model:                            OLS   Adj. R-squared:                  0.807\n",
              "Method:                 Least Squares   F-statistic:                     13.93\n",
              "Date:                Sun, 23 Jun 2024   Prob (F-statistic):           3.79e-07\n",
              "Time:                        18:19:08   Log-Likelihood:                -69.855\n",
              "No. Observations:                  32   AIC:                             161.7\n",
              "Df Residuals:                      21   BIC:                             177.8\n",
              "Df Model:                          10                                         \n",
              "Covariance Type:            nonrobust                                         \n",
              "==============================================================================\n",
              "                 coef    std err          t      P>|t|      [0.025      0.975]\n",
              "------------------------------------------------------------------------------\n",
              "const         12.3034     18.718      0.657      0.518     -26.623      51.229\n",
              "cyl           -0.1114      1.045     -0.107      0.916      -2.285       2.062\n",
              "disp           0.0133      0.018      0.747      0.463      -0.024       0.050\n",
              "hp            -0.0215      0.022     -0.987      0.335      -0.067       0.024\n",
              "drat           0.7871      1.635      0.481      0.635      -2.614       4.188\n",
              "wt            -3.7153      1.894     -1.961      0.063      -7.655       0.224\n",
              "qsec           0.8210      0.731      1.123      0.274      -0.699       2.341\n",
              "vs             0.3178      2.105      0.151      0.881      -4.059       4.694\n",
              "am             2.5202      2.057      1.225      0.234      -1.757       6.797\n",
              "gear           0.6554      1.493      0.439      0.665      -2.450       3.761\n",
              "carb          -0.1994      0.829     -0.241      0.812      -1.923       1.524\n",
              "==============================================================================\n",
              "Omnibus:                        1.907   Durbin-Watson:                   1.861\n",
              "Prob(Omnibus):                  0.385   Jarque-Bera (JB):                1.747\n",
              "Skew:                           0.521   Prob(JB):                        0.418\n",
              "Kurtosis:                       2.526   Cond. No.                     1.22e+04\n",
              "==============================================================================\n",
              "\n",
              "Notes:\n",
              "[1] Standard Errors assume that the covariance matrix of the errors is correctly specified.\n",
              "[2] The condition number is large, 1.22e+04. This might indicate that there are\n",
              "strong multicollinearity or other numerical problems.\n",
              "\"\"\""
            ],
            "text/html": [
              "<table class=\"simpletable\">\n",
              "<caption>OLS Regression Results</caption>\n",
              "<tr>\n",
              "  <th>Dep. Variable:</th>           <td>mpg</td>       <th>  R-squared:         </th> <td>   0.869</td>\n",
              "</tr>\n",
              "<tr>\n",
              "  <th>Model:</th>                   <td>OLS</td>       <th>  Adj. R-squared:    </th> <td>   0.807</td>\n",
              "</tr>\n",
              "<tr>\n",
              "  <th>Method:</th>             <td>Least Squares</td>  <th>  F-statistic:       </th> <td>   13.93</td>\n",
              "</tr>\n",
              "<tr>\n",
              "  <th>Date:</th>             <td>Sun, 23 Jun 2024</td> <th>  Prob (F-statistic):</th> <td>3.79e-07</td>\n",
              "</tr>\n",
              "<tr>\n",
              "  <th>Time:</th>                 <td>18:19:08</td>     <th>  Log-Likelihood:    </th> <td> -69.855</td>\n",
              "</tr>\n",
              "<tr>\n",
              "  <th>No. Observations:</th>      <td>    32</td>      <th>  AIC:               </th> <td>   161.7</td>\n",
              "</tr>\n",
              "<tr>\n",
              "  <th>Df Residuals:</th>          <td>    21</td>      <th>  BIC:               </th> <td>   177.8</td>\n",
              "</tr>\n",
              "<tr>\n",
              "  <th>Df Model:</th>              <td>    10</td>      <th>                     </th>     <td> </td>   \n",
              "</tr>\n",
              "<tr>\n",
              "  <th>Covariance Type:</th>      <td>nonrobust</td>    <th>                     </th>     <td> </td>   \n",
              "</tr>\n",
              "</table>\n",
              "<table class=\"simpletable\">\n",
              "<tr>\n",
              "    <td></td>       <th>coef</th>     <th>std err</th>      <th>t</th>      <th>P>|t|</th>  <th>[0.025</th>    <th>0.975]</th>  \n",
              "</tr>\n",
              "<tr>\n",
              "  <th>const</th> <td>   12.3034</td> <td>   18.718</td> <td>    0.657</td> <td> 0.518</td> <td>  -26.623</td> <td>   51.229</td>\n",
              "</tr>\n",
              "<tr>\n",
              "  <th>cyl</th>   <td>   -0.1114</td> <td>    1.045</td> <td>   -0.107</td> <td> 0.916</td> <td>   -2.285</td> <td>    2.062</td>\n",
              "</tr>\n",
              "<tr>\n",
              "  <th>disp</th>  <td>    0.0133</td> <td>    0.018</td> <td>    0.747</td> <td> 0.463</td> <td>   -0.024</td> <td>    0.050</td>\n",
              "</tr>\n",
              "<tr>\n",
              "  <th>hp</th>    <td>   -0.0215</td> <td>    0.022</td> <td>   -0.987</td> <td> 0.335</td> <td>   -0.067</td> <td>    0.024</td>\n",
              "</tr>\n",
              "<tr>\n",
              "  <th>drat</th>  <td>    0.7871</td> <td>    1.635</td> <td>    0.481</td> <td> 0.635</td> <td>   -2.614</td> <td>    4.188</td>\n",
              "</tr>\n",
              "<tr>\n",
              "  <th>wt</th>    <td>   -3.7153</td> <td>    1.894</td> <td>   -1.961</td> <td> 0.063</td> <td>   -7.655</td> <td>    0.224</td>\n",
              "</tr>\n",
              "<tr>\n",
              "  <th>qsec</th>  <td>    0.8210</td> <td>    0.731</td> <td>    1.123</td> <td> 0.274</td> <td>   -0.699</td> <td>    2.341</td>\n",
              "</tr>\n",
              "<tr>\n",
              "  <th>vs</th>    <td>    0.3178</td> <td>    2.105</td> <td>    0.151</td> <td> 0.881</td> <td>   -4.059</td> <td>    4.694</td>\n",
              "</tr>\n",
              "<tr>\n",
              "  <th>am</th>    <td>    2.5202</td> <td>    2.057</td> <td>    1.225</td> <td> 0.234</td> <td>   -1.757</td> <td>    6.797</td>\n",
              "</tr>\n",
              "<tr>\n",
              "  <th>gear</th>  <td>    0.6554</td> <td>    1.493</td> <td>    0.439</td> <td> 0.665</td> <td>   -2.450</td> <td>    3.761</td>\n",
              "</tr>\n",
              "<tr>\n",
              "  <th>carb</th>  <td>   -0.1994</td> <td>    0.829</td> <td>   -0.241</td> <td> 0.812</td> <td>   -1.923</td> <td>    1.524</td>\n",
              "</tr>\n",
              "</table>\n",
              "<table class=\"simpletable\">\n",
              "<tr>\n",
              "  <th>Omnibus:</th>       <td> 1.907</td> <th>  Durbin-Watson:     </th> <td>   1.861</td>\n",
              "</tr>\n",
              "<tr>\n",
              "  <th>Prob(Omnibus):</th> <td> 0.385</td> <th>  Jarque-Bera (JB):  </th> <td>   1.747</td>\n",
              "</tr>\n",
              "<tr>\n",
              "  <th>Skew:</th>          <td> 0.521</td> <th>  Prob(JB):          </th> <td>   0.418</td>\n",
              "</tr>\n",
              "<tr>\n",
              "  <th>Kurtosis:</th>      <td> 2.526</td> <th>  Cond. No.          </th> <td>1.22e+04</td>\n",
              "</tr>\n",
              "</table><br/><br/>Notes:<br/>[1] Standard Errors assume that the covariance matrix of the errors is correctly specified.<br/>[2] The condition number is large, 1.22e+04. This might indicate that there are<br/>strong multicollinearity or other numerical problems."
            ],
            "text/latex": "\\begin{center}\n\\begin{tabular}{lclc}\n\\toprule\n\\textbf{Dep. Variable:}    &       mpg        & \\textbf{  R-squared:         } &     0.869   \\\\\n\\textbf{Model:}            &       OLS        & \\textbf{  Adj. R-squared:    } &     0.807   \\\\\n\\textbf{Method:}           &  Least Squares   & \\textbf{  F-statistic:       } &     13.93   \\\\\n\\textbf{Date:}             & Sun, 23 Jun 2024 & \\textbf{  Prob (F-statistic):} &  3.79e-07   \\\\\n\\textbf{Time:}             &     18:19:08     & \\textbf{  Log-Likelihood:    } &   -69.855   \\\\\n\\textbf{No. Observations:} &          32      & \\textbf{  AIC:               } &     161.7   \\\\\n\\textbf{Df Residuals:}     &          21      & \\textbf{  BIC:               } &     177.8   \\\\\n\\textbf{Df Model:}         &          10      & \\textbf{                     } &             \\\\\n\\textbf{Covariance Type:}  &    nonrobust     & \\textbf{                     } &             \\\\\n\\bottomrule\n\\end{tabular}\n\\begin{tabular}{lcccccc}\n               & \\textbf{coef} & \\textbf{std err} & \\textbf{t} & \\textbf{P$> |$t$|$} & \\textbf{[0.025} & \\textbf{0.975]}  \\\\\n\\midrule\n\\textbf{const} &      12.3034  &       18.718     &     0.657  &         0.518        &      -26.623    &       51.229     \\\\\n\\textbf{cyl}   &      -0.1114  &        1.045     &    -0.107  &         0.916        &       -2.285    &        2.062     \\\\\n\\textbf{disp}  &       0.0133  &        0.018     &     0.747  &         0.463        &       -0.024    &        0.050     \\\\\n\\textbf{hp}    &      -0.0215  &        0.022     &    -0.987  &         0.335        &       -0.067    &        0.024     \\\\\n\\textbf{drat}  &       0.7871  &        1.635     &     0.481  &         0.635        &       -2.614    &        4.188     \\\\\n\\textbf{wt}    &      -3.7153  &        1.894     &    -1.961  &         0.063        &       -7.655    &        0.224     \\\\\n\\textbf{qsec}  &       0.8210  &        0.731     &     1.123  &         0.274        &       -0.699    &        2.341     \\\\\n\\textbf{vs}    &       0.3178  &        2.105     &     0.151  &         0.881        &       -4.059    &        4.694     \\\\\n\\textbf{am}    &       2.5202  &        2.057     &     1.225  &         0.234        &       -1.757    &        6.797     \\\\\n\\textbf{gear}  &       0.6554  &        1.493     &     0.439  &         0.665        &       -2.450    &        3.761     \\\\\n\\textbf{carb}  &      -0.1994  &        0.829     &    -0.241  &         0.812        &       -1.923    &        1.524     \\\\\n\\bottomrule\n\\end{tabular}\n\\begin{tabular}{lclc}\n\\textbf{Omnibus:}       &  1.907 & \\textbf{  Durbin-Watson:     } &    1.861  \\\\\n\\textbf{Prob(Omnibus):} &  0.385 & \\textbf{  Jarque-Bera (JB):  } &    1.747  \\\\\n\\textbf{Skew:}          &  0.521 & \\textbf{  Prob(JB):          } &    0.418  \\\\\n\\textbf{Kurtosis:}      &  2.526 & \\textbf{  Cond. No.          } & 1.22e+04  \\\\\n\\bottomrule\n\\end{tabular}\n%\\caption{OLS Regression Results}\n\\end{center}\n\nNotes: \\newline\n [1] Standard Errors assume that the covariance matrix of the errors is correctly specified. \\newline\n [2] The condition number is large, 1.22e+04. This might indicate that there are \\newline\n strong multicollinearity or other numerical problems."
          },
          "metadata": {},
          "execution_count": 20
        }
      ]
    },
    {
      "cell_type": "markdown",
      "source": [
        "# 3.b Setelah Feature Selection"
      ],
      "metadata": {
        "id": "3IoHljsLUumg"
      }
    },
    {
      "cell_type": "code",
      "source": [
        "X = df[['cyl', 'disp', 'hp', 'drat', 'wt', 'qsec', 'vs', 'am', 'gear', 'carb']]\n",
        "y = df['mpg']\n",
        "X = sm.add_constant(X)\n",
        "\n",
        "# Backward elimination\n",
        "def backward_elimination(data, target, significance_level=0.05):\n",
        "    features = data.columns.tolist()\n",
        "    while len(features) > 0:\n",
        "        features_with_constant = sm.add_constant(data[features])\n",
        "        model = sm.OLS(target, features_with_constant).fit()\n",
        "        p_values = model.pvalues.iloc[1:]  # exclude intercept\n",
        "        max_p_value = p_values.max()\n",
        "        if max_p_value > significance_level:\n",
        "            excluded_feature = p_values.idxmax()\n",
        "            features.remove(excluded_feature)\n",
        "            print(f'{excluded_feature} : p-value {max_p_value}')\n",
        "        else:\n",
        "            break\n",
        "    return model\n",
        "\n",
        "final_model = backward_elimination(X, y)\n",
        "\n",
        "# Variance Inflation Factor\n",
        "def calculate_vif(X):\n",
        "    vif_data = pd.DataFrame()\n",
        "    vif_data[\"feature\"] = X.columns\n",
        "    vif_data[\"VIF\"] = [variance_inflation_factor(X.values, i) for i in range(len(X.columns))]\n",
        "    return vif_data\n",
        "\n",
        "final_features = X.columns.tolist()\n",
        "final_vif = calculate_vif(X[final_features])\n",
        "\n",
        "final_model.summary(), final_vif"
      ],
      "metadata": {
        "colab": {
          "base_uri": "https://localhost:8080/"
        },
        "id": "scPiJ4S2QBCN",
        "outputId": "aeeaed71-a141-4c32-b75c-e480e321c385"
      },
      "execution_count": 13,
      "outputs": [
        {
          "output_type": "stream",
          "name": "stdout",
          "text": [
            "Removed cyl with p-value 0.9160873755159589\n",
            "Removed vs with p-value 0.8432584965761344\n",
            "Removed carb with p-value 0.7469582101199183\n",
            "Removed gear with p-value 0.6196406158022718\n",
            "Removed drat with p-value 0.4624011846644497\n",
            "Removed disp with p-value 0.29897214987844245\n",
            "Removed hp with p-value 0.22308793197524815\n"
          ]
        },
        {
          "output_type": "execute_result",
          "data": {
            "text/plain": [
              "(<class 'statsmodels.iolib.summary.Summary'>\n",
              " \"\"\"\n",
              "                             OLS Regression Results                            \n",
              " ==============================================================================\n",
              " Dep. Variable:                    mpg   R-squared:                       0.850\n",
              " Model:                            OLS   Adj. R-squared:                  0.834\n",
              " Method:                 Least Squares   F-statistic:                     52.75\n",
              " Date:                Sun, 23 Jun 2024   Prob (F-statistic):           1.21e-11\n",
              " Time:                        18:02:41   Log-Likelihood:                -72.060\n",
              " No. Observations:                  32   AIC:                             152.1\n",
              " Df Residuals:                      28   BIC:                             158.0\n",
              " Df Model:                           3                                         \n",
              " Covariance Type:            nonrobust                                         \n",
              " ==============================================================================\n",
              "                  coef    std err          t      P>|t|      [0.025      0.975]\n",
              " ------------------------------------------------------------------------------\n",
              " const          9.6178      6.960      1.382      0.178      -4.638      23.874\n",
              " wt            -3.9165      0.711     -5.507      0.000      -5.373      -2.460\n",
              " qsec           1.2259      0.289      4.247      0.000       0.635       1.817\n",
              " am             2.9358      1.411      2.081      0.047       0.046       5.826\n",
              " ==============================================================================\n",
              " Omnibus:                        2.574   Durbin-Watson:                   1.714\n",
              " Prob(Omnibus):                  0.276   Jarque-Bera (JB):                2.213\n",
              " Skew:                           0.540   Prob(JB):                        0.331\n",
              " Kurtosis:                       2.297   Cond. No.                         296.\n",
              " ==============================================================================\n",
              " \n",
              " Notes:\n",
              " [1] Standard Errors assume that the covariance matrix of the errors is correctly specified.\n",
              " \"\"\",\n",
              "    feature          VIF\n",
              " 0    const  1596.273030\n",
              " 1      cyl    15.373833\n",
              " 2     disp    21.620241\n",
              " 3       hp     9.832037\n",
              " 4     drat     3.374620\n",
              " 5       wt    15.164887\n",
              " 6     qsec     7.527958\n",
              " 7       vs     4.965873\n",
              " 8       am     4.648487\n",
              " 9     gear     5.357452\n",
              " 10    carb     7.908747)"
            ]
          },
          "metadata": {},
          "execution_count": 13
        }
      ]
    },
    {
      "cell_type": "markdown",
      "source": [
        "==============================================================================\n",
        "- Koefisien dan Nilai P:\n",
        "  - Variabel wt dan qsec sangat signifikan dengan nilai p < 0.05.\n",
        "  - Variabel am juga signifikan dengan nilai p = 0.047.\n",
        "\n",
        "\n",
        "- Multikolinearitas:\n",
        "  - Variabel wt memiliki nilai VIF yang cukup tinggi (15.165), menunjukkan adanya multikolinearitas jika dibandingkan dengan variabel lain yang memiliki VIF yang lebih rendah.\n",
        "\n",
        "\n",
        "Rekomendasi\n",
        "- Validasi Model: Validasi model dengan cross-validation untuk memastikan bahwa model tersebut tidak overfit.\n",
        "\n",
        "- Pertimbangan Multikolinearitas: Meskipun VIF wt tinggi, model ini masih dapat digunakan jika wt merupakan variabel yang sangat signifikan.\n",
        "\n",
        "=============================================================================="
      ],
      "metadata": {
        "id": "ab5lt9NCSWKb"
      }
    },
    {
      "cell_type": "markdown",
      "source": [
        "## 3.c Kesimpulan Feature Selection"
      ],
      "metadata": {
        "id": "D8A1Enm0U25v"
      }
    },
    {
      "cell_type": "markdown",
      "source": [
        "# **Perbandingan**\n",
        "\n",
        "## **1. R-squared:**\n",
        "\n",
        "- Sebelum eliminasi: 0.869\n",
        "- Setelah eliminasi: 0.850\n",
        "- **Kesimpulan**: Penurunan R-squared yang kecil menunjukkan bahwa variabel yang dihapus tidak banyak berkontribusi terhadap penjelasan variabilitas mpg.\n",
        "\n",
        "## **2. Adjusted R-squared:**\n",
        "\n",
        "- Sebelum eliminasi: 0.807\n",
        "- Setelah eliminasi: 0.834\n",
        "- **Kesimpulan**: Adjusted R-squared meningkat setelah eliminasi, menunjukkan bahwa model yang lebih sederhana memberikan penyesuaian yang lebih baik.\n",
        "\n",
        "## **3. AIC dan BIC:**\n",
        "\n",
        "- Sebelum eliminasi: AIC = 161.7, BIC = 177.8\n",
        "- Setelah eliminasi: AIC = 152.1, BIC = 158.0\n",
        "- **Kesimpulan**: Nilai AIC dan BIC yang lebih rendah setelah eliminasi menunjukkan bahwa model akhir lebih baik.\n",
        "\n",
        "## **4. Signifikansi Koefisien:**\n",
        "\n",
        "- Sebelum eliminasi: Banyak variabel yang tidak signifikan dengan nilai p > 0.05.\n",
        "- Setelah eliminasi: Semua variabel yang tersisa signifikan dengan nilai p < 0.05.\n",
        "- **Kesimpulan**: Model setelah eliminasi lebih sederhana dan hanya menggunakan variabel yang signifikan.\n",
        "\n",
        "## **5. Multikolinearitas:**\n",
        "\n",
        "- Sebelum eliminasi: Beberapa variabel memiliki VIF tinggi (>10), menunjukkan multikolinearitas.\n",
        "- Setelah eliminasi: Masih ada multikolinearitas pada wt, tetapi lebih rendah secara keseluruhan.\n",
        "\n",
        "- **Kesimpulan**: Model setelah eliminasi mengurangi multikolinearitas, meskipun masih perlu diperhatikan.\n",
        "\n",
        "\n",
        "# **Kesimpulan**\n",
        "\n",
        "Model setelah eliminasi lebih baik dibandingkan dengan model sebelum eliminasi berdasarkan nilai AIC, BIC, dan adjusted R-squared. Model setelah dilakukan feature selection lebih sederhana dan hanya menggunakan variabel yang signifikan, sehingga lebih mudah diinterpretasikan dan kemungkinan besar memiliki generalisasi yang lebih baik dibandingkan tidak menggunakan feature selection."
      ],
      "metadata": {
        "id": "4KYroI9dU_vf"
      }
    },
    {
      "cell_type": "markdown",
      "source": [
        "# 4. Modelling ML"
      ],
      "metadata": {
        "id": "mL9-WK5bKz6h"
      }
    },
    {
      "cell_type": "code",
      "source": [
        "X = df[['wt', 'qsec', 'am']]\n",
        "y = df['mpg']\n",
        "\n",
        "X = sm.add_constant(X)\n",
        "\n",
        "# Membuat model\n",
        "model = sm.OLS(y, X).fit()\n",
        "\n",
        "# Menampilkan summary model\n",
        "summary = model.summary()\n",
        "summary"
      ],
      "metadata": {
        "colab": {
          "base_uri": "https://localhost:8080/",
          "height": 480
        },
        "id": "3g8ehAWHF2D-",
        "outputId": "28dfab71-99c2-493d-b0ba-8a22a1f332bf"
      },
      "execution_count": 14,
      "outputs": [
        {
          "output_type": "execute_result",
          "data": {
            "text/plain": [
              "<class 'statsmodels.iolib.summary.Summary'>\n",
              "\"\"\"\n",
              "                            OLS Regression Results                            \n",
              "==============================================================================\n",
              "Dep. Variable:                    mpg   R-squared:                       0.850\n",
              "Model:                            OLS   Adj. R-squared:                  0.834\n",
              "Method:                 Least Squares   F-statistic:                     52.75\n",
              "Date:                Sun, 23 Jun 2024   Prob (F-statistic):           1.21e-11\n",
              "Time:                        18:14:56   Log-Likelihood:                -72.060\n",
              "No. Observations:                  32   AIC:                             152.1\n",
              "Df Residuals:                      28   BIC:                             158.0\n",
              "Df Model:                           3                                         \n",
              "Covariance Type:            nonrobust                                         \n",
              "==============================================================================\n",
              "                 coef    std err          t      P>|t|      [0.025      0.975]\n",
              "------------------------------------------------------------------------------\n",
              "const          9.6178      6.960      1.382      0.178      -4.638      23.874\n",
              "wt            -3.9165      0.711     -5.507      0.000      -5.373      -2.460\n",
              "qsec           1.2259      0.289      4.247      0.000       0.635       1.817\n",
              "am             2.9358      1.411      2.081      0.047       0.046       5.826\n",
              "==============================================================================\n",
              "Omnibus:                        2.574   Durbin-Watson:                   1.714\n",
              "Prob(Omnibus):                  0.276   Jarque-Bera (JB):                2.213\n",
              "Skew:                           0.540   Prob(JB):                        0.331\n",
              "Kurtosis:                       2.297   Cond. No.                         296.\n",
              "==============================================================================\n",
              "\n",
              "Notes:\n",
              "[1] Standard Errors assume that the covariance matrix of the errors is correctly specified.\n",
              "\"\"\""
            ],
            "text/html": [
              "<table class=\"simpletable\">\n",
              "<caption>OLS Regression Results</caption>\n",
              "<tr>\n",
              "  <th>Dep. Variable:</th>           <td>mpg</td>       <th>  R-squared:         </th> <td>   0.850</td>\n",
              "</tr>\n",
              "<tr>\n",
              "  <th>Model:</th>                   <td>OLS</td>       <th>  Adj. R-squared:    </th> <td>   0.834</td>\n",
              "</tr>\n",
              "<tr>\n",
              "  <th>Method:</th>             <td>Least Squares</td>  <th>  F-statistic:       </th> <td>   52.75</td>\n",
              "</tr>\n",
              "<tr>\n",
              "  <th>Date:</th>             <td>Sun, 23 Jun 2024</td> <th>  Prob (F-statistic):</th> <td>1.21e-11</td>\n",
              "</tr>\n",
              "<tr>\n",
              "  <th>Time:</th>                 <td>18:14:56</td>     <th>  Log-Likelihood:    </th> <td> -72.060</td>\n",
              "</tr>\n",
              "<tr>\n",
              "  <th>No. Observations:</th>      <td>    32</td>      <th>  AIC:               </th> <td>   152.1</td>\n",
              "</tr>\n",
              "<tr>\n",
              "  <th>Df Residuals:</th>          <td>    28</td>      <th>  BIC:               </th> <td>   158.0</td>\n",
              "</tr>\n",
              "<tr>\n",
              "  <th>Df Model:</th>              <td>     3</td>      <th>                     </th>     <td> </td>   \n",
              "</tr>\n",
              "<tr>\n",
              "  <th>Covariance Type:</th>      <td>nonrobust</td>    <th>                     </th>     <td> </td>   \n",
              "</tr>\n",
              "</table>\n",
              "<table class=\"simpletable\">\n",
              "<tr>\n",
              "    <td></td>       <th>coef</th>     <th>std err</th>      <th>t</th>      <th>P>|t|</th>  <th>[0.025</th>    <th>0.975]</th>  \n",
              "</tr>\n",
              "<tr>\n",
              "  <th>const</th> <td>    9.6178</td> <td>    6.960</td> <td>    1.382</td> <td> 0.178</td> <td>   -4.638</td> <td>   23.874</td>\n",
              "</tr>\n",
              "<tr>\n",
              "  <th>wt</th>    <td>   -3.9165</td> <td>    0.711</td> <td>   -5.507</td> <td> 0.000</td> <td>   -5.373</td> <td>   -2.460</td>\n",
              "</tr>\n",
              "<tr>\n",
              "  <th>qsec</th>  <td>    1.2259</td> <td>    0.289</td> <td>    4.247</td> <td> 0.000</td> <td>    0.635</td> <td>    1.817</td>\n",
              "</tr>\n",
              "<tr>\n",
              "  <th>am</th>    <td>    2.9358</td> <td>    1.411</td> <td>    2.081</td> <td> 0.047</td> <td>    0.046</td> <td>    5.826</td>\n",
              "</tr>\n",
              "</table>\n",
              "<table class=\"simpletable\">\n",
              "<tr>\n",
              "  <th>Omnibus:</th>       <td> 2.574</td> <th>  Durbin-Watson:     </th> <td>   1.714</td>\n",
              "</tr>\n",
              "<tr>\n",
              "  <th>Prob(Omnibus):</th> <td> 0.276</td> <th>  Jarque-Bera (JB):  </th> <td>   2.213</td>\n",
              "</tr>\n",
              "<tr>\n",
              "  <th>Skew:</th>          <td> 0.540</td> <th>  Prob(JB):          </th> <td>   0.331</td>\n",
              "</tr>\n",
              "<tr>\n",
              "  <th>Kurtosis:</th>      <td> 2.297</td> <th>  Cond. No.          </th> <td>    296.</td>\n",
              "</tr>\n",
              "</table><br/><br/>Notes:<br/>[1] Standard Errors assume that the covariance matrix of the errors is correctly specified."
            ],
            "text/latex": "\\begin{center}\n\\begin{tabular}{lclc}\n\\toprule\n\\textbf{Dep. Variable:}    &       mpg        & \\textbf{  R-squared:         } &     0.850   \\\\\n\\textbf{Model:}            &       OLS        & \\textbf{  Adj. R-squared:    } &     0.834   \\\\\n\\textbf{Method:}           &  Least Squares   & \\textbf{  F-statistic:       } &     52.75   \\\\\n\\textbf{Date:}             & Sun, 23 Jun 2024 & \\textbf{  Prob (F-statistic):} &  1.21e-11   \\\\\n\\textbf{Time:}             &     18:14:56     & \\textbf{  Log-Likelihood:    } &   -72.060   \\\\\n\\textbf{No. Observations:} &          32      & \\textbf{  AIC:               } &     152.1   \\\\\n\\textbf{Df Residuals:}     &          28      & \\textbf{  BIC:               } &     158.0   \\\\\n\\textbf{Df Model:}         &           3      & \\textbf{                     } &             \\\\\n\\textbf{Covariance Type:}  &    nonrobust     & \\textbf{                     } &             \\\\\n\\bottomrule\n\\end{tabular}\n\\begin{tabular}{lcccccc}\n               & \\textbf{coef} & \\textbf{std err} & \\textbf{t} & \\textbf{P$> |$t$|$} & \\textbf{[0.025} & \\textbf{0.975]}  \\\\\n\\midrule\n\\textbf{const} &       9.6178  &        6.960     &     1.382  &         0.178        &       -4.638    &       23.874     \\\\\n\\textbf{wt}    &      -3.9165  &        0.711     &    -5.507  &         0.000        &       -5.373    &       -2.460     \\\\\n\\textbf{qsec}  &       1.2259  &        0.289     &     4.247  &         0.000        &        0.635    &        1.817     \\\\\n\\textbf{am}    &       2.9358  &        1.411     &     2.081  &         0.047        &        0.046    &        5.826     \\\\\n\\bottomrule\n\\end{tabular}\n\\begin{tabular}{lclc}\n\\textbf{Omnibus:}       &  2.574 & \\textbf{  Durbin-Watson:     } &    1.714  \\\\\n\\textbf{Prob(Omnibus):} &  0.276 & \\textbf{  Jarque-Bera (JB):  } &    2.213  \\\\\n\\textbf{Skew:}          &  0.540 & \\textbf{  Prob(JB):          } &    0.331  \\\\\n\\textbf{Kurtosis:}      &  2.297 & \\textbf{  Cond. No.          } &     296.  \\\\\n\\bottomrule\n\\end{tabular}\n%\\caption{OLS Regression Results}\n\\end{center}\n\nNotes: \\newline\n [1] Standard Errors assume that the covariance matrix of the errors is correctly specified."
          },
          "metadata": {},
          "execution_count": 14
        }
      ]
    },
    {
      "cell_type": "code",
      "source": [
        "# Uji Multikolinearitas\n",
        "\n",
        "vif_data = pd.DataFrame()\n",
        "vif_data[\"feature\"] = X.columns\n",
        "vif_data[\"VIF\"] = [variance_inflation_factor(X.values, i) for i in range(len(X.columns))]\n",
        "vif_data"
      ],
      "metadata": {
        "colab": {
          "base_uri": "https://localhost:8080/",
          "height": 175
        },
        "id": "XJd2gwELLuPA",
        "outputId": "f23d215b-7aba-4053-ece2-ded45af6e096"
      },
      "execution_count": 15,
      "outputs": [
        {
          "output_type": "execute_result",
          "data": {
            "text/plain": [
              "  feature         VIF\n",
              "0   const  256.362696\n",
              "1      wt    2.482952\n",
              "2    qsec    1.364339\n",
              "3      am    2.541437"
            ],
            "text/html": [
              "\n",
              "  <div id=\"df-e0a9fa07-21a4-4d94-afea-83c6e0de68e7\" class=\"colab-df-container\">\n",
              "    <div>\n",
              "<style scoped>\n",
              "    .dataframe tbody tr th:only-of-type {\n",
              "        vertical-align: middle;\n",
              "    }\n",
              "\n",
              "    .dataframe tbody tr th {\n",
              "        vertical-align: top;\n",
              "    }\n",
              "\n",
              "    .dataframe thead th {\n",
              "        text-align: right;\n",
              "    }\n",
              "</style>\n",
              "<table border=\"1\" class=\"dataframe\">\n",
              "  <thead>\n",
              "    <tr style=\"text-align: right;\">\n",
              "      <th></th>\n",
              "      <th>feature</th>\n",
              "      <th>VIF</th>\n",
              "    </tr>\n",
              "  </thead>\n",
              "  <tbody>\n",
              "    <tr>\n",
              "      <th>0</th>\n",
              "      <td>const</td>\n",
              "      <td>256.362696</td>\n",
              "    </tr>\n",
              "    <tr>\n",
              "      <th>1</th>\n",
              "      <td>wt</td>\n",
              "      <td>2.482952</td>\n",
              "    </tr>\n",
              "    <tr>\n",
              "      <th>2</th>\n",
              "      <td>qsec</td>\n",
              "      <td>1.364339</td>\n",
              "    </tr>\n",
              "    <tr>\n",
              "      <th>3</th>\n",
              "      <td>am</td>\n",
              "      <td>2.541437</td>\n",
              "    </tr>\n",
              "  </tbody>\n",
              "</table>\n",
              "</div>\n",
              "    <div class=\"colab-df-buttons\">\n",
              "\n",
              "  <div class=\"colab-df-container\">\n",
              "    <button class=\"colab-df-convert\" onclick=\"convertToInteractive('df-e0a9fa07-21a4-4d94-afea-83c6e0de68e7')\"\n",
              "            title=\"Convert this dataframe to an interactive table.\"\n",
              "            style=\"display:none;\">\n",
              "\n",
              "  <svg xmlns=\"http://www.w3.org/2000/svg\" height=\"24px\" viewBox=\"0 -960 960 960\">\n",
              "    <path d=\"M120-120v-720h720v720H120Zm60-500h600v-160H180v160Zm220 220h160v-160H400v160Zm0 220h160v-160H400v160ZM180-400h160v-160H180v160Zm440 0h160v-160H620v160ZM180-180h160v-160H180v160Zm440 0h160v-160H620v160Z\"/>\n",
              "  </svg>\n",
              "    </button>\n",
              "\n",
              "  <style>\n",
              "    .colab-df-container {\n",
              "      display:flex;\n",
              "      gap: 12px;\n",
              "    }\n",
              "\n",
              "    .colab-df-convert {\n",
              "      background-color: #E8F0FE;\n",
              "      border: none;\n",
              "      border-radius: 50%;\n",
              "      cursor: pointer;\n",
              "      display: none;\n",
              "      fill: #1967D2;\n",
              "      height: 32px;\n",
              "      padding: 0 0 0 0;\n",
              "      width: 32px;\n",
              "    }\n",
              "\n",
              "    .colab-df-convert:hover {\n",
              "      background-color: #E2EBFA;\n",
              "      box-shadow: 0px 1px 2px rgba(60, 64, 67, 0.3), 0px 1px 3px 1px rgba(60, 64, 67, 0.15);\n",
              "      fill: #174EA6;\n",
              "    }\n",
              "\n",
              "    .colab-df-buttons div {\n",
              "      margin-bottom: 4px;\n",
              "    }\n",
              "\n",
              "    [theme=dark] .colab-df-convert {\n",
              "      background-color: #3B4455;\n",
              "      fill: #D2E3FC;\n",
              "    }\n",
              "\n",
              "    [theme=dark] .colab-df-convert:hover {\n",
              "      background-color: #434B5C;\n",
              "      box-shadow: 0px 1px 3px 1px rgba(0, 0, 0, 0.15);\n",
              "      filter: drop-shadow(0px 1px 2px rgba(0, 0, 0, 0.3));\n",
              "      fill: #FFFFFF;\n",
              "    }\n",
              "  </style>\n",
              "\n",
              "    <script>\n",
              "      const buttonEl =\n",
              "        document.querySelector('#df-e0a9fa07-21a4-4d94-afea-83c6e0de68e7 button.colab-df-convert');\n",
              "      buttonEl.style.display =\n",
              "        google.colab.kernel.accessAllowed ? 'block' : 'none';\n",
              "\n",
              "      async function convertToInteractive(key) {\n",
              "        const element = document.querySelector('#df-e0a9fa07-21a4-4d94-afea-83c6e0de68e7');\n",
              "        const dataTable =\n",
              "          await google.colab.kernel.invokeFunction('convertToInteractive',\n",
              "                                                    [key], {});\n",
              "        if (!dataTable) return;\n",
              "\n",
              "        const docLinkHtml = 'Like what you see? Visit the ' +\n",
              "          '<a target=\"_blank\" href=https://colab.research.google.com/notebooks/data_table.ipynb>data table notebook</a>'\n",
              "          + ' to learn more about interactive tables.';\n",
              "        element.innerHTML = '';\n",
              "        dataTable['output_type'] = 'display_data';\n",
              "        await google.colab.output.renderOutput(dataTable, element);\n",
              "        const docLink = document.createElement('div');\n",
              "        docLink.innerHTML = docLinkHtml;\n",
              "        element.appendChild(docLink);\n",
              "      }\n",
              "    </script>\n",
              "  </div>\n",
              "\n",
              "\n",
              "<div id=\"df-d448a126-ee13-427b-ae5c-e671444efed9\">\n",
              "  <button class=\"colab-df-quickchart\" onclick=\"quickchart('df-d448a126-ee13-427b-ae5c-e671444efed9')\"\n",
              "            title=\"Suggest charts\"\n",
              "            style=\"display:none;\">\n",
              "\n",
              "<svg xmlns=\"http://www.w3.org/2000/svg\" height=\"24px\"viewBox=\"0 0 24 24\"\n",
              "     width=\"24px\">\n",
              "    <g>\n",
              "        <path d=\"M19 3H5c-1.1 0-2 .9-2 2v14c0 1.1.9 2 2 2h14c1.1 0 2-.9 2-2V5c0-1.1-.9-2-2-2zM9 17H7v-7h2v7zm4 0h-2V7h2v10zm4 0h-2v-4h2v4z\"/>\n",
              "    </g>\n",
              "</svg>\n",
              "  </button>\n",
              "\n",
              "<style>\n",
              "  .colab-df-quickchart {\n",
              "      --bg-color: #E8F0FE;\n",
              "      --fill-color: #1967D2;\n",
              "      --hover-bg-color: #E2EBFA;\n",
              "      --hover-fill-color: #174EA6;\n",
              "      --disabled-fill-color: #AAA;\n",
              "      --disabled-bg-color: #DDD;\n",
              "  }\n",
              "\n",
              "  [theme=dark] .colab-df-quickchart {\n",
              "      --bg-color: #3B4455;\n",
              "      --fill-color: #D2E3FC;\n",
              "      --hover-bg-color: #434B5C;\n",
              "      --hover-fill-color: #FFFFFF;\n",
              "      --disabled-bg-color: #3B4455;\n",
              "      --disabled-fill-color: #666;\n",
              "  }\n",
              "\n",
              "  .colab-df-quickchart {\n",
              "    background-color: var(--bg-color);\n",
              "    border: none;\n",
              "    border-radius: 50%;\n",
              "    cursor: pointer;\n",
              "    display: none;\n",
              "    fill: var(--fill-color);\n",
              "    height: 32px;\n",
              "    padding: 0;\n",
              "    width: 32px;\n",
              "  }\n",
              "\n",
              "  .colab-df-quickchart:hover {\n",
              "    background-color: var(--hover-bg-color);\n",
              "    box-shadow: 0 1px 2px rgba(60, 64, 67, 0.3), 0 1px 3px 1px rgba(60, 64, 67, 0.15);\n",
              "    fill: var(--button-hover-fill-color);\n",
              "  }\n",
              "\n",
              "  .colab-df-quickchart-complete:disabled,\n",
              "  .colab-df-quickchart-complete:disabled:hover {\n",
              "    background-color: var(--disabled-bg-color);\n",
              "    fill: var(--disabled-fill-color);\n",
              "    box-shadow: none;\n",
              "  }\n",
              "\n",
              "  .colab-df-spinner {\n",
              "    border: 2px solid var(--fill-color);\n",
              "    border-color: transparent;\n",
              "    border-bottom-color: var(--fill-color);\n",
              "    animation:\n",
              "      spin 1s steps(1) infinite;\n",
              "  }\n",
              "\n",
              "  @keyframes spin {\n",
              "    0% {\n",
              "      border-color: transparent;\n",
              "      border-bottom-color: var(--fill-color);\n",
              "      border-left-color: var(--fill-color);\n",
              "    }\n",
              "    20% {\n",
              "      border-color: transparent;\n",
              "      border-left-color: var(--fill-color);\n",
              "      border-top-color: var(--fill-color);\n",
              "    }\n",
              "    30% {\n",
              "      border-color: transparent;\n",
              "      border-left-color: var(--fill-color);\n",
              "      border-top-color: var(--fill-color);\n",
              "      border-right-color: var(--fill-color);\n",
              "    }\n",
              "    40% {\n",
              "      border-color: transparent;\n",
              "      border-right-color: var(--fill-color);\n",
              "      border-top-color: var(--fill-color);\n",
              "    }\n",
              "    60% {\n",
              "      border-color: transparent;\n",
              "      border-right-color: var(--fill-color);\n",
              "    }\n",
              "    80% {\n",
              "      border-color: transparent;\n",
              "      border-right-color: var(--fill-color);\n",
              "      border-bottom-color: var(--fill-color);\n",
              "    }\n",
              "    90% {\n",
              "      border-color: transparent;\n",
              "      border-bottom-color: var(--fill-color);\n",
              "    }\n",
              "  }\n",
              "</style>\n",
              "\n",
              "  <script>\n",
              "    async function quickchart(key) {\n",
              "      const quickchartButtonEl =\n",
              "        document.querySelector('#' + key + ' button');\n",
              "      quickchartButtonEl.disabled = true;  // To prevent multiple clicks.\n",
              "      quickchartButtonEl.classList.add('colab-df-spinner');\n",
              "      try {\n",
              "        const charts = await google.colab.kernel.invokeFunction(\n",
              "            'suggestCharts', [key], {});\n",
              "      } catch (error) {\n",
              "        console.error('Error during call to suggestCharts:', error);\n",
              "      }\n",
              "      quickchartButtonEl.classList.remove('colab-df-spinner');\n",
              "      quickchartButtonEl.classList.add('colab-df-quickchart-complete');\n",
              "    }\n",
              "    (() => {\n",
              "      let quickchartButtonEl =\n",
              "        document.querySelector('#df-d448a126-ee13-427b-ae5c-e671444efed9 button');\n",
              "      quickchartButtonEl.style.display =\n",
              "        google.colab.kernel.accessAllowed ? 'block' : 'none';\n",
              "    })();\n",
              "  </script>\n",
              "</div>\n",
              "\n",
              "  <div id=\"id_1ec1e3cc-9f44-4bb8-b909-0025aade1311\">\n",
              "    <style>\n",
              "      .colab-df-generate {\n",
              "        background-color: #E8F0FE;\n",
              "        border: none;\n",
              "        border-radius: 50%;\n",
              "        cursor: pointer;\n",
              "        display: none;\n",
              "        fill: #1967D2;\n",
              "        height: 32px;\n",
              "        padding: 0 0 0 0;\n",
              "        width: 32px;\n",
              "      }\n",
              "\n",
              "      .colab-df-generate:hover {\n",
              "        background-color: #E2EBFA;\n",
              "        box-shadow: 0px 1px 2px rgba(60, 64, 67, 0.3), 0px 1px 3px 1px rgba(60, 64, 67, 0.15);\n",
              "        fill: #174EA6;\n",
              "      }\n",
              "\n",
              "      [theme=dark] .colab-df-generate {\n",
              "        background-color: #3B4455;\n",
              "        fill: #D2E3FC;\n",
              "      }\n",
              "\n",
              "      [theme=dark] .colab-df-generate:hover {\n",
              "        background-color: #434B5C;\n",
              "        box-shadow: 0px 1px 3px 1px rgba(0, 0, 0, 0.15);\n",
              "        filter: drop-shadow(0px 1px 2px rgba(0, 0, 0, 0.3));\n",
              "        fill: #FFFFFF;\n",
              "      }\n",
              "    </style>\n",
              "    <button class=\"colab-df-generate\" onclick=\"generateWithVariable('vif_data')\"\n",
              "            title=\"Generate code using this dataframe.\"\n",
              "            style=\"display:none;\">\n",
              "\n",
              "  <svg xmlns=\"http://www.w3.org/2000/svg\" height=\"24px\"viewBox=\"0 0 24 24\"\n",
              "       width=\"24px\">\n",
              "    <path d=\"M7,19H8.4L18.45,9,17,7.55,7,17.6ZM5,21V16.75L18.45,3.32a2,2,0,0,1,2.83,0l1.4,1.43a1.91,1.91,0,0,1,.58,1.4,1.91,1.91,0,0,1-.58,1.4L9.25,21ZM18.45,9,17,7.55Zm-12,3A5.31,5.31,0,0,0,4.9,8.1,5.31,5.31,0,0,0,1,6.5,5.31,5.31,0,0,0,4.9,4.9,5.31,5.31,0,0,0,6.5,1,5.31,5.31,0,0,0,8.1,4.9,5.31,5.31,0,0,0,12,6.5,5.46,5.46,0,0,0,6.5,12Z\"/>\n",
              "  </svg>\n",
              "    </button>\n",
              "    <script>\n",
              "      (() => {\n",
              "      const buttonEl =\n",
              "        document.querySelector('#id_1ec1e3cc-9f44-4bb8-b909-0025aade1311 button.colab-df-generate');\n",
              "      buttonEl.style.display =\n",
              "        google.colab.kernel.accessAllowed ? 'block' : 'none';\n",
              "\n",
              "      buttonEl.onclick = () => {\n",
              "        google.colab.notebook.generateWithVariable('vif_data');\n",
              "      }\n",
              "      })();\n",
              "    </script>\n",
              "  </div>\n",
              "\n",
              "    </div>\n",
              "  </div>\n"
            ],
            "application/vnd.google.colaboratory.intrinsic+json": {
              "type": "dataframe",
              "variable_name": "vif_data",
              "summary": "{\n  \"name\": \"vif_data\",\n  \"rows\": 4,\n  \"fields\": [\n    {\n      \"column\": \"feature\",\n      \"properties\": {\n        \"dtype\": \"string\",\n        \"num_unique_values\": 4,\n        \"samples\": [\n          \"wt\",\n          \"am\",\n          \"const\"\n        ],\n        \"semantic_type\": \"\",\n        \"description\": \"\"\n      }\n    },\n    {\n      \"column\": \"VIF\",\n      \"properties\": {\n        \"dtype\": \"number\",\n        \"std\": 127.1177140289788,\n        \"min\": 1.364339141336286,\n        \"max\": 256.3626961990865,\n        \"num_unique_values\": 4,\n        \"samples\": [\n          2.482951505173056,\n          2.541437244495401,\n          256.3626961990865\n        ],\n        \"semantic_type\": \"\",\n        \"description\": \"\"\n      }\n    }\n  ]\n}"
            }
          },
          "metadata": {},
          "execution_count": 15
        }
      ]
    },
    {
      "cell_type": "markdown",
      "source": [],
      "metadata": {
        "id": "eSEyHVTzL3q4"
      }
    },
    {
      "cell_type": "code",
      "source": [
        "# Residual plot\n",
        "fig, ax = plt.subplots(1, 2, figsize=(14, 6))\n",
        "\n",
        "# Residuals vs Fitted plot\n",
        "sns.residplot(x=final_model.fittedvalues, y=final_model.resid, lowess=True, ax=ax[0], line_kws={'color': 'red'})\n",
        "ax[0].set_title('Residuals vs Fitted')\n",
        "ax[0].set_xlabel('Fitted values')\n",
        "ax[0].set_ylabel('Residuals')\n",
        "\n",
        "# QQ plot\n",
        "sm.qqplot(final_model.resid, line='45', ax=ax[1])\n",
        "ax[1].set_title('QQ Plot')\n",
        "\n",
        "plt.tight_layout()\n",
        "plt.show()"
      ],
      "metadata": {
        "colab": {
          "base_uri": "https://localhost:8080/",
          "height": 607
        },
        "id": "tQ0RzcA7UIpF",
        "outputId": "1242916f-a41c-43b1-dda7-c180060ddc5b"
      },
      "execution_count": 22,
      "outputs": [
        {
          "output_type": "display_data",
          "data": {
            "text/plain": [
              "<Figure size 1400x600 with 2 Axes>"
            ],
            "image/png": "[encoded data removed]"
          },
          "metadata": {}
        }
      ]
    },
    {
      "cell_type": "markdown",
      "source": [
        "- **Plot Residual**: Tidak ada pola yang jelas pada plot residual, menunjukkan bahwa asumsi homoskedastisitas mungkin terpenuhi.\n",
        "- **QQ-Plot**: QQ-plot menunjukkan bahwa residual mendekati distribusi normal, namun ada beberapa penyimpangan di ekor distribusi."
      ],
      "metadata": {
        "id": "wAomoNorXYc9"
      }
    },
    {
      "cell_type": "markdown",
      "source": [
        "# 5. Cross Validation"
      ],
      "metadata": {
        "id": "bZSf2lmfYz_T"
      }
    },
    {
      "cell_type": "code",
      "source": [
        "from sklearn.model_selection import cross_val_score, KFold\n",
        "from sklearn.linear_model import LinearRegression\n",
        "import pandas as pd\n",
        "\n",
        "\n",
        "# Menyiapkan data\n",
        "X_final = df[['wt', 'qsec', 'am']]\n",
        "y_final = df['mpg']\n",
        "\n",
        "# Inisialisasi model\n",
        "lm = LinearRegression()\n",
        "\n",
        "# Melakukan cross-validation\n",
        "kf = KFold(n_splits=10, shuffle=True, random_state=1)\n",
        "cv_results = cross_val_score(lm, X_final, y_final, cv=kf, scoring='r2')\n",
        "\n",
        "# Mencetak hasil cross-validation\n",
        "print(f'Rata-rata R-squared: {cv_results.mean()}')\n",
        "print(f'Standar deviasi R-squared: {cv_results.std()}')"
      ],
      "metadata": {
        "colab": {
          "base_uri": "https://localhost:8080/"
        },
        "id": "sdmLZ_cCXXwc",
        "outputId": "35b75b4c-a4b4-43a0-d56d-f2924a159745"
      },
      "execution_count": 25,
      "outputs": [
        {
          "output_type": "stream",
          "name": "stdout",
          "text": [
            "Rata-rata R-squared: -0.19978765166064633\n",
            "Standar deviasi R-squared: 2.2460004699757103\n"
          ]
        }
      ]
    },
    {
      "cell_type": "markdown",
      "source": [
        "# Berdasarkan hasil cross-validation yang diperoleh:\n",
        "\n",
        "- Rata-rata R-squared: -0.1998\n",
        "- Standar deviasi R-squared: 2.2460\n",
        "\n",
        "# Kesimpulan:\n",
        "- **Rata-rata R-squared yang negatif**: Ini menunjukkan bahwa model kita memiliki kinerja yang buruk dalam memprediksi mpg pada data uji. Secara umum, nilai R-squared yang negatif berarti model lebih buruk daripada model sederhana yang hanya menggunakan rata-rata dari target variabel sebagai prediksi.\n",
        "\n",
        "- S**tandar deviasi yang tinggi**: Standar deviasi yang tinggi menunjukkan bahwa kinerja model sangat bervariasi antara fold yang berbeda. Ini bisa menunjukkan ketidakstabilan model dan masalah yang signifikan dengan generalisasi model.\n",
        "\n",
        "# Rekomendasi:\n",
        "\n",
        "- **Eksplorasi Model Lain**:\n",
        "Pertimbangkan untuk menggunakan model non-linear seperti Random Forest, Gradient Boosting, atau model lain yang lebih kompleks.\n",
        "\n",
        "- **Penanganan Outliers**:\n",
        "dentifikasi dan tangani outliers dalam data yang mungkin mempengaruhi model.\n",
        "\n"
      ],
      "metadata": {
        "id": "7k_SGLa4YyBz"
      }
    },
    {
      "cell_type": "code",
      "source": [],
      "metadata": {
        "id": "bEZ3XGJeZEdn"
      },
      "execution_count": null,
      "outputs": []
    }
  ]
}