{
  "cells": [
    {
      "cell_type": "markdown",
      "metadata": {
        "id": "view-in-github",
        "colab_type": "text"
      },
      "source": [
        "<a href=\"https://colab.research.google.com/github/Faiqazmi/DataScience_Portofolio/blob/main/Project_COVID_19_Clustering_and_Forecasting.ipynb\" target=\"_parent\"><img src=\"https://colab.research.google.com/assets/colab-badge.svg\" alt=\"Open In Colab\"/></a>"
      ]
    },
    {
      "cell_type": "markdown",
      "source": [
        "# Objective Project\n",
        "- ## Clustering Model\n",
        "- ## Forecasting Model"
      ],
      "metadata": {
        "cell_id": "4984c01d1ee24e1da4ba0dfc75440b47",
        "tags": [],
        "deepnote_cell_type": "markdown",
        "deepnote_cell_height": 195,
        "id": "p7XO6GDi9S_2"
      }
    },
    {
      "cell_type": "markdown",
      "source": [
        "# Clustering Case Project"
      ],
      "metadata": {
        "cell_id": "7c0b3a0e3058479d892c1a28cbce37ef",
        "tags": [],
        "deepnote_cell_type": "markdown",
        "deepnote_cell_height": 82,
        "id": "CyLyh0yY9TAC"
      }
    },
    {
      "cell_type": "markdown",
      "source": [
        "### Role Sub-Objective Clustering Case Project\n",
        "- Problem Statement: \n",
        "    - ##### Andi Safira\n",
        "- Data Cleaning and Processing: \n",
        "    - ##### Andi Safira\n",
        "- EDA: \n",
        "    - ##### Andi Safira\n",
        "- Modelling: \n",
        "    - ##### Rahil Atansa, Faiq Azmi\n",
        "- Conclusion:\n",
        "    - ##### Team\n",
        "- Reference: \n",
        "    - ##### Team"
      ],
      "metadata": {
        "cell_id": "89a040700e904d6a94c3a8f3e2a3ef8a",
        "tags": [],
        "deepnote_cell_type": "markdown",
        "deepnote_cell_height": 458.34375,
        "id": "TALD-W_X9TAE"
      }
    },
    {
      "cell_type": "code",
      "metadata": {
        "tags": [],
        "cell_id": "d82af8a7-440d-4ea6-8481-cb11ab5e2c02",
        "deepnote_to_be_reexecuted": false,
        "source_hash": "726574d4",
        "execution_start": 1657467491981,
        "execution_millis": 1648,
        "deepnote_cell_type": "code",
        "deepnote_cell_height": 135,
        "id": "pDkw2Mh89TAG"
      },
      "source": [
        "import pandas as pd\n",
        "import numpy as numpy\n",
        "import matplotlib.pyplot as plt  \n",
        "import seaborn as sns "
      ],
      "execution_count": null,
      "outputs": []
    },
    {
      "cell_type": "code",
      "metadata": {
        "cell_id": "3addf668b1b64d0c8548a45791a2d121",
        "tags": [],
        "deepnote_to_be_reexecuted": false,
        "source_hash": "aea28886",
        "execution_start": 1657467493635,
        "execution_millis": 352,
        "deepnote_cell_type": "code",
        "deepnote_cell_height": 81,
        "id": "-ydz0_Rg9TAJ"
      },
      "source": [
        "df = pd.read_csv('https://raw.githubusercontent.com/Faiqazmi/Dataset_latihan/main/covid_19_data.csv')"
      ],
      "execution_count": null,
      "outputs": []
    },
    {
      "cell_type": "markdown",
      "source": [
        "# Problem Statement"
      ],
      "metadata": {
        "formattedRanges": [],
        "cell_id": "2e755fc4ed754d3592cea484438c1536",
        "tags": [],
        "is_collapsed": false,
        "deepnote_cell_type": "text-cell-h1",
        "id": "A8MPOoVW9TAK"
      }
    },
    {
      "cell_type": "markdown",
      "source": [
        "Proses analisis ini akan memecahkan beberapa permasalahan, seperti:"
      ],
      "metadata": {
        "formattedRanges": [],
        "cell_id": "b08a2574145d4e7f9c52fbd6bde2ce00",
        "tags": [],
        "is_collapsed": false,
        "deepnote_cell_type": "text-cell-p",
        "id": "qCSoKUBC9TAM"
      }
    },
    {
      "cell_type": "markdown",
      "source": [
        "1. Bagaimana perbandingan performa dari k-means dan k-medoid clustering model untuk klasterisasi keketatan mobilitas di saat pandemi Covid-19?"
      ],
      "metadata": {
        "formattedRanges": [],
        "cell_id": "0a03e248788e48dab54f289a57b025da",
        "tags": [],
        "is_collapsed": false,
        "deepnote_cell_type": "text-cell-p",
        "id": "6VlKrTho9TAN"
      }
    },
    {
      "cell_type": "markdown",
      "source": [
        "2. Berapa jumlah klaster optimal berdasarkan hasil elbow dan silhoutte analysis?"
      ],
      "metadata": {
        "formattedRanges": [],
        "cell_id": "5d6bd70a3bd04cf09928cca8cd70f09c",
        "tags": [],
        "is_collapsed": false,
        "deepnote_cell_type": "text-cell-p",
        "id": "osIE0O_89TAP"
      }
    },
    {
      "cell_type": "markdown",
      "source": [
        "3. Solusi-solusi dari permasalahan mobilitas yang muncul selama masa pandemi Covid-19?"
      ],
      "metadata": {
        "formattedRanges": [],
        "cell_id": "ff52825ac15c406bb5f9634a101d01b2",
        "tags": [],
        "is_collapsed": false,
        "deepnote_cell_type": "text-cell-p",
        "id": "pCSsP9H89TAQ"
      }
    },
    {
      "cell_type": "markdown",
      "source": [
        "# Data Cleaning and Pre-Processing"
      ],
      "metadata": {
        "formattedRanges": [],
        "cell_id": "f711108bb9c94651b3aa3c9a427591ac",
        "tags": [],
        "is_collapsed": false,
        "deepnote_cell_type": "text-cell-h1",
        "id": "2A2ZD3nq9TAS"
      }
    },
    {
      "cell_type": "code",
      "metadata": {
        "cell_id": "cdb7770e4ebe483c9739c27342488750",
        "tags": [],
        "deepnote_to_be_reexecuted": false,
        "source_hash": "c085b6ba",
        "execution_start": 1657467494016,
        "execution_millis": 18,
        "deepnote_cell_type": "code",
        "deepnote_cell_height": 412,
        "id": "q17J-K7B9TAT",
        "outputId": "1c3d296f-9e77-47c7-a05b-cde0f894e898"
      },
      "source": [
        "df.head()"
      ],
      "execution_count": null,
      "outputs": [
        {
          "output_type": "execute_result",
          "execution_count": 3,
          "data": {
            "application/vnd.deepnote.dataframe.v3+json": {
              "column_count": 8,
              "row_count": 5,
              "columns": [
                {
                  "name": "SNo",
                  "dtype": "int64",
                  "stats": {
                    "unique_count": 5,
                    "nan_count": 0,
                    "min": "1",
                    "max": "5",
                    "histogram": [
                      {
                        "bin_start": 1,
                        "bin_end": 1.4,
                        "count": 1
                      },
                      {
                        "bin_start": 1.4,
                        "bin_end": 1.8,
                        "count": 0
                      },
                      {
                        "bin_start": 1.8,
                        "bin_end": 2.2,
                        "count": 1
                      },
                      {
                        "bin_start": 2.2,
                        "bin_end": 2.6,
                        "count": 0
                      },
                      {
                        "bin_start": 2.6,
                        "bin_end": 3,
                        "count": 0
                      },
                      {
                        "bin_start": 3,
                        "bin_end": 3.4000000000000004,
                        "count": 1
                      },
                      {
                        "bin_start": 3.4000000000000004,
                        "bin_end": 3.8000000000000003,
                        "count": 0
                      },
                      {
                        "bin_start": 3.8000000000000003,
                        "bin_end": 4.2,
                        "count": 1
                      },
                      {
                        "bin_start": 4.2,
                        "bin_end": 4.6,
                        "count": 0
                      },
                      {
                        "bin_start": 4.6,
                        "bin_end": 5,
                        "count": 1
                      }
                    ]
                  }
                },
                {
                  "name": "ObservationDate",
                  "dtype": "object",
                  "stats": {
                    "unique_count": 1,
                    "nan_count": 0,
                    "categories": [
                      {
                        "name": "01/22/2020",
                        "count": 5
                      }
                    ]
                  }
                },
                {
                  "name": "Province/State",
                  "dtype": "object",
                  "stats": {
                    "unique_count": 5,
                    "nan_count": 0,
                    "categories": [
                      {
                        "name": "Anhui",
                        "count": 1
                      },
                      {
                        "name": "Beijing",
                        "count": 1
                      },
                      {
                        "name": "3 others",
                        "count": 3
                      }
                    ]
                  }
                },
                {
                  "name": "Country/Region",
                  "dtype": "object",
                  "stats": {
                    "unique_count": 1,
                    "nan_count": 0,
                    "categories": [
                      {
                        "name": "Mainland China",
                        "count": 5
                      }
                    ]
                  }
                },
                {
                  "name": "Last Update",
                  "dtype": "object",
                  "stats": {
                    "unique_count": 1,
                    "nan_count": 0,
                    "categories": [
                      {
                        "name": "1/22/2020 17:00",
                        "count": 5
                      }
                    ]
                  }
                },
                {
                  "name": "Confirmed",
                  "dtype": "float64",
                  "stats": {
                    "unique_count": 4,
                    "nan_count": 0,
                    "min": "0.0",
                    "max": "14.0",
                    "histogram": [
                      {
                        "bin_start": 0,
                        "bin_end": 1.4,
                        "count": 3
                      },
                      {
                        "bin_start": 1.4,
                        "bin_end": 2.8,
                        "count": 0
                      },
                      {
                        "bin_start": 2.8,
                        "bin_end": 4.199999999999999,
                        "count": 0
                      },
                      {
                        "bin_start": 4.199999999999999,
                        "bin_end": 5.6,
                        "count": 0
                      },
                      {
                        "bin_start": 5.6,
                        "bin_end": 7,
                        "count": 1
                      },
                      {
                        "bin_start": 7,
                        "bin_end": 8.399999999999999,
                        "count": 0
                      },
                      {
                        "bin_start": 8.399999999999999,
                        "bin_end": 9.799999999999999,
                        "count": 0
                      },
                      {
                        "bin_start": 9.799999999999999,
                        "bin_end": 11.2,
                        "count": 0
                      },
                      {
                        "bin_start": 11.2,
                        "bin_end": 12.6,
                        "count": 0
                      },
                      {
                        "bin_start": 12.6,
                        "bin_end": 14,
                        "count": 1
                      }
                    ]
                  }
                },
                {
                  "name": "Deaths",
                  "dtype": "float64",
                  "stats": {
                    "unique_count": 1,
                    "nan_count": 0,
                    "min": "0.0",
                    "max": "0.0",
                    "histogram": [
                      {
                        "bin_start": -0.5,
                        "bin_end": -0.4,
                        "count": 0
                      },
                      {
                        "bin_start": -0.4,
                        "bin_end": -0.3,
                        "count": 0
                      },
                      {
                        "bin_start": -0.3,
                        "bin_end": -0.19999999999999996,
                        "count": 0
                      },
                      {
                        "bin_start": -0.19999999999999996,
                        "bin_end": -0.09999999999999998,
                        "count": 0
                      },
                      {
                        "bin_start": -0.09999999999999998,
                        "bin_end": 0,
                        "count": 0
                      },
                      {
                        "bin_start": 0,
                        "bin_end": 0.10000000000000009,
                        "count": 5
                      },
                      {
                        "bin_start": 0.10000000000000009,
                        "bin_end": 0.20000000000000007,
                        "count": 0
                      },
                      {
                        "bin_start": 0.20000000000000007,
                        "bin_end": 0.30000000000000004,
                        "count": 0
                      },
                      {
                        "bin_start": 0.30000000000000004,
                        "bin_end": 0.4,
                        "count": 0
                      },
                      {
                        "bin_start": 0.4,
                        "bin_end": 0.5,
                        "count": 0
                      }
                    ]
                  }
                },
                {
                  "name": "Recovered",
                  "dtype": "float64",
                  "stats": {
                    "unique_count": 1,
                    "nan_count": 0,
                    "min": "0.0",
                    "max": "0.0",
                    "histogram": [
                      {
                        "bin_start": -0.5,
                        "bin_end": -0.4,
                        "count": 0
                      },
                      {
                        "bin_start": -0.4,
                        "bin_end": -0.3,
                        "count": 0
                      },
                      {
                        "bin_start": -0.3,
                        "bin_end": -0.19999999999999996,
                        "count": 0
                      },
                      {
                        "bin_start": -0.19999999999999996,
                        "bin_end": -0.09999999999999998,
                        "count": 0
                      },
                      {
                        "bin_start": -0.09999999999999998,
                        "bin_end": 0,
                        "count": 0
                      },
                      {
                        "bin_start": 0,
                        "bin_end": 0.10000000000000009,
                        "count": 5
                      },
                      {
                        "bin_start": 0.10000000000000009,
                        "bin_end": 0.20000000000000007,
                        "count": 0
                      },
                      {
                        "bin_start": 0.20000000000000007,
                        "bin_end": 0.30000000000000004,
                        "count": 0
                      },
                      {
                        "bin_start": 0.30000000000000004,
                        "bin_end": 0.4,
                        "count": 0
                      },
                      {
                        "bin_start": 0.4,
                        "bin_end": 0.5,
                        "count": 0
                      }
                    ]
                  }
                },
                {
                  "name": "_deepnote_index_column",
                  "dtype": "int64"
                }
              ],
              "rows": [
                {
                  "SNo": 1,
                  "ObservationDate": "01/22/2020",
                  "Province/State": "Anhui",
                  "Country/Region": "Mainland China",
                  "Last Update": "1/22/2020 17:00",
                  "Confirmed": 1,
                  "Deaths": 0,
                  "Recovered": 0,
                  "_deepnote_index_column": 0
                },
                {
                  "SNo": 2,
                  "ObservationDate": "01/22/2020",
                  "Province/State": "Beijing",
                  "Country/Region": "Mainland China",
                  "Last Update": "1/22/2020 17:00",
                  "Confirmed": 14,
                  "Deaths": 0,
                  "Recovered": 0,
                  "_deepnote_index_column": 1
                },
                {
                  "SNo": 3,
                  "ObservationDate": "01/22/2020",
                  "Province/State": "Chongqing",
                  "Country/Region": "Mainland China",
                  "Last Update": "1/22/2020 17:00",
                  "Confirmed": 6,
                  "Deaths": 0,
                  "Recovered": 0,
                  "_deepnote_index_column": 2
                },
                {
                  "SNo": 4,
                  "ObservationDate": "01/22/2020",
                  "Province/State": "Fujian",
                  "Country/Region": "Mainland China",
                  "Last Update": "1/22/2020 17:00",
                  "Confirmed": 1,
                  "Deaths": 0,
                  "Recovered": 0,
                  "_deepnote_index_column": 3
                },
                {
                  "SNo": 5,
                  "ObservationDate": "01/22/2020",
                  "Province/State": "Gansu",
                  "Country/Region": "Mainland China",
                  "Last Update": "1/22/2020 17:00",
                  "Confirmed": 0,
                  "Deaths": 0,
                  "Recovered": 0,
                  "_deepnote_index_column": 4
                }
              ]
            },
            "text/plain": "   SNo ObservationDate Province/State  Country/Region      Last Update  \\\n0    1      01/22/2020          Anhui  Mainland China  1/22/2020 17:00   \n1    2      01/22/2020        Beijing  Mainland China  1/22/2020 17:00   \n2    3      01/22/2020      Chongqing  Mainland China  1/22/2020 17:00   \n3    4      01/22/2020         Fujian  Mainland China  1/22/2020 17:00   \n4    5      01/22/2020          Gansu  Mainland China  1/22/2020 17:00   \n\n   Confirmed  Deaths  Recovered  \n0        1.0     0.0        0.0  \n1       14.0     0.0        0.0  \n2        6.0     0.0        0.0  \n3        1.0     0.0        0.0  \n4        0.0     0.0        0.0  ",
            "text/html": "<div>\n<style scoped>\n    .dataframe tbody tr th:only-of-type {\n        vertical-align: middle;\n    }\n\n    .dataframe tbody tr th {\n        vertical-align: top;\n    }\n\n    .dataframe thead th {\n        text-align: right;\n    }\n</style>\n<table border=\"1\" class=\"dataframe\">\n  <thead>\n    <tr style=\"text-align: right;\">\n      <th></th>\n      <th>SNo</th>\n      <th>ObservationDate</th>\n      <th>Province/State</th>\n      <th>Country/Region</th>\n      <th>Last Update</th>\n      <th>Confirmed</th>\n      <th>Deaths</th>\n      <th>Recovered</th>\n    </tr>\n  </thead>\n  <tbody>\n    <tr>\n      <th>0</th>\n      <td>1</td>\n      <td>01/22/2020</td>\n      <td>Anhui</td>\n      <td>Mainland China</td>\n      <td>1/22/2020 17:00</td>\n      <td>1.0</td>\n      <td>0.0</td>\n      <td>0.0</td>\n    </tr>\n    <tr>\n      <th>1</th>\n      <td>2</td>\n      <td>01/22/2020</td>\n      <td>Beijing</td>\n      <td>Mainland China</td>\n      <td>1/22/2020 17:00</td>\n      <td>14.0</td>\n      <td>0.0</td>\n      <td>0.0</td>\n    </tr>\n    <tr>\n      <th>2</th>\n      <td>3</td>\n      <td>01/22/2020</td>\n      <td>Chongqing</td>\n      <td>Mainland China</td>\n      <td>1/22/2020 17:00</td>\n      <td>6.0</td>\n      <td>0.0</td>\n      <td>0.0</td>\n    </tr>\n    <tr>\n      <th>3</th>\n      <td>4</td>\n      <td>01/22/2020</td>\n      <td>Fujian</td>\n      <td>Mainland China</td>\n      <td>1/22/2020 17:00</td>\n      <td>1.0</td>\n      <td>0.0</td>\n      <td>0.0</td>\n    </tr>\n    <tr>\n      <th>4</th>\n      <td>5</td>\n      <td>01/22/2020</td>\n      <td>Gansu</td>\n      <td>Mainland China</td>\n      <td>1/22/2020 17:00</td>\n      <td>0.0</td>\n      <td>0.0</td>\n      <td>0.0</td>\n    </tr>\n  </tbody>\n</table>\n</div>"
          },
          "metadata": {}
        }
      ]
    },
    {
      "cell_type": "code",
      "metadata": {
        "cell_id": "be4180feefb54fbf8f2720011d31efea",
        "tags": [],
        "deepnote_to_be_reexecuted": false,
        "source_hash": "de1e323c",
        "execution_start": 1657467494036,
        "execution_millis": 56,
        "deepnote_cell_type": "code",
        "deepnote_cell_height": 394.8125,
        "id": "4TW8dJ5T9TAV",
        "outputId": "d97124bb-f830-4d21-ce54-878d34b13163"
      },
      "source": [
        "df.info()"
      ],
      "execution_count": null,
      "outputs": [
        {
          "name": "stdout",
          "text": "<class 'pandas.core.frame.DataFrame'>\nRangeIndex: 306429 entries, 0 to 306428\nData columns (total 8 columns):\n #   Column           Non-Null Count   Dtype  \n---  ------           --------------   -----  \n 0   SNo              306429 non-null  int64  \n 1   ObservationDate  306429 non-null  object \n 2   Province/State   228329 non-null  object \n 3   Country/Region   306429 non-null  object \n 4   Last Update      306429 non-null  object \n 5   Confirmed        306429 non-null  float64\n 6   Deaths           306429 non-null  float64\n 7   Recovered        306429 non-null  float64\ndtypes: float64(3), int64(1), object(4)\nmemory usage: 18.7+ MB\n",
          "output_type": "stream"
        }
      ]
    },
    {
      "cell_type": "code",
      "metadata": {
        "cell_id": "092b9884c5554701bfc1d9f6e80f4e8d",
        "tags": [],
        "deepnote_to_be_reexecuted": false,
        "source_hash": "4e0e0b85",
        "execution_start": 1657467494136,
        "execution_millis": 0,
        "deepnote_cell_type": "code",
        "deepnote_cell_height": 99,
        "id": "TkAr35sX9TAW"
      },
      "source": [
        "# Hapus kolom yang tidak diperlukan\n",
        "df = df.drop(['SNo', 'ObservationDate', 'Last Update'], axis=1)"
      ],
      "execution_count": null,
      "outputs": []
    },
    {
      "cell_type": "code",
      "metadata": {
        "cell_id": "3f66c18524954a2e853a054e57570230",
        "tags": [],
        "deepnote_to_be_reexecuted": false,
        "source_hash": "8291b33e",
        "execution_start": 1657467494137,
        "execution_millis": 29,
        "deepnote_cell_type": "code",
        "deepnote_cell_height": 99,
        "id": "sENyi0OF9TAY"
      },
      "source": [
        "# Meng-SUM nilai Confirmed, Deaths, dan Recovered berdasarkan Colomn Country\n",
        "df = df.groupby(['Country/Region']).sum().reset_index()"
      ],
      "execution_count": null,
      "outputs": []
    },
    {
      "cell_type": "code",
      "metadata": {
        "cell_id": "7938c8b24c2a44d8b78bdb5853fd9bd1",
        "tags": [],
        "deepnote_to_be_reexecuted": false,
        "source_hash": "c085b6ba",
        "execution_start": 1657467494166,
        "execution_millis": 3,
        "deepnote_cell_type": "code",
        "deepnote_cell_height": 395,
        "id": "4hYV3MA99TAY",
        "outputId": "c7edd770-61b6-468e-af95-50dda4206903"
      },
      "source": [
        "df.head()"
      ],
      "execution_count": null,
      "outputs": [
        {
          "output_type": "execute_result",
          "execution_count": 7,
          "data": {
            "application/vnd.deepnote.dataframe.v3+json": {
              "column_count": 4,
              "row_count": 5,
              "columns": [
                {
                  "name": "Country/Region",
                  "dtype": "object",
                  "stats": {
                    "unique_count": 5,
                    "nan_count": 0,
                    "categories": [
                      {
                        "name": " Azerbaijan",
                        "count": 1
                      },
                      {
                        "name": "('St. Martin',)",
                        "count": 1
                      },
                      {
                        "name": "3 others",
                        "count": 3
                      }
                    ]
                  }
                },
                {
                  "name": "Confirmed",
                  "dtype": "float64",
                  "stats": {
                    "unique_count": 5,
                    "nan_count": 0,
                    "min": "1.0",
                    "max": "27684358.0",
                    "histogram": [
                      {
                        "bin_start": 1,
                        "bin_end": 2768436.7,
                        "count": 2
                      },
                      {
                        "bin_start": 2768436.7,
                        "bin_end": 5536872.4,
                        "count": 0
                      },
                      {
                        "bin_start": 5536872.4,
                        "bin_end": 8305308.100000001,
                        "count": 0
                      },
                      {
                        "bin_start": 8305308.100000001,
                        "bin_end": 11073743.8,
                        "count": 0
                      },
                      {
                        "bin_start": 11073743.8,
                        "bin_end": 13842179.5,
                        "count": 0
                      },
                      {
                        "bin_start": 13842179.5,
                        "bin_end": 16610615.200000001,
                        "count": 0
                      },
                      {
                        "bin_start": 16610615.200000001,
                        "bin_end": 19379050.900000002,
                        "count": 1
                      },
                      {
                        "bin_start": 19379050.900000002,
                        "bin_end": 22147486.6,
                        "count": 1
                      },
                      {
                        "bin_start": 22147486.6,
                        "bin_end": 24915922.3,
                        "count": 0
                      },
                      {
                        "bin_start": 24915922.3,
                        "bin_end": 27684358,
                        "count": 1
                      }
                    ]
                  }
                },
                {
                  "name": "Deaths",
                  "dtype": "float64",
                  "stats": {
                    "unique_count": 4,
                    "nan_count": 0,
                    "min": "0.0",
                    "max": "834464.0",
                    "histogram": [
                      {
                        "bin_start": 0,
                        "bin_end": 83446.4,
                        "count": 2
                      },
                      {
                        "bin_start": 83446.4,
                        "bin_end": 166892.8,
                        "count": 0
                      },
                      {
                        "bin_start": 166892.8,
                        "bin_end": 250339.19999999998,
                        "count": 0
                      },
                      {
                        "bin_start": 250339.19999999998,
                        "bin_end": 333785.6,
                        "count": 0
                      },
                      {
                        "bin_start": 333785.6,
                        "bin_end": 417232,
                        "count": 1
                      },
                      {
                        "bin_start": 417232,
                        "bin_end": 500678.39999999997,
                        "count": 0
                      },
                      {
                        "bin_start": 500678.39999999997,
                        "bin_end": 584124.7999999999,
                        "count": 0
                      },
                      {
                        "bin_start": 584124.7999999999,
                        "bin_end": 667571.2,
                        "count": 0
                      },
                      {
                        "bin_start": 667571.2,
                        "bin_end": 751017.6,
                        "count": 1
                      },
                      {
                        "bin_start": 751017.6,
                        "bin_end": 834464,
                        "count": 1
                      }
                    ]
                  }
                },
                {
                  "name": "Recovered",
                  "dtype": "float64",
                  "stats": {
                    "unique_count": 4,
                    "nan_count": 0,
                    "min": "0.0",
                    "max": "18959299.0",
                    "histogram": [
                      {
                        "bin_start": 0,
                        "bin_end": 1895929.9,
                        "count": 2
                      },
                      {
                        "bin_start": 1895929.9,
                        "bin_end": 3791859.8,
                        "count": 0
                      },
                      {
                        "bin_start": 3791859.8,
                        "bin_end": 5687789.699999999,
                        "count": 0
                      },
                      {
                        "bin_start": 5687789.699999999,
                        "bin_end": 7583719.6,
                        "count": 0
                      },
                      {
                        "bin_start": 7583719.6,
                        "bin_end": 9479649.5,
                        "count": 0
                      },
                      {
                        "bin_start": 9479649.5,
                        "bin_end": 11375579.399999999,
                        "count": 0
                      },
                      {
                        "bin_start": 11375579.399999999,
                        "bin_end": 13271509.299999999,
                        "count": 0
                      },
                      {
                        "bin_start": 13271509.299999999,
                        "bin_end": 15167439.2,
                        "count": 2
                      },
                      {
                        "bin_start": 15167439.2,
                        "bin_end": 17063369.099999998,
                        "count": 0
                      },
                      {
                        "bin_start": 17063369.099999998,
                        "bin_end": 18959299,
                        "count": 1
                      }
                    ]
                  }
                },
                {
                  "name": "_deepnote_index_column",
                  "dtype": "int64"
                }
              ],
              "rows": [
                {
                  "Country/Region": " Azerbaijan",
                  "Confirmed": 1,
                  "Deaths": 0,
                  "Recovered": 0,
                  "_deepnote_index_column": 0
                },
                {
                  "Country/Region": "('St. Martin',)",
                  "Confirmed": 2,
                  "Deaths": 0,
                  "Recovered": 0,
                  "_deepnote_index_column": 1
                },
                {
                  "Country/Region": "Afghanistan",
                  "Confirmed": 17026442,
                  "Deaths": 669075,
                  "Recovered": 13464399,
                  "_deepnote_index_column": 2
                },
                {
                  "Country/Region": "Albania",
                  "Confirmed": 19768869,
                  "Deaths": 375955,
                  "Recovered": 13945256,
                  "_deepnote_index_column": 3
                },
                {
                  "Country/Region": "Algeria",
                  "Confirmed": 27684358,
                  "Deaths": 834464,
                  "Recovered": 18959299,
                  "_deepnote_index_column": 4
                }
              ]
            },
            "text/plain": "    Country/Region   Confirmed    Deaths   Recovered\n0       Azerbaijan         1.0       0.0         0.0\n1  ('St. Martin',)         2.0       0.0         0.0\n2      Afghanistan  17026442.0  669075.0  13464399.0\n3          Albania  19768869.0  375955.0  13945256.0\n4          Algeria  27684358.0  834464.0  18959299.0",
            "text/html": "<div>\n<style scoped>\n    .dataframe tbody tr th:only-of-type {\n        vertical-align: middle;\n    }\n\n    .dataframe tbody tr th {\n        vertical-align: top;\n    }\n\n    .dataframe thead th {\n        text-align: right;\n    }\n</style>\n<table border=\"1\" class=\"dataframe\">\n  <thead>\n    <tr style=\"text-align: right;\">\n      <th></th>\n      <th>Country/Region</th>\n      <th>Confirmed</th>\n      <th>Deaths</th>\n      <th>Recovered</th>\n    </tr>\n  </thead>\n  <tbody>\n    <tr>\n      <th>0</th>\n      <td>Azerbaijan</td>\n      <td>1.0</td>\n      <td>0.0</td>\n      <td>0.0</td>\n    </tr>\n    <tr>\n      <th>1</th>\n      <td>('St. Martin',)</td>\n      <td>2.0</td>\n      <td>0.0</td>\n      <td>0.0</td>\n    </tr>\n    <tr>\n      <th>2</th>\n      <td>Afghanistan</td>\n      <td>17026442.0</td>\n      <td>669075.0</td>\n      <td>13464399.0</td>\n    </tr>\n    <tr>\n      <th>3</th>\n      <td>Albania</td>\n      <td>19768869.0</td>\n      <td>375955.0</td>\n      <td>13945256.0</td>\n    </tr>\n    <tr>\n      <th>4</th>\n      <td>Algeria</td>\n      <td>27684358.0</td>\n      <td>834464.0</td>\n      <td>18959299.0</td>\n    </tr>\n  </tbody>\n</table>\n</div>"
          },
          "metadata": {}
        }
      ]
    },
    {
      "cell_type": "code",
      "metadata": {
        "cell_id": "bc27f6faa1bc4913bcd1c85b4b46decd",
        "tags": [],
        "deepnote_to_be_reexecuted": false,
        "source_hash": "de1e323c",
        "execution_start": 1657467494170,
        "execution_millis": 12,
        "deepnote_cell_type": "code",
        "deepnote_cell_height": 314.0625,
        "id": "vHQMLAAf9TAZ",
        "outputId": "01b41ffc-d16b-4d82-aa15-7334a1733cf2"
      },
      "source": [
        "df.info()"
      ],
      "execution_count": null,
      "outputs": [
        {
          "name": "stdout",
          "text": "<class 'pandas.core.frame.DataFrame'>\nRangeIndex: 229 entries, 0 to 228\nData columns (total 4 columns):\n #   Column          Non-Null Count  Dtype  \n---  ------          --------------  -----  \n 0   Country/Region  229 non-null    object \n 1   Confirmed       229 non-null    float64\n 2   Deaths          229 non-null    float64\n 3   Recovered       229 non-null    float64\ndtypes: float64(3), object(1)\nmemory usage: 7.3+ KB\n",
          "output_type": "stream"
        }
      ]
    },
    {
      "cell_type": "markdown",
      "source": [
        "# Exploratory Data Analysis"
      ],
      "metadata": {
        "formattedRanges": [],
        "cell_id": "559452b761d64cff807419353c5673d8",
        "tags": [],
        "is_collapsed": false,
        "deepnote_cell_type": "text-cell-h1",
        "id": "io7E8frZ9TAb"
      }
    },
    {
      "cell_type": "code",
      "metadata": {
        "cell_id": "d5bcd9bb64f949f492f80a1b18a54bb8",
        "tags": [],
        "deepnote_to_be_reexecuted": false,
        "source_hash": "de1e323c",
        "execution_start": 1657467494193,
        "execution_millis": 3,
        "deepnote_cell_type": "code",
        "deepnote_cell_height": 314.0625,
        "id": "dw4HxkQa9TAc",
        "outputId": "6b5f8634-dcae-492b-e05c-caac66a864fd"
      },
      "source": [
        "df.info()"
      ],
      "execution_count": null,
      "outputs": [
        {
          "name": "stdout",
          "text": "<class 'pandas.core.frame.DataFrame'>\nRangeIndex: 229 entries, 0 to 228\nData columns (total 4 columns):\n #   Column          Non-Null Count  Dtype  \n---  ------          --------------  -----  \n 0   Country/Region  229 non-null    object \n 1   Confirmed       229 non-null    float64\n 2   Deaths          229 non-null    float64\n 3   Recovered       229 non-null    float64\ndtypes: float64(3), object(1)\nmemory usage: 7.3+ KB\n",
          "output_type": "stream"
        }
      ]
    },
    {
      "cell_type": "code",
      "metadata": {
        "cell_id": "984fe5d1608746bcaa17591018202cd2",
        "tags": [],
        "deepnote_to_be_reexecuted": false,
        "source_hash": "f88152d9",
        "execution_start": 1657467494231,
        "execution_millis": 2,
        "deepnote_cell_type": "code",
        "deepnote_cell_height": 518,
        "id": "KWMxgqfv9TAd",
        "outputId": "ef21d3f7-0f7b-4bc5-a0ad-08fd43521edc"
      },
      "source": [
        "df.describe()"
      ],
      "execution_count": null,
      "outputs": [
        {
          "output_type": "execute_result",
          "execution_count": 10,
          "data": {
            "application/vnd.deepnote.dataframe.v3+json": {
              "column_count": 3,
              "row_count": 8,
              "columns": [
                {
                  "name": "Confirmed",
                  "dtype": "float64",
                  "stats": {
                    "unique_count": 8,
                    "nan_count": 0,
                    "min": "0.0",
                    "max": "6049145667.0",
                    "histogram": [
                      {
                        "bin_start": 0,
                        "bin_end": 604914566.7,
                        "count": 7
                      },
                      {
                        "bin_start": 604914566.7,
                        "bin_end": 1209829133.4,
                        "count": 0
                      },
                      {
                        "bin_start": 1209829133.4,
                        "bin_end": 1814743700.1000001,
                        "count": 0
                      },
                      {
                        "bin_start": 1814743700.1000001,
                        "bin_end": 2419658266.8,
                        "count": 0
                      },
                      {
                        "bin_start": 2419658266.8,
                        "bin_end": 3024572833.5,
                        "count": 0
                      },
                      {
                        "bin_start": 3024572833.5,
                        "bin_end": 3629487400.2000003,
                        "count": 0
                      },
                      {
                        "bin_start": 3629487400.2000003,
                        "bin_end": 4234401966.9000006,
                        "count": 0
                      },
                      {
                        "bin_start": 4234401966.9000006,
                        "bin_end": 4839316533.6,
                        "count": 0
                      },
                      {
                        "bin_start": 4839316533.6,
                        "bin_end": 5444231100.3,
                        "count": 0
                      },
                      {
                        "bin_start": 5444231100.3,
                        "bin_end": 6049145667,
                        "count": 1
                      }
                    ]
                  }
                },
                {
                  "name": "Deaths",
                  "dtype": "float64",
                  "stats": {
                    "unique_count": 8,
                    "nan_count": 0,
                    "min": "0.0",
                    "max": "123303762.0",
                    "histogram": [
                      {
                        "bin_start": 0,
                        "bin_end": 12330376.2,
                        "count": 7
                      },
                      {
                        "bin_start": 12330376.2,
                        "bin_end": 24660752.4,
                        "count": 0
                      },
                      {
                        "bin_start": 24660752.4,
                        "bin_end": 36991128.599999994,
                        "count": 0
                      },
                      {
                        "bin_start": 36991128.599999994,
                        "bin_end": 49321504.8,
                        "count": 0
                      },
                      {
                        "bin_start": 49321504.8,
                        "bin_end": 61651881,
                        "count": 0
                      },
                      {
                        "bin_start": 61651881,
                        "bin_end": 73982257.19999999,
                        "count": 0
                      },
                      {
                        "bin_start": 73982257.19999999,
                        "bin_end": 86312633.39999999,
                        "count": 0
                      },
                      {
                        "bin_start": 86312633.39999999,
                        "bin_end": 98643009.6,
                        "count": 0
                      },
                      {
                        "bin_start": 98643009.6,
                        "bin_end": 110973385.8,
                        "count": 0
                      },
                      {
                        "bin_start": 110973385.8,
                        "bin_end": 123303762,
                        "count": 1
                      }
                    ]
                  }
                },
                {
                  "name": "Recovered",
                  "dtype": "float64",
                  "stats": {
                    "unique_count": 8,
                    "nan_count": 0,
                    "min": "0.0",
                    "max": "2900589824.0",
                    "histogram": [
                      {
                        "bin_start": 0,
                        "bin_end": 290058982.4,
                        "count": 7
                      },
                      {
                        "bin_start": 290058982.4,
                        "bin_end": 580117964.8,
                        "count": 0
                      },
                      {
                        "bin_start": 580117964.8,
                        "bin_end": 870176947.1999999,
                        "count": 0
                      },
                      {
                        "bin_start": 870176947.1999999,
                        "bin_end": 1160235929.6,
                        "count": 0
                      },
                      {
                        "bin_start": 1160235929.6,
                        "bin_end": 1450294912,
                        "count": 0
                      },
                      {
                        "bin_start": 1450294912,
                        "bin_end": 1740353894.3999999,
                        "count": 0
                      },
                      {
                        "bin_start": 1740353894.3999999,
                        "bin_end": 2030412876.7999997,
                        "count": 0
                      },
                      {
                        "bin_start": 2030412876.7999997,
                        "bin_end": 2320471859.2,
                        "count": 0
                      },
                      {
                        "bin_start": 2320471859.2,
                        "bin_end": 2610530841.6,
                        "count": 0
                      },
                      {
                        "bin_start": 2610530841.6,
                        "bin_end": 2900589824,
                        "count": 1
                      }
                    ]
                  }
                },
                {
                  "name": "_deepnote_index_column",
                  "dtype": "object"
                }
              ],
              "rows": [
                {
                  "Confirmed": 229,
                  "Deaths": 229,
                  "Recovered": 229,
                  "_deepnote_index_column": "count"
                },
                {
                  "Confirmed": 114637780.60262008,
                  "Deaths": 2724947.672489083,
                  "Recovered": 67468287.82532752,
                  "_deepnote_index_column": "mean"
                },
                {
                  "Confirmed": 499249644.49960464,
                  "Deaths": 10871006.69657112,
                  "Recovered": 263410785.30198273,
                  "_deepnote_index_column": "std"
                },
                {
                  "Confirmed": 0,
                  "Deaths": 0,
                  "Recovered": 0,
                  "_deepnote_index_column": "min"
                },
                {
                  "Confirmed": 364464,
                  "Deaths": 4305,
                  "Recovered": 262601,
                  "_deepnote_index_column": "25%"
                },
                {
                  "Confirmed": 6148539,
                  "Deaths": 90600,
                  "Recovered": 3797948,
                  "_deepnote_index_column": "50%"
                },
                {
                  "Confirmed": 50168167,
                  "Deaths": 834464,
                  "Recovered": 37101575,
                  "_deepnote_index_column": "75%"
                },
                {
                  "Confirmed": 6049145667,
                  "Deaths": 123303762,
                  "Recovered": 2900589824,
                  "_deepnote_index_column": "max"
                }
              ]
            },
            "text/plain": "          Confirmed        Deaths     Recovered\ncount  2.290000e+02  2.290000e+02  2.290000e+02\nmean   1.146378e+08  2.724948e+06  6.746829e+07\nstd    4.992496e+08  1.087101e+07  2.634108e+08\nmin    0.000000e+00  0.000000e+00  0.000000e+00\n25%    3.644640e+05  4.305000e+03  2.626010e+05\n50%    6.148539e+06  9.060000e+04  3.797948e+06\n75%    5.016817e+07  8.344640e+05  3.710158e+07\nmax    6.049146e+09  1.233038e+08  2.900590e+09",
            "text/html": "<div>\n<style scoped>\n    .dataframe tbody tr th:only-of-type {\n        vertical-align: middle;\n    }\n\n    .dataframe tbody tr th {\n        vertical-align: top;\n    }\n\n    .dataframe thead th {\n        text-align: right;\n    }\n</style>\n<table border=\"1\" class=\"dataframe\">\n  <thead>\n    <tr style=\"text-align: right;\">\n      <th></th>\n      <th>Confirmed</th>\n      <th>Deaths</th>\n      <th>Recovered</th>\n    </tr>\n  </thead>\n  <tbody>\n    <tr>\n      <th>count</th>\n      <td>2.290000e+02</td>\n      <td>2.290000e+02</td>\n      <td>2.290000e+02</td>\n    </tr>\n    <tr>\n      <th>mean</th>\n      <td>1.146378e+08</td>\n      <td>2.724948e+06</td>\n      <td>6.746829e+07</td>\n    </tr>\n    <tr>\n      <th>std</th>\n      <td>4.992496e+08</td>\n      <td>1.087101e+07</td>\n      <td>2.634108e+08</td>\n    </tr>\n    <tr>\n      <th>min</th>\n      <td>0.000000e+00</td>\n      <td>0.000000e+00</td>\n      <td>0.000000e+00</td>\n    </tr>\n    <tr>\n      <th>25%</th>\n      <td>3.644640e+05</td>\n      <td>4.305000e+03</td>\n      <td>2.626010e+05</td>\n    </tr>\n    <tr>\n      <th>50%</th>\n      <td>6.148539e+06</td>\n      <td>9.060000e+04</td>\n      <td>3.797948e+06</td>\n    </tr>\n    <tr>\n      <th>75%</th>\n      <td>5.016817e+07</td>\n      <td>8.344640e+05</td>\n      <td>3.710158e+07</td>\n    </tr>\n    <tr>\n      <th>max</th>\n      <td>6.049146e+09</td>\n      <td>1.233038e+08</td>\n      <td>2.900590e+09</td>\n    </tr>\n  </tbody>\n</table>\n</div>"
          },
          "metadata": {}
        }
      ]
    },
    {
      "cell_type": "code",
      "metadata": {
        "cell_id": "bb0d8c3f7bf441749bd0fa9a90e49281",
        "tags": [],
        "deepnote_to_be_reexecuted": false,
        "source_hash": "d49e8695",
        "execution_start": 1657467494232,
        "execution_millis": 19,
        "deepnote_table_state": {
          "pageSize": 10,
          "pageIndex": 0,
          "filters": [],
          "sortBy": []
        },
        "deepnote_table_loading": false,
        "deepnote_cell_type": "code",
        "deepnote_cell_height": 354,
        "id": "M7dtjfmG9TAe",
        "outputId": "a20ab89d-1eb5-421e-a5b7-13ad84b88547"
      },
      "source": [
        "df.describe(include='O')"
      ],
      "execution_count": null,
      "outputs": [
        {
          "output_type": "execute_result",
          "execution_count": 11,
          "data": {
            "application/vnd.deepnote.dataframe.v3+json": {
              "column_count": 1,
              "row_count": 4,
              "columns": [
                {
                  "name": "Country/Region",
                  "dtype": "object",
                  "stats": {
                    "unique_count": 3,
                    "nan_count": 0,
                    "categories": [
                      {
                        "name": "229",
                        "count": 2
                      },
                      {
                        "name": "Bhutan",
                        "count": 1
                      },
                      {
                        "name": "1",
                        "count": 1
                      }
                    ]
                  }
                },
                {
                  "name": "_deepnote_index_column",
                  "dtype": "object"
                }
              ],
              "rows": [
                {
                  "Country/Region": "229",
                  "_deepnote_index_column": "count"
                },
                {
                  "Country/Region": "229",
                  "_deepnote_index_column": "unique"
                },
                {
                  "Country/Region": "Bhutan",
                  "_deepnote_index_column": "top"
                },
                {
                  "Country/Region": "1",
                  "_deepnote_index_column": "freq"
                }
              ]
            },
            "text/plain": "       Country/Region\ncount             229\nunique            229\ntop            Bhutan\nfreq                1",
            "text/html": "<div>\n<style scoped>\n    .dataframe tbody tr th:only-of-type {\n        vertical-align: middle;\n    }\n\n    .dataframe tbody tr th {\n        vertical-align: top;\n    }\n\n    .dataframe thead th {\n        text-align: right;\n    }\n</style>\n<table border=\"1\" class=\"dataframe\">\n  <thead>\n    <tr style=\"text-align: right;\">\n      <th></th>\n      <th>Country/Region</th>\n    </tr>\n  </thead>\n  <tbody>\n    <tr>\n      <th>count</th>\n      <td>229</td>\n    </tr>\n    <tr>\n      <th>unique</th>\n      <td>229</td>\n    </tr>\n    <tr>\n      <th>top</th>\n      <td>Bhutan</td>\n    </tr>\n    <tr>\n      <th>freq</th>\n      <td>1</td>\n    </tr>\n  </tbody>\n</table>\n</div>"
          },
          "metadata": {}
        }
      ]
    },
    {
      "cell_type": "code",
      "metadata": {
        "cell_id": "39a292a7d4a64974b070f6762bda74f2",
        "tags": [],
        "deepnote_to_be_reexecuted": false,
        "source_hash": "ba8b4043",
        "execution_start": 1657467494256,
        "execution_millis": 5,
        "deepnote_cell_type": "code",
        "deepnote_cell_height": 791,
        "id": "jxLepSwK9TAf",
        "outputId": "e5910a38-ba24-41b5-c435-c48875ae5e6a"
      },
      "source": [
        "col_str = ['Country/Region']\n",
        "for i in col_str:\n",
        "  print('Unique value dari kolom \"{a}\" adalah :'.format(a=i))\n",
        "  print(df[i].unique())\n",
        "  print('dengan total : {}'.format(len(df[i].unique())))\n",
        "  print('')"
      ],
      "execution_count": null,
      "outputs": [
        {
          "name": "stdout",
          "text": "Unique value dari kolom \"Country/Region\" adalah :\n[' Azerbaijan' \"('St. Martin',)\" 'Afghanistan' 'Albania' 'Algeria'\n 'Andorra' 'Angola' 'Antigua and Barbuda' 'Argentina' 'Armenia' 'Aruba'\n 'Australia' 'Austria' 'Azerbaijan' 'Bahamas' 'Bahamas, The' 'Bahrain'\n 'Bangladesh' 'Barbados' 'Belarus' 'Belgium' 'Belize' 'Benin' 'Bhutan'\n 'Bolivia' 'Bosnia and Herzegovina' 'Botswana' 'Brazil' 'Brunei'\n 'Bulgaria' 'Burkina Faso' 'Burma' 'Burundi' 'Cabo Verde' 'Cambodia'\n 'Cameroon' 'Canada' 'Cape Verde' 'Cayman Islands'\n 'Central African Republic' 'Chad' 'Channel Islands' 'Chile' 'China'\n 'Colombia' 'Comoros' 'Congo (Brazzaville)' 'Congo (Kinshasa)'\n 'Costa Rica' 'Croatia' 'Cuba' 'Curacao' 'Cyprus' 'Czech Republic'\n 'Denmark' 'Diamond Princess' 'Djibouti' 'Dominica' 'Dominican Republic'\n 'East Timor' 'Ecuador' 'Egypt' 'El Salvador' 'Equatorial Guinea'\n 'Eritrea' 'Estonia' 'Eswatini' 'Ethiopia' 'Faroe Islands' 'Fiji'\n 'Finland' 'France' 'French Guiana' 'Gabon' 'Gambia' 'Gambia, The'\n 'Georgia' 'Germany' 'Ghana' 'Gibraltar' 'Greece' 'Greenland' 'Grenada'\n 'Guadeloupe' 'Guam' 'Guatemala' 'Guernsey' 'Guinea' 'Guinea-Bissau'\n 'Guyana' 'Haiti' 'Holy See' 'Honduras' 'Hong Kong' 'Hungary' 'Iceland'\n 'India' 'Indonesia' 'Iran' 'Iraq' 'Ireland' 'Israel' 'Italy'\n 'Ivory Coast' 'Jamaica' 'Japan' 'Jersey' 'Jordan' 'Kazakhstan' 'Kenya'\n 'Kiribati' 'Kosovo' 'Kuwait' 'Kyrgyzstan' 'Laos' 'Latvia' 'Lebanon'\n 'Lesotho' 'Liberia' 'Libya' 'Liechtenstein' 'Lithuania' 'Luxembourg'\n 'MS Zaandam' 'Macau' 'Madagascar' 'Mainland China' 'Malawi' 'Malaysia'\n 'Maldives' 'Mali' 'Malta' 'Marshall Islands' 'Martinique' 'Mauritania'\n 'Mauritius' 'Mayotte' 'Mexico' 'Micronesia' 'Moldova' 'Monaco' 'Mongolia'\n 'Montenegro' 'Morocco' 'Mozambique' 'Namibia' 'Nepal' 'Netherlands'\n 'New Zealand' 'Nicaragua' 'Niger' 'Nigeria' 'North Ireland'\n 'North Macedonia' 'Norway' 'Oman' 'Others' 'Pakistan' 'Palestine'\n 'Panama' 'Papua New Guinea' 'Paraguay' 'Peru' 'Philippines' 'Poland'\n 'Portugal' 'Puerto Rico' 'Qatar' 'Republic of Ireland'\n 'Republic of the Congo' 'Reunion' 'Romania' 'Russia' 'Rwanda'\n 'Saint Barthelemy' 'Saint Kitts and Nevis' 'Saint Lucia'\n 'Saint Vincent and the Grenadines' 'Samoa' 'San Marino'\n 'Sao Tome and Principe' 'Saudi Arabia' 'Senegal' 'Serbia' 'Seychelles'\n 'Sierra Leone' 'Singapore' 'Slovakia' 'Slovenia' 'Solomon Islands'\n 'Somalia' 'South Africa' 'South Korea' 'South Sudan' 'Spain' 'Sri Lanka'\n 'St. Martin' 'Sudan' 'Suriname' 'Sweden' 'Switzerland' 'Syria' 'Taiwan'\n 'Tajikistan' 'Tanzania' 'Thailand' 'The Bahamas' 'The Gambia'\n 'Timor-Leste' 'Togo' 'Trinidad and Tobago' 'Tunisia' 'Turkey' 'UK' 'US'\n 'Uganda' 'Ukraine' 'United Arab Emirates' 'Uruguay' 'Uzbekistan'\n 'Vanuatu' 'Vatican City' 'Venezuela' 'Vietnam' 'West Bank and Gaza'\n 'Yemen' 'Zambia' 'Zimbabwe' 'occupied Palestinian territory']\ndengan total : 229\n\n",
          "output_type": "stream"
        }
      ]
    },
    {
      "cell_type": "code",
      "metadata": {
        "cell_id": "d04bbb3dc7f748d0acfe3b699cf143c3",
        "tags": [],
        "deepnote_to_be_reexecuted": false,
        "source_hash": "3dd3216e",
        "execution_start": 1657467494273,
        "execution_millis": 1438,
        "deepnote_cell_type": "code",
        "deepnote_cell_height": 1613,
        "deepnote_output_heights": [
          null,
          611
        ],
        "id": "Stnls-KM9TAg",
        "outputId": "7885de7b-4954-4980-9020-bfe115cbd7fd"
      },
      "source": [
        "sns.set(style='white')\n",
        "  \n",
        "# Fungsi untuk membuat plot  \n",
        "def observasi_num(features):  \n",
        "    fig, axs = plt.subplots(3, 2, figsize=(10, 9))\n",
        "    for i, kol in enumerate(features):\n",
        "\t    sns.boxplot(df[kol], ax = axs[i][0])\n",
        "\t    sns.distplot(df[kol], ax = axs[i][1])   \n",
        "\t    axs[i][0].set_title('mean = %.2f\\n median = %.2f\\n std = %.2f'%(df[kol].mean(), df[kol].median(), df[kol].std()))\n",
        "    plt.setp(axs)\n",
        "    plt.tight_layout()\n",
        "    plt.show()  \n",
        "  \n",
        "# Memanggil fungsi untuk membuat Plot untuk data numerik  \n",
        "kolom_numerik = ['Confirmed','Deaths', 'Recovered']\n",
        "observasi_num(kolom_numerik)"
      ],
      "execution_count": null,
      "outputs": [
        {
          "name": "stderr",
          "text": "/shared-libs/python3.9/py/lib/python3.9/site-packages/seaborn/_decorators.py:36: FutureWarning: Pass the following variable as a keyword arg: x. From version 0.12, the only valid positional argument will be `data`, and passing other arguments without an explicit keyword will result in an error or misinterpretation.\n  warnings.warn(\n/shared-libs/python3.9/py/lib/python3.9/site-packages/seaborn/distributions.py:2619: FutureWarning: `distplot` is a deprecated function and will be removed in a future version. Please adapt your code to use either `displot` (a figure-level function with similar flexibility) or `histplot` (an axes-level function for histograms).\n  warnings.warn(msg, FutureWarning)\n/shared-libs/python3.9/py/lib/python3.9/site-packages/seaborn/_decorators.py:36: FutureWarning: Pass the following variable as a keyword arg: x. From version 0.12, the only valid positional argument will be `data`, and passing other arguments without an explicit keyword will result in an error or misinterpretation.\n  warnings.warn(\n/shared-libs/python3.9/py/lib/python3.9/site-packages/seaborn/distributions.py:2619: FutureWarning: `distplot` is a deprecated function and will be removed in a future version. Please adapt your code to use either `displot` (a figure-level function with similar flexibility) or `histplot` (an axes-level function for histograms).\n  warnings.warn(msg, FutureWarning)\n/shared-libs/python3.9/py/lib/python3.9/site-packages/seaborn/_decorators.py:36: FutureWarning: Pass the following variable as a keyword arg: x. From version 0.12, the only valid positional argument will be `data`, and passing other arguments without an explicit keyword will result in an error or misinterpretation.\n  warnings.warn(\n/shared-libs/python3.9/py/lib/python3.9/site-packages/seaborn/distributions.py:2619: FutureWarning: `distplot` is a deprecated function and will be removed in a future version. Please adapt your code to use either `displot` (a figure-level function with similar flexibility) or `histplot` (an axes-level function for histograms).\n  warnings.warn(msg, FutureWarning)\n  adjustable: {'box', 'datalim'}\n  agg_filter: a filter function, which takes a (m, n, 3) float array and a dpi value, and returns a (m, n, 3) array\n  alpha: scalar or None\n  anchor: (float, float) or {'C', 'SW', 'S', 'SE', 'E', 'NE', ...}\n  animated: bool\n  aspect: {'auto', 'equal'} or float\n  autoscale_on: bool\n  autoscalex_on: bool\n  autoscaley_on: bool\n  axes_locator: Callable[[Axes, Renderer], Bbox]\n  axisbelow: bool or 'line'\n  box_aspect: float or None\n  clip_box: `.Bbox`\n  clip_on: bool\n  clip_path: Patch or (Path, Transform) or None\n  facecolor or fc: color\n  figure: `.Figure`\n  frame_on: bool\n  gid: str\n  in_layout: bool\n  label: object\n  navigate: bool\n  navigate_mode: unknown\n  path_effects: `.AbstractPathEffect`\n  picker: None or bool or float or callable\n  position: [left, bottom, width, height] or `~matplotlib.transforms.Bbox`\n  prop_cycle: unknown\n  rasterization_zorder: float or None\n  rasterized: bool\n  sketch_params: (scale: float, length: float, randomness: float)\n  snap: bool or None\n  subplotspec: unknown\n  title: str\n  transform: `.Transform`\n  url: str\n  visible: bool\n  xbound: unknown\n  xlabel: str\n  xlim: (bottom: float, top: float)\n  xmargin: float greater than -0.5\n  xscale: {\"linear\", \"log\", \"symlog\", \"logit\", ...} or `.ScaleBase`\n  xticklabels: unknown\n  xticks: unknown\n  ybound: unknown\n  ylabel: str\n  ylim: (bottom: float, top: float)\n  ymargin: float greater than -0.5\n  yscale: {\"linear\", \"log\", \"symlog\", \"logit\", ...} or `.ScaleBase`\n  yticklabels: unknown\n  yticks: unknown\n  zorder: float\n",
          "output_type": "stream"
        },
        {
          "data": {
            "text/plain": "<Figure size 720x648 with 6 Axes>",
            "image/png": "[encoded data removed]"
          },
          "metadata": {
            "needs_background": "light",
            "image/png": {
              "width": 718,
              "height": 640
            }
          },
          "output_type": "display_data"
        }
      ]
    },
    {
      "cell_type": "code",
      "source": [
        "sns.pairplot(df)"
      ],
      "metadata": {
        "cell_id": "ebb778e92d524a6e89374e910c72e306",
        "tags": [],
        "deepnote_to_be_reexecuted": false,
        "source_hash": "4cf530ad",
        "execution_start": 1657467495760,
        "execution_millis": 3749,
        "owner_user_id": "7c16d387-f54e-4732-bbce-6fe4a32bedc0",
        "deepnote_cell_type": "code",
        "deepnote_cell_height": 760,
        "deepnote_output_heights": [
          21,
          535
        ],
        "id": "j170kdIh9TAi",
        "outputId": "1b9b98a5-6fbc-44a1-9eed-91e5ad7df3bd"
      },
      "outputs": [
        {
          "output_type": "execute_result",
          "execution_count": 14,
          "data": {
            "text/plain": "<seaborn.axisgrid.PairGrid at 0x7f09629af940>"
          },
          "metadata": {}
        },
        {
          "data": {
            "text/plain": "<Figure size 540x540 with 12 Axes>",
            "image/png": "[encoded data removed]"
          },
          "metadata": {
            "needs_background": "light",
            "image/png": {
              "width": 533,
              "height": 533
            }
          },
          "output_type": "display_data"
        }
      ],
      "execution_count": null
    },
    {
      "cell_type": "markdown",
      "source": [
        "# Pre-Modelling"
      ],
      "metadata": {
        "formattedRanges": [],
        "cell_id": "6e519d84f17b41fdb7150fb529c6c929",
        "tags": [],
        "is_collapsed": false,
        "deepnote_cell_type": "text-cell-h1",
        "id": "zy-OvZnt9TAi"
      }
    },
    {
      "cell_type": "markdown",
      "source": [
        "## Feature Scaling"
      ],
      "metadata": {
        "formattedRanges": [],
        "cell_id": "6d6a1e29fa744fa28c74e0094cc27dae",
        "tags": [],
        "is_collapsed": false,
        "deepnote_cell_type": "text-cell-h2",
        "id": "KUHXIo059TAj"
      }
    },
    {
      "cell_type": "code",
      "metadata": {
        "cell_id": "6f1959f7cbf244629b43784ef7aaf9b4",
        "tags": [],
        "deepnote_to_be_reexecuted": false,
        "source_hash": "f63cce65",
        "execution_start": 1657467499411,
        "execution_millis": 185,
        "deepnote_cell_type": "code",
        "deepnote_cell_height": 1058,
        "id": "glsUIwqG9TAj",
        "outputId": "6f051794-5db4-4bca-de9e-a3b502bebc82"
      },
      "source": [
        "#Mengtransform nilai pada kolom confirmed, deaths dan recovered agar memiliki rentang yang sama (0 - 1) \n",
        "from sklearn.preprocessing import MinMaxScaler\n",
        "\n",
        "kolom_numerik = ['Confirmed','Deaths', 'Recovered']\n",
        "\n",
        "# Statistik sebelum Scalling\n",
        "print('Statistik Sebelum Scalling\\n')\n",
        "print(df[kolom_numerik].describe())\n",
        "\n",
        "# Scalling\n",
        "df_scalled = MinMaxScaler().fit_transform(df[kolom_numerik])\n",
        "\n",
        "# Membuat DataFrame\n",
        "df_scalled = pd.DataFrame(data=df_scalled, index=df.index, columns=df[kolom_numerik].columns)\n",
        "\n",
        "# Menampilkan contoh isi data dan summary statistic\n",
        "print('Contoh hasil scalling\\n')\n",
        "print(df_scalled.head())\n",
        "\n",
        "print('Statistik hasil scalling\\n')\n",
        "print(df_scalled.describe())"
      ],
      "execution_count": null,
      "outputs": [
        {
          "name": "stdout",
          "text": "Statistik Sebelum Scalling\n\n          Confirmed        Deaths     Recovered\ncount  2.290000e+02  2.290000e+02  2.290000e+02\nmean   1.146378e+08  2.724948e+06  6.746829e+07\nstd    4.992496e+08  1.087101e+07  2.634108e+08\nmin    0.000000e+00  0.000000e+00  0.000000e+00\n25%    3.644640e+05  4.305000e+03  2.626010e+05\n50%    6.148539e+06  9.060000e+04  3.797948e+06\n75%    5.016817e+07  8.344640e+05  3.710158e+07\nmax    6.049146e+09  1.233038e+08  2.900590e+09\nContoh hasil scalling\n\n      Confirmed    Deaths  Recovered\n0  1.653126e-10  0.000000   0.000000\n1  3.306252e-10  0.000000   0.000000\n2  2.814685e-03  0.005426   0.004642\n3  3.268043e-03  0.003049   0.004808\n4  4.576573e-03  0.006768   0.006536\nStatistik hasil scalling\n\n        Confirmed      Deaths   Recovered\ncount  229.000000  229.000000  229.000000\nmean     0.018951    0.022099    0.023260\nstd      0.082532    0.088164    0.090813\nmin      0.000000    0.000000    0.000000\n25%      0.000060    0.000035    0.000091\n50%      0.001016    0.000735    0.001309\n75%      0.008293    0.006768    0.012791\nmax      1.000000    1.000000    1.000000\n",
          "output_type": "stream"
        }
      ]
    },
    {
      "cell_type": "code",
      "metadata": {
        "cell_id": "78dc1311f8dd466b9f7a0880f0a5bc7f",
        "tags": [],
        "deepnote_to_be_reexecuted": false,
        "source_hash": "62f613b2",
        "execution_start": 1657467499613,
        "execution_millis": 10,
        "deepnote_cell_type": "code",
        "deepnote_cell_height": 395,
        "id": "s0TbMRJR9TAk",
        "outputId": "08c944ce-5ef9-408f-c3bb-373285f7908a"
      },
      "source": [
        "df_scalled.head()"
      ],
      "execution_count": null,
      "outputs": [
        {
          "output_type": "execute_result",
          "execution_count": 16,
          "data": {
            "application/vnd.deepnote.dataframe.v3+json": {
              "column_count": 3,
              "row_count": 5,
              "columns": [
                {
                  "name": "Confirmed",
                  "dtype": "float64",
                  "stats": {
                    "unique_count": 5,
                    "nan_count": 0,
                    "min": "1.6531260033219498e-10",
                    "max": "0.004576573209507405",
                    "histogram": [
                      {
                        "bin_start": 1.6531260033219498e-10,
                        "bin_end": 0.00045765746973208075,
                        "count": 2
                      },
                      {
                        "bin_start": 0.00045765746973208075,
                        "bin_end": 0.0009153147741515612,
                        "count": 0
                      },
                      {
                        "bin_start": 0.0009153147741515612,
                        "bin_end": 0.0013729720785710417,
                        "count": 0
                      },
                      {
                        "bin_start": 0.0013729720785710417,
                        "bin_end": 0.0018306293829905222,
                        "count": 0
                      },
                      {
                        "bin_start": 0.0018306293829905222,
                        "bin_end": 0.0022882866874100027,
                        "count": 0
                      },
                      {
                        "bin_start": 0.0022882866874100027,
                        "bin_end": 0.002745943991829483,
                        "count": 0
                      },
                      {
                        "bin_start": 0.002745943991829483,
                        "bin_end": 0.0032036012962489637,
                        "count": 1
                      },
                      {
                        "bin_start": 0.0032036012962489637,
                        "bin_end": 0.003661258600668444,
                        "count": 1
                      },
                      {
                        "bin_start": 0.003661258600668444,
                        "bin_end": 0.004118915905087925,
                        "count": 0
                      },
                      {
                        "bin_start": 0.004118915905087925,
                        "bin_end": 0.004576573209507405,
                        "count": 1
                      }
                    ]
                  }
                },
                {
                  "name": "Deaths",
                  "dtype": "float64",
                  "stats": {
                    "unique_count": 4,
                    "nan_count": 0,
                    "min": "0.0",
                    "max": "0.006767546962597945",
                    "histogram": [
                      {
                        "bin_start": 0,
                        "bin_end": 0.0006767546962597945,
                        "count": 2
                      },
                      {
                        "bin_start": 0.0006767546962597945,
                        "bin_end": 0.001353509392519589,
                        "count": 0
                      },
                      {
                        "bin_start": 0.001353509392519589,
                        "bin_end": 0.0020302640887793835,
                        "count": 0
                      },
                      {
                        "bin_start": 0.0020302640887793835,
                        "bin_end": 0.002707018785039178,
                        "count": 0
                      },
                      {
                        "bin_start": 0.002707018785039178,
                        "bin_end": 0.0033837734812989725,
                        "count": 1
                      },
                      {
                        "bin_start": 0.0033837734812989725,
                        "bin_end": 0.004060528177558767,
                        "count": 0
                      },
                      {
                        "bin_start": 0.004060528177558767,
                        "bin_end": 0.0047372828738185616,
                        "count": 0
                      },
                      {
                        "bin_start": 0.0047372828738185616,
                        "bin_end": 0.005414037570078356,
                        "count": 0
                      },
                      {
                        "bin_start": 0.005414037570078356,
                        "bin_end": 0.006090792266338151,
                        "count": 1
                      },
                      {
                        "bin_start": 0.006090792266338151,
                        "bin_end": 0.006767546962597945,
                        "count": 1
                      }
                    ]
                  }
                },
                {
                  "name": "Recovered",
                  "dtype": "float64",
                  "stats": {
                    "unique_count": 4,
                    "nan_count": 0,
                    "min": "0.0",
                    "max": "0.006536359895883025",
                    "histogram": [
                      {
                        "bin_start": 0,
                        "bin_end": 0.0006536359895883025,
                        "count": 2
                      },
                      {
                        "bin_start": 0.0006536359895883025,
                        "bin_end": 0.001307271979176605,
                        "count": 0
                      },
                      {
                        "bin_start": 0.001307271979176605,
                        "bin_end": 0.0019609079687649077,
                        "count": 0
                      },
                      {
                        "bin_start": 0.0019609079687649077,
                        "bin_end": 0.00261454395835321,
                        "count": 0
                      },
                      {
                        "bin_start": 0.00261454395835321,
                        "bin_end": 0.0032681799479415126,
                        "count": 0
                      },
                      {
                        "bin_start": 0.0032681799479415126,
                        "bin_end": 0.0039218159375298154,
                        "count": 0
                      },
                      {
                        "bin_start": 0.0039218159375298154,
                        "bin_end": 0.004575451927118118,
                        "count": 0
                      },
                      {
                        "bin_start": 0.004575451927118118,
                        "bin_end": 0.00522908791670642,
                        "count": 2
                      },
                      {
                        "bin_start": 0.00522908791670642,
                        "bin_end": 0.005882723906294723,
                        "count": 0
                      },
                      {
                        "bin_start": 0.005882723906294723,
                        "bin_end": 0.006536359895883025,
                        "count": 1
                      }
                    ]
                  }
                },
                {
                  "name": "_deepnote_index_column",
                  "dtype": "int64"
                }
              ],
              "rows": [
                {
                  "Confirmed": 1.6531260033219498e-10,
                  "Deaths": 0,
                  "Recovered": 0,
                  "_deepnote_index_column": 0
                },
                {
                  "Confirmed": 3.3062520066438996e-10,
                  "Deaths": 0,
                  "Recovered": 0,
                  "_deepnote_index_column": 1
                },
                {
                  "Confirmed": 0.0028146854014252987,
                  "Deaths": 0.005426233467231924,
                  "Recovered": 0.004641952091465381,
                  "_deepnote_index_column": 2
                },
                {
                  "Confirmed": 0.003268043140016519,
                  "Deaths": 0.0030490148386551254,
                  "Recovered": 0.004807731132687032,
                  "_deepnote_index_column": 3
                },
                {
                  "Confirmed": 0.004576573209507405,
                  "Deaths": 0.006767546962597945,
                  "Recovered": 0.006536359895883025,
                  "_deepnote_index_column": 4
                }
              ]
            },
            "text/plain": "      Confirmed    Deaths  Recovered\n0  1.653126e-10  0.000000   0.000000\n1  3.306252e-10  0.000000   0.000000\n2  2.814685e-03  0.005426   0.004642\n3  3.268043e-03  0.003049   0.004808\n4  4.576573e-03  0.006768   0.006536",
            "text/html": "<div>\n<style scoped>\n    .dataframe tbody tr th:only-of-type {\n        vertical-align: middle;\n    }\n\n    .dataframe tbody tr th {\n        vertical-align: top;\n    }\n\n    .dataframe thead th {\n        text-align: right;\n    }\n</style>\n<table border=\"1\" class=\"dataframe\">\n  <thead>\n    <tr style=\"text-align: right;\">\n      <th></th>\n      <th>Confirmed</th>\n      <th>Deaths</th>\n      <th>Recovered</th>\n    </tr>\n  </thead>\n  <tbody>\n    <tr>\n      <th>0</th>\n      <td>1.653126e-10</td>\n      <td>0.000000</td>\n      <td>0.000000</td>\n    </tr>\n    <tr>\n      <th>1</th>\n      <td>3.306252e-10</td>\n      <td>0.000000</td>\n      <td>0.000000</td>\n    </tr>\n    <tr>\n      <th>2</th>\n      <td>2.814685e-03</td>\n      <td>0.005426</td>\n      <td>0.004642</td>\n    </tr>\n    <tr>\n      <th>3</th>\n      <td>3.268043e-03</td>\n      <td>0.003049</td>\n      <td>0.004808</td>\n    </tr>\n    <tr>\n      <th>4</th>\n      <td>4.576573e-03</td>\n      <td>0.006768</td>\n      <td>0.006536</td>\n    </tr>\n  </tbody>\n</table>\n</div>"
          },
          "metadata": {}
        }
      ]
    },
    {
      "cell_type": "markdown",
      "source": [
        "# Modelling"
      ],
      "metadata": {
        "formattedRanges": [],
        "cell_id": "d2ff3be61cba4268bbf09f74cc3cbb86",
        "tags": [],
        "is_collapsed": false,
        "deepnote_cell_type": "text-cell-h1",
        "id": "18t3sf3l9TAl"
      }
    },
    {
      "cell_type": "markdown",
      "source": [
        "## K-Means"
      ],
      "metadata": {
        "formattedRanges": [],
        "cell_id": "3e2105370059497dbfc580c2a9faefcb",
        "tags": [],
        "is_collapsed": false,
        "deepnote_cell_type": "text-cell-h2",
        "id": "TjHqY2eK9TAl"
      }
    },
    {
      "cell_type": "code",
      "metadata": {
        "cell_id": "0080648d57bb48a3895e27ae1c37d366",
        "tags": [],
        "deepnote_to_be_reexecuted": false,
        "source_hash": "52f9faa9",
        "execution_start": 1657467499635,
        "execution_millis": 8800,
        "deepnote_cell_type": "code",
        "deepnote_cell_height": 755,
        "id": "KyBFchgS9TAm",
        "outputId": "ff81032f-5845-4432-8096-b350b49504ac"
      },
      "source": [
        "#install library yang dibutuhkan\n",
        "!pip install scikit-learn\n",
        "!pip install matplotlib\n",
        "!pip install yellowbrick"
      ],
      "execution_count": null,
      "outputs": [
        {
          "name": "stdout",
          "text": "Requirement already satisfied: scikit-learn in /shared-libs/python3.9/py/lib/python3.9/site-packages (1.1.1)\nRequirement already satisfied: scipy>=1.3.2 in /shared-libs/python3.9/py/lib/python3.9/site-packages (from scikit-learn) (1.8.1)\nRequirement already satisfied: threadpoolctl>=2.0.0 in /shared-libs/python3.9/py/lib/python3.9/site-packages (from scikit-learn) (3.1.0)\nRequirement already satisfied: joblib>=1.0.0 in /shared-libs/python3.9/py/lib/python3.9/site-packages (from scikit-learn) (1.1.0)\nRequirement already satisfied: numpy>=1.17.3 in /shared-libs/python3.9/py/lib/python3.9/site-packages (from scikit-learn) (1.22.4)\n\u001b[33mWARNING: You are using pip version 22.0.4; however, version 22.1.2 is available.\nYou should consider upgrading via the '/root/venv/bin/python -m pip install --upgrade pip' command.\u001b[0m\u001b[33m\n\u001b[0mRequirement already satisfied: matplotlib in /shared-libs/python3.9/py/lib/python3.9/site-packages (3.5.2)\nRequirement already satisfied: numpy>=1.17 in /shared-libs/python3.9/py/lib/python3.9/site-packages (from matplotlib) (1.22.4)\nRequirement already satisfied: cycler>=0.10 in /shared-libs/python3.9/py/lib/python3.9/site-packages (from matplotlib) (0.11.0)\nRequirement already satisfied: packaging>=20.0 in /shared-libs/python3.9/py/lib/python3.9/site-packages (from matplotlib) (21.3)\nRequirement already satisfied: pillow>=6.2.0 in /shared-libs/python3.9/py/lib/python3.9/site-packages (from matplotlib) (9.1.1)\nRequirement already satisfied: pyparsing>=2.2.1 in /shared-libs/python3.9/py/lib/python3.9/site-packages (from matplotlib) (3.0.9)\nRequirement already satisfied: fonttools>=4.22.0 in /shared-libs/python3.9/py/lib/python3.9/site-packages (from matplotlib) (4.33.3)\nRequirement already satisfied: kiwisolver>=1.0.1 in /shared-libs/python3.9/py/lib/python3.9/site-packages (from matplotlib) (1.4.2)\nRequirement already satisfied: python-dateutil>=2.7 in /shared-libs/python3.9/py-core/lib/python3.9/site-packages (from matplotlib) (2.8.2)\nRequirement already satisfied: six>=1.5 in /shared-libs/python3.9/py-core/lib/python3.9/site-packages (from python-dateutil>=2.7->matplotlib) (1.16.0)\n\u001b[33mWARNING: You are using pip version 22.0.4; however, version 22.1.2 is available.\nYou should consider upgrading via the '/root/venv/bin/python -m pip install --upgrade pip' command.\u001b[0m\u001b[33m\n\u001b[0mRequirement already satisfied: yellowbrick in /root/venv/lib/python3.9/site-packages (1.4)\nRequirement already satisfied: matplotlib!=3.0.0,>=2.0.2 in /shared-libs/python3.9/py/lib/python3.9/site-packages (from yellowbrick) (3.5.2)\nRequirement already satisfied: cycler>=0.10.0 in /shared-libs/python3.9/py/lib/python3.9/site-packages (from yellowbrick) (0.11.0)\nRequirement already satisfied: numpy>=1.16.0 in /shared-libs/python3.9/py/lib/python3.9/site-packages (from yellowbrick) (1.22.4)\nRequirement already satisfied: scikit-learn>=1.0.0 in /shared-libs/python3.9/py/lib/python3.9/site-packages (from yellowbrick) (1.1.1)\nRequirement already satisfied: scipy>=1.0.0 in /shared-libs/python3.9/py/lib/python3.9/site-packages (from yellowbrick) (1.8.1)\nRequirement already satisfied: pyparsing>=2.2.1 in /shared-libs/python3.9/py/lib/python3.9/site-packages (from matplotlib!=3.0.0,>=2.0.2->yellowbrick) (3.0.9)\nRequirement already satisfied: packaging>=20.0 in /shared-libs/python3.9/py/lib/python3.9/site-packages (from matplotlib!=3.0.0,>=2.0.2->yellowbrick) (21.3)\nRequirement already satisfied: python-dateutil>=2.7 in /shared-libs/python3.9/py-core/lib/python3.9/site-packages (from matplotlib!=3.0.0,>=2.0.2->yellowbrick) (2.8.2)\nRequirement already satisfied: fonttools>=4.22.0 in /shared-libs/python3.9/py/lib/python3.9/site-packages (from matplotlib!=3.0.0,>=2.0.2->yellowbrick) (4.33.3)\nRequirement already satisfied: kiwisolver>=1.0.1 in /shared-libs/python3.9/py/lib/python3.9/site-packages (from matplotlib!=3.0.0,>=2.0.2->yellowbrick) (1.4.2)\nRequirement already satisfied: pillow>=6.2.0 in /shared-libs/python3.9/py/lib/python3.9/site-packages (from matplotlib!=3.0.0,>=2.0.2->yellowbrick) (9.1.1)\nRequirement already satisfied: joblib>=1.0.0 in /shared-libs/python3.9/py/lib/python3.9/site-packages (from scikit-learn>=1.0.0->yellowbrick) (1.1.0)\nRequirement already satisfied: threadpoolctl>=2.0.0 in /shared-libs/python3.9/py/lib/python3.9/site-packages (from scikit-learn>=1.0.0->yellowbrick) (3.1.0)\nRequirement already satisfied: six>=1.5 in /shared-libs/python3.9/py-core/lib/python3.9/site-packages (from python-dateutil>=2.7->matplotlib!=3.0.0,>=2.0.2->yellowbrick) (1.16.0)\n\u001b[33mWARNING: You are using pip version 22.0.4; however, version 22.1.2 is available.\nYou should consider upgrading via the '/root/venv/bin/python -m pip install --upgrade pip' command.\u001b[0m\u001b[33m\n\u001b[0m",
          "output_type": "stream"
        }
      ]
    },
    {
      "cell_type": "code",
      "metadata": {
        "cell_id": "c6dd4f6f00714133bfdf735d74903861",
        "tags": [],
        "deepnote_to_be_reexecuted": false,
        "source_hash": "65460305",
        "execution_start": 1657467508444,
        "execution_millis": 407,
        "deepnote_cell_type": "code",
        "deepnote_cell_height": 153,
        "id": "gqbT6Qk59TAn"
      },
      "source": [
        "#import library\n",
        "from sklearn.cluster import KMeans\n",
        "from matplotlib import pyplot as plt\n",
        "from yellowbrick.cluster import KElbowVisualizer\n",
        "%matplotlib inline"
      ],
      "execution_count": null,
      "outputs": []
    },
    {
      "cell_type": "code",
      "metadata": {
        "cell_id": "7c959ef43f454036824ffeb5854a8d51",
        "tags": [],
        "deepnote_to_be_reexecuted": false,
        "source_hash": "5c464da8",
        "execution_start": 1657467508861,
        "execution_millis": 941,
        "deepnote_cell_type": "code",
        "deepnote_cell_height": 652.3125,
        "deepnote_output_heights": [
          null,
          280,
          21.1875
        ],
        "id": "dtR3bm219TAn",
        "outputId": "d632f860-1e78-400a-fdd4-de925d218eff"
      },
      "source": [
        "#Mencari nilai optimal k menggunakan elbow method\n",
        "km = KMeans()\n",
        "visualizer = KElbowVisualizer(km, k=(2,10))\n",
        "visualizer.fit(df_scalled[['Confirmed','Deaths', 'Recovered']])\n",
        "visualizer.show() "
      ],
      "execution_count": null,
      "outputs": [
        {
          "name": "stderr",
          "text": "findfont: Font family ['sans-serif'] not found. Falling back to DejaVu Sans.\nfindfont: Generic family 'sans-serif' not found because none of the following families were found: Arial, Liberation Sans, Bitstream Vera Sans, sans-serif\nfindfont: Font family ['sans-serif'] not found. Falling back to DejaVu Sans.\nfindfont: Generic family 'sans-serif' not found because none of the following families were found: Arial, Liberation Sans, Bitstream Vera Sans, sans-serif\nfindfont: Font family ['sans-serif'] not found. Falling back to DejaVu Sans.\nfindfont: Generic family 'sans-serif' not found because none of the following families were found: Arial, Liberation Sans, Bitstream Vera Sans, sans-serif\n",
          "output_type": "stream"
        },
        {
          "data": {
            "text/plain": "<Figure size 432x288 with 2 Axes>",
            "image/png": "[encoded data removed]"
          },
          "metadata": {
            "image/png": {
              "width": 429,
              "height": 278
            }
          },
          "output_type": "display_data"
        },
        {
          "output_type": "execute_result",
          "execution_count": 19,
          "data": {
            "text/plain": "<AxesSubplot:title={'center':'Distortion Score Elbow for KMeans Clustering'}, xlabel='k', ylabel='distortion score'>"
          },
          "metadata": {}
        }
      ]
    },
    {
      "cell_type": "code",
      "metadata": {
        "cell_id": "09c0444860fa4d178dd460903426fbe4",
        "tags": [],
        "deepnote_to_be_reexecuted": false,
        "source_hash": "5baffa8b",
        "execution_start": 1657467509818,
        "execution_millis": 917,
        "deepnote_cell_type": "code",
        "deepnote_cell_height": 1250.1875,
        "deepnote_output_heights": [
          null,
          280
        ],
        "id": "PRYawHO19TAo",
        "outputId": "a8938009-9739-4a62-bd68-6db2396e3e11"
      },
      "source": [
        "#Melihat nilai inersia untuk setiap nilai k\n",
        "inertia = []\n",
        "k_rng = range(2,10)\n",
        "for k in k_rng:\n",
        "    km = KMeans(n_clusters=k)\n",
        "    km.fit(df_scalled[['Confirmed','Deaths', 'Recovered']])\n",
        "    inertia.append(km.inertia_)\n",
        "    print(\"Untuk {} clusters, nilai inersia = {}\".format(k, km.inertia_))\n",
        "\n",
        "print(\"========================================\")\n",
        "\n",
        "#Melihat silhoutte score untuk setiap nilai k\n",
        "from sklearn.metrics import silhouette_samples, silhouette_score\n",
        "sh_list_mea = []\n",
        "k_rng = range(2,10)\n",
        "for num_clusters in k_rng:\n",
        "    kmeans = KMeans(n_clusters=num_clusters)\n",
        "    cluster_labels = kmeans.fit_predict(df_scalled[['Confirmed','Deaths', 'Recovered']].values)\n",
        "   \n",
        "    score = silhouette_score(df_scalled[['Confirmed','Deaths', 'Recovered']].values, cluster_labels)\n",
        "    sh_list_mea.append(score)\n",
        "    print(\"Untuk {} clusters, silhouette score = {}\".format(num_clusters, score))\n",
        "    \n",
        "plt.title(\"Inersia dan silhoutte score untuk setiap nilai K\")\n",
        "plt.xlabel('K')\n",
        "plt.ylabel('Inersia (Merah) & Silhoutte Score (Biru)')\n",
        "plt.plot(k_rng,inertia, color = 'r', linestyle = 'dashed')\n",
        "plt.plot(k_rng,sh_list_mea, color = 'b')\n",
        "plt.show()"
      ],
      "execution_count": null,
      "outputs": [
        {
          "name": "stdout",
          "text": "Untuk 2 clusters, nilai inersia = 1.5479504341649062\nUntuk 3 clusters, nilai inersia = 0.8371546163126469\nUntuk 4 clusters, nilai inersia = 0.2976887477409753\nUntuk 5 clusters, nilai inersia = 0.2160265676659727\nUntuk 6 clusters, nilai inersia = 0.16334445910562562\nUntuk 7 clusters, nilai inersia = 0.1122316121361511\nUntuk 8 clusters, nilai inersia = 0.08289919095259357\nUntuk 9 clusters, nilai inersia = 0.05628908549352432\n========================================\nUntuk 2 clusters, silhouette score = 0.9561283458663334\nUntuk 3 clusters, silhouette score = 0.9542139646510039\nUntuk 4 clusters, silhouette score = 0.8738259082028882\nUntuk 5 clusters, silhouette score = 0.864700624504498\nUntuk 6 clusters, silhouette score = 0.8507209459428079\nUntuk 7 clusters, silhouette score = 0.785931121860914\nUntuk 8 clusters, silhouette score = 0.7594369782927054\nUntuk 9 clusters, silhouette score = 0.7590008140687879\n",
          "output_type": "stream"
        },
        {
          "data": {
            "text/plain": "<Figure size 432x288 with 1 Axes>",
            "image/png": "[encoded data removed]"
          },
          "metadata": {
            "needs_background": "light",
            "image/png": {
              "width": 386,
              "height": 278
            }
          },
          "output_type": "display_data"
        }
      ]
    },
    {
      "cell_type": "markdown",
      "source": [
        "##### Jadi, berdasarkan elbow method, kami memilih nilai 4 untuk jumlah cluster dengan silhoutte score = 0.8738259082028882 "
      ],
      "metadata": {
        "cell_id": "39c35b61e1614f75b3365a0a5609ddcf",
        "tags": [],
        "deepnote_cell_type": "markdown",
        "deepnote_cell_height": 78,
        "id": "MbTwprLu9TAp"
      }
    },
    {
      "cell_type": "code",
      "metadata": {
        "cell_id": "41889ae31ce34716b33240131f8b172e",
        "tags": [],
        "deepnote_to_be_reexecuted": false,
        "source_hash": "41af6b4d",
        "execution_start": 1657467510784,
        "execution_millis": 7,
        "deepnote_cell_type": "code",
        "deepnote_cell_height": 400.0625,
        "deepnote_output_heights": [
          213.0625
        ],
        "id": "cH7fQZwL9TAq",
        "outputId": "1493ade8-e834-458b-a8ac-0454fd0d836b"
      },
      "source": [
        "#Membuat model untuk prediksi cluster dan array untuk menyimpan prediksi cluster untuk setiap negara\n",
        "km = KMeans(n_clusters=4, random_state = 42)\n",
        "y_predicted = km.fit_predict(df_scalled[['Confirmed','Deaths', 'Recovered']])\n",
        "#Menambahkan angka 1 pada masing-masing nilai cluster, karena cluster dimulai dari angka 0\n",
        "y_predicted = y_predicted + 1\n",
        "y_predicted"
      ],
      "execution_count": null,
      "outputs": [
        {
          "output_type": "execute_result",
          "execution_count": 21,
          "data": {
            "text/plain": "array([2, 2, 2, 2, 2, 2, 2, 2, 1, 2, 2, 2, 2, 2, 2, 2, 2, 2, 2, 2, 2, 2,\n       2, 2, 2, 2, 2, 3, 2, 2, 2, 2, 2, 2, 2, 2, 2, 2, 2, 2, 2, 2, 2, 2,\n       1, 2, 2, 2, 2, 2, 2, 2, 2, 2, 2, 2, 2, 2, 2, 2, 2, 2, 2, 2, 2, 2,\n       2, 2, 2, 2, 2, 1, 2, 2, 2, 2, 2, 1, 2, 2, 2, 2, 2, 2, 2, 2, 2, 2,\n       2, 2, 2, 2, 2, 2, 2, 2, 3, 2, 1, 2, 2, 2, 1, 2, 2, 2, 2, 2, 2, 2,\n       2, 2, 2, 2, 2, 2, 2, 2, 2, 2, 2, 2, 2, 2, 2, 2, 2, 2, 2, 2, 2, 2,\n       2, 2, 2, 2, 2, 1, 2, 2, 2, 2, 2, 2, 2, 2, 2, 2, 2, 2, 2, 2, 2, 2,\n       2, 2, 2, 2, 2, 2, 2, 2, 1, 2, 1, 2, 2, 2, 2, 2, 2, 2, 1, 2, 2, 2,\n       2, 2, 2, 2, 2, 2, 2, 2, 2, 2, 2, 2, 2, 2, 2, 1, 2, 2, 1, 2, 2, 2,\n       2, 2, 2, 2, 2, 2, 2, 2, 2, 2, 2, 2, 2, 2, 1, 1, 4, 2, 2, 2, 2, 2,\n       2, 2, 2, 2, 2, 2, 2, 2, 2], dtype=int32)"
          },
          "metadata": {}
        }
      ]
    },
    {
      "cell_type": "code",
      "metadata": {
        "cell_id": "49a1385d75cf4dcea4cc6da6240eb1a5",
        "tags": [],
        "deepnote_to_be_reexecuted": false,
        "source_hash": "94d4bc79",
        "execution_start": 1657467510785,
        "execution_millis": 45,
        "deepnote_cell_type": "code",
        "deepnote_cell_height": 485,
        "id": "Ey9bwjkl9TAr",
        "outputId": "e161cafb-f2dc-430a-a90e-999c0ab1ec9b"
      },
      "source": [
        "#Menambahkan kolom 'Cluster' pada dataframe df dari nilai cluster hasil prediksi\n",
        "df_kmeans = df.copy()\n",
        "df_kmeans['Cluster']=y_predicted\n",
        "#Mengubah tipe data kolom Cluster menjadi object\n",
        "df_kmeans['Cluster'] = df_kmeans['Cluster'].astype('str')\n",
        "df_kmeans.head()"
      ],
      "execution_count": null,
      "outputs": [
        {
          "output_type": "execute_result",
          "execution_count": 22,
          "data": {
            "application/vnd.deepnote.dataframe.v3+json": {
              "column_count": 5,
              "row_count": 5,
              "columns": [
                {
                  "name": "Country/Region",
                  "dtype": "object",
                  "stats": {
                    "unique_count": 5,
                    "nan_count": 0,
                    "categories": [
                      {
                        "name": " Azerbaijan",
                        "count": 1
                      },
                      {
                        "name": "('St. Martin',)",
                        "count": 1
                      },
                      {
                        "name": "3 others",
                        "count": 3
                      }
                    ]
                  }
                },
                {
                  "name": "Confirmed",
                  "dtype": "float64",
                  "stats": {
                    "unique_count": 5,
                    "nan_count": 0,
                    "min": "1.0",
                    "max": "27684358.0",
                    "histogram": [
                      {
                        "bin_start": 1,
                        "bin_end": 2768436.7,
                        "count": 2
                      },
                      {
                        "bin_start": 2768436.7,
                        "bin_end": 5536872.4,
                        "count": 0
                      },
                      {
                        "bin_start": 5536872.4,
                        "bin_end": 8305308.100000001,
                        "count": 0
                      },
                      {
                        "bin_start": 8305308.100000001,
                        "bin_end": 11073743.8,
                        "count": 0
                      },
                      {
                        "bin_start": 11073743.8,
                        "bin_end": 13842179.5,
                        "count": 0
                      },
                      {
                        "bin_start": 13842179.5,
                        "bin_end": 16610615.200000001,
                        "count": 0
                      },
                      {
                        "bin_start": 16610615.200000001,
                        "bin_end": 19379050.900000002,
                        "count": 1
                      },
                      {
                        "bin_start": 19379050.900000002,
                        "bin_end": 22147486.6,
                        "count": 1
                      },
                      {
                        "bin_start": 22147486.6,
                        "bin_end": 24915922.3,
                        "count": 0
                      },
                      {
                        "bin_start": 24915922.3,
                        "bin_end": 27684358,
                        "count": 1
                      }
                    ]
                  }
                },
                {
                  "name": "Deaths",
                  "dtype": "float64",
                  "stats": {
                    "unique_count": 4,
                    "nan_count": 0,
                    "min": "0.0",
                    "max": "834464.0",
                    "histogram": [
                      {
                        "bin_start": 0,
                        "bin_end": 83446.4,
                        "count": 2
                      },
                      {
                        "bin_start": 83446.4,
                        "bin_end": 166892.8,
                        "count": 0
                      },
                      {
                        "bin_start": 166892.8,
                        "bin_end": 250339.19999999998,
                        "count": 0
                      },
                      {
                        "bin_start": 250339.19999999998,
                        "bin_end": 333785.6,
                        "count": 0
                      },
                      {
                        "bin_start": 333785.6,
                        "bin_end": 417232,
                        "count": 1
                      },
                      {
                        "bin_start": 417232,
                        "bin_end": 500678.39999999997,
                        "count": 0
                      },
                      {
                        "bin_start": 500678.39999999997,
                        "bin_end": 584124.7999999999,
                        "count": 0
                      },
                      {
                        "bin_start": 584124.7999999999,
                        "bin_end": 667571.2,
                        "count": 0
                      },
                      {
                        "bin_start": 667571.2,
                        "bin_end": 751017.6,
                        "count": 1
                      },
                      {
                        "bin_start": 751017.6,
                        "bin_end": 834464,
                        "count": 1
                      }
                    ]
                  }
                },
                {
                  "name": "Recovered",
                  "dtype": "float64",
                  "stats": {
                    "unique_count": 4,
                    "nan_count": 0,
                    "min": "0.0",
                    "max": "18959299.0",
                    "histogram": [
                      {
                        "bin_start": 0,
                        "bin_end": 1895929.9,
                        "count": 2
                      },
                      {
                        "bin_start": 1895929.9,
                        "bin_end": 3791859.8,
                        "count": 0
                      },
                      {
                        "bin_start": 3791859.8,
                        "bin_end": 5687789.699999999,
                        "count": 0
                      },
                      {
                        "bin_start": 5687789.699999999,
                        "bin_end": 7583719.6,
                        "count": 0
                      },
                      {
                        "bin_start": 7583719.6,
                        "bin_end": 9479649.5,
                        "count": 0
                      },
                      {
                        "bin_start": 9479649.5,
                        "bin_end": 11375579.399999999,
                        "count": 0
                      },
                      {
                        "bin_start": 11375579.399999999,
                        "bin_end": 13271509.299999999,
                        "count": 0
                      },
                      {
                        "bin_start": 13271509.299999999,
                        "bin_end": 15167439.2,
                        "count": 2
                      },
                      {
                        "bin_start": 15167439.2,
                        "bin_end": 17063369.099999998,
                        "count": 0
                      },
                      {
                        "bin_start": 17063369.099999998,
                        "bin_end": 18959299,
                        "count": 1
                      }
                    ]
                  }
                },
                {
                  "name": "Cluster",
                  "dtype": "object",
                  "stats": {
                    "unique_count": 1,
                    "nan_count": 0,
                    "categories": [
                      {
                        "name": "2",
                        "count": 5
                      }
                    ]
                  }
                },
                {
                  "name": "_deepnote_index_column",
                  "dtype": "int64"
                }
              ],
              "rows": [
                {
                  "Country/Region": " Azerbaijan",
                  "Confirmed": 1,
                  "Deaths": 0,
                  "Recovered": 0,
                  "Cluster": "2",
                  "_deepnote_index_column": 0
                },
                {
                  "Country/Region": "('St. Martin',)",
                  "Confirmed": 2,
                  "Deaths": 0,
                  "Recovered": 0,
                  "Cluster": "2",
                  "_deepnote_index_column": 1
                },
                {
                  "Country/Region": "Afghanistan",
                  "Confirmed": 17026442,
                  "Deaths": 669075,
                  "Recovered": 13464399,
                  "Cluster": "2",
                  "_deepnote_index_column": 2
                },
                {
                  "Country/Region": "Albania",
                  "Confirmed": 19768869,
                  "Deaths": 375955,
                  "Recovered": 13945256,
                  "Cluster": "2",
                  "_deepnote_index_column": 3
                },
                {
                  "Country/Region": "Algeria",
                  "Confirmed": 27684358,
                  "Deaths": 834464,
                  "Recovered": 18959299,
                  "Cluster": "2",
                  "_deepnote_index_column": 4
                }
              ]
            },
            "text/plain": "    Country/Region   Confirmed    Deaths   Recovered Cluster\n0       Azerbaijan         1.0       0.0         0.0       2\n1  ('St. Martin',)         2.0       0.0         0.0       2\n2      Afghanistan  17026442.0  669075.0  13464399.0       2\n3          Albania  19768869.0  375955.0  13945256.0       2\n4          Algeria  27684358.0  834464.0  18959299.0       2",
            "text/html": "<div>\n<style scoped>\n    .dataframe tbody tr th:only-of-type {\n        vertical-align: middle;\n    }\n\n    .dataframe tbody tr th {\n        vertical-align: top;\n    }\n\n    .dataframe thead th {\n        text-align: right;\n    }\n</style>\n<table border=\"1\" class=\"dataframe\">\n  <thead>\n    <tr style=\"text-align: right;\">\n      <th></th>\n      <th>Country/Region</th>\n      <th>Confirmed</th>\n      <th>Deaths</th>\n      <th>Recovered</th>\n      <th>Cluster</th>\n    </tr>\n  </thead>\n  <tbody>\n    <tr>\n      <th>0</th>\n      <td>Azerbaijan</td>\n      <td>1.0</td>\n      <td>0.0</td>\n      <td>0.0</td>\n      <td>2</td>\n    </tr>\n    <tr>\n      <th>1</th>\n      <td>('St. Martin',)</td>\n      <td>2.0</td>\n      <td>0.0</td>\n      <td>0.0</td>\n      <td>2</td>\n    </tr>\n    <tr>\n      <th>2</th>\n      <td>Afghanistan</td>\n      <td>17026442.0</td>\n      <td>669075.0</td>\n      <td>13464399.0</td>\n      <td>2</td>\n    </tr>\n    <tr>\n      <th>3</th>\n      <td>Albania</td>\n      <td>19768869.0</td>\n      <td>375955.0</td>\n      <td>13945256.0</td>\n      <td>2</td>\n    </tr>\n    <tr>\n      <th>4</th>\n      <td>Algeria</td>\n      <td>27684358.0</td>\n      <td>834464.0</td>\n      <td>18959299.0</td>\n      <td>2</td>\n    </tr>\n  </tbody>\n</table>\n</div>"
          },
          "metadata": {}
        }
      ]
    },
    {
      "cell_type": "code",
      "metadata": {
        "cell_id": "23c43e7fa57e4ed7bf2821abe0be5a82",
        "tags": [],
        "deepnote_to_be_reexecuted": false,
        "source_hash": "f4f233d5",
        "execution_start": 1657467510829,
        "execution_millis": 1834,
        "deepnote_cell_type": "code",
        "deepnote_cell_height": 696,
        "deepnote_output_heights": [
          527
        ],
        "id": "TXUdpSZN9TAs",
        "outputId": "59cb1ea5-40bc-4be6-824f-627f498f29e3"
      },
      "source": [
        "#Memvisualisasikan hasil clustrering\n",
        "import plotly.express as px\n",
        "fig = px.scatter_3d(df_kmeans, x='Confirmed', y='Deaths', z='Recovered', color='Cluster')\n",
        "\n",
        "fig.show()"
      ],
      "execution_count": null,
      "outputs": [
        {
          "data": {
            "text/html": "<html>\n<head><meta charset=\"utf-8\" /></head>\n<body>\n    <div>            <script src=\"https://cdnjs.cloudflare.com/ajax/libs/mathjax/2.7.5/MathJax.js?config=TeX-AMS-MML_SVG\"></script><script type=\"text/javascript\">if (window.MathJax && window.MathJax.Hub && && window.MathJax.Hub.Config) {window.MathJax.Hub.Config({SVG: {font: \"STIX-Web\"}});}</script>                <script type=\"text/javascript\">window.PlotlyConfig = {MathJaxConfig: 'local'};</script>\n        <script src=\"https://cdn.plot.ly/plotly-2.12.1.min.js\"></script>                <div id=\"217181be-3fd7-46d5-b497-4fb4d5e38c34\" class=\"plotly-graph-div\" style=\"height:525px; width:100%;\"></div>            <script type=\"text/javascript\">                                    window.PLOTLYENV=window.PLOTLYENV || {};                                    if (document.getElementById(\"217181be-3fd7-46d5-b497-4fb4d5e38c34\")) {                    Plotly.newPlot(                        \"217181be-3fd7-46d5-b497-4fb4d5e38c34\",                        [{\"hovertemplate\":\"Cluster=2<br>Confirmed=%{x}<br>Deaths=%{y}<br>Recovered=%{z}<extra></extra>\",\"legendgroup\":\"2\",\"marker\":{\"color\":\"#636efa\",\"symbol\":\"circle\"},\"mode\":\"markers\",\"name\":\"2\",\"scene\":\"scene\",\"showlegend\":true,\"x\":[1.0,2.0,17026442.0,19768869.0,27684358.0,2379802.0,4764863.0,143868.0,42536277.0,19.0,9447438.0,97965875.0,52366764.0,2139331.0,10.0,33934748.0,161494811.0,474762.0,65435028.0,179009886.0,2399352.0,1365462.0,196080.0,61346449.0,31257028.0,6063426.0,71229.0,56530042.0,2249316.0,27717649.0,492722.0,3941085.0,955901.0,11346589.0,193497537.0,1.0,3.0,1776825.0,883727.0,1.0,232444395.0,0.0,579705.0,2286750.0,6148539.0,47395838.0,50531146.0,11110101.0,2.0,7736086.0,237860726.0,42700338.0,306872.0,2387030.0,31141.0,57000335.0,1.0,74790536.0,50168167.0,14619435.0,1919781.0,522945.0,13834670.0,3401276.0,41388062.0,10.0,20720.0,13103437.0,117.0,4237601.0,1250677.0,4.0,51183744.0,20784664.0,7.0,44502618.0,3.0,30738.0,187.0,6.0,44774712.0,3.0,4860849.0,973695.0,2068280.0,3532804.0,8448.0,41138599.0,2655935.0,98903229.0,1729527.0,265186050.0,187310643.0,42974124.0,153263218.0,9253034.0,5774810.0,89378076.0,6.0,90344299.0,70060029.0,27728648.0,21.0,15865976.0,53341259.0,22692500.0,58871.0,15266130.0,71885997.0,1705201.0,576370.0,29458062.0,500670.0,36339959.0,12154223.0,3824.0,20605.0,6579780.0,40822596.0,5235180.0,53546912.0,5502303.0,2273550.0,4556210.0,804.0,172.0,4104867.0,235313.0,21.0,129.0,42907803.0,364464.0,2388966.0,14990089.0,104557135.0,9979000.0,7912632.0,67252242.0,234955991.0,836280.0,1929682.0,1047041.0,33407947.0,1.0,23650041.0,17283377.0,42831069.0,26228.0,165572396.0,86.0,73445278.0,886555.0,38225829.0,164420468.0,141962632.0,3.0,52791589.0,21.0,1.0,137.0,173082798.0,3770080.0,17.0,11211.0,502993.0,229517.0,481.0,851906.0,470914.0,123111168.0,7893507.0,95624419.0,608196.0,1008350.0,21476559.0,55789871.0,35538663.0,3818.0,2211790.0,20814483.0,1748600.0,15676007.0,2.0,7632455.0,2148896.0,142264880.0,115902800.0,3494790.0,339919.0,3988242.0,205081.0,7139288.0,3.0,1.0,183796.0,1691382.0,2119871.0,44779270.0,8016407.0,310910152.0,83739255.0,17112011.0,22207571.0,406.0,4.0,35958070.0,615984.0,41819444.0,962066.0,13493953.0,6484581.0,25.0],\"y\":[0.0,0.0,669075.0,375955.0,834464.0,32100.0,116489.0,4059.0,770759.0,0.0,268435.0,1678309.0,705690.0,45743.0,0.0,124266.0,2369239.0,6612.0,488800.0,6292525.0,57538.0,19040.0,142.0,2989039.0,1191149.0,67635.0,1144.0,2186376.0,36179.0,617121.0,898.0,37708.0,5679.0,197906.0,5692896.0,0.0,0.0,22498.0,41453.0,0.0,5717374.0,0.0,19520.0,36012.0,164914.0,610944.0,1040275.0,89540.0,0.0,44993.0,3989185.0,515141.0,5553.0,25809.0,0.0,844835.0,0.0,4540233.0,2827664.0,433540.0,29917.0,1283.0,134847.0,106910.0,618948.0,0.0,620.0,205968.0,0.0,26593.0,39065.0,0.0,632004.0,145640.0,0.0,1378999.0,0.0,147.0,0.0,0.0,1566630.0,0.0,29574.0,15711.0,51147.0,78232.0,0.0,1078972.0,45325.0,3300223.0,7995.0,7770329.0,3732114.0,1080846.0,1174438.0,56433.0,105668.0,1580914.0,0.0,1106493.0,812718.0,482736.0,0.0,384014.0,318742.0,429334.0,39.0,273351.0,861457.0,44254.0,28789.0,471207.0,9258.0,555811.0,145701.0,848.0,0.0,101022.0,2089872.0,167294.0,230112.0,16529.0,89260.0,62543.0,0.0,6.0,99865.0,4557.0,0.0,0.0,973416.0,4305.0,7481.0,216269.0,1823724.0,105149.0,90591.0,580092.0,4168395.0,9810.0,54413.0,43109.0,490170.0,0.0,747709.0,168543.0,432957.0,189.0,3537569.0,0.0,1308362.0,8855.0,819375.0,3089116.0,2836421.0,0.0,90600.0,0.0,0.0,0.0,4626607.0,44760.0,0.0,0.0,6864.0,1096.0,0.0,23658.0,7605.0,1861008.0,187805.0,958289.0,2485.0,27247.0,11233.0,1282065.0,691543.0,0.0,85048.0,346001.0,24580.0,91579.0,0.0,488709.0,42262.0,3336122.0,2188496.0,223163.0,3687.0,29478.0,8411.0,42897.0,0.0,0.0,299.0,23450.0,38297.0,1502918.0,66045.0,6228387.0,288328.0,212611.0,170013.0,39.0,0.0,346781.0,10220.0,440378.0,237613.0,205990.0,237234.0,0.0],\"z\":[0.0,0.0,13464399.0,13945256.0,18959299.0,2162473.0,3683041.0,109958.0,37101575.0,0.0,7219933.0,89050545.0,46657708.0,1701658.0,0.0,31578826.0,132982094.0,421968.0,60474253.0,3797948.0,2089375.0,1186843.0,172396.0,45815929.0,23678612.0,5129818.0,65938.0,42095369.0,2032150.0,24059469.0,197308.0,3578423.0,538696.0,8533833.0,171576903.0,0.0,0.0,1070060.0,771319.0,0.0,217049223.0,0.0,521329.0,1677347.0,4960011.0,35964758.0,46987667.0,10175271.0,0.0,2496884.0,207895782.0,38547273.0,288580.0,2221218.0,28136.0,44403877.0,0.0,61356715.0,37388048.0,12722159.0,1644740.0,441448.0,11233184.0,2911827.0,30828666.0,0.0,16203.0,8547672.0,6.0,3635152.0,1050538.0,0.0,47693545.0,19586296.0,1.0,17641389.0,0.0,28303.0,0.0,0.0,39656512.0,0.0,4328936.0,714095.0,1745409.0,2733639.0,5233.0,15438654.0,2433578.0,62184810.0,1621682.0,226416174.0,165060721.0,9146914.0,142019996.0,8545330.0,3070508.0,78335782.0,0.0,79442415.0,60318414.0,19978029.0,0.0,13245728.0,49334878.0,20674921.0,27424.0,12799235.0,54968036.0,750919.0,481826.0,23919352.0,462202.0,30854260.0,10832524.0,1246.0,19130.0,6002237.0,36897441.0,3997113.0,47415431.0,4491720.0,1556619.0,4051475.0,732.0,0.0,3687858.0,202853.0,0.0,121.0,37917941.0,326978.0,1707503.0,13019017.0,97152598.0,8109257.0,7142217.0,59837224.0,3301052.0,783265.0,1284912.0,892393.0,28514090.0,0.0,19378833.0,5214261.0,38412529.0,5003.0,146019913.0,0.0,64769509.0,576956.0,30225760.0,142849090.0,120619045.0,0.0,49060093.0,0.0,0.0,0.0,151707879.0,3234767.0,0.0,10218.0,450051.0,174369.0,360.0,741010.0,406519.0,114581500.0,6913315.0,733305.0,507887.0,722960.0,20135657.0,39769995.0,31296693.0,2573.0,1217171.0,18083341.0,1331152.0,13707143.0,0.0,4945338.0,1943058.0,160063.0,67989183.0,2126985.0,262601.0,3706798.0,72727.0,4109064.0,0.0,0.0,99109.0,1395355.0,1713975.0,35481322.0,4802094.0,234410665.0,77929785.0,14253442.0,21035683.0,252.0,0.0,32755750.0,486370.0,37003116.0,506523.0,12625626.0,5594887.0,0.0],\"type\":\"scatter3d\"},{\"hovertemplate\":\"Cluster=1<br>Confirmed=%{x}<br>Deaths=%{y}<br>Recovered=%{z}<extra></extra>\",\"legendgroup\":\"1\",\"marker\":{\"color\":\"#EF553B\",\"symbol\":\"circle\"},\"mode\":\"markers\",\"name\":\"1\",\"scene\":\"scene\",\"showlegend\":true,\"x\":[504802880.0,515307146.0,855188962.0,524166833.0,400909778.0,636694305.0,460463678.0,361150607.0,380680836.0,930548849.0,345940039.0,649111763.0,618940956.0,783794384.0],\"y\":[12112441.0,13981703.0,22720818.0,13364216.0,15744407.0,26000702.0,43005509.0,13194771.0,8951676.0,18363719.0,10250036.0,19065104.0,6841158.0,29171984.0],\"z\":[438750295.0,468747010.0,69407433.0,453383253.0,326813025.0,487799849.0,361780181.0,323672775.0,309835430.0,790705716.0,310037579.0,61193618.0,564170558.0,2327572.0],\"type\":\"scatter3d\"},{\"hovertemplate\":\"Cluster=3<br>Confirmed=%{x}<br>Deaths=%{y}<br>Recovered=%{z}<extra></extra>\",\"legendgroup\":\"3\",\"marker\":{\"color\":\"#00cc96\",\"symbol\":\"circle\"},\"mode\":\"markers\",\"name\":\"3\",\"scene\":\"scene\",\"showlegend\":true,\"x\":[2653587540.0,3226768088.0],\"y\":[72624610.0,44424723.0],\"z\":[2313677028.0,2900589824.0],\"type\":\"scatter3d\"},{\"hovertemplate\":\"Cluster=4<br>Confirmed=%{x}<br>Deaths=%{y}<br>Recovered=%{z}<extra></extra>\",\"legendgroup\":\"4\",\"marker\":{\"color\":\"#ab63fa\",\"symbol\":\"circle\"},\"mode\":\"markers\",\"name\":\"4\",\"scene\":\"scene\",\"showlegend\":true,\"x\":[6049145667.0],\"y\":[123303762.0],\"z\":[503370956.0],\"type\":\"scatter3d\"}],                        {\"template\":{\"data\":{\"histogram2dcontour\":[{\"type\":\"histogram2dcontour\",\"colorbar\":{\"outlinewidth\":0,\"ticks\":\"\"},\"colorscale\":[[0.0,\"#0d0887\"],[0.1111111111111111,\"#46039f\"],[0.2222222222222222,\"#7201a8\"],[0.3333333333333333,\"#9c179e\"],[0.4444444444444444,\"#bd3786\"],[0.5555555555555556,\"#d8576b\"],[0.6666666666666666,\"#ed7953\"],[0.7777777777777778,\"#fb9f3a\"],[0.8888888888888888,\"#fdca26\"],[1.0,\"#f0f921\"]]}],\"choropleth\":[{\"type\":\"choropleth\",\"colorbar\":{\"outlinewidth\":0,\"ticks\":\"\"}}],\"histogram2d\":[{\"type\":\"histogram2d\",\"colorbar\":{\"outlinewidth\":0,\"ticks\":\"\"},\"colorscale\":[[0.0,\"#0d0887\"],[0.1111111111111111,\"#46039f\"],[0.2222222222222222,\"#7201a8\"],[0.3333333333333333,\"#9c179e\"],[0.4444444444444444,\"#bd3786\"],[0.5555555555555556,\"#d8576b\"],[0.6666666666666666,\"#ed7953\"],[0.7777777777777778,\"#fb9f3a\"],[0.8888888888888888,\"#fdca26\"],[1.0,\"#f0f921\"]]}],\"heatmap\":[{\"type\":\"heatmap\",\"colorbar\":{\"outlinewidth\":0,\"ticks\":\"\"},\"colorscale\":[[0.0,\"#0d0887\"],[0.1111111111111111,\"#46039f\"],[0.2222222222222222,\"#7201a8\"],[0.3333333333333333,\"#9c179e\"],[0.4444444444444444,\"#bd3786\"],[0.5555555555555556,\"#d8576b\"],[0.6666666666666666,\"#ed7953\"],[0.7777777777777778,\"#fb9f3a\"],[0.8888888888888888,\"#fdca26\"],[1.0,\"#f0f921\"]]}],\"heatmapgl\":[{\"type\":\"heatmapgl\",\"colorbar\":{\"outlinewidth\":0,\"ticks\":\"\"},\"colorscale\":[[0.0,\"#0d0887\"],[0.1111111111111111,\"#46039f\"],[0.2222222222222222,\"#7201a8\"],[0.3333333333333333,\"#9c179e\"],[0.4444444444444444,\"#bd3786\"],[0.5555555555555556,\"#d8576b\"],[0.6666666666666666,\"#ed7953\"],[0.7777777777777778,\"#fb9f3a\"],[0.8888888888888888,\"#fdca26\"],[1.0,\"#f0f921\"]]}],\"contourcarpet\":[{\"type\":\"contourcarpet\",\"colorbar\":{\"outlinewidth\":0,\"ticks\":\"\"}}],\"contour\":[{\"type\":\"contour\",\"colorbar\":{\"outlinewidth\":0,\"ticks\":\"\"},\"colorscale\":[[0.0,\"#0d0887\"],[0.1111111111111111,\"#46039f\"],[0.2222222222222222,\"#7201a8\"],[0.3333333333333333,\"#9c179e\"],[0.4444444444444444,\"#bd3786\"],[0.5555555555555556,\"#d8576b\"],[0.6666666666666666,\"#ed7953\"],[0.7777777777777778,\"#fb9f3a\"],[0.8888888888888888,\"#fdca26\"],[1.0,\"#f0f921\"]]}],\"surface\":[{\"type\":\"surface\",\"colorbar\":{\"outlinewidth\":0,\"ticks\":\"\"},\"colorscale\":[[0.0,\"#0d0887\"],[0.1111111111111111,\"#46039f\"],[0.2222222222222222,\"#7201a8\"],[0.3333333333333333,\"#9c179e\"],[0.4444444444444444,\"#bd3786\"],[0.5555555555555556,\"#d8576b\"],[0.6666666666666666,\"#ed7953\"],[0.7777777777777778,\"#fb9f3a\"],[0.8888888888888888,\"#fdca26\"],[1.0,\"#f0f921\"]]}],\"mesh3d\":[{\"type\":\"mesh3d\",\"colorbar\":{\"outlinewidth\":0,\"ticks\":\"\"}}],\"scatter\":[{\"fillpattern\":{\"fillmode\":\"overlay\",\"size\":10,\"solidity\":0.2},\"type\":\"scatter\"}],\"parcoords\":[{\"type\":\"parcoords\",\"line\":{\"colorbar\":{\"outlinewidth\":0,\"ticks\":\"\"}}}],\"scatterpolargl\":[{\"type\":\"scatterpolargl\",\"marker\":{\"colorbar\":{\"outlinewidth\":0,\"ticks\":\"\"}}}],\"bar\":[{\"error_x\":{\"color\":\"#2a3f5f\"},\"error_y\":{\"color\":\"#2a3f5f\"},\"marker\":{\"line\":{\"color\":\"#E5ECF6\",\"width\":0.5},\"pattern\":{\"fillmode\":\"overlay\",\"size\":10,\"solidity\":0.2}},\"type\":\"bar\"}],\"scattergeo\":[{\"type\":\"scattergeo\",\"marker\":{\"colorbar\":{\"outlinewidth\":0,\"ticks\":\"\"}}}],\"scatterpolar\":[{\"type\":\"scatterpolar\",\"marker\":{\"colorbar\":{\"outlinewidth\":0,\"ticks\":\"\"}}}],\"histogram\":[{\"marker\":{\"pattern\":{\"fillmode\":\"overlay\",\"size\":10,\"solidity\":0.2}},\"type\":\"histogram\"}],\"scattergl\":[{\"type\":\"scattergl\",\"marker\":{\"colorbar\":{\"outlinewidth\":0,\"ticks\":\"\"}}}],\"scatter3d\":[{\"type\":\"scatter3d\",\"line\":{\"colorbar\":{\"outlinewidth\":0,\"ticks\":\"\"}},\"marker\":{\"colorbar\":{\"outlinewidth\":0,\"ticks\":\"\"}}}],\"scattermapbox\":[{\"type\":\"scattermapbox\",\"marker\":{\"colorbar\":{\"outlinewidth\":0,\"ticks\":\"\"}}}],\"scatterternary\":[{\"type\":\"scatterternary\",\"marker\":{\"colorbar\":{\"outlinewidth\":0,\"ticks\":\"\"}}}],\"scattercarpet\":[{\"type\":\"scattercarpet\",\"marker\":{\"colorbar\":{\"outlinewidth\":0,\"ticks\":\"\"}}}],\"carpet\":[{\"aaxis\":{\"endlinecolor\":\"#2a3f5f\",\"gridcolor\":\"white\",\"linecolor\":\"white\",\"minorgridcolor\":\"white\",\"startlinecolor\":\"#2a3f5f\"},\"baxis\":{\"endlinecolor\":\"#2a3f5f\",\"gridcolor\":\"white\",\"linecolor\":\"white\",\"minorgridcolor\":\"white\",\"startlinecolor\":\"#2a3f5f\"},\"type\":\"carpet\"}],\"table\":[{\"cells\":{\"fill\":{\"color\":\"#EBF0F8\"},\"line\":{\"color\":\"white\"}},\"header\":{\"fill\":{\"color\":\"#C8D4E3\"},\"line\":{\"color\":\"white\"}},\"type\":\"table\"}],\"barpolar\":[{\"marker\":{\"line\":{\"color\":\"#E5ECF6\",\"width\":0.5},\"pattern\":{\"fillmode\":\"overlay\",\"size\":10,\"solidity\":0.2}},\"type\":\"barpolar\"}],\"pie\":[{\"automargin\":true,\"type\":\"pie\"}]},\"layout\":{\"autotypenumbers\":\"strict\",\"colorway\":[\"#636efa\",\"#EF553B\",\"#00cc96\",\"#ab63fa\",\"#FFA15A\",\"#19d3f3\",\"#FF6692\",\"#B6E880\",\"#FF97FF\",\"#FECB52\"],\"font\":{\"color\":\"#2a3f5f\"},\"hovermode\":\"closest\",\"hoverlabel\":{\"align\":\"left\"},\"paper_bgcolor\":\"white\",\"plot_bgcolor\":\"#E5ECF6\",\"polar\":{\"bgcolor\":\"#E5ECF6\",\"angularaxis\":{\"gridcolor\":\"white\",\"linecolor\":\"white\",\"ticks\":\"\"},\"radialaxis\":{\"gridcolor\":\"white\",\"linecolor\":\"white\",\"ticks\":\"\"}},\"ternary\":{\"bgcolor\":\"#E5ECF6\",\"aaxis\":{\"gridcolor\":\"white\",\"linecolor\":\"white\",\"ticks\":\"\"},\"baxis\":{\"gridcolor\":\"white\",\"linecolor\":\"white\",\"ticks\":\"\"},\"caxis\":{\"gridcolor\":\"white\",\"linecolor\":\"white\",\"ticks\":\"\"}},\"coloraxis\":{\"colorbar\":{\"outlinewidth\":0,\"ticks\":\"\"}},\"colorscale\":{\"sequential\":[[0.0,\"#0d0887\"],[0.1111111111111111,\"#46039f\"],[0.2222222222222222,\"#7201a8\"],[0.3333333333333333,\"#9c179e\"],[0.4444444444444444,\"#bd3786\"],[0.5555555555555556,\"#d8576b\"],[0.6666666666666666,\"#ed7953\"],[0.7777777777777778,\"#fb9f3a\"],[0.8888888888888888,\"#fdca26\"],[1.0,\"#f0f921\"]],\"sequentialminus\":[[0.0,\"#0d0887\"],[0.1111111111111111,\"#46039f\"],[0.2222222222222222,\"#7201a8\"],[0.3333333333333333,\"#9c179e\"],[0.4444444444444444,\"#bd3786\"],[0.5555555555555556,\"#d8576b\"],[0.6666666666666666,\"#ed7953\"],[0.7777777777777778,\"#fb9f3a\"],[0.8888888888888888,\"#fdca26\"],[1.0,\"#f0f921\"]],\"diverging\":[[0,\"#8e0152\"],[0.1,\"#c51b7d\"],[0.2,\"#de77ae\"],[0.3,\"#f1b6da\"],[0.4,\"#fde0ef\"],[0.5,\"#f7f7f7\"],[0.6,\"#e6f5d0\"],[0.7,\"#b8e186\"],[0.8,\"#7fbc41\"],[0.9,\"#4d9221\"],[1,\"#276419\"]]},\"xaxis\":{\"gridcolor\":\"white\",\"linecolor\":\"white\",\"ticks\":\"\",\"title\":{\"standoff\":15},\"zerolinecolor\":\"white\",\"automargin\":true,\"zerolinewidth\":2},\"yaxis\":{\"gridcolor\":\"white\",\"linecolor\":\"white\",\"ticks\":\"\",\"title\":{\"standoff\":15},\"zerolinecolor\":\"white\",\"automargin\":true,\"zerolinewidth\":2},\"scene\":{\"xaxis\":{\"backgroundcolor\":\"#E5ECF6\",\"gridcolor\":\"white\",\"linecolor\":\"white\",\"showbackground\":true,\"ticks\":\"\",\"zerolinecolor\":\"white\",\"gridwidth\":2},\"yaxis\":{\"backgroundcolor\":\"#E5ECF6\",\"gridcolor\":\"white\",\"linecolor\":\"white\",\"showbackground\":true,\"ticks\":\"\",\"zerolinecolor\":\"white\",\"gridwidth\":2},\"zaxis\":{\"backgroundcolor\":\"#E5ECF6\",\"gridcolor\":\"white\",\"linecolor\":\"white\",\"showbackground\":true,\"ticks\":\"\",\"zerolinecolor\":\"white\",\"gridwidth\":2}},\"shapedefaults\":{\"line\":{\"color\":\"#2a3f5f\"}},\"annotationdefaults\":{\"arrowcolor\":\"#2a3f5f\",\"arrowhead\":0,\"arrowwidth\":1},\"geo\":{\"bgcolor\":\"white\",\"landcolor\":\"#E5ECF6\",\"subunitcolor\":\"white\",\"showland\":true,\"showlakes\":true,\"lakecolor\":\"white\"},\"title\":{\"x\":0.05},\"mapbox\":{\"style\":\"light\"}}},\"scene\":{\"domain\":{\"x\":[0.0,1.0],\"y\":[0.0,1.0]},\"xaxis\":{\"title\":{\"text\":\"Confirmed\"}},\"yaxis\":{\"title\":{\"text\":\"Deaths\"}},\"zaxis\":{\"title\":{\"text\":\"Recovered\"}}},\"legend\":{\"title\":{\"text\":\"Cluster\"},\"tracegroupgap\":0},\"margin\":{\"t\":60}},                        {\"responsive\": true}                    ).then(function(){\n                            \nvar gd = document.getElementById('217181be-3fd7-46d5-b497-4fb4d5e38c34');\nvar x = new MutationObserver(function (mutations, observer) {{\n        var display = window.getComputedStyle(gd).display;\n        if (!display || display === 'none') {{\n            console.log([gd, 'removed!']);\n            Plotly.purge(gd);\n            observer.disconnect();\n        }}\n}});\n\n// Listen for the removal of the full notebook cells\nvar notebookContainer = gd.closest('#notebook-container');\nif (notebookContainer) {{\n    x.observe(notebookContainer, {childList: true});\n}}\n\n// Listen for the clearing of the current output cell\nvar outputEl = gd.closest('.output');\nif (outputEl) {{\n    x.observe(outputEl, {childList: true});\n}}\n\n                        })                };                            </script>        </div>\n</body>\n</html>"
          },
          "metadata": {},
          "output_type": "display_data"
        }
      ]
    },
    {
      "cell_type": "code",
      "metadata": {
        "cell_id": "0e0db59cc57b45dc8b1b2495e1ebc1de",
        "tags": [],
        "deepnote_to_be_reexecuted": false,
        "source_hash": "7efce94f",
        "execution_start": 1657467512674,
        "execution_millis": 37,
        "deepnote_cell_type": "code",
        "deepnote_cell_height": 372,
        "id": "Ky2pbPvh9TAs",
        "outputId": "2839987c-4178-456c-a198-6b1cf6bbcc45"
      },
      "source": [
        "df_out_means = df_kmeans.groupby(by = 'Cluster').sum()[['Confirmed','Deaths', 'Recovered']].reset_index()\n",
        "df_out_means"
      ],
      "execution_count": null,
      "outputs": [
        {
          "output_type": "execute_result",
          "execution_count": 24,
          "data": {
            "application/vnd.deepnote.dataframe.v3+json": {
              "column_count": 4,
              "row_count": 4,
              "columns": [
                {
                  "name": "Cluster",
                  "dtype": "object",
                  "stats": {
                    "unique_count": 4,
                    "nan_count": 0,
                    "categories": [
                      {
                        "name": "1",
                        "count": 1
                      },
                      {
                        "name": "2",
                        "count": 1
                      },
                      {
                        "name": "2 others",
                        "count": 2
                      }
                    ]
                  }
                },
                {
                  "name": "Confirmed",
                  "dtype": "float64",
                  "stats": {
                    "unique_count": 4,
                    "nan_count": 0,
                    "min": "5880355628.0",
                    "max": "7967701016.0",
                    "histogram": [
                      {
                        "bin_start": 5880355628,
                        "bin_end": 6089090166.8,
                        "count": 2
                      },
                      {
                        "bin_start": 6089090166.8,
                        "bin_end": 6297824705.6,
                        "count": 0
                      },
                      {
                        "bin_start": 6297824705.6,
                        "bin_end": 6506559244.4,
                        "count": 1
                      },
                      {
                        "bin_start": 6506559244.4,
                        "bin_end": 6715293783.2,
                        "count": 0
                      },
                      {
                        "bin_start": 6715293783.2,
                        "bin_end": 6924028322,
                        "count": 0
                      },
                      {
                        "bin_start": 6924028322,
                        "bin_end": 7132762860.8,
                        "count": 0
                      },
                      {
                        "bin_start": 7132762860.8,
                        "bin_end": 7341497399.6,
                        "count": 0
                      },
                      {
                        "bin_start": 7341497399.6,
                        "bin_end": 7550231938.4,
                        "count": 0
                      },
                      {
                        "bin_start": 7550231938.4,
                        "bin_end": 7758966477.2,
                        "count": 0
                      },
                      {
                        "bin_start": 7758966477.2,
                        "bin_end": 7967701016,
                        "count": 1
                      }
                    ]
                  }
                },
                {
                  "name": "Deaths",
                  "dtype": "float64",
                  "stats": {
                    "unique_count": 4,
                    "nan_count": 0,
                    "min": "117049333.0",
                    "max": "252768244.0",
                    "histogram": [
                      {
                        "bin_start": 117049333,
                        "bin_end": 130621224.1,
                        "count": 2
                      },
                      {
                        "bin_start": 130621224.1,
                        "bin_end": 144193115.2,
                        "count": 1
                      },
                      {
                        "bin_start": 144193115.2,
                        "bin_end": 157765006.3,
                        "count": 0
                      },
                      {
                        "bin_start": 157765006.3,
                        "bin_end": 171336897.4,
                        "count": 0
                      },
                      {
                        "bin_start": 171336897.4,
                        "bin_end": 184908788.5,
                        "count": 0
                      },
                      {
                        "bin_start": 184908788.5,
                        "bin_end": 198480679.6,
                        "count": 0
                      },
                      {
                        "bin_start": 198480679.6,
                        "bin_end": 212052570.7,
                        "count": 0
                      },
                      {
                        "bin_start": 212052570.7,
                        "bin_end": 225624461.8,
                        "count": 0
                      },
                      {
                        "bin_start": 225624461.8,
                        "bin_end": 239196352.89999998,
                        "count": 0
                      },
                      {
                        "bin_start": 239196352.89999998,
                        "bin_end": 252768244,
                        "count": 1
                      }
                    ]
                  }
                },
                {
                  "name": "Recovered",
                  "dtype": "float64",
                  "stats": {
                    "unique_count": 4,
                    "nan_count": 0,
                    "min": "503370956.0",
                    "max": "5214266852.0",
                    "histogram": [
                      {
                        "bin_start": 503370956,
                        "bin_end": 974460545.6,
                        "count": 1
                      },
                      {
                        "bin_start": 974460545.6,
                        "bin_end": 1445550135.2,
                        "count": 0
                      },
                      {
                        "bin_start": 1445550135.2,
                        "bin_end": 1916639724.8000002,
                        "count": 0
                      },
                      {
                        "bin_start": 1916639724.8000002,
                        "bin_end": 2387729314.4,
                        "count": 0
                      },
                      {
                        "bin_start": 2387729314.4,
                        "bin_end": 2858818904,
                        "count": 0
                      },
                      {
                        "bin_start": 2858818904,
                        "bin_end": 3329908493.6000004,
                        "count": 0
                      },
                      {
                        "bin_start": 3329908493.6000004,
                        "bin_end": 3800998083.2000003,
                        "count": 0
                      },
                      {
                        "bin_start": 3800998083.2000003,
                        "bin_end": 4272087672.8,
                        "count": 0
                      },
                      {
                        "bin_start": 4272087672.8,
                        "bin_end": 4743177262.4,
                        "count": 0
                      },
                      {
                        "bin_start": 4743177262.4,
                        "bin_end": 5214266852,
                        "count": 3
                      }
                    ]
                  }
                },
                {
                  "name": "_deepnote_index_column",
                  "dtype": "int64"
                }
              ],
              "rows": [
                {
                  "Cluster": "1",
                  "Confirmed": 7967701016,
                  "Deaths": 252768244,
                  "Recovered": 4968624294,
                  "_deepnote_index_column": 0
                },
                {
                  "Cluster": "2",
                  "Confirmed": 6354849447,
                  "Deaths": 130891678,
                  "Recovered": 4763975810,
                  "_deepnote_index_column": 1
                },
                {
                  "Cluster": "3",
                  "Confirmed": 5880355628,
                  "Deaths": 117049333,
                  "Recovered": 5214266852,
                  "_deepnote_index_column": 2
                },
                {
                  "Cluster": "4",
                  "Confirmed": 6049145667,
                  "Deaths": 123303762,
                  "Recovered": 503370956,
                  "_deepnote_index_column": 3
                }
              ]
            },
            "text/plain": "  Cluster     Confirmed       Deaths     Recovered\n0       1  7.967701e+09  252768244.0  4.968624e+09\n1       2  6.354849e+09  130891678.0  4.763976e+09\n2       3  5.880356e+09  117049333.0  5.214267e+09\n3       4  6.049146e+09  123303762.0  5.033710e+08",
            "text/html": "<div>\n<style scoped>\n    .dataframe tbody tr th:only-of-type {\n        vertical-align: middle;\n    }\n\n    .dataframe tbody tr th {\n        vertical-align: top;\n    }\n\n    .dataframe thead th {\n        text-align: right;\n    }\n</style>\n<table border=\"1\" class=\"dataframe\">\n  <thead>\n    <tr style=\"text-align: right;\">\n      <th></th>\n      <th>Cluster</th>\n      <th>Confirmed</th>\n      <th>Deaths</th>\n      <th>Recovered</th>\n    </tr>\n  </thead>\n  <tbody>\n    <tr>\n      <th>0</th>\n      <td>1</td>\n      <td>7.967701e+09</td>\n      <td>252768244.0</td>\n      <td>4.968624e+09</td>\n    </tr>\n    <tr>\n      <th>1</th>\n      <td>2</td>\n      <td>6.354849e+09</td>\n      <td>130891678.0</td>\n      <td>4.763976e+09</td>\n    </tr>\n    <tr>\n      <th>2</th>\n      <td>3</td>\n      <td>5.880356e+09</td>\n      <td>117049333.0</td>\n      <td>5.214267e+09</td>\n    </tr>\n    <tr>\n      <th>3</th>\n      <td>4</td>\n      <td>6.049146e+09</td>\n      <td>123303762.0</td>\n      <td>5.033710e+08</td>\n    </tr>\n  </tbody>\n</table>\n</div>"
          },
          "metadata": {}
        }
      ]
    },
    {
      "cell_type": "code",
      "metadata": {
        "cell_id": "fb5f930c9d8b455b9296696417c667b4",
        "tags": [],
        "deepnote_to_be_reexecuted": false,
        "source_hash": "93bc9f75",
        "execution_start": 1657467512709,
        "execution_millis": 822,
        "deepnote_cell_type": "code",
        "deepnote_cell_height": 451.015625,
        "deepnote_output_heights": [
          228.015625
        ],
        "id": "vLc-rZ-K9TAt",
        "outputId": "e0cf0b41-7988-4b5f-fa1f-2d55f88ce9a7"
      },
      "source": [
        "plt.figure(figsize = (18,4))\n",
        "plt.subplot(1,3,1)\n",
        "sns.barplot(x= 'Cluster',y = 'Confirmed', data = df_out_means)\n",
        "plt.subplot(1,3,2)\n",
        "sns.barplot(x= 'Cluster',y = 'Deaths', data = df_out_means)\n",
        "plt.subplot(1,3,3)\n",
        "sns.barplot(x= 'Cluster',y = 'Recovered', data = df_out_means)\n",
        "plt.show()"
      ],
      "execution_count": null,
      "outputs": [
        {
          "data": {
            "text/plain": "<Figure size 1296x288 with 3 Axes>",
            "image/png": "[encoded data removed]"
          },
          "metadata": {
            "needs_background": "light",
            "image/png": {
              "width": 1046,
              "height": 273
            }
          },
          "output_type": "display_data"
        }
      ]
    },
    {
      "cell_type": "markdown",
      "source": [
        "## K-Medoids"
      ],
      "metadata": {
        "formattedRanges": [],
        "cell_id": "03d46831ee1a4c74bb9eeb6c53a5efc1",
        "tags": [],
        "is_collapsed": false,
        "deepnote_cell_type": "text-cell-h2",
        "id": "gG9cx-PL9TAu"
      }
    },
    {
      "cell_type": "markdown",
      "source": [
        "##### Coba 1"
      ],
      "metadata": {
        "cell_id": "1a6a0c97f3664b2bb3099b17f199289e",
        "tags": [],
        "deepnote_cell_type": "markdown",
        "deepnote_cell_height": 54,
        "id": "0EQjkIov9TAu"
      }
    },
    {
      "cell_type": "code",
      "metadata": {
        "cell_id": "1be41b7055104a3a9c614cc4c2019996",
        "tags": [],
        "deepnote_to_be_reexecuted": false,
        "source_hash": "53316f74",
        "execution_start": 1657467513168,
        "execution_millis": 3266,
        "deepnote_cell_type": "code",
        "deepnote_cell_height": 315.875,
        "id": "pi2egOUs9TAu",
        "outputId": "5c084a40-551d-44e1-d00a-942d95c0ea3c"
      },
      "source": [
        "pip install scikit-learn-extra\n"
      ],
      "execution_count": null,
      "outputs": [
        {
          "name": "stdout",
          "text": "Requirement already satisfied: scikit-learn-extra in /root/venv/lib/python3.9/site-packages (0.2.0)\nRequirement already satisfied: scipy>=0.19.1 in /shared-libs/python3.9/py/lib/python3.9/site-packages (from scikit-learn-extra) (1.8.1)\nRequirement already satisfied: numpy>=1.13.3 in /shared-libs/python3.9/py/lib/python3.9/site-packages (from scikit-learn-extra) (1.22.4)\nRequirement already satisfied: scikit-learn>=0.23.0 in /shared-libs/python3.9/py/lib/python3.9/site-packages (from scikit-learn-extra) (1.1.1)\nRequirement already satisfied: joblib>=1.0.0 in /shared-libs/python3.9/py/lib/python3.9/site-packages (from scikit-learn>=0.23.0->scikit-learn-extra) (1.1.0)\nRequirement already satisfied: threadpoolctl>=2.0.0 in /shared-libs/python3.9/py/lib/python3.9/site-packages (from scikit-learn>=0.23.0->scikit-learn-extra) (3.1.0)\n\u001b[33mWARNING: Running pip as the 'root' user can result in broken permissions and conflicting behaviour with the system package manager. It is recommended to use a virtual environment instead: https://pip.pypa.io/warnings/venv\u001b[0m\u001b[33m\n\u001b[0m\u001b[33mWARNING: You are using pip version 22.0.4; however, version 22.1.2 is available.\nYou should consider upgrading via the '/usr/local/bin/python -m pip install --upgrade pip' command.\u001b[0m\u001b[33m\n\u001b[0mNote: you may need to restart the kernel to use updated packages.\n",
          "output_type": "stream"
        }
      ]
    },
    {
      "cell_type": "code",
      "metadata": {
        "cell_id": "85f6325e58d84b5f923a4fafa2316a4b",
        "tags": [],
        "deepnote_to_be_reexecuted": false,
        "source_hash": "cf8af737",
        "execution_start": 1657467515972,
        "execution_millis": 2923,
        "deepnote_cell_type": "code",
        "deepnote_cell_height": 464,
        "id": "TjK9jiKp9TAv",
        "outputId": "1738722e-e86b-4a4b-fe9e-afc596657288"
      },
      "source": [
        "pip install kneed"
      ],
      "execution_count": null,
      "outputs": [
        {
          "name": "stdout",
          "text": "Requirement already satisfied: kneed in /usr/local/lib/python3.9/site-packages (0.7.0)\nRequirement already satisfied: scipy in /shared-libs/python3.9/py/lib/python3.9/site-packages (from kneed) (1.8.1)\nRequirement already satisfied: matplotlib in /shared-libs/python3.9/py/lib/python3.9/site-packages (from kneed) (3.5.2)\nRequirement already satisfied: numpy>=1.14.2 in /shared-libs/python3.9/py/lib/python3.9/site-packages (from kneed) (1.22.4)\nRequirement already satisfied: cycler>=0.10 in /shared-libs/python3.9/py/lib/python3.9/site-packages (from matplotlib->kneed) (0.11.0)\nRequirement already satisfied: pyparsing>=2.2.1 in /shared-libs/python3.9/py/lib/python3.9/site-packages (from matplotlib->kneed) (3.0.9)\nRequirement already satisfied: packaging>=20.0 in /shared-libs/python3.9/py/lib/python3.9/site-packages (from matplotlib->kneed) (21.3)\nRequirement already satisfied: pillow>=6.2.0 in /shared-libs/python3.9/py/lib/python3.9/site-packages (from matplotlib->kneed) (9.1.1)\nRequirement already satisfied: fonttools>=4.22.0 in /shared-libs/python3.9/py/lib/python3.9/site-packages (from matplotlib->kneed) (4.33.3)\nRequirement already satisfied: python-dateutil>=2.7 in /shared-libs/python3.9/py-core/lib/python3.9/site-packages (from matplotlib->kneed) (2.8.2)\nRequirement already satisfied: kiwisolver>=1.0.1 in /shared-libs/python3.9/py/lib/python3.9/site-packages (from matplotlib->kneed) (1.4.2)\nRequirement already satisfied: six>=1.5 in /shared-libs/python3.9/py-core/lib/python3.9/site-packages (from python-dateutil>=2.7->matplotlib->kneed) (1.16.0)\n\u001b[33mWARNING: Running pip as the 'root' user can result in broken permissions and conflicting behaviour with the system package manager. It is recommended to use a virtual environment instead: https://pip.pypa.io/warnings/venv\u001b[0m\u001b[33m\n\u001b[0m\u001b[33mWARNING: You are using pip version 22.0.4; however, version 22.1.2 is available.\nYou should consider upgrading via the '/usr/local/bin/python -m pip install --upgrade pip' command.\u001b[0m\u001b[33m\n\u001b[0mNote: you may need to restart the kernel to use updated packages.\n",
          "output_type": "stream"
        }
      ]
    },
    {
      "cell_type": "code",
      "metadata": {
        "cell_id": "1252b664eb284776bb029a94427a9472",
        "tags": [],
        "deepnote_to_be_reexecuted": false,
        "source_hash": "245145ba",
        "execution_start": 1657467518885,
        "execution_millis": 617,
        "deepnote_cell_type": "code",
        "deepnote_cell_height": 1046.6875,
        "id": "gu6TS0ia9TAv",
        "outputId": "4ebe5d36-e2fe-4cc0-9309-9772eff4d846"
      },
      "source": [
        "from sklearn_extra.cluster import KMedoids\n",
        "from sklearn.metrics import silhouette_samples, silhouette_score\n",
        "\n",
        "# Mencari nilai K menggunakan perhitungan inertia dan silhouette\n",
        "print(\"- Nilai Inertia pada setiap K (medoids)\")\n",
        "print(\"\")\n",
        "inertia_list = []\n",
        "for num_clusters in range(1, 11):\n",
        "    kmedoids_model = KMedoids(n_clusters=num_clusters)\n",
        "    kmedoids_model.fit(df_scalled[['Confirmed','Deaths','Recovered']])\n",
        "    inertia_list.append(kmedoids_model.inertia_)\n",
        "    print(f\"The inertia of {num_clusters} clusters : {kmedoids_model.inertia_}\")\n",
        "\n",
        "print(\"=\"*60)\n",
        "print(\"\")\n",
        "print(\"- Nilai silhouette pada setiap K (medoids)\")\n",
        "print(\"\")\n",
        "\n",
        "sh_list_med = []\n",
        "for num_clusters in range(2, 11):\n",
        "    kmedoids = KMedoids(n_clusters=num_clusters)\n",
        "    cluster_labels = kmedoids.fit_predict(df_scalled[['Confirmed','Deaths','Recovered']])\n",
        "   \n",
        "    score = silhouette_score(df_scalled[['Confirmed','Deaths','Recovered']], cluster_labels)\n",
        "    sh_list_med.append(score)\n",
        "    print(\"For n_clusters = {}, silhouette score is {})\".format(num_clusters, score))"
      ],
      "execution_count": null,
      "outputs": [
        {
          "name": "stdout",
          "text": "- Nilai Inertia pada setiap K (medoids)\n\nThe inertia of 1 clusters : 9.148575694850564\nThe inertia of 2 clusters : 6.722654797505051\nThe inertia of 3 clusters : 5.935514032427156\nThe inertia of 4 clusters : 5.467465552055652\nThe inertia of 5 clusters : 5.355131609944504\nThe inertia of 6 clusters : 5.303254995482906\nThe inertia of 7 clusters : 5.272882652466728\nThe inertia of 8 clusters : 5.25896192681515\nThe inertia of 9 clusters : 5.2499083041117025\nThe inertia of 10 clusters : 5.247592517125482\n============================================================\n\n- Nilai silhouette pada setiap K (medoids)\n\nFor n_clusters = 2, silhouette score is 0.8575709936104412)\nFor n_clusters = 3, silhouette score is 0.5712650011623337)\nFor n_clusters = 4, silhouette score is 0.6054395622647571)\nFor n_clusters = 5, silhouette score is 0.4982443153427611)\nFor n_clusters = 6, silhouette score is 0.4183726839507138)\nFor n_clusters = 7, silhouette score is 0.37489928745774487)\nFor n_clusters = 8, silhouette score is 0.35585228714306383)\nFor n_clusters = 9, silhouette score is 0.3675849338650965)\nFor n_clusters = 10, silhouette score is 0.37007326410657193)\n",
          "output_type": "stream"
        }
      ]
    },
    {
      "cell_type": "code",
      "metadata": {
        "cell_id": "de1259774f9d47a2a6bb552e0e134257",
        "tags": [],
        "deepnote_to_be_reexecuted": false,
        "source_hash": "4950e74",
        "execution_start": 1657467519312,
        "execution_millis": 555,
        "deepnote_cell_type": "code",
        "deepnote_cell_height": 1126,
        "deepnote_output_heights": [
          null,
          283,
          null,
          376
        ],
        "id": "7Vpy8AL_9TAw",
        "outputId": "af8729a7-515d-4c7b-ad13-c61208140b17"
      },
      "source": [
        "# Plot untuk inertia\n",
        "plt.plot(range(1,11),inertia_list, marker='o', linewidth=2, markersize=8)\n",
        "plt.xlabel(\"Number of Clusters\", size=13)\n",
        "plt.ylabel(\"Inertia Value\", size=13)\n",
        "plt.title(\"Different Inertia Values for Different Number of Clusters\")\n",
        "\n",
        "# Menentukan nilai k optimal menggunakan library KneeLocator \n",
        "from kneed import KneeLocator, DataGenerator\n",
        "kneedle = KneeLocator(range(1,11),inertia_list, S=1.0, curve='convex', direction='decreasing')\n",
        "plt.style.use('ggplot')\n",
        "kneedle.plot_knee()\n",
        "plt.show()"
      ],
      "execution_count": null,
      "outputs": [
        {
          "name": "stderr",
          "text": "findfont: Font family ['sans-serif'] not found. Falling back to DejaVu Sans.\nfindfont: Generic family 'sans-serif' not found because none of the following families were found: Arial, Liberation Sans, Bitstream Vera Sans, sans-serif\n",
          "output_type": "stream"
        },
        {
          "data": {
            "text/plain": "<Figure size 432x288 with 1 Axes>",
            "image/png": "[encoded data removed]"
          },
          "metadata": {
            "needs_background": "light",
            "image/png": {
              "width": 390,
              "height": 281
            }
          },
          "output_type": "display_data"
        },
        {
          "name": "stderr",
          "text": "findfont: Font family ['sans-serif'] not found. Falling back to DejaVu Sans.\nfindfont: Generic family 'sans-serif' not found because none of the following families were found: Arial, Liberation Sans, Bitstream Vera Sans, sans-serif\n",
          "output_type": "stream"
        },
        {
          "data": {
            "text/plain": "<Figure size 432x432 with 1 Axes>",
            "image/png": "[encoded data removed]"
          },
          "metadata": {
            "image/png": {
              "width": 362,
              "height": 374
            }
          },
          "output_type": "display_data"
        }
      ]
    },
    {
      "cell_type": "code",
      "metadata": {
        "cell_id": "2abd9cb653284f3295b1e9b606b0bafb",
        "tags": [],
        "deepnote_to_be_reexecuted": false,
        "source_hash": "b2a474af",
        "execution_start": 1657467519865,
        "execution_millis": 211,
        "deepnote_cell_type": "code",
        "deepnote_cell_height": 489,
        "deepnote_output_heights": [
          284
        ],
        "id": "UtUZr0c69TAw",
        "outputId": "32b4602b-9b3e-4920-dff1-ba6c39e15514"
      },
      "source": [
        "# Plot untuk silhouette\n",
        "\n",
        "plt.plot(range(2,11),sh_list_med, marker='o', linewidth=2, markersize=8)\n",
        "plt.xlabel(\"Number of Clusters\", size=13)\n",
        "plt.ylabel(\"silhouette score\", size=13)\n",
        "plt.title(\"Different silhouette score for Different Number of Clusters of K\")\n",
        "plt.show()"
      ],
      "execution_count": null,
      "outputs": [
        {
          "data": {
            "text/plain": "<Figure size 432x288 with 1 Axes>",
            "image/png": "[encoded data removed]"
          },
          "metadata": {
            "image/png": {
              "width": 466,
              "height": 282
            }
          },
          "output_type": "display_data"
        }
      ]
    },
    {
      "cell_type": "markdown",
      "source": [
        "##### Berdasarkan perhitungan score inertia dan score silhouette, K yang optimal untuk model clustering K-Medoids adalah K(medoids) yang bernilai 4"
      ],
      "metadata": {
        "cell_id": "3579bb43b3174640ba773622b08d20cc",
        "tags": [],
        "deepnote_cell_type": "markdown",
        "deepnote_cell_height": 78,
        "id": "b9fMvPWX9TAx"
      }
    },
    {
      "cell_type": "code",
      "metadata": {
        "cell_id": "10b87f0f395d4ffa8a893e83b1835e0a",
        "tags": [],
        "deepnote_to_be_reexecuted": false,
        "source_hash": "4a893aab",
        "execution_start": 1657467520078,
        "execution_millis": 48,
        "deepnote_cell_type": "code",
        "deepnote_cell_height": 485,
        "id": "k9XY7EPm9TAx",
        "outputId": "e1cba9de-4f49-462f-ede6-7f99e69055a5"
      },
      "source": [
        "df_kmedoid = df.copy()\n",
        "k_medoids = KMedoids(n_clusters = 4, random_state = 42)\n",
        "k_medoids.fit_predict(df_scalled[['Confirmed','Deaths', 'Recovered']])\n",
        "labels = k_medoids.labels_ + 1\n",
        "df_kmedoid['Cluster'] = labels\n",
        "df_kmedoid.head()"
      ],
      "execution_count": null,
      "outputs": [
        {
          "output_type": "execute_result",
          "execution_count": 31,
          "data": {
            "application/vnd.deepnote.dataframe.v3+json": {
              "column_count": 5,
              "row_count": 5,
              "columns": [
                {
                  "name": "Country/Region",
                  "dtype": "object",
                  "stats": {
                    "unique_count": 5,
                    "nan_count": 0,
                    "categories": [
                      {
                        "name": " Azerbaijan",
                        "count": 1
                      },
                      {
                        "name": "('St. Martin',)",
                        "count": 1
                      },
                      {
                        "name": "3 others",
                        "count": 3
                      }
                    ]
                  }
                },
                {
                  "name": "Confirmed",
                  "dtype": "float64",
                  "stats": {
                    "unique_count": 5,
                    "nan_count": 0,
                    "min": "1.0",
                    "max": "27684358.0",
                    "histogram": [
                      {
                        "bin_start": 1,
                        "bin_end": 2768436.7,
                        "count": 2
                      },
                      {
                        "bin_start": 2768436.7,
                        "bin_end": 5536872.4,
                        "count": 0
                      },
                      {
                        "bin_start": 5536872.4,
                        "bin_end": 8305308.100000001,
                        "count": 0
                      },
                      {
                        "bin_start": 8305308.100000001,
                        "bin_end": 11073743.8,
                        "count": 0
                      },
                      {
                        "bin_start": 11073743.8,
                        "bin_end": 13842179.5,
                        "count": 0
                      },
                      {
                        "bin_start": 13842179.5,
                        "bin_end": 16610615.200000001,
                        "count": 0
                      },
                      {
                        "bin_start": 16610615.200000001,
                        "bin_end": 19379050.900000002,
                        "count": 1
                      },
                      {
                        "bin_start": 19379050.900000002,
                        "bin_end": 22147486.6,
                        "count": 1
                      },
                      {
                        "bin_start": 22147486.6,
                        "bin_end": 24915922.3,
                        "count": 0
                      },
                      {
                        "bin_start": 24915922.3,
                        "bin_end": 27684358,
                        "count": 1
                      }
                    ]
                  }
                },
                {
                  "name": "Deaths",
                  "dtype": "float64",
                  "stats": {
                    "unique_count": 4,
                    "nan_count": 0,
                    "min": "0.0",
                    "max": "834464.0",
                    "histogram": [
                      {
                        "bin_start": 0,
                        "bin_end": 83446.4,
                        "count": 2
                      },
                      {
                        "bin_start": 83446.4,
                        "bin_end": 166892.8,
                        "count": 0
                      },
                      {
                        "bin_start": 166892.8,
                        "bin_end": 250339.19999999998,
                        "count": 0
                      },
                      {
                        "bin_start": 250339.19999999998,
                        "bin_end": 333785.6,
                        "count": 0
                      },
                      {
                        "bin_start": 333785.6,
                        "bin_end": 417232,
                        "count": 1
                      },
                      {
                        "bin_start": 417232,
                        "bin_end": 500678.39999999997,
                        "count": 0
                      },
                      {
                        "bin_start": 500678.39999999997,
                        "bin_end": 584124.7999999999,
                        "count": 0
                      },
                      {
                        "bin_start": 584124.7999999999,
                        "bin_end": 667571.2,
                        "count": 0
                      },
                      {
                        "bin_start": 667571.2,
                        "bin_end": 751017.6,
                        "count": 1
                      },
                      {
                        "bin_start": 751017.6,
                        "bin_end": 834464,
                        "count": 1
                      }
                    ]
                  }
                },
                {
                  "name": "Recovered",
                  "dtype": "float64",
                  "stats": {
                    "unique_count": 4,
                    "nan_count": 0,
                    "min": "0.0",
                    "max": "18959299.0",
                    "histogram": [
                      {
                        "bin_start": 0,
                        "bin_end": 1895929.9,
                        "count": 2
                      },
                      {
                        "bin_start": 1895929.9,
                        "bin_end": 3791859.8,
                        "count": 0
                      },
                      {
                        "bin_start": 3791859.8,
                        "bin_end": 5687789.699999999,
                        "count": 0
                      },
                      {
                        "bin_start": 5687789.699999999,
                        "bin_end": 7583719.6,
                        "count": 0
                      },
                      {
                        "bin_start": 7583719.6,
                        "bin_end": 9479649.5,
                        "count": 0
                      },
                      {
                        "bin_start": 9479649.5,
                        "bin_end": 11375579.399999999,
                        "count": 0
                      },
                      {
                        "bin_start": 11375579.399999999,
                        "bin_end": 13271509.299999999,
                        "count": 0
                      },
                      {
                        "bin_start": 13271509.299999999,
                        "bin_end": 15167439.2,
                        "count": 2
                      },
                      {
                        "bin_start": 15167439.2,
                        "bin_end": 17063369.099999998,
                        "count": 0
                      },
                      {
                        "bin_start": 17063369.099999998,
                        "bin_end": 18959299,
                        "count": 1
                      }
                    ]
                  }
                },
                {
                  "name": "Cluster",
                  "dtype": "int64",
                  "stats": {
                    "unique_count": 2,
                    "nan_count": 0,
                    "min": "1",
                    "max": "3",
                    "histogram": [
                      {
                        "bin_start": 1,
                        "bin_end": 1.2,
                        "count": 4
                      },
                      {
                        "bin_start": 1.2,
                        "bin_end": 1.4,
                        "count": 0
                      },
                      {
                        "bin_start": 1.4,
                        "bin_end": 1.6,
                        "count": 0
                      },
                      {
                        "bin_start": 1.6,
                        "bin_end": 1.8,
                        "count": 0
                      },
                      {
                        "bin_start": 1.8,
                        "bin_end": 2,
                        "count": 0
                      },
                      {
                        "bin_start": 2,
                        "bin_end": 2.2,
                        "count": 0
                      },
                      {
                        "bin_start": 2.2,
                        "bin_end": 2.4000000000000004,
                        "count": 0
                      },
                      {
                        "bin_start": 2.4000000000000004,
                        "bin_end": 2.6,
                        "count": 0
                      },
                      {
                        "bin_start": 2.6,
                        "bin_end": 2.8,
                        "count": 0
                      },
                      {
                        "bin_start": 2.8,
                        "bin_end": 3,
                        "count": 1
                      }
                    ]
                  }
                },
                {
                  "name": "_deepnote_index_column",
                  "dtype": "int64"
                }
              ],
              "rows": [
                {
                  "Country/Region": " Azerbaijan",
                  "Confirmed": 1,
                  "Deaths": 0,
                  "Recovered": 0,
                  "Cluster": 1,
                  "_deepnote_index_column": 0
                },
                {
                  "Country/Region": "('St. Martin',)",
                  "Confirmed": 2,
                  "Deaths": 0,
                  "Recovered": 0,
                  "Cluster": 1,
                  "_deepnote_index_column": 1
                },
                {
                  "Country/Region": "Afghanistan",
                  "Confirmed": 17026442,
                  "Deaths": 669075,
                  "Recovered": 13464399,
                  "Cluster": 1,
                  "_deepnote_index_column": 2
                },
                {
                  "Country/Region": "Albania",
                  "Confirmed": 19768869,
                  "Deaths": 375955,
                  "Recovered": 13945256,
                  "Cluster": 1,
                  "_deepnote_index_column": 3
                },
                {
                  "Country/Region": "Algeria",
                  "Confirmed": 27684358,
                  "Deaths": 834464,
                  "Recovered": 18959299,
                  "Cluster": 3,
                  "_deepnote_index_column": 4
                }
              ]
            },
            "text/plain": "    Country/Region   Confirmed    Deaths   Recovered  Cluster\n0       Azerbaijan         1.0       0.0         0.0        1\n1  ('St. Martin',)         2.0       0.0         0.0        1\n2      Afghanistan  17026442.0  669075.0  13464399.0        1\n3          Albania  19768869.0  375955.0  13945256.0        1\n4          Algeria  27684358.0  834464.0  18959299.0        3",
            "text/html": "<div>\n<style scoped>\n    .dataframe tbody tr th:only-of-type {\n        vertical-align: middle;\n    }\n\n    .dataframe tbody tr th {\n        vertical-align: top;\n    }\n\n    .dataframe thead th {\n        text-align: right;\n    }\n</style>\n<table border=\"1\" class=\"dataframe\">\n  <thead>\n    <tr style=\"text-align: right;\">\n      <th></th>\n      <th>Country/Region</th>\n      <th>Confirmed</th>\n      <th>Deaths</th>\n      <th>Recovered</th>\n      <th>Cluster</th>\n    </tr>\n  </thead>\n  <tbody>\n    <tr>\n      <th>0</th>\n      <td>Azerbaijan</td>\n      <td>1.0</td>\n      <td>0.0</td>\n      <td>0.0</td>\n      <td>1</td>\n    </tr>\n    <tr>\n      <th>1</th>\n      <td>('St. Martin',)</td>\n      <td>2.0</td>\n      <td>0.0</td>\n      <td>0.0</td>\n      <td>1</td>\n    </tr>\n    <tr>\n      <th>2</th>\n      <td>Afghanistan</td>\n      <td>17026442.0</td>\n      <td>669075.0</td>\n      <td>13464399.0</td>\n      <td>1</td>\n    </tr>\n    <tr>\n      <th>3</th>\n      <td>Albania</td>\n      <td>19768869.0</td>\n      <td>375955.0</td>\n      <td>13945256.0</td>\n      <td>1</td>\n    </tr>\n    <tr>\n      <th>4</th>\n      <td>Algeria</td>\n      <td>27684358.0</td>\n      <td>834464.0</td>\n      <td>18959299.0</td>\n      <td>3</td>\n    </tr>\n  </tbody>\n</table>\n</div>"
          },
          "metadata": {}
        }
      ]
    },
    {
      "cell_type": "code",
      "metadata": {
        "cell_id": "620a4a31205847c9a66490dd3b745687",
        "tags": [],
        "deepnote_to_be_reexecuted": false,
        "source_hash": "264a43df",
        "execution_start": 1657467520133,
        "execution_millis": 115,
        "deepnote_cell_type": "code",
        "deepnote_cell_height": 696,
        "deepnote_output_heights": [
          527
        ],
        "id": "S4K_WRbC9TAy",
        "outputId": "7c197165-cd44-4f27-87ad-d4af215efae1"
      },
      "source": [
        "#Memvisualisasikan hasil clustrering\n",
        "import plotly.express as px\n",
        "fig = px.scatter_3d(df_kmedoid, x='Confirmed', y='Deaths', z='Recovered', color='Cluster')\n",
        "\n",
        "fig.show()"
      ],
      "execution_count": null,
      "outputs": [
        {
          "data": {
            "text/html": "<html>\n<head><meta charset=\"utf-8\" /></head>\n<body>\n    <div>            <script src=\"https://cdnjs.cloudflare.com/ajax/libs/mathjax/2.7.5/MathJax.js?config=TeX-AMS-MML_SVG\"></script><script type=\"text/javascript\">if (window.MathJax && window.MathJax.Hub && && window.MathJax.Hub.Config) {window.MathJax.Hub.Config({SVG: {font: \"STIX-Web\"}});}</script>                <script type=\"text/javascript\">window.PlotlyConfig = {MathJaxConfig: 'local'};</script>\n        <script src=\"https://cdn.plot.ly/plotly-2.12.1.min.js\"></script>                <div id=\"c25e52ec-097f-40e7-b856-0afbcf6f75f7\" class=\"plotly-graph-div\" style=\"height:525px; width:100%;\"></div>            <script type=\"text/javascript\">                                    window.PLOTLYENV=window.PLOTLYENV || {};                                    if (document.getElementById(\"c25e52ec-097f-40e7-b856-0afbcf6f75f7\")) {                    Plotly.newPlot(                        \"c25e52ec-097f-40e7-b856-0afbcf6f75f7\",                        [{\"hovertemplate\":\"Confirmed=%{x}<br>Deaths=%{y}<br>Recovered=%{z}<br>Cluster=%{marker.color}<extra></extra>\",\"legendgroup\":\"\",\"marker\":{\"color\":[1,1,1,1,3,1,1,1,4,3,1,1,3,3,1,1,3,2,1,3,3,1,1,1,3,3,1,4,1,3,1,3,1,1,1,1,2,1,1,1,1,1,2,1,4,1,1,1,3,3,1,1,1,2,3,1,1,1,3,1,3,3,1,1,1,1,1,3,1,1,1,4,1,1,1,1,3,4,1,1,3,1,1,1,1,3,1,1,1,1,1,1,3,1,3,1,4,2,4,2,3,2,4,1,1,3,1,3,3,3,1,1,3,3,1,1,3,1,1,3,1,3,1,1,1,1,3,1,3,1,1,1,1,1,1,1,1,4,1,3,1,1,1,2,1,1,3,3,1,1,1,3,1,3,1,3,1,2,1,3,1,3,4,2,4,2,1,3,1,1,1,2,4,1,1,1,1,1,1,1,1,2,1,3,1,1,1,3,3,1,1,4,1,1,4,1,1,1,1,3,3,1,1,1,1,1,1,1,1,1,1,3,4,4,4,1,2,3,1,1,1,1,3,1,3,1,1,1,1],\"coloraxis\":\"coloraxis\",\"symbol\":\"circle\"},\"mode\":\"markers\",\"name\":\"\",\"scene\":\"scene\",\"showlegend\":false,\"x\":[1.0,2.0,17026442.0,19768869.0,27684358.0,2379802.0,4764863.0,143868.0,504802880.0,42536277.0,19.0,9447438.0,97965875.0,52366764.0,2139331.0,10.0,33934748.0,161494811.0,474762.0,65435028.0,179009886.0,2399352.0,1365462.0,196080.0,61346449.0,31257028.0,6063426.0,2653587540.0,71229.0,56530042.0,2249316.0,27717649.0,492722.0,3941085.0,955901.0,11346589.0,193497537.0,1.0,3.0,1776825.0,883727.0,1.0,232444395.0,0.0,515307146.0,579705.0,2286750.0,6148539.0,47395838.0,50531146.0,11110101.0,2.0,7736086.0,237860726.0,42700338.0,306872.0,2387030.0,31141.0,57000335.0,1.0,74790536.0,50168167.0,14619435.0,1919781.0,522945.0,13834670.0,3401276.0,41388062.0,10.0,20720.0,13103437.0,855188962.0,117.0,4237601.0,1250677.0,4.0,51183744.0,524166833.0,20784664.0,7.0,44502618.0,3.0,30738.0,187.0,6.0,44774712.0,3.0,4860849.0,973695.0,2068280.0,3532804.0,8448.0,41138599.0,2655935.0,98903229.0,1729527.0,3226768088.0,265186050.0,400909778.0,187310643.0,42974124.0,153263218.0,636694305.0,9253034.0,5774810.0,89378076.0,6.0,90344299.0,70060029.0,27728648.0,21.0,15865976.0,53341259.0,22692500.0,58871.0,15266130.0,71885997.0,1705201.0,576370.0,29458062.0,500670.0,36339959.0,12154223.0,3824.0,20605.0,6579780.0,40822596.0,5235180.0,53546912.0,5502303.0,2273550.0,4556210.0,804.0,172.0,4104867.0,235313.0,21.0,460463678.0,129.0,42907803.0,364464.0,2388966.0,14990089.0,104557135.0,9979000.0,7912632.0,67252242.0,234955991.0,836280.0,1929682.0,1047041.0,33407947.0,1.0,23650041.0,17283377.0,42831069.0,26228.0,165572396.0,86.0,73445278.0,886555.0,38225829.0,361150607.0,164420468.0,380680836.0,141962632.0,3.0,52791589.0,21.0,1.0,137.0,173082798.0,930548849.0,3770080.0,17.0,11211.0,502993.0,229517.0,481.0,851906.0,470914.0,123111168.0,7893507.0,95624419.0,608196.0,1008350.0,21476559.0,55789871.0,35538663.0,3818.0,2211790.0,345940039.0,20814483.0,1748600.0,649111763.0,15676007.0,2.0,7632455.0,2148896.0,142264880.0,115902800.0,3494790.0,339919.0,3988242.0,205081.0,7139288.0,3.0,1.0,183796.0,1691382.0,2119871.0,44779270.0,618940956.0,783794384.0,6049145667.0,8016407.0,310910152.0,83739255.0,17112011.0,22207571.0,406.0,4.0,35958070.0,615984.0,41819444.0,962066.0,13493953.0,6484581.0,25.0],\"y\":[0.0,0.0,669075.0,375955.0,834464.0,32100.0,116489.0,4059.0,12112441.0,770759.0,0.0,268435.0,1678309.0,705690.0,45743.0,0.0,124266.0,2369239.0,6612.0,488800.0,6292525.0,57538.0,19040.0,142.0,2989039.0,1191149.0,67635.0,72624610.0,1144.0,2186376.0,36179.0,617121.0,898.0,37708.0,5679.0,197906.0,5692896.0,0.0,0.0,22498.0,41453.0,0.0,5717374.0,0.0,13981703.0,19520.0,36012.0,164914.0,610944.0,1040275.0,89540.0,0.0,44993.0,3989185.0,515141.0,5553.0,25809.0,0.0,844835.0,0.0,4540233.0,2827664.0,433540.0,29917.0,1283.0,134847.0,106910.0,618948.0,0.0,620.0,205968.0,22720818.0,0.0,26593.0,39065.0,0.0,632004.0,13364216.0,145640.0,0.0,1378999.0,0.0,147.0,0.0,0.0,1566630.0,0.0,29574.0,15711.0,51147.0,78232.0,0.0,1078972.0,45325.0,3300223.0,7995.0,44424723.0,7770329.0,15744407.0,3732114.0,1080846.0,1174438.0,26000702.0,56433.0,105668.0,1580914.0,0.0,1106493.0,812718.0,482736.0,0.0,384014.0,318742.0,429334.0,39.0,273351.0,861457.0,44254.0,28789.0,471207.0,9258.0,555811.0,145701.0,848.0,0.0,101022.0,2089872.0,167294.0,230112.0,16529.0,89260.0,62543.0,0.0,6.0,99865.0,4557.0,0.0,43005509.0,0.0,973416.0,4305.0,7481.0,216269.0,1823724.0,105149.0,90591.0,580092.0,4168395.0,9810.0,54413.0,43109.0,490170.0,0.0,747709.0,168543.0,432957.0,189.0,3537569.0,0.0,1308362.0,8855.0,819375.0,13194771.0,3089116.0,8951676.0,2836421.0,0.0,90600.0,0.0,0.0,0.0,4626607.0,18363719.0,44760.0,0.0,0.0,6864.0,1096.0,0.0,23658.0,7605.0,1861008.0,187805.0,958289.0,2485.0,27247.0,11233.0,1282065.0,691543.0,0.0,85048.0,10250036.0,346001.0,24580.0,19065104.0,91579.0,0.0,488709.0,42262.0,3336122.0,2188496.0,223163.0,3687.0,29478.0,8411.0,42897.0,0.0,0.0,299.0,23450.0,38297.0,1502918.0,6841158.0,29171984.0,123303762.0,66045.0,6228387.0,288328.0,212611.0,170013.0,39.0,0.0,346781.0,10220.0,440378.0,237613.0,205990.0,237234.0,0.0],\"z\":[0.0,0.0,13464399.0,13945256.0,18959299.0,2162473.0,3683041.0,109958.0,438750295.0,37101575.0,0.0,7219933.0,89050545.0,46657708.0,1701658.0,0.0,31578826.0,132982094.0,421968.0,60474253.0,3797948.0,2089375.0,1186843.0,172396.0,45815929.0,23678612.0,5129818.0,2313677028.0,65938.0,42095369.0,2032150.0,24059469.0,197308.0,3578423.0,538696.0,8533833.0,171576903.0,0.0,0.0,1070060.0,771319.0,0.0,217049223.0,0.0,468747010.0,521329.0,1677347.0,4960011.0,35964758.0,46987667.0,10175271.0,0.0,2496884.0,207895782.0,38547273.0,288580.0,2221218.0,28136.0,44403877.0,0.0,61356715.0,37388048.0,12722159.0,1644740.0,441448.0,11233184.0,2911827.0,30828666.0,0.0,16203.0,8547672.0,69407433.0,6.0,3635152.0,1050538.0,0.0,47693545.0,453383253.0,19586296.0,1.0,17641389.0,0.0,28303.0,0.0,0.0,39656512.0,0.0,4328936.0,714095.0,1745409.0,2733639.0,5233.0,15438654.0,2433578.0,62184810.0,1621682.0,2900589824.0,226416174.0,326813025.0,165060721.0,9146914.0,142019996.0,487799849.0,8545330.0,3070508.0,78335782.0,0.0,79442415.0,60318414.0,19978029.0,0.0,13245728.0,49334878.0,20674921.0,27424.0,12799235.0,54968036.0,750919.0,481826.0,23919352.0,462202.0,30854260.0,10832524.0,1246.0,19130.0,6002237.0,36897441.0,3997113.0,47415431.0,4491720.0,1556619.0,4051475.0,732.0,0.0,3687858.0,202853.0,0.0,361780181.0,121.0,37917941.0,326978.0,1707503.0,13019017.0,97152598.0,8109257.0,7142217.0,59837224.0,3301052.0,783265.0,1284912.0,892393.0,28514090.0,0.0,19378833.0,5214261.0,38412529.0,5003.0,146019913.0,0.0,64769509.0,576956.0,30225760.0,323672775.0,142849090.0,309835430.0,120619045.0,0.0,49060093.0,0.0,0.0,0.0,151707879.0,790705716.0,3234767.0,0.0,10218.0,450051.0,174369.0,360.0,741010.0,406519.0,114581500.0,6913315.0,733305.0,507887.0,722960.0,20135657.0,39769995.0,31296693.0,2573.0,1217171.0,310037579.0,18083341.0,1331152.0,61193618.0,13707143.0,0.0,4945338.0,1943058.0,160063.0,67989183.0,2126985.0,262601.0,3706798.0,72727.0,4109064.0,0.0,0.0,99109.0,1395355.0,1713975.0,35481322.0,564170558.0,2327572.0,503370956.0,4802094.0,234410665.0,77929785.0,14253442.0,21035683.0,252.0,0.0,32755750.0,486370.0,37003116.0,506523.0,12625626.0,5594887.0,0.0],\"type\":\"scatter3d\"}],                        {\"template\":{\"data\":{\"histogram2dcontour\":[{\"type\":\"histogram2dcontour\",\"colorbar\":{\"outlinewidth\":0,\"ticks\":\"\"},\"colorscale\":[[0.0,\"#0d0887\"],[0.1111111111111111,\"#46039f\"],[0.2222222222222222,\"#7201a8\"],[0.3333333333333333,\"#9c179e\"],[0.4444444444444444,\"#bd3786\"],[0.5555555555555556,\"#d8576b\"],[0.6666666666666666,\"#ed7953\"],[0.7777777777777778,\"#fb9f3a\"],[0.8888888888888888,\"#fdca26\"],[1.0,\"#f0f921\"]]}],\"choropleth\":[{\"type\":\"choropleth\",\"colorbar\":{\"outlinewidth\":0,\"ticks\":\"\"}}],\"histogram2d\":[{\"type\":\"histogram2d\",\"colorbar\":{\"outlinewidth\":0,\"ticks\":\"\"},\"colorscale\":[[0.0,\"#0d0887\"],[0.1111111111111111,\"#46039f\"],[0.2222222222222222,\"#7201a8\"],[0.3333333333333333,\"#9c179e\"],[0.4444444444444444,\"#bd3786\"],[0.5555555555555556,\"#d8576b\"],[0.6666666666666666,\"#ed7953\"],[0.7777777777777778,\"#fb9f3a\"],[0.8888888888888888,\"#fdca26\"],[1.0,\"#f0f921\"]]}],\"heatmap\":[{\"type\":\"heatmap\",\"colorbar\":{\"outlinewidth\":0,\"ticks\":\"\"},\"colorscale\":[[0.0,\"#0d0887\"],[0.1111111111111111,\"#46039f\"],[0.2222222222222222,\"#7201a8\"],[0.3333333333333333,\"#9c179e\"],[0.4444444444444444,\"#bd3786\"],[0.5555555555555556,\"#d8576b\"],[0.6666666666666666,\"#ed7953\"],[0.7777777777777778,\"#fb9f3a\"],[0.8888888888888888,\"#fdca26\"],[1.0,\"#f0f921\"]]}],\"heatmapgl\":[{\"type\":\"heatmapgl\",\"colorbar\":{\"outlinewidth\":0,\"ticks\":\"\"},\"colorscale\":[[0.0,\"#0d0887\"],[0.1111111111111111,\"#46039f\"],[0.2222222222222222,\"#7201a8\"],[0.3333333333333333,\"#9c179e\"],[0.4444444444444444,\"#bd3786\"],[0.5555555555555556,\"#d8576b\"],[0.6666666666666666,\"#ed7953\"],[0.7777777777777778,\"#fb9f3a\"],[0.8888888888888888,\"#fdca26\"],[1.0,\"#f0f921\"]]}],\"contourcarpet\":[{\"type\":\"contourcarpet\",\"colorbar\":{\"outlinewidth\":0,\"ticks\":\"\"}}],\"contour\":[{\"type\":\"contour\",\"colorbar\":{\"outlinewidth\":0,\"ticks\":\"\"},\"colorscale\":[[0.0,\"#0d0887\"],[0.1111111111111111,\"#46039f\"],[0.2222222222222222,\"#7201a8\"],[0.3333333333333333,\"#9c179e\"],[0.4444444444444444,\"#bd3786\"],[0.5555555555555556,\"#d8576b\"],[0.6666666666666666,\"#ed7953\"],[0.7777777777777778,\"#fb9f3a\"],[0.8888888888888888,\"#fdca26\"],[1.0,\"#f0f921\"]]}],\"surface\":[{\"type\":\"surface\",\"colorbar\":{\"outlinewidth\":0,\"ticks\":\"\"},\"colorscale\":[[0.0,\"#0d0887\"],[0.1111111111111111,\"#46039f\"],[0.2222222222222222,\"#7201a8\"],[0.3333333333333333,\"#9c179e\"],[0.4444444444444444,\"#bd3786\"],[0.5555555555555556,\"#d8576b\"],[0.6666666666666666,\"#ed7953\"],[0.7777777777777778,\"#fb9f3a\"],[0.8888888888888888,\"#fdca26\"],[1.0,\"#f0f921\"]]}],\"mesh3d\":[{\"type\":\"mesh3d\",\"colorbar\":{\"outlinewidth\":0,\"ticks\":\"\"}}],\"scatter\":[{\"fillpattern\":{\"fillmode\":\"overlay\",\"size\":10,\"solidity\":0.2},\"type\":\"scatter\"}],\"parcoords\":[{\"type\":\"parcoords\",\"line\":{\"colorbar\":{\"outlinewidth\":0,\"ticks\":\"\"}}}],\"scatterpolargl\":[{\"type\":\"scatterpolargl\",\"marker\":{\"colorbar\":{\"outlinewidth\":0,\"ticks\":\"\"}}}],\"bar\":[{\"error_x\":{\"color\":\"#2a3f5f\"},\"error_y\":{\"color\":\"#2a3f5f\"},\"marker\":{\"line\":{\"color\":\"#E5ECF6\",\"width\":0.5},\"pattern\":{\"fillmode\":\"overlay\",\"size\":10,\"solidity\":0.2}},\"type\":\"bar\"}],\"scattergeo\":[{\"type\":\"scattergeo\",\"marker\":{\"colorbar\":{\"outlinewidth\":0,\"ticks\":\"\"}}}],\"scatterpolar\":[{\"type\":\"scatterpolar\",\"marker\":{\"colorbar\":{\"outlinewidth\":0,\"ticks\":\"\"}}}],\"histogram\":[{\"marker\":{\"pattern\":{\"fillmode\":\"overlay\",\"size\":10,\"solidity\":0.2}},\"type\":\"histogram\"}],\"scattergl\":[{\"type\":\"scattergl\",\"marker\":{\"colorbar\":{\"outlinewidth\":0,\"ticks\":\"\"}}}],\"scatter3d\":[{\"type\":\"scatter3d\",\"line\":{\"colorbar\":{\"outlinewidth\":0,\"ticks\":\"\"}},\"marker\":{\"colorbar\":{\"outlinewidth\":0,\"ticks\":\"\"}}}],\"scattermapbox\":[{\"type\":\"scattermapbox\",\"marker\":{\"colorbar\":{\"outlinewidth\":0,\"ticks\":\"\"}}}],\"scatterternary\":[{\"type\":\"scatterternary\",\"marker\":{\"colorbar\":{\"outlinewidth\":0,\"ticks\":\"\"}}}],\"scattercarpet\":[{\"type\":\"scattercarpet\",\"marker\":{\"colorbar\":{\"outlinewidth\":0,\"ticks\":\"\"}}}],\"carpet\":[{\"aaxis\":{\"endlinecolor\":\"#2a3f5f\",\"gridcolor\":\"white\",\"linecolor\":\"white\",\"minorgridcolor\":\"white\",\"startlinecolor\":\"#2a3f5f\"},\"baxis\":{\"endlinecolor\":\"#2a3f5f\",\"gridcolor\":\"white\",\"linecolor\":\"white\",\"minorgridcolor\":\"white\",\"startlinecolor\":\"#2a3f5f\"},\"type\":\"carpet\"}],\"table\":[{\"cells\":{\"fill\":{\"color\":\"#EBF0F8\"},\"line\":{\"color\":\"white\"}},\"header\":{\"fill\":{\"color\":\"#C8D4E3\"},\"line\":{\"color\":\"white\"}},\"type\":\"table\"}],\"barpolar\":[{\"marker\":{\"line\":{\"color\":\"#E5ECF6\",\"width\":0.5},\"pattern\":{\"fillmode\":\"overlay\",\"size\":10,\"solidity\":0.2}},\"type\":\"barpolar\"}],\"pie\":[{\"automargin\":true,\"type\":\"pie\"}]},\"layout\":{\"autotypenumbers\":\"strict\",\"colorway\":[\"#636efa\",\"#EF553B\",\"#00cc96\",\"#ab63fa\",\"#FFA15A\",\"#19d3f3\",\"#FF6692\",\"#B6E880\",\"#FF97FF\",\"#FECB52\"],\"font\":{\"color\":\"#2a3f5f\"},\"hovermode\":\"closest\",\"hoverlabel\":{\"align\":\"left\"},\"paper_bgcolor\":\"white\",\"plot_bgcolor\":\"#E5ECF6\",\"polar\":{\"bgcolor\":\"#E5ECF6\",\"angularaxis\":{\"gridcolor\":\"white\",\"linecolor\":\"white\",\"ticks\":\"\"},\"radialaxis\":{\"gridcolor\":\"white\",\"linecolor\":\"white\",\"ticks\":\"\"}},\"ternary\":{\"bgcolor\":\"#E5ECF6\",\"aaxis\":{\"gridcolor\":\"white\",\"linecolor\":\"white\",\"ticks\":\"\"},\"baxis\":{\"gridcolor\":\"white\",\"linecolor\":\"white\",\"ticks\":\"\"},\"caxis\":{\"gridcolor\":\"white\",\"linecolor\":\"white\",\"ticks\":\"\"}},\"coloraxis\":{\"colorbar\":{\"outlinewidth\":0,\"ticks\":\"\"}},\"colorscale\":{\"sequential\":[[0.0,\"#0d0887\"],[0.1111111111111111,\"#46039f\"],[0.2222222222222222,\"#7201a8\"],[0.3333333333333333,\"#9c179e\"],[0.4444444444444444,\"#bd3786\"],[0.5555555555555556,\"#d8576b\"],[0.6666666666666666,\"#ed7953\"],[0.7777777777777778,\"#fb9f3a\"],[0.8888888888888888,\"#fdca26\"],[1.0,\"#f0f921\"]],\"sequentialminus\":[[0.0,\"#0d0887\"],[0.1111111111111111,\"#46039f\"],[0.2222222222222222,\"#7201a8\"],[0.3333333333333333,\"#9c179e\"],[0.4444444444444444,\"#bd3786\"],[0.5555555555555556,\"#d8576b\"],[0.6666666666666666,\"#ed7953\"],[0.7777777777777778,\"#fb9f3a\"],[0.8888888888888888,\"#fdca26\"],[1.0,\"#f0f921\"]],\"diverging\":[[0,\"#8e0152\"],[0.1,\"#c51b7d\"],[0.2,\"#de77ae\"],[0.3,\"#f1b6da\"],[0.4,\"#fde0ef\"],[0.5,\"#f7f7f7\"],[0.6,\"#e6f5d0\"],[0.7,\"#b8e186\"],[0.8,\"#7fbc41\"],[0.9,\"#4d9221\"],[1,\"#276419\"]]},\"xaxis\":{\"gridcolor\":\"white\",\"linecolor\":\"white\",\"ticks\":\"\",\"title\":{\"standoff\":15},\"zerolinecolor\":\"white\",\"automargin\":true,\"zerolinewidth\":2},\"yaxis\":{\"gridcolor\":\"white\",\"linecolor\":\"white\",\"ticks\":\"\",\"title\":{\"standoff\":15},\"zerolinecolor\":\"white\",\"automargin\":true,\"zerolinewidth\":2},\"scene\":{\"xaxis\":{\"backgroundcolor\":\"#E5ECF6\",\"gridcolor\":\"white\",\"linecolor\":\"white\",\"showbackground\":true,\"ticks\":\"\",\"zerolinecolor\":\"white\",\"gridwidth\":2},\"yaxis\":{\"backgroundcolor\":\"#E5ECF6\",\"gridcolor\":\"white\",\"linecolor\":\"white\",\"showbackground\":true,\"ticks\":\"\",\"zerolinecolor\":\"white\",\"gridwidth\":2},\"zaxis\":{\"backgroundcolor\":\"#E5ECF6\",\"gridcolor\":\"white\",\"linecolor\":\"white\",\"showbackground\":true,\"ticks\":\"\",\"zerolinecolor\":\"white\",\"gridwidth\":2}},\"shapedefaults\":{\"line\":{\"color\":\"#2a3f5f\"}},\"annotationdefaults\":{\"arrowcolor\":\"#2a3f5f\",\"arrowhead\":0,\"arrowwidth\":1},\"geo\":{\"bgcolor\":\"white\",\"landcolor\":\"#E5ECF6\",\"subunitcolor\":\"white\",\"showland\":true,\"showlakes\":true,\"lakecolor\":\"white\"},\"title\":{\"x\":0.05},\"mapbox\":{\"style\":\"light\"}}},\"scene\":{\"domain\":{\"x\":[0.0,1.0],\"y\":[0.0,1.0]},\"xaxis\":{\"title\":{\"text\":\"Confirmed\"}},\"yaxis\":{\"title\":{\"text\":\"Deaths\"}},\"zaxis\":{\"title\":{\"text\":\"Recovered\"}}},\"coloraxis\":{\"colorbar\":{\"title\":{\"text\":\"Cluster\"}},\"colorscale\":[[0.0,\"#0d0887\"],[0.1111111111111111,\"#46039f\"],[0.2222222222222222,\"#7201a8\"],[0.3333333333333333,\"#9c179e\"],[0.4444444444444444,\"#bd3786\"],[0.5555555555555556,\"#d8576b\"],[0.6666666666666666,\"#ed7953\"],[0.7777777777777778,\"#fb9f3a\"],[0.8888888888888888,\"#fdca26\"],[1.0,\"#f0f921\"]]},\"legend\":{\"tracegroupgap\":0},\"margin\":{\"t\":60}},                        {\"responsive\": true}                    ).then(function(){\n                            \nvar gd = document.getElementById('c25e52ec-097f-40e7-b856-0afbcf6f75f7');\nvar x = new MutationObserver(function (mutations, observer) {{\n        var display = window.getComputedStyle(gd).display;\n        if (!display || display === 'none') {{\n            console.log([gd, 'removed!']);\n            Plotly.purge(gd);\n            observer.disconnect();\n        }}\n}});\n\n// Listen for the removal of the full notebook cells\nvar notebookContainer = gd.closest('#notebook-container');\nif (notebookContainer) {{\n    x.observe(notebookContainer, {childList: true});\n}}\n\n// Listen for the clearing of the current output cell\nvar outputEl = gd.closest('.output');\nif (outputEl) {{\n    x.observe(outputEl, {childList: true});\n}}\n\n                        })                };                            </script>        </div>\n</body>\n</html>"
          },
          "metadata": {},
          "output_type": "display_data"
        }
      ]
    },
    {
      "cell_type": "code",
      "metadata": {
        "cell_id": "7c173b336ee54b1d90e35a865e6c6879",
        "tags": [],
        "deepnote_to_be_reexecuted": false,
        "source_hash": "8952be7d",
        "execution_start": 1657467520252,
        "execution_millis": 25,
        "deepnote_cell_type": "code",
        "deepnote_cell_height": 372,
        "id": "AIZ3J1eb9TAy",
        "outputId": "dfb9228f-b4ea-4ec3-d8cd-6def0aac9cb0"
      },
      "source": [
        "df_out_medoid = df_kmedoid.groupby(by = 'Cluster').sum()[['Confirmed','Deaths', 'Recovered']].reset_index()\n",
        "df_out_medoid"
      ],
      "execution_count": null,
      "outputs": [
        {
          "output_type": "execute_result",
          "execution_count": 33,
          "data": {
            "application/vnd.deepnote.dataframe.v3+json": {
              "column_count": 4,
              "row_count": 4,
              "columns": [
                {
                  "name": "Cluster",
                  "dtype": "int64",
                  "stats": {
                    "unique_count": 4,
                    "nan_count": 0,
                    "min": "1",
                    "max": "4",
                    "histogram": [
                      {
                        "bin_start": 1,
                        "bin_end": 1.3,
                        "count": 1
                      },
                      {
                        "bin_start": 1.3,
                        "bin_end": 1.6,
                        "count": 0
                      },
                      {
                        "bin_start": 1.6,
                        "bin_end": 1.9,
                        "count": 0
                      },
                      {
                        "bin_start": 1.9,
                        "bin_end": 2.2,
                        "count": 1
                      },
                      {
                        "bin_start": 2.2,
                        "bin_end": 2.5,
                        "count": 0
                      },
                      {
                        "bin_start": 2.5,
                        "bin_end": 2.8,
                        "count": 0
                      },
                      {
                        "bin_start": 2.8,
                        "bin_end": 3.1,
                        "count": 1
                      },
                      {
                        "bin_start": 3.1,
                        "bin_end": 3.4,
                        "count": 0
                      },
                      {
                        "bin_start": 3.4,
                        "bin_end": 3.6999999999999997,
                        "count": 0
                      },
                      {
                        "bin_start": 3.6999999999999997,
                        "bin_end": 4,
                        "count": 1
                      }
                    ]
                  }
                },
                {
                  "name": "Confirmed",
                  "dtype": "float64",
                  "stats": {
                    "unique_count": 4,
                    "nan_count": 0,
                    "min": "530456968.0",
                    "max": "19897202311.0",
                    "histogram": [
                      {
                        "bin_start": 530456968,
                        "bin_end": 2467131502.3,
                        "count": 1
                      },
                      {
                        "bin_start": 2467131502.3,
                        "bin_end": 4403806036.6,
                        "count": 2
                      },
                      {
                        "bin_start": 4403806036.6,
                        "bin_end": 6340480570.9,
                        "count": 0
                      },
                      {
                        "bin_start": 6340480570.9,
                        "bin_end": 8277155105.2,
                        "count": 0
                      },
                      {
                        "bin_start": 8277155105.2,
                        "bin_end": 10213829639.5,
                        "count": 0
                      },
                      {
                        "bin_start": 10213829639.5,
                        "bin_end": 12150504173.8,
                        "count": 0
                      },
                      {
                        "bin_start": 12150504173.8,
                        "bin_end": 14087178708.1,
                        "count": 0
                      },
                      {
                        "bin_start": 14087178708.1,
                        "bin_end": 16023853242.4,
                        "count": 0
                      },
                      {
                        "bin_start": 16023853242.4,
                        "bin_end": 17960527776.7,
                        "count": 0
                      },
                      {
                        "bin_start": 17960527776.7,
                        "bin_end": 19897202311,
                        "count": 1
                      }
                    ]
                  }
                },
                {
                  "name": "Deaths",
                  "dtype": "float64",
                  "stats": {
                    "unique_count": 4,
                    "nan_count": 0,
                    "min": "8943667.0",
                    "max": "493121339.0",
                    "histogram": [
                      {
                        "bin_start": 8943667,
                        "bin_end": 57361434.2,
                        "count": 2
                      },
                      {
                        "bin_start": 57361434.2,
                        "bin_end": 105779201.4,
                        "count": 1
                      },
                      {
                        "bin_start": 105779201.4,
                        "bin_end": 154196968.60000002,
                        "count": 0
                      },
                      {
                        "bin_start": 154196968.60000002,
                        "bin_end": 202614735.8,
                        "count": 0
                      },
                      {
                        "bin_start": 202614735.8,
                        "bin_end": 251032503,
                        "count": 0
                      },
                      {
                        "bin_start": 251032503,
                        "bin_end": 299450270.20000005,
                        "count": 0
                      },
                      {
                        "bin_start": 299450270.20000005,
                        "bin_end": 347868037.40000004,
                        "count": 0
                      },
                      {
                        "bin_start": 347868037.40000004,
                        "bin_end": 396285804.6,
                        "count": 0
                      },
                      {
                        "bin_start": 396285804.6,
                        "bin_end": 444703571.8,
                        "count": 0
                      },
                      {
                        "bin_start": 444703571.8,
                        "bin_end": 493121339,
                        "count": 1
                      }
                    ]
                  }
                },
                {
                  "name": "Recovered",
                  "dtype": "float64",
                  "stats": {
                    "unique_count": 4,
                    "nan_count": 0,
                    "min": "426450664.0",
                    "max": "10686262102.0",
                    "histogram": [
                      {
                        "bin_start": 426450664,
                        "bin_end": 1452431807.8,
                        "count": 1
                      },
                      {
                        "bin_start": 1452431807.8,
                        "bin_end": 2478412951.6,
                        "count": 2
                      },
                      {
                        "bin_start": 2478412951.6,
                        "bin_end": 3504394095.3999996,
                        "count": 0
                      },
                      {
                        "bin_start": 3504394095.3999996,
                        "bin_end": 4530375239.2,
                        "count": 0
                      },
                      {
                        "bin_start": 4530375239.2,
                        "bin_end": 5556356383,
                        "count": 0
                      },
                      {
                        "bin_start": 5556356383,
                        "bin_end": 6582337526.799999,
                        "count": 0
                      },
                      {
                        "bin_start": 6582337526.799999,
                        "bin_end": 7608318670.599999,
                        "count": 0
                      },
                      {
                        "bin_start": 7608318670.599999,
                        "bin_end": 8634299814.4,
                        "count": 0
                      },
                      {
                        "bin_start": 8634299814.4,
                        "bin_end": 9660280958.199999,
                        "count": 0
                      },
                      {
                        "bin_start": 9660280958.199999,
                        "bin_end": 10686262102,
                        "count": 1
                      }
                    ]
                  }
                },
                {
                  "name": "_deepnote_index_column",
                  "dtype": "int64"
                }
              ],
              "rows": [
                {
                  "Cluster": 1,
                  "Confirmed": 530456968,
                  "Deaths": 8943667,
                  "Recovered": 426450664,
                  "_deepnote_index_column": 0
                },
                {
                  "Cluster": 2,
                  "Confirmed": 2614674129,
                  "Deaths": 54448407,
                  "Recovered": 2270341583,
                  "_deepnote_index_column": 1
                },
                {
                  "Cluster": 3,
                  "Confirmed": 3209718350,
                  "Deaths": 67499604,
                  "Recovered": 2067183563,
                  "_deepnote_index_column": 2
                },
                {
                  "Cluster": 4,
                  "Confirmed": 19897202311,
                  "Deaths": 493121339,
                  "Recovered": 10686262102,
                  "_deepnote_index_column": 3
                }
              ]
            },
            "text/plain": "   Cluster     Confirmed       Deaths     Recovered\n0        1  5.304570e+08    8943667.0  4.264507e+08\n1        2  2.614674e+09   54448407.0  2.270342e+09\n2        3  3.209718e+09   67499604.0  2.067184e+09\n3        4  1.989720e+10  493121339.0  1.068626e+10",
            "text/html": "<div>\n<style scoped>\n    .dataframe tbody tr th:only-of-type {\n        vertical-align: middle;\n    }\n\n    .dataframe tbody tr th {\n        vertical-align: top;\n    }\n\n    .dataframe thead th {\n        text-align: right;\n    }\n</style>\n<table border=\"1\" class=\"dataframe\">\n  <thead>\n    <tr style=\"text-align: right;\">\n      <th></th>\n      <th>Cluster</th>\n      <th>Confirmed</th>\n      <th>Deaths</th>\n      <th>Recovered</th>\n    </tr>\n  </thead>\n  <tbody>\n    <tr>\n      <th>0</th>\n      <td>1</td>\n      <td>5.304570e+08</td>\n      <td>8943667.0</td>\n      <td>4.264507e+08</td>\n    </tr>\n    <tr>\n      <th>1</th>\n      <td>2</td>\n      <td>2.614674e+09</td>\n      <td>54448407.0</td>\n      <td>2.270342e+09</td>\n    </tr>\n    <tr>\n      <th>2</th>\n      <td>3</td>\n      <td>3.209718e+09</td>\n      <td>67499604.0</td>\n      <td>2.067184e+09</td>\n    </tr>\n    <tr>\n      <th>3</th>\n      <td>4</td>\n      <td>1.989720e+10</td>\n      <td>493121339.0</td>\n      <td>1.068626e+10</td>\n    </tr>\n  </tbody>\n</table>\n</div>"
          },
          "metadata": {}
        }
      ]
    },
    {
      "cell_type": "code",
      "metadata": {
        "cell_id": "e93dd40927254db8b2b7e90c48c29441",
        "tags": [],
        "deepnote_to_be_reexecuted": false,
        "source_hash": "56a7ad0b",
        "execution_start": 1657467520299,
        "execution_millis": 431,
        "deepnote_cell_type": "code",
        "deepnote_cell_height": 445.015625,
        "deepnote_output_heights": [
          222.015625
        ],
        "id": "VVE7auX-9TAy",
        "outputId": "5c2e5cf1-1668-4750-fabc-334666cbb0c8"
      },
      "source": [
        "plt.figure(figsize = (18,4))\n",
        "plt.subplot(1,3,1)\n",
        "sns.barplot(x= 'Cluster',y = 'Confirmed', data = df_out_medoid)\n",
        "plt.subplot(1,3,2)\n",
        "sns.barplot(x= 'Cluster',y = 'Deaths', data = df_out_medoid)\n",
        "plt.subplot(1,3,3)\n",
        "sns.barplot(x= 'Cluster',y = 'Recovered', data = df_out_medoid)\n",
        "plt.show()"
      ],
      "execution_count": null,
      "outputs": [
        {
          "data": {
            "text/plain": "<Figure size 1296x288 with 3 Axes>",
            "image/png": "[encoded data removed]"
          },
          "metadata": {
            "image/png": {
              "width": 1065,
              "height": 276
            }
          },
          "output_type": "display_data"
        }
      ]
    },
    {
      "cell_type": "code",
      "metadata": {
        "cell_id": "ee8b16078387426ca136ca1873d525a4",
        "tags": [],
        "deepnote_to_be_reexecuted": false,
        "source_hash": "4250e8cb",
        "execution_start": 1657467520731,
        "execution_millis": 23,
        "deepnote_cell_type": "code",
        "deepnote_cell_height": 416,
        "id": "jfImIgLo9TAz",
        "outputId": "44eed014-058c-451e-cca4-e62cc3e5ed15"
      },
      "source": [
        "# Perbandingan 2 model untuk nilai inertia dan silhouette dengan k = 4 di setiap model\n",
        "\n",
        "\n",
        "dfGen = lambda **x: pd.DataFrame(x)\n",
        "\n",
        "df_conclusion = dfGen(nilai_kmeans=[inertia[2], sh_list_mea[2]], nilai_kmedoid=[inertia_list[3], sh_list_med[2]])\n",
        "df_conclusion.rename({0:'Inertia Score', 1:'Silhouette Score'}, axis = 0, inplace=True)\n",
        "\n",
        "df_conclusion"
      ],
      "execution_count": null,
      "outputs": [
        {
          "output_type": "execute_result",
          "execution_count": 35,
          "data": {
            "application/vnd.deepnote.dataframe.v3+json": {
              "column_count": 2,
              "row_count": 2,
              "columns": [
                {
                  "name": "nilai_kmeans",
                  "dtype": "float64",
                  "stats": {
                    "unique_count": 2,
                    "nan_count": 0,
                    "min": "0.2976887477409753",
                    "max": "0.8738259082028882",
                    "histogram": [
                      {
                        "bin_start": 0.2976887477409753,
                        "bin_end": 0.3553024637871666,
                        "count": 1
                      },
                      {
                        "bin_start": 0.3553024637871666,
                        "bin_end": 0.4129161798333579,
                        "count": 0
                      },
                      {
                        "bin_start": 0.4129161798333579,
                        "bin_end": 0.4705298958795492,
                        "count": 0
                      },
                      {
                        "bin_start": 0.4705298958795492,
                        "bin_end": 0.5281436119257404,
                        "count": 0
                      },
                      {
                        "bin_start": 0.5281436119257404,
                        "bin_end": 0.5857573279719317,
                        "count": 0
                      },
                      {
                        "bin_start": 0.5857573279719317,
                        "bin_end": 0.6433710440181231,
                        "count": 0
                      },
                      {
                        "bin_start": 0.6433710440181231,
                        "bin_end": 0.7009847600643143,
                        "count": 0
                      },
                      {
                        "bin_start": 0.7009847600643143,
                        "bin_end": 0.7585984761105056,
                        "count": 0
                      },
                      {
                        "bin_start": 0.7585984761105056,
                        "bin_end": 0.8162121921566969,
                        "count": 0
                      },
                      {
                        "bin_start": 0.8162121921566969,
                        "bin_end": 0.8738259082028882,
                        "count": 1
                      }
                    ]
                  }
                },
                {
                  "name": "nilai_kmedoid",
                  "dtype": "float64",
                  "stats": {
                    "unique_count": 2,
                    "nan_count": 0,
                    "min": "0.6054395622647571",
                    "max": "5.467465552055652",
                    "histogram": [
                      {
                        "bin_start": 0.6054395622647571,
                        "bin_end": 1.0916421612438465,
                        "count": 1
                      },
                      {
                        "bin_start": 1.0916421612438465,
                        "bin_end": 1.577844760222936,
                        "count": 0
                      },
                      {
                        "bin_start": 1.577844760222936,
                        "bin_end": 2.0640473592020254,
                        "count": 0
                      },
                      {
                        "bin_start": 2.0640473592020254,
                        "bin_end": 2.550249958181115,
                        "count": 0
                      },
                      {
                        "bin_start": 2.550249958181115,
                        "bin_end": 3.0364525571602043,
                        "count": 0
                      },
                      {
                        "bin_start": 3.0364525571602043,
                        "bin_end": 3.522655156139294,
                        "count": 0
                      },
                      {
                        "bin_start": 3.522655156139294,
                        "bin_end": 4.008857755118384,
                        "count": 0
                      },
                      {
                        "bin_start": 4.008857755118384,
                        "bin_end": 4.495060354097473,
                        "count": 0
                      },
                      {
                        "bin_start": 4.495060354097473,
                        "bin_end": 4.981262953076562,
                        "count": 0
                      },
                      {
                        "bin_start": 4.981262953076562,
                        "bin_end": 5.467465552055652,
                        "count": 1
                      }
                    ]
                  }
                },
                {
                  "name": "_deepnote_index_column",
                  "dtype": "object"
                }
              ],
              "rows": [
                {
                  "nilai_kmeans": 0.2976887477409753,
                  "nilai_kmedoid": 5.467465552055652,
                  "_deepnote_index_column": "Inertia Score"
                },
                {
                  "nilai_kmeans": 0.8738259082028882,
                  "nilai_kmedoid": 0.6054395622647571,
                  "_deepnote_index_column": "Silhouette Score"
                }
              ]
            },
            "text/plain": "                  nilai_kmeans  nilai_kmedoid\nInertia Score         0.297689       5.467466\nSilhouette Score      0.873826       0.605440",
            "text/html": "<div>\n<style scoped>\n    .dataframe tbody tr th:only-of-type {\n        vertical-align: middle;\n    }\n\n    .dataframe tbody tr th {\n        vertical-align: top;\n    }\n\n    .dataframe thead th {\n        text-align: right;\n    }\n</style>\n<table border=\"1\" class=\"dataframe\">\n  <thead>\n    <tr style=\"text-align: right;\">\n      <th></th>\n      <th>nilai_kmeans</th>\n      <th>nilai_kmedoid</th>\n    </tr>\n  </thead>\n  <tbody>\n    <tr>\n      <th>Inertia Score</th>\n      <td>0.297689</td>\n      <td>5.467466</td>\n    </tr>\n    <tr>\n      <th>Silhouette Score</th>\n      <td>0.873826</td>\n      <td>0.605440</td>\n    </tr>\n  </tbody>\n</table>\n</div>"
          },
          "metadata": {}
        }
      ]
    },
    {
      "cell_type": "markdown",
      "source": [
        "##### Conclusion Model : \n",
        "Jadi, untuk model yang dapat dibilang memiliki performa yang baik adalah model clustering K-MEANS berdasarkan :\n",
        "- Nilai Inertia K-MEANS lebih rendah dari nilai Inertia K-MEDOID  \n",
        "- Nilai Silhouette K-MEANS lebih tinggi dari nilai Silhouette K-MEDOID "
      ],
      "metadata": {
        "cell_id": "ab6ff8b6a21f44f9a3ae074c24aef3ba",
        "tags": [],
        "deepnote_cell_type": "markdown",
        "deepnote_cell_height": 164.171875,
        "id": "SLskE0jR9TAz"
      }
    },
    {
      "cell_type": "markdown",
      "source": [
        "# Conclusion Clustering Case Project"
      ],
      "metadata": {
        "cell_id": "14de8ccf9657446883c901cfec301b4a",
        "tags": [],
        "deepnote_cell_type": "markdown",
        "deepnote_cell_height": 82,
        "id": "PIh_YlEX9TA0"
      }
    },
    {
      "cell_type": "markdown",
      "source": [
        "1. Kesimpulan: Terdapat 4 kluster optimal yang mana dapat merepresentasikan tiap-tiap segmen pasien Covid-19 berdasarkan wilayahnya."
      ],
      "metadata": {
        "formattedRanges": [],
        "cell_id": "b8c693f4e6034f3bb208d8a576f5dffd",
        "tags": [],
        "is_collapsed": false,
        "deepnote_cell_type": "text-cell-p",
        "id": "Ck4dkxcu9TA0"
      }
    },
    {
      "cell_type": "markdown",
      "source": [
        "2. Solusi: Walaupun analisa yang dilakukan menggunakan data terbatas. Solusi utama seperti konsep social distancing, pemakaian masker, dan mencuci tangan telah mendukung permasalahan ini. Namun, apabila dilihat dari aspek-aspek eksternal lainnya dibidang inovasi teknologi juga dapat diterapkan. Beberapa inovasi teknologi yang dapat diimplementasikan seperti online payment, interactive vending machines, online conference platform, Hal ini dapat memberikan inovasi bisnis baru."
      ],
      "metadata": {
        "formattedRanges": [],
        "cell_id": "357e3dbac8574ca09bfa3fb87c72f73c",
        "tags": [],
        "is_collapsed": false,
        "deepnote_cell_type": "text-cell-p",
        "id": "xiYwDe0B9TA1"
      }
    },
    {
      "cell_type": "markdown",
      "source": [
        "3. Rekomendasi: percobaan ini hanya berdasarkan jumlah kumulatif kasus pasien Covid-19 tiap negara. Alangkah baiknya, terdapat data-data pendukung yang dapat menjadi faktor-faktor analisa seperti demografis, kondisi lingkungan, iklim, human behaviour, dan hal-hal yang bersifat representatif lainnya."
      ],
      "metadata": {
        "formattedRanges": [],
        "cell_id": "7aed648b37f44a729c110ad70219d972",
        "tags": [],
        "is_collapsed": false,
        "owner_user_id": "176e89d5-804e-4fe4-b356-3fe3f090c624",
        "deepnote_cell_type": "text-cell-p",
        "id": "NykgQrJV9TA1"
      }
    },
    {
      "cell_type": "markdown",
      "source": [
        "# Forecasting Case Project"
      ],
      "metadata": {
        "cell_id": "525804dcdc8947cf80895827e1a4fc6e",
        "tags": [],
        "deepnote_cell_type": "markdown",
        "deepnote_cell_height": 82,
        "id": "PRTS_lYF9TA2"
      }
    },
    {
      "cell_type": "markdown",
      "source": [
        "## Exponential Smoothing"
      ],
      "metadata": {
        "cell_id": "3c411e67222f45d182de21d95cffd0c0",
        "tags": [],
        "deepnote_cell_type": "markdown",
        "deepnote_cell_height": 70,
        "id": "bR4ohD8I9TA2"
      }
    },
    {
      "cell_type": "code",
      "source": [
        "from datetime import datetime"
      ],
      "metadata": {
        "cell_id": "d37b6e47dd5a4d5ea50d36462ca89e22",
        "tags": [],
        "deepnote_to_be_reexecuted": false,
        "source_hash": "8f01c635",
        "execution_start": 1657467520757,
        "execution_millis": 6,
        "deepnote_cell_type": "code",
        "deepnote_cell_height": 81,
        "id": "PJnMO7T39TA3"
      },
      "outputs": [],
      "execution_count": null
    },
    {
      "cell_type": "code",
      "source": [
        "pip install statsmodels"
      ],
      "metadata": {
        "cell_id": "c2e3fee60f24467b96a130008656c6cc",
        "tags": [],
        "deepnote_to_be_reexecuted": false,
        "source_hash": "7a48438e",
        "execution_start": 1657467520764,
        "execution_millis": 2799,
        "deepnote_cell_type": "code",
        "deepnote_cell_height": 545,
        "id": "9y9tKI4K9TA3",
        "outputId": "1a05df74-7785-40a4-883f-ec7547babfab"
      },
      "outputs": [
        {
          "name": "stdout",
          "text": "Requirement already satisfied: statsmodels in /usr/local/lib/python3.9/site-packages (0.13.2)\nRequirement already satisfied: numpy>=1.17 in /shared-libs/python3.9/py/lib/python3.9/site-packages (from statsmodels) (1.22.4)\nRequirement already satisfied: pandas>=0.25 in /shared-libs/python3.9/py/lib/python3.9/site-packages (from statsmodels) (1.2.5)\nRequirement already satisfied: patsy>=0.5.2 in /usr/local/lib/python3.9/site-packages (from statsmodels) (0.5.2)\nRequirement already satisfied: packaging>=21.3 in /shared-libs/python3.9/py/lib/python3.9/site-packages (from statsmodels) (21.3)\nRequirement already satisfied: scipy>=1.3 in /shared-libs/python3.9/py/lib/python3.9/site-packages (from statsmodels) (1.8.1)\nRequirement already satisfied: pyparsing!=3.0.5,>=2.0.2 in /shared-libs/python3.9/py/lib/python3.9/site-packages (from packaging>=21.3->statsmodels) (3.0.9)\nRequirement already satisfied: pytz>=2017.3 in /shared-libs/python3.9/py/lib/python3.9/site-packages (from pandas>=0.25->statsmodels) (2022.1)\nRequirement already satisfied: python-dateutil>=2.7.3 in /shared-libs/python3.9/py-core/lib/python3.9/site-packages (from pandas>=0.25->statsmodels) (2.8.2)\nRequirement already satisfied: six in /shared-libs/python3.9/py-core/lib/python3.9/site-packages (from patsy>=0.5.2->statsmodels) (1.16.0)\n\u001b[33mWARNING: Running pip as the 'root' user can result in broken permissions and conflicting behaviour with the system package manager. It is recommended to use a virtual environment instead: https://pip.pypa.io/warnings/venv\u001b[0m\u001b[33m\n\u001b[0m\u001b[33mWARNING: You are using pip version 22.0.4; however, version 22.1.2 is available.\nYou should consider upgrading via the '/usr/local/bin/python -m pip install --upgrade pip' command.\u001b[0m\u001b[33m\n\u001b[0mNote: you may need to restart the kernel to use updated packages.\n",
          "output_type": "stream"
        }
      ],
      "execution_count": null
    },
    {
      "cell_type": "code",
      "metadata": {
        "cell_id": "d8e9060b90104228b9babb3fc84d1fbc",
        "tags": [],
        "deepnote_to_be_reexecuted": false,
        "source_hash": "454a86fe",
        "execution_start": 1657467523564,
        "execution_millis": 416,
        "deepnote_cell_type": "code",
        "deepnote_cell_height": 431,
        "id": "PwaKvwJK9TA3",
        "outputId": "0b01c023-95b7-4766-8ba6-e136e1ef7e40"
      },
      "source": [
        "df = pd.read_csv('https://raw.githubusercontent.com/Faiqazmi/Dataset_latihan/main/covid_19_data.csv')\n",
        "df = df[['ObservationDate', 'Confirmed', 'Deaths', 'Recovered']]\n",
        "df.head()"
      ],
      "execution_count": null,
      "outputs": [
        {
          "output_type": "execute_result",
          "execution_count": 38,
          "data": {
            "application/vnd.deepnote.dataframe.v3+json": {
              "column_count": 4,
              "row_count": 5,
              "columns": [
                {
                  "name": "ObservationDate",
                  "dtype": "object",
                  "stats": {
                    "unique_count": 1,
                    "nan_count": 0,
                    "categories": [
                      {
                        "name": "01/22/2020",
                        "count": 5
                      }
                    ]
                  }
                },
                {
                  "name": "Confirmed",
                  "dtype": "float64",
                  "stats": {
                    "unique_count": 4,
                    "nan_count": 0,
                    "min": "0.0",
                    "max": "14.0",
                    "histogram": [
                      {
                        "bin_start": 0,
                        "bin_end": 1.4,
                        "count": 3
                      },
                      {
                        "bin_start": 1.4,
                        "bin_end": 2.8,
                        "count": 0
                      },
                      {
                        "bin_start": 2.8,
                        "bin_end": 4.199999999999999,
                        "count": 0
                      },
                      {
                        "bin_start": 4.199999999999999,
                        "bin_end": 5.6,
                        "count": 0
                      },
                      {
                        "bin_start": 5.6,
                        "bin_end": 7,
                        "count": 1
                      },
                      {
                        "bin_start": 7,
                        "bin_end": 8.399999999999999,
                        "count": 0
                      },
                      {
                        "bin_start": 8.399999999999999,
                        "bin_end": 9.799999999999999,
                        "count": 0
                      },
                      {
                        "bin_start": 9.799999999999999,
                        "bin_end": 11.2,
                        "count": 0
                      },
                      {
                        "bin_start": 11.2,
                        "bin_end": 12.6,
                        "count": 0
                      },
                      {
                        "bin_start": 12.6,
                        "bin_end": 14,
                        "count": 1
                      }
                    ]
                  }
                },
                {
                  "name": "Deaths",
                  "dtype": "float64",
                  "stats": {
                    "unique_count": 1,
                    "nan_count": 0,
                    "min": "0.0",
                    "max": "0.0",
                    "histogram": [
                      {
                        "bin_start": -0.5,
                        "bin_end": -0.4,
                        "count": 0
                      },
                      {
                        "bin_start": -0.4,
                        "bin_end": -0.3,
                        "count": 0
                      },
                      {
                        "bin_start": -0.3,
                        "bin_end": -0.19999999999999996,
                        "count": 0
                      },
                      {
                        "bin_start": -0.19999999999999996,
                        "bin_end": -0.09999999999999998,
                        "count": 0
                      },
                      {
                        "bin_start": -0.09999999999999998,
                        "bin_end": 0,
                        "count": 0
                      },
                      {
                        "bin_start": 0,
                        "bin_end": 0.10000000000000009,
                        "count": 5
                      },
                      {
                        "bin_start": 0.10000000000000009,
                        "bin_end": 0.20000000000000007,
                        "count": 0
                      },
                      {
                        "bin_start": 0.20000000000000007,
                        "bin_end": 0.30000000000000004,
                        "count": 0
                      },
                      {
                        "bin_start": 0.30000000000000004,
                        "bin_end": 0.4,
                        "count": 0
                      },
                      {
                        "bin_start": 0.4,
                        "bin_end": 0.5,
                        "count": 0
                      }
                    ]
                  }
                },
                {
                  "name": "Recovered",
                  "dtype": "float64",
                  "stats": {
                    "unique_count": 1,
                    "nan_count": 0,
                    "min": "0.0",
                    "max": "0.0",
                    "histogram": [
                      {
                        "bin_start": -0.5,
                        "bin_end": -0.4,
                        "count": 0
                      },
                      {
                        "bin_start": -0.4,
                        "bin_end": -0.3,
                        "count": 0
                      },
                      {
                        "bin_start": -0.3,
                        "bin_end": -0.19999999999999996,
                        "count": 0
                      },
                      {
                        "bin_start": -0.19999999999999996,
                        "bin_end": -0.09999999999999998,
                        "count": 0
                      },
                      {
                        "bin_start": -0.09999999999999998,
                        "bin_end": 0,
                        "count": 0
                      },
                      {
                        "bin_start": 0,
                        "bin_end": 0.10000000000000009,
                        "count": 5
                      },
                      {
                        "bin_start": 0.10000000000000009,
                        "bin_end": 0.20000000000000007,
                        "count": 0
                      },
                      {
                        "bin_start": 0.20000000000000007,
                        "bin_end": 0.30000000000000004,
                        "count": 0
                      },
                      {
                        "bin_start": 0.30000000000000004,
                        "bin_end": 0.4,
                        "count": 0
                      },
                      {
                        "bin_start": 0.4,
                        "bin_end": 0.5,
                        "count": 0
                      }
                    ]
                  }
                },
                {
                  "name": "_deepnote_index_column",
                  "dtype": "int64"
                }
              ],
              "rows": [
                {
                  "ObservationDate": "01/22/2020",
                  "Confirmed": 1,
                  "Deaths": 0,
                  "Recovered": 0,
                  "_deepnote_index_column": 0
                },
                {
                  "ObservationDate": "01/22/2020",
                  "Confirmed": 14,
                  "Deaths": 0,
                  "Recovered": 0,
                  "_deepnote_index_column": 1
                },
                {
                  "ObservationDate": "01/22/2020",
                  "Confirmed": 6,
                  "Deaths": 0,
                  "Recovered": 0,
                  "_deepnote_index_column": 2
                },
                {
                  "ObservationDate": "01/22/2020",
                  "Confirmed": 1,
                  "Deaths": 0,
                  "Recovered": 0,
                  "_deepnote_index_column": 3
                },
                {
                  "ObservationDate": "01/22/2020",
                  "Confirmed": 0,
                  "Deaths": 0,
                  "Recovered": 0,
                  "_deepnote_index_column": 4
                }
              ]
            },
            "text/plain": "  ObservationDate  Confirmed  Deaths  Recovered\n0      01/22/2020        1.0     0.0        0.0\n1      01/22/2020       14.0     0.0        0.0\n2      01/22/2020        6.0     0.0        0.0\n3      01/22/2020        1.0     0.0        0.0\n4      01/22/2020        0.0     0.0        0.0",
            "text/html": "<div>\n<style scoped>\n    .dataframe tbody tr th:only-of-type {\n        vertical-align: middle;\n    }\n\n    .dataframe tbody tr th {\n        vertical-align: top;\n    }\n\n    .dataframe thead th {\n        text-align: right;\n    }\n</style>\n<table border=\"1\" class=\"dataframe\">\n  <thead>\n    <tr style=\"text-align: right;\">\n      <th></th>\n      <th>ObservationDate</th>\n      <th>Confirmed</th>\n      <th>Deaths</th>\n      <th>Recovered</th>\n    </tr>\n  </thead>\n  <tbody>\n    <tr>\n      <th>0</th>\n      <td>01/22/2020</td>\n      <td>1.0</td>\n      <td>0.0</td>\n      <td>0.0</td>\n    </tr>\n    <tr>\n      <th>1</th>\n      <td>01/22/2020</td>\n      <td>14.0</td>\n      <td>0.0</td>\n      <td>0.0</td>\n    </tr>\n    <tr>\n      <th>2</th>\n      <td>01/22/2020</td>\n      <td>6.0</td>\n      <td>0.0</td>\n      <td>0.0</td>\n    </tr>\n    <tr>\n      <th>3</th>\n      <td>01/22/2020</td>\n      <td>1.0</td>\n      <td>0.0</td>\n      <td>0.0</td>\n    </tr>\n    <tr>\n      <th>4</th>\n      <td>01/22/2020</td>\n      <td>0.0</td>\n      <td>0.0</td>\n      <td>0.0</td>\n    </tr>\n  </tbody>\n</table>\n</div>"
          },
          "metadata": {}
        }
      ]
    },
    {
      "cell_type": "markdown",
      "source": [
        "### Data Preprocessing"
      ],
      "metadata": {
        "cell_id": "8da3c69c1d3a4f1fa1bc5bd7b6c75851",
        "tags": [],
        "deepnote_cell_type": "markdown",
        "deepnote_cell_height": 62,
        "id": "Yp1V4MHl9TA4"
      }
    },
    {
      "cell_type": "code",
      "source": [
        "df['ObservationDate'] = df['ObservationDate'].map(lambda x : datetime.strptime(x, '%m/%d/%Y'))\n",
        "df.rename({'ObservationDate':'Time'}, axis=1, inplace=True)\n",
        "df['Confirmed'] = df['Confirmed'].astype('int')\n",
        "df['Deaths'] = df['Deaths'].astype('int')\n",
        "df['Recovered'] = df['Recovered'].astype('int')"
      ],
      "metadata": {
        "cell_id": "8d66eb4c5e414d5e9b48ebdfa7e6af93",
        "tags": [],
        "deepnote_to_be_reexecuted": false,
        "source_hash": "6367f475",
        "execution_start": 1657467524005,
        "execution_millis": 2093,
        "deepnote_cell_type": "code",
        "deepnote_cell_height": 153,
        "id": "gAKgpFKE9TA5"
      },
      "outputs": [],
      "execution_count": null
    },
    {
      "cell_type": "code",
      "source": [
        "df = df.groupby('Time').sum()\n",
        "df.head()"
      ],
      "metadata": {
        "cell_id": "2f41c6729be34d5581b49713c6bd86f5",
        "tags": [],
        "deepnote_to_be_reexecuted": false,
        "source_hash": "dc0373d6",
        "execution_start": 1657467526110,
        "execution_millis": 25,
        "deepnote_cell_type": "code",
        "deepnote_cell_height": 413,
        "id": "9HW5v0Ew9TA5",
        "outputId": "4afd0e58-f89d-419a-e965-ac68c96df0c1"
      },
      "outputs": [
        {
          "output_type": "execute_result",
          "execution_count": 40,
          "data": {
            "application/vnd.deepnote.dataframe.v3+json": {
              "column_count": 3,
              "row_count": 5,
              "columns": [
                {
                  "name": "Confirmed",
                  "dtype": "int64",
                  "stats": {
                    "unique_count": 5,
                    "nan_count": 0,
                    "min": "557",
                    "max": "2118",
                    "histogram": [
                      {
                        "bin_start": 557,
                        "bin_end": 713.1,
                        "count": 1
                      },
                      {
                        "bin_start": 713.1,
                        "bin_end": 869.2,
                        "count": 0
                      },
                      {
                        "bin_start": 869.2,
                        "bin_end": 1025.3,
                        "count": 1
                      },
                      {
                        "bin_start": 1025.3,
                        "bin_end": 1181.4,
                        "count": 1
                      },
                      {
                        "bin_start": 1181.4,
                        "bin_end": 1337.5,
                        "count": 0
                      },
                      {
                        "bin_start": 1337.5,
                        "bin_end": 1493.6,
                        "count": 1
                      },
                      {
                        "bin_start": 1493.6,
                        "bin_end": 1649.7,
                        "count": 0
                      },
                      {
                        "bin_start": 1649.7,
                        "bin_end": 1805.8,
                        "count": 0
                      },
                      {
                        "bin_start": 1805.8,
                        "bin_end": 1961.8999999999999,
                        "count": 0
                      },
                      {
                        "bin_start": 1961.8999999999999,
                        "bin_end": 2118,
                        "count": 1
                      }
                    ]
                  }
                },
                {
                  "name": "Deaths",
                  "dtype": "int64",
                  "stats": {
                    "unique_count": 5,
                    "nan_count": 0,
                    "min": "17",
                    "max": "56",
                    "histogram": [
                      {
                        "bin_start": 17,
                        "bin_end": 20.9,
                        "count": 1
                      },
                      {
                        "bin_start": 20.9,
                        "bin_end": 24.8,
                        "count": 0
                      },
                      {
                        "bin_start": 24.8,
                        "bin_end": 28.7,
                        "count": 1
                      },
                      {
                        "bin_start": 28.7,
                        "bin_end": 32.6,
                        "count": 0
                      },
                      {
                        "bin_start": 32.6,
                        "bin_end": 36.5,
                        "count": 1
                      },
                      {
                        "bin_start": 36.5,
                        "bin_end": 40.4,
                        "count": 0
                      },
                      {
                        "bin_start": 40.4,
                        "bin_end": 44.3,
                        "count": 1
                      },
                      {
                        "bin_start": 44.3,
                        "bin_end": 48.2,
                        "count": 0
                      },
                      {
                        "bin_start": 48.2,
                        "bin_end": 52.1,
                        "count": 0
                      },
                      {
                        "bin_start": 52.1,
                        "bin_end": 56,
                        "count": 1
                      }
                    ]
                  }
                },
                {
                  "name": "Recovered",
                  "dtype": "int64",
                  "stats": {
                    "unique_count": 5,
                    "nan_count": 0,
                    "min": "30",
                    "max": "60",
                    "histogram": [
                      {
                        "bin_start": 30,
                        "bin_end": 33,
                        "count": 1
                      },
                      {
                        "bin_start": 33,
                        "bin_end": 36,
                        "count": 0
                      },
                      {
                        "bin_start": 36,
                        "bin_end": 39,
                        "count": 0
                      },
                      {
                        "bin_start": 39,
                        "bin_end": 42,
                        "count": 1
                      },
                      {
                        "bin_start": 42,
                        "bin_end": 45,
                        "count": 1
                      },
                      {
                        "bin_start": 45,
                        "bin_end": 48,
                        "count": 0
                      },
                      {
                        "bin_start": 48,
                        "bin_end": 51,
                        "count": 0
                      },
                      {
                        "bin_start": 51,
                        "bin_end": 54,
                        "count": 0
                      },
                      {
                        "bin_start": 54,
                        "bin_end": 57,
                        "count": 1
                      },
                      {
                        "bin_start": 57,
                        "bin_end": 60,
                        "count": 1
                      }
                    ]
                  }
                },
                {
                  "name": "_deepnote_index_column",
                  "dtype": "datetime64[ns]"
                }
              ],
              "rows": [
                {
                  "Confirmed": 557,
                  "Deaths": 17,
                  "Recovered": 30,
                  "_deepnote_index_column": "2020-01-22T00:00:00.000000"
                },
                {
                  "Confirmed": 1097,
                  "Deaths": 34,
                  "Recovered": 60,
                  "_deepnote_index_column": "2020-01-23T00:00:00.000000"
                },
                {
                  "Confirmed": 941,
                  "Deaths": 26,
                  "Recovered": 39,
                  "_deepnote_index_column": "2020-01-24T00:00:00.000000"
                },
                {
                  "Confirmed": 1437,
                  "Deaths": 42,
                  "Recovered": 42,
                  "_deepnote_index_column": "2020-01-25T00:00:00.000000"
                },
                {
                  "Confirmed": 2118,
                  "Deaths": 56,
                  "Recovered": 56,
                  "_deepnote_index_column": "2020-01-26T00:00:00.000000"
                }
              ]
            },
            "text/plain": "            Confirmed  Deaths  Recovered\nTime                                    \n2020-01-22        557      17         30\n2020-01-23       1097      34         60\n2020-01-24        941      26         39\n2020-01-25       1437      42         42\n2020-01-26       2118      56         56",
            "text/html": "<div>\n<style scoped>\n    .dataframe tbody tr th:only-of-type {\n        vertical-align: middle;\n    }\n\n    .dataframe tbody tr th {\n        vertical-align: top;\n    }\n\n    .dataframe thead th {\n        text-align: right;\n    }\n</style>\n<table border=\"1\" class=\"dataframe\">\n  <thead>\n    <tr style=\"text-align: right;\">\n      <th></th>\n      <th>Confirmed</th>\n      <th>Deaths</th>\n      <th>Recovered</th>\n    </tr>\n    <tr>\n      <th>Time</th>\n      <th></th>\n      <th></th>\n      <th></th>\n    </tr>\n  </thead>\n  <tbody>\n    <tr>\n      <th>2020-01-22</th>\n      <td>557</td>\n      <td>17</td>\n      <td>30</td>\n    </tr>\n    <tr>\n      <th>2020-01-23</th>\n      <td>1097</td>\n      <td>34</td>\n      <td>60</td>\n    </tr>\n    <tr>\n      <th>2020-01-24</th>\n      <td>941</td>\n      <td>26</td>\n      <td>39</td>\n    </tr>\n    <tr>\n      <th>2020-01-25</th>\n      <td>1437</td>\n      <td>42</td>\n      <td>42</td>\n    </tr>\n    <tr>\n      <th>2020-01-26</th>\n      <td>2118</td>\n      <td>56</td>\n      <td>56</td>\n    </tr>\n  </tbody>\n</table>\n</div>"
          },
          "metadata": {}
        }
      ],
      "execution_count": null
    },
    {
      "cell_type": "code",
      "source": [
        "df_confirmed = df['Confirmed'].to_frame()\n",
        "df_deaths = df['Deaths'].to_frame()\n",
        "df_recovered = df['Recovered'].to_frame()"
      ],
      "metadata": {
        "cell_id": "a3a01943624a48e1add4f0d7a6b93a7a",
        "tags": [],
        "deepnote_to_be_reexecuted": false,
        "source_hash": "815cc44c",
        "execution_start": 1657467526140,
        "execution_millis": 0,
        "deepnote_cell_type": "code",
        "deepnote_cell_height": 117,
        "id": "UxqAju5Z9TA5"
      },
      "outputs": [],
      "execution_count": null
    },
    {
      "cell_type": "markdown",
      "source": [
        "### Modelling "
      ],
      "metadata": {
        "cell_id": "b4599f0172814091b483370fbabc4f99",
        "tags": [],
        "deepnote_cell_type": "markdown",
        "deepnote_cell_height": 62,
        "id": "OpUeZg1B9TA6"
      }
    },
    {
      "cell_type": "code",
      "source": [
        "from statsmodels.tsa.holtwinters import ExponentialSmoothing\n",
        "\n",
        "train_df_confirmed = df_confirmed.iloc[:298]\n",
        "test_df_confirmed = df_confirmed.iloc[297:]\n",
        "\n",
        "train_df_deaths = df_deaths.iloc[:298]\n",
        "test_df_deaths = df_deaths.iloc[297:]\n",
        "\n",
        "train_df_recovered = df_recovered.iloc[:298]\n",
        "test_df_recovered = df_recovered.iloc[297:]"
      ],
      "metadata": {
        "cell_id": "310865d9e5f34621b99104a67ace7fc5",
        "tags": [],
        "deepnote_to_be_reexecuted": false,
        "source_hash": "f2990ba9",
        "execution_start": 1657467526147,
        "execution_millis": 34,
        "deepnote_cell_type": "code",
        "deepnote_cell_height": 243,
        "id": "LcKRgchY9TA6"
      },
      "outputs": [],
      "execution_count": null
    },
    {
      "cell_type": "code",
      "source": [
        "# Confirmed\n",
        "fitted_model_confirmed = ExponentialSmoothing(train_df_confirmed['Confirmed'],\n",
        "                                   trend = 'add', # try mul\n",
        "                                   seasonal = 'add', # try mul\n",
        "                                   seasonal_periods = 12).fit()\n",
        "\n",
        "test_predictions_confirmed = fitted_model_confirmed.forecast(197)\n",
        "\n",
        "\n",
        "# Deaths\n",
        "fitted_model_deaths = ExponentialSmoothing(train_df_deaths['Deaths'],\n",
        "                                   trend = 'add', # try mul\n",
        "                                   seasonal = 'add', # try mul\n",
        "                                   seasonal_periods = 12).fit()\n",
        "\n",
        "test_predictions_deaths = fitted_model_deaths.forecast(197)\n",
        "\n",
        "\n",
        "\n",
        "# Recovered\n",
        "fitted_model_recovered = ExponentialSmoothing(train_df_recovered['Recovered'],\n",
        "                                   trend = 'add', # try mul\n",
        "                                   seasonal = 'add', # try mul\n",
        "                                   seasonal_periods = 12).fit()\n",
        "\n",
        "test_predictions_recovered = fitted_model_recovered.forecast(197)"
      ],
      "metadata": {
        "cell_id": "a3e7eb7f7b4f4d6199b2b6ac7c73d9a2",
        "tags": [],
        "deepnote_to_be_reexecuted": false,
        "source_hash": "dcc34816",
        "execution_start": 1657467526190,
        "execution_millis": 386,
        "deepnote_cell_type": "code",
        "deepnote_cell_height": 1026.5,
        "id": "Alr5bNv59TA7",
        "outputId": "c7ddadb0-70a4-42cd-8a05-42109ab5fef6"
      },
      "outputs": [
        {
          "name": "stderr",
          "text": "/usr/local/lib/python3.9/site-packages/statsmodels/tsa/base/tsa_model.py:471: ValueWarning:\n\nNo frequency information was provided, so inferred frequency D will be used.\n\n/usr/local/lib/python3.9/site-packages/statsmodels/tsa/holtwinters/model.py:915: ConvergenceWarning:\n\nOptimization failed to converge. Check mle_retvals.\n\n/usr/local/lib/python3.9/site-packages/statsmodels/tsa/base/tsa_model.py:471: ValueWarning:\n\nNo frequency information was provided, so inferred frequency D will be used.\n\n/usr/local/lib/python3.9/site-packages/statsmodels/tsa/holtwinters/model.py:915: ConvergenceWarning:\n\nOptimization failed to converge. Check mle_retvals.\n\n/usr/local/lib/python3.9/site-packages/statsmodels/tsa/base/tsa_model.py:471: ValueWarning:\n\nNo frequency information was provided, so inferred frequency D will be used.\n\n/usr/local/lib/python3.9/site-packages/statsmodels/tsa/holtwinters/model.py:915: ConvergenceWarning:\n\nOptimization failed to converge. Check mle_retvals.\n\n",
          "output_type": "stream"
        }
      ],
      "execution_count": null
    },
    {
      "cell_type": "code",
      "source": [
        "plt.title('Forecasting Confirmed of Covid-19')\n",
        "train_df_confirmed['Confirmed'].plot(legend=True, label = 'Train',\n",
        "                             figsize = (12,5))\n",
        "test_df_confirmed['Confirmed'].plot(legend=True, label = 'Test')\n",
        "test_predictions_confirmed.plot(legend=True, label = 'Prediction');"
      ],
      "metadata": {
        "cell_id": "04bf75be6bc140eabea7d9d53221d5c4",
        "tags": [],
        "deepnote_to_be_reexecuted": false,
        "source_hash": "f3a5f764",
        "execution_start": 1657467526579,
        "execution_millis": 422,
        "deepnote_cell_type": "code",
        "deepnote_cell_height": 519,
        "deepnote_output_heights": [
          350
        ],
        "id": "7DcQ3WVK9TA7",
        "outputId": "ce8563f7-c448-4322-9f14-0cf4b7cf4539"
      },
      "outputs": [
        {
          "data": {
            "text/plain": "<Figure size 864x360 with 1 Axes>",
            "image/png": "[encoded data removed]"
          },
          "metadata": {
            "image/png": {
              "width": 713,
              "height": 348
            }
          },
          "output_type": "display_data"
        }
      ],
      "execution_count": null
    },
    {
      "cell_type": "code",
      "source": [
        "plt.title('Forecasting Deaths of Covid-19')\n",
        "train_df_deaths['Deaths'].plot(legend=True, label = 'Train',\n",
        "                             figsize = (12,5))\n",
        "test_df_deaths['Deaths'].plot(legend=True, label = 'Test')\n",
        "test_predictions_deaths.plot(legend=True, label = 'Prediction');"
      ],
      "metadata": {
        "cell_id": "8c688b3fe33640859ec422a4ebd0ace6",
        "tags": [],
        "deepnote_to_be_reexecuted": false,
        "source_hash": "fa5066da",
        "execution_start": 1657467527020,
        "execution_millis": 919,
        "deepnote_cell_type": "code",
        "deepnote_cell_height": 519,
        "deepnote_output_heights": [
          350,
          350
        ],
        "id": "SbGMmf2B9TA8",
        "outputId": "a7ec5447-f7fc-4c26-fd79-01b96fa5351c"
      },
      "outputs": [
        {
          "data": {
            "text/plain": "<Figure size 864x360 with 1 Axes>",
            "image/png": "[encoded data removed]"
          },
          "metadata": {
            "image/png": {
              "width": 707,
              "height": 348
            }
          },
          "output_type": "display_data"
        }
      ],
      "execution_count": null
    },
    {
      "cell_type": "code",
      "source": [
        "plt.title('Forecasting Revcovered of Covid-19')\n",
        "train_df_recovered['Recovered'].plot(legend=True, label = 'Train',\n",
        "                             figsize = (12,5))\n",
        "test_df_recovered['Recovered'].plot(legend=True, label = 'Test')\n",
        "test_predictions_recovered.plot(legend=True, label = 'Prediction');"
      ],
      "metadata": {
        "cell_id": "635a21cb111e4ed98b19e1c7e5f9118b",
        "tags": [],
        "deepnote_to_be_reexecuted": false,
        "source_hash": "cfd017de",
        "execution_start": 1657467527425,
        "execution_millis": 550,
        "deepnote_cell_type": "code",
        "deepnote_cell_height": 519,
        "deepnote_output_heights": [
          350,
          350
        ],
        "id": "IjbxJ6RM9TA8",
        "outputId": "6adbdd05-f58a-47ca-fdd2-2554120de4f4"
      },
      "outputs": [
        {
          "data": {
            "text/plain": "<Figure size 864x360 with 1 Axes>",
            "image/png": "[encoded data removed]"
          },
          "metadata": {
            "image/png": {
              "width": 706,
              "height": 348
            }
          },
          "output_type": "display_data"
        }
      ],
      "execution_count": null
    },
    {
      "cell_type": "code",
      "source": [
        "# Evaluation Metrics for data confirmed\n",
        "from sklearn.metrics import mean_absolute_error\n",
        "from sklearn.metrics import mean_squared_error\n",
        "from sklearn.metrics import r2_score\n",
        "import numpy as np\n",
        "\n",
        "print(\"Exponential Smoothing\")\n",
        "print(\"MAE: \",mean_absolute_error(test_df_confirmed['Confirmed'],test_predictions_confirmed[:197]))\n",
        "print(\"MSE: \",mean_squared_error(test_df_confirmed['Confirmed'],test_predictions_confirmed[:197]))\n",
        "print(\"R2: \",r2_score(test_df_confirmed['Confirmed'],test_predictions_confirmed[:197]))\n",
        "print(\"\")"
      ],
      "metadata": {
        "cell_id": "9ad67fe82ab149b8bd16cb9b2127cbdf",
        "tags": [],
        "deepnote_to_be_reexecuted": false,
        "source_hash": "b8847f69",
        "execution_start": 1657467527800,
        "execution_millis": 175,
        "deepnote_cell_type": "code",
        "deepnote_cell_height": 372.9375,
        "id": "ZivOBpSX9TA8",
        "outputId": "7d3e1aa1-ebe5-44db-9723-d56b46572cc5"
      },
      "outputs": [
        {
          "name": "stdout",
          "text": "Exponential Smoothing\nMAE:  2996064.0127942534\nMSE:  15993689514121.371\nR2:  0.9846981228265896\n\n",
          "output_type": "stream"
        }
      ],
      "execution_count": null
    },
    {
      "cell_type": "code",
      "source": [
        "# Evaluation Metrics for data deaths\n",
        "from sklearn.metrics import mean_absolute_error\n",
        "from sklearn.metrics import mean_squared_error\n",
        "from sklearn.metrics import r2_score\n",
        "import numpy as np\n",
        "\n",
        "print(\"Exponential Smoothing\")\n",
        "print(\"MAE: \",mean_absolute_error(test_df_deaths['Deaths'],test_predictions_deaths[:197]))\n",
        "print(\"MSE: \",mean_squared_error(test_df_deaths['Deaths'],test_predictions_deaths[:197]))\n",
        "print(\"R2: \",r2_score(test_df_deaths['Deaths'],test_predictions_deaths[:197]))\n",
        "print(\"\")"
      ],
      "metadata": {
        "cell_id": "e526fb79bd6e40ed9becd93da6ad4f84",
        "tags": [],
        "deepnote_to_be_reexecuted": false,
        "source_hash": "a2000517",
        "execution_start": 1657467527818,
        "execution_millis": 158,
        "deepnote_cell_type": "code",
        "deepnote_cell_height": 372.9375,
        "id": "pIO4a9Ym9TA9",
        "outputId": "f6d2973f-f35f-4012-c64d-9aab25acd6ae"
      },
      "outputs": [
        {
          "name": "stdout",
          "text": "Exponential Smoothing\nMAE:  195338.69206341472\nMSE:  52914640885.85398\nR2:  0.8707096969993937\n\n",
          "output_type": "stream"
        }
      ],
      "execution_count": null
    },
    {
      "cell_type": "code",
      "source": [
        "# Evaluation Metrics for data recovered\n",
        "from sklearn.metrics import mean_absolute_error\n",
        "from sklearn.metrics import mean_squared_error\n",
        "from sklearn.metrics import r2_score\n",
        "import numpy as np\n",
        "\n",
        "print(\"Exponential Smoothing\")\n",
        "print(\"MAE: \",mean_absolute_error(test_df_recovered['Recovered'],test_predictions_recovered[:197]))\n",
        "print(\"MSE: \",mean_squared_error(test_df_recovered['Recovered'],test_predictions_recovered[:197]))\n",
        "print(\"R2: \",r2_score(test_df_recovered['Recovered'],test_predictions_recovered[:197]))\n",
        "print(\"\")"
      ],
      "metadata": {
        "cell_id": "1aa876243520411ea48ad4319107fdcd",
        "tags": [],
        "deepnote_to_be_reexecuted": false,
        "source_hash": "9bc07a6c",
        "execution_start": 1657467527831,
        "execution_millis": 145,
        "deepnote_cell_type": "code",
        "deepnote_cell_height": 372.9375,
        "id": "3yMjlsck9TA9",
        "outputId": "a0cf7e5d-9be1-41ae-f63b-bdb81d3aab1d"
      },
      "outputs": [
        {
          "name": "stdout",
          "text": "Exponential Smoothing\nMAE:  2723426.0574262543\nMSE:  25599984175665.082\nR2:  0.9310950320094032\n\n",
          "output_type": "stream"
        }
      ],
      "execution_count": null
    },
    {
      "cell_type": "markdown",
      "source": [
        "## LSTM Model"
      ],
      "metadata": {
        "cell_id": "5134a0502ddf4fe79e9b949fa291d197",
        "tags": [],
        "deepnote_cell_type": "markdown",
        "deepnote_cell_height": 70,
        "id": "RuXcbewm9TA-"
      }
    },
    {
      "cell_type": "code",
      "source": [
        "!pip install tensorflow"
      ],
      "metadata": {
        "cell_id": "a9130ab0c2e74d5cbf2b5951b3af50fb",
        "tags": [],
        "deepnote_to_be_reexecuted": false,
        "source_hash": "a23e6820",
        "execution_start": 1657467527849,
        "execution_millis": 3210,
        "deepnote_cell_type": "code",
        "deepnote_cell_height": 746,
        "id": "iMPwBjsa9TA-",
        "outputId": "f02faf8b-4a2d-4354-81d6-d9aa172a628a"
      },
      "outputs": [
        {
          "name": "stdout",
          "text": "Requirement already satisfied: tensorflow in /shared-libs/python3.9/py/lib/python3.9/site-packages (2.9.1)\nRequirement already satisfied: h5py>=2.9.0 in /shared-libs/python3.9/py/lib/python3.9/site-packages (from tensorflow) (3.7.0)\nRequirement already satisfied: numpy>=1.20 in /shared-libs/python3.9/py/lib/python3.9/site-packages (from tensorflow) (1.22.4)\nRequirement already satisfied: keras-preprocessing>=1.1.1 in /shared-libs/python3.9/py/lib/python3.9/site-packages (from tensorflow) (1.1.2)\nRequirement already satisfied: protobuf<3.20,>=3.9.2 in /shared-libs/python3.9/py/lib/python3.9/site-packages (from tensorflow) (3.19.4)\nRequirement already satisfied: tensorflow-estimator<2.10.0,>=2.9.0rc0 in /shared-libs/python3.9/py/lib/python3.9/site-packages (from tensorflow) (2.9.0)\nRequirement already satisfied: setuptools in /root/venv/lib/python3.9/site-packages (from tensorflow) (58.1.0)\nRequirement already satisfied: tensorboard<2.10,>=2.9 in /shared-libs/python3.9/py/lib/python3.9/site-packages (from tensorflow) (2.9.1)\nRequirement already satisfied: libclang>=13.0.0 in /shared-libs/python3.9/py/lib/python3.9/site-packages (from tensorflow) (14.0.1)\nRequirement already satisfied: keras<2.10.0,>=2.9.0rc0 in /shared-libs/python3.9/py/lib/python3.9/site-packages (from tensorflow) (2.9.0)\nRequirement already satisfied: grpcio<2.0,>=1.24.3 in /shared-libs/python3.9/py/lib/python3.9/site-packages (from tensorflow) (1.46.3)\nRequirement already satisfied: flatbuffers<2,>=1.12 in /shared-libs/python3.9/py/lib/python3.9/site-packages (from tensorflow) (1.12)\nRequirement already satisfied: absl-py>=1.0.0 in /shared-libs/python3.9/py/lib/python3.9/site-packages (from tensorflow) (1.1.0)\nRequirement already satisfied: wrapt>=1.11.0 in /shared-libs/python3.9/py/lib/python3.9/site-packages (from tensorflow) (1.14.1)\nRequirement already satisfied: astunparse>=1.6.0 in /shared-libs/python3.9/py/lib/python3.9/site-packages (from tensorflow) (1.6.3)\nRequirement already satisfied: typing-extensions>=3.6.6 in /shared-libs/python3.9/py/lib/python3.9/site-packages (from tensorflow) (4.2.0)\nRequirement already satisfied: tensorflow-io-gcs-filesystem>=0.23.1 in /shared-libs/python3.9/py/lib/python3.9/site-packages (from tensorflow) (0.26.0)\nRequirement already satisfied: gast<=0.4.0,>=0.2.1 in /shared-libs/python3.9/py/lib/python3.9/site-packages (from tensorflow) (0.4.0)\nRequirement already satisfied: opt-einsum>=2.3.2 in /shared-libs/python3.9/py/lib/python3.9/site-packages (from tensorflow) (3.3.0)\nRequirement already satisfied: termcolor>=1.1.0 in /shared-libs/python3.9/py/lib/python3.9/site-packages (from tensorflow) (1.1.0)\nRequirement already satisfied: six>=1.12.0 in /shared-libs/python3.9/py-core/lib/python3.9/site-packages (from tensorflow) (1.16.0)\nRequirement already satisfied: packaging in /shared-libs/python3.9/py/lib/python3.9/site-packages (from tensorflow) (21.3)\nRequirement already satisfied: google-pasta>=0.1.1 in /shared-libs/python3.9/py/lib/python3.9/site-packages (from tensorflow) (0.2.0)\nRequirement already satisfied: wheel<1.0,>=0.23.0 in /usr/local/lib/python3.9/site-packages (from astunparse>=1.6.0->tensorflow) (0.37.1)\nRequirement already satisfied: google-auth<3,>=1.6.3 in /shared-libs/python3.9/py/lib/python3.9/site-packages (from tensorboard<2.10,>=2.9->tensorflow) (2.7.0)\nRequirement already satisfied: tensorboard-data-server<0.7.0,>=0.6.0 in /shared-libs/python3.9/py/lib/python3.9/site-packages (from tensorboard<2.10,>=2.9->tensorflow) (0.6.1)\nRequirement already satisfied: tensorboard-plugin-wit>=1.6.0 in /shared-libs/python3.9/py/lib/python3.9/site-packages (from tensorboard<2.10,>=2.9->tensorflow) (1.8.1)\nRequirement already satisfied: google-auth-oauthlib<0.5,>=0.4.1 in /shared-libs/python3.9/py/lib/python3.9/site-packages (from tensorboard<2.10,>=2.9->tensorflow) (0.4.6)\nRequirement already satisfied: werkzeug>=1.0.1 in /shared-libs/python3.9/py/lib/python3.9/site-packages (from tensorboard<2.10,>=2.9->tensorflow) (2.1.2)\nRequirement already satisfied: requests<3,>=2.21.0 in /shared-libs/python3.9/py/lib/python3.9/site-packages (from tensorboard<2.10,>=2.9->tensorflow) (2.27.1)\nRequirement already satisfied: markdown>=2.6.8 in /shared-libs/python3.9/py/lib/python3.9/site-packages (from tensorboard<2.10,>=2.9->tensorflow) (3.3.7)\nRequirement already satisfied: pyparsing!=3.0.5,>=2.0.2 in /shared-libs/python3.9/py/lib/python3.9/site-packages (from packaging->tensorflow) (3.0.9)\nRequirement already satisfied: cachetools<6.0,>=2.0.0 in /shared-libs/python3.9/py/lib/python3.9/site-packages (from google-auth<3,>=1.6.3->tensorboard<2.10,>=2.9->tensorflow) (5.2.0)\nRequirement already satisfied: rsa<5,>=3.1.4 in /shared-libs/python3.9/py/lib/python3.9/site-packages (from google-auth<3,>=1.6.3->tensorboard<2.10,>=2.9->tensorflow) (4.8)\nRequirement already satisfied: pyasn1-modules>=0.2.1 in /shared-libs/python3.9/py/lib/python3.9/site-packages (from google-auth<3,>=1.6.3->tensorboard<2.10,>=2.9->tensorflow) (0.2.8)\nRequirement already satisfied: requests-oauthlib>=0.7.0 in /shared-libs/python3.9/py/lib/python3.9/site-packages (from google-auth-oauthlib<0.5,>=0.4.1->tensorboard<2.10,>=2.9->tensorflow) (1.3.1)\nRequirement already satisfied: importlib-metadata>=4.4 in /shared-libs/python3.9/py/lib/python3.9/site-packages (from markdown>=2.6.8->tensorboard<2.10,>=2.9->tensorflow) (4.11.4)\nRequirement already satisfied: urllib3<1.27,>=1.21.1 in /shared-libs/python3.9/py/lib/python3.9/site-packages (from requests<3,>=2.21.0->tensorboard<2.10,>=2.9->tensorflow) (1.26.9)\nRequirement already satisfied: charset-normalizer~=2.0.0 in /shared-libs/python3.9/py-core/lib/python3.9/site-packages (from requests<3,>=2.21.0->tensorboard<2.10,>=2.9->tensorflow) (2.0.12)\nRequirement already satisfied: certifi>=2017.4.17 in /shared-libs/python3.9/py/lib/python3.9/site-packages (from requests<3,>=2.21.0->tensorboard<2.10,>=2.9->tensorflow) (2022.5.18.1)\nRequirement already satisfied: idna<4,>=2.5 in /shared-libs/python3.9/py-core/lib/python3.9/site-packages (from requests<3,>=2.21.0->tensorboard<2.10,>=2.9->tensorflow) (3.3)\nRequirement already satisfied: zipp>=0.5 in /shared-libs/python3.9/py/lib/python3.9/site-packages (from importlib-metadata>=4.4->markdown>=2.6.8->tensorboard<2.10,>=2.9->tensorflow) (3.8.0)\nRequirement already satisfied: pyasn1<0.5.0,>=0.4.6 in /shared-libs/python3.9/py/lib/python3.9/site-packages (from pyasn1-modules>=0.2.1->google-auth<3,>=1.6.3->tensorboard<2.10,>=2.9->tensorflow) (0.4.8)\nRequirement already satisfied: oauthlib>=3.0.0 in /shared-libs/python3.9/py/lib/python3.9/site-packages (from requests-oauthlib>=0.7.0->google-auth-oauthlib<0.5,>=0.4.1->tensorboard<2.10,>=2.9->tensorflow) (3.2.0)\n\u001b[33mWARNING: You are using pip version 22.0.4; however, version 22.1.2 is available.\nYou should consider upgrading via the '/root/venv/bin/python -m pip install --upgrade pip' command.\u001b[0m\u001b[33m\n\u001b[0m",
          "output_type": "stream"
        }
      ],
      "execution_count": null
    },
    {
      "cell_type": "code",
      "source": [
        "#Import Library\n",
        "import pandas as pd\n",
        "import matplotlib.pyplot as plt\n",
        "from sklearn.preprocessing import MinMaxScaler\n",
        "import numpy as np\n",
        "import math\n",
        "from sklearn.metrics import mean_squared_error\n",
        "import tensorflow as tf\n",
        "from tensorflow.keras.layers import Dense\n",
        "from tensorflow.keras import layers\n",
        "from tensorflow.keras.layers import LSTM"
      ],
      "metadata": {
        "cell_id": "ef5e542cc82c4671877642206f0f9c85",
        "tags": [],
        "deepnote_to_be_reexecuted": false,
        "source_hash": "c8c71e5d",
        "execution_start": 1657467531061,
        "execution_millis": 5598,
        "deepnote_cell_type": "code",
        "deepnote_cell_height": 261,
        "id": "OAss0r379TA_"
      },
      "outputs": [],
      "execution_count": null
    },
    {
      "cell_type": "markdown",
      "source": [
        "### Data Preprocessing"
      ],
      "metadata": {
        "cell_id": "d798f0a9add84435acd14f31e9da9046",
        "tags": [],
        "deepnote_cell_type": "markdown",
        "deepnote_cell_height": 62,
        "id": "1eoCbaPN9TA_"
      }
    },
    {
      "cell_type": "code",
      "source": [
        "df = pd.read_csv(\"https://raw.githubusercontent.com/Faiqazmi/Dataset_latihan/main/time_series_covid_19_confirmed%20(2).csv\")\n",
        "\n",
        "#df = df.loc[df[\"Country/Region\"] == \"Korea, South\"]\n",
        "\n",
        "# Drop column yang tidak diperlukan\n",
        "df = df[df[\"Country/Region\"] == \"Korea, South\"]\n",
        "df = df.drop(['Province/State', 'Country/Region', 'Lat', 'Long'], axis=1)\n",
        "df = pd.DataFrame(df.sum())\n",
        "df = df.reset_index()\n",
        "df = df.drop(['index'], axis=1)\n",
        "df = df.astype('float')\n",
        "df = np.array(df)\n",
        "\n",
        "#Training and Validation data partition\n",
        "train_size = int(len(df) * 0.8)\n",
        "val_size = len(df) - train_size\n",
        "train, val = df[0:train_size,:], df[train_size:len(df),:]\n",
        "\n",
        "#Form dataset matrix\n",
        "def create_dataset(df, previous=1):\n",
        "    dataX, dataY = [], []\n",
        "    for i in range(len(df)-previous-1):\n",
        "        a = df[i:(i+previous), 0]\n",
        "        dataX.append(a)\n",
        "        dataY.append(df[i + previous, 0])\n",
        "    return np.array(dataX), np.array(dataY)"
      ],
      "metadata": {
        "cell_id": "368f8d7737264474a4f7fe2110813efa",
        "tags": [],
        "deepnote_to_be_reexecuted": false,
        "source_hash": "864bd18d",
        "execution_start": 1657467536667,
        "execution_millis": 117,
        "deepnote_cell_type": "code",
        "deepnote_cell_height": 531,
        "id": "Mp2RKfQi9TA_"
      },
      "outputs": [],
      "execution_count": null
    },
    {
      "cell_type": "markdown",
      "source": [
        "### Feature Scalling"
      ],
      "metadata": {
        "cell_id": "cee6eee5121e4504b70b6a9bef53c10d",
        "tags": [],
        "deepnote_cell_type": "markdown",
        "deepnote_cell_height": 62,
        "id": "_mdWUXQt9TBA"
      }
    },
    {
      "cell_type": "code",
      "source": [
        "#Normalize dataset with MinMaxScaller\n",
        "scaler = MinMaxScaler(feature_range=(0, 1))\n",
        "train = scaler.fit_transform(train)\n",
        "val = scaler.fit_transform(val)\n",
        "\n",
        "\n",
        "# Lookback period\n",
        "lookback = 3\n",
        "X_train, Y_train = create_dataset(train, lookback)\n",
        "X_val, Y_val = create_dataset(val, lookback)\n",
        "\n",
        "# reshape input to be [samples, time steps, features]\n",
        "X_train = np.reshape(X_train, (X_train.shape[0], 1, X_train.shape[1]))\n",
        "X_val = np.reshape(X_val, (X_val.shape[0], 1, X_val.shape[1]))"
      ],
      "metadata": {
        "cell_id": "6d4e286610ea4ac6b81bd41c6b8f141f",
        "tags": [],
        "deepnote_to_be_reexecuted": false,
        "source_hash": "dc36304d",
        "execution_start": 1657467536791,
        "execution_millis": 10,
        "deepnote_cell_type": "code",
        "deepnote_cell_height": 315,
        "id": "-JjP5Guy9TBA"
      },
      "outputs": [],
      "execution_count": null
    },
    {
      "cell_type": "markdown",
      "source": [
        "### Modeling"
      ],
      "metadata": {
        "cell_id": "3cf4cf11f8184924b409b3fa7cdad7ef",
        "tags": [],
        "deepnote_cell_type": "markdown",
        "deepnote_cell_height": 62,
        "id": "ll83uLA69TBA"
      }
    },
    {
      "cell_type": "code",
      "source": [
        "model = tf.keras.Sequential()\n",
        "model.add(LSTM(32, activation='relu', input_shape=(1, lookback)))\n",
        "#model.add(LSTM(32, activation='relu'))\n",
        "#model.add(Dense(32))\n",
        "model.add(Dense(1))\n",
        "model.compile(optimizer='adam', loss='mean_squared_error')\n",
        "history=model.fit(X_train, Y_train, validation_split=0.2, epochs=50, verbose=1)\n",
        "\n",
        "# list all data in history\n",
        "print(history.history.keys())\n",
        "# summarize history for accuracy\n",
        "plt.plot(history.history['loss'])\n",
        "plt.plot(history.history['val_loss'])\n",
        "plt.title('model loss')\n",
        "plt.ylabel('loss')\n",
        "plt.xlabel('epoch')\n",
        "plt.legend(['train', 'val'], loc='upper right')\n",
        "plt.show()"
      ],
      "metadata": {
        "cell_id": "58f4716aa7aa4c3b83e346dbcb0df91c",
        "tags": [],
        "deepnote_to_be_reexecuted": false,
        "source_hash": "d410fe24",
        "execution_start": 1657467536807,
        "execution_millis": 4249,
        "deepnote_cell_type": "code",
        "deepnote_cell_height": 1322,
        "deepnote_output_heights": [
          null,
          284
        ],
        "id": "MlsC2Yrd9TBB",
        "outputId": "832a04c1-9997-43a1-a904-8869d80ca27a"
      },
      "outputs": [
        {
          "name": "stdout",
          "text": "Epoch 1/50\n10/10 [==============================] - 1s 31ms/step - loss: 0.0454 - val_loss: 0.6892\nEpoch 2/50\n10/10 [==============================] - 0s 4ms/step - loss: 0.0374 - val_loss: 0.6256\nEpoch 3/50\n10/10 [==============================] - 0s 6ms/step - loss: 0.0305 - val_loss: 0.5633\nEpoch 4/50\n10/10 [==============================] - 0s 4ms/step - loss: 0.0244 - val_loss: 0.5052\nEpoch 5/50\n10/10 [==============================] - 0s 4ms/step - loss: 0.0194 - val_loss: 0.4499\nEpoch 6/50\n10/10 [==============================] - 0s 4ms/step - loss: 0.0153 - val_loss: 0.3976\nEpoch 7/50\n10/10 [==============================] - 0s 4ms/step - loss: 0.0119 - val_loss: 0.3507\nEpoch 8/50\n10/10 [==============================] - 0s 4ms/step - loss: 0.0096 - val_loss: 0.3054\nEpoch 9/50\n10/10 [==============================] - 0s 5ms/step - loss: 0.0077 - val_loss: 0.2637\nEpoch 10/50\n10/10 [==============================] - 0s 4ms/step - loss: 0.0063 - val_loss: 0.2286\nEpoch 11/50\n10/10 [==============================] - 0s 4ms/step - loss: 0.0054 - val_loss: 0.1990\nEpoch 12/50\n10/10 [==============================] - 0s 4ms/step - loss: 0.0048 - val_loss: 0.1740\nEpoch 13/50\n10/10 [==============================] - 0s 6ms/step - loss: 0.0043 - val_loss: 0.1534\nEpoch 14/50\n10/10 [==============================] - 0s 4ms/step - loss: 0.0039 - val_loss: 0.1381\nEpoch 15/50\n10/10 [==============================] - 0s 4ms/step - loss: 0.0036 - val_loss: 0.1244\nEpoch 16/50\n10/10 [==============================] - 0s 4ms/step - loss: 0.0033 - val_loss: 0.1118\nEpoch 17/50\n10/10 [==============================] - 0s 5ms/step - loss: 0.0029 - val_loss: 0.1015\nEpoch 18/50\n10/10 [==============================] - 0s 4ms/step - loss: 0.0026 - val_loss: 0.0904\nEpoch 19/50\n10/10 [==============================] - 0s 4ms/step - loss: 0.0023 - val_loss: 0.0801\nEpoch 20/50\n10/10 [==============================] - 0s 7ms/step - loss: 0.0021 - val_loss: 0.0713\nEpoch 21/50\n10/10 [==============================] - 0s 7ms/step - loss: 0.0018 - val_loss: 0.0624\nEpoch 22/50\n10/10 [==============================] - 0s 5ms/step - loss: 0.0016 - val_loss: 0.0537\nEpoch 23/50\n10/10 [==============================] - 0s 4ms/step - loss: 0.0013 - val_loss: 0.0460\nEpoch 24/50\n10/10 [==============================] - 0s 5ms/step - loss: 0.0011 - val_loss: 0.0388\nEpoch 25/50\n10/10 [==============================] - 0s 5ms/step - loss: 9.3159e-04 - val_loss: 0.0323\nEpoch 26/50\n10/10 [==============================] - 0s 4ms/step - loss: 7.6609e-04 - val_loss: 0.0270\nEpoch 27/50\n10/10 [==============================] - 0s 4ms/step - loss: 6.2248e-04 - val_loss: 0.0221\nEpoch 28/50\n10/10 [==============================] - 0s 4ms/step - loss: 5.0016e-04 - val_loss: 0.0182\nEpoch 29/50\n10/10 [==============================] - 0s 4ms/step - loss: 3.9855e-04 - val_loss: 0.0147\nEpoch 30/50\n10/10 [==============================] - 0s 5ms/step - loss: 3.1516e-04 - val_loss: 0.0120\nEpoch 31/50\n10/10 [==============================] - 0s 4ms/step - loss: 2.4853e-04 - val_loss: 0.0095\nEpoch 32/50\n10/10 [==============================] - 0s 4ms/step - loss: 1.9188e-04 - val_loss: 0.0076\nEpoch 33/50\n10/10 [==============================] - 0s 4ms/step - loss: 1.5122e-04 - val_loss: 0.0061\nEpoch 34/50\n10/10 [==============================] - 0s 4ms/step - loss: 1.1793e-04 - val_loss: 0.0050\nEpoch 35/50\n10/10 [==============================] - 0s 4ms/step - loss: 9.4784e-05 - val_loss: 0.0041\nEpoch 36/50\n10/10 [==============================] - 0s 4ms/step - loss: 7.6544e-05 - val_loss: 0.0033\nEpoch 37/50\n10/10 [==============================] - 0s 4ms/step - loss: 6.3819e-05 - val_loss: 0.0028\nEpoch 38/50\n10/10 [==============================] - 0s 4ms/step - loss: 5.5564e-05 - val_loss: 0.0024\nEpoch 39/50\n10/10 [==============================] - 0s 4ms/step - loss: 4.8790e-05 - val_loss: 0.0020\nEpoch 40/50\n10/10 [==============================] - 0s 7ms/step - loss: 4.3966e-05 - val_loss: 0.0018\nEpoch 41/50\n10/10 [==============================] - 0s 4ms/step - loss: 4.0624e-05 - val_loss: 0.0017\nEpoch 42/50\n10/10 [==============================] - 0s 4ms/step - loss: 3.8696e-05 - val_loss: 0.0015\nEpoch 43/50\n10/10 [==============================] - 0s 4ms/step - loss: 3.7005e-05 - val_loss: 0.0014\nEpoch 44/50\n10/10 [==============================] - 0s 4ms/step - loss: 3.5774e-05 - val_loss: 0.0013\nEpoch 45/50\n10/10 [==============================] - 0s 4ms/step - loss: 3.4922e-05 - val_loss: 0.0012\nEpoch 46/50\n10/10 [==============================] - 0s 5ms/step - loss: 3.4024e-05 - val_loss: 0.0012\nEpoch 47/50\n10/10 [==============================] - 0s 4ms/step - loss: 3.3137e-05 - val_loss: 0.0011\nEpoch 48/50\n10/10 [==============================] - 0s 4ms/step - loss: 3.2511e-05 - val_loss: 0.0011\nEpoch 49/50\n10/10 [==============================] - 0s 4ms/step - loss: 3.1962e-05 - val_loss: 0.0011\nEpoch 50/50\n10/10 [==============================] - 0s 4ms/step - loss: 3.1377e-05 - val_loss: 0.0011\ndict_keys(['loss', 'val_loss'])\n",
          "output_type": "stream"
        },
        {
          "data": {
            "text/plain": "<Figure size 432x288 with 1 Axes>",
            "image/png": "[encoded data removed]"
          },
          "metadata": {
            "image/png": {
              "width": 389,
              "height": 282
            }
          },
          "output_type": "display_data"
        }
      ],
      "execution_count": null
    },
    {
      "cell_type": "code",
      "source": [
        "# Generate predictions\n",
        "trainpred = model.predict(X_train)\n",
        "valpred = model.predict(X_val)\n",
        "\n",
        "# Convert predictions back to normal values\n",
        "trainpred = scaler.inverse_transform(trainpred)\n",
        "Y_train2 = scaler.inverse_transform([Y_train])\n",
        "valpred = scaler.inverse_transform(valpred)\n",
        "Y_val2 = scaler.inverse_transform([Y_val])"
      ],
      "metadata": {
        "cell_id": "884b61a121da4338914b16b0d3ca72d9",
        "tags": [],
        "deepnote_to_be_reexecuted": false,
        "source_hash": "1d036dd4",
        "execution_start": 1657467541061,
        "execution_millis": 290,
        "deepnote_cell_type": "code",
        "deepnote_cell_height": 276.375,
        "id": "S7kiKPOU9TBB",
        "outputId": "0f618600-4cdc-4109-8a53-f055b25c7b6f"
      },
      "outputs": [
        {
          "name": "stdout",
          "text": "13/13 [==============================] - 0s 1ms/step\n3/3 [==============================] - 0s 2ms/step\n",
          "output_type": "stream"
        }
      ],
      "execution_count": null
    },
    {
      "cell_type": "code",
      "source": [
        "# calculate RMSE\n",
        "trainScore = math.sqrt(mean_squared_error(Y_train2[0], trainpred[:,0]))\n",
        "print('Train Score: %.2f RMSE' % (trainScore))\n",
        "valScore = math.sqrt(mean_squared_error(Y_val2[0], valpred[:,0]))\n",
        "print('Validation Score: %.2f RMSE' % (valScore))"
      ],
      "metadata": {
        "cell_id": "ec4881bdf6b4468fbdd6ca93d38500b0",
        "tags": [],
        "deepnote_to_be_reexecuted": false,
        "source_hash": "ccfc8a21",
        "execution_start": 1657467541356,
        "execution_millis": 4,
        "deepnote_cell_type": "code",
        "deepnote_cell_height": 204.375,
        "id": "G8dE2Qu49TBC",
        "outputId": "39dfe4fa-3d5b-42b0-9de4-459ea353ea64"
      },
      "outputs": [
        {
          "name": "stdout",
          "text": "Train Score: 814.51 RMSE\nValidation Score: 1657.87 RMSE\n",
          "output_type": "stream"
        }
      ],
      "execution_count": null
    },
    {
      "cell_type": "code",
      "source": [
        "scaler = MinMaxScaler(feature_range=(0, 1))\n",
        "df_scaled = scaler.fit_transform(df)\n",
        "\n",
        "X_scaled, y_scaled = create_dataset(df_scaled, lookback)\n",
        "\n",
        "# reshape input to be [samples, time steps, features]\n",
        "X_scaled = np.reshape(X_scaled, (X_scaled.shape[0], 1, X_scaled.shape[1]))\n",
        "prediction = model.predict(X_scaled)"
      ],
      "metadata": {
        "cell_id": "8ce51289cf4a4f0a9d57ae5cb873cf10",
        "tags": [],
        "deepnote_to_be_reexecuted": false,
        "source_hash": "cd9cd7b5",
        "execution_start": 1657467541404,
        "execution_millis": 727,
        "deepnote_cell_type": "code",
        "deepnote_cell_height": 238.1875,
        "id": "Xav4H2W79TBC",
        "outputId": "5487a8d4-8f90-49d7-ec8b-661b5bb9cc05"
      },
      "outputs": [
        {
          "name": "stdout",
          "text": "16/16 [==============================] - 0s 1ms/step\n",
          "output_type": "stream"
        }
      ],
      "execution_count": null
    },
    {
      "cell_type": "code",
      "source": [
        "#Memplot perbandingan hasil prediksi dan data\n",
        "plt.plot(y_scaled)\n",
        "plt.plot(prediction)\n",
        "plt.legend(['data', 'model prediction'], loc='upper left')\n",
        "plt.show()"
      ],
      "metadata": {
        "cell_id": "10834665e63a429e9cd268dd40113482",
        "tags": [],
        "deepnote_to_be_reexecuted": false,
        "source_hash": "49c5e4ae",
        "execution_start": 1657467541449,
        "execution_millis": 693,
        "deepnote_cell_type": "code",
        "deepnote_cell_height": 419,
        "deepnote_output_heights": [
          250
        ],
        "id": "NXXcY7m-9TBD",
        "outputId": "2bf5d4f1-3c3c-415f-a8f7-477bed7fe91d"
      },
      "outputs": [
        {
          "data": {
            "text/plain": "<Figure size 432x288 with 1 Axes>",
            "image/png": "[encoded data removed]"
          },
          "metadata": {
            "image/png": {
              "width": 373,
              "height": 248
            }
          },
          "output_type": "display_data"
        }
      ],
      "execution_count": null
    },
    {
      "cell_type": "markdown",
      "source": [
        "# Reference"
      ],
      "metadata": {
        "cell_id": "3e8c67945f54481997b819d098c1b022",
        "tags": [],
        "deepnote_cell_type": "markdown",
        "deepnote_cell_height": 82,
        "id": "sW4RnQZe9TBD"
      }
    },
    {
      "cell_type": "markdown",
      "source": [
        "### Journal"
      ],
      "metadata": {
        "cell_id": "919c2687ca014bb69076d693ef037990",
        "tags": [],
        "is_collapsed": false,
        "formattedRanges": [],
        "deepnote_cell_type": "text-cell-h3",
        "id": "N2b9v6nv9TBE"
      }
    },
    {
      "cell_type": "markdown",
      "source": [
        "Link GDrive : https://drive.google.com/drive/folders/1GK0SwIfbhojILhWLm4UlM47AKJYYE5sC?usp=sharing"
      ],
      "metadata": {
        "cell_id": "dcf8078d6cc94734b2cbb12ed7340520",
        "tags": [],
        "is_collapsed": false,
        "formattedRanges": [],
        "deepnote_cell_type": "text-cell-p",
        "id": "_QVI6y7r9TBE"
      }
    },
    {
      "cell_type": "markdown",
      "source": [
        "### Website"
      ],
      "metadata": {
        "cell_id": "0476a73c69b44a49b330826a673d1eef",
        "tags": [],
        "is_collapsed": false,
        "formattedRanges": [],
        "deepnote_cell_type": "text-cell-h3",
        "id": "GArFoSf79TBE"
      }
    },
    {
      "cell_type": "markdown",
      "source": [
        "1. Analisis Data Eksplorasi (EDA): Python\n",
        "https://towardsdatascience.com/exploratory-data-analysis-eda-python-87178e35b14"
      ],
      "metadata": {
        "cell_id": "6b882a66d8da401abbab9a39eea917b0",
        "tags": [],
        "is_collapsed": false,
        "formattedRanges": [],
        "deepnote_cell_type": "text-cell-p",
        "id": "1bbADMdj9TBE"
      }
    },
    {
      "cell_type": "markdown",
      "source": [
        "2. ML | K-Medoids clustering with solved example https://www.geeksforgeeks.org/ml-k-medoids-clustering-with-example/"
      ],
      "metadata": {
        "cell_id": "29b7a7cafd3f4d5f8517813e4b03d5eb",
        "tags": [],
        "is_collapsed": false,
        "formattedRanges": [],
        "owner_user_id": "1cc3a938-fa7c-49f3-bdf9-5c0236549e3e",
        "deepnote_cell_type": "text-cell-p",
        "id": "t5qH5LyT9TBF"
      }
    },
    {
      "cell_type": "markdown",
      "source": [
        "3.&nbsp;Understanding&nbsp;K-means&nbsp;Clustering&nbsp;in&nbsp;Machine&nbsp;Learning&nbsp;https://towardsdatascience.com/understanding-k-means-clustering-in-machine-learning-6a6e67336aa1"
      ],
      "metadata": {
        "cell_id": "7ce282f233c14563a29cd643f8ebffba",
        "tags": [],
        "is_collapsed": false,
        "formattedRanges": [],
        "deepnote_cell_type": "text-cell-p",
        "id": "zJws1mlS9TBF"
      }
    },
    {
      "cell_type": "markdown",
      "source": [
        "4. Clustering Algoritma (K-Means) https://sis.binus.ac.id/2022/01/31/clustering-algoritma-k-means/"
      ],
      "metadata": {
        "cell_id": "07b355dc45fc4dc592fe6433b58fbfbe",
        "tags": [],
        "is_collapsed": false,
        "formattedRanges": [],
        "deepnote_cell_type": "text-cell-p",
        "id": "tRLgC5DX9TBF"
      }
    },
    {
      "cell_type": "markdown",
      "source": [
        "5. K-Means Clustering Algorithm https://www.javatpoint.com/k-means-clustering-algorithm-in-machine-learning"
      ],
      "metadata": {
        "cell_id": "1286c7f45584432595864585195a5e1d",
        "tags": [],
        "is_collapsed": false,
        "formattedRanges": [],
        "deepnote_cell_type": "text-cell-p",
        "id": "O12wQ-jU9TBF"
      }
    },
    {
      "cell_type": "markdown",
      "source": [
        "6. K-Medoid Clustering (PAM)Algorithm in Python https://towardsdatascience.com/k-medoid-clustering-pam-algorithm-in-python-with-solved-example-c0dcb35b3f46"
      ],
      "metadata": {
        "cell_id": "9b531bfb0f334a3ea246c4b18d43ab1f",
        "tags": [],
        "is_collapsed": false,
        "formattedRanges": [],
        "deepnote_cell_type": "text-cell-p",
        "id": "ZetQe5XO9TBG"
      }
    },
    {
      "cell_type": "markdown",
      "source": [
        "7. Comprehensive Guide To K-Medoids Clustering Algorithm https://analyticsindiamag.com/comprehensive-guide-to-k-medoids-clustering-algorithm/"
      ],
      "metadata": {
        "cell_id": "1590b8b2183a48909484edccc961596e",
        "tags": [],
        "is_collapsed": false,
        "formattedRanges": [],
        "deepnote_cell_type": "text-cell-p",
        "id": "R09B7IO99TBG"
      }
    },
    {
      "cell_type": "markdown",
      "source": [
        "8. K-medoids Clustering  https://iq.opengenus.org/k-medoids-clustering/"
      ],
      "metadata": {
        "cell_id": "953a9c22da344b09beab9ceba98118c3",
        "tags": [],
        "is_collapsed": false,
        "formattedRanges": [],
        "deepnote_cell_type": "text-cell-p",
        "id": "2qtuBjY-9TBG"
      }
    },
    {
      "cell_type": "markdown",
      "source": [
        "9. K-Medoids Algorithm https://www.codingninjas.com/codestudio/library/k-medoids-algorithm"
      ],
      "metadata": {
        "cell_id": "a8f91dcb6dd54ddbbef516e8d185055a",
        "tags": [],
        "is_collapsed": false,
        "formattedRanges": [],
        "deepnote_cell_type": "text-cell-p",
        "id": "Kv0GEFeh9TBH"
      }
    },
    {
      "cell_type": "markdown",
      "source": [
        "10. #SuperNaive: K-medoids clustering https://medium.com/analytics-vidhya/supernaive-k-medoids-clustering-31db7bfc5075"
      ],
      "metadata": {
        "cell_id": "18932e7a5c3d44a899e35b19a9d1f9c3",
        "tags": [],
        "is_collapsed": false,
        "formattedRanges": [],
        "deepnote_cell_type": "text-cell-p",
        "id": "e2i7DDj_9TBH"
      }
    },
    {
      "cell_type": "markdown",
      "source": [
        "11. K-Medoids Clustering Algorithm https://pianalytix.com/k-medoids-clustering-algorithm/"
      ],
      "metadata": {
        "cell_id": "f840183621e8480aabab27a2abc10ef1",
        "tags": [],
        "is_collapsed": false,
        "formattedRanges": [],
        "deepnote_cell_type": "text-cell-p",
        "id": "ESAPMWNl9TBH"
      }
    },
    {
      "cell_type": "markdown",
      "source": [
        "12. K-Means Clustering Algorithm Implementation https://towardsdatascience.com/k-means-clustering-algorithm-implementation-da0f735ab0f9#:~:text=When%20it%20comes%20to%20popularity,that%20are%20to%20be%20formed."
      ],
      "metadata": {
        "cell_id": "15a092d682cb42a2a6966503e5f2f053",
        "tags": [],
        "is_collapsed": false,
        "formattedRanges": [],
        "deepnote_cell_type": "text-cell-p",
        "id": "bVp5nZEp9TBH"
      }
    },
    {
      "cell_type": "markdown",
      "source": [
        "13. Step by Step to Understanding K-means Clustering and&nbsp;Implementation with sklearn https://medium.com/data-folks-indonesia/step-by-step-to-understanding-k-means-clustering-and-implementation-with-sklearn-b55803f519d6"
      ],
      "metadata": {
        "cell_id": "ed855dc9ea27436da1c1cc3d0bdca82b",
        "tags": [],
        "is_collapsed": false,
        "formattedRanges": [],
        "deepnote_cell_type": "text-cell-p",
        "id": "bv0euWpF9TBI"
      }
    },
    {
      "cell_type": "markdown",
      "source": [
        "14. IMPLEMENTATION OF K-MEANS CLUSTERING ALGORITHM USING PYTHON https://hands-on.cloud/implementation-of-k-means-clustering-algorithm-using-python/"
      ],
      "metadata": {
        "cell_id": "30c0f3af8a8a4847b7a0e8cd62c62c8d",
        "tags": [],
        "is_collapsed": false,
        "formattedRanges": [],
        "deepnote_cell_type": "text-cell-p",
        "id": "rp6zktYk9TBI"
      }
    },
    {
      "cell_type": "markdown",
      "source": [
        "15. Understanding K-means Clustering in Machine Learning(With Examples) https://www.analyticsvidhya.com/blog/2021/11/understanding-k-means-clustering-in-machine-learningwith-examples/"
      ],
      "metadata": {
        "cell_id": "c19073d8ae434445b5478ce94bdab1cd",
        "tags": [],
        "is_collapsed": false,
        "formattedRanges": [],
        "deepnote_cell_type": "text-cell-p",
        "id": "SkttY32M9TBI"
      }
    },
    {
      "cell_type": "markdown",
      "source": [
        "16. K-Means Clustering in Python: A Practical Guide https://realpython.com/k-means-clustering-python/"
      ],
      "metadata": {
        "cell_id": "88feb7b85f8444c5bc204495ec99b3a9",
        "tags": [],
        "is_collapsed": false,
        "formattedRanges": [],
        "deepnote_cell_type": "text-cell-p",
        "id": "3F56M5Zy9TBI"
      }
    },
    {
      "cell_type": "markdown",
      "source": [
        "17. Clustering Algorithms - K-means Algorithm https://www.tutorialspoint.com/machine_learning_with_python/clustering_algorithms_k_means_algorithm.htm"
      ],
      "metadata": {
        "cell_id": "d404253c526c49a2afb0b83a0de4dde0",
        "tags": [],
        "is_collapsed": false,
        "formattedRanges": [],
        "deepnote_cell_type": "text-cell-p",
        "id": "sw2jRO0O9TBJ"
      }
    },
    {
      "cell_type": "markdown",
      "source": [
        "18. K means Clustering – Introduction https://www.geeksforgeeks.org/k-means-clustering-introduction/"
      ],
      "metadata": {
        "cell_id": "fc0596c468a446678f5dab0987f53497",
        "tags": [],
        "is_collapsed": false,
        "formattedRanges": [],
        "deepnote_cell_type": "text-cell-p",
        "id": "XPcQSeAX9TBJ"
      }
    },
    {
      "cell_type": "markdown",
      "source": [
        "19. In Depth: k-Means Clustering https://jakevdp.github.io/PythonDataScienceHandbook/05.11-k-means.html"
      ],
      "metadata": {
        "cell_id": "92dcbed568c74f48acfcac5e62c978e2",
        "tags": [],
        "is_collapsed": false,
        "formattedRanges": [],
        "deepnote_cell_type": "text-cell-p",
        "id": "yGIRcfe39TBK"
      }
    },
    {
      "cell_type": "markdown",
      "source": [
        "20. A Gentle Introduction to Exponential Smoothing for Time Series Forecasting in Python https://machinelearningmastery.com/exponential-smoothing-for-time-series-forecasting-in-python/#:~:text=Exponential%20smoothing%20is%20a%20time,Jenkins%20ARIMA%20family%20of%20methods."
      ],
      "metadata": {
        "cell_id": "acf97ca706794ac28880aba06db50918",
        "tags": [],
        "is_collapsed": false,
        "formattedRanges": [],
        "deepnote_cell_type": "text-cell-p",
        "id": "_NsDBsuL9TBK"
      }
    },
    {
      "cell_type": "markdown",
      "source": [
        "21. Exponential smoothing https://www.statsmodels.org/dev/examples/notebooks/generated/exponential_smoothing.html"
      ],
      "metadata": {
        "cell_id": "fa87a8cfe1204ce694d66e3443662973",
        "tags": [],
        "is_collapsed": false,
        "formattedRanges": [],
        "deepnote_cell_type": "text-cell-p",
        "id": "8f6VgSBP9TBL"
      }
    },
    {
      "cell_type": "markdown",
      "source": [
        "22. Time Series in Python — Exponential Smoothing and ARIMA processes https://towardsdatascience.com/time-series-in-python-exponential-smoothing-and-arima-processes-2c67f2a52788"
      ],
      "metadata": {
        "cell_id": "e9d43afc42214df099299f06ea98a4cd",
        "tags": [],
        "is_collapsed": false,
        "formattedRanges": [],
        "deepnote_cell_type": "text-cell-p",
        "id": "LHALmu8o9TBL"
      }
    },
    {
      "cell_type": "markdown",
      "source": [
        "23. Hands-On Guide to Time Series Analysis using Simple Exponential Smoothing in Python https://analyticsindiamag.com/hands-on-guide-to-time-series-analysis-using-simple-exponential-smoothing-in-python/"
      ],
      "metadata": {
        "cell_id": "ba09eb4096464d83bfcd7bcf99ae406f",
        "tags": [],
        "is_collapsed": false,
        "formattedRanges": [],
        "deepnote_cell_type": "text-cell-p",
        "id": "xTcH4ndx9TBM"
      }
    },
    {
      "cell_type": "markdown",
      "source": [
        "24. Time Series Prediction with LSTM Recurrent Neural Networks in Python with Keras https://machinelearningmastery.com/time-series-prediction-lstm-recurrent-neural-networks-python-keras/"
      ],
      "metadata": {
        "cell_id": "0512d0f1cd994a25b5cd0c4142078e19",
        "tags": [],
        "is_collapsed": false,
        "formattedRanges": [],
        "deepnote_cell_type": "text-cell-p",
        "id": "0WQPrPab9TBM"
      }
    },
    {
      "cell_type": "markdown",
      "source": [
        "25. Exploring the LSTM Neural Network Model for Time Series https://towardsdatascience.com/exploring-the-lstm-neural-network-model-for-time-series-8b7685aa8cf"
      ],
      "metadata": {
        "cell_id": "5810fade33a34c279a39afb7b0c5ef3a",
        "tags": [],
        "is_collapsed": false,
        "formattedRanges": [],
        "deepnote_cell_type": "text-cell-p",
        "id": "wLWkt9wn9TBM"
      }
    },
    {
      "cell_type": "markdown",
      "source": [
        "26. Complete Guide To Bidirectional LSTM (With Python Codes) https://analyticsindiamag.com/complete-guide-to-bidirectional-lstm-with-python-codes/ "
      ],
      "metadata": {
        "cell_id": "0a55b87b79054f3c9477f7eed60f73e2",
        "tags": [],
        "is_collapsed": false,
        "formattedRanges": [],
        "deepnote_cell_type": "text-cell-p",
        "id": "8vk9vN1P9TBM"
      }
    },
    {
      "cell_type": "markdown",
      "source": [],
      "metadata": {
        "cell_id": "a23cbcabb50e4f1fbb295f34eb2fdca9",
        "tags": [],
        "is_collapsed": false,
        "formattedRanges": [],
        "deepnote_cell_type": "text-cell-p",
        "id": "he4o4B4J9TBN"
      }
    },
    {
      "cell_type": "code",
      "source": [],
      "metadata": {
        "cell_id": "d4d5ab02b2434394b2d25a210a98318d",
        "tags": [],
        "deepnote_to_be_reexecuted": false,
        "source_hash": "b623e53d",
        "execution_start": 1657467541666,
        "execution_millis": 2,
        "deepnote_cell_type": "code",
        "deepnote_cell_height": 81,
        "id": "lO2n6CV49TBN"
      },
      "outputs": [],
      "execution_count": null
    },
    {
      "cell_type": "markdown",
      "source": [
        "<a style='text-decoration:none;line-height:16px;display:flex;color:#5B5B62;padding:10px;justify-content:end;' href='https://deepnote.com?utm_source=created-in-deepnote-cell&projectId=8c4be797-6ded-4ee5-84e8-c5f3044bd915' target=\"_blank\">\n",
        "<img alt='Created in deepnote.com' style='display:inline;max-height:16px;margin:0px;margin-right:7.5px;' src='data:image/svg+xml;base64,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' > </img>\n",
        "Created in <span style='font-weight:600;margin-left:4px;'>Deepnote</span></a>"
      ],
      "metadata": {
        "tags": [],
        "created_in_deepnote_cell": true,
        "deepnote_cell_type": "markdown",
        "id": "lcHMCJwc9TBO"
      }
    }
  ],
  "nbformat": 4,
  "nbformat_minor": 0,
  "metadata": {
    "orig_nbformat": 2,
    "deepnote": {},
    "deepnote_notebook_id": "5910aa95-dfcb-4bbf-9b18-76145adb1bb6",
    "deepnote_execution_queue": [],
    "colab": {
      "provenance": [],
      "collapsed_sections": [
        "KUHXIo059TAj",
        "TjHqY2eK9TAl",
        "gG9cx-PL9TAu",
        "bR4ohD8I9TA2",
        "Yp1V4MHl9TA4",
        "OpUeZg1B9TA6",
        "RuXcbewm9TA-",
        "1eoCbaPN9TA_",
        "_mdWUXQt9TBA",
        "ll83uLA69TBA",
        "N2b9v6nv9TBE",
        "GArFoSf79TBE"
      ],
      "include_colab_link": true
    }
  }
}